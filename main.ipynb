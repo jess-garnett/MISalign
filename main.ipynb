{
 "cells": [
  {
   "cell_type": "markdown",
   "metadata": {},
   "source": [
    "# Notebook For Running MISalign"
   ]
  },
  {
   "cell_type": "markdown",
   "metadata": {},
   "source": [
    "Included changes:\n",
    "- Updated model module\n",
    "    - offset > relations\n",
    "    - project > mis_file\n",
    "- TODO:\n",
    "    - ipympl user interface\n"
   ]
  },
  {
   "cell_type": "markdown",
   "metadata": {},
   "source": [
    "# First Time Setup"
   ]
  },
  {
   "cell_type": "markdown",
   "metadata": {},
   "source": [
    "## Select Image Files"
   ]
  },
  {
   "cell_type": "code",
   "execution_count": null,
   "metadata": {},
   "outputs": [],
   "source": [
    "from os import listdir\n",
    "from os.path import join\n",
    "# source of images\n",
    "\n",
    "###\n",
    "folder_path=r\"\"\n",
    "###\n",
    "\n",
    "# restricts to just files that match the ending you provide.\n",
    "###\n",
    "file_ending=\"tif\"#.tif files\n",
    "###\n",
    "file_names=[x for x in listdir(folder_path) if x.split(\".\")[1]==file_ending]\n",
    "print(file_names)\n",
    "# combines images with folder to get absolute path for each.\n",
    "file_paths=[join(folder_path,x) for x in file_names]\n",
    "print(file_paths)"
   ]
  },
  {
   "cell_type": "markdown",
   "metadata": {},
   "source": [
    "## Create mis_file from Image Paths"
   ]
  },
  {
   "cell_type": "code",
   "execution_count": null,
   "metadata": {},
   "outputs": [],
   "source": [
    "from MISalign.model.mis_file import MisFile,save_mis\n",
    "mis_project=MisFile(image_fps=file_paths)\n",
    "print(mis_project)\n",
    "###\n",
    "mis_fp=join(folder_path,\"mymis.mis\")\n",
    "###\n",
    "save_mis(mis_fp,mis_project)"
   ]
  },
  {
   "cell_type": "code",
   "execution_count": null,
   "metadata": {},
   "outputs": [],
   "source": [
    "#TODO load mis from file\n",
    "#TODO tbd"
   ]
  }
 ],
 "metadata": {
  "kernelspec": {
   "display_name": ".venv",
   "language": "python",
   "name": "python3"
  },
  "language_info": {
   "codemirror_mode": {
    "name": "ipython",
    "version": 3
   },
   "file_extension": ".py",
   "mimetype": "text/x-python",
   "name": "python",
   "nbconvert_exporter": "python",
   "pygments_lexer": "ipython3",
   "version": "3.10.8"
  }
 },
 "nbformat": 4,
 "nbformat_minor": 2
}

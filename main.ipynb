{
 "cells": [
  {
   "cell_type": "markdown",
   "metadata": {},
   "source": [
    "# Notebook For Running MISalign"
   ]
  },
  {
   "cell_type": "markdown",
   "metadata": {},
   "source": [
    "Included changes:\n",
    "- Updated model module\n",
    "    - offset > relations\n",
    "    - project > mis_file\n",
    "- TODO:\n",
    "    - ipympl user interface\n"
   ]
  },
  {
   "cell_type": "markdown",
   "metadata": {},
   "source": [
    "# First Time Setup"
   ]
  },
  {
   "cell_type": "markdown",
   "metadata": {},
   "source": [
    "## Select Image Files"
   ]
  },
  {
   "cell_type": "code",
   "execution_count": 1,
   "metadata": {},
   "outputs": [
    {
     "name": "stdout",
     "output_type": "stream",
     "text": [
      "['a_myimages01.jpg', 'a_myimages02.jpg', 'a_myimages03.jpg', 'a_myimages04.jpg', 'a_myimages05.jpg', 'a_myimages06.jpg', 'a_myimages07.jpg', 'a_myimages08.jpg', 'a_myimages09.jpg', 'a_myimages10.jpg']\n",
      "['example\\\\data\\\\set_a\\\\a_myimages01.jpg', 'example\\\\data\\\\set_a\\\\a_myimages02.jpg', 'example\\\\data\\\\set_a\\\\a_myimages03.jpg', 'example\\\\data\\\\set_a\\\\a_myimages04.jpg', 'example\\\\data\\\\set_a\\\\a_myimages05.jpg', 'example\\\\data\\\\set_a\\\\a_myimages06.jpg', 'example\\\\data\\\\set_a\\\\a_myimages07.jpg', 'example\\\\data\\\\set_a\\\\a_myimages08.jpg', 'example\\\\data\\\\set_a\\\\a_myimages09.jpg', 'example\\\\data\\\\set_a\\\\a_myimages10.jpg']\n"
     ]
    }
   ],
   "source": [
    "from os import listdir\n",
    "from os.path import join\n",
    "# source of images\n",
    "\n",
    "###\n",
    "folder_path=r\"example\\data\\set_a\"\n",
    "###\n",
    "\n",
    "# restricts to just files that match the ending you provide.\n",
    "###\n",
    "file_ending=\"jpg\"#.tif files\n",
    "###\n",
    "file_names=[x for x in listdir(folder_path) if x.split(\".\")[1]==file_ending]\n",
    "print(file_names)\n",
    "# combines images with folder to get absolute path for each.\n",
    "file_paths=[join(folder_path,x) for x in file_names]\n",
    "print(file_paths)"
   ]
  },
  {
   "cell_type": "markdown",
   "metadata": {},
   "source": [
    "## Create mis_file from Image Paths"
   ]
  },
  {
   "cell_type": "code",
   "execution_count": 2,
   "metadata": {},
   "outputs": [
    {
     "name": "stdout",
     "output_type": "stream",
     "text": [
      "A MISalign project with:[['example\\\\data\\\\set_a\\\\a_myimages01.jpg', 'example\\\\data\\\\set_a\\\\a_myimages02.jpg', 'example\\\\data\\\\set_a\\\\a_myimages03.jpg', 'example\\\\data\\\\set_a\\\\a_myimages04.jpg', 'example\\\\data\\\\set_a\\\\a_myimages05.jpg', 'example\\\\data\\\\set_a\\\\a_myimages06.jpg', 'example\\\\data\\\\set_a\\\\a_myimages07.jpg', 'example\\\\data\\\\set_a\\\\a_myimages08.jpg', 'example\\\\data\\\\set_a\\\\a_myimages09.jpg', 'example\\\\data\\\\set_a\\\\a_myimages10.jpg'], None, None]\n"
     ]
    }
   ],
   "source": [
    "from MISalign.model.mis_file import MisFile,save_mis\n",
    "mis_project=MisFile(image_fps=file_paths)\n",
    "print(mis_project)\n",
    "###\n",
    "mis_fp=join(folder_path,\"mymis.mis\")\n",
    "###\n",
    "save_mis(mis_fp,mis_project)"
   ]
  },
  {
   "cell_type": "code",
   "execution_count": null,
   "metadata": {},
   "outputs": [],
   "source": [
    "#TODO load mis from file\n",
    "#TODO tbd"
   ]
  },
  {
   "cell_type": "code",
   "execution_count": 3,
   "metadata": {},
   "outputs": [
    {
     "data": {
      "application/vnd.jupyter.widget-view+json": {
       "model_id": "018df5547bb843219c04ec7316ca7ecb",
       "version_major": 2,
       "version_minor": 0
      },
      "image/png": "[encoded data removed]",
      "text/html": [
       "\n",
       "            <div style=\"display: inline-block;\">\n",
       "                <div class=\"jupyter-widgets widget-label\" style=\"text-align: center;\">\n",
       "                    Figure\n",
       "                </div>\n",
       "                <img src='data:image/png;base64,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' width=640.0/>\n",
       "            </div>\n",
       "        "
      ],
      "text/plain": [
       "Canvas(footer_visible=False, header_visible=False, toolbar=Toolbar(toolitems=[('Home', 'Reset original view', …"
      ]
     },
     "metadata": {},
     "output_type": "display_data"
    }
   ],
   "source": [
    "from MISalign.alignment.interactive_manual import InteractiveManualRelation\n",
    "from MISalign.model.image import Image\n",
    "%matplotlib widget\n",
    "imr=InteractiveManualRelation()\n",
    "i=0\n",
    "ia=Image(mis_project.image_fps[i])\n",
    "ib=Image(mis_project.image_fps[i+1])\n",
    "imr.change(ia,ib)\n",
    "imr.relate()"
   ]
  },
  {
   "cell_type": "code",
   "execution_count": 19,
   "metadata": {},
   "outputs": [],
   "source": [
    "imr.relate_resolve()\n",
    "imr.plot_points()"
   ]
  },
  {
   "cell_type": "code",
   "execution_count": 20,
   "metadata": {},
   "outputs": [
    {
     "ename": "IndexError",
     "evalue": "list index out of range",
     "output_type": "error",
     "traceback": [
      "\u001b[1;31m---------------------------------------------------------------------------\u001b[0m",
      "\u001b[1;31mIndexError\u001b[0m                                Traceback (most recent call last)",
      "Cell \u001b[1;32mIn[20], line 3\u001b[0m\n\u001b[0;32m      1\u001b[0m i\u001b[38;5;241m+\u001b[39m\u001b[38;5;241m=\u001b[39m\u001b[38;5;241m1\u001b[39m\n\u001b[0;32m      2\u001b[0m ia\u001b[38;5;241m=\u001b[39mImage(mis_project\u001b[38;5;241m.\u001b[39mimage_fps[i])\n\u001b[1;32m----> 3\u001b[0m ib\u001b[38;5;241m=\u001b[39mImage(\u001b[43mmis_project\u001b[49m\u001b[38;5;241;43m.\u001b[39;49m\u001b[43mimage_fps\u001b[49m\u001b[43m[\u001b[49m\u001b[43mi\u001b[49m\u001b[38;5;241;43m+\u001b[39;49m\u001b[38;5;241;43m1\u001b[39;49m\u001b[43m]\u001b[49m)\n\u001b[0;32m      4\u001b[0m imr\u001b[38;5;241m.\u001b[39mchange(ia,ib)\n\u001b[0;32m      5\u001b[0m imr\u001b[38;5;241m.\u001b[39mrelate()\n",
      "\u001b[1;31mIndexError\u001b[0m: list index out of range"
     ]
    }
   ],
   "source": [
    "i+=1\n",
    "ia=Image(mis_project.image_fps[i])\n",
    "ib=Image(mis_project.image_fps[i+1])\n",
    "imr.change(ia,ib)\n",
    "imr.relate()"
   ]
  }
 ],
 "metadata": {
  "kernelspec": {
   "display_name": ".venv",
   "language": "python",
   "name": "python3"
  },
  "language_info": {
   "codemirror_mode": {
    "name": "ipython",
    "version": 3
   },
   "file_extension": ".py",
   "mimetype": "text/x-python",
   "name": "python",
   "nbconvert_exporter": "python",
   "pygments_lexer": "ipython3",
   "version": "3.10.8"
  }
 },
 "nbformat": 4,
 "nbformat_minor": 2
}

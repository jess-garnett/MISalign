{
 "cells": [
  {
   "cell_type": "code",
   "execution_count": 2,
   "metadata": {},
   "outputs": [],
   "source": [
    "from os.path import abspath\n",
    "from sys import path\n",
    "path.insert(0, abspath(\"../..\"))  # Repository directory relative to this file.\n",
    "from MISalign.model.mis_file import load_mis\n",
    "from MISalign.model.relation import Relation"
   ]
  },
  {
   "cell_type": "code",
   "execution_count": null,
   "metadata": {},
   "outputs": [],
   "source": [
    "mis_project=load_mis(r\"..\\..\\example\\data\\set_b\\set_b2.mis\")\n",
    "relations=mis_project.get_rels()\n",
    "relations_rect=mis_project.get_rels('r')\n",
    "relations_pts=mis_project.get_rels('p')\n",
    "image_paths=mis_project.get_image_paths()"
   ]
  },
  {
   "cell_type": "code",
   "execution_count": 17,
   "metadata": {},
   "outputs": [
    {
     "name": "stdout",
     "output_type": "stream",
     "text": [
      "0 ('b_img_1.tif', 'b_img_2.tif')\n",
      "[('b_img_1.tif', 'b_img_2.tif'), (-10, -501)]\n",
      "[('b_img_1.tif', 'b_img_2.tif'), [[[1301, 791], [1293, 294]], [[1297, 593], [1285, 92]], [[854, 962], [842, 457]]]]\n",
      "c:\\Users\\drago\\Documents\\git_gh\\MISalign\\example\\data\\set_b\\b_img_1.tif c:\\Users\\drago\\Documents\\git_gh\\MISalign\\example\\data\\set_b\\b_img_2.tif\n",
      "\n",
      "1 ('b_img_2.tif', 'b_img_3.tif')\n",
      "[('b_img_2.tif', 'b_img_3.tif'), (-851, -8)]\n",
      "[('b_img_2.tif', 'b_img_3.tif'), [[[1293, 290], [442, 282]]]]\n",
      "c:\\Users\\drago\\Documents\\git_gh\\MISalign\\example\\data\\set_b\\b_img_2.tif c:\\Users\\drago\\Documents\\git_gh\\MISalign\\example\\data\\set_b\\b_img_3.tif\n",
      "\n",
      "2 ('b_img_3.tif', 'b_img_4.tif')\n",
      "[('b_img_3.tif', 'b_img_4.tif'), (-303, -842)]\n",
      "[('b_img_3.tif', 'b_img_4.tif'), [[[1456, 1156], [1149, 313]], [[1475, 1133], [1173, 286]], [[1495, 1144], [1192, 301]], [[1584, 1098], [1281, 263]]]]\n",
      "c:\\Users\\drago\\Documents\\git_gh\\MISalign\\example\\data\\set_b\\b_img_3.tif c:\\Users\\drago\\Documents\\git_gh\\MISalign\\example\\data\\set_b\\b_img_4.tif\n",
      "\n",
      "3 ('b_img_5.tif', 'b_img_6.tif')\n",
      "[('b_img_5.tif', 'b_img_6.tif'), (-330, -837)]\n",
      "[('b_img_5.tif', 'b_img_6.tif'), [[[536, 1121], [209, 286]], [[1099, 1000], [765, 158]], [[1495, 1152], [1165, 317]]]]\n",
      "c:\\Users\\drago\\Documents\\git_gh\\MISalign\\example\\data\\set_b\\b_img_5.tif c:\\Users\\drago\\Documents\\git_gh\\MISalign\\example\\data\\set_b\\b_img_6.tif\n",
      "\n",
      "4 ('b_img_1.tif', 'b_img_6.tif')\n",
      "[('b_img_1.tif', 'b_img_6.tif'), (162, -491)]\n",
      "[('b_img_1.tif', 'b_img_6.tif'), [[[1305, 787], [1464, 298]], [[1289, 566], [1452, 84]], [[854, 958], [1017, 468]], [[835, 946], [994, 449]], [[1188, 1059], [1351, 566]], [[811, 632], [967, 134]], [[365, 647], [536, 158]]]]\n",
      "c:\\Users\\drago\\Documents\\git_gh\\MISalign\\example\\data\\set_b\\b_img_1.tif c:\\Users\\drago\\Documents\\git_gh\\MISalign\\example\\data\\set_b\\b_img_6.tif\n",
      "\n",
      "5 ('b_img_3.tif', 'b_img_4.tif')\n",
      "[('b_img_3.tif', 'b_img_4.tif'), (-315, -741)]\n",
      "[('b_img_3.tif', 'b_img_4.tif'), [[[1464, 938], [1149, 197]]]]\n",
      "c:\\Users\\drago\\Documents\\git_gh\\MISalign\\example\\data\\set_b\\b_img_3.tif c:\\Users\\drago\\Documents\\git_gh\\MISalign\\example\\data\\set_b\\b_img_4.tif\n",
      "\n",
      "6 ('b_img_6.tif', 'b_img_3.tif')\n",
      "[('b_img_6.tif', 'b_img_3.tif'), (-1053, 12)]\n",
      "[('b_img_6.tif', 'b_img_3.tif'), [[[1456, 333], [439, 309]], [[1355, 562], [318, 546]], [[1347, 822], [240, 899]]]]\n",
      "c:\\Users\\drago\\Documents\\git_gh\\MISalign\\example\\data\\set_b\\b_img_6.tif c:\\Users\\drago\\Documents\\git_gh\\MISalign\\example\\data\\set_b\\b_img_3.tif\n",
      "\n",
      "7 ('b_img_5.tif', 'b_img_1.tif')\n",
      "[('b_img_5.tif', 'b_img_1.tif'), (-489, 35)]\n",
      "[('b_img_5.tif', 'b_img_1.tif'), [[[1095, 274], [606, 309]]]]\n",
      "c:\\Users\\drago\\Documents\\git_gh\\MISalign\\example\\data\\set_b\\b_img_5.tif c:\\Users\\drago\\Documents\\git_gh\\MISalign\\example\\data\\set_b\\b_img_1.tif\n",
      "\n",
      "8 ('b_img_5.tif', 'b_img_1.tif')\n",
      "[('b_img_5.tif', 'b_img_1.tif'), (-440, -234)]\n",
      "[('b_img_5.tif', 'b_img_1.tif'), [[[1095, 659], [598, 309]], [[613, 527], [182, 325]], [[664, 647], [272, 496]]]]\n",
      "c:\\Users\\drago\\Documents\\git_gh\\MISalign\\example\\data\\set_b\\b_img_5.tif c:\\Users\\drago\\Documents\\git_gh\\MISalign\\example\\data\\set_b\\b_img_1.tif\n",
      "\n"
     ]
    }
   ],
   "source": [
    "for i,rel in enumerate(relations):\n",
    "    print(i,rel)\n",
    "    print(relations_rect[i])\n",
    "    print(relations_pts[i])\n",
    "    print(image_paths[rel[0]],image_paths[rel[1]])\n",
    "    print()"
   ]
  }
 ],
 "metadata": {
  "kernelspec": {
   "display_name": ".venv",
   "language": "python",
   "name": "python3"
  },
  "language_info": {
   "codemirror_mode": {
    "name": "ipython",
    "version": 3
   },
   "file_extension": ".py",
   "mimetype": "text/x-python",
   "name": "python",
   "nbconvert_exporter": "python",
   "pygments_lexer": "ipython3",
   "version": "3.10.8"
  }
 },
 "nbformat": 4,
 "nbformat_minor": 2
}

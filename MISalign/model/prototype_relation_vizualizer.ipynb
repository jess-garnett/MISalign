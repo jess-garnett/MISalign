{
 "cells": [
  {
   "cell_type": "code",
   "execution_count": 2,
   "metadata": {},
   "outputs": [],
   "source": [
    "from os.path import abspath\n",
    "from sys import path\n",
    "path.insert(0, abspath(\"../..\"))  # Repository directory relative to this file.\n",
    "from MISalign.model.mis_file import load_mis\n",
    "from MISalign.model.relation import Relation"
   ]
  },
  {
   "cell_type": "code",
   "execution_count": 11,
   "metadata": {},
   "outputs": [],
   "source": [
    "mis_project=load_mis(r\"..\\..\\example\\data\\set_b\\set_B2.mis\")\n",
    "relations=mis_project.get_rels()\n",
    "relations_rect=mis_project.get_rels('r')\n",
    "relations_pts=mis_project.get_rels('p')\n",
    "image_paths=mis_project.get_image_paths()"
   ]
  },
  {
   "cell_type": "code",
   "execution_count": 14,
   "metadata": {},
   "outputs": [
    {
     "data": {
      "text/plain": [
       "[[('b_img_1.tif', 'b_img_2.tif'),\n",
       "  [[[1301, 791], [1293, 294]],\n",
       "   [[1297, 593], [1285, 92]],\n",
       "   [[854, 962], [842, 457]]]],\n",
       " [('b_img_2.tif', 'b_img_3.tif'), [[[1293, 290], [442, 282]]]],\n",
       " [('b_img_3.tif', 'b_img_4.tif'),\n",
       "  [[[1456, 1156], [1149, 313]],\n",
       "   [[1475, 1133], [1173, 286]],\n",
       "   [[1495, 1144], [1192, 301]],\n",
       "   [[1584, 1098], [1281, 263]]]],\n",
       " [('b_img_5.tif', 'b_img_6.tif'),\n",
       "  [[[536, 1121], [209, 286]],\n",
       "   [[1099, 1000], [765, 158]],\n",
       "   [[1495, 1152], [1165, 317]]]],\n",
       " [('b_img_1.tif', 'b_img_6.tif'),\n",
       "  [[[1305, 787], [1464, 298]],\n",
       "   [[1289, 566], [1452, 84]],\n",
       "   [[854, 958], [1017, 468]],\n",
       "   [[835, 946], [994, 449]],\n",
       "   [[1188, 1059], [1351, 566]],\n",
       "   [[811, 632], [967, 134]],\n",
       "   [[365, 647], [536, 158]]]],\n",
       " [('b_img_3.tif', 'b_img_4.tif'), [[[1464, 938], [1149, 197]]]],\n",
       " [('b_img_6.tif', 'b_img_3.tif'),\n",
       "  [[[1456, 333], [439, 309]],\n",
       "   [[1355, 562], [318, 546]],\n",
       "   [[1347, 822], [240, 899]]]],\n",
       " [('b_img_5.tif', 'b_img_1.tif'), [[[1095, 274], [606, 309]]]],\n",
       " [('b_img_5.tif', 'b_img_1.tif'),\n",
       "  [[[1095, 659], [598, 309]],\n",
       "   [[613, 527], [182, 325]],\n",
       "   [[664, 647], [272, 496]]]]]"
      ]
     },
     "execution_count": 14,
     "metadata": {},
     "output_type": "execute_result"
    }
   ],
   "source": [
    "relations_pts"
   ]
  }
 ],
 "metadata": {
  "kernelspec": {
   "display_name": ".venv",
   "language": "python",
   "name": "python3"
  },
  "language_info": {
   "codemirror_mode": {
    "name": "ipython",
    "version": 3
   },
   "file_extension": ".py",
   "mimetype": "text/x-python",
   "name": "python",
   "nbconvert_exporter": "python",
   "pygments_lexer": "ipython3",
   "version": "3.10.8"
  }
 },
 "nbformat": 4,
 "nbformat_minor": 2
}

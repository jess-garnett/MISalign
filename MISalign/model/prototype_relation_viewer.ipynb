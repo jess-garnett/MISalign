{
 "cells": [
  {
   "cell_type": "markdown",
   "metadata": {},
   "source": [
    "# Relation Viewer Prototype\n",
    "Purpose: Explore options for viewing relations"
   ]
  },
  {
   "cell_type": "code",
   "execution_count": 1,
   "metadata": {},
   "outputs": [],
   "source": [
    "import sys\n",
    "import os\n",
    "sys.path.insert(0, os.path.abspath(\"../..\"))  # Repository directory relative to this file.\n",
    "from MISalign.model.relation import Relation"
   ]
  },
  {
   "cell_type": "code",
   "execution_count": 4,
   "metadata": {},
   "outputs": [
    {
     "data": {
      "text/plain": [
       "[('img_a', 'img_b'),\n",
       " ('img_b', 'img_c'),\n",
       " ('img_c', 'img_d'),\n",
       " ('img_a', 'img_e'),\n",
       " ('img_e', 'img_f')]"
      ]
     },
     "metadata": {},
     "output_type": "display_data"
    }
   ],
   "source": [
    "#setup test data 1\n",
    "#basic split data set \n",
    "image_fps=['img_a','img_b','img_c','img_d','img_e','img_f']\n",
    "rel1=[\n",
    "    Relation('img_a','img_b'),\n",
    "    Relation('img_b','img_c'),\n",
    "    Relation('img_c','img_d'),\n",
    "    Relation('img_a','img_e'),\n",
    "    Relation('img_e','img_f')\n",
    "]\n",
    "display([x.ref for x in rel1])"
   ]
  },
  {
   "cell_type": "code",
   "execution_count": 9,
   "metadata": {},
   "outputs": [
    {
     "name": "stdout",
     "output_type": "stream",
     "text": [
      "Collecting networkx[default]\n",
      "  Downloading networkx-3.1-py3-none-any.whl (2.1 MB)\n",
      "     ---------------------------------------- 0.0/2.1 MB ? eta -:--:--\n",
      "     ------- -------------------------------- 0.4/2.1 MB 11.6 MB/s eta 0:00:01\n",
      "     -------------- ------------------------- 0.8/2.1 MB 9.7 MB/s eta 0:00:01\n",
      "     ------------------------- -------------- 1.3/2.1 MB 10.5 MB/s eta 0:00:01\n",
      "     -------------------------------------- - 2.0/2.1 MB 11.4 MB/s eta 0:00:01\n",
      "     ---------------------------------------- 2.1/2.1 MB 11.0 MB/s eta 0:00:00\n",
      "Requirement already satisfied: numpy>=1.20 in c:\\users\\drago\\documents\\misaligned\\misalign_public\\.venv\\lib\\site-packages (from networkx[default]) (1.26.0)\n",
      "Collecting scipy>=1.8 (from networkx[default])\n",
      "  Obtaining dependency information for scipy>=1.8 from https://files.pythonhosted.org/packages/3a/98/3041681b3a0fef0f59033861a05d846aa1d284b07b531ce35b1b97cc2e93/scipy-1.11.3-cp310-cp310-win_amd64.whl.metadata\n",
      "  Downloading scipy-1.11.3-cp310-cp310-win_amd64.whl.metadata (60 kB)\n",
      "     ---------------------------------------- 0.0/60.4 kB ? eta -:--:--\n",
      "     ---------------------------------------- 60.4/60.4 kB ? eta 0:00:00\n",
      "Collecting matplotlib>=3.4 (from networkx[default])\n",
      "  Obtaining dependency information for matplotlib>=3.4 from https://files.pythonhosted.org/packages/7a/94/a1615bac6706eb8a58fe08675b80a11b5463ef9591176dd3e57257495774/matplotlib-3.8.0-cp310-cp310-win_amd64.whl.metadata\n",
      "  Downloading matplotlib-3.8.0-cp310-cp310-win_amd64.whl.metadata (5.9 kB)\n",
      "Collecting pandas>=1.3 (from networkx[default])\n",
      "  Obtaining dependency information for pandas>=1.3 from https://files.pythonhosted.org/packages/ce/cd/a7c2cbffe2afff975349e60b14b63a448162145a7acac8ba12ddc2ed78a8/pandas-2.1.1-cp310-cp310-win_amd64.whl.metadata\n",
      "  Downloading pandas-2.1.1-cp310-cp310-win_amd64.whl.metadata (18 kB)\n",
      "Collecting contourpy>=1.0.1 (from matplotlib>=3.4->networkx[default])\n",
      "  Obtaining dependency information for contourpy>=1.0.1 from https://files.pythonhosted.org/packages/55/14/0dc1884e3c04f9b073a47283f5d424926644250891db392a07c56f05e5c5/contourpy-1.1.1-cp310-cp310-win_amd64.whl.metadata\n",
      "  Downloading contourpy-1.1.1-cp310-cp310-win_amd64.whl.metadata (5.9 kB)\n",
      "Collecting cycler>=0.10 (from matplotlib>=3.4->networkx[default])\n",
      "  Obtaining dependency information for cycler>=0.10 from https://files.pythonhosted.org/packages/2b/b3/70c33027c4918c10ccf176014b38f8b91cb18ac018a78854543a4fc72609/cycler-0.12.0-py3-none-any.whl.metadata\n",
      "  Downloading cycler-0.12.0-py3-none-any.whl.metadata (3.8 kB)\n",
      "Collecting fonttools>=4.22.0 (from matplotlib>=3.4->networkx[default])\n",
      "  Obtaining dependency information for fonttools>=4.22.0 from https://files.pythonhosted.org/packages/62/a9/3d69ec0b1ec02829af67afe378576ad58257004d157d0a70ac29f7cf9a67/fonttools-4.43.0-cp310-cp310-win_amd64.whl.metadata\n",
      "  Downloading fonttools-4.43.0-cp310-cp310-win_amd64.whl.metadata (154 kB)\n",
      "     ---------------------------------------- 0.0/155.0 kB ? eta -:--:--\n",
      "     ---------------------------------------- 155.0/155.0 kB ? eta 0:00:00\n",
      "Collecting kiwisolver>=1.0.1 (from matplotlib>=3.4->networkx[default])\n",
      "  Obtaining dependency information for kiwisolver>=1.0.1 from https://files.pythonhosted.org/packages/4a/a1/8a9c9be45c642fa12954855d8b3a02d9fd8551165a558835a19508fec2e6/kiwisolver-1.4.5-cp310-cp310-win_amd64.whl.metadata\n",
      "  Using cached kiwisolver-1.4.5-cp310-cp310-win_amd64.whl.metadata (6.5 kB)\n",
      "Requirement already satisfied: packaging>=20.0 in c:\\users\\drago\\documents\\misaligned\\misalign_public\\.venv\\lib\\site-packages (from matplotlib>=3.4->networkx[default]) (23.1)\n",
      "Requirement already satisfied: pillow>=6.2.0 in c:\\users\\drago\\documents\\misaligned\\misalign_public\\.venv\\lib\\site-packages (from matplotlib>=3.4->networkx[default]) (10.0.1)\n",
      "Collecting pyparsing>=2.3.1 (from matplotlib>=3.4->networkx[default])\n",
      "  Obtaining dependency information for pyparsing>=2.3.1 from https://files.pythonhosted.org/packages/39/92/8486ede85fcc088f1b3dba4ce92dd29d126fd96b0008ea213167940a2475/pyparsing-3.1.1-py3-none-any.whl.metadata\n",
      "  Downloading pyparsing-3.1.1-py3-none-any.whl.metadata (5.1 kB)\n",
      "Requirement already satisfied: python-dateutil>=2.7 in c:\\users\\drago\\documents\\misaligned\\misalign_public\\.venv\\lib\\site-packages (from matplotlib>=3.4->networkx[default]) (2.8.2)\n",
      "Collecting pytz>=2020.1 (from pandas>=1.3->networkx[default])\n",
      "  Obtaining dependency information for pytz>=2020.1 from https://files.pythonhosted.org/packages/32/4d/aaf7eff5deb402fd9a24a1449a8119f00d74ae9c2efa79f8ef9994261fc2/pytz-2023.3.post1-py2.py3-none-any.whl.metadata\n",
      "  Using cached pytz-2023.3.post1-py2.py3-none-any.whl.metadata (22 kB)\n",
      "Collecting tzdata>=2022.1 (from pandas>=1.3->networkx[default])\n",
      "  Using cached tzdata-2023.3-py2.py3-none-any.whl (341 kB)\n",
      "Requirement already satisfied: six>=1.5 in c:\\users\\drago\\documents\\misaligned\\misalign_public\\.venv\\lib\\site-packages (from python-dateutil>=2.7->matplotlib>=3.4->networkx[default]) (1.16.0)\n",
      "Downloading matplotlib-3.8.0-cp310-cp310-win_amd64.whl (7.6 MB)\n",
      "   ---------------------------------------- 0.0/7.6 MB ? eta -:--:--\n",
      "   -- ------------------------------------- 0.5/7.6 MB 10.7 MB/s eta 0:00:01\n",
      "   ----- ---------------------------------- 1.1/7.6 MB 13.7 MB/s eta 0:00:01\n",
      "   -------- ------------------------------- 1.7/7.6 MB 13.6 MB/s eta 0:00:01\n",
      "   ------------ --------------------------- 2.4/7.6 MB 15.1 MB/s eta 0:00:01\n",
      "   --------------- ------------------------ 3.1/7.6 MB 15.0 MB/s eta 0:00:01\n",
      "   ------------------- -------------------- 3.6/7.6 MB 15.5 MB/s eta 0:00:01\n",
      "   ---------------------- ----------------- 4.4/7.6 MB 15.6 MB/s eta 0:00:01\n",
      "   ------------------------- -------------- 5.0/7.6 MB 15.9 MB/s eta 0:00:01\n",
      "   ----------------------------- ---------- 5.7/7.6 MB 15.9 MB/s eta 0:00:01\n",
      "   --------------------------------- ------ 6.5/7.6 MB 15.9 MB/s eta 0:00:01\n",
      "   ------------------------------------- -- 7.1/7.6 MB 16.3 MB/s eta 0:00:01\n",
      "   ---------------------------------------  7.5/7.6 MB 16.0 MB/s eta 0:00:01\n",
      "   ---------------------------------------- 7.6/7.6 MB 14.8 MB/s eta 0:00:00\n",
      "Downloading pandas-2.1.1-cp310-cp310-win_amd64.whl (10.7 MB)\n",
      "   ---------------------------------------- 0.0/10.7 MB ? eta -:--:--\n",
      "   -- ------------------------------------- 0.8/10.7 MB 15.9 MB/s eta 0:00:01\n",
      "   ----- ---------------------------------- 1.5/10.7 MB 19.3 MB/s eta 0:00:01\n",
      "   -------- ------------------------------- 2.3/10.7 MB 18.3 MB/s eta 0:00:01\n",
      "   ----------- ---------------------------- 3.1/10.7 MB 17.7 MB/s eta 0:00:01\n",
      "   -------------- ------------------------- 3.8/10.7 MB 18.7 MB/s eta 0:00:01\n",
      "   ----------------- ---------------------- 4.5/10.7 MB 18.1 MB/s eta 0:00:01\n",
      "   ------------------- -------------------- 5.1/10.7 MB 17.1 MB/s eta 0:00:01\n",
      "   --------------------- ------------------ 5.7/10.7 MB 17.5 MB/s eta 0:00:01\n",
      "   ----------------------- ---------------- 6.4/10.7 MB 17.0 MB/s eta 0:00:01\n",
      "   ------------------------- -------------- 6.9/10.7 MB 16.4 MB/s eta 0:00:01\n",
      "   --------------------------- ------------ 7.4/10.7 MB 16.2 MB/s eta 0:00:01\n",
      "   ----------------------------- ---------- 7.8/10.7 MB 15.5 MB/s eta 0:00:01\n",
      "   ------------------------------- -------- 8.4/10.7 MB 14.9 MB/s eta 0:00:01\n",
      "   --------------------------------- ------ 9.0/10.7 MB 15.1 MB/s eta 0:00:01\n",
      "   ------------------------------------ --- 9.7/10.7 MB 15.1 MB/s eta 0:00:01\n",
      "   -------------------------------------- - 10.4/10.7 MB 15.2 MB/s eta 0:00:01\n",
      "   ---------------------------------------- 10.7/10.7 MB 14.9 MB/s eta 0:00:00\n",
      "Downloading scipy-1.11.3-cp310-cp310-win_amd64.whl (44.1 MB)\n",
      "   ---------------------------------------- 0.0/44.1 MB ? eta -:--:--\n",
      "   ---------------------------------------- 0.4/44.1 MB 12.2 MB/s eta 0:00:04\n",
      "   - -------------------------------------- 1.1/44.1 MB 14.6 MB/s eta 0:00:03\n",
      "   - -------------------------------------- 1.7/44.1 MB 13.7 MB/s eta 0:00:04\n",
      "   -- ------------------------------------- 2.4/44.1 MB 13.7 MB/s eta 0:00:04\n",
      "   -- ------------------------------------- 3.0/44.1 MB 14.7 MB/s eta 0:00:03\n",
      "   --- ------------------------------------ 3.5/44.1 MB 14.1 MB/s eta 0:00:03\n",
      "   --- ------------------------------------ 4.1/44.1 MB 14.5 MB/s eta 0:00:03\n",
      "   ---- ----------------------------------- 5.0/44.1 MB 15.3 MB/s eta 0:00:03\n",
      "   ----- ---------------------------------- 5.6/44.1 MB 14.9 MB/s eta 0:00:03\n",
      "   ----- ---------------------------------- 6.2/44.1 MB 14.7 MB/s eta 0:00:03\n",
      "   ------ --------------------------------- 7.0/44.1 MB 14.9 MB/s eta 0:00:03\n",
      "   ------ --------------------------------- 7.6/44.1 MB 15.2 MB/s eta 0:00:03\n",
      "   ------- -------------------------------- 8.4/44.1 MB 15.4 MB/s eta 0:00:03\n",
      "   -------- ------------------------------- 9.1/44.1 MB 15.4 MB/s eta 0:00:03\n",
      "   -------- ------------------------------- 9.7/44.1 MB 15.1 MB/s eta 0:00:03\n",
      "   --------- ------------------------------ 10.5/44.1 MB 15.2 MB/s eta 0:00:03\n",
      "   ---------- ----------------------------- 11.1/44.1 MB 15.6 MB/s eta 0:00:03\n",
      "   ---------- ----------------------------- 11.9/44.1 MB 16.0 MB/s eta 0:00:03\n",
      "   ----------- ---------------------------- 12.7/44.1 MB 16.0 MB/s eta 0:00:02\n",
      "   ------------ --------------------------- 13.4/44.1 MB 16.4 MB/s eta 0:00:02\n",
      "   ------------ --------------------------- 14.3/44.1 MB 16.4 MB/s eta 0:00:02\n",
      "   ------------- -------------------------- 14.9/44.1 MB 16.4 MB/s eta 0:00:02\n",
      "   -------------- ------------------------- 15.5/44.1 MB 16.0 MB/s eta 0:00:02\n",
      "   -------------- ------------------------- 15.9/44.1 MB 16.4 MB/s eta 0:00:02\n",
      "   -------------- ------------------------- 16.3/44.1 MB 15.6 MB/s eta 0:00:02\n",
      "   --------------- ------------------------ 16.7/44.1 MB 15.6 MB/s eta 0:00:02\n",
      "   --------------- ------------------------ 17.3/44.1 MB 15.2 MB/s eta 0:00:02\n",
      "   ---------------- ----------------------- 17.8/44.1 MB 14.9 MB/s eta 0:00:02\n",
      "   ---------------- ----------------------- 18.4/44.1 MB 14.5 MB/s eta 0:00:02\n",
      "   ----------------- ---------------------- 18.8/44.1 MB 14.6 MB/s eta 0:00:02\n",
      "   ----------------- ---------------------- 19.3/44.1 MB 14.2 MB/s eta 0:00:02\n",
      "   ----------------- ---------------------- 19.8/44.1 MB 14.2 MB/s eta 0:00:02\n",
      "   ------------------ --------------------- 20.3/44.1 MB 13.9 MB/s eta 0:00:02\n",
      "   ------------------- -------------------- 21.0/44.1 MB 13.9 MB/s eta 0:00:02\n",
      "   ------------------- -------------------- 21.4/44.1 MB 13.6 MB/s eta 0:00:02\n",
      "   ------------------- -------------------- 21.8/44.1 MB 13.6 MB/s eta 0:00:02\n",
      "   -------------------- ------------------- 22.3/44.1 MB 13.4 MB/s eta 0:00:02\n",
      "   -------------------- ------------------- 22.5/44.1 MB 13.1 MB/s eta 0:00:02\n",
      "   -------------------- ------------------- 22.8/44.1 MB 12.6 MB/s eta 0:00:02\n",
      "   --------------------- ------------------ 23.3/44.1 MB 12.4 MB/s eta 0:00:02\n",
      "   --------------------- ------------------ 23.7/44.1 MB 12.1 MB/s eta 0:00:02\n",
      "   --------------------- ------------------ 24.2/44.1 MB 11.9 MB/s eta 0:00:02\n",
      "   ---------------------- ----------------- 24.6/44.1 MB 11.7 MB/s eta 0:00:02\n",
      "   ---------------------- ----------------- 25.0/44.1 MB 11.5 MB/s eta 0:00:02\n",
      "   ----------------------- ---------------- 25.5/44.1 MB 11.3 MB/s eta 0:00:02\n",
      "   ----------------------- ---------------- 25.8/44.1 MB 11.1 MB/s eta 0:00:02\n",
      "   ----------------------- ---------------- 26.3/44.1 MB 11.3 MB/s eta 0:00:02\n",
      "   ------------------------ --------------- 26.9/44.1 MB 11.3 MB/s eta 0:00:02\n",
      "   ------------------------ --------------- 27.3/44.1 MB 11.3 MB/s eta 0:00:02\n",
      "   ------------------------- -------------- 27.8/44.1 MB 11.3 MB/s eta 0:00:02\n",
      "   ------------------------- -------------- 28.1/44.1 MB 11.1 MB/s eta 0:00:02\n",
      "   ------------------------- -------------- 28.5/44.1 MB 10.7 MB/s eta 0:00:02\n",
      "   -------------------------- ------------- 28.9/44.1 MB 10.9 MB/s eta 0:00:02\n",
      "   -------------------------- ------------- 29.3/44.1 MB 10.7 MB/s eta 0:00:02\n",
      "   -------------------------- ------------- 29.6/44.1 MB 10.4 MB/s eta 0:00:02\n",
      "   --------------------------- ------------ 29.9/44.1 MB 10.2 MB/s eta 0:00:02\n",
      "   --------------------------- ------------ 30.3/44.1 MB 10.2 MB/s eta 0:00:02\n",
      "   --------------------------- ------------ 30.7/44.1 MB 10.2 MB/s eta 0:00:02\n",
      "   ---------------------------- ----------- 31.0/44.1 MB 9.9 MB/s eta 0:00:02\n",
      "   ---------------------------- ----------- 31.4/44.1 MB 9.8 MB/s eta 0:00:02\n",
      "   ---------------------------- ----------- 31.9/44.1 MB 9.9 MB/s eta 0:00:02\n",
      "   ----------------------------- ---------- 32.2/44.1 MB 9.6 MB/s eta 0:00:02\n",
      "   ----------------------------- ---------- 32.6/44.1 MB 9.8 MB/s eta 0:00:02\n",
      "   ----------------------------- ---------- 33.0/44.1 MB 9.9 MB/s eta 0:00:02\n",
      "   ------------------------------ --------- 33.3/44.1 MB 9.6 MB/s eta 0:00:02\n",
      "   ------------------------------ --------- 33.6/44.1 MB 9.6 MB/s eta 0:00:02\n",
      "   ------------------------------ --------- 34.1/44.1 MB 9.8 MB/s eta 0:00:02\n",
      "   ------------------------------- -------- 34.5/44.1 MB 9.6 MB/s eta 0:00:02\n",
      "   ------------------------------- -------- 34.8/44.1 MB 9.4 MB/s eta 0:00:01\n",
      "   ------------------------------- -------- 35.3/44.1 MB 9.5 MB/s eta 0:00:01\n",
      "   -------------------------------- ------- 35.7/44.1 MB 9.5 MB/s eta 0:00:01\n",
      "   -------------------------------- ------- 36.0/44.1 MB 9.4 MB/s eta 0:00:01\n",
      "   -------------------------------- ------- 36.4/44.1 MB 9.2 MB/s eta 0:00:01\n",
      "   --------------------------------- ------ 36.8/44.1 MB 9.2 MB/s eta 0:00:01\n",
      "   --------------------------------- ------ 37.1/44.1 MB 9.2 MB/s eta 0:00:01\n",
      "   ---------------------------------- ----- 37.6/44.1 MB 9.2 MB/s eta 0:00:01\n",
      "   ---------------------------------- ----- 38.0/44.1 MB 9.1 MB/s eta 0:00:01\n",
      "   ---------------------------------- ----- 38.4/44.1 MB 9.2 MB/s eta 0:00:01\n",
      "   ----------------------------------- ---- 39.0/44.1 MB 9.5 MB/s eta 0:00:01\n",
      "   ----------------------------------- ---- 39.5/44.1 MB 9.5 MB/s eta 0:00:01\n",
      "   ------------------------------------ --- 40.0/44.1 MB 9.9 MB/s eta 0:00:01\n",
      "   ------------------------------------ --- 40.4/44.1 MB 9.8 MB/s eta 0:00:01\n",
      "   ------------------------------------ --- 40.6/44.1 MB 9.6 MB/s eta 0:00:01\n",
      "   ------------------------------------- -- 41.1/44.1 MB 9.8 MB/s eta 0:00:01\n",
      "   ------------------------------------- -- 41.7/44.1 MB 9.9 MB/s eta 0:00:01\n",
      "   -------------------------------------- - 42.1/44.1 MB 9.9 MB/s eta 0:00:01\n",
      "   -------------------------------------- - 42.1/44.1 MB 9.9 MB/s eta 0:00:01\n",
      "   -------------------------------------- - 42.4/44.1 MB 9.5 MB/s eta 0:00:01\n",
      "   -------------------------------------- - 42.8/44.1 MB 9.6 MB/s eta 0:00:01\n",
      "   ---------------------------------------  43.4/44.1 MB 9.8 MB/s eta 0:00:01\n",
      "   ---------------------------------------  43.9/44.1 MB 10.1 MB/s eta 0:00:01\n",
      "   ---------------------------------------  44.1/44.1 MB 10.1 MB/s eta 0:00:01\n",
      "   ---------------------------------------  44.1/44.1 MB 10.1 MB/s eta 0:00:01\n",
      "   ---------------------------------------- 44.1/44.1 MB 9.2 MB/s eta 0:00:00\n",
      "Downloading contourpy-1.1.1-cp310-cp310-win_amd64.whl (477 kB)\n",
      "   ---------------------------------------- 0.0/478.0 kB ? eta -:--:--\n",
      "   ------------------------------ -------- 368.6/478.0 kB 11.2 MB/s eta 0:00:01\n",
      "   --------------------------------------- 478.0/478.0 kB 10.0 MB/s eta 0:00:00\n",
      "Downloading cycler-0.12.0-py3-none-any.whl (8.2 kB)\n",
      "Downloading fonttools-4.43.0-cp310-cp310-win_amd64.whl (2.1 MB)\n",
      "   ---------------------------------------- 0.0/2.1 MB ? eta -:--:--\n",
      "   ---- ----------------------------------- 0.2/2.1 MB 14.3 MB/s eta 0:00:01\n",
      "   ------------ --------------------------- 0.7/2.1 MB 8.3 MB/s eta 0:00:01\n",
      "   ------------------ --------------------- 1.0/2.1 MB 8.9 MB/s eta 0:00:01\n",
      "   ------------------------- -------------- 1.4/2.1 MB 9.8 MB/s eta 0:00:01\n",
      "   ------------------------------- -------- 1.7/2.1 MB 8.9 MB/s eta 0:00:01\n",
      "   ---------------------------------------  2.1/2.1 MB 9.7 MB/s eta 0:00:01\n",
      "   ---------------------------------------- 2.1/2.1 MB 8.5 MB/s eta 0:00:00\n",
      "Using cached kiwisolver-1.4.5-cp310-cp310-win_amd64.whl (56 kB)\n",
      "Downloading pyparsing-3.1.1-py3-none-any.whl (103 kB)\n",
      "   ---------------------------------------- 0.0/103.1 kB ? eta -:--:--\n",
      "   ---------------------------------------- 103.1/103.1 kB ? eta 0:00:00\n",
      "Using cached pytz-2023.3.post1-py2.py3-none-any.whl (502 kB)\n",
      "Installing collected packages: pytz, tzdata, scipy, pyparsing, networkx, kiwisolver, fonttools, cycler, contourpy, pandas, matplotlib\n",
      "Successfully installed contourpy-1.1.1 cycler-0.12.0 fonttools-4.43.0 kiwisolver-1.4.5 matplotlib-3.8.0 networkx-3.1 pandas-2.1.1 pyparsing-3.1.1 pytz-2023.3.post1 scipy-1.11.3 tzdata-2023.3\n",
      "Note: you may need to restart the kernel to use updated packages.\n"
     ]
    }
   ],
   "source": [
    "%pip install networkx[default]"
   ]
  },
  {
   "cell_type": "code",
   "execution_count": 3,
   "metadata": {},
   "outputs": [],
   "source": [
    "import networkx as nx\n",
    "G = nx.Graph()"
   ]
  },
  {
   "cell_type": "code",
   "execution_count": 5,
   "metadata": {},
   "outputs": [],
   "source": [
    "G.add_nodes_from(image_fps)"
   ]
  },
  {
   "cell_type": "code",
   "execution_count": 6,
   "metadata": {},
   "outputs": [],
   "source": [
    "H=nx.Graph()\n",
    "H.add_edges_from([x.ref for x in rel1])"
   ]
  },
  {
   "cell_type": "code",
   "execution_count": 7,
   "metadata": {},
   "outputs": [
    {
     "data": {
      "text/plain": [
       "NodeView(('img_a', 'img_b', 'img_c', 'img_d', 'img_e', 'img_f'))"
      ]
     },
     "metadata": {},
     "output_type": "display_data"
    },
    {
     "data": {
      "text/plain": [
       "EdgeView([])"
      ]
     },
     "metadata": {},
     "output_type": "display_data"
    },
    {
     "data": {
      "text/plain": [
       "AdjacencyView({'img_a': {}, 'img_b': {}, 'img_c': {}, 'img_d': {}, 'img_e': {}, 'img_f': {}})"
      ]
     },
     "metadata": {},
     "output_type": "display_data"
    },
    {
     "data": {
      "text/plain": [
       "DegreeView({'img_a': 0, 'img_b': 0, 'img_c': 0, 'img_d': 0, 'img_e': 0, 'img_f': 0})"
      ]
     },
     "metadata": {},
     "output_type": "display_data"
    }
   ],
   "source": [
    "display(G.nodes)\n",
    "display(G.edges)\n",
    "display(G.adj)\n",
    "display(G.degree)"
   ]
  },
  {
   "cell_type": "code",
   "execution_count": 8,
   "metadata": {},
   "outputs": [
    {
     "data": {
      "text/plain": [
       "NodeView(('img_a', 'img_b', 'img_c', 'img_d', 'img_e', 'img_f'))"
      ]
     },
     "metadata": {},
     "output_type": "display_data"
    },
    {
     "data": {
      "text/plain": [
       "EdgeView([('img_a', 'img_b'), ('img_a', 'img_e'), ('img_b', 'img_c'), ('img_c', 'img_d'), ('img_e', 'img_f')])"
      ]
     },
     "metadata": {},
     "output_type": "display_data"
    },
    {
     "data": {
      "text/plain": [
       "AdjacencyView({'img_a': {'img_b': {}, 'img_e': {}}, 'img_b': {'img_a': {}, 'img_c': {}}, 'img_c': {'img_b': {}, 'img_d': {}}, 'img_d': {'img_c': {}}, 'img_e': {'img_a': {}, 'img_f': {}}, 'img_f': {'img_e': {}}})"
      ]
     },
     "metadata": {},
     "output_type": "display_data"
    },
    {
     "data": {
      "text/plain": [
       "DegreeView({'img_a': 2, 'img_b': 2, 'img_c': 2, 'img_d': 1, 'img_e': 2, 'img_f': 1})"
      ]
     },
     "metadata": {},
     "output_type": "display_data"
    }
   ],
   "source": [
    "display(H.nodes)\n",
    "display(H.edges)\n",
    "display(H.adj)\n",
    "display(H.degree)"
   ]
  },
  {
   "cell_type": "code",
   "execution_count": 9,
   "metadata": {},
   "outputs": [
    {
     "data": {
      "text/plain": [
       "NodeView(('img_a', 'img_b', 'img_c', 'img_d', 'img_e', 'img_f'))"
      ]
     },
     "metadata": {},
     "output_type": "display_data"
    },
    {
     "data": {
      "text/plain": [
       "EdgeView([('img_a', 'img_b'), ('img_a', 'img_e'), ('img_b', 'img_c'), ('img_c', 'img_d'), ('img_e', 'img_f')])"
      ]
     },
     "metadata": {},
     "output_type": "display_data"
    },
    {
     "data": {
      "text/plain": [
       "AdjacencyView({'img_a': {'img_b': {}, 'img_e': {}}, 'img_b': {'img_a': {}, 'img_c': {}}, 'img_c': {'img_b': {}, 'img_d': {}}, 'img_d': {'img_c': {}}, 'img_e': {'img_a': {}, 'img_f': {}}, 'img_f': {'img_e': {}}})"
      ]
     },
     "metadata": {},
     "output_type": "display_data"
    },
    {
     "data": {
      "text/plain": [
       "DegreeView({'img_a': 2, 'img_b': 2, 'img_c': 2, 'img_d': 1, 'img_e': 2, 'img_f': 1})"
      ]
     },
     "metadata": {},
     "output_type": "display_data"
    }
   ],
   "source": [
    "L=nx.Graph([x.ref for x in rel1])\n",
    "display(L.nodes)\n",
    "display(L.edges)\n",
    "display(L.adj)\n",
    "display(L.degree)"
   ]
  },
  {
   "cell_type": "code",
   "execution_count": 10,
   "metadata": {},
   "outputs": [],
   "source": [
    "G.add_edge(rel1[0].ref[0],rel1[0].ref[1],object=rel1[0])\n",
    "#give object to edge!"
   ]
  },
  {
   "cell_type": "code",
   "execution_count": 34,
   "metadata": {},
   "outputs": [],
   "source": [
    "H.add_edge(\"img_c\",\"img_g\")\n",
    "H.add_edge(\"img_g\",\"img_h\")\n",
    "H.add_node(\"img_a\",color='red')"
   ]
  },
  {
   "cell_type": "code",
   "execution_count": 43,
   "metadata": {},
   "outputs": [],
   "source": [
    "h_color=['b']*len(H.nodes)\n",
    "h_color[0]='g'"
   ]
  },
  {
   "cell_type": "code",
   "execution_count": 44,
   "metadata": {},
   "outputs": [
    {
     "data": {
      "image/png": "[encoded data removed]",
      "text/plain": [
       "<Figure size 640x480 with 1 Axes>"
      ]
     },
     "metadata": {},
     "output_type": "display_data"
    }
   ],
   "source": [
    "\n",
    "nx.draw_networkx(H,node_color=h_color)\n"
   ]
  },
  {
   "cell_type": "code",
   "execution_count": null,
   "metadata": {},
   "outputs": [],
   "source": [
    "#https://networkx.org/documentation/stable/auto_examples/drawing/plot_custom_node_icons.html#sphx-glr-auto-examples-drawing-plot-custom-node-icons-py\n",
    "#could use picture as node."
   ]
  }
 ],
 "metadata": {
  "kernelspec": {
   "display_name": ".venv",
   "language": "python",
   "name": "python3"
  },
  "language_info": {
   "codemirror_mode": {
    "name": "ipython",
    "version": 3
   },
   "file_extension": ".py",
   "mimetype": "text/x-python",
   "name": "python",
   "nbconvert_exporter": "python",
   "pygments_lexer": "ipython3",
   "version": "3.10.8"
  },
  "orig_nbformat": 4
 },
 "nbformat": 4,
 "nbformat_minor": 2
}

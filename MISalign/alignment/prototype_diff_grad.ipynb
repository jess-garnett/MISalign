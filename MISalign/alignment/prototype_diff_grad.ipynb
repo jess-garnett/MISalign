{
 "cells": [
  {
   "cell_type": "markdown",
   "metadata": {},
   "source": [
    "Prototype for difference gradience assisted alignment.\n",
    "\n",
    "Goal:\n",
    "- If the user, or another module, can get alignment within ~10-30 pixels this will be able to solve it to pixel perfect."
   ]
  },
  {
   "cell_type": "code",
   "execution_count": 1,
   "metadata": {},
   "outputs": [],
   "source": [
    "from os.path import abspath\n",
    "from sys import path\n",
    "path.insert(0, abspath(\"../..\"))  # Repository directory relative to this file.\n",
    "from MISalign.model.mis_file import MisFile,load_mis\n",
    "\n",
    "mis_fp=r\"..\\..\\example\\data\\set_a\\mymis.mis\""
   ]
  },
  {
   "cell_type": "code",
   "execution_count": 15,
   "metadata": {},
   "outputs": [],
   "source": [
    "mp=load_mis(mis_fp)"
   ]
  },
  {
   "cell_type": "code",
   "execution_count": 16,
   "metadata": {},
   "outputs": [
    {
     "data": {
      "text/plain": [
       "{'a_myimages01.jpg': True,\n",
       " 'a_myimages02.jpg': True,\n",
       " 'a_myimages03.jpg': True,\n",
       " 'a_myimages04.jpg': True,\n",
       " 'a_myimages05.jpg': True,\n",
       " 'a_myimages06.jpg': True,\n",
       " 'a_myimages07.jpg': True,\n",
       " 'a_myimages08.jpg': True,\n",
       " 'a_myimages09.jpg': True,\n",
       " 'a_myimages10.jpg': True}"
      ]
     },
     "execution_count": 16,
     "metadata": {},
     "output_type": "execute_result"
    }
   ],
   "source": [
    "# ['a_myimages01.jpg', 'a_myimages02.jpg']\n",
    "mp.check_image_paths()"
   ]
  },
  {
   "cell_type": "code",
   "execution_count": 23,
   "metadata": {},
   "outputs": [],
   "source": [
    "from MISalign.canvas.canvas_solve import rectangular_solve\n",
    "import MISalign.canvas.canvas_render as cr\n",
    "from matplotlib import pyplot as plt\n",
    "import numpy as np"
   ]
  },
  {
   "cell_type": "code",
   "execution_count": 17,
   "metadata": {},
   "outputs": [
    {
     "data": {
      "text/plain": [
       "{'a_myimages01.jpg': (0, 0),\n",
       " 'a_myimages02.jpg': (12, -1088),\n",
       " 'a_myimages03.jpg': (20, -2229),\n",
       " 'a_myimages04.jpg': (-109, -3287),\n",
       " 'a_myimages05.jpg': (-98, -4230),\n",
       " 'a_myimages06.jpg': (-93, -5090),\n",
       " 'a_myimages07.jpg': (-83, -6080),\n",
       " 'a_myimages08.jpg': (-74, -7089),\n",
       " 'a_myimages09.jpg': (-65, -8028),\n",
       " 'a_myimages10.jpg': (-62, -8750)}"
      ]
     },
     "metadata": {},
     "output_type": "display_data"
    }
   ],
   "source": [
    "relations=mp.get_rels('r')\n",
    "image_names=mp.get_image_names()\n",
    "origin=\"a_myimages01.jpg\"\n",
    "origin_relative_offsets=rectangular_solve(\n",
    "    relations=relations,\n",
    "    image_names=image_names,\n",
    "    origin=origin\n",
    ")\n",
    "display(origin_relative_offsets)"
   ]
  },
  {
   "cell_type": "code",
   "execution_count": 20,
   "metadata": {},
   "outputs": [
    {
     "data": {
      "text/plain": [
       "{'a_myimages01.jpg': (1600, 1200),\n",
       " 'a_myimages02.jpg': (1600, 1200),\n",
       " 'a_myimages03.jpg': (1600, 1200),\n",
       " 'a_myimages04.jpg': (1600, 1200),\n",
       " 'a_myimages05.jpg': (1600, 1200),\n",
       " 'a_myimages06.jpg': (1600, 1200),\n",
       " 'a_myimages07.jpg': (1600, 1200),\n",
       " 'a_myimages08.jpg': (1600, 1200),\n",
       " 'a_myimages09.jpg': (1600, 1200),\n",
       " 'a_myimages10.jpg': (1600, 1200)}"
      ]
     },
     "execution_count": 20,
     "metadata": {},
     "output_type": "execute_result"
    }
   ],
   "source": [
    "image_sizes=cr.find_image_sizes(mp.get_image_paths())\n",
    "image_sizes"
   ]
  },
  {
   "cell_type": "code",
   "execution_count": 67,
   "metadata": {},
   "outputs": [
    {
     "name": "stdout",
     "output_type": "stream",
     "text": [
      "ORO frame X and Y overlaps [20, 1491] [-3287, -3429]\n",
      "A frame X and Y overlaps [0, 1471] [1058, 1200]\n",
      "B frame X and Y overlaps [129, 1600] [0, 142]\n"
     ]
    },
    {
     "data": {
      "text/plain": [
       "[<matplotlib.lines.Line2D at 0x1b1f2d89ea0>]"
      ]
     },
     "execution_count": 67,
     "metadata": {},
     "output_type": "execute_result"
    },
    {
     "data": {
      "image/png": "[encoded data removed]",
      "text/plain": [
       "<Figure size 640x480 with 1 Axes>"
      ]
     },
     "metadata": {},
     "output_type": "display_data"
    }
   ],
   "source": [
    "images_to_diff=['a_myimages03.jpg', 'a_myimages04.jpg']\n",
    "img_a_oro=np.array(origin_relative_offsets[images_to_diff[0]])#Image A origin relative offset\n",
    "img_a_size=image_sizes[images_to_diff[0]]#Image A Size\n",
    "img_a_corners=[\n",
    "    img_a_oro,\n",
    "    img_a_oro+[0,-img_a_size[1]],\n",
    "    img_a_oro+[img_a_size[0],-img_a_size[1]],\n",
    "    img_a_oro+[img_a_size[0],0],\n",
    "    ]\n",
    "img_b_oro=np.array(origin_relative_offsets[images_to_diff[1]])#Image B origin relative offset\n",
    "img_b_size=image_sizes[images_to_diff[1]]#Image B Size\n",
    "img_b_corners=[\n",
    "    img_b_oro,\n",
    "    img_b_oro+[0,-img_b_size[1]],\n",
    "    img_b_oro+[img_b_size[0],-img_b_size[1]],\n",
    "    img_b_oro+[img_b_size[0],0],\n",
    "    ]\n",
    "\n",
    "img_a_set=np.array(img_a_corners+[img_a_corners[0]])\n",
    "img_b_set=np.array(img_b_corners+[img_b_corners[0]])\n",
    "plt.plot(img_a_set.T[0],img_a_set.T[1])\n",
    "plt.plot(img_b_set.T[0],img_b_set.T[1])\n",
    "\n",
    "#find overlap in ORO reference frame - subtract ORO of each image to get local coordinates.\n",
    "image_a={\n",
    "    \"oro\":origin_relative_offsets[images_to_diff[0]],\n",
    "    \"size\":image_sizes[images_to_diff[0]]\n",
    "}\n",
    "image_b={\n",
    "    \"oro\":origin_relative_offsets[images_to_diff[1]],\n",
    "    \"size\":image_sizes[images_to_diff[1]]\n",
    "}\n",
    "x_positions=[image_a[\"oro\"][0],image_a[\"oro\"][0]+image_a[\"size\"][0],image_b[\"oro\"][0],image_b[\"oro\"][0]+image_b[\"size\"][0]]\n",
    "x_positions.sort()\n",
    "x_overlap=x_positions[1:3]\n",
    "y_positions=[image_a[\"oro\"][1],image_a[\"oro\"][1]-image_a[\"size\"][1],image_b[\"oro\"][1],image_b[\"oro\"][1]-image_b[\"size\"][1]]\n",
    "y_positions.sort(reverse=True)\n",
    "y_overlap=y_positions[1:3]\n",
    "print(\"ORO frame X and Y overlaps\",x_overlap,y_overlap)\n",
    "print(\"A frame X and Y overlaps\",[x-image_a[\"oro\"][0] for x in x_overlap],[-y+image_a[\"oro\"][1] for y in y_overlap])\n",
    "print(\"B frame X and Y overlaps\",[x-image_b[\"oro\"][0] for x in x_overlap],[-y+image_b[\"oro\"][1] for y in y_overlap])\n",
    "\n",
    "\n",
    "\n",
    "plt.plot([x_overlap[0],x_overlap[1],x_overlap[1],x_overlap[0],x_overlap[0]],[y_overlap[0],y_overlap[0],y_overlap[1],y_overlap[1],y_overlap[0]],\"r.\")\n"
   ]
  }
 ],
 "metadata": {
  "kernelspec": {
   "display_name": ".venv",
   "language": "python",
   "name": "python3"
  },
  "language_info": {
   "codemirror_mode": {
    "name": "ipython",
    "version": 3
   },
   "file_extension": ".py",
   "mimetype": "text/x-python",
   "name": "python",
   "nbconvert_exporter": "python",
   "pygments_lexer": "ipython3",
   "version": "3.10.8"
  }
 },
 "nbformat": 4,
 "nbformat_minor": 2
}

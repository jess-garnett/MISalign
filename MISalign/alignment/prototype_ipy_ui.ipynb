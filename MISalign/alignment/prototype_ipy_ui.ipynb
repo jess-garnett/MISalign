{
 "cells": [
  {
   "cell_type": "code",
   "execution_count": 15,
   "metadata": {},
   "outputs": [],
   "source": [
    "from os.path import abspath\n",
    "from sys import path\n",
    "path.insert(0, abspath(\"../..\"))  # Repository directory relative to this file.\n",
    "from MISalign.alignment.interactive_manual import InteractiveManualRelation\n",
    "from MISalign.model.image import Image\n",
    "from MISalign.model.mis_file import MisFile\n",
    "\n",
    "import numpy as np\n",
    "from matplotlib import pyplot as plt\n",
    "import ipywidgets as widgets\n",
    "\n",
    "%matplotlib widget"
   ]
  },
  {
   "cell_type": "code",
   "execution_count": 16,
   "metadata": {},
   "outputs": [],
   "source": [
    "file_paths=[\n",
    "    abspath(r\"..\\..\\example\\data\\set_a\\a_myimages01.jpg\"),\n",
    "    abspath(r\"..\\..\\example\\data\\set_a\\a_myimages02.jpg\"),\n",
    "    abspath(r\"..\\..\\example\\data\\set_a\\a_myimages03.jpg\"),\n",
    "    abspath(r\"..\\..\\example\\data\\set_a\\a_myimages04.jpg\"),\n",
    "    abspath(r\"..\\..\\example\\data\\set_a\\a_myimages05.jpg\"),\n",
    "    abspath(r\"..\\..\\example\\data\\set_a\\a_myimages06.jpg\"),\n",
    "    abspath(r\"..\\..\\example\\data\\set_a\\a_myimages07.jpg\"),\n",
    "    abspath(r\"..\\..\\example\\data\\set_a\\a_myimages08.jpg\"),\n",
    "    abspath(r\"..\\..\\example\\data\\set_a\\a_myimages09.jpg\"),\n",
    "    abspath(r\"..\\..\\example\\data\\set_a\\a_myimages10.jpg\"),\n",
    "    ]\n",
    "mp=MisFile(image_fps=file_paths)"
   ]
  },
  {
   "cell_type": "code",
   "execution_count": 17,
   "metadata": {},
   "outputs": [
    {
     "data": {
      "application/vnd.jupyter.widget-view+json": {
       "model_id": "5336bc7b1d2e433c891e66669c2c7654",
       "version_major": 2,
       "version_minor": 0
      },
      "text/plain": [
       "VBox(children=(HBox(children=(Dropdown(description='Image A:', options=('a_myimages01.jpg', 'a_myimages02.jpg'…"
      ]
     },
     "metadata": {},
     "output_type": "display_data"
    },
    {
     "data": {
      "application/vnd.jupyter.widget-view+json": {
       "model_id": "959492948e6843f38f73f76de78b64eb",
       "version_major": 2,
       "version_minor": 0
      },
      "image/png": "[encoded data removed]",
      "text/html": [
       "\n",
       "            <div style=\"display: inline-block;\">\n",
       "                <div class=\"jupyter-widgets widget-label\" style=\"text-align: center;\">\n",
       "                    Figure\n",
       "                </div>\n",
       "                <img src='data:image/png;base64,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' width=640.0/>\n",
       "            </div>\n",
       "        "
      ],
      "text/plain": [
       "Canvas(footer_visible=False, header_visible=False, toolbar=Toolbar(toolitems=[('Home', 'Reset original view', …"
      ]
     },
     "metadata": {},
     "output_type": "display_data"
    }
   ],
   "source": [
    "class IMR_Controls():\n",
    "    def __init__(self,mis_project:MisFile):\n",
    "        self._project=mis_project\n",
    "        self._images=[Image(x) for x in self._project.image_fps]\n",
    "        self.names=[x.name for x in self._images]\n",
    "        ## setup dropdowns\n",
    "        self._dropdown_a=widgets.Dropdown(\n",
    "            options=self.names,\n",
    "            value=self.names[0],\n",
    "            description='Image A:',\n",
    "            disabled=False,\n",
    "        )\n",
    "        self._dropdown_b=widgets.Dropdown(\n",
    "            options=self.names,\n",
    "            value=self.names[1],\n",
    "            description='Image B:',\n",
    "            disabled=False,\n",
    "        )\n",
    "        self._dropdowns=widgets.HBox([self._dropdown_a,self._dropdown_b])\n",
    "        ## setup buttons\n",
    "        self._button_next = widgets.Button(description='Next',)\n",
    "        self._button_next.on_click(self.click_next)\n",
    "        \n",
    "        self._button_jump = widgets.Button(description='Jump To',)\n",
    "        self._button_jump.on_click(self.click_jump)\n",
    "        \n",
    "        self._button_prev = widgets.Button(description='Previous',)\n",
    "        self._button_prev.on_click(self.click_prev)\n",
    "        \n",
    "        self._button_resolve = widgets.Button(description='Resolve Relation',)\n",
    "        self._button_resolve.on_click(self.click_resolve)\n",
    "\n",
    "        self._button_save = widgets.Button(description='Save Relation',)\n",
    "        self._button_save.on_click(self.click_save)\n",
    "\n",
    "        self._buttons_move=widgets.HBox([self._button_next,self._button_jump,self._button_prev])\n",
    "        self._buttons_relate=widgets.HBox([self._button_resolve,self._button_save])\n",
    "        ## combine and display\n",
    "        self._full=widgets.VBox([self._dropdowns,self._buttons_move,self._buttons_relate])\n",
    "        display(self._full)\n",
    "        ## display IMR and set to first pair.\n",
    "        self.imr=InteractiveManualRelation()\n",
    "        self.update_imr()\n",
    "    def click_next(self,event):\n",
    "        if (current := self.names.index(self._dropdown_b.get_interact_value()))+1<len(self.names):\n",
    "            self._dropdown_a.value=self.names[current]\n",
    "            self._dropdown_b.value=self.names[current+1]\n",
    "            self.update_imr()\n",
    "    def click_jump(self,event):\n",
    "            self.update_imr()\n",
    "    def click_prev(self,event):\n",
    "        if (current := self.names.index(self._dropdown_a.get_interact_value()))-1>=0:\n",
    "            self._dropdown_a.value=self.names[current-1]\n",
    "            self._dropdown_b.value=self.names[current]\n",
    "            self.update_imr()\n",
    "    def click_resolve(self,event):\n",
    "        self.imr.relate_resolve()\n",
    "        self.imr.plot_points()\n",
    "    def click_save(self,event):\n",
    "         if self.imr.points is not None:\n",
    "           self._project._relations.append(self.imr.get_relation())\n",
    "        #TODO store in meaningful way. - Maybe break into resolve relation and save/update relation. Also displaying current relation?\n",
    "         #TODO replacing relations vs turning them on and off vs other?\n",
    "         #TODO relation management interface\n",
    "    def update_imr(self):\n",
    "            self.imr.change(\n",
    "                self._images[self.names.index(self._dropdown_a.get_interact_value())],\n",
    "                self._images[self.names.index(self._dropdown_b.get_interact_value())],\n",
    "                )\n",
    "            self.imr.relate()\n",
    "    def get_mis(self):\n",
    "            return self._project\n",
    "\n",
    "\n",
    "imrc=IMR_Controls(mp)\n",
    "# widgets.Select(\n",
    "#      options=[]\n",
    "# )"
   ]
  },
  {
   "cell_type": "code",
   "execution_count": 14,
   "metadata": {},
   "outputs": [
    {
     "data": {
      "application/vnd.jupyter.widget-view+json": {
       "model_id": "b2bfd1c1e79f4c12960d8edfe42ae3aa",
       "version_major": 2,
       "version_minor": 0
      },
      "text/plain": [
       "HBox(children=(Select(description='A Relations:', options=('Points | a_myimages01.jpg', 'Points | a_myimages03…"
      ]
     },
     "metadata": {},
     "output_type": "display_data"
    }
   ],
   "source": [
    "\n",
    "#TODO search by rel in misfile\n",
    "imrc._project.find_all_rel(check)\n",
    "def relation_describe(far,check):#takes outputs from find all rel , [[imga name, imgb name], relation type]\n",
    "    rel_types={\n",
    "        \"r\":\"Rect.\",\n",
    "        \"p\":\"Points\",\n",
    "        \"rr\":\"Rect. and Rota.\"\n",
    "    }\n",
    "    return rel_types[far[1]]+\" | \"+[x for x in far[0] if check not in x][0]\n",
    "check=imrc._dropdown_a.get_interact_value()\n",
    "rela=widgets.Select(\n",
    "    options=[relation_describe(x,check) for x in imrc._project.find_all_rel(check)],\n",
    "    description='A Relations:',\n",
    "    disabled=False\n",
    ")\n",
    "check=imrc._dropdown_b.get_interact_value()\n",
    "relb=widgets.Select(\n",
    "    options=[relation_describe(x,check) for x in imrc._project.find_all_rel(check)],\n",
    "    description='B Relations:',\n",
    "    disabled=False\n",
    ")\n",
    "display(widgets.HBox([rela,relb]))"
   ]
  },
  {
   "cell_type": "code",
   "execution_count": 18,
   "metadata": {},
   "outputs": [
    {
     "data": {
      "text/plain": [
       "[[('a_myimages01.jpg', 'a_myimages02.jpg'), (159, -550)],\n",
       " [('a_myimages02.jpg', 'a_myimages03.jpg'), (157, -521)],\n",
       " [('a_myimages03.jpg', 'a_myimages04.jpg'), (-34, -324)]]"
      ]
     },
     "execution_count": 18,
     "metadata": {},
     "output_type": "execute_result"
    }
   ],
   "source": [
    "imrc._project.get_rels('r')"
   ]
  },
  {
   "cell_type": "code",
   "execution_count": 20,
   "metadata": {},
   "outputs": [
    {
     "name": "stdout",
     "output_type": "stream",
     "text": [
      "A MISalign project with:[['c:\\\\Users\\\\drago\\\\Documents\\\\MISaligned\\\\MISalign_public\\\\example\\\\data\\\\set_a\\\\a_myimages01.jpg', 'c:\\\\Users\\\\drago\\\\Documents\\\\MISaligned\\\\MISalign_public\\\\example\\\\data\\\\set_a\\\\a_myimages02.jpg', 'c:\\\\Users\\\\drago\\\\Documents\\\\MISaligned\\\\MISalign_public\\\\example\\\\data\\\\set_a\\\\a_myimages03.jpg', 'c:\\\\Users\\\\drago\\\\Documents\\\\MISaligned\\\\MISalign_public\\\\example\\\\data\\\\set_a\\\\a_myimages04.jpg', 'c:\\\\Users\\\\drago\\\\Documents\\\\MISaligned\\\\MISalign_public\\\\example\\\\data\\\\set_a\\\\a_myimages05.jpg', 'c:\\\\Users\\\\drago\\\\Documents\\\\MISaligned\\\\MISalign_public\\\\example\\\\data\\\\set_a\\\\a_myimages06.jpg', 'c:\\\\Users\\\\drago\\\\Documents\\\\MISaligned\\\\MISalign_public\\\\example\\\\data\\\\set_a\\\\a_myimages07.jpg', 'c:\\\\Users\\\\drago\\\\Documents\\\\MISaligned\\\\MISalign_public\\\\example\\\\data\\\\set_a\\\\a_myimages08.jpg', 'c:\\\\Users\\\\drago\\\\Documents\\\\MISaligned\\\\MISalign_public\\\\example\\\\data\\\\set_a\\\\a_myimages09.jpg', 'c:\\\\Users\\\\drago\\\\Documents\\\\MISaligned\\\\MISalign_public\\\\example\\\\data\\\\set_a\\\\a_myimages10.jpg'], [('a_myimages01.jpg', 'a_myimages02.jpg'), ('a_myimages02.jpg', 'a_myimages03.jpg'), ('a_myimages03.jpg', 'a_myimages04.jpg')], {}]\n"
     ]
    }
   ],
   "source": [
    "print(imrc.get_mis())"
   ]
  }
 ],
 "metadata": {
  "kernelspec": {
   "display_name": ".venv",
   "language": "python",
   "name": "python3"
  },
  "language_info": {
   "codemirror_mode": {
    "name": "ipython",
    "version": 3
   },
   "file_extension": ".py",
   "mimetype": "text/x-python",
   "name": "python",
   "nbconvert_exporter": "python",
   "pygments_lexer": "ipython3",
   "version": "3.10.8"
  }
 },
 "nbformat": 4,
 "nbformat_minor": 2
}

{
 "cells": [
  {
   "cell_type": "code",
   "execution_count": 1,
   "metadata": {},
   "outputs": [],
   "source": [
    "from os.path import abspath\n",
    "from sys import path\n",
    "path.insert(0, abspath(\"../..\"))  # Repository directory relative to this file.\n",
    "from MISalign.alignment.interactive_manual import InteractiveManualRelation\n",
    "from MISalign.model.image import Image\n",
    "\n",
    "import numpy as np\n",
    "from matplotlib import pyplot as plt\n",
    "\n",
    "imgs=[\n",
    "    Image(abspath(r\"..\\..\\example\\data\\set_a\\a_myimages01.jpg\")),\n",
    "    Image(abspath(r\"..\\..\\example\\data\\set_a\\a_myimages02.jpg\")),\n",
    "    Image(abspath(r\"..\\..\\example\\data\\set_a\\a_myimages03.jpg\")),\n",
    "    Image(abspath(r\"..\\..\\example\\data\\set_a\\a_myimages04.jpg\")),\n",
    "    ]\n",
    "%matplotlib widget"
   ]
  },
  {
   "cell_type": "code",
   "execution_count": 24,
   "metadata": {},
   "outputs": [
    {
     "data": {
      "application/vnd.jupyter.widget-view+json": {
       "model_id": "a12fa5f1843a498caa52d569f9171637",
       "version_major": 2,
       "version_minor": 0
      },
      "text/plain": [
       "HBox(children=(Dropdown(description='Image A:', options=('a_myimages01.jpg', 'a_myimages02.jpg', 'a_myimages03…"
      ]
     },
     "metadata": {},
     "output_type": "display_data"
    },
    {
     "data": {
      "application/vnd.jupyter.widget-view+json": {
       "model_id": "acdb9304db3a4f14bf10565391ea17a9",
       "version_major": 2,
       "version_minor": 0
      },
      "text/plain": [
       "HBox(children=(Button(description='Next', style=ButtonStyle()), Button(description='Jump To', style=ButtonStyl…"
      ]
     },
     "metadata": {},
     "output_type": "display_data"
    }
   ],
   "source": [
    "import ipywidgets as widgets\n",
    "dropdown_options=[x.name for x in imgs]\n",
    "da=widgets.Dropdown(\n",
    "    options=dropdown_options,\n",
    "    value=dropdown_options[0],\n",
    "    description='Image A:',\n",
    "    disabled=False,\n",
    ")\n",
    "db=widgets.Dropdown(\n",
    "    options=dropdown_options,\n",
    "    value=dropdown_options[1],\n",
    "    description='Image B:',\n",
    "    disabled=False,\n",
    ")\n",
    "display(widgets.HBox([da,db]))\n",
    "\n",
    "button_next = widgets.Button(description='Next',)\n",
    "button_next.on_click(print)\n",
    "\n",
    "button_jump = widgets.Button(\n",
    "    description='Jump To',\n",
    "    disabled=False,\n",
    ")\n",
    "button_jump.on_click(print)\n",
    "\n",
    "button_prev = widgets.Button(\n",
    "    description='Previous',\n",
    "    disabled=False,\n",
    ")\n",
    "button_prev.on_click(print)\n",
    "\n",
    "\n",
    "button_update = widgets.Button(\n",
    "    description='Update Relation',\n",
    "    disabled=False,\n",
    ")\n",
    "button_update.on_click(print)\n",
    "display(widgets.HBox([button_next,button_jump,button_prev,button_update]))"
   ]
  },
  {
   "cell_type": "code",
   "execution_count": 29,
   "metadata": {},
   "outputs": [
    {
     "data": {
      "application/vnd.jupyter.widget-view+json": {
       "model_id": "2600bf127cf146a0bf642cf6a95394ae",
       "version_major": 2,
       "version_minor": 0
      },
      "text/plain": [
       "VBox(children=(HBox(children=(Dropdown(description='Image A:', options=('a_myimages01.jpg', 'a_myimages02.jpg'…"
      ]
     },
     "metadata": {},
     "output_type": "display_data"
    },
    {
     "name": "stdout",
     "output_type": "stream",
     "text": [
      "Next: Button(description='Next', style=ButtonStyle())\n",
      "Jump: Button(description='Jump To', style=ButtonStyle())\n",
      "Prev: Button(description='Previous', style=ButtonStyle())\n",
      "Update: Button(description='Update Relation', style=ButtonStyle())\n"
     ]
    }
   ],
   "source": [
    "class IMR_Controls():\n",
    "    def __init__(self,images):\n",
    "        self._images=images\n",
    "        self.names=[x.name for x in imgs]\n",
    "        ## setup dropdowns\n",
    "        self._dropdown_a=widgets.Dropdown(\n",
    "            options=dropdown_options,\n",
    "            value=dropdown_options[0],\n",
    "            description='Image A:',\n",
    "            disabled=False,\n",
    "        )\n",
    "        self._dropdown_b=widgets.Dropdown(\n",
    "            options=dropdown_options,\n",
    "            value=dropdown_options[1],\n",
    "            description='Image B:',\n",
    "            disabled=False,\n",
    "        )\n",
    "        self._dropdowns=widgets.HBox([self._dropdown_a,self._dropdown_b])\n",
    "        ## setup buttons\n",
    "        self._button_next = widgets.Button(description='Next',)\n",
    "        self._button_next.on_click(self.click_next)\n",
    "        \n",
    "        self._button_jump = widgets.Button(description='Jump To',)\n",
    "        self._button_jump.on_click(self.click_jump)\n",
    "        \n",
    "        self._button_prev = widgets.Button(description='Previous',)\n",
    "        self._button_prev.on_click(self.click_prev)\n",
    "        \n",
    "        self._button_update = widgets.Button(description='Update Relation',)\n",
    "        self._button_update.on_click(self.click_update)\n",
    "\n",
    "        self._buttons=widgets.HBox([self._button_next,self._button_jump,self._button_prev,self._button_update])\n",
    "        ## combine and display\n",
    "        self._full=widgets.VBox([self._dropdowns,self._buttons])\n",
    "        display(self._full)\n",
    "    def click_next(self,event):\n",
    "        print(\"Next:\",event)\n",
    "    def click_jump(self,event):\n",
    "        print(\"Jump:\",event)\n",
    "    def click_prev(self,event):\n",
    "        print(\"Prev:\",event)\n",
    "    def click_update(self,event):\n",
    "        print(\"Update:\",event)\n",
    "\n",
    "\n",
    "imrc=IMR_Controls(imgs)"
   ]
  },
  {
   "cell_type": "code",
   "execution_count": 8,
   "metadata": {},
   "outputs": [
    {
     "data": {
      "text/plain": [
       "0"
      ]
     },
     "execution_count": 8,
     "metadata": {},
     "output_type": "execute_result"
    }
   ],
   "source": [
    "dropdown_options.index(da.get_interact_value())"
   ]
  }
 ],
 "metadata": {
  "kernelspec": {
   "display_name": ".venv",
   "language": "python",
   "name": "python3"
  },
  "language_info": {
   "codemirror_mode": {
    "name": "ipython",
    "version": 3
   },
   "file_extension": ".py",
   "mimetype": "text/x-python",
   "name": "python",
   "nbconvert_exporter": "python",
   "pygments_lexer": "ipython3",
   "version": "3.10.8"
  }
 },
 "nbformat": 4,
 "nbformat_minor": 2
}

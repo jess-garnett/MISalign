{
 "cells": [
  {
   "cell_type": "markdown",
   "metadata": {},
   "source": [
    "# Sample Data Ingest"
   ]
  },
  {
   "cell_type": "code",
   "execution_count": 1,
   "metadata": {},
   "outputs": [],
   "source": [
    "prototyping_datafolder=r\"C:\\Users\\drago\\Box\\p_MIS-MISalign\\data_AlignCV\""
   ]
  },
  {
   "cell_type": "code",
   "execution_count": 2,
   "metadata": {},
   "outputs": [],
   "source": [
    "from os import listdir,path\n",
    "import pandas as pd"
   ]
  },
  {
   "cell_type": "code",
   "execution_count": null,
   "metadata": {},
   "outputs": [],
   "source": [
    "data_set=dict()\n",
    "for datafolder in listdir(prototyping_datafolder):\n",
    "    for sample in listdir(path.join(prototyping_datafolder,datafolder)):\n",
    "        entry=dict()\n",
    "        entry[\"dataset\"]=datafolder\n",
    "        entry[\"path\"]=path.join(prototyping_datafolder,datafolder,sample)\n",
    "        data_set[sample]=entry\n",
    "df=pd.DataFrame(data_set).T\n",
    "df"
   ]
  },
  {
   "cell_type": "code",
   "execution_count": null,
   "metadata": {},
   "outputs": [],
   "source": [
    "print(df.iloc[0].path)\n",
    "display(df[df.dataset==\"data_nov\"])"
   ]
  },
  {
   "cell_type": "markdown",
   "metadata": {},
   "source": [
    "# Image opening"
   ]
  },
  {
   "cell_type": "code",
   "execution_count": 46,
   "metadata": {},
   "outputs": [],
   "source": [
    "from PIL import Image as PILImage"
   ]
  },
  {
   "cell_type": "code",
   "execution_count": 6,
   "metadata": {},
   "outputs": [],
   "source": [
    "PILImage.open(df.iloc[0].path).show()"
   ]
  },
  {
   "cell_type": "markdown",
   "metadata": {},
   "source": [
    "# Package Setups"
   ]
  },
  {
   "cell_type": "markdown",
   "metadata": {},
   "source": [
    "## OpenCV"
   ]
  },
  {
   "cell_type": "code",
   "execution_count": 7,
   "metadata": {},
   "outputs": [],
   "source": [
    "# https://docs.opencv.org/4.x/d5/de5/tutorial_py_setup_in_windows.html\n",
    "# https://pypi.org/project/opencv-python/#manual-builds\n",
    "# %pip install opencv-python\n",
    "import cv2 as cv"
   ]
  },
  {
   "cell_type": "code",
   "execution_count": null,
   "metadata": {},
   "outputs": [],
   "source": [
    "# https://docs.opencv.org/4.x/d6/d00/tutorial_py_root.html\n",
    "# https://docs.opencv.org/4.x/db/d27/tutorial_py_table_of_contents_feature2d.html"
   ]
  },
  {
   "cell_type": "markdown",
   "metadata": {},
   "source": [
    "### SIFT"
   ]
  },
  {
   "cell_type": "code",
   "execution_count": null,
   "metadata": {},
   "outputs": [],
   "source": [
    "# SIFT https://docs.opencv.org/4.x/da/df5/tutorial_py_sift_intro.html\n",
    "import numpy as np\n",
    "import cv2 as cv\n",
    " \n",
    "img = cv.imread(df.iloc[0].path)\n",
    "gray= cv.cvtColor(img,cv.COLOR_BGR2GRAY)\n",
    " \n",
    "sift = cv.SIFT_create()\n",
    "kp = sift.detect(gray,None)\n",
    " \n",
    "# img=cv.drawKeypoints(gray,kp,img)\n",
    "img=cv.drawKeypoints(gray,kp,img,flags=cv.DRAW_MATCHES_FLAGS_DRAW_RICH_KEYPOINTS)\n",
    " \n",
    "# cv.imshow('sift_keypoints',img)\n",
    "PILImage.fromarray(img).show()\n",
    "# display(PILImage.fromarray(img))"
   ]
  },
  {
   "cell_type": "code",
   "execution_count": null,
   "metadata": {},
   "outputs": [],
   "source": [
    "kp,des = sift.compute(gray,kp)\n",
    "display(des.shape)"
   ]
  },
  {
   "cell_type": "markdown",
   "metadata": {},
   "source": [
    "### ORB"
   ]
  },
  {
   "cell_type": "code",
   "execution_count": null,
   "metadata": {},
   "outputs": [],
   "source": [
    "# https://docs.opencv.org/4.x/d1/d89/tutorial_py_orb.html\n",
    "img = cv.imread(df.iloc[-2].path)\n",
    "gray= cv.cvtColor(img,cv.COLOR_BGR2GRAY)\n",
    "\n",
    "# Initiate ORB detector\n",
    "orb = cv.ORB_create(nfeatures=500,edgeThreshold=5)\n",
    " \n",
    "# find the keypoints with ORB\n",
    "kp = orb.detect(gray,None)\n",
    " \n",
    "# compute the descriptors with ORB\n",
    "kp, des = orb.compute(gray, kp)\n",
    " \n",
    "# draw only keypoints location,not size and orientation\n",
    "# img2 = cv.drawKeypoints(gray, kp, None, color=(0,255,0), flags=0)\n",
    "img2=cv.drawKeypoints(gray,kp,img,flags=cv.DRAW_MATCHES_FLAGS_DRAW_RICH_KEYPOINTS)\n",
    "PILImage.fromarray(img2).show()\n",
    "# PILImage.fromarray(img2).save(\"241210_ORB_sem3_nf500_et5.png\")"
   ]
  },
  {
   "cell_type": "code",
   "execution_count": null,
   "metadata": {},
   "outputs": [],
   "source": [
    "display(des.shape)"
   ]
  },
  {
   "cell_type": "markdown",
   "metadata": {},
   "source": [
    "### Matcher"
   ]
  },
  {
   "cell_type": "code",
   "execution_count": null,
   "metadata": {},
   "outputs": [],
   "source": [
    "# https://docs.opencv.org/4.x/dc/dc3/tutorial_py_matcher.html"
   ]
  },
  {
   "cell_type": "markdown",
   "metadata": {},
   "source": [
    "#### Brute-Force Matching w/ ORB"
   ]
  },
  {
   "cell_type": "code",
   "execution_count": 11,
   "metadata": {},
   "outputs": [],
   "source": [
    "import numpy as np\n",
    "import cv2 as cv\n",
    "import matplotlib.pyplot as plt\n",
    " \n",
    "img1 = cv.imread(df.iloc[0].path,cv.IMREAD_GRAYSCALE)          # queryImage\n",
    "img2 = cv.imread(df.iloc[1].path,cv.IMREAD_GRAYSCALE) # trainImage\n",
    " \n",
    "# Initiate ORB detector\n",
    "orb = cv.ORB_create()\n",
    " \n",
    "# find the keypoints and descriptors with ORB\n",
    "kp1, des1 = orb.detectAndCompute(img1,None)\n",
    "kp2, des2 = orb.detectAndCompute(img2,None)"
   ]
  },
  {
   "cell_type": "code",
   "execution_count": null,
   "metadata": {},
   "outputs": [],
   "source": [
    "# create BFMatcher object\n",
    "bf = cv.BFMatcher(cv.NORM_HAMMING, crossCheck=True)\n",
    " \n",
    "# Match descriptors.\n",
    "matches = bf.match(des1,des2)\n",
    " \n",
    "# Sort them in the order of their distance.\n",
    "matches = sorted(matches, key = lambda x:x.distance)\n",
    " \n",
    "# Draw first 10 matches.\n",
    "img3 = cv.drawMatches(img1,kp1,img2,kp2,matches[:10],None,flags=cv.DrawMatchesFlags_NOT_DRAW_SINGLE_POINTS)\n",
    " \n",
    "plt.imshow(img3)\n",
    "plt.show()"
   ]
  },
  {
   "cell_type": "code",
   "execution_count": null,
   "metadata": {},
   "outputs": [],
   "source": [
    "kp2[matches[0].trainIdx].pt\n",
    "kp1[matches[0].queryIdx].pt"
   ]
  },
  {
   "cell_type": "code",
   "execution_count": null,
   "metadata": {},
   "outputs": [],
   "source": [
    "for i,match in enumerate(matches[:]):\n",
    "    train_pt=kp2[match.trainIdx].pt\n",
    "    query_pt=kp1[match.queryIdx].pt\n",
    "    x_offset=train_pt[0]-query_pt[0]\n",
    "    y_offset=train_pt[1]-query_pt[1]\n",
    "    # print([x_offset],[y_offset])\n",
    "    # plt.plot([0,x_offset],[0,y_offset],alpha=0.1)\n",
    "    plt.plot([x_offset],[y_offset],\"o\",alpha=0.05,markersize=20)\n",
    "    if i<50:\n",
    "        plt.plot([0,x_offset],[0,y_offset],alpha=0.05)\n",
    "plt.xlim([-1200,1200])\n",
    "plt.ylim([-800,800])\n",
    "plt.title(\"Matches Visualized - all matches dots - top 50 matches lines - 0.05 alpha\")\n",
    "plt.show()"
   ]
  },
  {
   "cell_type": "markdown",
   "metadata": {},
   "source": [
    "## SimpleCV"
   ]
  },
  {
   "cell_type": "code",
   "execution_count": null,
   "metadata": {},
   "outputs": [],
   "source": [
    "# Paused to focus on moving forward with OpenCV"
   ]
  },
  {
   "cell_type": "markdown",
   "metadata": {},
   "source": [
    "## Scikit-Image"
   ]
  },
  {
   "cell_type": "code",
   "execution_count": null,
   "metadata": {},
   "outputs": [],
   "source": [
    "# Paused to focus on moving forward with OpenCV"
   ]
  },
  {
   "cell_type": "markdown",
   "metadata": {},
   "source": [
    "# Set Processing"
   ]
  },
  {
   "cell_type": "code",
   "execution_count": null,
   "metadata": {},
   "outputs": [],
   "source": [
    "# set_df=df[df.dataset==\"data_hdf\"].copy() # 2x2 high distinct feature set\n",
    "set_df=df[df.dataset==\"data_sem\"].copy() # 4x1 low overlap set\n",
    "set_df"
   ]
  },
  {
   "cell_type": "code",
   "execution_count": null,
   "metadata": {},
   "outputs": [],
   "source": [
    "orb_data=dict()\n",
    "for name,sample in set_df.iterrows():\n",
    "    # print(sample)\n",
    "    img = cv.imread(sample.path, cv.IMREAD_GRAYSCALE)\n",
    "    orb = cv.ORB_create(edgeThreshold=5)\n",
    "    kp, des = orb.detectAndCompute(img,None)\n",
    "    orb_data[name]={\"img\":img,\"kp\":kp,\"des\":des}\n",
    "orb_df=pd.DataFrame(orb_data).T\n",
    "orb_df"
   ]
  },
  {
   "cell_type": "code",
   "execution_count": 18,
   "metadata": {},
   "outputs": [],
   "source": [
    "from itertools import combinations"
   ]
  },
  {
   "cell_type": "code",
   "execution_count": null,
   "metadata": {},
   "outputs": [],
   "source": [
    "img_width=2560\n",
    "img_height=1672\n",
    "match_combs=combinations(set_df.index.to_list(),2)\n",
    "# print(list(match_combs))\n",
    "match_data=dict()\n",
    "for m1,m2 in match_combs:\n",
    "    print(m1,m2)\n",
    "    bf = cv.BFMatcher(cv.NORM_HAMMING, crossCheck=True)\n",
    "    matches = bf.match(orb_df[\"des\"][m1],orb_df[\"des\"][m2])\n",
    "    matches = sorted(matches, key = lambda x:x.distance)\n",
    "    img3 = cv.drawMatches(orb_df[\"img\"][m1],orb_df[\"kp\"][m1],orb_df[\"img\"][m2],orb_df[\"kp\"][m2],matches[:10],None,flags=cv.DrawMatchesFlags_NOT_DRAW_SINGLE_POINTS)\n",
    "    plt.imshow(img3)\n",
    "    plt.savefig(f\"241211_OCV_MOSet_{m1[7:11]}-{m2[10:11]}-matches.png\",bbox_inches=\"tight\",dpi=300)\n",
    "    plt.show()\n",
    "    for i,match in enumerate(matches[:]):\n",
    "        train_pt=orb_df[\"kp\"][m2][match.trainIdx].pt\n",
    "        query_pt=orb_df[\"kp\"][m1][match.queryIdx].pt\n",
    "        x_offset=train_pt[0]-query_pt[0]\n",
    "        y_offset=train_pt[1]-query_pt[1]\n",
    "        plt.plot([x_offset],[y_offset],\"o\",alpha=0.05,markersize=20)\n",
    "        if i<50:\n",
    "            plt.plot([0,x_offset],[0,y_offset],alpha=0.05)\n",
    "    plt.xlim([-img_width,img_width])\n",
    "    plt.ylim([-img_height,img_height])\n",
    "    plt.savefig(f\"241211_OCV_MOSet_{m1[7:11]}-{m2[10:11]}-offsets.png\",bbox_inches=\"tight\")\n",
    "    plt.show()"
   ]
  },
  {
   "cell_type": "markdown",
   "metadata": {},
   "source": [
    "# Offset Determination"
   ]
  },
  {
   "cell_type": "markdown",
   "metadata": {},
   "source": [
    "## Prototyping\n",
    "- lro2-3 for clean-defined\n",
    "- lro0-2 for fuzzy rotated\n",
    "- lro1-2 for similar feature but no match\n",
    "- hdf0-2 for corner barely match\n",
    "- hdf0-1 for clean-defined\n",
    "- hdf1-3 for clean-defined\n",
    "- lov2-3 for fuzzy match\n",
    "- lov1-2 for fuzzy match\n",
    "- ldf0-3 for clean match w/ noise\n",
    "- ldf2-3 for clean match w/ noise\n"
   ]
  },
  {
   "cell_type": "code",
   "execution_count": null,
   "metadata": {},
   "outputs": [],
   "source": [
    "samples_short=[\"sem0\",\"sem1\",\"sem2\",\"sem3\",\"sem4\",\"sem5\"]#[\"lro0\",\"lro1\",\"lro2\",\"lro3\",\"hdf0\",\"hdf1\",\"hdf2\",\"hdf3\",\"lov1\",\"lov2\",\"lov3\",\"ldf0\",\"ldf2\",\"ldf3\"]\n",
    "samples=pd.DataFrame([df[df.index.str.contains(x)].iloc[0] for x in samples_short])\n",
    "samples"
   ]
  },
  {
   "cell_type": "code",
   "execution_count": null,
   "metadata": {},
   "outputs": [],
   "source": [
    "orb_data=dict()\n",
    "for name,sample in samples.iterrows():\n",
    "    # print(sample)\n",
    "    img = cv.imread(sample.path, cv.IMREAD_GRAYSCALE)\n",
    "    orb = cv.ORB_create(nfeatures=500,edgeThreshold=5)\n",
    "    kp, des = orb.detectAndCompute(img,None)\n",
    "    orb_data[name]={\"img\":img,\"kp\":kp,\"des\":des}\n",
    "orb_df=pd.DataFrame(orb_data).T\n",
    "orb_df"
   ]
  },
  {
   "cell_type": "code",
   "execution_count": 24,
   "metadata": {},
   "outputs": [],
   "source": [
    "from scipy import ndimage"
   ]
  },
  {
   "cell_type": "code",
   "execution_count": null,
   "metadata": {},
   "outputs": [],
   "source": [
    "# match_combs=combinations(orb_df.index.to_list(),2)\n",
    "# match_combs=((\"lro2\",\"lro3\"),(\"lro0\",\"lro2\"),(\"lro1\",\"lro2\"),(\"hdf0\",\"hdf2\"),(\"hdf0\",\"hdf1\"),(\"hdf1\",\"hdf3\"),(\"lov2\",\"lov3\"),(\"lov1\",\"lov2\"),(\"ldf0\",\"ldf3\"),(\"ldf2\",\"ldf3\"))\n",
    "# match_combs=((\"sem0\",\"sem1\"),(\"sem2\",\"sem3\"),(\"sem3\",\"sem4\"),(\"sem4\",\"sem5\"),(\"sem3\",\"sem5\"))\n",
    "match_combs=((\"sem0\",\"sem1\"),(\"sem2\",\"sem3\"),(\"sem3\",\"sem4\"),(\"sem4\",\"sem5\"),(\"sem3\",\"sem5\"))\n",
    "match_combs=[(df.index[df.index.str.contains(x[0])][0],df.index[df.index.str.contains(x[1])][0]) for x in match_combs]\n",
    "\n",
    "match_combs"
   ]
  },
  {
   "cell_type": "code",
   "execution_count": null,
   "metadata": {},
   "outputs": [],
   "source": [
    "img_width=2560\n",
    "img_height=1672\n",
    "for m1,m2 in match_combs:\n",
    "    bf = cv.BFMatcher(cv.NORM_HAMMING, crossCheck=True)\n",
    "    matches = bf.match(orb_df[\"des\"][m1],orb_df[\"des\"][m2])\n",
    "    matches = sorted(matches, key = lambda x:x.distance)\n",
    "    print([m.distance for m in matches])\n",
    "    offset_grid=np.zeros((2*img_width,2*img_height),dtype=float) # change this to match 2x image distance.(3200,2400)\n",
    "    for i,match in enumerate(matches[:]):\n",
    "        train_pt=orb_df[\"kp\"][m2][match.trainIdx].pt\n",
    "        query_pt=orb_df[\"kp\"][m1][match.queryIdx].pt\n",
    "        x_offset_adj=int(train_pt[0]-query_pt[0]+img_width) #1600/1200 centers in numpy array/image.\n",
    "        y_offset_adj=int(train_pt[1]-query_pt[1]+img_height)\n",
    "        offset_grid[x_offset_adj,y_offset_adj]+=1000/(match.distance**2)\n",
    "    offset_grid=ndimage.gaussian_filter(offset_grid,10)\n",
    "    print(m1,m2,\"Offset:\",np.array(np.unravel_index(np.argmax(offset_grid),offset_grid.shape))-np.array([img_width,img_height]))\n",
    "    plt.title(\" \".join([m1,m2,str(tuple(np.array(np.unravel_index(np.argmax(offset_grid),offset_grid.shape))-np.array([img_width,img_height]))),f\"{offset_grid.max():.5f}\"]))\n",
    "    plt.imshow(offset_grid.T)\n",
    "    plt.colorbar()\n",
    "    plt.savefig(f\"241210_OffsetMap_{m1[7:11]}-{m2[10:11]}-offmap-1000imds-g10_nf500_et5.png\",bbox_inches=\"tight\",dpi=300)\n",
    "    plt.show()\n",
    "    # img3 = cv.drawMatches(orb_df[\"img\"][m1],orb_df[\"kp\"][m1],orb_df[\"img\"][m2],orb_df[\"kp\"][m2],matches[:10],None,flags=cv.DrawMatchesFlags_NOT_DRAW_SINGLE_POINTS)\n",
    "    # plt.imshow(img3)\n",
    "    # plt.savefig(f\"240815_OCV_MOSet_{m1[7:11]}-{m2[10:11]}-matches.png\",bbox_inches=\"tight\",dpi=300)\n",
    "    # plt.show()\n",
    "    # for i,match in enumerate(matches[:]):\n",
    "    #     train_pt=orb_df[\"kp\"][m2][match.trainIdx].pt\n",
    "    #     query_pt=orb_df[\"kp\"][m1][match.queryIdx].pt\n",
    "    #     x_offset=train_pt[0]-query_pt[0]\n",
    "    #     y_offset=train_pt[1]-query_pt[1]\n",
    "    #     plt.plot([x_offset],[y_offset],\"o\",alpha=0.05,markersize=20)\n",
    "    #     if i<50:\n",
    "    #         plt.plot([0,x_offset],[0,y_offset],alpha=0.05)\n",
    "    # plt.xlim([-1600,1600])\n",
    "    # plt.ylim([-1200,1200])\n",
    "    # plt.savefig(f\"240815_OCV_MOSet_{m1[7:11]}-{m2[10:11]}-offsets.png\",bbox_inches=\"tight\")\n",
    "    # plt.show()"
   ]
  },
  {
   "cell_type": "code",
   "execution_count": null,
   "metadata": {},
   "outputs": [],
   "source": [
    "# testing way to get/compare local maxima. Code from `https://stackoverflow.com/questions/9111711/get-coordinates-of-local-maxima-in-2d-array-above-certain-value`\n",
    "import numpy as np\n",
    "import scipy.ndimage as ndimage\n",
    "import matplotlib.pyplot as plt\n",
    "\n",
    "\n",
    "neighborhood_size = 50\n",
    "threshold = 0.0005\n",
    "\n",
    "data = offset_grid.T\n",
    "\n",
    "data_max = ndimage.maximum_filter(data, neighborhood_size)\n",
    "maxima = (data == data_max)\n",
    "data_min = ndimage.minimum_filter(data, neighborhood_size)\n",
    "diff = ((data_max - data_min) > threshold)\n",
    "maxima[diff == 0] = 0\n",
    "\n",
    "labeled, num_objects = ndimage.label(maxima)\n",
    "xy = np.array(ndimage.center_of_mass(data, labeled, range(1, num_objects+1)))\n",
    "\n",
    "plt.imshow(data)\n",
    "\n",
    "plt.autoscale(False)\n",
    "plt.plot(xy[:, 1], xy[:, 0], 'rx')\n"
   ]
  },
  {
   "cell_type": "markdown",
   "metadata": {},
   "source": [
    "# Non-array/blended match>offset"
   ]
  },
  {
   "cell_type": "code",
   "execution_count": null,
   "metadata": {},
   "outputs": [],
   "source": [
    "len(matches)"
   ]
  },
  {
   "cell_type": "code",
   "execution_count": 119,
   "metadata": {},
   "outputs": [],
   "source": [
    "# image_from=\"sample_sem0.tif\"\n",
    "# image_to=\"sample_sem1.tif\"\n",
    "# sem 0 to sem 1: [48 1101] from offset map\n",
    "# image_from=\"sample_sem3.tif\"\n",
    "# image_to=\"sample_sem5.tif\"\n",
    "# sem 3 to sem 5: No real relation\n",
    "image_from=\"sample_sem3.tif\"\n",
    "image_to=\"sample_sem4.tif\"\n",
    "# 3>4 has distinct relation in offset map\n",
    "\n",
    "matches = bf.match(orb_df[\"des\"][image_from],orb_df[\"des\"][image_to])\n",
    "matches = sorted(matches, key = lambda x:x.distance)\n",
    "\n",
    "pts_from=np.array([orb_df[\"kp\"][image_from][match.queryIdx].pt for match in matches])\n",
    "pts_to=np.array([orb_df[\"kp\"][image_to][match.trainIdx].pt for match in matches])"
   ]
  },
  {
   "cell_type": "code",
   "execution_count": 120,
   "metadata": {},
   "outputs": [],
   "source": [
    "eAP2D=cv.estimateAffinePartial2D(pts_from,pts_to)\n"
   ]
  },
  {
   "cell_type": "code",
   "execution_count": null,
   "metadata": {},
   "outputs": [],
   "source": [
    "print(\"X,Y:\",eAP2D[0][:,2])\n",
    "#cos^2 + sin^2 = 1 >> rotation/scale component of matrix =s^2\n",
    "print(\"Rotation & Scale Matrix:\",eAP2D[0][:,:2])\n",
    "eAP2D_scalex=(eAP2D[0][0,0]**2+eAP2D[0][0,1]**2)**0.5\n",
    "eAP2D_scaley=(eAP2D[0][1,1]**2+eAP2D[0][1,0]**2)**0.5\n",
    "print(\"Scale X,Y:\",[eAP2D_scalex,eAP2D_scaley])\n",
    "eAP2D_rotation=np.arctan(eAP2D[0][0,1]/eAP2D[0][1,1])\n",
    "print(\"Rotation(Rad/Deg):\",eAP2D_rotation,\"/\",eAP2D_rotation*180/np.pi)\n"
   ]
  },
  {
   "cell_type": "code",
   "execution_count": null,
   "metadata": {},
   "outputs": [],
   "source": [
    "print(\"Inliers:\",np.sum(eAP2D[1]))\n",
    "for pt_from,pt_to,in_out in zip(pts_from,pts_to,eAP2D[1]):\n",
    "    if in_out:\n",
    "        print(\"X,Y:\",pt_to[0]-pt_from[0],pt_to[1]-pt_from[1])"
   ]
  },
  {
   "cell_type": "markdown",
   "metadata": {},
   "source": [
    "# Set implementation\n",
    "Also grabbing all need coded/imports/etc."
   ]
  },
  {
   "cell_type": "code",
   "execution_count": 38,
   "metadata": {},
   "outputs": [],
   "source": [
    "import pandas as pd\n",
    "import cv2 as cv\n",
    "from math import dist\n",
    "import numpy as np\n",
    "from matplotlib import pyplot as plt"
   ]
  },
  {
   "cell_type": "markdown",
   "metadata": {},
   "source": [
    "Run data import from first section to setup `df`"
   ]
  },
  {
   "cell_type": "code",
   "execution_count": null,
   "metadata": {},
   "outputs": [],
   "source": [
    "samples_short=[\"sem0\",\"sem1\",\"sem2\",\"sem3\",\"sem4\",\"sem5\"]#\n",
    "# samples_short=[\"lro0\",\"lro1\",\"lro2\",\"lro3\",\"hdf0\",\"hdf1\",\"hdf2\",\"hdf3\",\"lov1\",\"lov2\",\"lov3\",\"ldf0\",\"ldf2\",\"ldf3\"]\n",
    "samples=pd.DataFrame([df[df.index.str.contains(x)].iloc[0] for x in samples_short])\n",
    "samples"
   ]
  },
  {
   "cell_type": "code",
   "execution_count": 40,
   "metadata": {},
   "outputs": [],
   "source": [
    "# match_combs=combinations(orb_df.index.to_list(),2)\n",
    "match_combs=((\"sem0\",\"sem1\"),(\"sem2\",\"sem3\"),(\"sem3\",\"sem4\"),(\"sem4\",\"sem5\"),(\"sem3\",\"sem5\"))\n",
    "# match_combs=((\"lro2\",\"lro3\"),(\"lro0\",\"lro2\"),(\"lro1\",\"lro2\"),(\"hdf0\",\"hdf2\"),(\"hdf0\",\"hdf1\"),(\"hdf1\",\"hdf3\"),(\"lov2\",\"lov3\"),(\"lov1\",\"lov2\"),(\"ldf0\",\"ldf3\"),(\"ldf2\",\"ldf3\"))\n",
    "# match_combs=((\"lov2\",\"lov3\"),(\"lov1\",\"lov2\"),(\"ldf0\",\"ldf3\"))\n",
    "match_combs=[(df.index[df.index.str.contains(x[0])][0],df.index[df.index.str.contains(x[1])][0]) for x in match_combs]\n"
   ]
  },
  {
   "cell_type": "code",
   "execution_count": null,
   "metadata": {},
   "outputs": [],
   "source": [
    "orb_data=dict()\n",
    "for name,sample in samples.iterrows():\n",
    "    # print(sample)\n",
    "    img = cv.imread(sample.path, cv.IMREAD_GRAYSCALE)\n",
    "    orb = cv.ORB_create(nfeatures=4000,edgeThreshold=5)\n",
    "    kp, des = orb.detectAndCompute(img,None)\n",
    "    orb_data[name]={\"img\":img,\"kp\":kp,\"des\":des}\n",
    "orb_df=pd.DataFrame(orb_data).T\n",
    "orb_df"
   ]
  },
  {
   "cell_type": "code",
   "execution_count": 42,
   "metadata": {},
   "outputs": [],
   "source": [
    "match_refs={#values for offset from offsetmap\n",
    "    (\"sem0\",\"sem1\"):[48, 1101],\n",
    "    (\"sem2\",\"sem3\"):[84, 1192],\n",
    "    (\"sem3\",\"sem4\"):[14, 682],\n",
    "    (\"sem4\",\"sem5\"):[1,1558],\n",
    "    (\"sem3\",\"sem5\"):[673,-538]\n",
    "}"
   ]
  },
  {
   "cell_type": "code",
   "execution_count": 43,
   "metadata": {},
   "outputs": [],
   "source": [
    "from scipy import ndimage"
   ]
  },
  {
   "cell_type": "code",
   "execution_count": null,
   "metadata": {},
   "outputs": [],
   "source": []
  },
  {
   "cell_type": "code",
   "execution_count": null,
   "metadata": {},
   "outputs": [],
   "source": [
    "for m1,m2 in match_combs:\n",
    "    print(m1,m2)\n",
    "    bf = cv.BFMatcher(cv.NORM_HAMMING, crossCheck=True)\n",
    "    \n",
    "    matches = bf.match(orb_df[\"des\"][m1],orb_df[\"des\"][m2])\n",
    "    matches = sorted(matches, key = lambda x:x.distance)\n",
    "    matches = matches[:int(len(matches)*(1/8))]\n",
    "    # matches = matches[:10]\n",
    "\n",
    "    pts_from=np.array([orb_df[\"kp\"][m1][match.queryIdx].pt for match in matches])\n",
    "    pts_to=np.array([orb_df[\"kp\"][m2][match.trainIdx].pt for match in matches])\n",
    "\n",
    "    eAP2D=cv.estimateAffinePartial2D(pts_from,pts_to)\n",
    "\n",
    "    eAP2D_translationx=eAP2D[0][0,2]\n",
    "    eAP2D_translationy=eAP2D[0][1,2]\n",
    "    print(f\"X,Y:{eAP2D_translationx:0.1f}, {eAP2D_translationy:0.1f}\")\n",
    "    print(\"Rotation & Scale Matrix: \\n\",eAP2D[0][:,:2])\n",
    "    eAP2D_scalex=(eAP2D[0][0,0]**2+eAP2D[0][0,1]**2)**0.5\n",
    "    eAP2D_scaley=(eAP2D[0][1,1]**2+eAP2D[0][1,0]**2)**0.5\n",
    "    print(f\"Scale X,Y: {eAP2D_scalex:0.3f}, {eAP2D_scaley:0.3f}\")\n",
    "    eAP2D_rotation=np.arctan(eAP2D[0][0,1]/eAP2D[0][1,1])\n",
    "    print(f\"Rotation(Rad/Deg): {eAP2D_rotation:0.3f} /{eAP2D_rotation*180/np.pi:0.1f}\")\n",
    "    print(\"Inliers:\",np.sum(eAP2D[1]))\n",
    "    for pt_from,pt_to,in_out in zip(pts_from,pts_to,eAP2D[1]):\n",
    "        if in_out:\n",
    "            print(f\"X,Y:{pt_from[0]-pt_to[0]:0.1f}, {pt_from[1]-pt_to[1]:0.1f}\")\n",
    "    \n",
    "    distances_inlier=np.array([(i,match.distance) for i,(match,in_out) in enumerate(zip(matches,eAP2D[1])) if in_out])\n",
    "    distances_outlier=np.array([(i,match.distance) for i,(match,in_out) in enumerate(zip(matches,eAP2D[1])) if not in_out])\n",
    "    plt.figure()\n",
    "    plt.plot(distances_inlier[:,0],distances_inlier[:,1],\"gx\")\n",
    "    try:\n",
    "        plt.plot(distances_outlier[:,0],distances_outlier[:,1],\"r.\")\n",
    "    except IndexError:\n",
    "        print(\"No Outliers\")\n",
    "    plt.xlabel(\"match index\")\n",
    "    plt.ylabel(\"match distance\")\n",
    "    plt.title(f\"{m1}-{m2} in/out distances\")\n",
    "    plt.show()\n",
    "\n",
    "    # ### Sanity check with offset map\n",
    "    # img_width=1600#2560\n",
    "    # img_height=1200#1672\n",
    "    # offset_grid=np.zeros((2*img_width,2*img_height),dtype=float) # change this to match 2x image distance.(3200,2400)\n",
    "    # for i,match in enumerate(matches[:]):\n",
    "    #     train_pt=orb_df[\"kp\"][m2][match.trainIdx].pt\n",
    "    #     query_pt=orb_df[\"kp\"][m1][match.queryIdx].pt\n",
    "    #     x_offset_adj=int(train_pt[0]-query_pt[0]+img_width) #1600/1200 centers in numpy array/image.\n",
    "    #     y_offset_adj=int(train_pt[1]-query_pt[1]+img_height)\n",
    "    #     offset_grid[x_offset_adj,y_offset_adj]+=1000/(match.distance**2)\n",
    "    # offset_grid=ndimage.gaussian_filter(offset_grid,10)\n",
    "    # print(m1,m2,\"Offset:\",np.array(np.unravel_index(np.argmax(offset_grid),offset_grid.shape))-np.array([img_width,img_height]))\n",
    "    # plt.title(\" \".join([m1,m2,str(tuple(np.array(np.unravel_index(np.argmax(offset_grid),offset_grid.shape))-np.array([img_width,img_height]))),f\"{offset_grid.max():.5f}\"]))\n",
    "    # plt.imshow(offset_grid.T)\n",
    "    # plt.colorbar()\n",
    "    # # plt.savefig(f\"241210_OffsetMap_{m1[7:11]}-{m2[10:11]}-offmap-1000imds-g10_nf500_et5.png\",bbox_inches=\"tight\",dpi=300)\n",
    "    # plt.show()\n",
    "    # match_refs[(m1[7:11],m2[7:11])]=list(np.array(np.unravel_index(np.argmax(offset_grid),offset_grid.shape))-np.array([img_width,img_height]))\n",
    "    # ###\n",
    "\n",
    "    top10_offsets=np.array([(pt_to[0]-pt_from[0],pt_to[1]-pt_from[1]) for pt_from,pt_to in zip(pts_from[:int(len(matches)*(1/10))],pts_to[:int(len(matches)*(1/10))])])\n",
    "    top50_offsets=np.array([(pt_to[0]-pt_from[0],pt_to[1]-pt_from[1]) for pt_from,pt_to in zip(pts_from[int(len(matches)*(1/10)):int(len(matches)*(1/2))],pts_to[int(len(matches)*(1/10)):int(len(matches)*(1/2))])])\n",
    "    remaining_offsets=np.array([(pt_to[0]-pt_from[0],pt_to[1]-pt_from[1]) for pt_from,pt_to in zip(pts_from[int(len(matches)*(1/2)):],pts_to[int(len(matches)*(1/2)):])])\n",
    "    plt.figure()\n",
    "    plt.plot(top10_offsets[:,0],top10_offsets[:,1],\"gx\",alpha=0.1)\n",
    "    plt.plot(top50_offsets[:,0],top50_offsets[:,1],\"yx\",alpha=0.1)\n",
    "    plt.plot(remaining_offsets[:,0],remaining_offsets[:,1],\"rx\",alpha=0.1)\n",
    "    plt.xlabel(\"x offset\")\n",
    "    plt.ylabel(\"y offset\")\n",
    "    plt.title(f\"{m1}-{m2} match offsets top 10%/top 50%/remaining\")\n",
    "    plt.show()\n",
    "\n",
    "\n",
    "    distances_metric_ref=np.array([(dist((pt_to[0]-pt_from[0],pt_to[1]-pt_from[1]),match_refs[(m1[7:11],m2[7:11])]),match.distance) for match,pt_from,pt_to in zip(matches,pts_from,pts_to)])\n",
    "    plt.figure()\n",
    "    plt.plot(distances_metric_ref[:,0],distances_metric_ref[:,1],\"x\")\n",
    "    plt.xlabel(\"ref distance\")\n",
    "    plt.ylabel(\"match distance\")\n",
    "    plt.xscale(\"log\")\n",
    "    plt.title(f\"{m1}-{m2} ref/match distances\")\n",
    "    plt.show()\n",
    "\n",
    "\n",
    "\n",
    "    # plt.title(\" \".join([m1,m2,str(tuple(np.array(np.unravel_index(np.argmax(offset_grid),offset_grid.shape))-np.array([img_width,img_height]))),f\"{offset_grid.max():.5f}\"]))\n",
    "    # plt.imshow(offset_grid.T)\n",
    "    # plt.colorbar()\n",
    "    # plt.savefig(f\"241210_OffsetMap_{m1[7:11]}-{m2[10:11]}-offmap-1000imds-g10_nf500_et5.png\",bbox_inches=\"tight\",dpi=300)\n",
    "    # plt.show()"
   ]
  },
  {
   "cell_type": "markdown",
   "metadata": {},
   "source": [
    "# Functionalizing process"
   ]
  },
  {
   "cell_type": "code",
   "execution_count": 1,
   "metadata": {},
   "outputs": [],
   "source": [
    "import pandas as pd\n",
    "import cv2 as cv\n",
    "import numpy as np\n",
    "from matplotlib import pyplot as plt"
   ]
  },
  {
   "cell_type": "code",
   "execution_count": 15,
   "metadata": {},
   "outputs": [],
   "source": [
    "from os.path import abspath\n",
    "from sys import path\n",
    "path.insert(0, abspath(\"../..\"))  # Repository directory relative to this file.\n",
    "from MISalign.model.mis_file import MisFile,load_mis\n",
    "from MISalign.model.relation import Relation"
   ]
  },
  {
   "cell_type": "code",
   "execution_count": 3,
   "metadata": {},
   "outputs": [],
   "source": [
    "mis_filepath=r\"..\\\\..\\example\\data\\set_a\\mymis_calibrated.mis\"\n",
    "mis_project=load_mis(mis_filepath)"
   ]
  },
  {
   "cell_type": "code",
   "execution_count": 4,
   "metadata": {},
   "outputs": [
    {
     "data": {
      "text/plain": [
       "{'a_myimages01.jpg': 'c:\\\\Users\\\\drago\\\\Documents\\\\git_gh\\\\MISalign\\\\example\\\\data\\\\set_a\\\\a_myimages01.jpg',\n",
       " 'a_myimages02.jpg': 'c:\\\\Users\\\\drago\\\\Documents\\\\git_gh\\\\MISalign\\\\example\\\\data\\\\set_a\\\\a_myimages02.jpg',\n",
       " 'a_myimages03.jpg': 'c:\\\\Users\\\\drago\\\\Documents\\\\git_gh\\\\MISalign\\\\example\\\\data\\\\set_a\\\\a_myimages03.jpg',\n",
       " 'a_myimages04.jpg': 'c:\\\\Users\\\\drago\\\\Documents\\\\git_gh\\\\MISalign\\\\example\\\\data\\\\set_a\\\\a_myimages04.jpg',\n",
       " 'a_myimages05.jpg': 'c:\\\\Users\\\\drago\\\\Documents\\\\git_gh\\\\MISalign\\\\example\\\\data\\\\set_a\\\\a_myimages05.jpg',\n",
       " 'a_myimages06.jpg': 'c:\\\\Users\\\\drago\\\\Documents\\\\git_gh\\\\MISalign\\\\example\\\\data\\\\set_a\\\\a_myimages06.jpg',\n",
       " 'a_myimages07.jpg': 'c:\\\\Users\\\\drago\\\\Documents\\\\git_gh\\\\MISalign\\\\example\\\\data\\\\set_a\\\\a_myimages07.jpg',\n",
       " 'a_myimages08.jpg': 'c:\\\\Users\\\\drago\\\\Documents\\\\git_gh\\\\MISalign\\\\example\\\\data\\\\set_a\\\\a_myimages08.jpg',\n",
       " 'a_myimages09.jpg': 'c:\\\\Users\\\\drago\\\\Documents\\\\git_gh\\\\MISalign\\\\example\\\\data\\\\set_a\\\\a_myimages09.jpg',\n",
       " 'a_myimages10.jpg': 'c:\\\\Users\\\\drago\\\\Documents\\\\git_gh\\\\MISalign\\\\example\\\\data\\\\set_a\\\\a_myimages10.jpg'}"
      ]
     },
     "execution_count": 4,
     "metadata": {},
     "output_type": "execute_result"
    }
   ],
   "source": [
    "mis_project.get_image_paths()"
   ]
  },
  {
   "cell_type": "code",
   "execution_count": 5,
   "metadata": {},
   "outputs": [
    {
     "data": {
      "text/plain": [
       "['a_myimages01.jpg',\n",
       " 'a_myimages02.jpg',\n",
       " 'a_myimages03.jpg',\n",
       " 'a_myimages04.jpg',\n",
       " 'a_myimages05.jpg',\n",
       " 'a_myimages06.jpg',\n",
       " 'a_myimages07.jpg',\n",
       " 'a_myimages08.jpg',\n",
       " 'a_myimages09.jpg',\n",
       " 'a_myimages10.jpg']"
      ]
     },
     "execution_count": 5,
     "metadata": {},
     "output_type": "execute_result"
    }
   ],
   "source": [
    "list(mis_project.get_image_paths().keys())"
   ]
  },
  {
   "cell_type": "code",
   "execution_count": 43,
   "metadata": {},
   "outputs": [],
   "source": [
    "class ImageManager():\n",
    "    def __init__(self,image_names_paths:dict):\n",
    "        self.image_dict={name:{\"path\":filepath} for name,filepath in image_names_paths.items()}\n",
    "    \n",
    "    def get_names(self)->list[str]:\n",
    "        return list(self.image_dict.keys())\n",
    "    def get_path(self,name:str)->str:\n",
    "        return self.image_dict[name][\"path\"]\n",
    "    def lookup_name(self,short_name:str)->str:\n",
    "        name_matches=[name for name in self.image_dict.keys() if short_name in name]\n",
    "        if len(name_matches)==1:\n",
    "            return name_matches\n",
    "        elif len(name_matches)==0:\n",
    "            raise ValueError(f\"short_name '{short_name}' matched no image names.\")\n",
    "        elif len(name_matches)>1:\n",
    "            raise ValueError(f\"short_name '{short_name}' matched {len(name_matches)} image names: {name_matches}\")\n",
    "\n",
    "class ORBManager():\n",
    "    def __init__(self,\n",
    "            ImageM:ImageManager,\n",
    "            precompute_default=True,\n",
    "            store_compute=True,\n",
    "            default_ORB_parameters={\"nfeatures\":500,\"edgeThreshold\":5}):\n",
    "        self.ImageM=ImageM\n",
    "        self.default_ORB_parameters=default_ORB_parameters\n",
    "        self.store_compute=store_compute\n",
    "        if store_compute:\n",
    "            self.computed=dict()\n",
    "            if precompute_default:\n",
    "                for image_name in ImageM.get_names():\n",
    "                    self.computed[image_name]=dict()\n",
    "                    self.computed[image_name][self.get_parameter_hashable(default_ORB_parameters)]=self.compute_orb(image_name,default_ORB_parameters)\n",
    "\n",
    "    def compute_orb(self,image_name,ORB_parameters):\n",
    "        img = cv.imread(self.ImageM.get_path(image_name), cv.IMREAD_GRAYSCALE)\n",
    "        orb = cv.ORB_create(**ORB_parameters)\n",
    "        kp, des = orb.detectAndCompute(img,None)\n",
    "        return {\"kp\":kp,\"des\":des}\n",
    "    def get_parameter_hashable(self,ORB_parameters:dict)->tuple:\n",
    "        return tuple((k,ORB_parameters[k]) for k in sorted(ORB_parameters))\n",
    "    def get_orb(self,image_name,ORB_parameters=None):\n",
    "        if ORB_parameters is None:\n",
    "            ORB_parameters=self.default_ORB_parameters\n",
    "        ORB_parameter_hashable=self.get_parameter_hashable(ORB_parameters)\n",
    "        if self.store_compute:\n",
    "            if image_name in self.computed.keys():\n",
    "                if ORB_parameter_hashable in self.computed[image_name].keys():\n",
    "                    return self.computed[image_name][ORB_parameter_hashable]\n",
    "            else:\n",
    "                self.computed[image_name]=dict()\n",
    "        computed_orb=self.compute_orb(image_name,ORB_parameters)\n",
    "        if self.store_compute:\n",
    "            self.computed[image_name][ORB_parameter_hashable]=computed_orb\n",
    "        return computed_orb\n",
    "\n",
    "def generate_match_combinations(strategy,**kwargs)-> list[list]: \n",
    "    if strategy==\"order\":\n",
    "        return generate_match_combinations_in_order(kwargs[\"order\"])\n",
    "    elif strategy==\"short_pairs\":\n",
    "        return generate_match_combinations_from_short_pairs(kwargs[\"short_pairs\"],kwargs[\"short_lookup\"])\n",
    "    elif strategy==\"all\":\n",
    "        return generate_match_combinations_all_combinations(kwargs[\"all\"])\n",
    "    elif strategy==\"search\":\n",
    "        return generate_match_combinations_all_combinations(kwargs[\"search\"],kwargs[\"all\"])\n",
    "    else:\n",
    "        raise ValueError(f\"'{strategy}' is not a valid strategy.\")\n",
    "def generate_match_combinations_in_order(order:list):\n",
    "    return [[a,b] for a,b in zip(order[:-1],order[1:])]\n",
    "def generate_match_combinations_from_short_pairs(short_pairs:list[list],short_lookup:ImageManager.lookup_name):\n",
    "    pass #TODO\n",
    "def generate_match_combinations_all_combinations(items:list):\n",
    "    pass #TODO\n",
    "def generate_match_combinations_search(search:str,items:list):\n",
    "    pass #TODO\n",
    "\n",
    "def generate_match_bf(\n",
    "        image1:str,\n",
    "        image2:str,\n",
    "        match_reduction_ratio:float,\n",
    "        OrbM:ORBManager,\n",
    "        ORB_parameters:dict=None)->list[cv.DMatch]:\n",
    "    brute_force_matcher = cv.BFMatcher(cv.NORM_HAMMING, crossCheck=True)\n",
    "    orb1=OrbM.get_orb(image1,ORB_parameters)\n",
    "    orb2=OrbM.get_orb(image2,ORB_parameters)\n",
    "    matches = brute_force_matcher.match(orb1[\"des\"],orb2[\"des\"])\n",
    "    sorted_matches = sorted(matches, key = lambda x:x.distance)\n",
    "    reduced_matches = matches[:int(len(sorted_matches)*(match_reduction_ratio))]\n",
    "    return reduced_matches,orb1,orb2\n",
    "\n",
    "def estimate_translation(\n",
    "        matches,\n",
    "        orb1,\n",
    "        orb2,\n",
    "        limit_affine_rotation=0.01, #maximum affine rotation without correction i.e. -0.01rad to +0.01rad rotations are acceptable.\n",
    "        limit_affine_scale=0.01, #maximum affine scale without correction i.e. 0.99 scale to 1.01 scale are acceptable.\n",
    "        limit_minimum_points=5, #minimum number of matched points for succesful translation estimate.\n",
    "        limit_inlier_consistency=0.5 #minimum fraction of matched points that must be consistent\n",
    "    )->list[list,bool]:\n",
    "    \n",
    "    pts_1=np.array([orb1[\"kp\"][match.queryIdx].pt for match in matches])\n",
    "    pts_2=np.array([orb2[\"kp\"][match.trainIdx].pt for match in matches])\n",
    "    eAP2D_matrix,eAP2D_in_out=cv.estimateAffinePartial2D(pts_1,pts_2)\n",
    "\n",
    "    eAP2D_translationx=eAP2D_matrix[0,2]\n",
    "    eAP2D_translationy=eAP2D_matrix[1,2]\n",
    "    # print(f\"X,Y:{eAP2D_translationx:0.1f}, {eAP2D_translationy:0.1f}\")\n",
    "    # print(\"Rotation & Scale Matrix: \\n\",eAP2D_matrix[:,:2])\n",
    "    eAP2D_scalex=(eAP2D_matrix[0,0]**2+eAP2D_matrix[0,1]**2)**0.5\n",
    "    eAP2D_scaley=(eAP2D_matrix[1,1]**2+eAP2D_matrix[1,0]**2)**0.5\n",
    "    # print(f\"Scale X,Y: {eAP2D_scalex:0.3f}, {eAP2D_scaley:0.3f}\")\n",
    "    eAP2D_rotation=np.arctan(eAP2D_matrix[0,1]/eAP2D_matrix[1,1])\n",
    "    # print(f\"Rotation(Rad/Deg): {eAP2D_rotation:0.3f} /{eAP2D_rotation*180/np.pi:0.1f}\")\n",
    "    # print(\"Inliers:\",np.sum(eAP2D[1]))\n",
    "    eAP2D_inliers=[(tuple(pt1),tuple(pt2)) for pt1,pt2,in_out in zip(pts_1,pts_2,eAP2D_in_out) if in_out]\n",
    "    eAP2D_inliers_count=len(eAP2D_inliers)\n",
    "    # for pt_from,pt_to,in_out in zip(pts_from,pts_to,eAP2D[1]):\n",
    "    #     if in_out:\n",
    "    #         print(f\"X,Y:{pt_from[0]-pt_to[0]:0.1f}, {pt_from[1]-pt_to[1]:0.1f}\")\n",
    "    #TODO verify based on limits\n",
    "    valid={\"overall\":True,\"individual\":[True for match in eAP2D_inliers]}\n",
    "    return eAP2D_inliers, valid\n",
    "\n",
    "\n",
    "class AlignCVManager():\n",
    "    def __init__(self,ImageM:ImageManager,OrbM:ORBManager):\n",
    "        self.ImageM=ImageM\n",
    "        self.OrbM=OrbM\n",
    "        self.alignments=[]\n",
    "    def run_alignment(self,match_combinations,match_reduction_ratio=1/2,ORB_parameters=None):\n",
    "        alignment_data={\"alignment_parameters\":{\"match_combinations\":match_combinations,\"match_reduction_ratio\":match_reduction_ratio,\"ORB_parameters\":ORB_parameters},\"alignment_data\":dict()}\n",
    "        for image1,image2 in match_combinations:\n",
    "            image_set=(image1,image2)\n",
    "            matches,orb1,orb2=generate_match_bf(\n",
    "                image1=image1,\n",
    "                image2=image2,\n",
    "                match_reduction_ratio=match_reduction_ratio,\n",
    "                OrbM=self.OrbM,\n",
    "                ORB_parameters=ORB_parameters\n",
    "                )\n",
    "            estimated_translation_inliers, estimated_translation_validity = estimate_translation(matches,orb1,orb2)\n",
    "            alignment_data[\"alignment_data\"][image_set]={\n",
    "                \"matches\":matches,\n",
    "                \"estimated_translation_inliers\":estimated_translation_inliers,\n",
    "                \"estimated_translation_validity\":estimated_translation_validity\n",
    "                }\n",
    "        self.alignments.append(alignment_data)\n",
    "        return len(self.alignments)-1\n",
    "    def get_alignment(self,alignment_id):\n",
    "        return self.alignments[alignment_id]\n",
    "    #TODO valid results to mis\n",
    "    #TODO merging valid results\n",
    "    def update_mis(self,\n",
    "            mis_project:MisFile,\n",
    "            alignment_id,\n",
    "            valid_only=True)->MisFile:\n",
    "        alignment_results=self.alignments[alignment_id]\n",
    "        match_combinations=alignment_results[\"alignment_parameters\"][\"match_combinations\"]\n",
    "        for mc in match_combinations:\n",
    "            mc_alignment_result=alignment_results[\"alignment_data\"][tuple(mc)]\n",
    "            if valid_only and not mc_alignment_result[\"estimated_translation_validity\"][\"overall\"]:\n",
    "                print(f\"Warning: Match {mc} not valid. No relation saved.\")\n",
    "                continue\n",
    "            mis_project._relations.append(Relation(\n",
    "                mc[0],\n",
    "                mc[1],\n",
    "                'p',\n",
    "                [([int(x) for x in pt1],[int(x) for x in pt2]) for (pt1,pt2),individual_valid in zip(mc_alignment_result['estimated_translation_inliers'],mc_alignment_result[\"estimated_translation_validity\"][\"individual\"])] ))\n",
    "\n"
   ]
  },
  {
   "cell_type": "code",
   "execution_count": 44,
   "metadata": {},
   "outputs": [],
   "source": [
    "ImageM=ImageManager(mis_project.get_image_paths())\n",
    "\n",
    "OrbM=ORBManager(ImageM,default_ORB_parameters={\"nfeatures\": 2000,\"edgeThreshold\": 5 })\n",
    "\n",
    "AlignCVM=AlignCVManager(ImageM,OrbM)\n",
    "\n",
    "match_combinations=generate_match_combinations(strategy=\"order\",order=sorted(mis_project.get_image_names()))\n",
    "\n",
    "alignment_id=AlignCVM.run_alignment(match_combinations)\n",
    "alignment_result=AlignCVM.get_alignment(alignment_id)"
   ]
  },
  {
   "cell_type": "code",
   "execution_count": 40,
   "metadata": {},
   "outputs": [
    {
     "data": {
      "text/plain": [
       "8"
      ]
     },
     "execution_count": 40,
     "metadata": {},
     "output_type": "execute_result"
    }
   ],
   "source": [
    "# len(alignment_result[\"alignment_data\"][tuple(match_combinations[0])][\"estimated_translation_validity\"][\"individual\"])\n",
    "# len(alignment_result[\"alignment_data\"][tuple(match_combinations[0])]['estimated_translation_inliers'])"
   ]
  },
  {
   "cell_type": "code",
   "execution_count": 20,
   "metadata": {},
   "outputs": [
    {
     "data": {
      "text/plain": [
       "[['a_myimages01.jpg', 'a_myimages02.jpg'],\n",
       " ['a_myimages02.jpg', 'a_myimages03.jpg'],\n",
       " ['a_myimages03.jpg', 'a_myimages04.jpg'],\n",
       " ['a_myimages04.jpg', 'a_myimages05.jpg'],\n",
       " ['a_myimages05.jpg', 'a_myimages06.jpg'],\n",
       " ['a_myimages06.jpg', 'a_myimages07.jpg'],\n",
       " ['a_myimages07.jpg', 'a_myimages08.jpg'],\n",
       " ['a_myimages08.jpg', 'a_myimages09.jpg'],\n",
       " ['a_myimages09.jpg', 'a_myimages10.jpg']]"
      ]
     },
     "execution_count": 20,
     "metadata": {},
     "output_type": "execute_result"
    }
   ],
   "source": [
    "match_combinations"
   ]
  },
  {
   "cell_type": "code",
   "execution_count": 21,
   "metadata": {},
   "outputs": [
    {
     "name": "stdout",
     "output_type": "stream",
     "text": [
      "[(-10, 1085), (-9, 1086), (-8, 1087), (-9, 1086), (-8, 1088), (-9, 1087), (-9, 1088), (-9, 1085)]\n",
      "[(-9, 1147), (-9, 1148), (-8, 1146), (-8, 1145), (-10, 1146), (-8, 1147), (-9, 1147)]\n",
      "[(125, 1061), (125, 1061), (124, 1063), (124, 1060), (124, 1060), (122, 1057), (122, 1058), (125, 1061), (125, 1061), (121, 1059), (123, 1057), (122, 1058), (124, 1061), (122, 1057), (124, 1060), (125, 1061), (122, 1058), (124, 1063), (126, 1062), (124, 1062)]\n",
      "[(-10, 942), (-11, 944), (-11, 945), (-9, 943), (-10, 944), (-9, 943), (-9, 941), (-10, 942), (-9, 943), (-10, 943), (-9, 943), (-9, 940), (-9, 940), (-9, 942), (-8, 942), (-8, 943), (-9, 943), (-9, 943), (-8, 942), (-9, 943), (-10, 944), (-10, 941), (-9, 942), (-10, 941), (-10, 941)]\n",
      "[(-7, 859), (-7, 859), (-7, 859), (-7, 858), (-6, 858), (-7, 859), (-6, 858), (-7, 858), (-7, 859), (-7, 859), (-6, 858), (-7, 859), (-6, 858), (-7, 859), (-6, 857), (-7, 857), (-7, 857), (-4, 855), (-6, 858), (-6, 858), (-7, 858), (-6, 856), (-7, 857), (-7, 858), (-6, 857), (-6, 857), (-6, 858), (-6, 858), (-8, 856), (-8, 855), (-6, 858), (-5, 858), (-7, 858), (-6, 858), (-7, 859), (-7, 859), (-5, 858), (-5, 858), (-6, 858), (-6, 859), (-6, 857), (-7, 856), (-7, 856), (-6, 856), (-6, 858), (-6, 858), (-6, 857), (-6, 858), (-4, 858), (-7, 858), (-6, 858), (-6, 856), (-5, 856), (-7, 856), (-8, 857), (-6, 857), (-7, 858), (-7, 858), (-5, 856), (-6, 858), (-7, 856), (-7, 856), (-6, 857), (-7, 858), (-5, 858), (-5, 858), (-6, 857), (-7, 858), (-7, 858), (-6, 856), (-7, 858)]\n",
      "[(-7, 990), (-8, 991), (-8, 988), (-7, 990), (-7, 990), (-8, 990), (-7, 989), (-7, 990), (-7, 990), (-7, 991), (-7, 991), (-7, 991), (-7, 991), (-7, 991), (-7, 988), (-7, 990), (-8, 991), (-8, 990), (-7, 989), (-7, 991), (-7, 990), (-8, 991), (-8, 989), (-8, 990), (-7, 990), (-7, 990), (-9, 989), (-7, 991), (-7, 990), (-7, 992)]\n",
      "[(-6, 1007), (-7, 1010), (-6, 1010), (-8, 1010), (-8, 1009), (-8, 1009), (-7, 1008), (-8, 1010), (-7, 1009), (-7, 1008), (-8, 1009), (-8, 1009), (-7, 1008), (-7, 1009), (-8, 1010), (-8, 1006)]\n",
      "[(-9, 938), (-7, 940), (-7, 939), (-6, 939), (-8, 936), (-8, 941), (-8, 939), (-5, 938), (-7, 938), (-8, 940), (-8, 939), (-8, 939), (-7, 939), (-7, 940), (-5, 939), (-7, 938), (-7, 939), (-8, 936), (-7, 938), (-5, 934), (-7, 938), (-7, 936), (-7, 940), (-7, 938), (-8, 939), (-6, 939), (-8, 938), (-7, 938), (-6, 938), (-6, 937), (-8, 936), (-8, 935), (-7, 938), (-8, 936), (-6, 939), (-8, 936), (-6, 939), (-6, 934), (-7, 938), (-8, 937), (-6, 937), (-9, 936), (-7, 938), (-7, 938)]\n",
      "[(-4, 716), (-4, 714), (-4, 716), (-4, 715), (-4, 716), (-6, 716), (-5, 714), (-4, 716), (-4, 717), (-3, 716), (-5, 715), (-5, 714), (-5, 716), (-4, 715), (-5, 714), (-5, 715), (-4, 716), (-3, 715), (-3, 715), (-4, 716), (-5, 713), (-5, 716), (-4, 717), (-4, 715), (-4, 716), (-5, 715), (-4, 716), (-4, 715), (-3, 716), (-5, 716), (-4, 716), (-4, 716), (-4, 716), (-4, 714), (-4, 716), (-4, 714), (-5, 714), (-4, 716), (-8, 714), (-5, 715), (-4, 714), (-5, 716), (-5, 715), (-3, 714), (-4, 716), (-5, 714), (-4, 716), (-3, 715), (-6, 712), (-4, 717), (-3, 715), (-4, 716), (-4, 716), (-6, 714), (-4, 716), (-4, 715), (-3, 716), (-5, 715), (-4, 716), (-4, 716), (-3, 716), (-4, 716), (-3, 716), (-4, 716), (-3, 716), (-3, 716), (-3, 716), (-2, 716), (-5, 715), (-4, 715), (-3, 715), (-5, 716), (-4, 716), (-3, 715), (-6, 712), (-3, 714), (-4, 716), (-3, 715), (-4, 716), (-3, 714), (-4, 714), (-3, 716), (-3, 716), (-3, 716), (-3, 714), (-5, 714), (-3, 716), (-3, 716), (-3, 714), (-3, 715), (-2, 714), (-4, 712), (-4, 715), (-4, 715), (-2, 717), (-4, 717), (-2, 715), (-4, 717), (-5, 714), (-4, 715), (-4, 715), (-4, 715), (-5, 713), (-4, 715), (-2, 714), (-4, 712), (-2, 715), (-2, 714), (-4, 714), (-2, 714), (-4, 714), (-4, 715), (-4, 715)]\n",
      "[([1327.0, 1148.0], [1337.0, 63.0]), ([1281.0, 1149.0], [1290.0, 63.0]), ([1028.4000244140625, 1140.0], [1036.800048828125, 52.80000305175781]), ([1329.60009765625, 1147.2000732421875], [1339.0, 61.0]), ([562.800048828125, 1150.800048828125], [571.2000122070312, 62.400001525878906]), ([1272.0, 1148.4000244140625], [1281.60009765625, 61.20000076293945]), ([564.4800415039062, 1166.4000244140625], [573.6000366210938, 78.0]), ([1280.1600341796875, 1147.6800537109375], [1290.0, 62.400001525878906])]\n",
      "[([899.0, 1185.0], [908.0, 38.0]), ([902.0, 1184.0], [911.0, 36.0]), ([1140.0, 1169.0], [1148.0, 23.0]), ([1133.0, 1165.0], [1141.0, 20.0]), ([666.0, 1161.60009765625], [676.0, 15.0]), ([902.4000244140625, 1183.2000732421875], [910.800048828125, 36.0]), ([897.6000366210938, 1184.4000244140625], [907.2000122070312, 37.20000076293945])]\n",
      "[([506.0, 1159.0], [381.0, 98.0]), ([509.0, 1155.0], [384.0, 94.0]), ([1027.0, 1115.0], [902.4000244140625, 51.60000228881836]), ([1229.0, 1066.0], [1105.0, 6.0]), ([1177.0, 1181.0], [1053.0, 121.0]), ([1488.0, 1120.0], [1365.60009765625, 62.400001525878906]), ([1494.0, 1113.0], [1371.60009765625, 54.000003814697266]), ([917.0, 1073.0], [792.0, 12.0]), ([817.0, 1117.0], [692.0, 56.0]), ([1408.800048828125, 1104.0], [1287.0, 45.0]), ([1406.4000244140625, 1101.60009765625], [1283.0, 44.0]), ([1495.2000732421875, 1093.2000732421875], [1372.800048828125, 34.80000305175781]), ([1114.800048828125, 1146.0], [990.7200317382812, 84.96000671386719]), ([1490.4000244140625, 1117.2000732421875], [1368.0, 60.000003814697266]), ([1027.2000732421875, 1114.800048828125], [902.4000244140625, 54.000003814697266]), ([1143.60009765625, 1174.800048828125], [1018.0800170898438, 113.76000213623047]), ([1488.0, 1138.800048828125], [1365.60009765625, 80.4000015258789]), ([1010.4000244140625, 1126.800048828125], [885.6000366210938, 63.36000061035156]), ([817.2000122070312, 1117.2000732421875], [691.2000122070312, 55.20000076293945]), ([800.4000244140625, 1117.2000732421875], [675.6000366210938, 55.20000076293945])]\n",
      "[([384.0, 973.0], [394.0, 31.0]), ([288.0, 992.0], [299.0, 48.0]), ([1044.0, 992.0], [1055.0, 47.0]), ([1232.0, 996.0], [1241.0, 53.0]), ([725.0, 1025.0], [735.0, 81.0]), ([442.0, 1047.0], [451.0, 104.0]), ([1196.0, 1082.0], [1205.0, 141.0]), ([1199.0, 1087.0], [1209.0, 145.0]), ([862.0, 1090.0], [871.2000122070312, 146.40000915527344]), ([843.0, 1124.0], [853.0, 181.0]), ([898.0, 1131.0], [907.0, 188.0]), ([1196.4000244140625, 1084.800048828125], [1206.0, 144.0]), ([1194.0, 1082.4000244140625], [1203.60009765625, 141.60000610351562]), ([1197.60009765625, 1078.800048828125], [1207.2000732421875, 136.8000030517578]), ([1237.2000732421875, 999.6000366210938], [1245.60009765625, 57.60000228881836]), ([897.6000366210938, 1130.4000244140625], [906.0000610351562, 187.20001220703125]), ([843.6000366210938, 1124.4000244140625], [853.2000122070312, 181.20001220703125]), ([1210.800048828125, 1053.60009765625], [1220.4000244140625, 110.4000015258789]), ([441.6000061035156, 1046.4000244140625], [450.0000305175781, 104.4000015258789]), ([289.20001220703125, 991.2000122070312], [298.8000183105469, 48.0]), ([384.0, 973.2000122070312], [394.0, 29.0]), ([1332.0, 1170.0], [1342.800048828125, 228.00001525878906]), ([432.0000305175781, 1172.4000244140625], [441.6000061035156, 230.40000915527344]), ([1203.840087890625, 1084.320068359375], [1213.9200439453125, 142.5600128173828]), ([1196.6400146484375, 1077.1199951171875], [1206.7200927734375, 135.36000061035156])]\n",
      "[([888.0, 871.0], [895.0, 12.0]), ([856.0, 887.0], [863.0, 28.0]), ([892.0, 891.0], [899.0, 32.0]), ([886.0, 894.0], [893.0, 36.0]), ([897.0, 895.0], [903.0, 37.0]), ([886.0, 898.0], [893.0, 39.0]), ([650.0, 911.0], [656.0, 53.0]), ([944.0, 919.0], [951.0, 61.0]), ([945.0, 922.0], [952.0, 63.0]), ([436.0, 927.0], [443.0, 68.0]), ([387.0, 939.0], [393.0, 81.0]), ([530.0, 957.0], [537.0, 98.0]), ([373.0, 970.0], [379.0, 112.0]), ([804.0, 987.0], [811.0, 128.0]), ([645.0, 1005.0], [651.0, 148.0]), ([651.0, 1062.0], [658.0, 205.0]), ([1078.0, 1079.0], [1085.0, 222.0]), ([533.0, 1084.0], [537.6000366210938, 228.00001525878906]), ([514.0, 1095.0], [520.0, 237.0]), ([514.0, 1097.0], [520.0, 239.0]), ([536.0, 1097.0], [543.0, 239.0]), ([405.0, 1099.0], [411.6000061035156, 242.40000915527344]), ([504.0, 1102.0], [511.0, 245.0]), ([516.0, 1111.0], [523.0, 253.0]), ([526.0, 1112.0], [532.0, 255.0]), ([562.0, 1114.0], [568.0, 257.0]), ([674.0, 1114.0], [680.0, 256.0]), ([427.0, 1173.0], [433.0, 315.0]), ([1228.0, 1192.0], [1236.0, 336.0]), ([1228.0, 1194.0], [1236.0, 339.0]), ([856.800048828125, 885.6000366210938], [862.800048828125, 27.600000381469727]), ([895.2000122070312, 894.0000610351562], [901.0, 36.0]), ([343.20001220703125, 895.2000122070312], [350.4000244140625, 37.20000076293945]), ([650.4000244140625, 910.800048828125], [656.4000244140625, 52.80000305175781]), ([934.800048828125, 919.2000122070312], [942.0000610351562, 60.000003814697266]), ([944.4000244140625, 921.6000366210938], [951.6000366210938, 62.400001525878906]), ([687.6000366210938, 936.0000610351562], [692.6400146484375, 77.76000213623047]), ([295.20001220703125, 938.4000244140625], [301.0, 80.0]), ([494.4000244140625, 940.800048828125], [500.4000244140625, 82.80000305175781]), ([530.4000244140625, 957.6000366210938], [536.4000244140625, 98.4000015258789]), ([907.2000122070312, 964.800048828125], [914.0, 107.0]), ([1077.60009765625, 1078.800048828125], [1084.800048828125, 222.00001525878906]), ([1347.60009765625, 1089.60009765625], [1355.0400390625, 233.28001403808594]), ([513.6000366210938, 1095.60009765625], [519.6000366210938, 238.8000030517578]), ([536.4000244140625, 1096.800048828125], [542.4000244140625, 238.8000030517578]), ([405.6000061035156, 1100.4000244140625], [411.84002685546875, 241.92001342773438]), ([505.20001220703125, 1104.0], [511.20001220703125, 246.00001525878906]), ([516.0, 1111.2000732421875], [522.0, 253.20001220703125]), ([526.800048828125, 1112.4000244140625], [531.6000366210938, 254.40000915527344]), ([672.0, 1112.4000244140625], [679.0, 254.0]), ([670.800048828125, 1114.800048828125], [676.800048828125, 256.8000183105469]), ([392.4000244140625, 1165.2000732421875], [398.4000244140625, 308.4000244140625]), ([430.8000183105469, 1168.800048828125], [436.0, 312.0]), ([776.4000244140625, 1171.2000732421875], [783.6000366210938, 314.4000244140625]), ([1023.6000366210938, 1179.60009765625], [1032.47998046875, 322.55999755859375]), ([453.6000061035156, 1183.2000732421875], [460.0, 326.0]), ([504.0000305175781, 1103.0400390625], [511.20001220703125, 244.8000030517578]), ([383.0400085449219, 940.3200073242188], [390.2400207519531, 82.08000183105469]), ([296.6400146484375, 937.4400634765625], [302.4000244140625, 80.63999938964844]), ([686.8800048828125, 936.0000610351562], [692.9280395507812, 77.760009765625]), ([1199.52001953125, 900.0000610351562], [1206.7200927734375, 43.20000076293945]), ([891.3600463867188, 900.0000610351562], [898.56005859375, 43.20000076293945]), ([885.6000366210938, 897.1200561523438], [891.6000366210938, 39.60000228881836]), ([649.4400024414062, 910.0800170898438], [656.6400146484375, 51.840003967285156]), ([856.800048828125, 885.6000366210938], [862.56005859375, 27.360000610351562]), ([864.0000610351562, 882.7200317382812], [869.760009765625, 24.48000144958496]), ([1285.9200439453125, 946.0800170898438], [1292.4000244140625, 88.80000305175781]), ([907.2000122070312, 964.800048828125], [914.4000244140625, 106.56000518798828]), ([371.52001953125, 973.4400634765625], [378.7200012207031, 115.20000457763672]), ([1264.320068359375, 974.8800659179688], [1270.800048828125, 118.80000305175781]), ([643.6800537109375, 1005.1200561523438], [650.8800048828125, 146.8800048828125])]\n",
      "[([607.0, 1028.0], [614.4000244140625, 37.20000076293945]), ([606.0, 1036.0], [614.0, 45.0]), ([1263.0, 1052.0], [1271.0, 64.0]), ([584.0, 1112.0], [591.0, 122.0]), ([524.0, 1116.0], [531.0, 126.0]), ([485.0, 1122.0], [493.0, 132.0]), ([543.0, 1154.0], [550.0, 165.0]), ([741.0, 1155.0], [748.0, 165.0]), ([535.0, 1158.0], [542.0, 168.0]), ([542.0, 1159.0], [549.0, 168.0]), ([535.0, 1161.0], [542.0, 170.0]), ([934.800048828125, 1004.4000244140625], [942.0000610351562, 13.200000762939453]), ([606.0, 1035.60009765625], [613.2000122070312, 44.400001525878906]), ([610.800048828125, 1038.0], [618.0, 46.80000305175781]), ([1262.4000244140625, 1051.2000732421875], [1269.60009765625, 62.400001525878906]), ([858.0000610351562, 1072.800048828125], [866.0, 82.0]), ([1257.60009765625, 1086.0], [1266.0, 94.80000305175781]), ([1260.0, 1086.0], [1268.4000244140625, 96.0]), ([523.2000122070312, 1116.0], [530.4000244140625, 126.00000762939453]), ([519.6000366210938, 1119.60009765625], [526.800048828125, 128.40000915527344]), ([484.8000183105469, 1120.800048828125], [492.0000305175781, 130.8000030517578]), ([524.4000244140625, 1135.2000732421875], [532.800048828125, 144.0]), ([1236.0, 1140.0], [1244.0, 151.0]), ([1221.60009765625, 1147.2000732421875], [1230.0, 157.20001220703125]), ([542.4000244140625, 1154.4000244140625], [549.6000366210938, 164.40000915527344]), ([740.4000244140625, 1154.4000244140625], [747.6000366210938, 164.40000915527344]), ([1436.4000244140625, 1162.800048828125], [1446.0, 173.0]), ([452.4000244140625, 1165.2000732421875], [459.6000061035156, 174.0]), ([376.8000183105469, 1172.4000244140625], [384.0, 182.40000915527344]), ([934.56005859375, 1005.1200561523438], [941.760009765625, 12.960000991821289])]\n",
      "[([645.0, 1023.0], [651.6000366210938, 15.600000381469727]), ([714.0, 1028.0], [721.0, 18.0]), ([490.0, 1032.0], [496.8000183105469, 21.600000381469727]), ([417.0, 1050.0], [425.0, 40.0]), ([863.0, 1050.0], [871.0, 41.0]), ([1138.0, 1062.0], [1146.0, 53.0]), ([1135.0, 1063.0], [1142.0, 55.0]), ([669.0, 1066.0], [677.0, 56.0]), ([705.0, 1088.0], [712.0, 79.0]), ([712.800048828125, 1028.4000244140625], [720.0, 20.400001525878906]), ([756.0, 1036.800048828125], [764.4000244140625, 27.600000381469727]), ([862.800048828125, 1050.0], [871.2000122070312, 40.80000305175781]), ([1148.4000244140625, 1060.800048828125], [1155.60009765625, 52.80000305175781]), ([523.2000122070312, 1062.0], [530.4000244140625, 52.80000305175781]), ([668.4000244140625, 1065.60009765625], [676.800048828125, 55.20000076293945]), ([1009.2000122070312, 1126.800048828125], [1017.6000366210938, 120.00000762939453])]\n",
      "[([1323.0, 952.0], [1332.0, 14.0]), ([826.0, 956.0], [833.0, 16.0]), ([360.0, 986.0], [367.20001220703125, 46.80000305175781]), ([363.0, 987.0], [369.6000061035156, 48.0]), ([1513.0, 988.0], [1521.0, 52.0]), ([621.0, 989.0], [629.0, 48.0]), ([1130.0, 1010.0], [1138.0, 71.0]), ([282.0, 1017.0], [287.0, 79.0]), ([1196.0, 1025.0], [1203.60009765625, 86.4000015258789]), ([832.0, 1033.0], [840.0, 93.0]), ([561.0, 1062.0], [569.0, 123.0]), ([794.0, 1065.0], [802.0, 126.0]), ([446.0, 1101.0], [453.0, 162.0]), ([757.0, 1122.0], [764.0, 182.0]), ([641.0, 1136.0], [646.800048828125, 196.8000030517578]), ([322.0, 1137.0], [329.0, 199.0]), ([636.0, 1138.0], [643.0, 199.0]), ([1120.0, 1141.0], [1128.0, 205.0]), ([875.0, 1148.0], [882.0, 210.0]), ([1553.0, 1155.0], [1558.800048828125, 220.8000030517578]), ([362.4000244140625, 986.4000244140625], [370.08001708984375, 47.52000045776367]), ([1513.2000732421875, 987.6000366210938], [1520.4000244140625, 51.60000228881836]), ([621.6000366210938, 988.800048828125], [628.800048828125, 48.0]), ([282.0, 1016.4000244140625], [289.20001220703125, 78.0]), ([1232.4000244140625, 1035.60009765625], [1241.280029296875, 96.4800033569336]), ([585.6000366210938, 1058.4000244140625], [592.0, 119.0]), ([1024.800048828125, 1107.60009765625], [1033.0, 169.0]), ([757.2000122070312, 1125.60009765625], [764.4000244140625, 187.20001220703125]), ([318.0, 1135.2000732421875], [324.0, 196.8000030517578]), ([322.8000183105469, 1136.4000244140625], [328.8000183105469, 199.20001220703125]), ([1530.0, 1150.800048828125], [1538.4000244140625, 214.8000030517578]), ([1554.0001220703125, 1154.4000244140625], [1562.4000244140625, 218.8800048828125]), ([1323.360107421875, 951.8400268554688], [1330.5601806640625, 13.82400131225586]), ([1513.4400634765625, 967.6800537109375], [1522.080078125, 31.68000030517578]), ([580.3200073242188, 984.9600219726562], [586.800048828125, 45.60000228881836]), ([1512.0, 987.8400268554688], [1520.6400146484375, 51.840003967285156]), ([596.1600341796875, 990.7200317382812], [602.4000244140625, 51.60000228881836]), ([1504.800048828125, 990.7200317382812], [1510.800048828125, 56.400001525878906]), ([282.2400207519531, 1016.6400146484375], [289.44000244140625, 77.76000213623047]), ([1229.760009765625, 1033.9200439453125], [1238.4000244140625, 96.4800033569336]), ([1270.080078125, 1041.1199951171875], [1276.9920654296875, 103.68000793457031]), ([1018.0800170898438, 1105.9200439453125], [1027.2000732421875, 169.20001220703125]), ([635.0400390625, 1128.9600830078125], [642.2400512695312, 190.0800018310547]), ([639.3600463867188, 1134.7200927734375], [646.5599975585938, 195.8400115966797])]\n",
      "[([811.0, 865.0], [815.0, 149.0]), ([1512.0, 858.0], [1516.0, 144.0]), ([789.0, 858.0], [793.0, 142.0]), ([331.0, 858.0], [335.0, 143.0]), ([436.0, 825.0], [440.0, 109.0]), ([1511.0, 852.0], [1517.0, 136.0]), ([1415.0, 850.0], [1420.0, 136.0]), ([332.0, 849.0], [336.0, 133.0]), ([431.0, 837.0], [435.0, 120.0]), ([807.0, 840.0], [810.0, 124.0]), ([971.0, 1188.0], [976.0, 473.0]), ([972.0, 1181.0], [977.0, 467.0]), ([976.0, 1180.0], [981.0, 464.0]), ([398.0, 1152.0], [402.0, 437.0]), ([904.0, 1142.0], [909.0, 428.0]), ([903.0, 1140.0], [908.0, 425.0]), ([571.0, 1133.0], [575.0, 417.0]), ([458.0, 1120.0], [461.0, 405.0]), ([431.0, 1115.0], [434.0, 400.0]), ([1071.0, 1103.0], [1075.0, 387.0]), ([1347.0, 1076.0], [1352.4000244140625, 362.4000244140625]), ([1157.0, 1076.0], [1162.0, 360.0]), ([1119.0, 1058.0], [1123.0, 341.0]), ([892.0, 1039.0], [896.0, 324.0]), ([1066.0, 1017.0], [1070.0, 301.0]), ([1272.0, 1015.0], [1277.0, 300.0]), ([741.0, 961.0], [745.0, 245.0]), ([340.0, 959.0], [344.0, 244.0]), ([745.0, 957.0], [748.0, 241.0]), ([740.0, 957.0], [745.0, 241.0]), ([531.0, 956.0], [535.0, 240.0]), ([533.0, 955.0], [537.0, 239.0]), ([531.0, 945.0], [535.0, 229.0]), ([1143.0, 743.0], [1147.0, 29.0]), ([926.0, 935.0], [930.0, 219.0]), ([1381.0, 921.0], [1385.0, 207.0]), ([1370.0, 921.0], [1375.2000732421875, 206.40000915527344]), ([953.0, 915.0], [957.0, 199.0]), ([1488.0, 771.0], [1496.0, 57.0]), ([955.0, 879.0], [960.0, 164.0]), ([1499.0, 777.0], [1503.0, 63.0]), ([342.0, 875.0], [347.0, 159.0]), ([1513.0, 785.0], [1518.0, 70.0]), ([1514.0, 791.0], [1517.0, 77.0]), ([693.0, 848.0], [697.0, 132.0]), ([1516.0, 849.0], [1521.0, 135.0]), ([1524.0, 721.0], [1528.0, 5.0]), ([907.2000122070312, 1140.0], [910.800048828125, 424.8000183105469]), ([1519.2000732421875, 1132.800048828125], [1526.0, 420.0]), ([1071.60009765625, 1125.60009765625], [1076.4000244140625, 408.0000305175781]), ([430.8000183105469, 1114.800048828125], [434.4000244140625, 399.6000061035156]), ([940.800048828125, 1090.800048828125], [945.6000366210938, 374.4000244140625]), ([1156.800048828125, 1076.4000244140625], [1161.60009765625, 360.0]), ([1344.0, 1074.0], [1350.0, 360.0]), ([1118.4000244140625, 1057.2000732421875], [1123.2000732421875, 340.8000183105469]), ([891.6000366210938, 1039.2000732421875], [896.4000244140625, 324.0]), ([1071.60009765625, 1014.0000610351562], [1075.2000732421875, 297.6000061035156]), ([726.0, 961.2000122070312], [731.0, 246.0]), ([724.800048828125, 958.800048828125], [729.6000366210938, 242.40000915527344]), ([342.0, 958.800048828125], [346.8000183105469, 242.40000915527344]), ([745.2000122070312, 956.4000244140625], [748.800048828125, 240.00001525878906]), ([528.0, 955.2000122070312], [532.800048828125, 238.8000030517578]), ([525.6000366210938, 954.0000610351562], [529.2000122070312, 237.60000610351562]), ([524.4000244140625, 951.6000366210938], [528.4800415039062, 234.7200164794922]), ([524.4000244140625, 948.0000610351562], [528.0, 231.60000610351562]), ([528.0, 945.6000366210938], [531.6000366210938, 229.20001220703125]), ([525.6000366210938, 945.6000366210938], [529.2000122070312, 229.20001220703125]), ([320.4000244140625, 930.0000610351562], [323.0, 214.0]), ([1380.0, 920.4000244140625], [1385.280029296875, 204.48001098632812]), ([950.4000244140625, 916.800048828125], [955.2000122070312, 201.60000610351562]), ([952.800048828125, 914.4000244140625], [956.4000244140625, 199.20001220703125]), ([873.6000366210938, 906.0000610351562], [879.0, 190.0]), ([952.800048828125, 877.2000122070312], [957.6000366210938, 160.8000030517578]), ([331.20001220703125, 872.4000244140625], [334.8000183105469, 157.20001220703125]), ([1506.0, 871.2000122070312], [1512.0, 158.40000915527344]), ([1512.0, 858.0000610351562], [1515.60009765625, 144.0]), ([788.4000244140625, 858.0000610351562], [793.2000122070312, 141.60000610351562]), ([331.20001220703125, 858.0000610351562], [334.8000183105469, 142.8000030517578]), ([787.2000122070312, 855.6000366210938], [792.0000610351562, 139.20001220703125]), ([1143.60009765625, 742.800048828125], [1147.2000732421875, 28.80000114440918]), ([1515.60009765625, 849.6000366210938], [1520.4000244140625, 135.60000610351562]), ([332.4000244140625, 849.6000366210938], [336.0, 133.20001220703125]), ([1104.0, 846.0000610351562], [1107.3599853515625, 129.60000610351562]), ([728.4000244140625, 846.0000610351562], [732.0, 129.60000610351562]), ([1514.4000244140625, 763.2000122070312], [1518.0, 49.20000076293945]), ([1500.0, 776.4000244140625], [1505.0, 62.0]), ([430.8000183105469, 836.4000244140625], [434.4000244140625, 120.00000762939453]), ([679.2000122070312, 790.800048828125], [683.0, 74.0]), ([1513.2000732421875, 790.800048828125], [1516.800048828125, 76.80000305175781]), ([436.8000183105469, 824.4000244140625], [440.4000244140625, 109.20000457763672]), ([399.6000061035156, 1150.800048828125], [402.0000305175781, 436.8000183105469]), ([975.6000366210938, 1177.2000732421875], [980.4000244140625, 464.4000244140625]), ([972.0000610351562, 1182.0], [976.800048828125, 466.8000183105469]), ([981.6000366210938, 1182.0], [986.4000244140625, 466.8000183105469]), ([345.6000061035156, 969.1200561523438], [348.4800109863281, 252.00001525878906]), ([741.6000366210938, 959.0400390625], [745.9200439453125, 241.92001342773438]), ([342.7200012207031, 959.0400390625], [345.6000061035156, 243.36001586914062]), ([528.4800415039062, 954.7200317382812], [532.800048828125, 237.60000610351562]), ([534.2400512695312, 950.4000244140625], [540.0, 236.16000366210938]), ([527.0400390625, 944.6400146484375], [531.3600463867188, 228.9600067138672]), ([318.2400207519531, 928.800048828125], [322.55999755859375, 213.12001037597656]), ([874.0800170898438, 905.760009765625], [878.4000244140625, 190.0800018310547]), ([1512.0, 875.52001953125], [1517.1842041015625, 162.43202209472656]), ([342.7200012207031, 874.0800170898438], [347.0400085449219, 158.40000915527344]), ([331.20001220703125, 871.2000122070312], [334.08001708984375, 156.9600067138672]), ([1513.4400634765625, 864.0000610351562], [1517.760009765625, 151.20001220703125]), ([1143.3599853515625, 743.0400390625], [1146.239990234375, 27.360000610351562]), ([1517.760009765625, 743.0400390625], [1520.6400146484375, 28.80000114440918]), ([1512.0, 858.2400512695312], [1516.320068359375, 144.0]), ([331.20001220703125, 856.800048828125], [334.08001708984375, 142.5600128173828]), ([1510.56005859375, 852.4800415039062], [1514.8800048828125, 138.24000549316406]), ([331.20001220703125, 848.1600341796875], [335.52001953125, 132.48001098632812]), ([341.2799987792969, 845.280029296875], [345.6000061035156, 129.60000610351562])]\n"
     ]
    }
   ],
   "source": [
    "for mc in match_combinations:\n",
    "    print([(int(pt1[0]-pt2[0]),int(pt1[1]-pt2[1])) for pt1,pt2 in alignment_result[\"alignment_data\"][tuple(mc)]['estimated_translation_inliers']])\n",
    "for mc in match_combinations:\n",
    "    print([(list(pt1),list(pt2)) for pt1,pt2 in alignment_result[\"alignment_data\"][tuple(mc)]['estimated_translation_inliers']])"
   ]
  },
  {
   "cell_type": "code",
   "execution_count": 22,
   "metadata": {},
   "outputs": [
    {
     "data": {
      "text/plain": [
       "[[('a_myimages01.jpg', 'a_myimages02.jpg'), (12, -1088)],\n",
       " [('a_myimages02.jpg', 'a_myimages03.jpg'), (8, -1141)],\n",
       " [('a_myimages03.jpg', 'a_myimages04.jpg'), (-129, -1058)],\n",
       " [('a_myimages04.jpg', 'a_myimages05.jpg'), (11, -943)],\n",
       " [('a_myimages05.jpg', 'a_myimages06.jpg'), (5, -860)],\n",
       " [('a_myimages06.jpg', 'a_myimages07.jpg'), (10, -990)],\n",
       " [('a_myimages07.jpg', 'a_myimages08.jpg'), (9, -1009)],\n",
       " [('a_myimages08.jpg', 'a_myimages09.jpg'), (9, -939)],\n",
       " [('a_myimages09.jpg', 'a_myimages10.jpg'), (3, -722)]]"
      ]
     },
     "execution_count": 22,
     "metadata": {},
     "output_type": "execute_result"
    }
   ],
   "source": [
    "mis_project.get_rels(\"r\")"
   ]
  },
  {
   "cell_type": "code",
   "execution_count": 45,
   "metadata": {},
   "outputs": [
    {
     "data": {
      "text/plain": [
       "[[('a_myimages01.jpg', 'a_myimages02.jpg'), (9, -1086)],\n",
       " [('a_myimages02.jpg', 'a_myimages03.jpg'), (8, -1146)],\n",
       " [('a_myimages03.jpg', 'a_myimages04.jpg'), (-124, -1060)],\n",
       " [('a_myimages04.jpg', 'a_myimages05.jpg'), (9, -942)],\n",
       " [('a_myimages05.jpg', 'a_myimages06.jpg'), (6, -857)],\n",
       " [('a_myimages06.jpg', 'a_myimages07.jpg'), (7, -990)],\n",
       " [('a_myimages07.jpg', 'a_myimages08.jpg'), (7, -1009)],\n",
       " [('a_myimages08.jpg', 'a_myimages09.jpg'), (7, -938)],\n",
       " [('a_myimages09.jpg', 'a_myimages10.jpg'), (4, -715)]]"
      ]
     },
     "execution_count": 45,
     "metadata": {},
     "output_type": "execute_result"
    }
   ],
   "source": [
    "mis_project_copy=load_mis(mis_filepath)\n",
    "mis_project_copy._relations=[]\n",
    "# for mc in match_combinations:\n",
    "#     mis_project_copy._relations.append(Relation(\n",
    "#         mc[0],\n",
    "#         mc[1],\n",
    "#         'p',\n",
    "#         [([int(x) for x in pt1],[int(x) for x in pt2]) for pt1,pt2 in alignment_result[\"alignment_data\"][tuple(mc)]['estimated_translation_inliers']]))\n",
    "AlignCVM.update_mis(mis_project_copy,alignment_id)\n",
    "#TODO add an update relation option?\n",
    "mis_project_copy.get_rels(\"r\")"
   ]
  },
  {
   "cell_type": "markdown",
   "metadata": {},
   "source": [
    "# Module setup"
   ]
  },
  {
   "cell_type": "code",
   "execution_count": 8,
   "metadata": {},
   "outputs": [],
   "source": [
    "from os.path import abspath\n",
    "from sys import path\n",
    "path.insert(0, abspath(\"../..\"))  # Repository directory relative to this file.\n",
    "from MISalign.model.mis_file import load_mis,save_mis\n",
    "from MISalign.alignment.align_cv import ImageManager, ORBManager, AlignCVManager, generate_match_combinations"
   ]
  },
  {
   "cell_type": "code",
   "execution_count": 2,
   "metadata": {},
   "outputs": [],
   "source": [
    "mis_filepath=r\"..\\\\..\\example\\data\\set_a\\mymis_calibrated.mis\"\n",
    "mis_project=load_mis(mis_filepath)"
   ]
  },
  {
   "cell_type": "code",
   "execution_count": 3,
   "metadata": {},
   "outputs": [
    {
     "name": "stdout",
     "output_type": "stream",
     "text": [
      "{'alignment_parameters': {'match_combinations': [['a_myimages01.jpg', 'a_myimages02.jpg'], ['a_myimages02.jpg', 'a_myimages03.jpg'], ['a_myimages03.jpg', 'a_myimages04.jpg'], ['a_myimages04.jpg', 'a_myimages05.jpg'], ['a_myimages05.jpg', 'a_myimages06.jpg'], ['a_myimages06.jpg', 'a_myimages07.jpg'], ['a_myimages07.jpg', 'a_myimages08.jpg'], ['a_myimages08.jpg', 'a_myimages09.jpg'], ['a_myimages09.jpg', 'a_myimages10.jpg']], 'match_reduction_ratio': 0.5, 'ORB_parameters': None}, 'alignment_data': {('a_myimages01.jpg', 'a_myimages02.jpg'): {'matches': (< cv2.DMatch 000001B67FB056D0>, < cv2.DMatch 000001B67FB06730>, < cv2.DMatch 000001B67FB054F0>, < cv2.DMatch 000001B67FB055B0>, < cv2.DMatch 000001B67FB05A30>, < cv2.DMatch 000001B67FB05CD0>, < cv2.DMatch 000001B67FB05430>, < cv2.DMatch 000001B67FB05A10>, < cv2.DMatch 000001B67FB05CB0>, < cv2.DMatch 000001B67FB05F70>, < cv2.DMatch 000001B67FB05F50>, < cv2.DMatch 000001B67FB061F0>, < cv2.DMatch 000001B67FB069D0>, < cv2.DMatch 000001B67FB05770>, < cv2.DMatch 000001B67FB05750>, < cv2.DMatch 000001B67FB06490>, < cv2.DMatch 000001B67FB06470>, < cv2.DMatch 000001B67FB069B0>, < cv2.DMatch 000001B67FB06C70>, < cv2.DMatch 000001B67FB06C50>, < cv2.DMatch 000001B67FB06C90>, < cv2.DMatch 000001B67FB06CB0>, < cv2.DMatch 000001B67FB06CD0>, < cv2.DMatch 000001B67FB06CF0>, < cv2.DMatch 000001B67FB06D10>, < cv2.DMatch 000001B67FB06D30>, < cv2.DMatch 000001B67FB06D50>, < cv2.DMatch 000001B67FB06D70>, < cv2.DMatch 000001B67FB06D90>, < cv2.DMatch 000001B67FB06DB0>, < cv2.DMatch 000001B67FB06DD0>, < cv2.DMatch 000001B67FB06DF0>, < cv2.DMatch 000001B67FB06E10>, < cv2.DMatch 000001B67FB06E30>, < cv2.DMatch 000001B67FB06E50>, < cv2.DMatch 000001B67FB06E70>, < cv2.DMatch 000001B67FB06E90>, < cv2.DMatch 000001B67FB06EB0>, < cv2.DMatch 000001B67FB06ED0>, < cv2.DMatch 000001B67FB06EF0>, < cv2.DMatch 000001B67FB06F10>, < cv2.DMatch 000001B67FB06F30>, < cv2.DMatch 000001B67FB06F50>, < cv2.DMatch 000001B67FB06F70>, < cv2.DMatch 000001B67FB06F90>, < cv2.DMatch 000001B67FB06FB0>, < cv2.DMatch 000001B67FB06FD0>, < cv2.DMatch 000001B67FB06FF0>, < cv2.DMatch 000001B67FB07010>, < cv2.DMatch 000001B67FB07030>, < cv2.DMatch 000001B67FB07050>, < cv2.DMatch 000001B67FB07070>, < cv2.DMatch 000001B67FB07090>, < cv2.DMatch 000001B67FB070B0>, < cv2.DMatch 000001B67FB070D0>, < cv2.DMatch 000001B67FB070F0>, < cv2.DMatch 000001B67FB07110>, < cv2.DMatch 000001B67FB07130>, < cv2.DMatch 000001B67FB07150>, < cv2.DMatch 000001B67FB07170>, < cv2.DMatch 000001B67FB07190>, < cv2.DMatch 000001B67FB071B0>, < cv2.DMatch 000001B67FB071D0>, < cv2.DMatch 000001B67FB071F0>, < cv2.DMatch 000001B67FB07210>, < cv2.DMatch 000001B67FB07230>, < cv2.DMatch 000001B67FB07250>, < cv2.DMatch 000001B67FB07270>, < cv2.DMatch 000001B67FB07290>, < cv2.DMatch 000001B67FB072B0>, < cv2.DMatch 000001B67FB072D0>, < cv2.DMatch 000001B67FB072F0>, < cv2.DMatch 000001B67FB07310>, < cv2.DMatch 000001B67FB07330>, < cv2.DMatch 000001B67FB07350>, < cv2.DMatch 000001B67FB07370>, < cv2.DMatch 000001B67FB07390>, < cv2.DMatch 000001B67FB073B0>, < cv2.DMatch 000001B67FB073D0>, < cv2.DMatch 000001B67FB073F0>, < cv2.DMatch 000001B67FB07410>, < cv2.DMatch 000001B67FB07430>, < cv2.DMatch 000001B67FB07450>, < cv2.DMatch 000001B67FB07470>, < cv2.DMatch 000001B67FB07490>, < cv2.DMatch 000001B67FB074B0>, < cv2.DMatch 000001B67FB074D0>, < cv2.DMatch 000001B67FB074F0>, < cv2.DMatch 000001B67FB07510>, < cv2.DMatch 000001B67FB07530>, < cv2.DMatch 000001B67FB07550>, < cv2.DMatch 000001B67FB07570>, < cv2.DMatch 000001B67FB07590>, < cv2.DMatch 000001B67FB075B0>, < cv2.DMatch 000001B67FB075D0>, < cv2.DMatch 000001B67FB075F0>, < cv2.DMatch 000001B67FB07610>, < cv2.DMatch 000001B67FB07630>, < cv2.DMatch 000001B67FB07650>, < cv2.DMatch 000001B67FB07670>, < cv2.DMatch 000001B67FB07690>, < cv2.DMatch 000001B67FB076B0>, < cv2.DMatch 000001B67FB076D0>, < cv2.DMatch 000001B67FB076F0>, < cv2.DMatch 000001B67FB07710>, < cv2.DMatch 000001B67FB07730>, < cv2.DMatch 000001B67FB07750>, < cv2.DMatch 000001B67FB07770>, < cv2.DMatch 000001B67FB07790>, < cv2.DMatch 000001B67FB077B0>, < cv2.DMatch 000001B67FB077D0>, < cv2.DMatch 000001B67FB077F0>, < cv2.DMatch 000001B67FB07810>, < cv2.DMatch 000001B67FB07830>, < cv2.DMatch 000001B67FB07850>, < cv2.DMatch 000001B67FB07870>, < cv2.DMatch 000001B67FB07890>, < cv2.DMatch 000001B67FB078B0>, < cv2.DMatch 000001B67FB078D0>, < cv2.DMatch 000001B67FB078F0>, < cv2.DMatch 000001B67FB07910>, < cv2.DMatch 000001B67FB07930>, < cv2.DMatch 000001B67FB07950>, < cv2.DMatch 000001B67FB07970>, < cv2.DMatch 000001B67FB07990>, < cv2.DMatch 000001B67FB079B0>, < cv2.DMatch 000001B67FB079D0>, < cv2.DMatch 000001B67FB079F0>, < cv2.DMatch 000001B67FB07A10>, < cv2.DMatch 000001B67FB07A30>, < cv2.DMatch 000001B67FB07A50>, < cv2.DMatch 000001B67FB07A70>, < cv2.DMatch 000001B67FB07A90>, < cv2.DMatch 000001B67FB07AB0>, < cv2.DMatch 000001B67FB07AD0>, < cv2.DMatch 000001B67FB07AF0>, < cv2.DMatch 000001B67FB07B10>, < cv2.DMatch 000001B67FB07B30>, < cv2.DMatch 000001B67FB07B50>, < cv2.DMatch 000001B67FB07B70>, < cv2.DMatch 000001B67FB07B90>, < cv2.DMatch 000001B67FB07BB0>, < cv2.DMatch 000001B67FB07BD0>, < cv2.DMatch 000001B67FB07BF0>, < cv2.DMatch 000001B67FB07C10>, < cv2.DMatch 000001B67FB07C30>, < cv2.DMatch 000001B67FB07C50>, < cv2.DMatch 000001B67FB07C70>, < cv2.DMatch 000001B67FB07C90>, < cv2.DMatch 000001B67FB07CB0>, < cv2.DMatch 000001B67FB07CD0>, < cv2.DMatch 000001B67FB07CF0>, < cv2.DMatch 000001B67FB07D10>, < cv2.DMatch 000001B67FB07D30>, < cv2.DMatch 000001B67FB07D50>, < cv2.DMatch 000001B67FB07D70>, < cv2.DMatch 000001B67FB07D90>, < cv2.DMatch 000001B67FB07DB0>, < cv2.DMatch 000001B67FB07DD0>, < cv2.DMatch 000001B67FB07DF0>, < cv2.DMatch 000001B67FB07E10>, < cv2.DMatch 000001B67FB07E30>, < cv2.DMatch 000001B67FB07E50>, < cv2.DMatch 000001B67FB07E70>, < cv2.DMatch 000001B67FB07E90>, < cv2.DMatch 000001B67FB07EB0>, < cv2.DMatch 000001B67FB07ED0>, < cv2.DMatch 000001B67FB07EF0>, < cv2.DMatch 000001B67FB07F10>, < cv2.DMatch 000001B67FB07F30>, < cv2.DMatch 000001B67FB07F50>, < cv2.DMatch 000001B67FB07F70>, < cv2.DMatch 000001B67FB07F90>, < cv2.DMatch 000001B67FB07FB0>, < cv2.DMatch 000001B67FB07FD0>, < cv2.DMatch 000001B617264030>, < cv2.DMatch 000001B617264050>, < cv2.DMatch 000001B617264070>, < cv2.DMatch 000001B617264090>, < cv2.DMatch 000001B6172640B0>, < cv2.DMatch 000001B6172640D0>, < cv2.DMatch 000001B6172640F0>, < cv2.DMatch 000001B617264110>, < cv2.DMatch 000001B617264130>, < cv2.DMatch 000001B617264150>, < cv2.DMatch 000001B617264170>, < cv2.DMatch 000001B617264190>, < cv2.DMatch 000001B6172641B0>, < cv2.DMatch 000001B6172641D0>, < cv2.DMatch 000001B6172641F0>, < cv2.DMatch 000001B617264210>, < cv2.DMatch 000001B617264230>, < cv2.DMatch 000001B617264250>, < cv2.DMatch 000001B617264270>, < cv2.DMatch 000001B617264290>, < cv2.DMatch 000001B6172642B0>, < cv2.DMatch 000001B6172642D0>, < cv2.DMatch 000001B6172642F0>, < cv2.DMatch 000001B617264310>, < cv2.DMatch 000001B617264330>, < cv2.DMatch 000001B617264350>, < cv2.DMatch 000001B617264370>, < cv2.DMatch 000001B617264390>, < cv2.DMatch 000001B6172643B0>, < cv2.DMatch 000001B6172643D0>, < cv2.DMatch 000001B6172643F0>, < cv2.DMatch 000001B617264410>, < cv2.DMatch 000001B617264430>, < cv2.DMatch 000001B617264450>, < cv2.DMatch 000001B617264470>, < cv2.DMatch 000001B617264490>, < cv2.DMatch 000001B6172644B0>, < cv2.DMatch 000001B6172644D0>), 'estimated_translation_inliers': [((1327.0, 1148.0), (1337.0, 63.0)), ((1281.0, 1149.0), (1290.0, 63.0)), ((1028.4000244140625, 1140.0), (1036.800048828125, 52.80000305175781)), ((1329.60009765625, 1147.2000732421875), (1339.0, 61.0)), ((562.800048828125, 1150.800048828125), (571.2000122070312, 62.400001525878906)), ((1272.0, 1148.4000244140625), (1281.60009765625, 61.20000076293945)), ((564.4800415039062, 1166.4000244140625), (573.6000366210938, 78.0)), ((1280.1600341796875, 1147.6800537109375), (1290.0, 62.400001525878906))], 'estimated_translation_validity': {'overall': True, 'individual': [True, True, True, True, True, True, True, True]}}, ('a_myimages02.jpg', 'a_myimages03.jpg'): {'matches': (< cv2.DMatch 000001B66F5903B0>, < cv2.DMatch 000001B66F3BB690>, < cv2.DMatch 000001B67FB054B0>, < cv2.DMatch 000001B67F8B32D0>, < cv2.DMatch 000001B617266770>, < cv2.DMatch 000001B617266410>, < cv2.DMatch 000001B617267FD0>, < cv2.DMatch 000001B617267B30>, < cv2.DMatch 000001B6172678D0>, < cv2.DMatch 000001B617267890>, < cv2.DMatch 000001B617267430>, < cv2.DMatch 000001B617266F50>, < cv2.DMatch 000001B617266E50>, < cv2.DMatch 000001B617266AF0>, < cv2.DMatch 000001B617266690>, < cv2.DMatch 000001B617267D90>, < cv2.DMatch 000001B617267D50>, < cv2.DMatch 000001B617267D30>, < cv2.DMatch 000001B617266E10>, < cv2.DMatch 000001B617266DD0>, < cv2.DMatch 000001B617266DB0>, < cv2.DMatch 000001B617266CB0>, < cv2.DMatch 000001B617266630>, < cv2.DMatch 000001B617267C90>, < cv2.DMatch 000001B617267B70>, < cv2.DMatch 000001B617267AD0>, < cv2.DMatch 000001B617267A70>, < cv2.DMatch 000001B617267830>, < cv2.DMatch 000001B617267590>, < cv2.DMatch 000001B617266C30>, < cv2.DMatch 000001B617266650>, < cv2.DMatch 000001B617266510>, < cv2.DMatch 000001B617266090>, < cv2.DMatch 000001B617267BB0>, < cv2.DMatch 000001B617267490>, < cv2.DMatch 000001B617267250>, < cv2.DMatch 000001B6172670F0>, < cv2.DMatch 000001B617266FD0>, < cv2.DMatch 000001B617266A90>, < cv2.DMatch 000001B6172664D0>, < cv2.DMatch 000001B617266270>, < cv2.DMatch 000001B617265FF0>, < cv2.DMatch 000001B617267EB0>, < cv2.DMatch 000001B617267DD0>, < cv2.DMatch 000001B617267C50>, < cv2.DMatch 000001B617266F90>, < cv2.DMatch 000001B6172666F0>, < cv2.DMatch 000001B617266250>, < cv2.DMatch 000001B617266130>, < cv2.DMatch 000001B617267F30>, < cv2.DMatch 000001B617267810>, < cv2.DMatch 000001B617267730>, < cv2.DMatch 000001B6172676B0>, < cv2.DMatch 000001B6172671F0>, < cv2.DMatch 000001B6172670D0>, < cv2.DMatch 000001B617267070>, < cv2.DMatch 000001B617266CD0>, < cv2.DMatch 000001B617266850>, < cv2.DMatch 000001B617267AB0>, < cv2.DMatch 000001B617266EB0>, < cv2.DMatch 000001B617266E90>, < cv2.DMatch 000001B617266A50>, < cv2.DMatch 000001B617266A30>, < cv2.DMatch 000001B6172666B0>, < cv2.DMatch 000001B617266430>, < cv2.DMatch 000001B617266350>, < cv2.DMatch 000001B617267FB0>, < cv2.DMatch 000001B617267E70>, < cv2.DMatch 000001B617267530>, < cv2.DMatch 000001B617266E70>, < cv2.DMatch 000001B617266E30>, < cv2.DMatch 000001B617266D50>, < cv2.DMatch 000001B617266BF0>, < cv2.DMatch 000001B617267E10>, < cv2.DMatch 000001B6172679B0>, < cv2.DMatch 000001B617267910>, < cv2.DMatch 000001B617267310>, < cv2.DMatch 000001B6172668D0>, < cv2.DMatch 000001B6172667B0>, < cv2.DMatch 000001B617266550>, < cv2.DMatch 000001B6172664F0>, < cv2.DMatch 000001B617267C30>, < cv2.DMatch 000001B6172675D0>, < cv2.DMatch 000001B6172673D0>, < cv2.DMatch 000001B617267010>, < cv2.DMatch 000001B617266B90>, < cv2.DMatch 000001B617266990>, < cv2.DMatch 000001B6172664B0>, < cv2.DMatch 000001B617267AF0>, < cv2.DMatch 000001B617267270>, < cv2.DMatch 000001B6172671D0>, < cv2.DMatch 000001B617267E90>, < cv2.DMatch 000001B617267D70>, < cv2.DMatch 000001B617267A30>, < cv2.DMatch 000001B617267710>, < cv2.DMatch 000001B617266930>, < cv2.DMatch 000001B617266910>, < cv2.DMatch 000001B6172666D0>, < cv2.DMatch 000001B617266150>, < cv2.DMatch 000001B617266110>, < cv2.DMatch 000001B617266030>, < cv2.DMatch 000001B617267990>, < cv2.DMatch 000001B617266570>, < cv2.DMatch 000001B6172661F0>, < cv2.DMatch 000001B617267DF0>, < cv2.DMatch 000001B617267DB0>, < cv2.DMatch 000001B617267950>, < cv2.DMatch 000001B6172678F0>, < cv2.DMatch 000001B617267510>, < cv2.DMatch 000001B6172674D0>, < cv2.DMatch 000001B6172663D0>, < cv2.DMatch 000001B617265FB0>, < cv2.DMatch 000001B617267E30>, < cv2.DMatch 000001B6172665B0>, < cv2.DMatch 000001B6172672D0>, < cv2.DMatch 000001B6172670B0>, < cv2.DMatch 000001B617267030>, < cv2.DMatch 000001B617266490>, < cv2.DMatch 000001B617266470>, < cv2.DMatch 000001B617267350>, < cv2.DMatch 000001B6172660D0>, < cv2.DMatch 000001B617265FD0>, < cv2.DMatch 000001B617267F10>, < cv2.DMatch 000001B617267A50>, < cv2.DMatch 000001B617267870>, < cv2.DMatch 000001B617266230>, < cv2.DMatch 000001B617267570>, < cv2.DMatch 000001B6172662B0>, < cv2.DMatch 000001B617265C10>, < cv2.DMatch 000001B617265F30>, < cv2.DMatch 000001B617265E10>, < cv2.DMatch 000001B6172653B0>, < cv2.DMatch 000001B617264590>, < cv2.DMatch 000001B617264A50>, < cv2.DMatch 000001B617264E30>, < cv2.DMatch 000001B617265330>, < cv2.DMatch 000001B6172656F0>, < cv2.DMatch 000001B617265C30>, < cv2.DMatch 000001B617265310>, < cv2.DMatch 000001B6172655F0>, < cv2.DMatch 000001B6172656D0>, < cv2.DMatch 000001B617265150>, < cv2.DMatch 000001B617265390>, < cv2.DMatch 000001B617265E90>, < cv2.DMatch 000001B617264C90>, < cv2.DMatch 000001B617265010>, < cv2.DMatch 000001B617265C50>, < cv2.DMatch 000001B617265EF0>, < cv2.DMatch 000001B617264970>, < cv2.DMatch 000001B617264CB0>, < cv2.DMatch 000001B617264F70>, < cv2.DMatch 000001B617265410>, < cv2.DMatch 000001B6172655B0>, < cv2.DMatch 000001B617265630>, < cv2.DMatch 000001B6172659F0>, < cv2.DMatch 000001B6172648F0>, < cv2.DMatch 000001B617264930>, < cv2.DMatch 000001B617265710>, < cv2.DMatch 000001B617265D50>, < cv2.DMatch 000001B617264570>, < cv2.DMatch 000001B6172648B0>, < cv2.DMatch 000001B6172649D0>, < cv2.DMatch 000001B617264FF0>, < cv2.DMatch 000001B617265B10>, < cv2.DMatch 000001B617265BF0>, < cv2.DMatch 000001B617264630>, < cv2.DMatch 000001B617264C10>, < cv2.DMatch 000001B617265290>, < cv2.DMatch 000001B617265770>, < cv2.DMatch 000001B6172657B0>, < cv2.DMatch 000001B617265810>, < cv2.DMatch 000001B617265930>, < cv2.DMatch 000001B617264770>, < cv2.DMatch 000001B6172650B0>, < cv2.DMatch 000001B6172651D0>, < cv2.DMatch 000001B6172652B0>, < cv2.DMatch 000001B617265650>, < cv2.DMatch 000001B617265BD0>, < cv2.DMatch 000001B6172644F0>, < cv2.DMatch 000001B617264950>, < cv2.DMatch 000001B617264D70>, < cv2.DMatch 000001B617265090>, < cv2.DMatch 000001B6172651F0>, < cv2.DMatch 000001B617265B50>, < cv2.DMatch 000001B617265DD0>, < cv2.DMatch 000001B617264710>, < cv2.DMatch 000001B6172647F0>, < cv2.DMatch 000001B617264CF0>, < cv2.DMatch 000001B617265110>, < cv2.DMatch 000001B617265250>, < cv2.DMatch 000001B617265370>, < cv2.DMatch 000001B6172656B0>, < cv2.DMatch 000001B617264550>, < cv2.DMatch 000001B6172645D0>, < cv2.DMatch 000001B617264BD0>, < cv2.DMatch 000001B617265170>, < cv2.DMatch 000001B617265910>, < cv2.DMatch 000001B617265A70>, < cv2.DMatch 000001B617265AB0>, < cv2.DMatch 000001B617265F70>, < cv2.DMatch 000001B617264650>, < cv2.DMatch 000001B617264810>, < cv2.DMatch 000001B617264AB0>, < cv2.DMatch 000001B617264C50>, < cv2.DMatch 000001B617265490>, < cv2.DMatch 000001B617265690>, < cv2.DMatch 000001B617265C70>, < cv2.DMatch 000001B617265DF0>, < cv2.DMatch 000001B6172646D0>, < cv2.DMatch 000001B6172647B0>, < cv2.DMatch 000001B617264B70>, < cv2.DMatch 000001B617264DF0>, < cv2.DMatch 000001B617264E10>), 'estimated_translation_inliers': [((899.0, 1185.0), (908.0, 38.0)), ((902.0, 1184.0), (911.0, 36.0)), ((1140.0, 1169.0), (1148.0, 23.0)), ((1133.0, 1165.0), (1141.0, 20.0)), ((666.0, 1161.60009765625), (676.0, 15.0)), ((902.4000244140625, 1183.2000732421875), (910.800048828125, 36.0)), ((897.6000366210938, 1184.4000244140625), (907.2000122070312, 37.20000076293945))], 'estimated_translation_validity': {'overall': True, 'individual': [True, True, True, True, True, True, True]}}, ('a_myimages03.jpg', 'a_myimages04.jpg'): {'matches': (< cv2.DMatch 000001B617266210>, < cv2.DMatch 000001B617264A30>, < cv2.DMatch 000001B6172674F0>, < cv2.DMatch 000001B617266010>, < cv2.DMatch 000001B617264E90>, < cv2.DMatch 000001B617267470>, < cv2.DMatch 000001B617264AD0>, < cv2.DMatch 000001B617267ED0>, < cv2.DMatch 000001B617266FF0>, < cv2.DMatch 000001B617267050>, < cv2.DMatch 000001B617267D10>, < cv2.DMatch 000001B617265CD0>, < cv2.DMatch 000001B617266AD0>, < cv2.DMatch 000001B617267970>, < cv2.DMatch 000001B617265450>, < cv2.DMatch 000001B617264510>, < cv2.DMatch 000001B617264E70>, < cv2.DMatch 000001B617264EB0>, < cv2.DMatch 000001B6172649F0>, < cv2.DMatch 000001B617265570>, < cv2.DMatch 000001B617264D50>, < cv2.DMatch 000001B617265190>, < cv2.DMatch 000001B617265470>, < cv2.DMatch 000001B617265D10>, < cv2.DMatch 000001B6172647D0>, < cv2.DMatch 000001B6172671B0>, < cv2.DMatch 000001B617264530>, < cv2.DMatch 000001B617265850>, < cv2.DMatch 000001B6172645F0>, < cv2.DMatch 000001B617265550>, < cv2.DMatch 000001B6172675F0>, < cv2.DMatch 000001B617266670>, < cv2.DMatch 000001B617267390>, < cv2.DMatch 000001B617265590>, < cv2.DMatch 000001B617264AF0>, < cv2.DMatch 000001B617265790>, < cv2.DMatch 000001B617267090>, < cv2.DMatch 000001B617266890>, < cv2.DMatch 000001B617267230>, < cv2.DMatch 000001B617264D90>, < cv2.DMatch 000001B6172646B0>, < cv2.DMatch 000001B617264990>, < cv2.DMatch 000001B617265070>, < cv2.DMatch 000001B617265DB0>, < cv2.DMatch 000001B617265050>, < cv2.DMatch 000001B617264FD0>, < cv2.DMatch 000001B6172652F0>, < cv2.DMatch 000001B617264FB0>, < cv2.DMatch 000001B617265990>, < cv2.DMatch 000001B617264C70>, < cv2.DMatch 000001B617264830>, < cv2.DMatch 000001B617265A50>, < cv2.DMatch 000001B617264790>, < cv2.DMatch 000001B617266970>, < cv2.DMatch 000001B6172673F0>, < cv2.DMatch 000001B617265E50>, < cv2.DMatch 000001B617264850>, < cv2.DMatch 000001B617264A70>, < cv2.DMatch 000001B617264BB0>, < cv2.DMatch 000001B617265870>, < cv2.DMatch 000001B6172659D0>, < cv2.DMatch 000001B617266C10>, < cv2.DMatch 000001B617266B70>, < cv2.DMatch 000001B6172677F0>, < cv2.DMatch 000001B617267550>, < cv2.DMatch 000001B617266F10>, < cv2.DMatch 000001B617266C70>, < cv2.DMatch 000001B617266D70>, < cv2.DMatch 000001B617264690>, < cv2.DMatch 000001B617264EF0>, < cv2.DMatch 000001B6172650F0>, < cv2.DMatch 000001B6172646F0>, < cv2.DMatch 000001B617266750>, < cv2.DMatch 000001B617265350>, < cv2.DMatch 000001B6172657F0>, < cv2.DMatch 000001B617264610>, < cv2.DMatch 000001B6172679D0>, < cv2.DMatch 000001B617267E50>, < cv2.DMatch 000001B6172652D0>, < cv2.DMatch 000001B617265610>, < cv2.DMatch 000001B617265890>, < cv2.DMatch 000001B617264D10>, < cv2.DMatch 000001B617264910>, < cv2.DMatch 000001B617265270>, < cv2.DMatch 000001B617266ED0>, < cv2.DMatch 000001B6172678B0>, < cv2.DMatch 000001B6172677D0>, < cv2.DMatch 000001B617264F90>, < cv2.DMatch 000001B617265750>, < cv2.DMatch 000001B6172649B0>, < cv2.DMatch 000001B6172657D0>, < cv2.DMatch 000001B617264DD0>, < cv2.DMatch 000001B617266CF0>, < cv2.DMatch 000001B617264F30>, < cv2.DMatch 000001B617265E70>, < cv2.DMatch 000001B617267110>, < cv2.DMatch 000001B617266BB0>, < cv2.DMatch 000001B617266590>, < cv2.DMatch 000001B617266070>, < cv2.DMatch 000001B617267CF0>, < cv2.DMatch 000001B617267B50>, < cv2.DMatch 000001B6172650D0>, < cv2.DMatch 000001B6172654D0>, < cv2.DMatch 000001B617265AF0>, < cv2.DMatch 000001B617265830>, < cv2.DMatch 000001B6172645B0>, < cv2.DMatch 000001B6172661D0>, < cv2.DMatch 000001B6172661B0>, < cv2.DMatch 000001B617265730>, < cv2.DMatch 000001B617265CF0>, < cv2.DMatch 000001B617265EB0>, < cv2.DMatch 000001B6172679F0>, < cv2.DMatch 000001B617266B50>, < cv2.DMatch 000001B617265E30>, < cv2.DMatch 000001B617265B70>, < cv2.DMatch 000001B617265F90>, < cv2.DMatch 000001B617266310>, < cv2.DMatch 000001B617266190>, < cv2.DMatch 000001B617266710>, < cv2.DMatch 000001B617264ED0>, < cv2.DMatch 000001B617265D70>, < cv2.DMatch 000001B617267670>, < cv2.DMatch 000001B617265970>, < cv2.DMatch 000001B6172651B0>, < cv2.DMatch 000001B6172668B0>, < cv2.DMatch 000001B6172665D0>, < cv2.DMatch 000001B617267930>, < cv2.DMatch 000001B617265D30>, < cv2.DMatch 000001B6172669D0>, < cv2.DMatch 000001B617264D30>, < cv2.DMatch 000001B617265670>, < cv2.DMatch 000001B617265AD0>, < cv2.DMatch 000001B6172675B0>, < cv2.DMatch 000001B617265A30>, < cv2.DMatch 000001B617266D90>, < cv2.DMatch 000001B6172665F0>, < cv2.DMatch 000001B617265230>, < cv2.DMatch 000001B617264750>, < cv2.DMatch 000001B6172658F0>, < cv2.DMatch 000001B617265430>, < cv2.DMatch 000001B617265A90>, < cv2.DMatch 000001B617264BF0>, < cv2.DMatch 000001B617264B50>, < cv2.DMatch 000001B617266450>, < cv2.DMatch 000001B6172660F0>, < cv2.DMatch 000001B6172662D0>, < cv2.DMatch 000001B617266050>, < cv2.DMatch 000001B617264890>, < cv2.DMatch 000001B617267CD0>, < cv2.DMatch 000001B617266A10>, < cv2.DMatch 000001B617267290>, < cv2.DMatch 000001B617265ED0>, < cv2.DMatch 000001B617264DB0>, < cv2.DMatch 000001B617265030>, < cv2.DMatch 000001B617264670>, < cv2.DMatch 000001B6172654F0>, < cv2.DMatch 000001B617267330>, < cv2.DMatch 000001B617267B10>, < cv2.DMatch 000001B617267CB0>, < cv2.DMatch 000001B617265F10>, < cv2.DMatch 000001B617264F10>, < cv2.DMatch 000001B617266BD0>, < cv2.DMatch 000001B617264870>, < cv2.DMatch 000001B617267410>, < cv2.DMatch 000001B617264B30>, < cv2.DMatch 000001B6172673B0>, < cv2.DMatch 000001B617265F50>, < cv2.DMatch 000001B617267BD0>, < cv2.DMatch 000001B617265BB0>, < cv2.DMatch 000001B617264E50>, < cv2.DMatch 000001B617264CD0>, < cv2.DMatch 000001B617265D90>, < cv2.DMatch 000001B617265210>, < cv2.DMatch 000001B617265510>, < cv2.DMatch 000001B617267F70>, < cv2.DMatch 000001B617267850>, < cv2.DMatch 000001B617265130>, < cv2.DMatch 000001B617264A90>, < cv2.DMatch 000001B617267B90>, < cv2.DMatch 000001B617266370>, < cv2.DMatch 000001B617267150>, < cv2.DMatch 000001B617266F30>, < cv2.DMatch 000001B6172677B0>, < cv2.DMatch 000001B617264A10>, < cv2.DMatch 000001B617265CB0>, < cv2.DMatch 000001B6172658D0>, < cv2.DMatch 000001B6172663F0>, < cv2.DMatch 000001B617264730>, < cv2.DMatch 000001B617267370>, < cv2.DMatch 000001B6172653F0>, < cv2.DMatch 000001B617264C30>, < cv2.DMatch 000001B6172648D0>, < cv2.DMatch 000001B617266830>, < cv2.DMatch 000001B617266D30>, < cv2.DMatch 000001B617266B10>, < cv2.DMatch 000001B6172674B0>, < cv2.DMatch 000001B617267190>, < cv2.DMatch 000001B617268130>, < cv2.DMatch 000001B617268450>, < cv2.DMatch 000001B617268E90>, < cv2.DMatch 000001B617268FF0>, < cv2.DMatch 000001B617269230>, < cv2.DMatch 000001B617268930>, < cv2.DMatch 000001B6172693D0>, < cv2.DMatch 000001B617268090>, < cv2.DMatch 000001B617269290>, < cv2.DMatch 000001B6172689B0>, < cv2.DMatch 000001B617268390>, < cv2.DMatch 000001B617268F90>, < cv2.DMatch 000001B6172686B0>, < cv2.DMatch 000001B617268D50>, < cv2.DMatch 000001B617269190>, < cv2.DMatch 000001B6172682B0>, < cv2.DMatch 000001B617268410>, < cv2.DMatch 000001B617268DD0>, < cv2.DMatch 000001B617268B70>, < cv2.DMatch 000001B617268EB0>, < cv2.DMatch 000001B6172688D0>, < cv2.DMatch 000001B617268DF0>, < cv2.DMatch 000001B6172689F0>, < cv2.DMatch 000001B617268A90>), 'estimated_translation_inliers': [((506.0, 1159.0), (381.0, 98.0)), ((509.0, 1155.0), (384.0, 94.0)), ((1027.0, 1115.0), (902.4000244140625, 51.60000228881836)), ((1229.0, 1066.0), (1105.0, 6.0)), ((1177.0, 1181.0), (1053.0, 121.0)), ((1488.0, 1120.0), (1365.60009765625, 62.400001525878906)), ((1494.0, 1113.0), (1371.60009765625, 54.000003814697266)), ((917.0, 1073.0), (792.0, 12.0)), ((817.0, 1117.0), (692.0, 56.0)), ((1408.800048828125, 1104.0), (1287.0, 45.0)), ((1406.4000244140625, 1101.60009765625), (1283.0, 44.0)), ((1495.2000732421875, 1093.2000732421875), (1372.800048828125, 34.80000305175781)), ((1114.800048828125, 1146.0), (990.7200317382812, 84.96000671386719)), ((1490.4000244140625, 1117.2000732421875), (1368.0, 60.000003814697266)), ((1027.2000732421875, 1114.800048828125), (902.4000244140625, 54.000003814697266)), ((1143.60009765625, 1174.800048828125), (1018.0800170898438, 113.76000213623047)), ((1488.0, 1138.800048828125), (1365.60009765625, 80.4000015258789)), ((1010.4000244140625, 1126.800048828125), (885.6000366210938, 63.36000061035156)), ((817.2000122070312, 1117.2000732421875), (691.2000122070312, 55.20000076293945)), ((800.4000244140625, 1117.2000732421875), (675.6000366210938, 55.20000076293945))], 'estimated_translation_validity': {'overall': True, 'individual': [True, True, True, True, True, True, True, True, True, True, True, True, True, True, True, True, True, True, True, True]}}, ('a_myimages04.jpg', 'a_myimages05.jpg'): {'matches': (< cv2.DMatch 000001B617265B90>, < cv2.DMatch 000001B617264B90>, < cv2.DMatch 000001B617266390>, < cv2.DMatch 000001B66F590D30>, < cv2.DMatch 000001B6172680F0>, < cv2.DMatch 000001B61726B110>, < cv2.DMatch 000001B617269590>, < cv2.DMatch 000001B61726B9D0>, < cv2.DMatch 000001B61726B790>, < cv2.DMatch 000001B617269DD0>, < cv2.DMatch 000001B61726A0F0>, < cv2.DMatch 000001B61726AAD0>, < cv2.DMatch 000001B6172681D0>, < cv2.DMatch 000001B6172685D0>, < cv2.DMatch 000001B617268AD0>, < cv2.DMatch 000001B6172694F0>, < cv2.DMatch 000001B617269E90>, < cv2.DMatch 000001B61726BAF0>, < cv2.DMatch 000001B61726B670>, < cv2.DMatch 000001B61726B4B0>, < cv2.DMatch 000001B617268BB0>, < cv2.DMatch 000001B61726AA30>, < cv2.DMatch 000001B6172680D0>, < cv2.DMatch 000001B617269A70>, < cv2.DMatch 000001B617269AB0>, < cv2.DMatch 000001B61726AE50>, < cv2.DMatch 000001B617268510>, < cv2.DMatch 000001B617268790>, < cv2.DMatch 000001B61726BC90>, < cv2.DMatch 000001B61726BA70>, < cv2.DMatch 000001B617269910>, < cv2.DMatch 000001B61726A130>, < cv2.DMatch 000001B61726A970>, < cv2.DMatch 000001B61726AC90>, < cv2.DMatch 000001B61726BD90>, < cv2.DMatch 000001B61726BD70>, < cv2.DMatch 000001B61726BD30>, < cv2.DMatch 000001B61726B370>, < cv2.DMatch 000001B61726A1D0>, < cv2.DMatch 000001B6172692F0>, < cv2.DMatch 000001B617268430>, < cv2.DMatch 000001B617269E50>, < cv2.DMatch 000001B61726B990>, < cv2.DMatch 000001B61726B270>, < cv2.DMatch 000001B61726A450>, < cv2.DMatch 000001B61726A1F0>, < cv2.DMatch 000001B61726BF90>, < cv2.DMatch 000001B61726BBB0>, < cv2.DMatch 000001B61726BB70>, < cv2.DMatch 000001B617268E30>, < cv2.DMatch 000001B61726B050>, < cv2.DMatch 000001B617269CD0>, < cv2.DMatch 000001B61726A090>, < cv2.DMatch 000001B617269ED0>, < cv2.DMatch 000001B617269410>, < cv2.DMatch 000001B61726BD10>, < cv2.DMatch 000001B61726B890>, < cv2.DMatch 000001B617268110>, < cv2.DMatch 000001B61726BCF0>, < cv2.DMatch 000001B61726BCD0>, < cv2.DMatch 000001B61726A730>, < cv2.DMatch 000001B617268850>, < cv2.DMatch 000001B617269270>, < cv2.DMatch 000001B61726B1F0>, < cv2.DMatch 000001B6172696B0>, < cv2.DMatch 000001B61726BF70>, < cv2.DMatch 000001B61726BD50>, < cv2.DMatch 000001B61726BFD0>, < cv2.DMatch 000001B617269130>, < cv2.DMatch 000001B61726BFB0>, < cv2.DMatch 000001B61726A870>, < cv2.DMatch 000001B61726BEF0>, < cv2.DMatch 000001B617269750>, < cv2.DMatch 000001B61726BF50>, < cv2.DMatch 000001B617269A10>, < cv2.DMatch 000001B61726ACF0>, < cv2.DMatch 000001B617268910>, < cv2.DMatch 000001B61726A110>, < cv2.DMatch 000001B617269CB0>, < cv2.DMatch 000001B6172694D0>, < cv2.DMatch 000001B617269E70>, < cv2.DMatch 000001B617268170>, < cv2.DMatch 000001B61726B090>, < cv2.DMatch 000001B617268950>, < cv2.DMatch 000001B617269BB0>, < cv2.DMatch 000001B617269550>, < cv2.DMatch 000001B617269990>, < cv2.DMatch 000001B61726AD70>, < cv2.DMatch 000001B61726AA10>, < cv2.DMatch 000001B6172698B0>, < cv2.DMatch 000001B617269070>, < cv2.DMatch 000001B61726AD30>, < cv2.DMatch 000001B61726A590>, < cv2.DMatch 000001B61726A6F0>, < cv2.DMatch 000001B61726A250>, < cv2.DMatch 000001B61726AF30>, < cv2.DMatch 000001B61726B0D0>, < cv2.DMatch 000001B61726A570>, < cv2.DMatch 000001B617268310>, < cv2.DMatch 000001B617268970>, < cv2.DMatch 000001B6172696D0>, < cv2.DMatch 000001B617268B90>, < cv2.DMatch 000001B61726B2F0>, < cv2.DMatch 000001B617269850>, < cv2.DMatch 000001B61726B190>, < cv2.DMatch 000001B61726A8F0>, < cv2.DMatch 000001B6172693F0>, < cv2.DMatch 000001B61726AE30>, < cv2.DMatch 000001B617268A10>, < cv2.DMatch 000001B617268D90>, < cv2.DMatch 000001B617269690>, < cv2.DMatch 000001B6172698D0>, < cv2.DMatch 000001B617269210>, < cv2.DMatch 000001B617269F90>, < cv2.DMatch 000001B61726B2B0>, < cv2.DMatch 000001B61726A9B0>, < cv2.DMatch 000001B617269650>, < cv2.DMatch 000001B6172688F0>, < cv2.DMatch 000001B6172684B0>, < cv2.DMatch 000001B617268A70>, < cv2.DMatch 000001B61726AD50>, < cv2.DMatch 000001B617269050>, < cv2.DMatch 000001B617269790>, < cv2.DMatch 000001B617269A90>, < cv2.DMatch 000001B61726A3F0>, < cv2.DMatch 000001B617269570>, < cv2.DMatch 000001B61726AAB0>, < cv2.DMatch 000001B617268890>, < cv2.DMatch 000001B617268590>, < cv2.DMatch 000001B6172680B0>, < cv2.DMatch 000001B617268D30>, < cv2.DMatch 000001B617269810>, < cv2.DMatch 000001B617269510>, < cv2.DMatch 000001B617269710>, < cv2.DMatch 000001B61726A0D0>, < cv2.DMatch 000001B61726ABB0>, < cv2.DMatch 000001B6172690F0>, < cv2.DMatch 000001B6172683B0>, < cv2.DMatch 000001B6172691B0>, < cv2.DMatch 000001B6172687D0>, < cv2.DMatch 000001B617268330>, < cv2.DMatch 000001B617269EB0>, < cv2.DMatch 000001B617269F50>, < cv2.DMatch 000001B617268D10>, < cv2.DMatch 000001B617268E10>, < cv2.DMatch 000001B617268A30>, < cv2.DMatch 000001B61726A410>, < cv2.DMatch 000001B617269830>, < cv2.DMatch 000001B61726B350>, < cv2.DMatch 000001B61726A2F0>, < cv2.DMatch 000001B61726A070>, < cv2.DMatch 000001B61726A350>, < cv2.DMatch 000001B617268370>, < cv2.DMatch 000001B617268DB0>, < cv2.DMatch 000001B61726AFD0>, < cv2.DMatch 000001B61726A370>, < cv2.DMatch 000001B61726A4D0>, < cv2.DMatch 000001B61726A4B0>, < cv2.DMatch 000001B617269E10>, < cv2.DMatch 000001B61726A390>, < cv2.DMatch 000001B617269930>, < cv2.DMatch 000001B617268750>, < cv2.DMatch 000001B61726AC50>, < cv2.DMatch 000001B617269030>, < cv2.DMatch 000001B617269D70>, < cv2.DMatch 000001B61726ADD0>, < cv2.DMatch 000001B61726A010>, < cv2.DMatch 000001B617268470>, < cv2.DMatch 000001B61726A530>, < cv2.DMatch 000001B6172697D0>, < cv2.DMatch 000001B617269DF0>, < cv2.DMatch 000001B61726A290>, < cv2.DMatch 000001B617268CD0>, < cv2.DMatch 000001B61726A230>, < cv2.DMatch 000001B61726B210>, < cv2.DMatch 000001B61726A170>, < cv2.DMatch 000001B6172688B0>, < cv2.DMatch 000001B61726B250>, < cv2.DMatch 000001B61726A510>, < cv2.DMatch 000001B61726A3B0>, < cv2.DMatch 000001B617269B70>, < cv2.DMatch 000001B61726B330>, < cv2.DMatch 000001B617269450>, < cv2.DMatch 000001B61726A650>, < cv2.DMatch 000001B617269950>, < cv2.DMatch 000001B617268830>, < cv2.DMatch 000001B617268870>, < cv2.DMatch 000001B61726AF50>, < cv2.DMatch 000001B617268230>, < cv2.DMatch 000001B617268C50>, < cv2.DMatch 000001B6172691D0>, < cv2.DMatch 000001B617269FF0>, < cv2.DMatch 000001B61726AEB0>, < cv2.DMatch 000001B617268B10>, < cv2.DMatch 000001B6172685F0>, < cv2.DMatch 000001B6172683F0>, < cv2.DMatch 000001B61726B170>, < cv2.DMatch 000001B617268BF0>, < cv2.DMatch 000001B6172692B0>, < cv2.DMatch 000001B61726A0B0>, < cv2.DMatch 000001B6172697B0>, < cv2.DMatch 000001B61726AED0>, < cv2.DMatch 000001B617269970>, < cv2.DMatch 000001B61726A330>, < cv2.DMatch 000001B61726A6B0>, < cv2.DMatch 000001B61726A850>, < cv2.DMatch 000001B61726A7F0>, < cv2.DMatch 000001B6172681B0>, < cv2.DMatch 000001B617268550>, < cv2.DMatch 000001B61726AEF0>, < cv2.DMatch 000001B61726B1D0>, < cv2.DMatch 000001B61726A7D0>, < cv2.DMatch 000001B61726AE10>, < cv2.DMatch 000001B617268FB0>, < cv2.DMatch 000001B617269310>), 'estimated_translation_inliers': [((384.0, 973.0), (394.0, 31.0)), ((288.0, 992.0), (299.0, 48.0)), ((1044.0, 992.0), (1055.0, 47.0)), ((1232.0, 996.0), (1241.0, 53.0)), ((725.0, 1025.0), (735.0, 81.0)), ((442.0, 1047.0), (451.0, 104.0)), ((1196.0, 1082.0), (1205.0, 141.0)), ((1199.0, 1087.0), (1209.0, 145.0)), ((862.0, 1090.0), (871.2000122070312, 146.40000915527344)), ((843.0, 1124.0), (853.0, 181.0)), ((898.0, 1131.0), (907.0, 188.0)), ((1196.4000244140625, 1084.800048828125), (1206.0, 144.0)), ((1194.0, 1082.4000244140625), (1203.60009765625, 141.60000610351562)), ((1197.60009765625, 1078.800048828125), (1207.2000732421875, 136.8000030517578)), ((1237.2000732421875, 999.6000366210938), (1245.60009765625, 57.60000228881836)), ((897.6000366210938, 1130.4000244140625), (906.0000610351562, 187.20001220703125)), ((843.6000366210938, 1124.4000244140625), (853.2000122070312, 181.20001220703125)), ((1210.800048828125, 1053.60009765625), (1220.4000244140625, 110.4000015258789)), ((441.6000061035156, 1046.4000244140625), (450.0000305175781, 104.4000015258789)), ((289.20001220703125, 991.2000122070312), (298.8000183105469, 48.0)), ((384.0, 973.2000122070312), (394.0, 29.0)), ((1332.0, 1170.0), (1342.800048828125, 228.00001525878906)), ((432.0000305175781, 1172.4000244140625), (441.6000061035156, 230.40000915527344)), ((1203.840087890625, 1084.320068359375), (1213.9200439453125, 142.5600128173828)), ((1196.6400146484375, 1077.1199951171875), (1206.7200927734375, 135.36000061035156))], 'estimated_translation_validity': {'overall': True, 'individual': [True, True, True, True, True, True, True, True, True, True, True, True, True, True, True, True, True, True, True, True, True, True, True, True, True]}}, ('a_myimages05.jpg', 'a_myimages06.jpg'): {'matches': (< cv2.DMatch 000001B61726B290>, < cv2.DMatch 000001B61726BF30>, < cv2.DMatch 000001B6172686D0>, < cv2.DMatch 000001B617268C90>, < cv2.DMatch 000001B61726A3D0>, < cv2.DMatch 000001B61726AB30>, < cv2.DMatch 000001B61726A8D0>, < cv2.DMatch 000001B617269C10>, < cv2.DMatch 000001B617269370>, < cv2.DMatch 000001B61726BAB0>, < cv2.DMatch 000001B617269110>, < cv2.DMatch 000001B617269BD0>, < cv2.DMatch 000001B617269C50>, < cv2.DMatch 000001B61726B010>, < cv2.DMatch 000001B61726B8D0>, < cv2.DMatch 000001B617269430>, < cv2.DMatch 000001B61726A670>, < cv2.DMatch 000001B61726BB50>, < cv2.DMatch 000001B61726AD10>, < cv2.DMatch 000001B61726B310>, < cv2.DMatch 000001B61726B430>, < cv2.DMatch 000001B61726A2B0>, < cv2.DMatch 000001B617269AD0>, < cv2.DMatch 000001B61726A9D0>, < cv2.DMatch 000001B617269F10>, < cv2.DMatch 000001B617268A50>, < cv2.DMatch 000001B61726A750>, < cv2.DMatch 000001B61726B850>, < cv2.DMatch 000001B61726A270>, < cv2.DMatch 000001B617268810>, < cv2.DMatch 000001B617268F70>, < cv2.DMatch 000001B61726BF10>, < cv2.DMatch 000001B617269C90>, < cv2.DMatch 000001B617268ED0>, < cv2.DMatch 000001B61726A990>, < cv2.DMatch 000001B617269A50>, < cv2.DMatch 000001B61726B770>, < cv2.DMatch 000001B6172699F0>, < cv2.DMatch 000001B6172691F0>, < cv2.DMatch 000001B61726BDF0>, < cv2.DMatch 000001B6172687B0>, < cv2.DMatch 000001B61726A190>, < cv2.DMatch 000001B61726BE30>, < cv2.DMatch 000001B617269630>, < cv2.DMatch 000001B61726A9F0>, < cv2.DMatch 000001B617268490>, < cv2.DMatch 000001B61726B070>, < cv2.DMatch 000001B61726ACB0>, < cv2.DMatch 000001B61726B710>, < cv2.DMatch 000001B617269610>, < cv2.DMatch 000001B617269EF0>, < cv2.DMatch 000001B617269730>, < cv2.DMatch 000001B6172695D0>, < cv2.DMatch 000001B617268710>, < cv2.DMatch 000001B61726A610>, < cv2.DMatch 000001B617269490>, < cv2.DMatch 000001B617269CF0>, < cv2.DMatch 000001B61726AA50>, < cv2.DMatch 000001B61726BCB0>, < cv2.DMatch 000001B61726BA30>, < cv2.DMatch 000001B617268270>, < cv2.DMatch 000001B61726A690>, < cv2.DMatch 000001B617268030>, < cv2.DMatch 000001B6172684F0>, < cv2.DMatch 000001B617268690>, < cv2.DMatch 000001B617269B50>, < cv2.DMatch 000001B617269B90>, < cv2.DMatch 000001B617269AF0>, < cv2.DMatch 000001B617269470>, < cv2.DMatch 000001B61726A150>, < cv2.DMatch 000001B61726A5F0>, < cv2.DMatch 000001B617268FD0>, < cv2.DMatch 000001B61726BE50>, < cv2.DMatch 000001B6172681F0>, < cv2.DMatch 000001B61726B030>, < cv2.DMatch 000001B61726AF10>, < cv2.DMatch 000001B61726AF90>, < cv2.DMatch 000001B617269010>, < cv2.DMatch 000001B61726B0B0>, < cv2.DMatch 000001B61726B590>, < cv2.DMatch 000001B61726B5F0>, < cv2.DMatch 000001B61726B830>, < cv2.DMatch 000001B617269770>, < cv2.DMatch 000001B6172698F0>, < cv2.DMatch 000001B61726AC10>, < cv2.DMatch 000001B61726A950>, < cv2.DMatch 000001B61726A930>, < cv2.DMatch 000001B617269E30>, < cv2.DMatch 000001B6172696F0>, < cv2.DMatch 000001B61726BC10>, < cv2.DMatch 000001B61726A4F0>, < cv2.DMatch 000001B617268F10>, < cv2.DMatch 000001B61726B450>, < cv2.DMatch 000001B61726AE90>, < cv2.DMatch 000001B617274DB0>, < cv2.DMatch 000001B617274650>, < cv2.DMatch 000001B617274C10>, < cv2.DMatch 000001B617274D90>, < cv2.DMatch 000001B617274450>, < cv2.DMatch 000001B617274750>, < cv2.DMatch 000001B617274BF0>, < cv2.DMatch 000001B617274E30>, < cv2.DMatch 000001B6172742F0>, < cv2.DMatch 000001B617274670>, < cv2.DMatch 000001B617274350>, < cv2.DMatch 000001B6172749B0>, < cv2.DMatch 000001B617274CD0>, < cv2.DMatch 000001B617274D30>, < cv2.DMatch 000001B617274DF0>, < cv2.DMatch 000001B6172741F0>, < cv2.DMatch 000001B6172749D0>, < cv2.DMatch 000001B617274B70>, < cv2.DMatch 000001B6172745B0>, < cv2.DMatch 000001B617274630>, < cv2.DMatch 000001B617274690>, < cv2.DMatch 000001B6172747F0>, < cv2.DMatch 000001B617274070>, < cv2.DMatch 000001B617274550>, < cv2.DMatch 000001B617274A30>, < cv2.DMatch 000001B617274C30>, < cv2.DMatch 000001B617274C90>, < cv2.DMatch 000001B617274430>, < cv2.DMatch 000001B617274870>, < cv2.DMatch 000001B617274990>, < cv2.DMatch 000001B617274B30>, < cv2.DMatch 000001B617274D70>, < cv2.DMatch 000001B617274090>, < cv2.DMatch 000001B617274290>, < cv2.DMatch 000001B617274E90>, < cv2.DMatch 000001B617274030>, < cv2.DMatch 000001B617274230>, < cv2.DMatch 000001B617274370>, < cv2.DMatch 000001B6172747D0>, < cv2.DMatch 000001B617274850>, < cv2.DMatch 000001B617274C50>, < cv2.DMatch 000001B617274ED0>, < cv2.DMatch 000001B6172741B0>, < cv2.DMatch 000001B617274310>, < cv2.DMatch 000001B617274530>, < cv2.DMatch 000001B6172748B0>, < cv2.DMatch 000001B617274F30>, < cv2.DMatch 000001B617274170>, < cv2.DMatch 000001B617274190>, < cv2.DMatch 000001B617274A50>, < cv2.DMatch 000001B617274EF0>, < cv2.DMatch 000001B6172744B0>, < cv2.DMatch 000001B6172744D0>, < cv2.DMatch 000001B617274510>, < cv2.DMatch 000001B617274950>, < cv2.DMatch 000001B617274CF0>, < cv2.DMatch 000001B6172740D0>, < cv2.DMatch 000001B617274490>, < cv2.DMatch 000001B617274710>, < cv2.DMatch 000001B617274830>, < cv2.DMatch 000001B617274330>, < cv2.DMatch 000001B617274810>, < cv2.DMatch 000001B617274A10>, < cv2.DMatch 000001B617274E10>, < cv2.DMatch 000001B617274050>, < cv2.DMatch 000001B617274790>, < cv2.DMatch 000001B6172741D0>, < cv2.DMatch 000001B6172749F0>, < cv2.DMatch 000001B617274470>, < cv2.DMatch 000001B617274970>, < cv2.DMatch 000001B617274AD0>, < cv2.DMatch 000001B617275710>, < cv2.DMatch 000001B617276730>, < cv2.DMatch 000001B617277410>, < cv2.DMatch 000001B617276190>, < cv2.DMatch 000001B6172772B0>, < cv2.DMatch 000001B617276DB0>, < cv2.DMatch 000001B617276210>, < cv2.DMatch 000001B6172761F0>, < cv2.DMatch 000001B6172754B0>, < cv2.DMatch 000001B617277330>, < cv2.DMatch 000001B617276370>, < cv2.DMatch 000001B617276B10>, < cv2.DMatch 000001B617276850>, < cv2.DMatch 000001B6172770D0>, < cv2.DMatch 000001B617276990>, < cv2.DMatch 000001B6172765B0>, < cv2.DMatch 000001B617277750>, < cv2.DMatch 000001B617277350>, < cv2.DMatch 000001B617277150>, < cv2.DMatch 000001B617276C70>, < cv2.DMatch 000001B617277170>, < cv2.DMatch 000001B617276510>, < cv2.DMatch 000001B617276250>, < cv2.DMatch 000001B617275F90>, < cv2.DMatch 000001B617275850>, < cv2.DMatch 000001B6172757D0>, < cv2.DMatch 000001B617277050>, < cv2.DMatch 000001B617276DD0>, < cv2.DMatch 000001B617276A10>, < cv2.DMatch 000001B617276BF0>, < cv2.DMatch 000001B6172762B0>, < cv2.DMatch 000001B617276110>, < cv2.DMatch 000001B617275B70>, < cv2.DMatch 000001B617275330>, < cv2.DMatch 000001B617275070>, < cv2.DMatch 000001B617274F50>, < cv2.DMatch 000001B6172774D0>, < cv2.DMatch 000001B617275B50>, < cv2.DMatch 000001B617275B10>, < cv2.DMatch 000001B617275290>, < cv2.DMatch 000001B6172773D0>, < cv2.DMatch 000001B6172770B0>, < cv2.DMatch 000001B617276A90>, < cv2.DMatch 000001B617276490>, < cv2.DMatch 000001B617275A70>, < cv2.DMatch 000001B6172754D0>, < cv2.DMatch 000001B617276650>, < cv2.DMatch 000001B617276390>, < cv2.DMatch 000001B617275DF0>, < cv2.DMatch 000001B617275DB0>, < cv2.DMatch 000001B6172751D0>, < cv2.DMatch 000001B617275010>, < cv2.DMatch 000001B617277070>, < cv2.DMatch 000001B617277010>, < cv2.DMatch 000001B617276130>, < cv2.DMatch 000001B617275470>, < cv2.DMatch 000001B6172752B0>, < cv2.DMatch 000001B617277510>, < cv2.DMatch 000001B617276D10>, < cv2.DMatch 000001B617276A30>), 'estimated_translation_inliers': [((888.0, 871.0), (895.0, 12.0)), ((856.0, 887.0), (863.0, 28.0)), ((892.0, 891.0), (899.0, 32.0)), ((886.0, 894.0), (893.0, 36.0)), ((897.0, 895.0), (903.0, 37.0)), ((886.0, 898.0), (893.0, 39.0)), ((650.0, 911.0), (656.0, 53.0)), ((944.0, 919.0), (951.0, 61.0)), ((945.0, 922.0), (952.0, 63.0)), ((436.0, 927.0), (443.0, 68.0)), ((387.0, 939.0), (393.0, 81.0)), ((530.0, 957.0), (537.0, 98.0)), ((373.0, 970.0), (379.0, 112.0)), ((804.0, 987.0), (811.0, 128.0)), ((645.0, 1005.0), (651.0, 148.0)), ((651.0, 1062.0), (658.0, 205.0)), ((1078.0, 1079.0), (1085.0, 222.0)), ((533.0, 1084.0), (537.6000366210938, 228.00001525878906)), ((514.0, 1095.0), (520.0, 237.0)), ((514.0, 1097.0), (520.0, 239.0)), ((536.0, 1097.0), (543.0, 239.0)), ((405.0, 1099.0), (411.6000061035156, 242.40000915527344)), ((504.0, 1102.0), (511.0, 245.0)), ((516.0, 1111.0), (523.0, 253.0)), ((526.0, 1112.0), (532.0, 255.0)), ((562.0, 1114.0), (568.0, 257.0)), ((674.0, 1114.0), (680.0, 256.0)), ((427.0, 1173.0), (433.0, 315.0)), ((1228.0, 1192.0), (1236.0, 336.0)), ((1228.0, 1194.0), (1236.0, 339.0)), ((856.800048828125, 885.6000366210938), (862.800048828125, 27.600000381469727)), ((895.2000122070312, 894.0000610351562), (901.0, 36.0)), ((343.20001220703125, 895.2000122070312), (350.4000244140625, 37.20000076293945)), ((650.4000244140625, 910.800048828125), (656.4000244140625, 52.80000305175781)), ((934.800048828125, 919.2000122070312), (942.0000610351562, 60.000003814697266)), ((944.4000244140625, 921.6000366210938), (951.6000366210938, 62.400001525878906)), ((687.6000366210938, 936.0000610351562), (692.6400146484375, 77.76000213623047)), ((295.20001220703125, 938.4000244140625), (301.0, 80.0)), ((494.4000244140625, 940.800048828125), (500.4000244140625, 82.80000305175781)), ((530.4000244140625, 957.6000366210938), (536.4000244140625, 98.4000015258789)), ((907.2000122070312, 964.800048828125), (914.0, 107.0)), ((1077.60009765625, 1078.800048828125), (1084.800048828125, 222.00001525878906)), ((1347.60009765625, 1089.60009765625), (1355.0400390625, 233.28001403808594)), ((513.6000366210938, 1095.60009765625), (519.6000366210938, 238.8000030517578)), ((536.4000244140625, 1096.800048828125), (542.4000244140625, 238.8000030517578)), ((405.6000061035156, 1100.4000244140625), (411.84002685546875, 241.92001342773438)), ((505.20001220703125, 1104.0), (511.20001220703125, 246.00001525878906)), ((516.0, 1111.2000732421875), (522.0, 253.20001220703125)), ((526.800048828125, 1112.4000244140625), (531.6000366210938, 254.40000915527344)), ((672.0, 1112.4000244140625), (679.0, 254.0)), ((670.800048828125, 1114.800048828125), (676.800048828125, 256.8000183105469)), ((392.4000244140625, 1165.2000732421875), (398.4000244140625, 308.4000244140625)), ((430.8000183105469, 1168.800048828125), (436.0, 312.0)), ((776.4000244140625, 1171.2000732421875), (783.6000366210938, 314.4000244140625)), ((1023.6000366210938, 1179.60009765625), (1032.47998046875, 322.55999755859375)), ((453.6000061035156, 1183.2000732421875), (460.0, 326.0)), ((504.0000305175781, 1103.0400390625), (511.20001220703125, 244.8000030517578)), ((383.0400085449219, 940.3200073242188), (390.2400207519531, 82.08000183105469)), ((296.6400146484375, 937.4400634765625), (302.4000244140625, 80.63999938964844)), ((686.8800048828125, 936.0000610351562), (692.9280395507812, 77.760009765625)), ((1199.52001953125, 900.0000610351562), (1206.7200927734375, 43.20000076293945)), ((891.3600463867188, 900.0000610351562), (898.56005859375, 43.20000076293945)), ((885.6000366210938, 897.1200561523438), (891.6000366210938, 39.60000228881836)), ((649.4400024414062, 910.0800170898438), (656.6400146484375, 51.840003967285156)), ((856.800048828125, 885.6000366210938), (862.56005859375, 27.360000610351562)), ((864.0000610351562, 882.7200317382812), (869.760009765625, 24.48000144958496)), ((1285.9200439453125, 946.0800170898438), (1292.4000244140625, 88.80000305175781)), ((907.2000122070312, 964.800048828125), (914.4000244140625, 106.56000518798828)), ((371.52001953125, 973.4400634765625), (378.7200012207031, 115.20000457763672)), ((1264.320068359375, 974.8800659179688), (1270.800048828125, 118.80000305175781)), ((643.6800537109375, 1005.1200561523438), (650.8800048828125, 146.8800048828125))], 'estimated_translation_validity': {'overall': True, 'individual': [True, True, True, True, True, True, True, True, True, True, True, True, True, True, True, True, True, True, True, True, True, True, True, True, True, True, True, True, True, True, True, True, True, True, True, True, True, True, True, True, True, True, True, True, True, True, True, True, True, True, True, True, True, True, True, True, True, True, True, True, True, True, True, True, True, True, True, True, True, True, True]}}, ('a_myimages06.jpg', 'a_myimages07.jpg'): {'matches': (< cv2.DMatch 000001B617275E50>, < cv2.DMatch 000001B6172748F0>, < cv2.DMatch 000001B617277A50>, < cv2.DMatch 000001B617276CD0>, < cv2.DMatch 000001B617277890>, < cv2.DMatch 000001B617275A90>, < cv2.DMatch 000001B617276690>, < cv2.DMatch 000001B617276E90>, < cv2.DMatch 000001B617276530>, < cv2.DMatch 000001B617276FB0>, < cv2.DMatch 000001B6172766D0>, < cv2.DMatch 000001B6172753D0>, < cv2.DMatch 000001B617276770>, < cv2.DMatch 000001B6172767D0>, < cv2.DMatch 000001B6172759F0>, < cv2.DMatch 000001B617275790>, < cv2.DMatch 000001B617275F50>, < cv2.DMatch 000001B617276EB0>, < cv2.DMatch 000001B617277570>, < cv2.DMatch 000001B617277610>, < cv2.DMatch 000001B6172760B0>, < cv2.DMatch 000001B6172778F0>, < cv2.DMatch 000001B6172771F0>, < cv2.DMatch 000001B6172762F0>, < cv2.DMatch 000001B617275EF0>, < cv2.DMatch 000001B617275670>, < cv2.DMatch 000001B617275450>, < cv2.DMatch 000001B617275EB0>, < cv2.DMatch 000001B617276AF0>, < cv2.DMatch 000001B617275990>, < cv2.DMatch 000001B6172776D0>, < cv2.DMatch 000001B6172761D0>, < cv2.DMatch 000001B617277390>, < cv2.DMatch 000001B617276EF0>, < cv2.DMatch 000001B617275410>, < cv2.DMatch 000001B6172758B0>, < cv2.DMatch 000001B6172759D0>, < cv2.DMatch 000001B617275AF0>, < cv2.DMatch 000001B617275FD0>, < cv2.DMatch 000001B6172755B0>, < cv2.DMatch 000001B617276010>, < cv2.DMatch 000001B617276950>, < cv2.DMatch 000001B6172762D0>, < cv2.DMatch 000001B617275E30>, < cv2.DMatch 000001B617276810>, < cv2.DMatch 000001B617276CB0>, < cv2.DMatch 000001B6172756F0>, < cv2.DMatch 000001B617276FD0>, < cv2.DMatch 000001B6172750B0>, < cv2.DMatch 000001B617277030>, < cv2.DMatch 000001B6172778D0>, < cv2.DMatch 000001B617277930>, < cv2.DMatch 000001B617275530>, < cv2.DMatch 000001B617277250>, < cv2.DMatch 000001B617275C30>, < cv2.DMatch 000001B617275170>, < cv2.DMatch 000001B617277910>, < cv2.DMatch 000001B617275390>, < cv2.DMatch 000001B6172760F0>, < cv2.DMatch 000001B617277490>, < cv2.DMatch 000001B617279C10>, < cv2.DMatch 000001B61727A150>, < cv2.DMatch 000001B61727A470>, < cv2.DMatch 000001B6172799D0>, < cv2.DMatch 000001B617279850>, < cv2.DMatch 000001B61727A270>, < cv2.DMatch 000001B617279A50>, < cv2.DMatch 000001B617278810>, < cv2.DMatch 000001B6172794B0>, < cv2.DMatch 000001B617279290>, < cv2.DMatch 000001B6172780D0>, < cv2.DMatch 000001B61727A490>, < cv2.DMatch 000001B61727A3F0>, < cv2.DMatch 000001B617279550>, < cv2.DMatch 000001B617279FB0>, < cv2.DMatch 000001B617279A70>, < cv2.DMatch 000001B617279710>, < cv2.DMatch 000001B6172785B0>, < cv2.DMatch 000001B61727A530>, < cv2.DMatch 000001B61727A450>, < cv2.DMatch 000001B61727A0D0>, < cv2.DMatch 000001B617279D10>, < cv2.DMatch 000001B617279030>, < cv2.DMatch 000001B6172787B0>, < cv2.DMatch 000001B617278650>, < cv2.DMatch 000001B61727A550>, < cv2.DMatch 000001B61727A4F0>, < cv2.DMatch 000001B61727A2D0>, < cv2.DMatch 000001B617279E30>, < cv2.DMatch 000001B617279490>, < cv2.DMatch 000001B6172793D0>, < cv2.DMatch 000001B617278F30>, < cv2.DMatch 000001B617278C70>, < cv2.DMatch 000001B617279D70>, < cv2.DMatch 000001B617279AF0>, < cv2.DMatch 000001B6172794F0>, < cv2.DMatch 000001B617279110>, < cv2.DMatch 000001B617278D50>, < cv2.DMatch 000001B61727A390>, < cv2.DMatch 000001B61727A010>, < cv2.DMatch 000001B617279B30>, < cv2.DMatch 000001B617279AB0>, < cv2.DMatch 000001B617279990>, < cv2.DMatch 000001B6172794D0>, < cv2.DMatch 000001B617278C10>, < cv2.DMatch 000001B617279FD0>, < cv2.DMatch 000001B617279B90>, < cv2.DMatch 000001B617279930>, < cv2.DMatch 000001B617278E30>, < cv2.DMatch 000001B617278CB0>, < cv2.DMatch 000001B6172787D0>, < cv2.DMatch 000001B6172786B0>, < cv2.DMatch 000001B617279F50>, < cv2.DMatch 000001B617279B50>, < cv2.DMatch 000001B617279670>, < cv2.DMatch 000001B617278FD0>, < cv2.DMatch 000001B617278DD0>, < cv2.DMatch 000001B61727A510>, < cv2.DMatch 000001B6172797F0>, < cv2.DMatch 000001B617279770>, < cv2.DMatch 000001B617279330>, < cv2.DMatch 000001B617279D30>, < cv2.DMatch 000001B617279A90>, < cv2.DMatch 000001B617279450>, < cv2.DMatch 000001B617279390>, < cv2.DMatch 000001B617278B30>, < cv2.DMatch 000001B617278910>, < cv2.DMatch 000001B6172785D0>, < cv2.DMatch 000001B61727A350>, < cv2.DMatch 000001B617279D90>, < cv2.DMatch 000001B617279D50>, < cv2.DMatch 000001B6172798B0>, < cv2.DMatch 000001B617279510>, < cv2.DMatch 000001B617279370>, < cv2.DMatch 000001B617278E50>, < cv2.DMatch 000001B617278CF0>, < cv2.DMatch 000001B617278770>, < cv2.DMatch 000001B61727A4B0>, < cv2.DMatch 000001B61727A430>, < cv2.DMatch 000001B61727A2B0>, < cv2.DMatch 000001B61727A170>, < cv2.DMatch 000001B61727A070>, < cv2.DMatch 000001B61727A050>, < cv2.DMatch 000001B617279470>, < cv2.DMatch 000001B617278BB0>, < cv2.DMatch 000001B6172787F0>, < cv2.DMatch 000001B617278230>, < cv2.DMatch 000001B617278170>, < cv2.DMatch 000001B61727A310>, < cv2.DMatch 000001B6172799F0>, < cv2.DMatch 000001B6172799B0>, < cv2.DMatch 000001B617279810>, < cv2.DMatch 000001B6172797D0>, < cv2.DMatch 000001B6172792F0>, < cv2.DMatch 000001B617279C90>, < cv2.DMatch 000001B617279310>, < cv2.DMatch 000001B6172792D0>, < cv2.DMatch 000001B617278D90>, < cv2.DMatch 000001B617278BF0>, < cv2.DMatch 000001B617278B10>, < cv2.DMatch 000001B617278AB0>, < cv2.DMatch 000001B6172788F0>, < cv2.DMatch 000001B617278830>, < cv2.DMatch 000001B617278290>, < cv2.DMatch 000001B61727A190>, < cv2.DMatch 000001B617279E90>, < cv2.DMatch 000001B617279C50>, < cv2.DMatch 000001B617279890>, < cv2.DMatch 000001B617279430>, < cv2.DMatch 000001B617278AF0>, < cv2.DMatch 000001B617278A90>, < cv2.DMatch 000001B6172786F0>, < cv2.DMatch 000001B6172785F0>, < cv2.DMatch 000001B6172782B0>, < cv2.DMatch 000001B617279CB0>, < cv2.DMatch 000001B617279BD0>, < cv2.DMatch 000001B617279530>, < cv2.DMatch 000001B617278FF0>, < cv2.DMatch 000001B617278990>, < cv2.DMatch 000001B617278670>, < cv2.DMatch 000001B617278510>, < cv2.DMatch 000001B61727A2F0>, < cv2.DMatch 000001B617279EB0>, < cv2.DMatch 000001B617279870>, < cv2.DMatch 000001B617278E10>, < cv2.DMatch 000001B617278070>, < cv2.DMatch 000001B617279DB0>, < cv2.DMatch 000001B617279830>, < cv2.DMatch 000001B617279270>, < cv2.DMatch 000001B617278C50>, < cv2.DMatch 000001B617278C30>, < cv2.DMatch 000001B617278550>, < cv2.DMatch 000001B617278310>, < cv2.DMatch 000001B61727A1B0>, < cv2.DMatch 000001B6172797B0>, < cv2.DMatch 000001B6172795F0>, < cv2.DMatch 000001B617278EB0>, < cv2.DMatch 000001B6172783D0>, < cv2.DMatch 000001B61727A130>, < cv2.DMatch 000001B61727A090>, < cv2.DMatch 000001B617279C30>, < cv2.DMatch 000001B617279610>, < cv2.DMatch 000001B617279070>, < cv2.DMatch 000001B617278ED0>, < cv2.DMatch 000001B617278530>, < cv2.DMatch 000001B617278270>, < cv2.DMatch 000001B617278B70>, < cv2.DMatch 000001B61727A330>, < cv2.DMatch 000001B61727A0B0>, < cv2.DMatch 000001B617279250>, < cv2.DMatch 000001B617279170>, < cv2.DMatch 000001B617278BD0>, < cv2.DMatch 000001B617278470>), 'estimated_translation_inliers': [((607.0, 1028.0), (614.4000244140625, 37.20000076293945)), ((606.0, 1036.0), (614.0, 45.0)), ((1263.0, 1052.0), (1271.0, 64.0)), ((584.0, 1112.0), (591.0, 122.0)), ((524.0, 1116.0), (531.0, 126.0)), ((485.0, 1122.0), (493.0, 132.0)), ((543.0, 1154.0), (550.0, 165.0)), ((741.0, 1155.0), (748.0, 165.0)), ((535.0, 1158.0), (542.0, 168.0)), ((542.0, 1159.0), (549.0, 168.0)), ((535.0, 1161.0), (542.0, 170.0)), ((934.800048828125, 1004.4000244140625), (942.0000610351562, 13.200000762939453)), ((606.0, 1035.60009765625), (613.2000122070312, 44.400001525878906)), ((610.800048828125, 1038.0), (618.0, 46.80000305175781)), ((1262.4000244140625, 1051.2000732421875), (1269.60009765625, 62.400001525878906)), ((858.0000610351562, 1072.800048828125), (866.0, 82.0)), ((1257.60009765625, 1086.0), (1266.0, 94.80000305175781)), ((1260.0, 1086.0), (1268.4000244140625, 96.0)), ((523.2000122070312, 1116.0), (530.4000244140625, 126.00000762939453)), ((519.6000366210938, 1119.60009765625), (526.800048828125, 128.40000915527344)), ((484.8000183105469, 1120.800048828125), (492.0000305175781, 130.8000030517578)), ((524.4000244140625, 1135.2000732421875), (532.800048828125, 144.0)), ((1236.0, 1140.0), (1244.0, 151.0)), ((1221.60009765625, 1147.2000732421875), (1230.0, 157.20001220703125)), ((542.4000244140625, 1154.4000244140625), (549.6000366210938, 164.40000915527344)), ((740.4000244140625, 1154.4000244140625), (747.6000366210938, 164.40000915527344)), ((1436.4000244140625, 1162.800048828125), (1446.0, 173.0)), ((452.4000244140625, 1165.2000732421875), (459.6000061035156, 174.0)), ((376.8000183105469, 1172.4000244140625), (384.0, 182.40000915527344)), ((934.56005859375, 1005.1200561523438), (941.760009765625, 12.960000991821289))], 'estimated_translation_validity': {'overall': True, 'individual': [True, True, True, True, True, True, True, True, True, True, True, True, True, True, True, True, True, True, True, True, True, True, True, True, True, True, True, True, True, True]}}, ('a_myimages07.jpg', 'a_myimages08.jpg'): {'matches': (< cv2.DMatch 000001B617276290>, < cv2.DMatch 000001B6172771D0>, < cv2.DMatch 000001B6172751B0>, < cv2.DMatch 000001B617267210>, < cv2.DMatch 000001B617279970>, < cv2.DMatch 000001B617278950>, < cv2.DMatch 000001B617279750>, < cv2.DMatch 000001B617279130>, < cv2.DMatch 000001B617278450>, < cv2.DMatch 000001B617278570>, < cv2.DMatch 000001B6172780F0>, < cv2.DMatch 000001B617279E10>, < cv2.DMatch 000001B6172788B0>, < cv2.DMatch 000001B61727B890>, < cv2.DMatch 000001B617278430>, < cv2.DMatch 000001B61727BAF0>, < cv2.DMatch 000001B617279B10>, < cv2.DMatch 000001B61727BE30>, < cv2.DMatch 000001B617279CF0>, < cv2.DMatch 000001B617278A50>, < cv2.DMatch 000001B617279ED0>, < cv2.DMatch 000001B6172782F0>, < cv2.DMatch 000001B617278930>, < cv2.DMatch 000001B61727BEB0>, < cv2.DMatch 000001B6172791D0>, < cv2.DMatch 000001B61727A370>, < cv2.DMatch 000001B617279190>, < cv2.DMatch 000001B617278410>, < cv2.DMatch 000001B617278370>, < cv2.DMatch 000001B61727BC50>, < cv2.DMatch 000001B61727B930>, < cv2.DMatch 000001B61727BCB0>, < cv2.DMatch 000001B617279150>, < cv2.DMatch 000001B617278FB0>, < cv2.DMatch 000001B61727A3B0>, < cv2.DMatch 000001B61727BD90>, < cv2.DMatch 000001B61727BA70>, < cv2.DMatch 000001B61727BC10>, < cv2.DMatch 000001B61727B910>, < cv2.DMatch 000001B61727BE50>, < cv2.DMatch 000001B61727BC30>, < cv2.DMatch 000001B617278B90>, < cv2.DMatch 000001B617279BB0>, < cv2.DMatch 000001B617279AD0>, < cv2.DMatch 000001B61727B990>, < cv2.DMatch 000001B61727BA90>, < cv2.DMatch 000001B61727B9D0>, < cv2.DMatch 000001B617279570>, < cv2.DMatch 000001B617278E70>, < cv2.DMatch 000001B61727B8F0>, < cv2.DMatch 000001B6172792B0>, < cv2.DMatch 000001B61727A030>, < cv2.DMatch 000001B6172789B0>, < cv2.DMatch 000001B61727BCF0>, < cv2.DMatch 000001B61727BE70>, < cv2.DMatch 000001B61727BD70>, < cv2.DMatch 000001B61727BA50>, < cv2.DMatch 000001B6172791F0>, < cv2.DMatch 000001B61727BDB0>, < cv2.DMatch 000001B617279EF0>, < cv2.DMatch 000001B61727B250>, < cv2.DMatch 000001B617278790>, < cv2.DMatch 000001B61727AC50>, < cv2.DMatch 000001B61727AFD0>, < cv2.DMatch 000001B61727B570>, < cv2.DMatch 000001B6172782D0>, < cv2.DMatch 000001B61727AB10>, < cv2.DMatch 000001B61727AAB0>, < cv2.DMatch 000001B617278D10>, < cv2.DMatch 000001B6172798D0>, < cv2.DMatch 000001B6172789F0>, < cv2.DMatch 000001B617278F70>, < cv2.DMatch 000001B61727AF90>, < cv2.DMatch 000001B61727B590>, < cv2.DMatch 000001B617279E50>, < cv2.DMatch 000001B617278330>, < cv2.DMatch 000001B617279090>, < cv2.DMatch 000001B61727ACF0>, < cv2.DMatch 000001B6172789D0>, < cv2.DMatch 000001B617278130>, < cv2.DMatch 000001B61727B090>, < cv2.DMatch 000001B61727A250>, < cv2.DMatch 000001B617278CD0>, < cv2.DMatch 000001B617278250>, < cv2.DMatch 000001B61727AB30>, < cv2.DMatch 000001B61727B230>, < cv2.DMatch 000001B61727A210>, < cv2.DMatch 000001B617278A70>, < cv2.DMatch 000001B61727A3D0>, < cv2.DMatch 000001B61727A570>, < cv2.DMatch 000001B61727B070>, < cv2.DMatch 000001B61727B1F0>, < cv2.DMatch 000001B617279FF0>, < cv2.DMatch 000001B61727A870>, < cv2.DMatch 000001B61727B1B0>, < cv2.DMatch 000001B61727B410>, < cv2.DMatch 000001B6172793B0>, < cv2.DMatch 000001B617278E90>, < cv2.DMatch 000001B6172796B0>, < cv2.DMatch 000001B6172784F0>, < cv2.DMatch 000001B617278890>, < cv2.DMatch 000001B61727AC10>, < cv2.DMatch 000001B61727AFB0>, < cv2.DMatch 000001B617279010>, < cv2.DMatch 000001B617278F50>, < cv2.DMatch 000001B6172796D0>, < cv2.DMatch 000001B61727A630>, < cv2.DMatch 000001B61727AC30>, < cv2.DMatch 000001B61727AE10>, < cv2.DMatch 000001B61727A0F0>, < cv2.DMatch 000001B617278110>, < cv2.DMatch 000001B617278B50>, < cv2.DMatch 000001B617279F90>, < cv2.DMatch 000001B61727A8F0>, < cv2.DMatch 000001B61727A9D0>, < cv2.DMatch 000001B61727A290>, < cv2.DMatch 000001B6172795B0>, < cv2.DMatch 000001B617279B70>, < cv2.DMatch 000001B617278DF0>, < cv2.DMatch 000001B6172791B0>, < cv2.DMatch 000001B617278F10>, < cv2.DMatch 000001B6172784B0>, < cv2.DMatch 000001B61727A6B0>, < cv2.DMatch 000001B61727AA90>, < cv2.DMatch 000001B6172796F0>, < cv2.DMatch 000001B61727A810>, < cv2.DMatch 000001B61727B3B0>, < cv2.DMatch 000001B617278AD0>, < cv2.DMatch 000001B6172790F0>, < cv2.DMatch 000001B61727AA50>, < cv2.DMatch 000001B61727ABF0>, < cv2.DMatch 000001B61727AEF0>, < cv2.DMatch 000001B61727B010>, < cv2.DMatch 000001B61727B3F0>, < cv2.DMatch 000001B617278C90>, < cv2.DMatch 000001B617278150>, < cv2.DMatch 000001B6172798F0>, < cv2.DMatch 000001B617279730>, < cv2.DMatch 000001B61727A8B0>, < cv2.DMatch 000001B61727AFF0>, < cv2.DMatch 000001B61727B490>, < cv2.DMatch 000001B61727B550>, < cv2.DMatch 000001B61727A610>, < cv2.DMatch 000001B61727A6F0>, < cv2.DMatch 000001B61727A230>, < cv2.DMatch 000001B617278D70>, < cv2.DMatch 000001B61727A930>, < cv2.DMatch 000001B61727A970>, < cv2.DMatch 000001B61727AD30>, < cv2.DMatch 000001B61727AD70>, < cv2.DMatch 000001B61727AED0>, < cv2.DMatch 000001B61727B290>, < cv2.DMatch 000001B61727B4B0>, < cv2.DMatch 000001B617279A30>, < cv2.DMatch 000001B61727A710>, < cv2.DMatch 000001B61727A7F0>, < cv2.DMatch 000001B61727ABD0>, < cv2.DMatch 000001B61727ADB0>, < cv2.DMatch 000001B61727B270>, < cv2.DMatch 000001B61727B2D0>, < cv2.DMatch 000001B61727B310>, < cv2.DMatch 000001B6172795D0>, < cv2.DMatch 000001B617278630>, < cv2.DMatch 000001B617279DD0>, < cv2.DMatch 000001B61727A730>, < cv2.DMatch 000001B61727AAD0>, < cv2.DMatch 000001B61727AC70>, < cv2.DMatch 000001B61727ADF0>, < cv2.DMatch 000001B61727B050>, < cv2.DMatch 000001B61727B210>, < cv2.DMatch 000001B61727B2F0>, < cv2.DMatch 000001B617278610>, < cv2.DMatch 000001B6172781D0>, < cv2.DMatch 000001B617279790>, < cv2.DMatch 000001B617279A10>, < cv2.DMatch 000001B6172790D0>, < cv2.DMatch 000001B61727A790>, < cv2.DMatch 000001B61727AA10>, < cv2.DMatch 000001B61727AB90>, < cv2.DMatch 000001B61727AD90>, < cv2.DMatch 000001B6172790B0>, < cv2.DMatch 000001B617279DF0>, < cv2.DMatch 000001B61727AA30>, < cv2.DMatch 000001B61727AE70>, < cv2.DMatch 000001B617278690>, < cv2.DMatch 000001B617279690>, < cv2.DMatch 000001B617278090>), 'estimated_translation_inliers': [((645.0, 1023.0), (651.6000366210938, 15.600000381469727)), ((714.0, 1028.0), (721.0, 18.0)), ((490.0, 1032.0), (496.8000183105469, 21.600000381469727)), ((417.0, 1050.0), (425.0, 40.0)), ((863.0, 1050.0), (871.0, 41.0)), ((1138.0, 1062.0), (1146.0, 53.0)), ((1135.0, 1063.0), (1142.0, 55.0)), ((669.0, 1066.0), (677.0, 56.0)), ((705.0, 1088.0), (712.0, 79.0)), ((712.800048828125, 1028.4000244140625), (720.0, 20.400001525878906)), ((756.0, 1036.800048828125), (764.4000244140625, 27.600000381469727)), ((862.800048828125, 1050.0), (871.2000122070312, 40.80000305175781)), ((1148.4000244140625, 1060.800048828125), (1155.60009765625, 52.80000305175781)), ((523.2000122070312, 1062.0), (530.4000244140625, 52.80000305175781)), ((668.4000244140625, 1065.60009765625), (676.800048828125, 55.20000076293945)), ((1009.2000122070312, 1126.800048828125), (1017.6000366210938, 120.00000762939453))], 'estimated_translation_validity': {'overall': True, 'individual': [True, True, True, True, True, True, True, True, True, True, True, True, True, True, True, True]}}, ('a_myimages08.jpg', 'a_myimages09.jpg'): {'matches': (< cv2.DMatch 000001B61727A910>, < cv2.DMatch 000001B61727BD50>, < cv2.DMatch 000001B61727B0F0>, < cv2.DMatch 000001B61727B150>, < cv2.DMatch 000001B61727B190>, < cv2.DMatch 000001B61727B4F0>, < cv2.DMatch 000001B617279F10>, < cv2.DMatch 000001B61727A750>, < cv2.DMatch 000001B617278050>, < cv2.DMatch 000001B6172786D0>, < cv2.DMatch 000001B61727A9B0>, < cv2.DMatch 000001B61727A950>, < cv2.DMatch 000001B61727A670>, < cv2.DMatch 000001B617278A10>, < cv2.DMatch 000001B61727B130>, < cv2.DMatch 000001B61727ABB0>, < cv2.DMatch 000001B61727A850>, < cv2.DMatch 000001B61727BAD0>, < cv2.DMatch 000001B61727A410>, < cv2.DMatch 000001B61727BE90>, < cv2.DMatch 000001B61727BC70>, < cv2.DMatch 000001B61727C6B0>, < cv2.DMatch 000001B61727C390>, < cv2.DMatch 000001B61727DB30>, < cv2.DMatch 000001B61727CA50>, < cv2.DMatch 000001B61727DC30>, < cv2.DMatch 000001B61727D930>, < cv2.DMatch 000001B61727D370>, < cv2.DMatch 000001B61727D670>, < cv2.DMatch 000001B61727D170>, < cv2.DMatch 000001B61727D2D0>, < cv2.DMatch 000001B61727D390>, < cv2.DMatch 000001B61727C070>, < cv2.DMatch 000001B61727D0B0>, < cv2.DMatch 000001B61727DB90>, < cv2.DMatch 000001B61727C0D0>, < cv2.DMatch 000001B61727CAF0>, < cv2.DMatch 000001B61727C990>, < cv2.DMatch 000001B61727CE30>, < cv2.DMatch 000001B61727D7D0>, < cv2.DMatch 000001B61727D1B0>, < cv2.DMatch 000001B61727DC70>, < cv2.DMatch 000001B61727C850>, < cv2.DMatch 000001B61727CEF0>, < cv2.DMatch 000001B61727DC10>, < cv2.DMatch 000001B61727C0F0>, < cv2.DMatch 000001B61727CC10>, < cv2.DMatch 000001B61727C3F0>, < cv2.DMatch 000001B61727C870>, < cv2.DMatch 000001B61727D4F0>, < cv2.DMatch 000001B61727CAB0>, < cv2.DMatch 000001B61727D630>, < cv2.DMatch 000001B61727D6D0>, < cv2.DMatch 000001B61727D650>, < cv2.DMatch 000001B61727C2B0>, < cv2.DMatch 000001B61727CD70>, < cv2.DMatch 000001B61727D950>, < cv2.DMatch 000001B61727C6F0>, < cv2.DMatch 000001B61727D490>, < cv2.DMatch 000001B61727D2B0>, < cv2.DMatch 000001B61727C910>, < cv2.DMatch 000001B61727DE70>, < cv2.DMatch 000001B61727D090>, < cv2.DMatch 000001B61727C290>, < cv2.DMatch 000001B61727CC70>, < cv2.DMatch 000001B61727D810>, < cv2.DMatch 000001B61727CF30>, < cv2.DMatch 000001B61727CF10>, < cv2.DMatch 000001B61727DE10>, < cv2.DMatch 000001B61727C630>, < cv2.DMatch 000001B61727D510>, < cv2.DMatch 000001B61727D770>, < cv2.DMatch 000001B61727D790>, < cv2.DMatch 000001B61727C8D0>, < cv2.DMatch 000001B61727F410>, < cv2.DMatch 000001B61727F3B0>, < cv2.DMatch 000001B61727F290>, < cv2.DMatch 000001B61727E130>, < cv2.DMatch 000001B61727FB90>, < cv2.DMatch 000001B61727F350>, < cv2.DMatch 000001B61727EDB0>, < cv2.DMatch 000001B61727C450>, < cv2.DMatch 000001B61727E570>, < cv2.DMatch 000001B61727C750>, < cv2.DMatch 000001B61727E810>, < cv2.DMatch 000001B61727F970>, < cv2.DMatch 000001B61727E5B0>, < cv2.DMatch 000001B61727E3D0>, < cv2.DMatch 000001B61727FB70>, < cv2.DMatch 000001B61727F530>, < cv2.DMatch 000001B61727F270>, < cv2.DMatch 000001B61727F1F0>, < cv2.DMatch 000001B61727E390>, < cv2.DMatch 000001B61727E110>, < cv2.DMatch 000001B61727F9F0>, < cv2.DMatch 000001B61727F2F0>, < cv2.DMatch 000001B61727F050>, < cv2.DMatch 000001B61727EE50>, < cv2.DMatch 000001B61727E190>, < cv2.DMatch 000001B61727F570>, < cv2.DMatch 000001B61727F0F0>, < cv2.DMatch 000001B61727E3F0>, < cv2.DMatch 000001B61727E3B0>, < cv2.DMatch 000001B61727FA70>, < cv2.DMatch 000001B61727F9B0>, < cv2.DMatch 000001B61727F8B0>, < cv2.DMatch 000001B61727F750>, < cv2.DMatch 000001B61727F030>, < cv2.DMatch 000001B61727EFD0>, < cv2.DMatch 000001B61727F770>, < cv2.DMatch 000001B61727F230>, < cv2.DMatch 000001B61727E270>, < cv2.DMatch 000001B61727E090>, < cv2.DMatch 000001B61727D570>, < cv2.DMatch 000001B61727F7F0>, < cv2.DMatch 000001B61727EED0>, < cv2.DMatch 000001B61727E290>, < cv2.DMatch 000001B61727DF90>, < cv2.DMatch 000001B61727D8F0>, < cv2.DMatch 000001B61727FB10>, < cv2.DMatch 000001B61727F5B0>, < cv2.DMatch 000001B61727FA30>, < cv2.DMatch 000001B61727F310>, < cv2.DMatch 000001B61727F0B0>, < cv2.DMatch 000001B61727EF70>, < cv2.DMatch 000001B61727E990>, < cv2.DMatch 000001B61727E5D0>, < cv2.DMatch 000001B61727D730>, < cv2.DMatch 000001B61727CA70>, < cv2.DMatch 000001B61727CE70>, < cv2.DMatch 000001B61727F7B0>, < cv2.DMatch 000001B61727F470>, < cv2.DMatch 000001B61727F2D0>, < cv2.DMatch 000001B61727EB90>, < cv2.DMatch 000001B61727EB10>, < cv2.DMatch 000001B61727CDF0>, < cv2.DMatch 000001B61727DB10>, < cv2.DMatch 000001B61727DD30>, < cv2.DMatch 000001B61727C670>, < cv2.DMatch 000001B61727E9B0>, < cv2.DMatch 000001B61727E410>, < cv2.DMatch 000001B61727E2D0>, < cv2.DMatch 000001B61727C150>, < cv2.DMatch 000001B61727E910>, < cv2.DMatch 000001B61727E7B0>, < cv2.DMatch 000001B61727E790>, < cv2.DMatch 000001B61727C7B0>, < cv2.DMatch 000001B61727C1D0>, < cv2.DMatch 000001B61727ED90>, < cv2.DMatch 000001B61727D8D0>, < cv2.DMatch 000001B61727F070>, < cv2.DMatch 000001B61727E7D0>, < cv2.DMatch 000001B61727E6D0>, < cv2.DMatch 000001B61727E5F0>, < cv2.DMatch 000001B61727E230>, < cv2.DMatch 000001B61727C2D0>, < cv2.DMatch 000001B61727DFF0>, < cv2.DMatch 000001B61727D3D0>, < cv2.DMatch 000001B61727CB50>, < cv2.DMatch 000001B61727D610>, < cv2.DMatch 000001B61727C4D0>, < cv2.DMatch 000001B61727E750>, < cv2.DMatch 000001B61727F930>, < cv2.DMatch 000001B61727F130>, < cv2.DMatch 000001B61727F0D0>, < cv2.DMatch 000001B61727E8F0>, < cv2.DMatch 000001B61727E4B0>, < cv2.DMatch 000001B61727DFD0>, < cv2.DMatch 000001B61727CDB0>, < cv2.DMatch 000001B61727F9D0>, < cv2.DMatch 000001B61727F110>, < cv2.DMatch 000001B61727EEB0>, < cv2.DMatch 000001B61727EA30>, < cv2.DMatch 000001B61727F4B0>, < cv2.DMatch 000001B61727F490>, < cv2.DMatch 000001B61727DF50>, < cv2.DMatch 000001B61727F630>, < cv2.DMatch 000001B61727E6F0>, < cv2.DMatch 000001B61727E630>, < cv2.DMatch 000001B61727F670>, < cv2.DMatch 000001B61727EA50>, < cv2.DMatch 000001B61727F650>, < cv2.DMatch 000001B61727E930>, < cv2.DMatch 000001B61727E690>, < cv2.DMatch 000001B61727EE70>, < cv2.DMatch 000001B61727EA70>, < cv2.DMatch 000001B61727E470>, < cv2.DMatch 000001B61727CF50>, < cv2.DMatch 000001B61727C0B0>, < cv2.DMatch 000001B61727E6B0>, < cv2.DMatch 000001B61727F010>, < cv2.DMatch 000001B61727D550>, < cv2.DMatch 000001B61727DA10>, < cv2.DMatch 000001B61727DA90>, < cv2.DMatch 000001B61727D070>, < cv2.DMatch 000001B61727D230>, < cv2.DMatch 000001B61727DD70>, < cv2.DMatch 000001B61727D3F0>, < cv2.DMatch 000001B61727D310>, < cv2.DMatch 000001B61727D050>, < cv2.DMatch 000001B61727D1F0>, < cv2.DMatch 000001B61727D590>, < cv2.DMatch 000001B61727D4B0>, < cv2.DMatch 000001B61727D330>, < cv2.DMatch 000001B61727D850>, < cv2.DMatch 000001B61727CC50>, < cv2.DMatch 000001B61727D890>, < cv2.DMatch 000001B61727C1B0>, < cv2.DMatch 000001B61727D830>, < cv2.DMatch 000001B61727EC50>, < cv2.DMatch 000001B61727E890>, < cv2.DMatch 000001B61727E2F0>, < cv2.DMatch 000001B61727D130>, < cv2.DMatch 000001B61727DAD0>, < cv2.DMatch 000001B61727EF30>, < cv2.DMatch 000001B61727ED50>, < cv2.DMatch 000001B61727EB30>, < cv2.DMatch 000001B61727E610>, < cv2.DMatch 000001B61727E430>, < cv2.DMatch 000001B61727E210>, < cv2.DMatch 000001B61727E150>, < cv2.DMatch 000001B61727E050>, < cv2.DMatch 000001B61727C550>, < cv2.DMatch 000001B61727F690>, < cv2.DMatch 000001B61727F550>, < cv2.DMatch 000001B61727F150>, < cv2.DMatch 000001B61727E770>, < cv2.DMatch 000001B61727E0F0>, < cv2.DMatch 000001B61727E070>, < cv2.DMatch 000001B61727F730>, < cv2.DMatch 000001B61727F4D0>, < cv2.DMatch 000001B61727F450>, < cv2.DMatch 000001B61727F2B0>), 'estimated_translation_inliers': [((1323.0, 952.0), (1332.0, 14.0)), ((826.0, 956.0), (833.0, 16.0)), ((360.0, 986.0), (367.20001220703125, 46.80000305175781)), ((363.0, 987.0), (369.6000061035156, 48.0)), ((1513.0, 988.0), (1521.0, 52.0)), ((621.0, 989.0), (629.0, 48.0)), ((1130.0, 1010.0), (1138.0, 71.0)), ((282.0, 1017.0), (287.0, 79.0)), ((1196.0, 1025.0), (1203.60009765625, 86.4000015258789)), ((832.0, 1033.0), (840.0, 93.0)), ((561.0, 1062.0), (569.0, 123.0)), ((794.0, 1065.0), (802.0, 126.0)), ((446.0, 1101.0), (453.0, 162.0)), ((757.0, 1122.0), (764.0, 182.0)), ((641.0, 1136.0), (646.800048828125, 196.8000030517578)), ((322.0, 1137.0), (329.0, 199.0)), ((636.0, 1138.0), (643.0, 199.0)), ((1120.0, 1141.0), (1128.0, 205.0)), ((875.0, 1148.0), (882.0, 210.0)), ((1553.0, 1155.0), (1558.800048828125, 220.8000030517578)), ((362.4000244140625, 986.4000244140625), (370.08001708984375, 47.52000045776367)), ((1513.2000732421875, 987.6000366210938), (1520.4000244140625, 51.60000228881836)), ((621.6000366210938, 988.800048828125), (628.800048828125, 48.0)), ((282.0, 1016.4000244140625), (289.20001220703125, 78.0)), ((1232.4000244140625, 1035.60009765625), (1241.280029296875, 96.4800033569336)), ((585.6000366210938, 1058.4000244140625), (592.0, 119.0)), ((1024.800048828125, 1107.60009765625), (1033.0, 169.0)), ((757.2000122070312, 1125.60009765625), (764.4000244140625, 187.20001220703125)), ((318.0, 1135.2000732421875), (324.0, 196.8000030517578)), ((322.8000183105469, 1136.4000244140625), (328.8000183105469, 199.20001220703125)), ((1530.0, 1150.800048828125), (1538.4000244140625, 214.8000030517578)), ((1554.0001220703125, 1154.4000244140625), (1562.4000244140625, 218.8800048828125)), ((1323.360107421875, 951.8400268554688), (1330.5601806640625, 13.82400131225586)), ((1513.4400634765625, 967.6800537109375), (1522.080078125, 31.68000030517578)), ((580.3200073242188, 984.9600219726562), (586.800048828125, 45.60000228881836)), ((1512.0, 987.8400268554688), (1520.6400146484375, 51.840003967285156)), ((596.1600341796875, 990.7200317382812), (602.4000244140625, 51.60000228881836)), ((1504.800048828125, 990.7200317382812), (1510.800048828125, 56.400001525878906)), ((282.2400207519531, 1016.6400146484375), (289.44000244140625, 77.76000213623047)), ((1229.760009765625, 1033.9200439453125), (1238.4000244140625, 96.4800033569336)), ((1270.080078125, 1041.1199951171875), (1276.9920654296875, 103.68000793457031)), ((1018.0800170898438, 1105.9200439453125), (1027.2000732421875, 169.20001220703125)), ((635.0400390625, 1128.9600830078125), (642.2400512695312, 190.0800018310547)), ((639.3600463867188, 1134.7200927734375), (646.5599975585938, 195.8400115966797))], 'estimated_translation_validity': {'overall': True, 'individual': [True, True, True, True, True, True, True, True, True, True, True, True, True, True, True, True, True, True, True, True, True, True, True, True, True, True, True, True, True, True, True, True, True, True, True, True, True, True, True, True, True, True, True, True]}}, ('a_myimages09.jpg', 'a_myimages10.jpg'): {'matches': (< cv2.DMatch 000001B61727CD50>, < cv2.DMatch 000001B61727CBD0>, < cv2.DMatch 000001B61727D4D0>, < cv2.DMatch 000001B61727DBB0>, < cv2.DMatch 000001B61727CDD0>, < cv2.DMatch 000001B61727FA50>, < cv2.DMatch 000001B61727EFB0>, < cv2.DMatch 000001B61727E310>, < cv2.DMatch 000001B61727D210>, < cv2.DMatch 000001B61727FEB0>, < cv2.DMatch 000001B61727FEF0>, < cv2.DMatch 000001B61727EE30>, < cv2.DMatch 000001B61727ECD0>, < cv2.DMatch 000001B61727E8D0>, < cv2.DMatch 000001B61727C510>, < cv2.DMatch 000001B61727EDF0>, < cv2.DMatch 000001B61727E510>, < cv2.DMatch 000001B61727ECF0>, < cv2.DMatch 000001B61727E4D0>, < cv2.DMatch 000001B61727F5F0>, < cv2.DMatch 000001B61727C9F0>, < cv2.DMatch 000001B61727CCB0>, < cv2.DMatch 000001B61727E370>, < cv2.DMatch 000001B61727D450>, < cv2.DMatch 000001B61727F990>, < cv2.DMatch 000001B61727FE10>, < cv2.DMatch 000001B61727CE90>, < cv2.DMatch 000001B61727E870>, < cv2.DMatch 000001B61727CFD0>, < cv2.DMatch 000001B61727C5B0>, < cv2.DMatch 000001B61727C830>, < cv2.DMatch 000001B61727CB70>, < cv2.DMatch 000001B61727FBF0>, < cv2.DMatch 000001B61727F910>, < cv2.DMatch 000001B61727C650>, < cv2.DMatch 000001B61727C4F0>, < cv2.DMatch 000001B61727FC90>, < cv2.DMatch 000001B61727F790>, < cv2.DMatch 000001B61727EFF0>, < cv2.DMatch 000001B61727FDF0>, < cv2.DMatch 000001B61727FE70>, < cv2.DMatch 000001B61727C690>, < cv2.DMatch 000001B61727F590>, < cv2.DMatch 000001B61727FF70>, < cv2.DMatch 000001B61727DB50>, < cv2.DMatch 000001B61727E1F0>, < cv2.DMatch 000001B61727EC10>, < cv2.DMatch 000001B61727C330>, < cv2.DMatch 000001B61727FB50>, < cv2.DMatch 000001B61727E7F0>, < cv2.DMatch 000001B61727EAB0>, < cv2.DMatch 000001B61727CD30>, < cv2.DMatch 000001B61727EF90>, < cv2.DMatch 000001B61727DFB0>, < cv2.DMatch 000001B61727FF50>, < cv2.DMatch 000001B61727CF90>, < cv2.DMatch 000001B61727DBD0>, < cv2.DMatch 000001B61727D7F0>, < cv2.DMatch 000001B61727C210>, < cv2.DMatch 000001B61727D1D0>, < cv2.DMatch 000001B61727C8B0>, < cv2.DMatch 000001B61727D150>, < cv2.DMatch 000001B61727CE10>, < cv2.DMatch 000001B61727CFF0>, < cv2.DMatch 000001B61727CA30>, < cv2.DMatch 000001B61727C170>, < cv2.DMatch 000001B61727CFB0>, < cv2.DMatch 000001B61727CB10>, < cv2.DMatch 000001B61727C970>, < cv2.DMatch 000001B61727C1F0>, < cv2.DMatch 000001B61727C890>, < cv2.DMatch 000001B61727DC90>, < cv2.DMatch 000001B61727CF70>, < cv2.DMatch 000001B61727D870>, < cv2.DMatch 000001B61727DDD0>, < cv2.DMatch 000001B61727C410>, < cv2.DMatch 000001B61727DDF0>, < cv2.DMatch 000001B61727CBB0>, < cv2.DMatch 000001B61727D5B0>, < cv2.DMatch 000001B61727C9B0>, < cv2.DMatch 000001B61727C030>, < cv2.DMatch 000001B61727DE50>, < cv2.DMatch 000001B61727C2F0>, < cv2.DMatch 000001B61727DEF0>, < cv2.DMatch 000001B61727D350>, < cv2.DMatch 000001B61727C470>, < cv2.DMatch 000001B61727C8F0>, < cv2.DMatch 000001B61727D690>, < cv2.DMatch 000001B61727C610>, < cv2.DMatch 000001B61727DA50>, < cv2.DMatch 000001B61727DED0>, < cv2.DMatch 000001B61727D970>, < cv2.DMatch 000001B61727D6F0>, < cv2.DMatch 000001B61727CAD0>, < cv2.DMatch 000001B61727DC50>, < cv2.DMatch 000001B61727D910>, < cv2.DMatch 000001B61727C7D0>, < cv2.DMatch 000001B61727DD50>, < cv2.DMatch 000001B61727C090>, < cv2.DMatch 000001B61727CC90>, < cv2.DMatch 000001B61727CA90>, < cv2.DMatch 000001B61727D710>, < cv2.DMatch 000001B61727D750>, < cv2.DMatch 000001B61727DF10>, < cv2.DMatch 000001B61727DD10>, < cv2.DMatch 000001B61727D410>, < cv2.DMatch 000001B61727C430>, < cv2.DMatch 000001B61727D470>, < cv2.DMatch 000001B61727DAF0>, < cv2.DMatch 000001B6172842D0>, < cv2.DMatch 000001B6172842B0>, < cv2.DMatch 000001B6172840D0>, < cv2.DMatch 000001B617284290>, < cv2.DMatch 000001B6172840F0>, < cv2.DMatch 000001B617284130>, < cv2.DMatch 000001B6172841F0>, < cv2.DMatch 000001B617284230>, < cv2.DMatch 000001B617284250>, < cv2.DMatch 000001B6172842F0>, < cv2.DMatch 000001B617284070>, < cv2.DMatch 000001B617284210>, < cv2.DMatch 000001B617284270>, < cv2.DMatch 000001B617284310>, < cv2.DMatch 000001B617284190>, < cv2.DMatch 000001B6172841B0>, < cv2.DMatch 000001B617284050>, < cv2.DMatch 000001B617284030>, < cv2.DMatch 000001B6172840B0>, < cv2.DMatch 000001B617284350>, < cv2.DMatch 000001B617284330>, < cv2.DMatch 000001B6172841D0>, < cv2.DMatch 000001B617284150>, < cv2.DMatch 000001B6172843D0>, < cv2.DMatch 000001B617284110>, < cv2.DMatch 000001B617284170>, < cv2.DMatch 000001B617284470>, < cv2.DMatch 000001B617284370>, < cv2.DMatch 000001B617284390>, < cv2.DMatch 000001B6172843B0>, < cv2.DMatch 000001B617284450>, < cv2.DMatch 000001B617284090>, < cv2.DMatch 000001B617284490>, < cv2.DMatch 000001B6172843F0>, < cv2.DMatch 000001B617284410>, < cv2.DMatch 000001B617284430>, < cv2.DMatch 000001B617285290>, < cv2.DMatch 000001B617286D70>, < cv2.DMatch 000001B617285C10>, < cv2.DMatch 000001B6172850F0>, < cv2.DMatch 000001B6172861D0>, < cv2.DMatch 000001B617285D30>, < cv2.DMatch 000001B6172850B0>, < cv2.DMatch 000001B617287210>, < cv2.DMatch 000001B617286210>, < cv2.DMatch 000001B6172856B0>, < cv2.DMatch 000001B6172855F0>, < cv2.DMatch 000001B617285130>, < cv2.DMatch 000001B617284530>, < cv2.DMatch 000001B6172871F0>, < cv2.DMatch 000001B617285C50>, < cv2.DMatch 000001B617284F10>, < cv2.DMatch 000001B617285D90>, < cv2.DMatch 000001B617285BF0>, < cv2.DMatch 000001B617285710>, < cv2.DMatch 000001B617284AD0>, < cv2.DMatch 000001B617284610>, < cv2.DMatch 000001B617286D90>, < cv2.DMatch 000001B617286470>, < cv2.DMatch 000001B617286330>, < cv2.DMatch 000001B617285250>, < cv2.DMatch 000001B617284D70>, < cv2.DMatch 000001B617284B50>, < cv2.DMatch 000001B617286C90>, < cv2.DMatch 000001B617286C10>, < cv2.DMatch 000001B6172861B0>, < cv2.DMatch 000001B617285D50>, < cv2.DMatch 000001B617285270>, < cv2.DMatch 000001B617286AB0>, < cv2.DMatch 000001B617286310>, < cv2.DMatch 000001B617286150>, < cv2.DMatch 000001B617285F70>, < cv2.DMatch 000001B617284DD0>, < cv2.DMatch 000001B6172847B0>, < cv2.DMatch 000001B6172846F0>, < cv2.DMatch 000001B6172871D0>, < cv2.DMatch 000001B617286A10>, < cv2.DMatch 000001B617286590>, < cv2.DMatch 000001B617286570>, < cv2.DMatch 000001B617285D10>, < cv2.DMatch 000001B617287270>, < cv2.DMatch 000001B617286690>, < cv2.DMatch 000001B617286250>, < cv2.DMatch 000001B617285DD0>, < cv2.DMatch 000001B6172852B0>, < cv2.DMatch 000001B617284970>, < cv2.DMatch 000001B617286C30>, < cv2.DMatch 000001B6172868F0>, < cv2.DMatch 000001B6172866B0>, < cv2.DMatch 000001B6172862B0>, < cv2.DMatch 000001B617285AD0>, < cv2.DMatch 000001B617285190>, < cv2.DMatch 000001B617284EF0>, < cv2.DMatch 000001B617284710>, < cv2.DMatch 000001B617286E70>, < cv2.DMatch 000001B617286530>, < cv2.DMatch 000001B617285F90>, < cv2.DMatch 000001B617285BD0>, < cv2.DMatch 000001B617285930>, < cv2.DMatch 000001B6172856D0>, < cv2.DMatch 000001B617284FF0>, < cv2.DMatch 000001B617284BF0>, < cv2.DMatch 000001B617284AB0>, < cv2.DMatch 000001B617284930>, < cv2.DMatch 000001B617284830>, < cv2.DMatch 000001B617287230>, < cv2.DMatch 000001B617287190>, < cv2.DMatch 000001B617286930>, < cv2.DMatch 000001B617286350>, < cv2.DMatch 000001B617286230>, < cv2.DMatch 000001B617285CD0>, < cv2.DMatch 000001B617285910>, < cv2.DMatch 000001B6172854B0>, < cv2.DMatch 000001B617284E70>, < cv2.DMatch 000001B6172849D0>, < cv2.DMatch 000001B6172848D0>, < cv2.DMatch 000001B617287170>, < cv2.DMatch 000001B617286D10>, < cv2.DMatch 000001B617286CD0>, < cv2.DMatch 000001B617286890>, < cv2.DMatch 000001B617286410>, < cv2.DMatch 000001B617285DF0>, < cv2.DMatch 000001B6172851D0>, < cv2.DMatch 000001B617284C10>, < cv2.DMatch 000001B617287150>, < cv2.DMatch 000001B617286830>, < cv2.DMatch 000001B617286790>, < cv2.DMatch 000001B617286370>, < cv2.DMatch 000001B617286130>, < cv2.DMatch 000001B6172856F0>, < cv2.DMatch 000001B617285490>, < cv2.DMatch 000001B617285090>, < cv2.DMatch 000001B617284E90>, < cv2.DMatch 000001B617284950>, < cv2.DMatch 000001B617287250>, < cv2.DMatch 000001B617286C70>, < cv2.DMatch 000001B6172868D0>, < cv2.DMatch 000001B617285AB0>, < cv2.DMatch 000001B617285770>, < cv2.DMatch 000001B617285670>, < cv2.DMatch 000001B617285310>, < cv2.DMatch 000001B617284E30>, < cv2.DMatch 000001B617286F50>, < cv2.DMatch 000001B617286DD0>, < cv2.DMatch 000001B617286850>, < cv2.DMatch 000001B617286650>, < cv2.DMatch 000001B617285E30>, < cv2.DMatch 000001B617285D70>, < cv2.DMatch 000001B617285CB0>, < cv2.DMatch 000001B617285B70>, < cv2.DMatch 000001B617285210>, < cv2.DMatch 000001B6172848B0>, < cv2.DMatch 000001B617284890>, < cv2.DMatch 000001B6172847D0>, < cv2.DMatch 000001B617284510>, < cv2.DMatch 000001B617286950>, < cv2.DMatch 000001B6172862D0>, < cv2.DMatch 000001B617286270>, < cv2.DMatch 000001B617285DB0>, < cv2.DMatch 000001B617285C90>, < cv2.DMatch 000001B6172858B0>, < cv2.DMatch 000001B617285730>, < cv2.DMatch 000001B6172851F0>, < cv2.DMatch 000001B617284EB0>, < cv2.DMatch 000001B6172845F0>, < cv2.DMatch 000001B617286670>, < cv2.DMatch 000001B617286190>, < cv2.DMatch 000001B617285CF0>, < cv2.DMatch 000001B617285C30>, < cv2.DMatch 000001B617285B90>, < cv2.DMatch 000001B617285B50>, < cv2.DMatch 000001B617285A30>, < cv2.DMatch 000001B617285970>, < cv2.DMatch 000001B617285690>, < cv2.DMatch 000001B617285230>, < cv2.DMatch 000001B6172847F0>, < cv2.DMatch 000001B617286DF0>, < cv2.DMatch 000001B617286B10>, < cv2.DMatch 000001B6172863B0>, < cv2.DMatch 000001B617285BB0>), 'estimated_translation_inliers': [((811.0, 865.0), (815.0, 149.0)), ((1512.0, 858.0), (1516.0, 144.0)), ((789.0, 858.0), (793.0, 142.0)), ((331.0, 858.0), (335.0, 143.0)), ((436.0, 825.0), (440.0, 109.0)), ((1511.0, 852.0), (1517.0, 136.0)), ((1415.0, 850.0), (1420.0, 136.0)), ((332.0, 849.0), (336.0, 133.0)), ((431.0, 837.0), (435.0, 120.0)), ((807.0, 840.0), (810.0, 124.0)), ((971.0, 1188.0), (976.0, 473.0)), ((972.0, 1181.0), (977.0, 467.0)), ((976.0, 1180.0), (981.0, 464.0)), ((398.0, 1152.0), (402.0, 437.0)), ((904.0, 1142.0), (909.0, 428.0)), ((903.0, 1140.0), (908.0, 425.0)), ((571.0, 1133.0), (575.0, 417.0)), ((458.0, 1120.0), (461.0, 405.0)), ((431.0, 1115.0), (434.0, 400.0)), ((1071.0, 1103.0), (1075.0, 387.0)), ((1347.0, 1076.0), (1352.4000244140625, 362.4000244140625)), ((1157.0, 1076.0), (1162.0, 360.0)), ((1119.0, 1058.0), (1123.0, 341.0)), ((892.0, 1039.0), (896.0, 324.0)), ((1066.0, 1017.0), (1070.0, 301.0)), ((1272.0, 1015.0), (1277.0, 300.0)), ((741.0, 961.0), (745.0, 245.0)), ((340.0, 959.0), (344.0, 244.0)), ((745.0, 957.0), (748.0, 241.0)), ((740.0, 957.0), (745.0, 241.0)), ((531.0, 956.0), (535.0, 240.0)), ((533.0, 955.0), (537.0, 239.0)), ((531.0, 945.0), (535.0, 229.0)), ((1143.0, 743.0), (1147.0, 29.0)), ((926.0, 935.0), (930.0, 219.0)), ((1381.0, 921.0), (1385.0, 207.0)), ((1370.0, 921.0), (1375.2000732421875, 206.40000915527344)), ((953.0, 915.0), (957.0, 199.0)), ((1488.0, 771.0), (1496.0, 57.0)), ((955.0, 879.0), (960.0, 164.0)), ((1499.0, 777.0), (1503.0, 63.0)), ((342.0, 875.0), (347.0, 159.0)), ((1513.0, 785.0), (1518.0, 70.0)), ((1514.0, 791.0), (1517.0, 77.0)), ((693.0, 848.0), (697.0, 132.0)), ((1516.0, 849.0), (1521.0, 135.0)), ((1524.0, 721.0), (1528.0, 5.0)), ((907.2000122070312, 1140.0), (910.800048828125, 424.8000183105469)), ((1519.2000732421875, 1132.800048828125), (1526.0, 420.0)), ((1071.60009765625, 1125.60009765625), (1076.4000244140625, 408.0000305175781)), ((430.8000183105469, 1114.800048828125), (434.4000244140625, 399.6000061035156)), ((940.800048828125, 1090.800048828125), (945.6000366210938, 374.4000244140625)), ((1156.800048828125, 1076.4000244140625), (1161.60009765625, 360.0)), ((1344.0, 1074.0), (1350.0, 360.0)), ((1118.4000244140625, 1057.2000732421875), (1123.2000732421875, 340.8000183105469)), ((891.6000366210938, 1039.2000732421875), (896.4000244140625, 324.0)), ((1071.60009765625, 1014.0000610351562), (1075.2000732421875, 297.6000061035156)), ((726.0, 961.2000122070312), (731.0, 246.0)), ((724.800048828125, 958.800048828125), (729.6000366210938, 242.40000915527344)), ((342.0, 958.800048828125), (346.8000183105469, 242.40000915527344)), ((745.2000122070312, 956.4000244140625), (748.800048828125, 240.00001525878906)), ((528.0, 955.2000122070312), (532.800048828125, 238.8000030517578)), ((525.6000366210938, 954.0000610351562), (529.2000122070312, 237.60000610351562)), ((524.4000244140625, 951.6000366210938), (528.4800415039062, 234.7200164794922)), ((524.4000244140625, 948.0000610351562), (528.0, 231.60000610351562)), ((528.0, 945.6000366210938), (531.6000366210938, 229.20001220703125)), ((525.6000366210938, 945.6000366210938), (529.2000122070312, 229.20001220703125)), ((320.4000244140625, 930.0000610351562), (323.0, 214.0)), ((1380.0, 920.4000244140625), (1385.280029296875, 204.48001098632812)), ((950.4000244140625, 916.800048828125), (955.2000122070312, 201.60000610351562)), ((952.800048828125, 914.4000244140625), (956.4000244140625, 199.20001220703125)), ((873.6000366210938, 906.0000610351562), (879.0, 190.0)), ((952.800048828125, 877.2000122070312), (957.6000366210938, 160.8000030517578)), ((331.20001220703125, 872.4000244140625), (334.8000183105469, 157.20001220703125)), ((1506.0, 871.2000122070312), (1512.0, 158.40000915527344)), ((1512.0, 858.0000610351562), (1515.60009765625, 144.0)), ((788.4000244140625, 858.0000610351562), (793.2000122070312, 141.60000610351562)), ((331.20001220703125, 858.0000610351562), (334.8000183105469, 142.8000030517578)), ((787.2000122070312, 855.6000366210938), (792.0000610351562, 139.20001220703125)), ((1143.60009765625, 742.800048828125), (1147.2000732421875, 28.80000114440918)), ((1515.60009765625, 849.6000366210938), (1520.4000244140625, 135.60000610351562)), ((332.4000244140625, 849.6000366210938), (336.0, 133.20001220703125)), ((1104.0, 846.0000610351562), (1107.3599853515625, 129.60000610351562)), ((728.4000244140625, 846.0000610351562), (732.0, 129.60000610351562)), ((1514.4000244140625, 763.2000122070312), (1518.0, 49.20000076293945)), ((1500.0, 776.4000244140625), (1505.0, 62.0)), ((430.8000183105469, 836.4000244140625), (434.4000244140625, 120.00000762939453)), ((679.2000122070312, 790.800048828125), (683.0, 74.0)), ((1513.2000732421875, 790.800048828125), (1516.800048828125, 76.80000305175781)), ((436.8000183105469, 824.4000244140625), (440.4000244140625, 109.20000457763672)), ((399.6000061035156, 1150.800048828125), (402.0000305175781, 436.8000183105469)), ((975.6000366210938, 1177.2000732421875), (980.4000244140625, 464.4000244140625)), ((972.0000610351562, 1182.0), (976.800048828125, 466.8000183105469)), ((981.6000366210938, 1182.0), (986.4000244140625, 466.8000183105469)), ((345.6000061035156, 969.1200561523438), (348.4800109863281, 252.00001525878906)), ((741.6000366210938, 959.0400390625), (745.9200439453125, 241.92001342773438)), ((342.7200012207031, 959.0400390625), (345.6000061035156, 243.36001586914062)), ((528.4800415039062, 954.7200317382812), (532.800048828125, 237.60000610351562)), ((534.2400512695312, 950.4000244140625), (540.0, 236.16000366210938)), ((527.0400390625, 944.6400146484375), (531.3600463867188, 228.9600067138672)), ((318.2400207519531, 928.800048828125), (322.55999755859375, 213.12001037597656)), ((874.0800170898438, 905.760009765625), (878.4000244140625, 190.0800018310547)), ((1512.0, 875.52001953125), (1517.1842041015625, 162.43202209472656)), ((342.7200012207031, 874.0800170898438), (347.0400085449219, 158.40000915527344)), ((331.20001220703125, 871.2000122070312), (334.08001708984375, 156.9600067138672)), ((1513.4400634765625, 864.0000610351562), (1517.760009765625, 151.20001220703125)), ((1143.3599853515625, 743.0400390625), (1146.239990234375, 27.360000610351562)), ((1517.760009765625, 743.0400390625), (1520.6400146484375, 28.80000114440918)), ((1512.0, 858.2400512695312), (1516.320068359375, 144.0)), ((331.20001220703125, 856.800048828125), (334.08001708984375, 142.5600128173828)), ((1510.56005859375, 852.4800415039062), (1514.8800048828125, 138.24000549316406)), ((331.20001220703125, 848.1600341796875), (335.52001953125, 132.48001098632812)), ((341.2799987792969, 845.280029296875), (345.6000061035156, 129.60000610351562))], 'estimated_translation_validity': {'overall': True, 'individual': [True, True, True, True, True, True, True, True, True, True, True, True, True, True, True, True, True, True, True, True, True, True, True, True, True, True, True, True, True, True, True, True, True, True, True, True, True, True, True, True, True, True, True, True, True, True, True, True, True, True, True, True, True, True, True, True, True, True, True, True, True, True, True, True, True, True, True, True, True, True, True, True, True, True, True, True, True, True, True, True, True, True, True, True, True, True, True, True, True, True, True, True, True, True, True, True, True, True, True, True, True, True, True, True, True, True, True, True, True, True, True, True, True]}}}}\n"
     ]
    }
   ],
   "source": [
    "ImageM=ImageManager(mis_project.get_image_paths())\n",
    "\n",
    "OrbM=ORBManager(ImageM,default_ORB_parameters={\"nfeatures\": 2000,\"edgeThreshold\": 5 })\n",
    "\n",
    "AlignCVM=AlignCVManager(ImageM,OrbM)\n",
    "\n",
    "match_combinations=generate_match_combinations(strategy=\"order\",order=sorted(mis_project.get_image_names()))\n",
    "\n",
    "alignment_id=AlignCVM.run_alignment(match_combinations)\n",
    "alignment_result=AlignCVM.get_alignment(alignment_id)\n",
    "print(alignment_result)"
   ]
  },
  {
   "cell_type": "code",
   "execution_count": 7,
   "metadata": {},
   "outputs": [
    {
     "name": "stdout",
     "output_type": "stream",
     "text": [
      "Prior Alignments\n"
     ]
    },
    {
     "data": {
      "text/plain": [
       "[[('a_myimages01.jpg', 'a_myimages02.jpg'), (12, -1088)],\n",
       " [('a_myimages02.jpg', 'a_myimages03.jpg'), (8, -1141)],\n",
       " [('a_myimages03.jpg', 'a_myimages04.jpg'), (-129, -1058)],\n",
       " [('a_myimages04.jpg', 'a_myimages05.jpg'), (11, -943)],\n",
       " [('a_myimages05.jpg', 'a_myimages06.jpg'), (5, -860)],\n",
       " [('a_myimages06.jpg', 'a_myimages07.jpg'), (10, -990)],\n",
       " [('a_myimages07.jpg', 'a_myimages08.jpg'), (9, -1009)],\n",
       " [('a_myimages08.jpg', 'a_myimages09.jpg'), (9, -939)],\n",
       " [('a_myimages09.jpg', 'a_myimages10.jpg'), (3, -722)]]"
      ]
     },
     "metadata": {},
     "output_type": "display_data"
    },
    {
     "name": "stdout",
     "output_type": "stream",
     "text": [
      "Computer Vision Alignments\n"
     ]
    },
    {
     "data": {
      "text/plain": [
       "[[('a_myimages01.jpg', 'a_myimages02.jpg'), (9, -1086)],\n",
       " [('a_myimages02.jpg', 'a_myimages03.jpg'), (8, -1146)],\n",
       " [('a_myimages03.jpg', 'a_myimages04.jpg'), (-124, -1060)],\n",
       " [('a_myimages04.jpg', 'a_myimages05.jpg'), (9, -942)],\n",
       " [('a_myimages05.jpg', 'a_myimages06.jpg'), (6, -857)],\n",
       " [('a_myimages06.jpg', 'a_myimages07.jpg'), (7, -990)],\n",
       " [('a_myimages07.jpg', 'a_myimages08.jpg'), (7, -1009)],\n",
       " [('a_myimages08.jpg', 'a_myimages09.jpg'), (7, -938)],\n",
       " [('a_myimages09.jpg', 'a_myimages10.jpg'), (4, -715)]]"
      ]
     },
     "metadata": {},
     "output_type": "display_data"
    }
   ],
   "source": [
    "mis_project_copy=load_mis(mis_filepath)\n",
    "mis_project_copy._relations=[]\n",
    "\n",
    "AlignCVM.update_mis(mis_project_copy,alignment_id)\n",
    "#TODO add an update relation option?\n",
    "print(\"Prior Alignments\")\n",
    "display(mis_project.get_rels(\"r\"))\n",
    "print(\"Computer Vision Alignments\")\n",
    "display(mis_project_copy.get_rels(\"r\"))"
   ]
  },
  {
   "cell_type": "code",
   "execution_count": 9,
   "metadata": {},
   "outputs": [],
   "source": [
    "save_mis(r\"..\\\\..\\example\\data\\set_a\\mymis_aligncv.mis\",mis_project_copy)"
   ]
  }
 ],
 "metadata": {
  "kernelspec": {
   "display_name": ".venv",
   "language": "python",
   "name": "python3"
  },
  "language_info": {
   "codemirror_mode": {
    "name": "ipython",
    "version": 3
   },
   "file_extension": ".py",
   "mimetype": "text/x-python",
   "name": "python",
   "nbconvert_exporter": "python",
   "pygments_lexer": "ipython3",
   "version": "3.10.8"
  }
 },
 "nbformat": 4,
 "nbformat_minor": 2
}

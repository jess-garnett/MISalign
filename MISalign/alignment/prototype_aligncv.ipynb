{
 "cells": [
  {
   "cell_type": "markdown",
   "metadata": {},
   "source": [
    "# Sample Data Ingest"
   ]
  },
  {
   "cell_type": "code",
   "execution_count": 1,
   "metadata": {},
   "outputs": [],
   "source": [
    "prototyping_datafolder=r\"C:\\Users\\drago\\Box\\p_MIS-MISalign\\data_AlignCV\""
   ]
  },
  {
   "cell_type": "code",
   "execution_count": 2,
   "metadata": {},
   "outputs": [],
   "source": [
    "from os import listdir,path\n",
    "import pandas as pd"
   ]
  },
  {
   "cell_type": "code",
   "execution_count": null,
   "metadata": {},
   "outputs": [],
   "source": [
    "data_set=dict()\n",
    "for datafolder in listdir(prototyping_datafolder):\n",
    "    for sample in listdir(path.join(prototyping_datafolder,datafolder)):\n",
    "        entry=dict()\n",
    "        entry[\"dataset\"]=datafolder\n",
    "        entry[\"path\"]=path.join(prototyping_datafolder,datafolder,sample)\n",
    "        data_set[sample]=entry\n",
    "df=pd.DataFrame(data_set).T\n",
    "df"
   ]
  },
  {
   "cell_type": "code",
   "execution_count": null,
   "metadata": {},
   "outputs": [],
   "source": [
    "print(df.iloc[0].path)\n",
    "display(df[df.dataset==\"data_nov\"])"
   ]
  },
  {
   "cell_type": "markdown",
   "metadata": {},
   "source": [
    "# Image opening"
   ]
  },
  {
   "cell_type": "code",
   "execution_count": 46,
   "metadata": {},
   "outputs": [],
   "source": [
    "from PIL import Image as PILImage"
   ]
  },
  {
   "cell_type": "code",
   "execution_count": 6,
   "metadata": {},
   "outputs": [],
   "source": [
    "PILImage.open(df.iloc[0].path).show()"
   ]
  },
  {
   "cell_type": "markdown",
   "metadata": {},
   "source": [
    "# Package Setups"
   ]
  },
  {
   "cell_type": "markdown",
   "metadata": {},
   "source": [
    "## OpenCV"
   ]
  },
  {
   "cell_type": "code",
   "execution_count": 7,
   "metadata": {},
   "outputs": [],
   "source": [
    "# https://docs.opencv.org/4.x/d5/de5/tutorial_py_setup_in_windows.html\n",
    "# https://pypi.org/project/opencv-python/#manual-builds\n",
    "# %pip install opencv-python\n",
    "import cv2 as cv"
   ]
  },
  {
   "cell_type": "code",
   "execution_count": null,
   "metadata": {},
   "outputs": [],
   "source": [
    "# https://docs.opencv.org/4.x/d6/d00/tutorial_py_root.html\n",
    "# https://docs.opencv.org/4.x/db/d27/tutorial_py_table_of_contents_feature2d.html"
   ]
  },
  {
   "cell_type": "markdown",
   "metadata": {},
   "source": [
    "### SIFT"
   ]
  },
  {
   "cell_type": "code",
   "execution_count": null,
   "metadata": {},
   "outputs": [],
   "source": [
    "# SIFT https://docs.opencv.org/4.x/da/df5/tutorial_py_sift_intro.html\n",
    "import numpy as np\n",
    "import cv2 as cv\n",
    " \n",
    "img = cv.imread(df.iloc[0].path)\n",
    "gray= cv.cvtColor(img,cv.COLOR_BGR2GRAY)\n",
    " \n",
    "sift = cv.SIFT_create()\n",
    "kp = sift.detect(gray,None)\n",
    " \n",
    "# img=cv.drawKeypoints(gray,kp,img)\n",
    "img=cv.drawKeypoints(gray,kp,img,flags=cv.DRAW_MATCHES_FLAGS_DRAW_RICH_KEYPOINTS)\n",
    " \n",
    "# cv.imshow('sift_keypoints',img)\n",
    "PILImage.fromarray(img).show()\n",
    "# display(PILImage.fromarray(img))"
   ]
  },
  {
   "cell_type": "code",
   "execution_count": null,
   "metadata": {},
   "outputs": [],
   "source": [
    "kp,des = sift.compute(gray,kp)\n",
    "display(des.shape)"
   ]
  },
  {
   "cell_type": "markdown",
   "metadata": {},
   "source": [
    "### ORB"
   ]
  },
  {
   "cell_type": "code",
   "execution_count": null,
   "metadata": {},
   "outputs": [],
   "source": [
    "# https://docs.opencv.org/4.x/d1/d89/tutorial_py_orb.html\n",
    "img = cv.imread(df.iloc[-2].path)\n",
    "gray= cv.cvtColor(img,cv.COLOR_BGR2GRAY)\n",
    "\n",
    "# Initiate ORB detector\n",
    "orb = cv.ORB_create(nfeatures=500,edgeThreshold=5)\n",
    " \n",
    "# find the keypoints with ORB\n",
    "kp = orb.detect(gray,None)\n",
    " \n",
    "# compute the descriptors with ORB\n",
    "kp, des = orb.compute(gray, kp)\n",
    " \n",
    "# draw only keypoints location,not size and orientation\n",
    "# img2 = cv.drawKeypoints(gray, kp, None, color=(0,255,0), flags=0)\n",
    "img2=cv.drawKeypoints(gray,kp,img,flags=cv.DRAW_MATCHES_FLAGS_DRAW_RICH_KEYPOINTS)\n",
    "PILImage.fromarray(img2).show()\n",
    "# PILImage.fromarray(img2).save(\"241210_ORB_sem3_nf500_et5.png\")"
   ]
  },
  {
   "cell_type": "code",
   "execution_count": null,
   "metadata": {},
   "outputs": [],
   "source": [
    "display(des.shape)"
   ]
  },
  {
   "cell_type": "markdown",
   "metadata": {},
   "source": [
    "### Matcher"
   ]
  },
  {
   "cell_type": "code",
   "execution_count": null,
   "metadata": {},
   "outputs": [],
   "source": [
    "# https://docs.opencv.org/4.x/dc/dc3/tutorial_py_matcher.html"
   ]
  },
  {
   "cell_type": "markdown",
   "metadata": {},
   "source": [
    "#### Brute-Force Matching w/ ORB"
   ]
  },
  {
   "cell_type": "code",
   "execution_count": 11,
   "metadata": {},
   "outputs": [],
   "source": [
    "import numpy as np\n",
    "import cv2 as cv\n",
    "import matplotlib.pyplot as plt\n",
    " \n",
    "img1 = cv.imread(df.iloc[0].path,cv.IMREAD_GRAYSCALE)          # queryImage\n",
    "img2 = cv.imread(df.iloc[1].path,cv.IMREAD_GRAYSCALE) # trainImage\n",
    " \n",
    "# Initiate ORB detector\n",
    "orb = cv.ORB_create()\n",
    " \n",
    "# find the keypoints and descriptors with ORB\n",
    "kp1, des1 = orb.detectAndCompute(img1,None)\n",
    "kp2, des2 = orb.detectAndCompute(img2,None)"
   ]
  },
  {
   "cell_type": "code",
   "execution_count": null,
   "metadata": {},
   "outputs": [],
   "source": [
    "# create BFMatcher object\n",
    "bf = cv.BFMatcher(cv.NORM_HAMMING, crossCheck=True)\n",
    " \n",
    "# Match descriptors.\n",
    "matches = bf.match(des1,des2)\n",
    " \n",
    "# Sort them in the order of their distance.\n",
    "matches = sorted(matches, key = lambda x:x.distance)\n",
    " \n",
    "# Draw first 10 matches.\n",
    "img3 = cv.drawMatches(img1,kp1,img2,kp2,matches[:10],None,flags=cv.DrawMatchesFlags_NOT_DRAW_SINGLE_POINTS)\n",
    " \n",
    "plt.imshow(img3)\n",
    "plt.show()"
   ]
  },
  {
   "cell_type": "code",
   "execution_count": null,
   "metadata": {},
   "outputs": [],
   "source": [
    "kp2[matches[0].trainIdx].pt\n",
    "kp1[matches[0].queryIdx].pt"
   ]
  },
  {
   "cell_type": "code",
   "execution_count": null,
   "metadata": {},
   "outputs": [],
   "source": [
    "for i,match in enumerate(matches[:]):\n",
    "    train_pt=kp2[match.trainIdx].pt\n",
    "    query_pt=kp1[match.queryIdx].pt\n",
    "    x_offset=train_pt[0]-query_pt[0]\n",
    "    y_offset=train_pt[1]-query_pt[1]\n",
    "    # print([x_offset],[y_offset])\n",
    "    # plt.plot([0,x_offset],[0,y_offset],alpha=0.1)\n",
    "    plt.plot([x_offset],[y_offset],\"o\",alpha=0.05,markersize=20)\n",
    "    if i<50:\n",
    "        plt.plot([0,x_offset],[0,y_offset],alpha=0.05)\n",
    "plt.xlim([-1200,1200])\n",
    "plt.ylim([-800,800])\n",
    "plt.title(\"Matches Visualized - all matches dots - top 50 matches lines - 0.05 alpha\")\n",
    "plt.show()"
   ]
  },
  {
   "cell_type": "markdown",
   "metadata": {},
   "source": [
    "## SimpleCV"
   ]
  },
  {
   "cell_type": "code",
   "execution_count": null,
   "metadata": {},
   "outputs": [],
   "source": [
    "# Paused to focus on moving forward with OpenCV"
   ]
  },
  {
   "cell_type": "markdown",
   "metadata": {},
   "source": [
    "## Scikit-Image"
   ]
  },
  {
   "cell_type": "code",
   "execution_count": null,
   "metadata": {},
   "outputs": [],
   "source": [
    "# Paused to focus on moving forward with OpenCV"
   ]
  },
  {
   "cell_type": "markdown",
   "metadata": {},
   "source": [
    "# Set Processing"
   ]
  },
  {
   "cell_type": "code",
   "execution_count": null,
   "metadata": {},
   "outputs": [],
   "source": [
    "# set_df=df[df.dataset==\"data_hdf\"].copy() # 2x2 high distinct feature set\n",
    "set_df=df[df.dataset==\"data_sem\"].copy() # 4x1 low overlap set\n",
    "set_df"
   ]
  },
  {
   "cell_type": "code",
   "execution_count": null,
   "metadata": {},
   "outputs": [],
   "source": [
    "orb_data=dict()\n",
    "for name,sample in set_df.iterrows():\n",
    "    # print(sample)\n",
    "    img = cv.imread(sample.path, cv.IMREAD_GRAYSCALE)\n",
    "    orb = cv.ORB_create(edgeThreshold=5)\n",
    "    kp, des = orb.detectAndCompute(img,None)\n",
    "    orb_data[name]={\"img\":img,\"kp\":kp,\"des\":des}\n",
    "orb_df=pd.DataFrame(orb_data).T\n",
    "orb_df"
   ]
  },
  {
   "cell_type": "code",
   "execution_count": 18,
   "metadata": {},
   "outputs": [],
   "source": [
    "from itertools import combinations"
   ]
  },
  {
   "cell_type": "code",
   "execution_count": null,
   "metadata": {},
   "outputs": [],
   "source": [
    "img_width=2560\n",
    "img_height=1672\n",
    "match_combs=combinations(set_df.index.to_list(),2)\n",
    "# print(list(match_combs))\n",
    "match_data=dict()\n",
    "for m1,m2 in match_combs:\n",
    "    print(m1,m2)\n",
    "    bf = cv.BFMatcher(cv.NORM_HAMMING, crossCheck=True)\n",
    "    matches = bf.match(orb_df[\"des\"][m1],orb_df[\"des\"][m2])\n",
    "    matches = sorted(matches, key = lambda x:x.distance)\n",
    "    img3 = cv.drawMatches(orb_df[\"img\"][m1],orb_df[\"kp\"][m1],orb_df[\"img\"][m2],orb_df[\"kp\"][m2],matches[:10],None,flags=cv.DrawMatchesFlags_NOT_DRAW_SINGLE_POINTS)\n",
    "    plt.imshow(img3)\n",
    "    plt.savefig(f\"241211_OCV_MOSet_{m1[7:11]}-{m2[10:11]}-matches.png\",bbox_inches=\"tight\",dpi=300)\n",
    "    plt.show()\n",
    "    for i,match in enumerate(matches[:]):\n",
    "        train_pt=orb_df[\"kp\"][m2][match.trainIdx].pt\n",
    "        query_pt=orb_df[\"kp\"][m1][match.queryIdx].pt\n",
    "        x_offset=train_pt[0]-query_pt[0]\n",
    "        y_offset=train_pt[1]-query_pt[1]\n",
    "        plt.plot([x_offset],[y_offset],\"o\",alpha=0.05,markersize=20)\n",
    "        if i<50:\n",
    "            plt.plot([0,x_offset],[0,y_offset],alpha=0.05)\n",
    "    plt.xlim([-img_width,img_width])\n",
    "    plt.ylim([-img_height,img_height])\n",
    "    plt.savefig(f\"241211_OCV_MOSet_{m1[7:11]}-{m2[10:11]}-offsets.png\",bbox_inches=\"tight\")\n",
    "    plt.show()"
   ]
  },
  {
   "cell_type": "markdown",
   "metadata": {},
   "source": [
    "# Offset Determination"
   ]
  },
  {
   "cell_type": "markdown",
   "metadata": {},
   "source": [
    "## Prototyping\n",
    "- lro2-3 for clean-defined\n",
    "- lro0-2 for fuzzy rotated\n",
    "- lro1-2 for similar feature but no match\n",
    "- hdf0-2 for corner barely match\n",
    "- hdf0-1 for clean-defined\n",
    "- hdf1-3 for clean-defined\n",
    "- lov2-3 for fuzzy match\n",
    "- lov1-2 for fuzzy match\n",
    "- ldf0-3 for clean match w/ noise\n",
    "- ldf2-3 for clean match w/ noise\n"
   ]
  },
  {
   "cell_type": "code",
   "execution_count": null,
   "metadata": {},
   "outputs": [],
   "source": [
    "samples_short=[\"sem0\",\"sem1\",\"sem2\",\"sem3\",\"sem4\",\"sem5\"]#[\"lro0\",\"lro1\",\"lro2\",\"lro3\",\"hdf0\",\"hdf1\",\"hdf2\",\"hdf3\",\"lov1\",\"lov2\",\"lov3\",\"ldf0\",\"ldf2\",\"ldf3\"]\n",
    "samples=pd.DataFrame([df[df.index.str.contains(x)].iloc[0] for x in samples_short])\n",
    "samples"
   ]
  },
  {
   "cell_type": "code",
   "execution_count": null,
   "metadata": {},
   "outputs": [],
   "source": [
    "orb_data=dict()\n",
    "for name,sample in samples.iterrows():\n",
    "    # print(sample)\n",
    "    img = cv.imread(sample.path, cv.IMREAD_GRAYSCALE)\n",
    "    orb = cv.ORB_create(nfeatures=500,edgeThreshold=5)\n",
    "    kp, des = orb.detectAndCompute(img,None)\n",
    "    orb_data[name]={\"img\":img,\"kp\":kp,\"des\":des}\n",
    "orb_df=pd.DataFrame(orb_data).T\n",
    "orb_df"
   ]
  },
  {
   "cell_type": "code",
   "execution_count": 24,
   "metadata": {},
   "outputs": [],
   "source": [
    "from scipy import ndimage"
   ]
  },
  {
   "cell_type": "code",
   "execution_count": null,
   "metadata": {},
   "outputs": [],
   "source": [
    "# match_combs=combinations(orb_df.index.to_list(),2)\n",
    "# match_combs=((\"lro2\",\"lro3\"),(\"lro0\",\"lro2\"),(\"lro1\",\"lro2\"),(\"hdf0\",\"hdf2\"),(\"hdf0\",\"hdf1\"),(\"hdf1\",\"hdf3\"),(\"lov2\",\"lov3\"),(\"lov1\",\"lov2\"),(\"ldf0\",\"ldf3\"),(\"ldf2\",\"ldf3\"))\n",
    "# match_combs=((\"sem0\",\"sem1\"),(\"sem2\",\"sem3\"),(\"sem3\",\"sem4\"),(\"sem4\",\"sem5\"),(\"sem3\",\"sem5\"))\n",
    "match_combs=((\"sem0\",\"sem1\"),(\"sem2\",\"sem3\"),(\"sem3\",\"sem4\"),(\"sem4\",\"sem5\"),(\"sem3\",\"sem5\"))\n",
    "match_combs=[(df.index[df.index.str.contains(x[0])][0],df.index[df.index.str.contains(x[1])][0]) for x in match_combs]\n",
    "\n",
    "match_combs"
   ]
  },
  {
   "cell_type": "code",
   "execution_count": null,
   "metadata": {},
   "outputs": [],
   "source": [
    "img_width=2560\n",
    "img_height=1672\n",
    "for m1,m2 in match_combs:\n",
    "    bf = cv.BFMatcher(cv.NORM_HAMMING, crossCheck=True)\n",
    "    matches = bf.match(orb_df[\"des\"][m1],orb_df[\"des\"][m2])\n",
    "    matches = sorted(matches, key = lambda x:x.distance)\n",
    "    print([m.distance for m in matches])\n",
    "    offset_grid=np.zeros((2*img_width,2*img_height),dtype=float) # change this to match 2x image distance.(3200,2400)\n",
    "    for i,match in enumerate(matches[:]):\n",
    "        train_pt=orb_df[\"kp\"][m2][match.trainIdx].pt\n",
    "        query_pt=orb_df[\"kp\"][m1][match.queryIdx].pt\n",
    "        x_offset_adj=int(train_pt[0]-query_pt[0]+img_width) #1600/1200 centers in numpy array/image.\n",
    "        y_offset_adj=int(train_pt[1]-query_pt[1]+img_height)\n",
    "        offset_grid[x_offset_adj,y_offset_adj]+=1000/(match.distance**2)\n",
    "    offset_grid=ndimage.gaussian_filter(offset_grid,10)\n",
    "    print(m1,m2,\"Offset:\",np.array(np.unravel_index(np.argmax(offset_grid),offset_grid.shape))-np.array([img_width,img_height]))\n",
    "    plt.title(\" \".join([m1,m2,str(tuple(np.array(np.unravel_index(np.argmax(offset_grid),offset_grid.shape))-np.array([img_width,img_height]))),f\"{offset_grid.max():.5f}\"]))\n",
    "    plt.imshow(offset_grid.T)\n",
    "    plt.colorbar()\n",
    "    plt.savefig(f\"241210_OffsetMap_{m1[7:11]}-{m2[10:11]}-offmap-1000imds-g10_nf500_et5.png\",bbox_inches=\"tight\",dpi=300)\n",
    "    plt.show()\n",
    "    # img3 = cv.drawMatches(orb_df[\"img\"][m1],orb_df[\"kp\"][m1],orb_df[\"img\"][m2],orb_df[\"kp\"][m2],matches[:10],None,flags=cv.DrawMatchesFlags_NOT_DRAW_SINGLE_POINTS)\n",
    "    # plt.imshow(img3)\n",
    "    # plt.savefig(f\"240815_OCV_MOSet_{m1[7:11]}-{m2[10:11]}-matches.png\",bbox_inches=\"tight\",dpi=300)\n",
    "    # plt.show()\n",
    "    # for i,match in enumerate(matches[:]):\n",
    "    #     train_pt=orb_df[\"kp\"][m2][match.trainIdx].pt\n",
    "    #     query_pt=orb_df[\"kp\"][m1][match.queryIdx].pt\n",
    "    #     x_offset=train_pt[0]-query_pt[0]\n",
    "    #     y_offset=train_pt[1]-query_pt[1]\n",
    "    #     plt.plot([x_offset],[y_offset],\"o\",alpha=0.05,markersize=20)\n",
    "    #     if i<50:\n",
    "    #         plt.plot([0,x_offset],[0,y_offset],alpha=0.05)\n",
    "    # plt.xlim([-1600,1600])\n",
    "    # plt.ylim([-1200,1200])\n",
    "    # plt.savefig(f\"240815_OCV_MOSet_{m1[7:11]}-{m2[10:11]}-offsets.png\",bbox_inches=\"tight\")\n",
    "    # plt.show()"
   ]
  },
  {
   "cell_type": "code",
   "execution_count": null,
   "metadata": {},
   "outputs": [],
   "source": [
    "# testing way to get/compare local maxima. Code from `https://stackoverflow.com/questions/9111711/get-coordinates-of-local-maxima-in-2d-array-above-certain-value`\n",
    "import numpy as np\n",
    "import scipy.ndimage as ndimage\n",
    "import matplotlib.pyplot as plt\n",
    "\n",
    "\n",
    "neighborhood_size = 50\n",
    "threshold = 0.0005\n",
    "\n",
    "data = offset_grid.T\n",
    "\n",
    "data_max = ndimage.maximum_filter(data, neighborhood_size)\n",
    "maxima = (data == data_max)\n",
    "data_min = ndimage.minimum_filter(data, neighborhood_size)\n",
    "diff = ((data_max - data_min) > threshold)\n",
    "maxima[diff == 0] = 0\n",
    "\n",
    "labeled, num_objects = ndimage.label(maxima)\n",
    "xy = np.array(ndimage.center_of_mass(data, labeled, range(1, num_objects+1)))\n",
    "\n",
    "plt.imshow(data)\n",
    "\n",
    "plt.autoscale(False)\n",
    "plt.plot(xy[:, 1], xy[:, 0], 'rx')\n"
   ]
  },
  {
   "cell_type": "markdown",
   "metadata": {},
   "source": [
    "# Non-array/blended match>offset"
   ]
  },
  {
   "cell_type": "code",
   "execution_count": null,
   "metadata": {},
   "outputs": [],
   "source": [
    "len(matches)"
   ]
  },
  {
   "cell_type": "code",
   "execution_count": 119,
   "metadata": {},
   "outputs": [],
   "source": [
    "# image_from=\"sample_sem0.tif\"\n",
    "# image_to=\"sample_sem1.tif\"\n",
    "# sem 0 to sem 1: [48 1101] from offset map\n",
    "# image_from=\"sample_sem3.tif\"\n",
    "# image_to=\"sample_sem5.tif\"\n",
    "# sem 3 to sem 5: No real relation\n",
    "image_from=\"sample_sem3.tif\"\n",
    "image_to=\"sample_sem4.tif\"\n",
    "# 3>4 has distinct relation in offset map\n",
    "\n",
    "matches = bf.match(orb_df[\"des\"][image_from],orb_df[\"des\"][image_to])\n",
    "matches = sorted(matches, key = lambda x:x.distance)\n",
    "\n",
    "pts_from=np.array([orb_df[\"kp\"][image_from][match.queryIdx].pt for match in matches])\n",
    "pts_to=np.array([orb_df[\"kp\"][image_to][match.trainIdx].pt for match in matches])"
   ]
  },
  {
   "cell_type": "code",
   "execution_count": 120,
   "metadata": {},
   "outputs": [],
   "source": [
    "eAP2D=cv.estimateAffinePartial2D(pts_from,pts_to)\n"
   ]
  },
  {
   "cell_type": "code",
   "execution_count": null,
   "metadata": {},
   "outputs": [],
   "source": [
    "print(\"X,Y:\",eAP2D[0][:,2])\n",
    "#cos^2 + sin^2 = 1 >> rotation/scale component of matrix =s^2\n",
    "print(\"Rotation & Scale Matrix:\",eAP2D[0][:,:2])\n",
    "eAP2D_scalex=(eAP2D[0][0,0]**2+eAP2D[0][0,1]**2)**0.5\n",
    "eAP2D_scaley=(eAP2D[0][1,1]**2+eAP2D[0][1,0]**2)**0.5\n",
    "print(\"Scale X,Y:\",[eAP2D_scalex,eAP2D_scaley])\n",
    "eAP2D_rotation=np.arctan(eAP2D[0][0,1]/eAP2D[0][1,1])\n",
    "print(\"Rotation(Rad/Deg):\",eAP2D_rotation,\"/\",eAP2D_rotation*180/np.pi)\n"
   ]
  },
  {
   "cell_type": "code",
   "execution_count": null,
   "metadata": {},
   "outputs": [],
   "source": [
    "print(\"Inliers:\",np.sum(eAP2D[1]))\n",
    "for pt_from,pt_to,in_out in zip(pts_from,pts_to,eAP2D[1]):\n",
    "    if in_out:\n",
    "        print(\"X,Y:\",pt_to[0]-pt_from[0],pt_to[1]-pt_from[1])"
   ]
  },
  {
   "cell_type": "markdown",
   "metadata": {},
   "source": [
    "# Set implementation\n",
    "Also grabbing all need coded/imports/etc."
   ]
  },
  {
   "cell_type": "code",
   "execution_count": 38,
   "metadata": {},
   "outputs": [],
   "source": [
    "import pandas as pd\n",
    "import cv2 as cv\n",
    "from math import dist\n",
    "import numpy as np\n",
    "from matplotlib import pyplot as plt"
   ]
  },
  {
   "cell_type": "markdown",
   "metadata": {},
   "source": [
    "Run data import from first section to setup `df`"
   ]
  },
  {
   "cell_type": "code",
   "execution_count": null,
   "metadata": {},
   "outputs": [],
   "source": [
    "samples_short=[\"sem0\",\"sem1\",\"sem2\",\"sem3\",\"sem4\",\"sem5\"]#\n",
    "# samples_short=[\"lro0\",\"lro1\",\"lro2\",\"lro3\",\"hdf0\",\"hdf1\",\"hdf2\",\"hdf3\",\"lov1\",\"lov2\",\"lov3\",\"ldf0\",\"ldf2\",\"ldf3\"]\n",
    "samples=pd.DataFrame([df[df.index.str.contains(x)].iloc[0] for x in samples_short])\n",
    "samples"
   ]
  },
  {
   "cell_type": "code",
   "execution_count": 40,
   "metadata": {},
   "outputs": [],
   "source": [
    "# match_combs=combinations(orb_df.index.to_list(),2)\n",
    "match_combs=((\"sem0\",\"sem1\"),(\"sem2\",\"sem3\"),(\"sem3\",\"sem4\"),(\"sem4\",\"sem5\"),(\"sem3\",\"sem5\"))\n",
    "# match_combs=((\"lro2\",\"lro3\"),(\"lro0\",\"lro2\"),(\"lro1\",\"lro2\"),(\"hdf0\",\"hdf2\"),(\"hdf0\",\"hdf1\"),(\"hdf1\",\"hdf3\"),(\"lov2\",\"lov3\"),(\"lov1\",\"lov2\"),(\"ldf0\",\"ldf3\"),(\"ldf2\",\"ldf3\"))\n",
    "# match_combs=((\"lov2\",\"lov3\"),(\"lov1\",\"lov2\"),(\"ldf0\",\"ldf3\"))\n",
    "match_combs=[(df.index[df.index.str.contains(x[0])][0],df.index[df.index.str.contains(x[1])][0]) for x in match_combs]\n"
   ]
  },
  {
   "cell_type": "code",
   "execution_count": null,
   "metadata": {},
   "outputs": [],
   "source": [
    "orb_data=dict()\n",
    "for name,sample in samples.iterrows():\n",
    "    # print(sample)\n",
    "    img = cv.imread(sample.path, cv.IMREAD_GRAYSCALE)\n",
    "    orb = cv.ORB_create(nfeatures=4000,edgeThreshold=5)\n",
    "    kp, des = orb.detectAndCompute(img,None)\n",
    "    orb_data[name]={\"img\":img,\"kp\":kp,\"des\":des}\n",
    "orb_df=pd.DataFrame(orb_data).T\n",
    "orb_df"
   ]
  },
  {
   "cell_type": "code",
   "execution_count": 42,
   "metadata": {},
   "outputs": [],
   "source": [
    "match_refs={#values for offset from offsetmap\n",
    "    (\"sem0\",\"sem1\"):[48, 1101],\n",
    "    (\"sem2\",\"sem3\"):[84, 1192],\n",
    "    (\"sem3\",\"sem4\"):[14, 682],\n",
    "    (\"sem4\",\"sem5\"):[1,1558],\n",
    "    (\"sem3\",\"sem5\"):[673,-538]\n",
    "}"
   ]
  },
  {
   "cell_type": "code",
   "execution_count": 43,
   "metadata": {},
   "outputs": [],
   "source": [
    "from scipy import ndimage"
   ]
  },
  {
   "cell_type": "code",
   "execution_count": null,
   "metadata": {},
   "outputs": [],
   "source": []
  },
  {
   "cell_type": "code",
   "execution_count": null,
   "metadata": {},
   "outputs": [],
   "source": [
    "for m1,m2 in match_combs:\n",
    "    print(m1,m2)\n",
    "    bf = cv.BFMatcher(cv.NORM_HAMMING, crossCheck=True)\n",
    "    \n",
    "    matches = bf.match(orb_df[\"des\"][m1],orb_df[\"des\"][m2])\n",
    "    matches = sorted(matches, key = lambda x:x.distance)\n",
    "    matches = matches[:int(len(matches)*(1/8))]\n",
    "    # matches = matches[:10]\n",
    "\n",
    "    pts_from=np.array([orb_df[\"kp\"][m1][match.queryIdx].pt for match in matches])\n",
    "    pts_to=np.array([orb_df[\"kp\"][m2][match.trainIdx].pt for match in matches])\n",
    "\n",
    "    eAP2D=cv.estimateAffinePartial2D(pts_from,pts_to)\n",
    "\n",
    "    eAP2D_translationx=eAP2D[0][0,2]\n",
    "    eAP2D_translationy=eAP2D[0][1,2]\n",
    "    print(f\"X,Y:{eAP2D_translationx:0.1f}, {eAP2D_translationy:0.1f}\")\n",
    "    print(\"Rotation & Scale Matrix: \\n\",eAP2D[0][:,:2])\n",
    "    eAP2D_scalex=(eAP2D[0][0,0]**2+eAP2D[0][0,1]**2)**0.5\n",
    "    eAP2D_scaley=(eAP2D[0][1,1]**2+eAP2D[0][1,0]**2)**0.5\n",
    "    print(f\"Scale X,Y: {eAP2D_scalex:0.3f}, {eAP2D_scaley:0.3f}\")\n",
    "    eAP2D_rotation=np.arctan(eAP2D[0][0,1]/eAP2D[0][1,1])\n",
    "    print(f\"Rotation(Rad/Deg): {eAP2D_rotation:0.3f} /{eAP2D_rotation*180/np.pi:0.1f}\")\n",
    "    print(\"Inliers:\",np.sum(eAP2D[1]))\n",
    "    for pt_from,pt_to,in_out in zip(pts_from,pts_to,eAP2D[1]):\n",
    "        if in_out:\n",
    "            print(f\"X,Y:{pt_from[0]-pt_to[0]:0.1f}, {pt_from[1]-pt_to[1]:0.1f}\")\n",
    "    \n",
    "    distances_inlier=np.array([(i,match.distance) for i,(match,in_out) in enumerate(zip(matches,eAP2D[1])) if in_out])\n",
    "    distances_outlier=np.array([(i,match.distance) for i,(match,in_out) in enumerate(zip(matches,eAP2D[1])) if not in_out])\n",
    "    plt.figure()\n",
    "    plt.plot(distances_inlier[:,0],distances_inlier[:,1],\"gx\")\n",
    "    try:\n",
    "        plt.plot(distances_outlier[:,0],distances_outlier[:,1],\"r.\")\n",
    "    except IndexError:\n",
    "        print(\"No Outliers\")\n",
    "    plt.xlabel(\"match index\")\n",
    "    plt.ylabel(\"match distance\")\n",
    "    plt.title(f\"{m1}-{m2} in/out distances\")\n",
    "    plt.show()\n",
    "\n",
    "    # ### Sanity check with offset map\n",
    "    # img_width=1600#2560\n",
    "    # img_height=1200#1672\n",
    "    # offset_grid=np.zeros((2*img_width,2*img_height),dtype=float) # change this to match 2x image distance.(3200,2400)\n",
    "    # for i,match in enumerate(matches[:]):\n",
    "    #     train_pt=orb_df[\"kp\"][m2][match.trainIdx].pt\n",
    "    #     query_pt=orb_df[\"kp\"][m1][match.queryIdx].pt\n",
    "    #     x_offset_adj=int(train_pt[0]-query_pt[0]+img_width) #1600/1200 centers in numpy array/image.\n",
    "    #     y_offset_adj=int(train_pt[1]-query_pt[1]+img_height)\n",
    "    #     offset_grid[x_offset_adj,y_offset_adj]+=1000/(match.distance**2)\n",
    "    # offset_grid=ndimage.gaussian_filter(offset_grid,10)\n",
    "    # print(m1,m2,\"Offset:\",np.array(np.unravel_index(np.argmax(offset_grid),offset_grid.shape))-np.array([img_width,img_height]))\n",
    "    # plt.title(\" \".join([m1,m2,str(tuple(np.array(np.unravel_index(np.argmax(offset_grid),offset_grid.shape))-np.array([img_width,img_height]))),f\"{offset_grid.max():.5f}\"]))\n",
    "    # plt.imshow(offset_grid.T)\n",
    "    # plt.colorbar()\n",
    "    # # plt.savefig(f\"241210_OffsetMap_{m1[7:11]}-{m2[10:11]}-offmap-1000imds-g10_nf500_et5.png\",bbox_inches=\"tight\",dpi=300)\n",
    "    # plt.show()\n",
    "    # match_refs[(m1[7:11],m2[7:11])]=list(np.array(np.unravel_index(np.argmax(offset_grid),offset_grid.shape))-np.array([img_width,img_height]))\n",
    "    # ###\n",
    "\n",
    "    top10_offsets=np.array([(pt_to[0]-pt_from[0],pt_to[1]-pt_from[1]) for pt_from,pt_to in zip(pts_from[:int(len(matches)*(1/10))],pts_to[:int(len(matches)*(1/10))])])\n",
    "    top50_offsets=np.array([(pt_to[0]-pt_from[0],pt_to[1]-pt_from[1]) for pt_from,pt_to in zip(pts_from[int(len(matches)*(1/10)):int(len(matches)*(1/2))],pts_to[int(len(matches)*(1/10)):int(len(matches)*(1/2))])])\n",
    "    remaining_offsets=np.array([(pt_to[0]-pt_from[0],pt_to[1]-pt_from[1]) for pt_from,pt_to in zip(pts_from[int(len(matches)*(1/2)):],pts_to[int(len(matches)*(1/2)):])])\n",
    "    plt.figure()\n",
    "    plt.plot(top10_offsets[:,0],top10_offsets[:,1],\"gx\",alpha=0.1)\n",
    "    plt.plot(top50_offsets[:,0],top50_offsets[:,1],\"yx\",alpha=0.1)\n",
    "    plt.plot(remaining_offsets[:,0],remaining_offsets[:,1],\"rx\",alpha=0.1)\n",
    "    plt.xlabel(\"x offset\")\n",
    "    plt.ylabel(\"y offset\")\n",
    "    plt.title(f\"{m1}-{m2} match offsets top 10%/top 50%/remaining\")\n",
    "    plt.show()\n",
    "\n",
    "\n",
    "    distances_metric_ref=np.array([(dist((pt_to[0]-pt_from[0],pt_to[1]-pt_from[1]),match_refs[(m1[7:11],m2[7:11])]),match.distance) for match,pt_from,pt_to in zip(matches,pts_from,pts_to)])\n",
    "    plt.figure()\n",
    "    plt.plot(distances_metric_ref[:,0],distances_metric_ref[:,1],\"x\")\n",
    "    plt.xlabel(\"ref distance\")\n",
    "    plt.ylabel(\"match distance\")\n",
    "    plt.xscale(\"log\")\n",
    "    plt.title(f\"{m1}-{m2} ref/match distances\")\n",
    "    plt.show()\n",
    "\n",
    "\n",
    "\n",
    "    # plt.title(\" \".join([m1,m2,str(tuple(np.array(np.unravel_index(np.argmax(offset_grid),offset_grid.shape))-np.array([img_width,img_height]))),f\"{offset_grid.max():.5f}\"]))\n",
    "    # plt.imshow(offset_grid.T)\n",
    "    # plt.colorbar()\n",
    "    # plt.savefig(f\"241210_OffsetMap_{m1[7:11]}-{m2[10:11]}-offmap-1000imds-g10_nf500_et5.png\",bbox_inches=\"tight\",dpi=300)\n",
    "    # plt.show()"
   ]
  },
  {
   "cell_type": "markdown",
   "metadata": {},
   "source": [
    "# Functionalizing process"
   ]
  },
  {
   "cell_type": "code",
   "execution_count": 1,
   "metadata": {},
   "outputs": [],
   "source": [
    "import pandas as pd\n",
    "import cv2 as cv\n",
    "import numpy as np\n",
    "from matplotlib import pyplot as plt"
   ]
  },
  {
   "cell_type": "code",
   "execution_count": 15,
   "metadata": {},
   "outputs": [],
   "source": [
    "from os.path import abspath\n",
    "from sys import path\n",
    "path.insert(0, abspath(\"../..\"))  # Repository directory relative to this file.\n",
    "from MISalign.model.mis_file import MisFile,load_mis\n",
    "from MISalign.model.relation import Relation"
   ]
  },
  {
   "cell_type": "code",
   "execution_count": 3,
   "metadata": {},
   "outputs": [],
   "source": [
    "mis_filepath=r\"..\\\\..\\example\\data\\set_a\\mymis_calibrated.mis\"\n",
    "mis_project=load_mis(mis_filepath)"
   ]
  },
  {
   "cell_type": "code",
   "execution_count": null,
   "metadata": {},
   "outputs": [],
   "source": [
    "mis_project.get_image_paths()"
   ]
  },
  {
   "cell_type": "code",
   "execution_count": null,
   "metadata": {},
   "outputs": [],
   "source": [
    "list(mis_project.get_image_paths().keys())"
   ]
  },
  {
   "cell_type": "code",
   "execution_count": 43,
   "metadata": {},
   "outputs": [],
   "source": [
    "class ImageManager():\n",
    "    def __init__(self,image_names_paths:dict):\n",
    "        self.image_dict={name:{\"path\":filepath} for name,filepath in image_names_paths.items()}\n",
    "    \n",
    "    def get_names(self)->list[str]:\n",
    "        return list(self.image_dict.keys())\n",
    "    def get_path(self,name:str)->str:\n",
    "        return self.image_dict[name][\"path\"]\n",
    "    def lookup_name(self,short_name:str)->str:\n",
    "        name_matches=[name for name in self.image_dict.keys() if short_name in name]\n",
    "        if len(name_matches)==1:\n",
    "            return name_matches\n",
    "        elif len(name_matches)==0:\n",
    "            raise ValueError(f\"short_name '{short_name}' matched no image names.\")\n",
    "        elif len(name_matches)>1:\n",
    "            raise ValueError(f\"short_name '{short_name}' matched {len(name_matches)} image names: {name_matches}\")\n",
    "\n",
    "class ORBManager():\n",
    "    def __init__(self,\n",
    "            ImageM:ImageManager,\n",
    "            precompute_default=True,\n",
    "            store_compute=True,\n",
    "            default_ORB_parameters={\"nfeatures\":500,\"edgeThreshold\":5}):\n",
    "        self.ImageM=ImageM\n",
    "        self.default_ORB_parameters=default_ORB_parameters\n",
    "        self.store_compute=store_compute\n",
    "        if store_compute:\n",
    "            self.computed=dict()\n",
    "            if precompute_default:\n",
    "                for image_name in ImageM.get_names():\n",
    "                    self.computed[image_name]=dict()\n",
    "                    self.computed[image_name][self.get_parameter_hashable(default_ORB_parameters)]=self.compute_orb(image_name,default_ORB_parameters)\n",
    "\n",
    "    def compute_orb(self,image_name,ORB_parameters):\n",
    "        img = cv.imread(self.ImageM.get_path(image_name), cv.IMREAD_GRAYSCALE)\n",
    "        orb = cv.ORB_create(**ORB_parameters)\n",
    "        kp, des = orb.detectAndCompute(img,None)\n",
    "        return {\"kp\":kp,\"des\":des}\n",
    "    def get_parameter_hashable(self,ORB_parameters:dict)->tuple:\n",
    "        return tuple((k,ORB_parameters[k]) for k in sorted(ORB_parameters))\n",
    "    def get_orb(self,image_name,ORB_parameters=None):\n",
    "        if ORB_parameters is None:\n",
    "            ORB_parameters=self.default_ORB_parameters\n",
    "        ORB_parameter_hashable=self.get_parameter_hashable(ORB_parameters)\n",
    "        if self.store_compute:\n",
    "            if image_name in self.computed.keys():\n",
    "                if ORB_parameter_hashable in self.computed[image_name].keys():\n",
    "                    return self.computed[image_name][ORB_parameter_hashable]\n",
    "            else:\n",
    "                self.computed[image_name]=dict()\n",
    "        computed_orb=self.compute_orb(image_name,ORB_parameters)\n",
    "        if self.store_compute:\n",
    "            self.computed[image_name][ORB_parameter_hashable]=computed_orb\n",
    "        return computed_orb\n",
    "\n",
    "def generate_match_combinations(strategy,**kwargs)-> list[list]: \n",
    "    if strategy==\"order\":\n",
    "        return generate_match_combinations_in_order(kwargs[\"order\"])\n",
    "    elif strategy==\"short_pairs\":\n",
    "        return generate_match_combinations_from_short_pairs(kwargs[\"short_pairs\"],kwargs[\"short_lookup\"])\n",
    "    elif strategy==\"all\":\n",
    "        return generate_match_combinations_all_combinations(kwargs[\"all\"])\n",
    "    elif strategy==\"search\":\n",
    "        return generate_match_combinations_all_combinations(kwargs[\"search\"],kwargs[\"all\"])\n",
    "    else:\n",
    "        raise ValueError(f\"'{strategy}' is not a valid strategy.\")\n",
    "def generate_match_combinations_in_order(order:list):\n",
    "    return [[a,b] for a,b in zip(order[:-1],order[1:])]\n",
    "def generate_match_combinations_from_short_pairs(short_pairs:list[list],short_lookup:ImageManager.lookup_name):\n",
    "    pass #TODO\n",
    "def generate_match_combinations_all_combinations(items:list):\n",
    "    pass #TODO\n",
    "def generate_match_combinations_search(search:str,items:list):\n",
    "    pass #TODO\n",
    "\n",
    "def generate_match_bf(\n",
    "        image1:str,\n",
    "        image2:str,\n",
    "        match_reduction_ratio:float,\n",
    "        OrbM:ORBManager,\n",
    "        ORB_parameters:dict=None)->list[cv.DMatch]:\n",
    "    brute_force_matcher = cv.BFMatcher(cv.NORM_HAMMING, crossCheck=True)\n",
    "    orb1=OrbM.get_orb(image1,ORB_parameters)\n",
    "    orb2=OrbM.get_orb(image2,ORB_parameters)\n",
    "    matches = brute_force_matcher.match(orb1[\"des\"],orb2[\"des\"])\n",
    "    sorted_matches = sorted(matches, key = lambda x:x.distance)\n",
    "    reduced_matches = matches[:int(len(sorted_matches)*(match_reduction_ratio))]\n",
    "    return reduced_matches,orb1,orb2\n",
    "\n",
    "def estimate_translation(\n",
    "        matches,\n",
    "        orb1,\n",
    "        orb2,\n",
    "        limit_affine_rotation=0.01, #maximum affine rotation without correction i.e. -0.01rad to +0.01rad rotations are acceptable.\n",
    "        limit_affine_scale=0.01, #maximum affine scale without correction i.e. 0.99 scale to 1.01 scale are acceptable.\n",
    "        limit_minimum_points=5, #minimum number of matched points for succesful translation estimate.\n",
    "        limit_inlier_consistency=0.5 #minimum fraction of matched points that must be consistent\n",
    "    )->list[list,bool]:\n",
    "    \n",
    "    pts_1=np.array([orb1[\"kp\"][match.queryIdx].pt for match in matches])\n",
    "    pts_2=np.array([orb2[\"kp\"][match.trainIdx].pt for match in matches])\n",
    "    eAP2D_matrix,eAP2D_in_out=cv.estimateAffinePartial2D(pts_1,pts_2)\n",
    "\n",
    "    eAP2D_translationx=eAP2D_matrix[0,2]\n",
    "    eAP2D_translationy=eAP2D_matrix[1,2]\n",
    "    # print(f\"X,Y:{eAP2D_translationx:0.1f}, {eAP2D_translationy:0.1f}\")\n",
    "    # print(\"Rotation & Scale Matrix: \\n\",eAP2D_matrix[:,:2])\n",
    "    eAP2D_scalex=(eAP2D_matrix[0,0]**2+eAP2D_matrix[0,1]**2)**0.5\n",
    "    eAP2D_scaley=(eAP2D_matrix[1,1]**2+eAP2D_matrix[1,0]**2)**0.5\n",
    "    # print(f\"Scale X,Y: {eAP2D_scalex:0.3f}, {eAP2D_scaley:0.3f}\")\n",
    "    eAP2D_rotation=np.arctan(eAP2D_matrix[0,1]/eAP2D_matrix[1,1])\n",
    "    # print(f\"Rotation(Rad/Deg): {eAP2D_rotation:0.3f} /{eAP2D_rotation*180/np.pi:0.1f}\")\n",
    "    # print(\"Inliers:\",np.sum(eAP2D[1]))\n",
    "    eAP2D_inliers=[(tuple(pt1),tuple(pt2)) for pt1,pt2,in_out in zip(pts_1,pts_2,eAP2D_in_out) if in_out]\n",
    "    eAP2D_inliers_count=len(eAP2D_inliers)\n",
    "    # for pt_from,pt_to,in_out in zip(pts_from,pts_to,eAP2D[1]):\n",
    "    #     if in_out:\n",
    "    #         print(f\"X,Y:{pt_from[0]-pt_to[0]:0.1f}, {pt_from[1]-pt_to[1]:0.1f}\")\n",
    "    #TODO verify based on limits\n",
    "    valid={\"overall\":True,\"individual\":[True for match in eAP2D_inliers]}\n",
    "    return eAP2D_inliers, valid\n",
    "\n",
    "\n",
    "class AlignCVManager():\n",
    "    def __init__(self,ImageM:ImageManager,OrbM:ORBManager):\n",
    "        self.ImageM=ImageM\n",
    "        self.OrbM=OrbM\n",
    "        self.alignments=[]\n",
    "    def run_alignment(self,match_combinations,match_reduction_ratio=1/2,ORB_parameters=None):\n",
    "        alignment_data={\"alignment_parameters\":{\"match_combinations\":match_combinations,\"match_reduction_ratio\":match_reduction_ratio,\"ORB_parameters\":ORB_parameters},\"alignment_data\":dict()}\n",
    "        for image1,image2 in match_combinations:\n",
    "            image_set=(image1,image2)\n",
    "            matches,orb1,orb2=generate_match_bf(\n",
    "                image1=image1,\n",
    "                image2=image2,\n",
    "                match_reduction_ratio=match_reduction_ratio,\n",
    "                OrbM=self.OrbM,\n",
    "                ORB_parameters=ORB_parameters\n",
    "                )\n",
    "            estimated_translation_inliers, estimated_translation_validity = estimate_translation(matches,orb1,orb2)\n",
    "            alignment_data[\"alignment_data\"][image_set]={\n",
    "                \"matches\":matches,\n",
    "                \"estimated_translation_inliers\":estimated_translation_inliers,\n",
    "                \"estimated_translation_validity\":estimated_translation_validity\n",
    "                }\n",
    "        self.alignments.append(alignment_data)\n",
    "        return len(self.alignments)-1\n",
    "    def get_alignment(self,alignment_id):\n",
    "        return self.alignments[alignment_id]\n",
    "    #TODO valid results to mis\n",
    "    #TODO merging valid results\n",
    "    def update_mis(self,\n",
    "            mis_project:MisFile,\n",
    "            alignment_id,\n",
    "            valid_only=True)->MisFile:\n",
    "        alignment_results=self.alignments[alignment_id]\n",
    "        match_combinations=alignment_results[\"alignment_parameters\"][\"match_combinations\"]\n",
    "        for mc in match_combinations:\n",
    "            mc_alignment_result=alignment_results[\"alignment_data\"][tuple(mc)]\n",
    "            if valid_only and not mc_alignment_result[\"estimated_translation_validity\"][\"overall\"]:\n",
    "                print(f\"Warning: Match {mc} not valid. No relation saved.\")\n",
    "                continue\n",
    "            mis_project._relations.append(Relation(\n",
    "                mc[0],\n",
    "                mc[1],\n",
    "                'p',\n",
    "                [([int(x) for x in pt1],[int(x) for x in pt2]) for (pt1,pt2),individual_valid in zip(mc_alignment_result['estimated_translation_inliers'],mc_alignment_result[\"estimated_translation_validity\"][\"individual\"])] ))\n",
    "\n"
   ]
  },
  {
   "cell_type": "code",
   "execution_count": 44,
   "metadata": {},
   "outputs": [],
   "source": [
    "ImageM=ImageManager(mis_project.get_image_paths())\n",
    "\n",
    "OrbM=ORBManager(ImageM,default_ORB_parameters={\"nfeatures\": 2000,\"edgeThreshold\": 5 })\n",
    "\n",
    "AlignCVM=AlignCVManager(ImageM,OrbM)\n",
    "\n",
    "match_combinations=generate_match_combinations(strategy=\"order\",order=sorted(mis_project.get_image_names()))\n",
    "\n",
    "alignment_id=AlignCVM.run_alignment(match_combinations)\n",
    "alignment_result=AlignCVM.get_alignment(alignment_id)"
   ]
  },
  {
   "cell_type": "code",
   "execution_count": null,
   "metadata": {},
   "outputs": [],
   "source": [
    "# len(alignment_result[\"alignment_data\"][tuple(match_combinations[0])][\"estimated_translation_validity\"][\"individual\"])\n",
    "# len(alignment_result[\"alignment_data\"][tuple(match_combinations[0])]['estimated_translation_inliers'])"
   ]
  },
  {
   "cell_type": "code",
   "execution_count": null,
   "metadata": {},
   "outputs": [],
   "source": [
    "match_combinations"
   ]
  },
  {
   "cell_type": "code",
   "execution_count": null,
   "metadata": {},
   "outputs": [],
   "source": [
    "for mc in match_combinations:\n",
    "    print([(int(pt1[0]-pt2[0]),int(pt1[1]-pt2[1])) for pt1,pt2 in alignment_result[\"alignment_data\"][tuple(mc)]['estimated_translation_inliers']])\n",
    "for mc in match_combinations:\n",
    "    print([(list(pt1),list(pt2)) for pt1,pt2 in alignment_result[\"alignment_data\"][tuple(mc)]['estimated_translation_inliers']])"
   ]
  },
  {
   "cell_type": "code",
   "execution_count": null,
   "metadata": {},
   "outputs": [],
   "source": [
    "mis_project.get_rels(\"r\")"
   ]
  },
  {
   "cell_type": "code",
   "execution_count": null,
   "metadata": {},
   "outputs": [],
   "source": [
    "mis_project_copy=load_mis(mis_filepath)\n",
    "mis_project_copy._relations=[]\n",
    "# for mc in match_combinations:\n",
    "#     mis_project_copy._relations.append(Relation(\n",
    "#         mc[0],\n",
    "#         mc[1],\n",
    "#         'p',\n",
    "#         [([int(x) for x in pt1],[int(x) for x in pt2]) for pt1,pt2 in alignment_result[\"alignment_data\"][tuple(mc)]['estimated_translation_inliers']]))\n",
    "AlignCVM.update_mis(mis_project_copy,alignment_id)\n",
    "#TODO add an update relation option?\n",
    "mis_project_copy.get_rels(\"r\")"
   ]
  },
  {
   "cell_type": "markdown",
   "metadata": {},
   "source": [
    "# Module setup"
   ]
  },
  {
   "cell_type": "code",
   "execution_count": 1,
   "metadata": {},
   "outputs": [],
   "source": [
    "from os.path import abspath\n",
    "from sys import path\n",
    "path.insert(0, abspath(\"../..\"))  # Repository directory relative to this file.\n",
    "from MISalign.model.mis_file import load_mis,save_mis\n",
    "from MISalign.alignment.align_cv import ImageManager, ORBManager, AlignCVManager, generate_match_combinations"
   ]
  },
  {
   "cell_type": "code",
   "execution_count": 2,
   "metadata": {},
   "outputs": [],
   "source": [
    "mis_filepath=r\"..\\\\..\\example\\data\\set_a\\mymis_calibrated.mis\"\n",
    "mis_project=load_mis(mis_filepath)"
   ]
  },
  {
   "cell_type": "code",
   "execution_count": 3,
   "metadata": {},
   "outputs": [
    {
     "name": "stdout",
     "output_type": "stream",
     "text": [
      "{'alignment_parameters': {'match_combinations': [['a_myimages01.jpg', 'a_myimages02.jpg'], ['a_myimages02.jpg', 'a_myimages03.jpg'], ['a_myimages03.jpg', 'a_myimages04.jpg'], ['a_myimages04.jpg', 'a_myimages05.jpg'], ['a_myimages05.jpg', 'a_myimages06.jpg'], ['a_myimages06.jpg', 'a_myimages07.jpg'], ['a_myimages07.jpg', 'a_myimages08.jpg'], ['a_myimages08.jpg', 'a_myimages09.jpg'], ['a_myimages09.jpg', 'a_myimages10.jpg']], 'match_reduction_ratio': 0.5, 'ORB_parameters': None}, 'alignment_data': {('a_myimages01.jpg', 'a_myimages02.jpg'): {'matches': (< cv2.DMatch 000002010169B630>, < cv2.DMatch 0000020128DB9550>, < cv2.DMatch 0000020128DB93F0>, < cv2.DMatch 0000020128DB9770>, < cv2.DMatch 0000020128DB9CF0>, < cv2.DMatch 0000020128DB9410>, < cv2.DMatch 0000020128DB9A30>, < cv2.DMatch 0000020128DBAC90>, < cv2.DMatch 0000020128DBA4B0>, < cv2.DMatch 0000020128DBA210>, < cv2.DMatch 0000020128DB97B0>, < cv2.DMatch 0000020128DBAC70>, < cv2.DMatch 0000020128DB9CD0>, < cv2.DMatch 0000020128DBA490>, < cv2.DMatch 0000020128DBA750>, < cv2.DMatch 0000020128DBACB0>, < cv2.DMatch 0000020128DB9A50>, < cv2.DMatch 0000020128DBA730>, < cv2.DMatch 0000020128DBA9F0>, < cv2.DMatch 0000020128DBA9D0>, < cv2.DMatch 0000020128DBACD0>, < cv2.DMatch 0000020128DBACF0>, < cv2.DMatch 0000020128DBAD10>, < cv2.DMatch 0000020128DBAD30>, < cv2.DMatch 0000020128DBAD50>, < cv2.DMatch 0000020128DBAD70>, < cv2.DMatch 0000020128DBAD90>, < cv2.DMatch 0000020128DBADB0>, < cv2.DMatch 0000020128DBADD0>, < cv2.DMatch 0000020128DBADF0>, < cv2.DMatch 0000020128DBAE10>, < cv2.DMatch 0000020128DBAE30>, < cv2.DMatch 0000020128DBAE50>, < cv2.DMatch 0000020128DBAE70>, < cv2.DMatch 0000020128DBAE90>, < cv2.DMatch 0000020128DBAEB0>, < cv2.DMatch 0000020128DBAED0>, < cv2.DMatch 0000020128DBAEF0>, < cv2.DMatch 0000020128DBAF10>, < cv2.DMatch 0000020128DBAF30>, < cv2.DMatch 0000020128DBAF50>, < cv2.DMatch 0000020128DBAF70>, < cv2.DMatch 0000020128DBAF90>, < cv2.DMatch 0000020128DBAFB0>, < cv2.DMatch 0000020128DBAFD0>, < cv2.DMatch 0000020128DBAFF0>, < cv2.DMatch 0000020128DBB010>, < cv2.DMatch 0000020128DBB030>, < cv2.DMatch 0000020128DBB050>, < cv2.DMatch 0000020128DBB070>, < cv2.DMatch 0000020128DBB090>, < cv2.DMatch 0000020128DBB0B0>, < cv2.DMatch 0000020128DBB0D0>, < cv2.DMatch 0000020128DBB0F0>, < cv2.DMatch 0000020128DBB110>, < cv2.DMatch 0000020128DBB130>, < cv2.DMatch 0000020128DBB150>, < cv2.DMatch 0000020128DBB170>, < cv2.DMatch 0000020128DBB190>, < cv2.DMatch 0000020128DBB1B0>, < cv2.DMatch 0000020128DBB1D0>, < cv2.DMatch 0000020128DBB1F0>, < cv2.DMatch 0000020128DBB210>, < cv2.DMatch 0000020128DBB230>, < cv2.DMatch 0000020128DBB250>, < cv2.DMatch 0000020128DBB270>, < cv2.DMatch 0000020128DBB290>, < cv2.DMatch 0000020128DBB2B0>, < cv2.DMatch 0000020128DBB2D0>, < cv2.DMatch 0000020128DBB2F0>, < cv2.DMatch 0000020128DBB310>, < cv2.DMatch 0000020128DBB330>, < cv2.DMatch 0000020128DBB350>, < cv2.DMatch 0000020128DBB370>, < cv2.DMatch 0000020128DBB390>, < cv2.DMatch 0000020128DBB3B0>, < cv2.DMatch 0000020128DBB3D0>, < cv2.DMatch 0000020128DBB3F0>, < cv2.DMatch 0000020128DBB410>, < cv2.DMatch 0000020128DBB430>, < cv2.DMatch 0000020128DBB450>, < cv2.DMatch 0000020128DBB470>, < cv2.DMatch 0000020128DBB490>, < cv2.DMatch 0000020128DBB4B0>, < cv2.DMatch 0000020128DBB4D0>, < cv2.DMatch 0000020128DBB4F0>, < cv2.DMatch 0000020128DBB510>, < cv2.DMatch 0000020128DBB530>, < cv2.DMatch 0000020128DBB550>, < cv2.DMatch 0000020128DBB570>, < cv2.DMatch 0000020128DBB590>, < cv2.DMatch 0000020128DBB5B0>, < cv2.DMatch 0000020128DBB5D0>, < cv2.DMatch 0000020128DBB5F0>, < cv2.DMatch 0000020128DBB610>, < cv2.DMatch 0000020128DBB630>, < cv2.DMatch 0000020128DBB650>, < cv2.DMatch 0000020128DBB670>, < cv2.DMatch 0000020128DBB690>, < cv2.DMatch 0000020128DBB6B0>, < cv2.DMatch 0000020128DBB6D0>, < cv2.DMatch 0000020128DBB6F0>, < cv2.DMatch 0000020128DBB710>, < cv2.DMatch 0000020128DBB730>, < cv2.DMatch 0000020128DBB750>, < cv2.DMatch 0000020128DBB770>, < cv2.DMatch 0000020128DBB790>), 'estimated_translation_inliers': [((1225.0, 480.0), (1163.52001953125, 668.1600341796875)), ((1224.0, 480.0000305175781), (1162.944091796875, 667.008056640625)), ((1329.60009765625, 1147.2000732421875), (1339.0, 61.0)), ((1329.1199951171875, 1146.239990234375), (1339.2000732421875, 60.480003356933594))], 'estimated_translation_validity': {'overall': False, 'individual': [False, False, False, False]}}, ('a_myimages02.jpg', 'a_myimages03.jpg'): {'matches': (< cv2.DMatch 0000020101699A90>, < cv2.DMatch 0000020101698BF0>, < cv2.DMatch 00000201018703D0>, < cv2.DMatch 0000020101870950>, < cv2.DMatch 0000020128DBBF10>, < cv2.DMatch 0000020128DBBB70>, < cv2.DMatch 0000020128DBBEF0>, < cv2.DMatch 0000020128DBBA50>, < cv2.DMatch 0000020128DBBA70>, < cv2.DMatch 0000020128DBBB50>, < cv2.DMatch 0000020128DBBB90>, < cv2.DMatch 0000020128DBBDD0>, < cv2.DMatch 0000020128DBB8D0>, < cv2.DMatch 0000020128DBBDF0>, < cv2.DMatch 0000020128DBBE90>, < cv2.DMatch 0000020128DBBF90>, < cv2.DMatch 0000020128DBB950>, < cv2.DMatch 0000020128DBBE10>, < cv2.DMatch 0000020128DBBA30>, < cv2.DMatch 0000020128DBBCD0>, < cv2.DMatch 0000020128DBBE70>, < cv2.DMatch 0000020128DBBC10>, < cv2.DMatch 0000020128DBBDB0>, < cv2.DMatch 0000020128DBB890>, < cv2.DMatch 0000020128DBBFD0>, < cv2.DMatch 0000020128DBB930>, < cv2.DMatch 0000020128DBBE30>, < cv2.DMatch 0000020128DBBED0>, < cv2.DMatch 0000020128DBB7F0>, < cv2.DMatch 0000020128DBBBF0>, < cv2.DMatch 0000020128DBB910>, < cv2.DMatch 0000020128DBB810>, < cv2.DMatch 0000020128DBB870>, < cv2.DMatch 0000020128DBB8F0>, < cv2.DMatch 0000020128DBB970>, < cv2.DMatch 0000020128DBB9D0>, < cv2.DMatch 0000020128DBBC30>, < cv2.DMatch 0000020128DBBAB0>, < cv2.DMatch 0000020128DBBA10>, < cv2.DMatch 0000020128DBBAD0>, < cv2.DMatch 0000020128DBBC50>, < cv2.DMatch 0000020128DBBEB0>, < cv2.DMatch 0000020128DBBF70>, < cv2.DMatch 0000020128DBBFB0>, < cv2.DMatch 0000020128DBBD10>, < cv2.DMatch 0000020128DBBD30>, < cv2.DMatch 0000020128DBBBD0>, < cv2.DMatch 0000020128DBBC90>, < cv2.DMatch 0000020128DBBCF0>, < cv2.DMatch 0000020129218090>, < cv2.DMatch 00000201292182D0>, < cv2.DMatch 00000201292184F0>, < cv2.DMatch 0000020129218130>, < cv2.DMatch 0000020129218370>, < cv2.DMatch 00000201292183D0>, < cv2.DMatch 0000020129218210>, < cv2.DMatch 00000201292180F0>, < cv2.DMatch 0000020129218110>, < cv2.DMatch 0000020129218070>, < cv2.DMatch 0000020129218230>, < cv2.DMatch 0000020129218030>, < cv2.DMatch 0000020129218470>, < cv2.DMatch 0000020129218430>, < cv2.DMatch 0000020129218290>, < cv2.DMatch 0000020129218150>, < cv2.DMatch 0000020129218350>, < cv2.DMatch 0000020129218490>, < cv2.DMatch 00000201292184B0>, < cv2.DMatch 0000020129218050>, < cv2.DMatch 00000201292180D0>, < cv2.DMatch 0000020129218170>, < cv2.DMatch 0000020129218190>, < cv2.DMatch 0000020129218270>, < cv2.DMatch 0000020129218410>, < cv2.DMatch 00000201292182B0>, < cv2.DMatch 00000201292183F0>, < cv2.DMatch 00000201292181D0>, < cv2.DMatch 0000020129218250>, < cv2.DMatch 00000201292180B0>, < cv2.DMatch 00000201292183B0>, < cv2.DMatch 0000020129218450>, < cv2.DMatch 00000201292182F0>, < cv2.DMatch 00000201292184D0>, < cv2.DMatch 0000020129218510>, < cv2.DMatch 00000201292181F0>, < cv2.DMatch 0000020129218390>, < cv2.DMatch 0000020129218550>, < cv2.DMatch 00000201292181B0>, < cv2.DMatch 0000020129218310>, < cv2.DMatch 0000020129218330>, < cv2.DMatch 0000020129218530>, < cv2.DMatch 0000020129219F50>, < cv2.DMatch 0000020129219D50>, < cv2.DMatch 0000020129219D30>, < cv2.DMatch 0000020129219710>, < cv2.DMatch 00000201292190D0>, < cv2.DMatch 0000020129219F70>, < cv2.DMatch 0000020129219530>, < cv2.DMatch 0000020129219DB0>, < cv2.DMatch 0000020129218B50>, < cv2.DMatch 0000020129218710>, < cv2.DMatch 0000020129218610>, < cv2.DMatch 0000020129219C10>, < cv2.DMatch 0000020129219870>, < cv2.DMatch 00000201292193B0>, < cv2.DMatch 0000020129218C30>, < cv2.DMatch 0000020129218A50>, < cv2.DMatch 0000020129218650>, < cv2.DMatch 00000201292199F0>, < cv2.DMatch 0000020129219470>, < cv2.DMatch 0000020129218EF0>, < cv2.DMatch 0000020129218D90>, < cv2.DMatch 0000020129218C10>, < cv2.DMatch 0000020129219F30>, < cv2.DMatch 0000020129219050>, < cv2.DMatch 0000020129219EF0>, < cv2.DMatch 0000020129219510>), 'estimated_translation_inliers': [((524.0, 960.0), (915.6000366210938, 36.0)), ((902.0, 1184.0), (911.0, 36.0)), ((524.4000244140625, 960.0000610351562), (914.112060546875, 36.288002014160156)), ((1423.2000732421875, 687.6000366210938), (905.4721069335938, 41.47200393676758)), ((902.4000244140625, 1183.2000732421875), (910.800048828125, 36.0))], 'estimated_translation_validity': {'overall': False, 'individual': [False, False, False, False, False]}}, ('a_myimages03.jpg', 'a_myimages04.jpg'): {'matches': (< cv2.DMatch 0000020128DBBB30>, < cv2.DMatch 0000020128DBBF50>, < cv2.DMatch 0000020128DBB990>, < cv2.DMatch 000002010169B790>, < cv2.DMatch 0000020129218E70>, < cv2.DMatch 0000020129218DF0>, < cv2.DMatch 0000020129218950>, < cv2.DMatch 0000020129218630>, < cv2.DMatch 00000201292185F0>, < cv2.DMatch 000002012921A050>, < cv2.DMatch 0000020129218930>, < cv2.DMatch 0000020129219370>, < cv2.DMatch 0000020129219D70>, < cv2.DMatch 0000020129218FD0>, < cv2.DMatch 000002012921A0B0>, < cv2.DMatch 0000020129218C50>, < cv2.DMatch 0000020129219C70>, < cv2.DMatch 000002012921A150>, < cv2.DMatch 000002012921A230>, < cv2.DMatch 000002012921A2D0>, < cv2.DMatch 0000020129219AD0>, < cv2.DMatch 0000020129218B10>, < cv2.DMatch 0000020129219AF0>, < cv2.DMatch 0000020129218B90>, < cv2.DMatch 000002012921A2F0>, < cv2.DMatch 0000020129218D70>, < cv2.DMatch 0000020129218D10>, < cv2.DMatch 0000020129218F30>, < cv2.DMatch 00000201292187B0>, < cv2.DMatch 0000020129218690>, < cv2.DMatch 000002012921A270>, < cv2.DMatch 000002012921A370>, < cv2.DMatch 0000020129219B90>, < cv2.DMatch 0000020129218730>, < cv2.DMatch 0000020129219CD0>, < cv2.DMatch 0000020129219930>, < cv2.DMatch 0000020129219730>, < cv2.DMatch 000002012921A030>, < cv2.DMatch 000002012921A190>, < cv2.DMatch 0000020129219FF0>, < cv2.DMatch 0000020129218F90>, < cv2.DMatch 000002012921A130>, < cv2.DMatch 0000020129218CF0>, < cv2.DMatch 00000201292198F0>, < cv2.DMatch 0000020129219A70>, < cv2.DMatch 0000020129218FB0>, < cv2.DMatch 000002012921A0D0>, < cv2.DMatch 0000020129219250>, < cv2.DMatch 0000020129219F90>, < cv2.DMatch 000002012921A2B0>, < cv2.DMatch 0000020129219A30>, < cv2.DMatch 0000020129218990>, < cv2.DMatch 000002012921A350>, < cv2.DMatch 0000020129219EB0>, < cv2.DMatch 00000201292198D0>, < cv2.DMatch 0000020129218BF0>, < cv2.DMatch 0000020129219FD0>, < cv2.DMatch 00000201292187D0>, < cv2.DMatch 0000020129218F70>, < cv2.DMatch 000002012921A1F0>, < cv2.DMatch 0000020129219E30>, < cv2.DMatch 0000020129219CB0>, < cv2.DMatch 0000020129219BB0>, < cv2.DMatch 0000020129218DB0>, < cv2.DMatch 0000020129218F10>, < cv2.DMatch 0000020129219650>, < cv2.DMatch 00000201292192F0>, < cv2.DMatch 000002012921A210>, < cv2.DMatch 0000020129218C90>, < cv2.DMatch 000002012921A250>, < cv2.DMatch 000002012921B310>, < cv2.DMatch 000002012921AC50>, < cv2.DMatch 000002012921B2D0>, < cv2.DMatch 000002012921AD10>, < cv2.DMatch 000002012921ACF0>, < cv2.DMatch 000002012921A5B0>, < cv2.DMatch 0000020129219770>, < cv2.DMatch 0000020129219030>, < cv2.DMatch 000002012921AAD0>, < cv2.DMatch 000002012921AA90>, < cv2.DMatch 000002012921AED0>, < cv2.DMatch 000002012921AA50>, < cv2.DMatch 000002012921B2B0>, < cv2.DMatch 000002012921A950>, < cv2.DMatch 000002012921A7D0>, < cv2.DMatch 00000201292192B0>, < cv2.DMatch 0000020129219610>, < cv2.DMatch 0000020129218670>, < cv2.DMatch 00000201292188B0>, < cv2.DMatch 000002012921A3D0>, < cv2.DMatch 0000020129219190>, < cv2.DMatch 00000201292189B0>, < cv2.DMatch 00000201292197F0>, < cv2.DMatch 0000020129218E10>, < cv2.DMatch 000002012921B230>, < cv2.DMatch 000002012921AE30>, < cv2.DMatch 00000201292185B0>, < cv2.DMatch 00000201292194D0>, < cv2.DMatch 00000201292185D0>, < cv2.DMatch 000002012921B1D0>, < cv2.DMatch 000002012921ABF0>, < cv2.DMatch 000002012921A9D0>, < cv2.DMatch 000002012921A750>, < cv2.DMatch 0000020129219E90>, < cv2.DMatch 0000020129218BB0>), 'estimated_translation_inliers': [((1027.0, 1115.0), (902.4000244140625, 51.60000228881836)), ((1229.0, 1066.0), (1105.0, 6.0)), ((1488.0, 1120.0), (1365.60009765625, 62.400001525878906)), ((1408.800048828125, 1104.0), (1287.0, 45.0)), ((1406.4000244140625, 1101.60009765625), (1283.0, 44.0)), ((1495.2000732421875, 1093.2000732421875), (1372.800048828125, 34.80000305175781)), ((1027.2000732421875, 1114.800048828125), (902.4000244140625, 54.000003814697266)), ((1491.60009765625, 1089.60009765625), (1368.0, 31.200000762939453)), ((1490.4000244140625, 1117.2000732421875), (1368.0, 60.000003814697266)), ((1114.800048828125, 1146.0), (990.7200317382812, 84.96000671386719)), ((800.4000244140625, 1117.2000732421875), (675.6000366210938, 55.20000076293945)), ((1127.52001953125, 1127.52001953125), (1002.2401123046875, 67.39200592041016))], 'estimated_translation_validity': {'overall': True, 'individual': [True, True, True, True, True, True, True, True, True, True, True, True]}}, ('a_myimages04.jpg', 'a_myimages05.jpg'): {'matches': (< cv2.DMatch 0000020129219AB0>, < cv2.DMatch 000002012921AF30>, < cv2.DMatch 000002012921B1F0>, < cv2.DMatch 0000020129218750>, < cv2.DMatch 0000020129218BD0>, < cv2.DMatch 000002012921B050>, < cv2.DMatch 000002012921AFD0>, < cv2.DMatch 000002012921A970>, < cv2.DMatch 000002012921B370>, < cv2.DMatch 000002012921B390>, < cv2.DMatch 000002012921A490>, < cv2.DMatch 000002012921B430>, < cv2.DMatch 000002012921B1B0>, < cv2.DMatch 000002012921A690>, < cv2.DMatch 00000201292191D0>, < cv2.DMatch 000002012921A8B0>, < cv2.DMatch 000002012921B010>, < cv2.DMatch 000002012921A4F0>, < cv2.DMatch 000002012921B330>, < cv2.DMatch 000002012921A4D0>, < cv2.DMatch 000002012921A510>, < cv2.DMatch 000002012921AB70>, < cv2.DMatch 000002012921A870>, < cv2.DMatch 00000201292197D0>, < cv2.DMatch 000002012921A570>, < cv2.DMatch 000002012921AB50>, < cv2.DMatch 000002012921A9F0>, < cv2.DMatch 000002012921A9B0>, < cv2.DMatch 0000020129219230>, < cv2.DMatch 0000020129218870>, < cv2.DMatch 000002012921B0F0>, < cv2.DMatch 000002012921AE50>, < cv2.DMatch 0000020129219170>, < cv2.DMatch 000002012921B0D0>, < cv2.DMatch 000002012921AC70>, < cv2.DMatch 000002012921B270>, < cv2.DMatch 000002012921B090>, < cv2.DMatch 000002012921B030>, < cv2.DMatch 000002012921A3F0>, < cv2.DMatch 0000020129219150>, < cv2.DMatch 000002012921ACB0>, < cv2.DMatch 0000020129219130>, < cv2.DMatch 0000020129219090>, < cv2.DMatch 0000020129219910>, < cv2.DMatch 0000020129219590>, < cv2.DMatch 00000201292194B0>, < cv2.DMatch 00000201292189F0>, < cv2.DMatch 000002012921B0B0>, < cv2.DMatch 0000020129219B50>, < cv2.DMatch 000002012921B9B0>, < cv2.DMatch 000002012921BD50>, < cv2.DMatch 000002012921A770>, < cv2.DMatch 000002012921BF30>, < cv2.DMatch 0000020129219DF0>, < cv2.DMatch 000002012921A5F0>, < cv2.DMatch 000002012921A710>, < cv2.DMatch 00000201292189D0>, < cv2.DMatch 000002012921B290>, < cv2.DMatch 00000201292194F0>, < cv2.DMatch 00000201292190F0>, < cv2.DMatch 000002012921BC50>, < cv2.DMatch 00000201292186F0>, < cv2.DMatch 000002012921AC10>, < cv2.DMatch 000002012921B830>, < cv2.DMatch 0000020129218770>, < cv2.DMatch 000002012921BF70>, < cv2.DMatch 000002012921B4B0>, < cv2.DMatch 000002012921B710>, < cv2.DMatch 000002012921B9D0>, < cv2.DMatch 000002012921B6D0>, < cv2.DMatch 00000201292196B0>, < cv2.DMatch 0000020129219350>, < cv2.DMatch 000002012921A450>, < cv2.DMatch 000002012921BE50>, < cv2.DMatch 000002012921B910>, < cv2.DMatch 0000020129218C70>, < cv2.DMatch 000002012921BE90>, < cv2.DMatch 00000201292199B0>, < cv2.DMatch 000002012921B150>, < cv2.DMatch 000002012921BF90>, < cv2.DMatch 000002012921BD70>, < cv2.DMatch 000002012921B650>, < cv2.DMatch 000002012921B530>, < cv2.DMatch 000002012921A590>, < cv2.DMatch 000002012921BD10>, < cv2.DMatch 0000020129218A70>, < cv2.DMatch 000002012921B7D0>, < cv2.DMatch 000002012921B7B0>, < cv2.DMatch 000002012921B730>, < cv2.DMatch 000002012921B350>, < cv2.DMatch 0000020129218590>, < cv2.DMatch 0000020129219070>, < cv2.DMatch 000002012921A810>, < cv2.DMatch 0000020129219110>, < cv2.DMatch 0000020129219E70>, < cv2.DMatch 0000020129219490>, < cv2.DMatch 0000020129219430>, < cv2.DMatch 0000020129219830>, < cv2.DMatch 000002012921A3B0>, < cv2.DMatch 0000020129218CB0>, < cv2.DMatch 00000201292187F0>, < cv2.DMatch 0000020129218A90>, < cv2.DMatch 000002012921B930>, < cv2.DMatch 000002012921B810>), 'estimated_translation_inliers': [((1199.0, 1087.0), (1209.0, 145.0)), ((1196.0, 1082.0), (1205.0, 141.0)), ((1232.0, 998.0), (1238.4000244140625, 57.60000228881836)), ((1232.0, 996.0), (1241.0, 53.0)), ((384.0, 973.0), (394.0, 31.0)), ((862.0, 1090.0), (871.2000122070312, 146.40000915527344)), ((442.0, 1047.0), (451.0, 104.0)), ((1194.0, 1082.4000244140625), (1203.60009765625, 141.60000610351562)), ((1197.60009765625, 1078.800048828125), (1207.2000732421875, 136.8000030517578)), ((1196.4000244140625, 1084.800048828125), (1206.0, 144.0)), ((384.0, 973.2000122070312), (393.6000061035156, 31.200000762939453)), ((1237.2000732421875, 999.6000366210938), (1245.60009765625, 57.60000228881836)), ((1210.800048828125, 1053.60009765625), (1220.4000244140625, 110.4000015258789)), ((1203.840087890625, 1084.320068359375), (1213.9200439453125, 142.5600128173828)), ((1196.6400146484375, 1077.1199951171875), (1206.7200927734375, 135.36000061035156))], 'estimated_translation_validity': {'overall': True, 'individual': [True, True, True, True, True, True, True, True, True, True, True, True, True, True, True]}}, ('a_myimages05.jpg', 'a_myimages06.jpg'): {'matches': (< cv2.DMatch 00000201292186B0>, < cv2.DMatch 00000201292193F0>, < cv2.DMatch 00000201292186D0>, < cv2.DMatch 000002012921AC30>, < cv2.DMatch 000002012921B5F0>, < cv2.DMatch 0000020129219790>, < cv2.DMatch 000002012921B5B0>, < cv2.DMatch 0000020129218850>, < cv2.DMatch 000002012921BED0>, < cv2.DMatch 000002012921B3D0>, < cv2.DMatch 000002012921A6F0>, < cv2.DMatch 000002012921AE10>, < cv2.DMatch 000002012921B990>, < cv2.DMatch 000002012921BDD0>, < cv2.DMatch 000002012921A670>, < cv2.DMatch 0000020129218D50>, < cv2.DMatch 000002012921ADF0>, < cv2.DMatch 000002012921B8F0>, < cv2.DMatch 000002012921B5D0>, < cv2.DMatch 000002012921B610>, < cv2.DMatch 0000020129219670>, < cv2.DMatch 000002012921B970>, < cv2.DMatch 0000020129219BF0>, < cv2.DMatch 0000020129219C90>, < cv2.DMatch 000002012921A7F0>, < cv2.DMatch 00000201292199D0>, < cv2.DMatch 0000020129218890>, < cv2.DMatch 000002012921BB90>, < cv2.DMatch 000002012921BBD0>, < cv2.DMatch 0000020129219450>, < cv2.DMatch 0000020129219E50>, < cv2.DMatch 000002012921A550>, < cv2.DMatch 000002012921BC30>, < cv2.DMatch 000002012921BDF0>, < cv2.DMatch 000002012921BE30>, < cv2.DMatch 0000020129219310>, < cv2.DMatch 000002012921AA30>, < cv2.DMatch 000002012921A090>, < cv2.DMatch 000002012921AC90>, < cv2.DMatch 000002012921BB70>, < cv2.DMatch 000002012921A610>, < cv2.DMatch 000002012921BE10>, < cv2.DMatch 000002012921BA70>, < cv2.DMatch 0000020129218830>, < cv2.DMatch 000002012921BB30>, < cv2.DMatch 000002012921B470>, < cv2.DMatch 000002012921B070>, < cv2.DMatch 000002012921C050>, < cv2.DMatch 000002012921C030>, < cv2.DMatch 000002012921C250>, < cv2.DMatch 000002012921C450>, < cv2.DMatch 000002012921C1B0>, < cv2.DMatch 000002012921C310>, < cv2.DMatch 000002012921C2F0>, < cv2.DMatch 000002012921C070>, < cv2.DMatch 000002012921C0D0>, < cv2.DMatch 000002012921C270>, < cv2.DMatch 000002012921C1F0>, < cv2.DMatch 000002012921C0B0>, < cv2.DMatch 000002012921C0F0>, < cv2.DMatch 000002012921C090>, < cv2.DMatch 000002012921C3F0>, < cv2.DMatch 000002012921C4D0>, < cv2.DMatch 000002012921C110>, < cv2.DMatch 000002012921C2B0>, < cv2.DMatch 000002012921C130>, < cv2.DMatch 000002012921C290>, < cv2.DMatch 000002012921C230>, < cv2.DMatch 000002012921C4B0>, < cv2.DMatch 000002012921C490>, < cv2.DMatch 000002012921C410>, < cv2.DMatch 000002012921C2D0>, < cv2.DMatch 000002012921C3D0>, < cv2.DMatch 000002012921C430>, < cv2.DMatch 000002012921C210>, < cv2.DMatch 000002012921C150>, < cv2.DMatch 000002012921C330>, < cv2.DMatch 000002012921C470>, < cv2.DMatch 000002012921C370>, < cv2.DMatch 000002012921C170>, < cv2.DMatch 000002012921C3B0>, < cv2.DMatch 000002012921C1D0>, < cv2.DMatch 000002012921C390>, < cv2.DMatch 000002012921C190>, < cv2.DMatch 000002012921C350>, < cv2.DMatch 000002012921CA50>, < cv2.DMatch 000002012921CA70>, < cv2.DMatch 000002012921CD70>, < cv2.DMatch 000002012921D0F0>, < cv2.DMatch 000002012921CF30>, < cv2.DMatch 000002012921CB10>, < cv2.DMatch 000002012921D130>, < cv2.DMatch 000002012921CF70>, < cv2.DMatch 000002012921D150>, < cv2.DMatch 000002012921C630>, < cv2.DMatch 000002012921CDB0>, < cv2.DMatch 000002012921CCB0>, < cv2.DMatch 000002012921CC70>, < cv2.DMatch 000002012921CA90>, < cv2.DMatch 000002012921CF10>, < cv2.DMatch 000002012921C9B0>, < cv2.DMatch 000002012921D110>, < cv2.DMatch 000002012921CCD0>, < cv2.DMatch 000002012921C810>, < cv2.DMatch 000002012921C7B0>, < cv2.DMatch 000002012921D210>, < cv2.DMatch 000002012921CB30>, < cv2.DMatch 000002012921CAB0>, < cv2.DMatch 000002012921C510>, < cv2.DMatch 000002012921D0D0>, < cv2.DMatch 000002012921CEF0>, < cv2.DMatch 000002012921C770>, < cv2.DMatch 000002012921C790>, < cv2.DMatch 000002012921CD10>, < cv2.DMatch 000002012921C990>, < cv2.DMatch 000002012921C8B0>, < cv2.DMatch 000002012921CFB0>, < cv2.DMatch 000002012921C970>, < cv2.DMatch 000002012921C530>, < cv2.DMatch 000002012921D1D0>, < cv2.DMatch 000002012921D170>, < cv2.DMatch 000002012921CC30>, < cv2.DMatch 000002012921C690>, < cv2.DMatch 000002012921D070>, < cv2.DMatch 000002012921D1B0>, < cv2.DMatch 000002012921D230>, < cv2.DMatch 000002012921D250>, < cv2.DMatch 000002012921CFD0>, < cv2.DMatch 000002012921C950>), 'estimated_translation_inliers': [((1228.0, 1192.0), (1236.0, 336.0)), ((427.0, 1173.0), (433.0, 315.0)), ((516.0, 1111.0), (523.0, 253.0)), ((504.0, 1102.0), (511.0, 245.0)), ((405.0, 1099.0), (411.6000061035156, 242.40000915527344)), ((514.0, 1097.0), (520.0, 239.0)), ((514.0, 1095.0), (520.0, 237.0)), ((1078.0, 1079.0), (1085.0, 222.0)), ((651.0, 1062.0), (658.0, 205.0)), ((645.0, 1005.0), (651.0, 148.0)), ((804.0, 987.0), (811.0, 128.0)), ((530.0, 957.0), (537.0, 98.0)), ((383.0, 942.0), (391.0, 83.0)), ((387.0, 939.0), (393.0, 81.0)), ((436.0, 927.0), (443.0, 68.0)), ((945.0, 922.0), (952.0, 63.0)), ((944.0, 919.0), (951.0, 61.0)), ((1228.0, 1194.0), (1236.0, 339.0)), ((1201.0, 900.0), (1206.0, 44.400001525878906)), ((886.0, 898.0), (893.0, 39.0)), ((897.0, 895.0), (903.0, 37.0)), ((343.0, 895.0), (351.0, 38.0)), ((886.0, 894.0), (893.0, 36.0)), ((892.0, 891.0), (899.0, 32.0)), ((856.0, 887.0), (863.0, 28.0)), ((650.0, 911.0), (656.0, 53.0)), ((674.0, 1114.0), (680.0, 256.0)), ((533.0, 1084.0), (537.6000366210938, 228.00001525878906)), ((856.800048828125, 885.6000366210938), (862.800048828125, 27.600000381469727)), ((516.0, 1111.2000732421875), (522.0, 253.20001220703125)), ((505.20001220703125, 1104.0), (511.20001220703125, 246.00001525878906)), ((405.6000061035156, 1100.4000244140625), (411.84002685546875, 241.92001342773438)), ((513.6000366210938, 1095.60009765625), (519.6000366210938, 238.8000030517578)), ((1077.60009765625, 1078.800048828125), (1084.800048828125, 222.00001525878906)), ((530.4000244140625, 957.6000366210938), (536.4000244140625, 98.4000015258789)), ((378.0, 944.4000244140625), (385.9200134277344, 86.4000015258789)), ((494.4000244140625, 940.800048828125), (500.4000244140625, 82.80000305175781)), ((295.20001220703125, 938.4000244140625), (301.0, 80.0)), ((687.6000366210938, 936.0000610351562), (692.6400146484375, 77.76000213623047)), ((944.4000244140625, 921.6000366210938), (951.6000366210938, 62.400001525878906)), ((343.20001220703125, 895.2000122070312), (350.4000244140625, 37.20000076293945)), ((895.2000122070312, 894.0000610351562), (901.0, 36.0)), ((934.800048828125, 919.2000122070312), (942.0000610351562, 60.000003814697266)), ((650.4000244140625, 910.800048828125), (656.4000244140625, 52.80000305175781)), ((430.8000183105469, 1168.800048828125), (436.0, 312.0)), ((670.800048828125, 1114.800048828125), (676.800048828125, 256.8000183105469)), ((672.0, 1112.4000244140625), (679.0, 254.0)), ((907.2000122070312, 964.800048828125), (914.0, 107.0)), ((430.5600280761719, 1169.280029296875), (436.32000732421875, 311.0400085449219)), ((515.52001953125, 1110.239990234375), (521.280029296875, 253.44000244140625)), ((504.0000305175781, 1103.0400390625), (511.20001220703125, 244.8000030517578)), ((406.08001708984375, 1098.7200927734375), (411.2640380859375, 241.92002868652344)), ((514.0800170898438, 1094.4000244140625), (519.8400268554688, 237.60000610351562)), ((1077.1199951171875, 1078.56005859375), (1084.320068359375, 221.760009765625)), ((303.84002685546875, 1062.7200927734375), (310.8000183105469, 205.20001220703125)), ((643.6800537109375, 1005.1200561523438), (650.8800048828125, 146.8800048828125))], 'estimated_translation_validity': {'overall': True, 'individual': [True, True, True, True, True, True, True, True, True, True, True, True, True, True, True, True, True, True, True, True, True, True, True, True, True, True, True, True, True, True, True, True, True, True, True, True, True, True, True, True, True, True, True, True, True, True, True, True, True, True, True, True, True, True, True, True]}}, ('a_myimages06.jpg', 'a_myimages07.jpg'): {'matches': (< cv2.DMatch 000002012921AFF0>, < cv2.DMatch 000002012921B950>, < cv2.DMatch 0000020129218ED0>, < cv2.DMatch 0000020128DBB850>, < cv2.DMatch 000002012921E790>, < cv2.DMatch 000002012921EED0>, < cv2.DMatch 000002012921E430>, < cv2.DMatch 000002012921E1F0>, < cv2.DMatch 000002012921CE50>, < cv2.DMatch 000002012921ED70>, < cv2.DMatch 000002012921E410>, < cv2.DMatch 000002012921CF50>, < cv2.DMatch 000002012921C650>, < cv2.DMatch 000002012921F210>, < cv2.DMatch 000002012921EDB0>, < cv2.DMatch 000002012921EAD0>, < cv2.DMatch 000002012921D0B0>, < cv2.DMatch 000002012921CEB0>, < cv2.DMatch 000002012921F330>, < cv2.DMatch 000002012921D270>, < cv2.DMatch 000002012921F170>, < cv2.DMatch 000002012921EDD0>, < cv2.DMatch 000002012921E3F0>, < cv2.DMatch 000002012921E0D0>, < cv2.DMatch 000002012921F0D0>, < cv2.DMatch 000002012921C670>, < cv2.DMatch 000002012921F2B0>, < cv2.DMatch 000002012921EA90>, < cv2.DMatch 000002012921E5F0>, < cv2.DMatch 000002012921E090>, < cv2.DMatch 000002012921CB90>, < cv2.DMatch 000002012921D190>, < cv2.DMatch 000002012921EC30>, < cv2.DMatch 000002012921E990>, < cv2.DMatch 000002012921E5B0>, < cv2.DMatch 000002012921E590>, < cv2.DMatch 000002012921E0F0>, < cv2.DMatch 000002012921CCF0>, < cv2.DMatch 000002012921F290>, < cv2.DMatch 000002012921EC90>, < cv2.DMatch 000002012921E970>, < cv2.DMatch 000002012921E7F0>, < cv2.DMatch 000002012921E490>, < cv2.DMatch 000002012921E390>, < cv2.DMatch 000002012921E8D0>, < cv2.DMatch 000002012921C870>, < cv2.DMatch 000002012921F1D0>, < cv2.DMatch 000002012921EB10>, < cv2.DMatch 000002012921EA70>, < cv2.DMatch 000002012921DFF0>, < cv2.DMatch 000002012921CE90>, < cv2.DMatch 000002012921EDF0>, < cv2.DMatch 000002012921ED50>, < cv2.DMatch 000002012921ECD0>, < cv2.DMatch 000002012921EB50>, < cv2.DMatch 000002012921E250>, < cv2.DMatch 000002012921E230>, < cv2.DMatch 000002012921E030>, < cv2.DMatch 000002012921C730>, < cv2.DMatch 000002012921CE30>, < cv2.DMatch 000002012921ECB0>, < cv2.DMatch 000002012921EB70>, < cv2.DMatch 000002012921E650>, < cv2.DMatch 000002012921E1B0>, < cv2.DMatch 000002012921E190>, < cv2.DMatch 000002012921F3B0>, < cv2.DMatch 000002012921F3D0>, < cv2.DMatch 000002012921F3F0>, < cv2.DMatch 000002012921F410>, < cv2.DMatch 000002012921F430>, < cv2.DMatch 000002012921F450>, < cv2.DMatch 000002012921F470>, < cv2.DMatch 000002012921F490>, < cv2.DMatch 000002012921F4B0>, < cv2.DMatch 000002012921F4D0>, < cv2.DMatch 000002012921F4F0>, < cv2.DMatch 000002012921F510>, < cv2.DMatch 000002012921F530>, < cv2.DMatch 000002012921F550>, < cv2.DMatch 000002012921F570>, < cv2.DMatch 000002012921F590>, < cv2.DMatch 000002012921F5B0>, < cv2.DMatch 000002012921F5D0>, < cv2.DMatch 000002012921F5F0>, < cv2.DMatch 000002012921F610>, < cv2.DMatch 000002012921F630>, < cv2.DMatch 000002012921F650>, < cv2.DMatch 000002012921F670>, < cv2.DMatch 000002012921F690>, < cv2.DMatch 000002012921F6B0>, < cv2.DMatch 000002012921F6D0>, < cv2.DMatch 000002012921F6F0>, < cv2.DMatch 000002012921F710>, < cv2.DMatch 000002012921F730>, < cv2.DMatch 000002012921F750>, < cv2.DMatch 000002012921F770>, < cv2.DMatch 000002012921F790>, < cv2.DMatch 000002012921F7B0>, < cv2.DMatch 000002012921F7D0>, < cv2.DMatch 000002012921F7F0>, < cv2.DMatch 000002012921F810>, < cv2.DMatch 000002012921F830>, < cv2.DMatch 000002012921F850>, < cv2.DMatch 000002012921F870>, < cv2.DMatch 000002012921F890>, < cv2.DMatch 000002012921F8B0>, < cv2.DMatch 000002012921F8D0>, < cv2.DMatch 000002012921F8F0>, < cv2.DMatch 000002012921F910>, < cv2.DMatch 000002012921F930>, < cv2.DMatch 000002012921F950>, < cv2.DMatch 000002012921F970>, < cv2.DMatch 000002012921F990>, < cv2.DMatch 000002012921F9B0>, < cv2.DMatch 000002012921F9D0>, < cv2.DMatch 000002012921F9F0>, < cv2.DMatch 000002012921FA10>, < cv2.DMatch 000002012921FA30>, < cv2.DMatch 000002012921FA50>, < cv2.DMatch 000002012921FA70>, < cv2.DMatch 000002012921FA90>, < cv2.DMatch 000002012921FAB0>, < cv2.DMatch 000002012921FAD0>, < cv2.DMatch 000002012921FAF0>), 'estimated_translation_inliers': [((535.0, 1161.0), (542.0, 170.0)), ((535.0, 1158.0), (542.0, 168.0)), ((741.0, 1155.0), (748.0, 165.0)), ((524.0, 1116.0), (531.0, 126.0)), ((606.0, 1036.0), (614.0, 45.0)), ((607.0, 1028.0), (614.4000244140625, 37.20000076293945)), ((1263.0, 1052.0), (1271.0, 64.0)), ((584.0, 1112.0), (591.0, 122.0)), ((485.0, 1122.0), (493.0, 132.0)), ((543.0, 1154.0), (550.0, 165.0)), ((542.0, 1159.0), (549.0, 168.0)), ((1436.4000244140625, 1162.800048828125), (1446.0, 173.0)), ((740.4000244140625, 1154.4000244140625), (747.6000366210938, 164.40000915527344)), ((519.6000366210938, 1119.60009765625), (526.800048828125, 128.40000915527344)), ((523.2000122070312, 1116.0), (530.4000244140625, 126.00000762939453)), ((610.800048828125, 1038.0), (618.0, 46.80000305175781)), ((606.0, 1035.60009765625), (613.2000122070312, 44.400001525878906)), ((934.800048828125, 1004.4000244140625), (942.0000610351562, 13.200000762939453)), ((858.0000610351562, 1072.800048828125), (866.0, 82.0)), ((1236.0, 1140.0), (1244.0, 151.0)), ((1221.60009765625, 1147.2000732421875), (1230.0, 157.20001220703125)), ((542.4000244140625, 1154.4000244140625), (549.6000366210938, 164.40000915527344)), ((452.4000244140625, 1165.2000732421875), (459.6000061035156, 174.0)), ((484.8000183105469, 1120.800048828125), (492.0000305175781, 130.8000030517578)), ((1262.4000244140625, 1051.2000732421875), (1269.60009765625, 62.400001525878906))], 'estimated_translation_validity': {'overall': True, 'individual': [True, True, True, True, True, True, True, True, True, True, True, True, True, True, True, True, True, True, True, True, True, True, True, True, True]}}, ('a_myimages07.jpg', 'a_myimages08.jpg'): {'matches': (< cv2.DMatch 00000201292190B0>, < cv2.DMatch 000002012921BCB0>, < cv2.DMatch 000002012921BA10>, < cv2.DMatch 000002012921B9F0>, < cv2.DMatch 00000201292287B0>, < cv2.DMatch 0000020129228410>, < cv2.DMatch 00000201292280F0>, < cv2.DMatch 0000020129228110>, < cv2.DMatch 00000201292283F0>, < cv2.DMatch 0000020129228330>, < cv2.DMatch 0000020129228130>, < cv2.DMatch 0000020129228190>, < cv2.DMatch 00000201292281B0>, < cv2.DMatch 00000201292283B0>, < cv2.DMatch 0000020129228450>, < cv2.DMatch 0000020129228630>, < cv2.DMatch 0000020129228270>, < cv2.DMatch 00000201292282B0>, < cv2.DMatch 00000201292286F0>, < cv2.DMatch 0000020129228990>, < cv2.DMatch 00000201292289D0>, < cv2.DMatch 0000020129228510>, < cv2.DMatch 0000020129228070>, < cv2.DMatch 00000201292280B0>, < cv2.DMatch 0000020129228390>, < cv2.DMatch 0000020129228470>, < cv2.DMatch 0000020129228610>, < cv2.DMatch 0000020129228670>, < cv2.DMatch 0000020129228810>, < cv2.DMatch 0000020129228590>, < cv2.DMatch 0000020129228090>, < cv2.DMatch 00000201292284F0>, < cv2.DMatch 00000201292285B0>, < cv2.DMatch 0000020129228650>, < cv2.DMatch 00000201292282D0>, < cv2.DMatch 0000020129228570>, < cv2.DMatch 0000020129228A90>, < cv2.DMatch 00000201292282F0>, < cv2.DMatch 0000020129228310>, < cv2.DMatch 00000201292284B0>, < cv2.DMatch 0000020129228730>, < cv2.DMatch 0000020129228290>, < cv2.DMatch 0000020129228370>, < cv2.DMatch 00000201292284D0>, < cv2.DMatch 00000201292285F0>, < cv2.DMatch 00000201292289B0>, < cv2.DMatch 0000020129228230>, < cv2.DMatch 0000020129228750>, < cv2.DMatch 0000020129228690>, < cv2.DMatch 0000020129228550>, < cv2.DMatch 00000201292287D0>, < cv2.DMatch 0000020129228710>, < cv2.DMatch 00000201292287F0>, < cv2.DMatch 0000020129228170>, < cv2.DMatch 0000020129228850>, < cv2.DMatch 0000020129228890>, < cv2.DMatch 0000020129228930>, < cv2.DMatch 0000020129228A30>, < cv2.DMatch 0000020129228A50>, < cv2.DMatch 0000020129228490>, < cv2.DMatch 0000020129228830>, < cv2.DMatch 0000020129228A10>, < cv2.DMatch 0000020129228A70>, < cv2.DMatch 0000020129228210>, < cv2.DMatch 0000020129228430>, < cv2.DMatch 00000201292285D0>, < cv2.DMatch 00000201292286B0>, < cv2.DMatch 0000020129228150>, < cv2.DMatch 00000201292288F0>, < cv2.DMatch 0000020129228970>, < cv2.DMatch 0000020129228AB0>, < cv2.DMatch 0000020129228AD0>, < cv2.DMatch 00000201292288D0>, < cv2.DMatch 0000020129229B70>, < cv2.DMatch 0000020129229D70>, < cv2.DMatch 0000020129229130>, < cv2.DMatch 0000020129229D50>, < cv2.DMatch 0000020129229C10>, < cv2.DMatch 0000020129229B90>, < cv2.DMatch 00000201292293F0>, < cv2.DMatch 0000020129229950>, < cv2.DMatch 0000020129229870>, < cv2.DMatch 00000201292296D0>, < cv2.DMatch 00000201292294B0>, < cv2.DMatch 0000020129229050>, < cv2.DMatch 0000020129228FD0>, < cv2.DMatch 0000020129229D10>, < cv2.DMatch 0000020129229CB0>, < cv2.DMatch 0000020129229AD0>, < cv2.DMatch 0000020129229730>, < cv2.DMatch 0000020129228F70>, < cv2.DMatch 0000020129228D10>, < cv2.DMatch 0000020129229CF0>, < cv2.DMatch 0000020129229CD0>, < cv2.DMatch 0000020129229BD0>, < cv2.DMatch 0000020129229B30>, < cv2.DMatch 0000020129229AF0>, < cv2.DMatch 0000020129229410>, < cv2.DMatch 0000020129229A90>, < cv2.DMatch 00000201292299B0>), 'estimated_translation_inliers': [((705.0, 1088.0), (712.0, 79.0)), ((1135.0, 1063.0), (1142.0, 55.0)), ((1138.0, 1062.0), (1146.0, 53.0)), ((714.0, 1028.0), (721.0, 18.0)), ((645.0, 1023.0), (651.6000366210938, 15.600000381469727)), ((1148.4000244140625, 1060.800048828125), (1155.60009765625, 52.80000305175781)), ((756.0, 1036.800048828125), (764.4000244140625, 27.600000381469727)), ((495.6000061035156, 1186.800048828125), (502.5600280761719, 177.12001037597656)), ((1009.2000122070312, 1126.800048828125), (1017.6000366210938, 120.00000762939453))], 'estimated_translation_validity': {'overall': True, 'individual': [True, True, True, True, True, True, True, True, True]}}, ('a_myimages08.jpg', 'a_myimages09.jpg'): {'matches': (< cv2.DMatch 000002012921E8B0>, < cv2.DMatch 000002012921FE70>, < cv2.DMatch 000002012921CE10>, < cv2.DMatch 000002012921E930>, < cv2.DMatch 0000020129228CF0>, < cv2.DMatch 0000020129229850>, < cv2.DMatch 0000020129229810>, < cv2.DMatch 0000020129228C90>, < cv2.DMatch 0000020129229630>, < cv2.DMatch 0000020129229530>, < cv2.DMatch 0000020129229F30>, < cv2.DMatch 0000020129229890>, < cv2.DMatch 0000020129229710>, < cv2.DMatch 0000020129229E10>, < cv2.DMatch 000002012922A090>, < cv2.DMatch 0000020129229E70>, < cv2.DMatch 000002012922A070>, < cv2.DMatch 0000020129229A70>, < cv2.DMatch 0000020129228BF0>, < cv2.DMatch 0000020129229510>, < cv2.DMatch 0000020129229F10>, < cv2.DMatch 000002012922A050>, < cv2.DMatch 00000201292298B0>, < cv2.DMatch 0000020129229E90>, < cv2.DMatch 00000201292294D0>, < cv2.DMatch 00000201292291F0>, < cv2.DMatch 0000020129228EF0>, < cv2.DMatch 0000020129229D30>, < cv2.DMatch 0000020129228D50>, < cv2.DMatch 0000020129229AB0>, < cv2.DMatch 0000020129229550>, < cv2.DMatch 0000020129229090>, < cv2.DMatch 00000201292296F0>, < cv2.DMatch 0000020129229FF0>, < cv2.DMatch 000002012922A010>, < cv2.DMatch 000002012922A030>, < cv2.DMatch 0000020129229150>, < cv2.DMatch 00000201292295B0>, < cv2.DMatch 0000020129229830>, < cv2.DMatch 0000020129229170>, < cv2.DMatch 0000020129229C70>, < cv2.DMatch 0000020129228C70>, < cv2.DMatch 0000020129229DB0>, < cv2.DMatch 0000020129228DB0>, < cv2.DMatch 0000020129229F50>, < cv2.DMatch 0000020129229EF0>, < cv2.DMatch 0000020129229230>, < cv2.DMatch 0000020129229F90>, < cv2.DMatch 0000020129229570>, < cv2.DMatch 0000020129229C30>, < cv2.DMatch 0000020129229990>, < cv2.DMatch 0000020129229F70>, < cv2.DMatch 0000020129229C50>, < cv2.DMatch 0000020129229590>, < cv2.DMatch 00000201292291B0>, < cv2.DMatch 00000201292298F0>, < cv2.DMatch 0000020129228CB0>, < cv2.DMatch 0000020129229FD0>, < cv2.DMatch 0000020129229250>, < cv2.DMatch 0000020129228C50>, < cv2.DMatch 0000020129229770>, < cv2.DMatch 00000201292299D0>, < cv2.DMatch 0000020129229790>, < cv2.DMatch 0000020129228E50>, < cv2.DMatch 0000020129229650>, < cv2.DMatch 00000201292298D0>, < cv2.DMatch 0000020129229610>, < cv2.DMatch 0000020129228AF0>, < cv2.DMatch 0000020129228F90>, < cv2.DMatch 0000020129229270>, < cv2.DMatch 0000020129229D90>, < cv2.DMatch 0000020129229FB0>, < cv2.DMatch 0000020129229070>, < cv2.DMatch 0000020129229750>, < cv2.DMatch 0000020129229330>, < cv2.DMatch 0000020129229EB0>, < cv2.DMatch 000002012922A0B0>, < cv2.DMatch 0000020129228B10>, < cv2.DMatch 0000020129229910>, < cv2.DMatch 0000020129229DD0>, < cv2.DMatch 00000201292291D0>, < cv2.DMatch 0000020129229450>, < cv2.DMatch 000002012922A9B0>, < cv2.DMatch 000002012922A970>, < cv2.DMatch 000002012922AA50>, < cv2.DMatch 000002012922A610>, < cv2.DMatch 000002012922A410>, < cv2.DMatch 000002012922AD30>, < cv2.DMatch 000002012922AB30>, < cv2.DMatch 000002012922A510>, < cv2.DMatch 000002012922A350>, < cv2.DMatch 0000020129228BD0>, < cv2.DMatch 000002012922A3D0>, < cv2.DMatch 000002012922AC30>, < cv2.DMatch 000002012922AA10>, < cv2.DMatch 000002012922A910>, < cv2.DMatch 000002012922A990>, < cv2.DMatch 000002012922A8D0>, < cv2.DMatch 000002012922A290>, < cv2.DMatch 000002012922A830>, < cv2.DMatch 000002012922A930>, < cv2.DMatch 000002012922A710>, < cv2.DMatch 000002012922A4F0>, < cv2.DMatch 0000020129228F30>, < cv2.DMatch 000002012922A330>, < cv2.DMatch 000002012922A270>, < cv2.DMatch 000002012922A1B0>, < cv2.DMatch 000002012922A7D0>, < cv2.DMatch 0000020129228C10>, < cv2.DMatch 000002012922AC50>, < cv2.DMatch 000002012922A9F0>, < cv2.DMatch 000002012922A4B0>, < cv2.DMatch 000002012922A3B0>, < cv2.DMatch 000002012922A390>, < cv2.DMatch 000002012922A230>, < cv2.DMatch 0000020129229390>, < cv2.DMatch 000002012922ABF0>, < cv2.DMatch 000002012922A770>, < cv2.DMatch 00000201292293B0>, < cv2.DMatch 000002012922A750>, < cv2.DMatch 000002012922A470>, < cv2.DMatch 0000020129229970>, < cv2.DMatch 0000020129228BB0>, < cv2.DMatch 0000020129229BB0>, < cv2.DMatch 000002012922AC10>, < cv2.DMatch 000002012922A950>, < cv2.DMatch 00000201292290F0>, < cv2.DMatch 0000020129229C90>, < cv2.DMatch 0000020129229A30>, < cv2.DMatch 00000201292290D0>, < cv2.DMatch 000002012922AB70>, < cv2.DMatch 0000020129229030>, < cv2.DMatch 000002012922ABD0>, < cv2.DMatch 000002012922A310>, < cv2.DMatch 0000020129229210>, < cv2.DMatch 000002012922AA30>, < cv2.DMatch 000002012922A810>), 'estimated_translation_inliers': [((832.0, 1033.0), (840.0, 93.0)), ((1130.0, 1010.0), (1138.0, 71.0)), ((1122.0, 992.0), (1130.0, 52.0)), ((621.0, 989.0), (629.0, 48.0)), ((1513.0, 988.0), (1521.0, 52.0)), ((363.0, 987.0), (369.6000061035156, 48.0)), ((561.0, 1062.0), (569.0, 123.0)), ((794.0, 1065.0), (802.0, 126.0)), ((757.0, 1122.0), (764.0, 182.0)), ((641.0, 1136.0), (646.800048828125, 196.8000030517578)), ((636.0, 1138.0), (643.0, 199.0)), ((1553.0, 1155.0), (1558.800048828125, 220.8000030517578)), ((1099.0, 1164.0), (1109.0, 227.0)), ((318.0, 1135.2000732421875), (324.0, 196.8000030517578)), ((757.2000122070312, 1125.60009765625), (764.4000244140625, 187.20001220703125)), ((1024.800048828125, 1107.60009765625), (1033.0, 169.0)), ((282.0, 1016.4000244140625), (289.20001220703125, 78.0)), ((1513.2000732421875, 987.6000366210938), (1520.4000244140625, 51.60000228881836)), ((362.4000244140625, 986.4000244140625), (370.08001708984375, 47.52000045776367)), ((1530.0, 1150.800048828125), (1538.4000244140625, 214.8000030517578)), ((1554.0001220703125, 1154.4000244140625), (1562.4000244140625, 218.8800048828125)), ((1095.60009765625, 1161.60009765625), (1106.0, 224.0)), ((1459.2000732421875, 1170.0), (1467.60009765625, 236.40000915527344)), ((282.2400207519531, 1016.6400146484375), (289.44000244140625, 77.76000213623047)), ((1452.9600830078125, 1170.7200927734375), (1461.60009765625, 236.16000366210938)), ((1537.9200439453125, 1169.280029296875), (1548.0001220703125, 233.28001403808594)), ((1100.1600341796875, 1164.9600830078125), (1108.800048828125, 226.8000030517578)), ((1529.280029296875, 1149.1199951171875), (1537.9200439453125, 214.5600128173828)), ((639.3600463867188, 1134.7200927734375), (646.5599975585938, 195.8400115966797)), ((635.0400390625, 1128.9600830078125), (642.2400512695312, 190.0800018310547)), ((1512.0, 987.8400268554688), (1520.6400146484375, 51.840003967285156)), ((1018.0800170898438, 1105.9200439453125), (1027.2000732421875, 169.20001220703125)), ((1229.760009765625, 1033.9200439453125), (1238.4000244140625, 96.4800033569336)), ((1513.4400634765625, 967.6800537109375), (1522.080078125, 31.68000030517578))], 'estimated_translation_validity': {'overall': True, 'individual': [True, True, True, True, True, True, True, True, True, True, True, True, True, True, True, True, True, True, True, True, True, True, True, True, True, True, True, True, True, True, True, True, True, True]}}, ('a_myimages09.jpg', 'a_myimages10.jpg'): {'matches': (< cv2.DMatch 000002012921FDF0>, < cv2.DMatch 000002012921FEB0>, < cv2.DMatch 000002012921F090>, < cv2.DMatch 000002012921CD90>, < cv2.DMatch 000002012922BF70>, < cv2.DMatch 00000201292292D0>, < cv2.DMatch 000002012922BDF0>, < cv2.DMatch 0000020129229A10>, < cv2.DMatch 000002012922A7B0>, < cv2.DMatch 000002012922BE10>, < cv2.DMatch 000002012922A3F0>, < cv2.DMatch 0000020129228ED0>, < cv2.DMatch 000002012922BCB0>, < cv2.DMatch 000002012922A130>, < cv2.DMatch 000002012922A250>, < cv2.DMatch 000002012922BB50>, < cv2.DMatch 000002012922A590>, < cv2.DMatch 000002012922BDD0>, < cv2.DMatch 000002012922A1D0>, < cv2.DMatch 0000020129228E10>, < cv2.DMatch 000002012922BFB0>, < cv2.DMatch 000002012922BE30>, < cv2.DMatch 000002012922ACF0>, < cv2.DMatch 0000020129229370>, < cv2.DMatch 000002012922BF10>, < cv2.DMatch 000002012922A4D0>, < cv2.DMatch 000002012922A110>, < cv2.DMatch 0000020129228FF0>, < cv2.DMatch 000002012922BDB0>, < cv2.DMatch 000002012922A570>, < cv2.DMatch 000002012922A2D0>, < cv2.DMatch 000002012922AD10>, < cv2.DMatch 000002012922BE90>, < cv2.DMatch 000002012922BE50>, < cv2.DMatch 0000020129229190>, < cv2.DMatch 000002012922AB50>, < cv2.DMatch 000002012922AD50>, < cv2.DMatch 000002012922A2B0>, < cv2.DMatch 000002012922A5D0>, < cv2.DMatch 000002012922A6B0>, < cv2.DMatch 000002012922C5F0>, < cv2.DMatch 000002012922C570>, < cv2.DMatch 000002012922CCB0>, < cv2.DMatch 000002012922CA30>, < cv2.DMatch 000002012922C090>, < cv2.DMatch 000002012922C0F0>, < cv2.DMatch 000002012922C410>, < cv2.DMatch 000002012922C7F0>, < cv2.DMatch 000002012922CED0>, < cv2.DMatch 000002012922C990>, < cv2.DMatch 000002012922C8B0>, < cv2.DMatch 000002012922C870>, < cv2.DMatch 000002012922C0B0>, < cv2.DMatch 000002012922CD90>, < cv2.DMatch 000002012922CC90>, < cv2.DMatch 000002012922C710>, < cv2.DMatch 000002012922C2B0>, < cv2.DMatch 000002012922CDF0>, < cv2.DMatch 000002012922CC50>, < cv2.DMatch 000002012922CBF0>, < cv2.DMatch 000002012922C630>, < cv2.DMatch 000002012922C470>, < cv2.DMatch 000002012922C5D0>, < cv2.DMatch 000002012922C590>, < cv2.DMatch 000002012922C110>, < cv2.DMatch 000002012922C270>, < cv2.DMatch 000002012922D110>, < cv2.DMatch 000002012922C9D0>, < cv2.DMatch 000002012922C310>, < cv2.DMatch 000002012922D0F0>, < cv2.DMatch 000002012922CAB0>, < cv2.DMatch 000002012922C9B0>, < cv2.DMatch 000002012922C770>, < cv2.DMatch 000002012922C3B0>, < cv2.DMatch 000002012922CEB0>, < cv2.DMatch 000002012922C330>, < cv2.DMatch 000002012922C190>, < cv2.DMatch 000002012922C170>, < cv2.DMatch 000002012922CC70>, < cv2.DMatch 000002012922C970>, < cv2.DMatch 000002012922C950>, < cv2.DMatch 000002012922C8F0>, < cv2.DMatch 000002012922C5B0>, < cv2.DMatch 000002012922C150>, < cv2.DMatch 000002012922C130>, < cv2.DMatch 000002012922C210>, < cv2.DMatch 000002012922C050>, < cv2.DMatch 000002012922C650>, < cv2.DMatch 000002012922C4D0>, < cv2.DMatch 000002012922C4B0>, < cv2.DMatch 000002012922C1D0>, < cv2.DMatch 000002012922C1B0>, < cv2.DMatch 000002012922CE90>, < cv2.DMatch 000002012922CB10>, < cv2.DMatch 000002012922C350>, < cv2.DMatch 000002012922C670>, < cv2.DMatch 000002012922C1F0>, < cv2.DMatch 000002012922D130>, < cv2.DMatch 000002012922CFF0>, < cv2.DMatch 000002012922CD10>, < cv2.DMatch 000002012922C890>, < cv2.DMatch 000002012922C790>, < cv2.DMatch 000002012922C4F0>, < cv2.DMatch 000002012922C510>, < cv2.DMatch 000002012922C0D0>, < cv2.DMatch 000002012922C070>, < cv2.DMatch 000002012922CF10>, < cv2.DMatch 000002012922C610>, < cv2.DMatch 000002012922CDD0>, < cv2.DMatch 000002012922C430>, < cv2.DMatch 000002012922CC30>, < cv2.DMatch 000002012922C8D0>, < cv2.DMatch 000002012922C230>, < cv2.DMatch 000002012922C030>, < cv2.DMatch 000002012922C370>, < cv2.DMatch 000002012922C850>, < cv2.DMatch 000002012922C3D0>, < cv2.DMatch 000002012922CDB0>, < cv2.DMatch 000002012922C290>, < cv2.DMatch 000002012922C6B0>, < cv2.DMatch 000002012922CF70>, < cv2.DMatch 000002012922CA90>, < cv2.DMatch 000002012922C7D0>, < cv2.DMatch 000002012922CA10>, < cv2.DMatch 000002012922CCF0>, < cv2.DMatch 000002012922C490>, < cv2.DMatch 000002012922C530>, < cv2.DMatch 000002012922C730>, < cv2.DMatch 000002012922C6D0>, < cv2.DMatch 000002012922CA50>, < cv2.DMatch 000002012922CAF0>, < cv2.DMatch 000002012922CCD0>, < cv2.DMatch 000002012922C2D0>, < cv2.DMatch 000002012922C690>, < cv2.DMatch 000002012922CB30>, < cv2.DMatch 000002012922CB70>, < cv2.DMatch 000002012922CFB0>, < cv2.DMatch 000002012922C390>), 'estimated_translation_inliers': [((398.0, 1152.0), (402.0, 437.0)), ((892.0, 1039.0), (896.0, 324.0)), ((1370.0, 921.0), (1375.2000732421875, 206.40000915527344)), ((458.0, 1120.0), (461.0, 405.0)), ((1157.0, 1076.0), (1162.0, 360.0)), ((1499.0, 777.0), (1503.0, 63.0)), ((1513.0, 785.0), (1518.0, 70.0)), ((1514.0, 791.0), (1517.0, 77.0)), ((531.0, 945.0), (535.0, 229.0)), ((789.0, 858.0), (793.0, 142.0)), ((740.0, 957.0), (745.0, 241.0)), ((1415.0, 850.0), (1420.0, 136.0)), ((745.0, 957.0), (748.0, 241.0)), ((971.0, 1188.0), (976.0, 473.0)), ((332.0, 849.0), (336.0, 133.0)), ((741.0, 961.0), (745.0, 245.0)), ((903.0, 1140.0), (908.0, 425.0)), ((787.2000122070312, 855.6000366210938), (792.0000610351562, 139.20001220703125)), ((525.6000366210938, 954.0000610351562), (529.2000122070312, 237.60000610351562)), ((1412.4000244140625, 849.6000366210938), (1419.840087890625, 135.36000061035156)), ((332.4000244140625, 849.6000366210938), (336.0, 133.20001220703125)), ((1104.0, 846.0000610351562), (1107.3599853515625, 129.60000610351562)), ((524.4000244140625, 951.6000366210938), (528.4800415039062, 234.7200164794922)), ((1156.800048828125, 1076.4000244140625), (1161.60009765625, 360.0)), ((1344.0, 1074.0), (1350.0, 360.0)), ((1513.2000732421875, 790.800048828125), (1516.800048828125, 76.80000305175781)), ((524.4000244140625, 948.0000610351562), (528.0, 231.60000610351562)), ((788.4000244140625, 858.0000610351562), (793.2000122070312, 141.60000610351562)), ((528.0, 945.6000366210938), (531.6000366210938, 229.20001220703125)), ((525.6000366210938, 945.6000366210938), (529.2000122070312, 229.20001220703125)), ((952.800048828125, 877.2000122070312), (957.6000366210938, 160.8000030517578)), ((1270.800048828125, 1015.2000122070312), (1275.840087890625, 299.52001953125)), ((1380.0, 920.4000244140625), (1385.280029296875, 204.48001098632812)), ((342.0, 958.800048828125), (346.8000183105469, 242.40000915527344)), ((745.2000122070312, 956.4000244140625), (748.800048828125, 240.00001525878906)), ((528.0, 955.2000122070312), (532.800048828125, 238.8000030517578)), ((331.20001220703125, 858.0000610351562), (334.8000183105469, 142.8000030517578)), ((975.6000366210938, 1177.2000732421875), (980.4000244140625, 464.4000244140625)), ((787.6800537109375, 855.3600463867188), (792.0000610351562, 139.6800079345703)), ((1513.4400634765625, 790.56005859375), (1516.320068359375, 76.31999969482422)), ((331.20001220703125, 848.1600341796875), (335.52001953125, 132.48001098632812))], 'estimated_translation_validity': {'overall': True, 'individual': [True, True, True, True, True, True, True, True, True, True, True, True, True, True, True, True, True, True, True, True, True, True, True, True, True, True, True, True, True, True, True, True, True, True, True, True, True, True, True, True, True]}}}}\n"
     ]
    }
   ],
   "source": [
    "ImageM=ImageManager(mis_project.get_image_paths())\n",
    "\n",
    "OrbM=ORBManager(ImageM,default_ORB_parameters={\"nfeatures\": 1000,\"edgeThreshold\": 5 })\n",
    "\n",
    "AlignCVM=AlignCVManager(ImageM,OrbM)\n",
    "\n",
    "match_combinations=generate_match_combinations(strategy=\"order\",order=sorted(mis_project.get_image_names()))\n",
    "\n",
    "alignment_id=AlignCVM.run_alignment(match_combinations)\n",
    "alignment_result=AlignCVM.get_alignment(alignment_id)\n",
    "print(alignment_result)"
   ]
  },
  {
   "cell_type": "code",
   "execution_count": 4,
   "metadata": {},
   "outputs": [
    {
     "name": "stdout",
     "output_type": "stream",
     "text": [
      "Warning: Match ['a_myimages01.jpg', 'a_myimages02.jpg'] not valid. No relation saved.\n",
      "Warning: Match ['a_myimages02.jpg', 'a_myimages03.jpg'] not valid. No relation saved.\n",
      "Prior Alignments\n"
     ]
    },
    {
     "data": {
      "text/plain": [
       "[[('a_myimages01.jpg', 'a_myimages02.jpg'), (12, -1088)],\n",
       " [('a_myimages02.jpg', 'a_myimages03.jpg'), (8, -1141)],\n",
       " [('a_myimages03.jpg', 'a_myimages04.jpg'), (-129, -1058)],\n",
       " [('a_myimages04.jpg', 'a_myimages05.jpg'), (11, -943)],\n",
       " [('a_myimages05.jpg', 'a_myimages06.jpg'), (5, -860)],\n",
       " [('a_myimages06.jpg', 'a_myimages07.jpg'), (10, -990)],\n",
       " [('a_myimages07.jpg', 'a_myimages08.jpg'), (9, -1009)],\n",
       " [('a_myimages08.jpg', 'a_myimages09.jpg'), (9, -939)],\n",
       " [('a_myimages09.jpg', 'a_myimages10.jpg'), (3, -722)]]"
      ]
     },
     "metadata": {},
     "output_type": "display_data"
    },
    {
     "name": "stdout",
     "output_type": "stream",
     "text": [
      "Computer Vision Alignments\n"
     ]
    },
    {
     "data": {
      "text/plain": [
       "[[('a_myimages03.jpg', 'a_myimages04.jpg'), (-123, -1059)],\n",
       " [('a_myimages04.jpg', 'a_myimages05.jpg'), (9, -942)],\n",
       " [('a_myimages05.jpg', 'a_myimages06.jpg'), (6, -857)],\n",
       " [('a_myimages06.jpg', 'a_myimages07.jpg'), (7, -990)],\n",
       " [('a_myimages07.jpg', 'a_myimages08.jpg'), (7, -1008)],\n",
       " [('a_myimages08.jpg', 'a_myimages09.jpg'), (7, -937)],\n",
       " [('a_myimages09.jpg', 'a_myimages10.jpg'), (4, -715)]]"
      ]
     },
     "metadata": {},
     "output_type": "display_data"
    }
   ],
   "source": [
    "mis_project_copy=load_mis(mis_filepath)\n",
    "mis_project_copy._relations=[]\n",
    "\n",
    "AlignCVM.update_mis(mis_project_copy,alignment_id)\n",
    "#TODO add an update relation option?\n",
    "print(\"Prior Alignments\")\n",
    "display(mis_project.get_rels(\"r\"))\n",
    "print(\"Computer Vision Alignments\")\n",
    "display(mis_project_copy.get_rels(\"r\"))"
   ]
  },
  {
   "cell_type": "code",
   "execution_count": 9,
   "metadata": {},
   "outputs": [],
   "source": [
    "# save_mis(r\"..\\\\..\\example\\data\\set_a\\mymis_aligncv.mis\",mis_project_copy)"
   ]
  }
 ],
 "metadata": {
  "kernelspec": {
   "display_name": ".venv",
   "language": "python",
   "name": "python3"
  },
  "language_info": {
   "codemirror_mode": {
    "name": "ipython",
    "version": 3
   },
   "file_extension": ".py",
   "mimetype": "text/x-python",
   "name": "python",
   "nbconvert_exporter": "python",
   "pygments_lexer": "ipython3",
   "version": "3.10.8"
  }
 },
 "nbformat": 4,
 "nbformat_minor": 2
}

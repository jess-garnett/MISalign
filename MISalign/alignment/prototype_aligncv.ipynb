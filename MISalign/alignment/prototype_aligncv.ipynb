{
 "cells": [
  {
   "cell_type": "markdown",
   "metadata": {},
   "source": [
    "# Sample Data Ingest"
   ]
  },
  {
   "cell_type": "code",
   "execution_count": 1,
   "metadata": {},
   "outputs": [],
   "source": [
    "prototyping_datafolder=r\"C:\\Users\\drago\\Box\\p_MIS-MISalign\\data_AlignCV\""
   ]
  },
  {
   "cell_type": "code",
   "execution_count": 2,
   "metadata": {},
   "outputs": [],
   "source": [
    "from os import listdir,path\n",
    "import pandas as pd"
   ]
  },
  {
   "cell_type": "code",
   "execution_count": null,
   "metadata": {},
   "outputs": [],
   "source": [
    "data_set=dict()\n",
    "for datafolder in listdir(prototyping_datafolder):\n",
    "    for sample in listdir(path.join(prototyping_datafolder,datafolder)):\n",
    "        entry=dict()\n",
    "        entry[\"dataset\"]=datafolder\n",
    "        entry[\"path\"]=path.join(prototyping_datafolder,datafolder,sample)\n",
    "        data_set[sample]=entry\n",
    "df=pd.DataFrame(data_set).T\n",
    "df"
   ]
  },
  {
   "cell_type": "code",
   "execution_count": null,
   "metadata": {},
   "outputs": [],
   "source": [
    "print(df.iloc[0].path)\n",
    "display(df[df.dataset==\"data_nov\"])"
   ]
  },
  {
   "cell_type": "markdown",
   "metadata": {},
   "source": [
    "# Image opening"
   ]
  },
  {
   "cell_type": "code",
   "execution_count": 46,
   "metadata": {},
   "outputs": [],
   "source": [
    "from PIL import Image as PILImage"
   ]
  },
  {
   "cell_type": "code",
   "execution_count": 6,
   "metadata": {},
   "outputs": [],
   "source": [
    "PILImage.open(df.iloc[0].path).show()"
   ]
  },
  {
   "cell_type": "markdown",
   "metadata": {},
   "source": [
    "# Package Setups"
   ]
  },
  {
   "cell_type": "markdown",
   "metadata": {},
   "source": [
    "## OpenCV"
   ]
  },
  {
   "cell_type": "code",
   "execution_count": 7,
   "metadata": {},
   "outputs": [],
   "source": [
    "# https://docs.opencv.org/4.x/d5/de5/tutorial_py_setup_in_windows.html\n",
    "# https://pypi.org/project/opencv-python/#manual-builds\n",
    "# %pip install opencv-python\n",
    "import cv2 as cv"
   ]
  },
  {
   "cell_type": "code",
   "execution_count": null,
   "metadata": {},
   "outputs": [],
   "source": [
    "# https://docs.opencv.org/4.x/d6/d00/tutorial_py_root.html\n",
    "# https://docs.opencv.org/4.x/db/d27/tutorial_py_table_of_contents_feature2d.html"
   ]
  },
  {
   "cell_type": "markdown",
   "metadata": {},
   "source": [
    "### SIFT"
   ]
  },
  {
   "cell_type": "code",
   "execution_count": null,
   "metadata": {},
   "outputs": [],
   "source": [
    "# SIFT https://docs.opencv.org/4.x/da/df5/tutorial_py_sift_intro.html\n",
    "import numpy as np\n",
    "import cv2 as cv\n",
    " \n",
    "img = cv.imread(df.iloc[0].path)\n",
    "gray= cv.cvtColor(img,cv.COLOR_BGR2GRAY)\n",
    " \n",
    "sift = cv.SIFT_create()\n",
    "kp = sift.detect(gray,None)\n",
    " \n",
    "# img=cv.drawKeypoints(gray,kp,img)\n",
    "img=cv.drawKeypoints(gray,kp,img,flags=cv.DRAW_MATCHES_FLAGS_DRAW_RICH_KEYPOINTS)\n",
    " \n",
    "# cv.imshow('sift_keypoints',img)\n",
    "PILImage.fromarray(img).show()\n",
    "# display(PILImage.fromarray(img))"
   ]
  },
  {
   "cell_type": "code",
   "execution_count": null,
   "metadata": {},
   "outputs": [],
   "source": [
    "kp,des = sift.compute(gray,kp)\n",
    "display(des.shape)"
   ]
  },
  {
   "cell_type": "markdown",
   "metadata": {},
   "source": [
    "### ORB"
   ]
  },
  {
   "cell_type": "code",
   "execution_count": null,
   "metadata": {},
   "outputs": [],
   "source": [
    "# https://docs.opencv.org/4.x/d1/d89/tutorial_py_orb.html\n",
    "img = cv.imread(df.iloc[-2].path)\n",
    "gray= cv.cvtColor(img,cv.COLOR_BGR2GRAY)\n",
    "\n",
    "# Initiate ORB detector\n",
    "orb = cv.ORB_create(nfeatures=500,edgeThreshold=5)\n",
    " \n",
    "# find the keypoints with ORB\n",
    "kp = orb.detect(gray,None)\n",
    " \n",
    "# compute the descriptors with ORB\n",
    "kp, des = orb.compute(gray, kp)\n",
    " \n",
    "# draw only keypoints location,not size and orientation\n",
    "# img2 = cv.drawKeypoints(gray, kp, None, color=(0,255,0), flags=0)\n",
    "img2=cv.drawKeypoints(gray,kp,img,flags=cv.DRAW_MATCHES_FLAGS_DRAW_RICH_KEYPOINTS)\n",
    "PILImage.fromarray(img2).show()\n",
    "# PILImage.fromarray(img2).save(\"241210_ORB_sem3_nf500_et5.png\")"
   ]
  },
  {
   "cell_type": "code",
   "execution_count": null,
   "metadata": {},
   "outputs": [],
   "source": [
    "display(des.shape)"
   ]
  },
  {
   "cell_type": "markdown",
   "metadata": {},
   "source": [
    "### Matcher"
   ]
  },
  {
   "cell_type": "code",
   "execution_count": null,
   "metadata": {},
   "outputs": [],
   "source": [
    "# https://docs.opencv.org/4.x/dc/dc3/tutorial_py_matcher.html"
   ]
  },
  {
   "cell_type": "markdown",
   "metadata": {},
   "source": [
    "#### Brute-Force Matching w/ ORB"
   ]
  },
  {
   "cell_type": "code",
   "execution_count": 11,
   "metadata": {},
   "outputs": [],
   "source": [
    "import numpy as np\n",
    "import cv2 as cv\n",
    "import matplotlib.pyplot as plt\n",
    " \n",
    "img1 = cv.imread(df.iloc[0].path,cv.IMREAD_GRAYSCALE)          # queryImage\n",
    "img2 = cv.imread(df.iloc[1].path,cv.IMREAD_GRAYSCALE) # trainImage\n",
    " \n",
    "# Initiate ORB detector\n",
    "orb = cv.ORB_create()\n",
    " \n",
    "# find the keypoints and descriptors with ORB\n",
    "kp1, des1 = orb.detectAndCompute(img1,None)\n",
    "kp2, des2 = orb.detectAndCompute(img2,None)"
   ]
  },
  {
   "cell_type": "code",
   "execution_count": null,
   "metadata": {},
   "outputs": [],
   "source": [
    "# create BFMatcher object\n",
    "bf = cv.BFMatcher(cv.NORM_HAMMING, crossCheck=True)\n",
    " \n",
    "# Match descriptors.\n",
    "matches = bf.match(des1,des2)\n",
    " \n",
    "# Sort them in the order of their distance.\n",
    "matches = sorted(matches, key = lambda x:x.distance)\n",
    " \n",
    "# Draw first 10 matches.\n",
    "img3 = cv.drawMatches(img1,kp1,img2,kp2,matches[:10],None,flags=cv.DrawMatchesFlags_NOT_DRAW_SINGLE_POINTS)\n",
    " \n",
    "plt.imshow(img3)\n",
    "plt.show()"
   ]
  },
  {
   "cell_type": "code",
   "execution_count": null,
   "metadata": {},
   "outputs": [],
   "source": [
    "kp2[matches[0].trainIdx].pt\n",
    "kp1[matches[0].queryIdx].pt"
   ]
  },
  {
   "cell_type": "code",
   "execution_count": null,
   "metadata": {},
   "outputs": [],
   "source": [
    "for i,match in enumerate(matches[:]):\n",
    "    train_pt=kp2[match.trainIdx].pt\n",
    "    query_pt=kp1[match.queryIdx].pt\n",
    "    x_offset=train_pt[0]-query_pt[0]\n",
    "    y_offset=train_pt[1]-query_pt[1]\n",
    "    # print([x_offset],[y_offset])\n",
    "    # plt.plot([0,x_offset],[0,y_offset],alpha=0.1)\n",
    "    plt.plot([x_offset],[y_offset],\"o\",alpha=0.05,markersize=20)\n",
    "    if i<50:\n",
    "        plt.plot([0,x_offset],[0,y_offset],alpha=0.05)\n",
    "plt.xlim([-1200,1200])\n",
    "plt.ylim([-800,800])\n",
    "plt.title(\"Matches Visualized - all matches dots - top 50 matches lines - 0.05 alpha\")\n",
    "plt.show()"
   ]
  },
  {
   "cell_type": "markdown",
   "metadata": {},
   "source": [
    "## SimpleCV"
   ]
  },
  {
   "cell_type": "code",
   "execution_count": null,
   "metadata": {},
   "outputs": [],
   "source": [
    "# Paused to focus on moving forward with OpenCV"
   ]
  },
  {
   "cell_type": "markdown",
   "metadata": {},
   "source": [
    "## Scikit-Image"
   ]
  },
  {
   "cell_type": "code",
   "execution_count": null,
   "metadata": {},
   "outputs": [],
   "source": [
    "# Paused to focus on moving forward with OpenCV"
   ]
  },
  {
   "cell_type": "markdown",
   "metadata": {},
   "source": [
    "# Set Processing"
   ]
  },
  {
   "cell_type": "code",
   "execution_count": null,
   "metadata": {},
   "outputs": [],
   "source": [
    "# set_df=df[df.dataset==\"data_hdf\"].copy() # 2x2 high distinct feature set\n",
    "set_df=df[df.dataset==\"data_sem\"].copy() # 4x1 low overlap set\n",
    "set_df"
   ]
  },
  {
   "cell_type": "code",
   "execution_count": null,
   "metadata": {},
   "outputs": [],
   "source": [
    "orb_data=dict()\n",
    "for name,sample in set_df.iterrows():\n",
    "    # print(sample)\n",
    "    img = cv.imread(sample.path, cv.IMREAD_GRAYSCALE)\n",
    "    orb = cv.ORB_create(edgeThreshold=5)\n",
    "    kp, des = orb.detectAndCompute(img,None)\n",
    "    orb_data[name]={\"img\":img,\"kp\":kp,\"des\":des}\n",
    "orb_df=pd.DataFrame(orb_data).T\n",
    "orb_df"
   ]
  },
  {
   "cell_type": "code",
   "execution_count": 18,
   "metadata": {},
   "outputs": [],
   "source": [
    "from itertools import combinations"
   ]
  },
  {
   "cell_type": "code",
   "execution_count": null,
   "metadata": {},
   "outputs": [],
   "source": [
    "img_width=2560\n",
    "img_height=1672\n",
    "match_combs=combinations(set_df.index.to_list(),2)\n",
    "# print(list(match_combs))\n",
    "match_data=dict()\n",
    "for m1,m2 in match_combs:\n",
    "    print(m1,m2)\n",
    "    bf = cv.BFMatcher(cv.NORM_HAMMING, crossCheck=True)\n",
    "    matches = bf.match(orb_df[\"des\"][m1],orb_df[\"des\"][m2])\n",
    "    matches = sorted(matches, key = lambda x:x.distance)\n",
    "    img3 = cv.drawMatches(orb_df[\"img\"][m1],orb_df[\"kp\"][m1],orb_df[\"img\"][m2],orb_df[\"kp\"][m2],matches[:10],None,flags=cv.DrawMatchesFlags_NOT_DRAW_SINGLE_POINTS)\n",
    "    plt.imshow(img3)\n",
    "    plt.savefig(f\"241211_OCV_MOSet_{m1[7:11]}-{m2[10:11]}-matches.png\",bbox_inches=\"tight\",dpi=300)\n",
    "    plt.show()\n",
    "    for i,match in enumerate(matches[:]):\n",
    "        train_pt=orb_df[\"kp\"][m2][match.trainIdx].pt\n",
    "        query_pt=orb_df[\"kp\"][m1][match.queryIdx].pt\n",
    "        x_offset=train_pt[0]-query_pt[0]\n",
    "        y_offset=train_pt[1]-query_pt[1]\n",
    "        plt.plot([x_offset],[y_offset],\"o\",alpha=0.05,markersize=20)\n",
    "        if i<50:\n",
    "            plt.plot([0,x_offset],[0,y_offset],alpha=0.05)\n",
    "    plt.xlim([-img_width,img_width])\n",
    "    plt.ylim([-img_height,img_height])\n",
    "    plt.savefig(f\"241211_OCV_MOSet_{m1[7:11]}-{m2[10:11]}-offsets.png\",bbox_inches=\"tight\")\n",
    "    plt.show()"
   ]
  },
  {
   "cell_type": "markdown",
   "metadata": {},
   "source": [
    "# Offset Determination"
   ]
  },
  {
   "cell_type": "markdown",
   "metadata": {},
   "source": [
    "## Prototyping\n",
    "- lro2-3 for clean-defined\n",
    "- lro0-2 for fuzzy rotated\n",
    "- lro1-2 for similar feature but no match\n",
    "- hdf0-2 for corner barely match\n",
    "- hdf0-1 for clean-defined\n",
    "- hdf1-3 for clean-defined\n",
    "- lov2-3 for fuzzy match\n",
    "- lov1-2 for fuzzy match\n",
    "- ldf0-3 for clean match w/ noise\n",
    "- ldf2-3 for clean match w/ noise\n"
   ]
  },
  {
   "cell_type": "code",
   "execution_count": null,
   "metadata": {},
   "outputs": [],
   "source": [
    "samples_short=[\"sem0\",\"sem1\",\"sem2\",\"sem3\",\"sem4\",\"sem5\"]#[\"lro0\",\"lro1\",\"lro2\",\"lro3\",\"hdf0\",\"hdf1\",\"hdf2\",\"hdf3\",\"lov1\",\"lov2\",\"lov3\",\"ldf0\",\"ldf2\",\"ldf3\"]\n",
    "samples=pd.DataFrame([df[df.index.str.contains(x)].iloc[0] for x in samples_short])\n",
    "samples"
   ]
  },
  {
   "cell_type": "code",
   "execution_count": null,
   "metadata": {},
   "outputs": [],
   "source": [
    "orb_data=dict()\n",
    "for name,sample in samples.iterrows():\n",
    "    # print(sample)\n",
    "    img = cv.imread(sample.path, cv.IMREAD_GRAYSCALE)\n",
    "    orb = cv.ORB_create(nfeatures=500,edgeThreshold=5)\n",
    "    kp, des = orb.detectAndCompute(img,None)\n",
    "    orb_data[name]={\"img\":img,\"kp\":kp,\"des\":des}\n",
    "orb_df=pd.DataFrame(orb_data).T\n",
    "orb_df"
   ]
  },
  {
   "cell_type": "code",
   "execution_count": 24,
   "metadata": {},
   "outputs": [],
   "source": [
    "from scipy import ndimage"
   ]
  },
  {
   "cell_type": "code",
   "execution_count": null,
   "metadata": {},
   "outputs": [],
   "source": [
    "# match_combs=combinations(orb_df.index.to_list(),2)\n",
    "# match_combs=((\"lro2\",\"lro3\"),(\"lro0\",\"lro2\"),(\"lro1\",\"lro2\"),(\"hdf0\",\"hdf2\"),(\"hdf0\",\"hdf1\"),(\"hdf1\",\"hdf3\"),(\"lov2\",\"lov3\"),(\"lov1\",\"lov2\"),(\"ldf0\",\"ldf3\"),(\"ldf2\",\"ldf3\"))\n",
    "# match_combs=((\"sem0\",\"sem1\"),(\"sem2\",\"sem3\"),(\"sem3\",\"sem4\"),(\"sem4\",\"sem5\"),(\"sem3\",\"sem5\"))\n",
    "match_combs=((\"sem0\",\"sem1\"),(\"sem2\",\"sem3\"),(\"sem3\",\"sem4\"),(\"sem4\",\"sem5\"),(\"sem3\",\"sem5\"))\n",
    "match_combs=[(df.index[df.index.str.contains(x[0])][0],df.index[df.index.str.contains(x[1])][0]) for x in match_combs]\n",
    "\n",
    "match_combs"
   ]
  },
  {
   "cell_type": "code",
   "execution_count": null,
   "metadata": {},
   "outputs": [],
   "source": [
    "img_width=2560\n",
    "img_height=1672\n",
    "for m1,m2 in match_combs:\n",
    "    bf = cv.BFMatcher(cv.NORM_HAMMING, crossCheck=True)\n",
    "    matches = bf.match(orb_df[\"des\"][m1],orb_df[\"des\"][m2])\n",
    "    matches = sorted(matches, key = lambda x:x.distance)\n",
    "    print([m.distance for m in matches])\n",
    "    offset_grid=np.zeros((2*img_width,2*img_height),dtype=float) # change this to match 2x image distance.(3200,2400)\n",
    "    for i,match in enumerate(matches[:]):\n",
    "        train_pt=orb_df[\"kp\"][m2][match.trainIdx].pt\n",
    "        query_pt=orb_df[\"kp\"][m1][match.queryIdx].pt\n",
    "        x_offset_adj=int(train_pt[0]-query_pt[0]+img_width) #1600/1200 centers in numpy array/image.\n",
    "        y_offset_adj=int(train_pt[1]-query_pt[1]+img_height)\n",
    "        offset_grid[x_offset_adj,y_offset_adj]+=1000/(match.distance**2)\n",
    "    offset_grid=ndimage.gaussian_filter(offset_grid,10)\n",
    "    print(m1,m2,\"Offset:\",np.array(np.unravel_index(np.argmax(offset_grid),offset_grid.shape))-np.array([img_width,img_height]))\n",
    "    plt.title(\" \".join([m1,m2,str(tuple(np.array(np.unravel_index(np.argmax(offset_grid),offset_grid.shape))-np.array([img_width,img_height]))),f\"{offset_grid.max():.5f}\"]))\n",
    "    plt.imshow(offset_grid.T)\n",
    "    plt.colorbar()\n",
    "    plt.savefig(f\"241210_OffsetMap_{m1[7:11]}-{m2[10:11]}-offmap-1000imds-g10_nf500_et5.png\",bbox_inches=\"tight\",dpi=300)\n",
    "    plt.show()\n",
    "    # img3 = cv.drawMatches(orb_df[\"img\"][m1],orb_df[\"kp\"][m1],orb_df[\"img\"][m2],orb_df[\"kp\"][m2],matches[:10],None,flags=cv.DrawMatchesFlags_NOT_DRAW_SINGLE_POINTS)\n",
    "    # plt.imshow(img3)\n",
    "    # plt.savefig(f\"240815_OCV_MOSet_{m1[7:11]}-{m2[10:11]}-matches.png\",bbox_inches=\"tight\",dpi=300)\n",
    "    # plt.show()\n",
    "    # for i,match in enumerate(matches[:]):\n",
    "    #     train_pt=orb_df[\"kp\"][m2][match.trainIdx].pt\n",
    "    #     query_pt=orb_df[\"kp\"][m1][match.queryIdx].pt\n",
    "    #     x_offset=train_pt[0]-query_pt[0]\n",
    "    #     y_offset=train_pt[1]-query_pt[1]\n",
    "    #     plt.plot([x_offset],[y_offset],\"o\",alpha=0.05,markersize=20)\n",
    "    #     if i<50:\n",
    "    #         plt.plot([0,x_offset],[0,y_offset],alpha=0.05)\n",
    "    # plt.xlim([-1600,1600])\n",
    "    # plt.ylim([-1200,1200])\n",
    "    # plt.savefig(f\"240815_OCV_MOSet_{m1[7:11]}-{m2[10:11]}-offsets.png\",bbox_inches=\"tight\")\n",
    "    # plt.show()"
   ]
  },
  {
   "cell_type": "code",
   "execution_count": null,
   "metadata": {},
   "outputs": [],
   "source": [
    "# testing way to get/compare local maxima. Code from `https://stackoverflow.com/questions/9111711/get-coordinates-of-local-maxima-in-2d-array-above-certain-value`\n",
    "import numpy as np\n",
    "import scipy.ndimage as ndimage\n",
    "import matplotlib.pyplot as plt\n",
    "\n",
    "\n",
    "neighborhood_size = 50\n",
    "threshold = 0.0005\n",
    "\n",
    "data = offset_grid.T\n",
    "\n",
    "data_max = ndimage.maximum_filter(data, neighborhood_size)\n",
    "maxima = (data == data_max)\n",
    "data_min = ndimage.minimum_filter(data, neighborhood_size)\n",
    "diff = ((data_max - data_min) > threshold)\n",
    "maxima[diff == 0] = 0\n",
    "\n",
    "labeled, num_objects = ndimage.label(maxima)\n",
    "xy = np.array(ndimage.center_of_mass(data, labeled, range(1, num_objects+1)))\n",
    "\n",
    "plt.imshow(data)\n",
    "\n",
    "plt.autoscale(False)\n",
    "plt.plot(xy[:, 1], xy[:, 0], 'rx')\n"
   ]
  },
  {
   "cell_type": "markdown",
   "metadata": {},
   "source": [
    "# Non-array/blended match>offset"
   ]
  },
  {
   "cell_type": "code",
   "execution_count": null,
   "metadata": {},
   "outputs": [],
   "source": [
    "len(matches)"
   ]
  },
  {
   "cell_type": "code",
   "execution_count": 119,
   "metadata": {},
   "outputs": [],
   "source": [
    "# image_from=\"sample_sem0.tif\"\n",
    "# image_to=\"sample_sem1.tif\"\n",
    "# sem 0 to sem 1: [48 1101] from offset map\n",
    "# image_from=\"sample_sem3.tif\"\n",
    "# image_to=\"sample_sem5.tif\"\n",
    "# sem 3 to sem 5: No real relation\n",
    "image_from=\"sample_sem3.tif\"\n",
    "image_to=\"sample_sem4.tif\"\n",
    "# 3>4 has distinct relation in offset map\n",
    "\n",
    "matches = bf.match(orb_df[\"des\"][image_from],orb_df[\"des\"][image_to])\n",
    "matches = sorted(matches, key = lambda x:x.distance)\n",
    "\n",
    "pts_from=np.array([orb_df[\"kp\"][image_from][match.queryIdx].pt for match in matches])\n",
    "pts_to=np.array([orb_df[\"kp\"][image_to][match.trainIdx].pt for match in matches])"
   ]
  },
  {
   "cell_type": "code",
   "execution_count": 120,
   "metadata": {},
   "outputs": [],
   "source": [
    "eAP2D=cv.estimateAffinePartial2D(pts_from,pts_to)\n"
   ]
  },
  {
   "cell_type": "code",
   "execution_count": null,
   "metadata": {},
   "outputs": [],
   "source": [
    "print(\"X,Y:\",eAP2D[0][:,2])\n",
    "#cos^2 + sin^2 = 1 >> rotation/scale component of matrix =s^2\n",
    "print(\"Rotation & Scale Matrix:\",eAP2D[0][:,:2])\n",
    "eAP2D_scalex=(eAP2D[0][0,0]**2+eAP2D[0][0,1]**2)**0.5\n",
    "eAP2D_scaley=(eAP2D[0][1,1]**2+eAP2D[0][1,0]**2)**0.5\n",
    "print(\"Scale X,Y:\",[eAP2D_scalex,eAP2D_scaley])\n",
    "eAP2D_rotation=np.arctan(eAP2D[0][0,1]/eAP2D[0][1,1])\n",
    "print(\"Rotation(Rad/Deg):\",eAP2D_rotation,\"/\",eAP2D_rotation*180/np.pi)\n"
   ]
  },
  {
   "cell_type": "code",
   "execution_count": null,
   "metadata": {},
   "outputs": [],
   "source": [
    "print(\"Inliers:\",np.sum(eAP2D[1]))\n",
    "for pt_from,pt_to,in_out in zip(pts_from,pts_to,eAP2D[1]):\n",
    "    if in_out:\n",
    "        print(\"X,Y:\",pt_to[0]-pt_from[0],pt_to[1]-pt_from[1])"
   ]
  },
  {
   "cell_type": "markdown",
   "metadata": {},
   "source": [
    "# Set implementation\n",
    "Also grabbing all need coded/imports/etc."
   ]
  },
  {
   "cell_type": "code",
   "execution_count": 38,
   "metadata": {},
   "outputs": [],
   "source": [
    "import pandas as pd\n",
    "import cv2 as cv\n",
    "from math import dist\n",
    "import numpy as np\n",
    "from matplotlib import pyplot as plt"
   ]
  },
  {
   "cell_type": "markdown",
   "metadata": {},
   "source": [
    "Run data import from first section to setup `df`"
   ]
  },
  {
   "cell_type": "code",
   "execution_count": null,
   "metadata": {},
   "outputs": [],
   "source": [
    "samples_short=[\"sem0\",\"sem1\",\"sem2\",\"sem3\",\"sem4\",\"sem5\"]#\n",
    "# samples_short=[\"lro0\",\"lro1\",\"lro2\",\"lro3\",\"hdf0\",\"hdf1\",\"hdf2\",\"hdf3\",\"lov1\",\"lov2\",\"lov3\",\"ldf0\",\"ldf2\",\"ldf3\"]\n",
    "samples=pd.DataFrame([df[df.index.str.contains(x)].iloc[0] for x in samples_short])\n",
    "samples"
   ]
  },
  {
   "cell_type": "code",
   "execution_count": 40,
   "metadata": {},
   "outputs": [],
   "source": [
    "# match_combs=combinations(orb_df.index.to_list(),2)\n",
    "match_combs=((\"sem0\",\"sem1\"),(\"sem2\",\"sem3\"),(\"sem3\",\"sem4\"),(\"sem4\",\"sem5\"),(\"sem3\",\"sem5\"))\n",
    "# match_combs=((\"lro2\",\"lro3\"),(\"lro0\",\"lro2\"),(\"lro1\",\"lro2\"),(\"hdf0\",\"hdf2\"),(\"hdf0\",\"hdf1\"),(\"hdf1\",\"hdf3\"),(\"lov2\",\"lov3\"),(\"lov1\",\"lov2\"),(\"ldf0\",\"ldf3\"),(\"ldf2\",\"ldf3\"))\n",
    "# match_combs=((\"lov2\",\"lov3\"),(\"lov1\",\"lov2\"),(\"ldf0\",\"ldf3\"))\n",
    "match_combs=[(df.index[df.index.str.contains(x[0])][0],df.index[df.index.str.contains(x[1])][0]) for x in match_combs]\n"
   ]
  },
  {
   "cell_type": "code",
   "execution_count": null,
   "metadata": {},
   "outputs": [],
   "source": [
    "orb_data=dict()\n",
    "for name,sample in samples.iterrows():\n",
    "    # print(sample)\n",
    "    img = cv.imread(sample.path, cv.IMREAD_GRAYSCALE)\n",
    "    orb = cv.ORB_create(nfeatures=4000,edgeThreshold=5)\n",
    "    kp, des = orb.detectAndCompute(img,None)\n",
    "    orb_data[name]={\"img\":img,\"kp\":kp,\"des\":des}\n",
    "orb_df=pd.DataFrame(orb_data).T\n",
    "orb_df"
   ]
  },
  {
   "cell_type": "code",
   "execution_count": 42,
   "metadata": {},
   "outputs": [],
   "source": [
    "match_refs={#values for offset from offsetmap\n",
    "    (\"sem0\",\"sem1\"):[48, 1101],\n",
    "    (\"sem2\",\"sem3\"):[84, 1192],\n",
    "    (\"sem3\",\"sem4\"):[14, 682],\n",
    "    (\"sem4\",\"sem5\"):[1,1558],\n",
    "    (\"sem3\",\"sem5\"):[673,-538]\n",
    "}"
   ]
  },
  {
   "cell_type": "code",
   "execution_count": 43,
   "metadata": {},
   "outputs": [],
   "source": [
    "from scipy import ndimage"
   ]
  },
  {
   "cell_type": "code",
   "execution_count": null,
   "metadata": {},
   "outputs": [],
   "source": []
  },
  {
   "cell_type": "code",
   "execution_count": null,
   "metadata": {},
   "outputs": [],
   "source": [
    "for m1,m2 in match_combs:\n",
    "    print(m1,m2)\n",
    "    bf = cv.BFMatcher(cv.NORM_HAMMING, crossCheck=True)\n",
    "    \n",
    "    matches = bf.match(orb_df[\"des\"][m1],orb_df[\"des\"][m2])\n",
    "    matches = sorted(matches, key = lambda x:x.distance)\n",
    "    matches = matches[:int(len(matches)*(1/8))]\n",
    "    # matches = matches[:10]\n",
    "\n",
    "    pts_from=np.array([orb_df[\"kp\"][m1][match.queryIdx].pt for match in matches])\n",
    "    pts_to=np.array([orb_df[\"kp\"][m2][match.trainIdx].pt for match in matches])\n",
    "\n",
    "    eAP2D=cv.estimateAffinePartial2D(pts_from,pts_to)\n",
    "\n",
    "    eAP2D_translationx=eAP2D[0][0,2]\n",
    "    eAP2D_translationy=eAP2D[0][1,2]\n",
    "    print(f\"X,Y:{eAP2D_translationx:0.1f}, {eAP2D_translationy:0.1f}\")\n",
    "    print(\"Rotation & Scale Matrix: \\n\",eAP2D[0][:,:2])\n",
    "    eAP2D_scalex=(eAP2D[0][0,0]**2+eAP2D[0][0,1]**2)**0.5\n",
    "    eAP2D_scaley=(eAP2D[0][1,1]**2+eAP2D[0][1,0]**2)**0.5\n",
    "    print(f\"Scale X,Y: {eAP2D_scalex:0.3f}, {eAP2D_scaley:0.3f}\")\n",
    "    eAP2D_rotation=np.arctan(eAP2D[0][0,1]/eAP2D[0][1,1])\n",
    "    print(f\"Rotation(Rad/Deg): {eAP2D_rotation:0.3f} /{eAP2D_rotation*180/np.pi:0.1f}\")\n",
    "    print(\"Inliers:\",np.sum(eAP2D[1]))\n",
    "    for pt_from,pt_to,in_out in zip(pts_from,pts_to,eAP2D[1]):\n",
    "        if in_out:\n",
    "            print(f\"X,Y:{pt_from[0]-pt_to[0]:0.1f}, {pt_from[1]-pt_to[1]:0.1f}\")\n",
    "    \n",
    "    distances_inlier=np.array([(i,match.distance) for i,(match,in_out) in enumerate(zip(matches,eAP2D[1])) if in_out])\n",
    "    distances_outlier=np.array([(i,match.distance) for i,(match,in_out) in enumerate(zip(matches,eAP2D[1])) if not in_out])\n",
    "    plt.figure()\n",
    "    plt.plot(distances_inlier[:,0],distances_inlier[:,1],\"gx\")\n",
    "    try:\n",
    "        plt.plot(distances_outlier[:,0],distances_outlier[:,1],\"r.\")\n",
    "    except IndexError:\n",
    "        print(\"No Outliers\")\n",
    "    plt.xlabel(\"match index\")\n",
    "    plt.ylabel(\"match distance\")\n",
    "    plt.title(f\"{m1}-{m2} in/out distances\")\n",
    "    plt.show()\n",
    "\n",
    "    # ### Sanity check with offset map\n",
    "    # img_width=1600#2560\n",
    "    # img_height=1200#1672\n",
    "    # offset_grid=np.zeros((2*img_width,2*img_height),dtype=float) # change this to match 2x image distance.(3200,2400)\n",
    "    # for i,match in enumerate(matches[:]):\n",
    "    #     train_pt=orb_df[\"kp\"][m2][match.trainIdx].pt\n",
    "    #     query_pt=orb_df[\"kp\"][m1][match.queryIdx].pt\n",
    "    #     x_offset_adj=int(train_pt[0]-query_pt[0]+img_width) #1600/1200 centers in numpy array/image.\n",
    "    #     y_offset_adj=int(train_pt[1]-query_pt[1]+img_height)\n",
    "    #     offset_grid[x_offset_adj,y_offset_adj]+=1000/(match.distance**2)\n",
    "    # offset_grid=ndimage.gaussian_filter(offset_grid,10)\n",
    "    # print(m1,m2,\"Offset:\",np.array(np.unravel_index(np.argmax(offset_grid),offset_grid.shape))-np.array([img_width,img_height]))\n",
    "    # plt.title(\" \".join([m1,m2,str(tuple(np.array(np.unravel_index(np.argmax(offset_grid),offset_grid.shape))-np.array([img_width,img_height]))),f\"{offset_grid.max():.5f}\"]))\n",
    "    # plt.imshow(offset_grid.T)\n",
    "    # plt.colorbar()\n",
    "    # # plt.savefig(f\"241210_OffsetMap_{m1[7:11]}-{m2[10:11]}-offmap-1000imds-g10_nf500_et5.png\",bbox_inches=\"tight\",dpi=300)\n",
    "    # plt.show()\n",
    "    # match_refs[(m1[7:11],m2[7:11])]=list(np.array(np.unravel_index(np.argmax(offset_grid),offset_grid.shape))-np.array([img_width,img_height]))\n",
    "    # ###\n",
    "\n",
    "    top10_offsets=np.array([(pt_to[0]-pt_from[0],pt_to[1]-pt_from[1]) for pt_from,pt_to in zip(pts_from[:int(len(matches)*(1/10))],pts_to[:int(len(matches)*(1/10))])])\n",
    "    top50_offsets=np.array([(pt_to[0]-pt_from[0],pt_to[1]-pt_from[1]) for pt_from,pt_to in zip(pts_from[int(len(matches)*(1/10)):int(len(matches)*(1/2))],pts_to[int(len(matches)*(1/10)):int(len(matches)*(1/2))])])\n",
    "    remaining_offsets=np.array([(pt_to[0]-pt_from[0],pt_to[1]-pt_from[1]) for pt_from,pt_to in zip(pts_from[int(len(matches)*(1/2)):],pts_to[int(len(matches)*(1/2)):])])\n",
    "    plt.figure()\n",
    "    plt.plot(top10_offsets[:,0],top10_offsets[:,1],\"gx\",alpha=0.1)\n",
    "    plt.plot(top50_offsets[:,0],top50_offsets[:,1],\"yx\",alpha=0.1)\n",
    "    plt.plot(remaining_offsets[:,0],remaining_offsets[:,1],\"rx\",alpha=0.1)\n",
    "    plt.xlabel(\"x offset\")\n",
    "    plt.ylabel(\"y offset\")\n",
    "    plt.title(f\"{m1}-{m2} match offsets top 10%/top 50%/remaining\")\n",
    "    plt.show()\n",
    "\n",
    "\n",
    "    distances_metric_ref=np.array([(dist((pt_to[0]-pt_from[0],pt_to[1]-pt_from[1]),match_refs[(m1[7:11],m2[7:11])]),match.distance) for match,pt_from,pt_to in zip(matches,pts_from,pts_to)])\n",
    "    plt.figure()\n",
    "    plt.plot(distances_metric_ref[:,0],distances_metric_ref[:,1],\"x\")\n",
    "    plt.xlabel(\"ref distance\")\n",
    "    plt.ylabel(\"match distance\")\n",
    "    plt.xscale(\"log\")\n",
    "    plt.title(f\"{m1}-{m2} ref/match distances\")\n",
    "    plt.show()\n",
    "\n",
    "\n",
    "\n",
    "    # plt.title(\" \".join([m1,m2,str(tuple(np.array(np.unravel_index(np.argmax(offset_grid),offset_grid.shape))-np.array([img_width,img_height]))),f\"{offset_grid.max():.5f}\"]))\n",
    "    # plt.imshow(offset_grid.T)\n",
    "    # plt.colorbar()\n",
    "    # plt.savefig(f\"241210_OffsetMap_{m1[7:11]}-{m2[10:11]}-offmap-1000imds-g10_nf500_et5.png\",bbox_inches=\"tight\",dpi=300)\n",
    "    # plt.show()"
   ]
  },
  {
   "cell_type": "markdown",
   "metadata": {},
   "source": [
    "# Functionalizing process"
   ]
  },
  {
   "cell_type": "code",
   "execution_count": 1,
   "metadata": {},
   "outputs": [],
   "source": [
    "import pandas as pd\n",
    "import cv2 as cv\n",
    "import numpy as np\n",
    "from matplotlib import pyplot as plt"
   ]
  },
  {
   "cell_type": "code",
   "execution_count": 15,
   "metadata": {},
   "outputs": [],
   "source": [
    "from os.path import abspath\n",
    "from sys import path\n",
    "path.insert(0, abspath(\"../..\"))  # Repository directory relative to this file.\n",
    "from MISalign.model.mis_file import MisFile,load_mis\n",
    "from MISalign.model.relation import Relation"
   ]
  },
  {
   "cell_type": "code",
   "execution_count": 3,
   "metadata": {},
   "outputs": [],
   "source": [
    "mis_filepath=r\"..\\\\..\\example\\data\\set_a\\mymis_calibrated.mis\"\n",
    "mis_project=load_mis(mis_filepath)"
   ]
  },
  {
   "cell_type": "code",
   "execution_count": null,
   "metadata": {},
   "outputs": [],
   "source": [
    "mis_project.get_image_paths()"
   ]
  },
  {
   "cell_type": "code",
   "execution_count": null,
   "metadata": {},
   "outputs": [],
   "source": [
    "list(mis_project.get_image_paths().keys())"
   ]
  },
  {
   "cell_type": "code",
   "execution_count": 43,
   "metadata": {},
   "outputs": [],
   "source": [
    "class ImageManager():\n",
    "    def __init__(self,image_names_paths:dict):\n",
    "        self.image_dict={name:{\"path\":filepath} for name,filepath in image_names_paths.items()}\n",
    "    \n",
    "    def get_names(self)->list[str]:\n",
    "        return list(self.image_dict.keys())\n",
    "    def get_path(self,name:str)->str:\n",
    "        return self.image_dict[name][\"path\"]\n",
    "    def lookup_name(self,short_name:str)->str:\n",
    "        name_matches=[name for name in self.image_dict.keys() if short_name in name]\n",
    "        if len(name_matches)==1:\n",
    "            return name_matches\n",
    "        elif len(name_matches)==0:\n",
    "            raise ValueError(f\"short_name '{short_name}' matched no image names.\")\n",
    "        elif len(name_matches)>1:\n",
    "            raise ValueError(f\"short_name '{short_name}' matched {len(name_matches)} image names: {name_matches}\")\n",
    "\n",
    "class ORBManager():\n",
    "    def __init__(self,\n",
    "            ImageM:ImageManager,\n",
    "            precompute_default=True,\n",
    "            store_compute=True,\n",
    "            default_ORB_parameters={\"nfeatures\":500,\"edgeThreshold\":5}):\n",
    "        self.ImageM=ImageM\n",
    "        self.default_ORB_parameters=default_ORB_parameters\n",
    "        self.store_compute=store_compute\n",
    "        if store_compute:\n",
    "            self.computed=dict()\n",
    "            if precompute_default:\n",
    "                for image_name in ImageM.get_names():\n",
    "                    self.computed[image_name]=dict()\n",
    "                    self.computed[image_name][self.get_parameter_hashable(default_ORB_parameters)]=self.compute_orb(image_name,default_ORB_parameters)\n",
    "\n",
    "    def compute_orb(self,image_name,ORB_parameters):\n",
    "        img = cv.imread(self.ImageM.get_path(image_name), cv.IMREAD_GRAYSCALE)\n",
    "        orb = cv.ORB_create(**ORB_parameters)\n",
    "        kp, des = orb.detectAndCompute(img,None)\n",
    "        return {\"kp\":kp,\"des\":des}\n",
    "    def get_parameter_hashable(self,ORB_parameters:dict)->tuple:\n",
    "        return tuple((k,ORB_parameters[k]) for k in sorted(ORB_parameters))\n",
    "    def get_orb(self,image_name,ORB_parameters=None):\n",
    "        if ORB_parameters is None:\n",
    "            ORB_parameters=self.default_ORB_parameters\n",
    "        ORB_parameter_hashable=self.get_parameter_hashable(ORB_parameters)\n",
    "        if self.store_compute:\n",
    "            if image_name in self.computed.keys():\n",
    "                if ORB_parameter_hashable in self.computed[image_name].keys():\n",
    "                    return self.computed[image_name][ORB_parameter_hashable]\n",
    "            else:\n",
    "                self.computed[image_name]=dict()\n",
    "        computed_orb=self.compute_orb(image_name,ORB_parameters)\n",
    "        if self.store_compute:\n",
    "            self.computed[image_name][ORB_parameter_hashable]=computed_orb\n",
    "        return computed_orb\n",
    "\n",
    "def generate_match_combinations(strategy,**kwargs)-> list[list]: \n",
    "    if strategy==\"order\":\n",
    "        return generate_match_combinations_in_order(kwargs[\"order\"])\n",
    "    elif strategy==\"short_pairs\":\n",
    "        return generate_match_combinations_from_short_pairs(kwargs[\"short_pairs\"],kwargs[\"short_lookup\"])\n",
    "    elif strategy==\"all\":\n",
    "        return generate_match_combinations_all_combinations(kwargs[\"all\"])\n",
    "    elif strategy==\"search\":\n",
    "        return generate_match_combinations_all_combinations(kwargs[\"search\"],kwargs[\"all\"])\n",
    "    else:\n",
    "        raise ValueError(f\"'{strategy}' is not a valid strategy.\")\n",
    "def generate_match_combinations_in_order(order:list):\n",
    "    return [[a,b] for a,b in zip(order[:-1],order[1:])]\n",
    "def generate_match_combinations_from_short_pairs(short_pairs:list[list],short_lookup:ImageManager.lookup_name):\n",
    "    pass #TODO\n",
    "def generate_match_combinations_all_combinations(items:list):\n",
    "    pass #TODO\n",
    "def generate_match_combinations_search(search:str,items:list):\n",
    "    pass #TODO\n",
    "\n",
    "def generate_match_bf(\n",
    "        image1:str,\n",
    "        image2:str,\n",
    "        match_reduction_ratio:float,\n",
    "        OrbM:ORBManager,\n",
    "        ORB_parameters:dict=None)->list[cv.DMatch]:\n",
    "    brute_force_matcher = cv.BFMatcher(cv.NORM_HAMMING, crossCheck=True)\n",
    "    orb1=OrbM.get_orb(image1,ORB_parameters)\n",
    "    orb2=OrbM.get_orb(image2,ORB_parameters)\n",
    "    matches = brute_force_matcher.match(orb1[\"des\"],orb2[\"des\"])\n",
    "    sorted_matches = sorted(matches, key = lambda x:x.distance)\n",
    "    reduced_matches = matches[:int(len(sorted_matches)*(match_reduction_ratio))]\n",
    "    return reduced_matches,orb1,orb2\n",
    "\n",
    "def estimate_translation(\n",
    "        matches,\n",
    "        orb1,\n",
    "        orb2,\n",
    "        limit_affine_rotation=0.01, #maximum affine rotation without correction i.e. -0.01rad to +0.01rad rotations are acceptable.\n",
    "        limit_affine_scale=0.01, #maximum affine scale without correction i.e. 0.99 scale to 1.01 scale are acceptable.\n",
    "        limit_minimum_points=5, #minimum number of matched points for succesful translation estimate.\n",
    "        limit_inlier_consistency=0.5 #minimum fraction of matched points that must be consistent\n",
    "    )->list[list,bool]:\n",
    "    \n",
    "    pts_1=np.array([orb1[\"kp\"][match.queryIdx].pt for match in matches])\n",
    "    pts_2=np.array([orb2[\"kp\"][match.trainIdx].pt for match in matches])\n",
    "    eAP2D_matrix,eAP2D_in_out=cv.estimateAffinePartial2D(pts_1,pts_2)\n",
    "\n",
    "    eAP2D_translationx=eAP2D_matrix[0,2]\n",
    "    eAP2D_translationy=eAP2D_matrix[1,2]\n",
    "    # print(f\"X,Y:{eAP2D_translationx:0.1f}, {eAP2D_translationy:0.1f}\")\n",
    "    # print(\"Rotation & Scale Matrix: \\n\",eAP2D_matrix[:,:2])\n",
    "    eAP2D_scalex=(eAP2D_matrix[0,0]**2+eAP2D_matrix[0,1]**2)**0.5\n",
    "    eAP2D_scaley=(eAP2D_matrix[1,1]**2+eAP2D_matrix[1,0]**2)**0.5\n",
    "    # print(f\"Scale X,Y: {eAP2D_scalex:0.3f}, {eAP2D_scaley:0.3f}\")\n",
    "    eAP2D_rotation=np.arctan(eAP2D_matrix[0,1]/eAP2D_matrix[1,1])\n",
    "    # print(f\"Rotation(Rad/Deg): {eAP2D_rotation:0.3f} /{eAP2D_rotation*180/np.pi:0.1f}\")\n",
    "    # print(\"Inliers:\",np.sum(eAP2D[1]))\n",
    "    eAP2D_inliers=[(tuple(pt1),tuple(pt2)) for pt1,pt2,in_out in zip(pts_1,pts_2,eAP2D_in_out) if in_out]\n",
    "    eAP2D_inliers_count=len(eAP2D_inliers)\n",
    "    # for pt_from,pt_to,in_out in zip(pts_from,pts_to,eAP2D[1]):\n",
    "    #     if in_out:\n",
    "    #         print(f\"X,Y:{pt_from[0]-pt_to[0]:0.1f}, {pt_from[1]-pt_to[1]:0.1f}\")\n",
    "    #TODO verify based on limits\n",
    "    valid={\"overall\":True,\"individual\":[True for match in eAP2D_inliers]}\n",
    "    return eAP2D_inliers, valid\n",
    "\n",
    "\n",
    "class AlignCVManager():\n",
    "    def __init__(self,ImageM:ImageManager,OrbM:ORBManager):\n",
    "        self.ImageM=ImageM\n",
    "        self.OrbM=OrbM\n",
    "        self.alignments=[]\n",
    "    def run_alignment(self,match_combinations,match_reduction_ratio=1/2,ORB_parameters=None):\n",
    "        alignment_data={\"alignment_parameters\":{\"match_combinations\":match_combinations,\"match_reduction_ratio\":match_reduction_ratio,\"ORB_parameters\":ORB_parameters},\"alignment_data\":dict()}\n",
    "        for image1,image2 in match_combinations:\n",
    "            image_set=(image1,image2)\n",
    "            matches,orb1,orb2=generate_match_bf(\n",
    "                image1=image1,\n",
    "                image2=image2,\n",
    "                match_reduction_ratio=match_reduction_ratio,\n",
    "                OrbM=self.OrbM,\n",
    "                ORB_parameters=ORB_parameters\n",
    "                )\n",
    "            estimated_translation_inliers, estimated_translation_validity = estimate_translation(matches,orb1,orb2)\n",
    "            alignment_data[\"alignment_data\"][image_set]={\n",
    "                \"matches\":matches,\n",
    "                \"estimated_translation_inliers\":estimated_translation_inliers,\n",
    "                \"estimated_translation_validity\":estimated_translation_validity\n",
    "                }\n",
    "        self.alignments.append(alignment_data)\n",
    "        return len(self.alignments)-1\n",
    "    def get_alignment(self,alignment_id):\n",
    "        return self.alignments[alignment_id]\n",
    "    #TODO valid results to mis\n",
    "    #TODO merging valid results\n",
    "    def update_mis(self,\n",
    "            mis_project:MisFile,\n",
    "            alignment_id,\n",
    "            valid_only=True)->MisFile:\n",
    "        alignment_results=self.alignments[alignment_id]\n",
    "        match_combinations=alignment_results[\"alignment_parameters\"][\"match_combinations\"]\n",
    "        for mc in match_combinations:\n",
    "            mc_alignment_result=alignment_results[\"alignment_data\"][tuple(mc)]\n",
    "            if valid_only and not mc_alignment_result[\"estimated_translation_validity\"][\"overall\"]:\n",
    "                print(f\"Warning: Match {mc} not valid. No relation saved.\")\n",
    "                continue\n",
    "            mis_project._relations.append(Relation(\n",
    "                mc[0],\n",
    "                mc[1],\n",
    "                'p',\n",
    "                [([int(x) for x in pt1],[int(x) for x in pt2]) for (pt1,pt2),individual_valid in zip(mc_alignment_result['estimated_translation_inliers'],mc_alignment_result[\"estimated_translation_validity\"][\"individual\"])] ))\n",
    "\n"
   ]
  },
  {
   "cell_type": "code",
   "execution_count": 44,
   "metadata": {},
   "outputs": [],
   "source": [
    "ImageM=ImageManager(mis_project.get_image_paths())\n",
    "\n",
    "OrbM=ORBManager(ImageM,default_ORB_parameters={\"nfeatures\": 2000,\"edgeThreshold\": 5 })\n",
    "\n",
    "AlignCVM=AlignCVManager(ImageM,OrbM)\n",
    "\n",
    "match_combinations=generate_match_combinations(strategy=\"order\",order=sorted(mis_project.get_image_names()))\n",
    "\n",
    "alignment_id=AlignCVM.run_alignment(match_combinations)\n",
    "alignment_result=AlignCVM.get_alignment(alignment_id)"
   ]
  },
  {
   "cell_type": "code",
   "execution_count": null,
   "metadata": {},
   "outputs": [],
   "source": [
    "# len(alignment_result[\"alignment_data\"][tuple(match_combinations[0])][\"estimated_translation_validity\"][\"individual\"])\n",
    "# len(alignment_result[\"alignment_data\"][tuple(match_combinations[0])]['estimated_translation_inliers'])"
   ]
  },
  {
   "cell_type": "code",
   "execution_count": null,
   "metadata": {},
   "outputs": [],
   "source": [
    "match_combinations"
   ]
  },
  {
   "cell_type": "code",
   "execution_count": null,
   "metadata": {},
   "outputs": [],
   "source": [
    "for mc in match_combinations:\n",
    "    print([(int(pt1[0]-pt2[0]),int(pt1[1]-pt2[1])) for pt1,pt2 in alignment_result[\"alignment_data\"][tuple(mc)]['estimated_translation_inliers']])\n",
    "for mc in match_combinations:\n",
    "    print([(list(pt1),list(pt2)) for pt1,pt2 in alignment_result[\"alignment_data\"][tuple(mc)]['estimated_translation_inliers']])"
   ]
  },
  {
   "cell_type": "code",
   "execution_count": null,
   "metadata": {},
   "outputs": [],
   "source": [
    "mis_project.get_rels(\"r\")"
   ]
  },
  {
   "cell_type": "code",
   "execution_count": null,
   "metadata": {},
   "outputs": [],
   "source": [
    "mis_project_copy=load_mis(mis_filepath)\n",
    "mis_project_copy._relations=[]\n",
    "# for mc in match_combinations:\n",
    "#     mis_project_copy._relations.append(Relation(\n",
    "#         mc[0],\n",
    "#         mc[1],\n",
    "#         'p',\n",
    "#         [([int(x) for x in pt1],[int(x) for x in pt2]) for pt1,pt2 in alignment_result[\"alignment_data\"][tuple(mc)]['estimated_translation_inliers']]))\n",
    "AlignCVM.update_mis(mis_project_copy,alignment_id)\n",
    "#TODO add an update relation option?\n",
    "mis_project_copy.get_rels(\"r\")"
   ]
  },
  {
   "cell_type": "markdown",
   "metadata": {},
   "source": [
    "# Module setup"
   ]
  },
  {
   "cell_type": "code",
   "execution_count": 1,
   "metadata": {},
   "outputs": [],
   "source": [
    "from os.path import abspath\n",
    "from sys import path\n",
    "path.insert(0, abspath(\"../..\"))  # Repository directory relative to this file.\n",
    "from MISalign.model.mis_file import load_mis,save_mis\n",
    "from MISalign.alignment.align_cv import ImageManager, ORBManager, AlignCVManager, generate_match_combinations"
   ]
  },
  {
   "cell_type": "code",
   "execution_count": 2,
   "metadata": {},
   "outputs": [],
   "source": [
    "mis_filepath=r\"..\\\\..\\example\\data\\set_a\\mymis_calibrated.mis\"\n",
    "mis_project=load_mis(mis_filepath)"
   ]
  },
  {
   "cell_type": "code",
   "execution_count": 3,
   "metadata": {},
   "outputs": [
    {
     "name": "stdout",
     "output_type": "stream",
     "text": [
      "{'alignment_parameters': {'match_combinations': [['a_myimages01.jpg', 'a_myimages02.jpg'], ['a_myimages02.jpg', 'a_myimages03.jpg'], ['a_myimages03.jpg', 'a_myimages04.jpg'], ['a_myimages04.jpg', 'a_myimages05.jpg'], ['a_myimages05.jpg', 'a_myimages06.jpg'], ['a_myimages06.jpg', 'a_myimages07.jpg'], ['a_myimages07.jpg', 'a_myimages08.jpg'], ['a_myimages08.jpg', 'a_myimages09.jpg'], ['a_myimages09.jpg', 'a_myimages10.jpg']], 'match_reduction_ratio': 0.5, 'ORB_parameters': None, 'source': 'run_alignment'}, 'alignment_data': {('a_myimages01.jpg', 'a_myimages02.jpg'): {'matches': (< cv2.DMatch 000002691963A950>, < cv2.DMatch 0000026940D595D0>, < cv2.DMatch 0000026940D59510>, < cv2.DMatch 0000026940D59F70>, < cv2.DMatch 0000026940D59CB0>, < cv2.DMatch 0000026940D5A9B0>, < cv2.DMatch 0000026940D59770>, < cv2.DMatch 0000026940D5AC70>, < cv2.DMatch 0000026940D59CD0>, < cv2.DMatch 0000026940D59F50>, < cv2.DMatch 0000026940D5A1F0>, < cv2.DMatch 0000026940D59750>, < cv2.DMatch 0000026940D5A490>, < cv2.DMatch 0000026940D5A470>, < cv2.DMatch 0000026940D5AC50>, < cv2.DMatch 0000026940D59A10>, < cv2.DMatch 0000026940D5A730>, < cv2.DMatch 0000026940D5A710>, < cv2.DMatch 0000026940D5A9D0>, < cv2.DMatch 0000026940D5AC90>, < cv2.DMatch 0000026940D5ACB0>, < cv2.DMatch 0000026940D5ACD0>, < cv2.DMatch 0000026940D5ACF0>, < cv2.DMatch 0000026940D5AD10>, < cv2.DMatch 0000026940D5AD30>, < cv2.DMatch 0000026940D5AD50>, < cv2.DMatch 0000026940D5AD70>, < cv2.DMatch 0000026940D5AD90>, < cv2.DMatch 0000026940D5ADB0>, < cv2.DMatch 0000026940D5ADD0>, < cv2.DMatch 0000026940D5ADF0>, < cv2.DMatch 0000026940D5AE10>, < cv2.DMatch 0000026940D5AE30>, < cv2.DMatch 0000026940D5AE50>, < cv2.DMatch 0000026940D5AE70>, < cv2.DMatch 0000026940D5AE90>, < cv2.DMatch 0000026940D5AEB0>, < cv2.DMatch 0000026940D5AED0>, < cv2.DMatch 0000026940D5AEF0>, < cv2.DMatch 0000026940D5AF10>, < cv2.DMatch 0000026940D5AF30>, < cv2.DMatch 0000026940D5AF50>, < cv2.DMatch 0000026940D5AF70>, < cv2.DMatch 0000026940D5AF90>, < cv2.DMatch 0000026940D5AFB0>, < cv2.DMatch 0000026940D5AFD0>, < cv2.DMatch 0000026940D5AFF0>, < cv2.DMatch 0000026940D5B010>, < cv2.DMatch 0000026940D5B030>, < cv2.DMatch 0000026940D5B050>, < cv2.DMatch 0000026940D5B070>, < cv2.DMatch 0000026940D5B090>, < cv2.DMatch 0000026940D5B0B0>, < cv2.DMatch 0000026940D5B0D0>, < cv2.DMatch 0000026940D5B0F0>, < cv2.DMatch 0000026940D5B110>, < cv2.DMatch 0000026940D5B130>), 'estimated_translation_inliers': [((650.0, 743.0), (906.0000610351562, 1183.2000732421875)), ((1269.0, 1136.0), (770.6880493164062, 323.1360168457031)), ((650.4000244140625, 741.6000366210938), (907.0, 1183.0)), ((1268.4000244140625, 1135.2000732421875), (768.8910522460938, 323.481689453125))], 'estimated_translation_validity': {'overall': False, 'individual': [False, False, False, False]}}, ('a_myimages02.jpg', 'a_myimages03.jpg'): {'matches': (< cv2.DMatch 0000026940D5B310>, < cv2.DMatch 0000026940D5B5F0>, < cv2.DMatch 0000026940D5B730>, < cv2.DMatch 0000026940D5B670>, < cv2.DMatch 0000026940D5B7B0>, < cv2.DMatch 0000026940D5B810>, < cv2.DMatch 0000026940D5B790>, < cv2.DMatch 0000026940D5B6D0>, < cv2.DMatch 0000026940D5B210>, < cv2.DMatch 0000026940D5B770>, < cv2.DMatch 0000026940D5B710>, < cv2.DMatch 0000026940D5B870>, < cv2.DMatch 0000026940D5B450>, < cv2.DMatch 0000026940D5B4F0>, < cv2.DMatch 0000026940D5B3B0>, < cv2.DMatch 0000026940D5B230>, < cv2.DMatch 0000026940D5B4D0>, < cv2.DMatch 0000026940D5B7F0>, < cv2.DMatch 0000026940D5B830>, < cv2.DMatch 0000026940D5B510>, < cv2.DMatch 0000026940D5B190>, < cv2.DMatch 0000026940D5B530>, < cv2.DMatch 0000026940D5B3D0>, < cv2.DMatch 0000026940D5B2B0>, < cv2.DMatch 0000026940D5B370>, < cv2.DMatch 0000026940D5B630>, < cv2.DMatch 0000026940D5B6F0>, < cv2.DMatch 0000026940D5BDD0>, < cv2.DMatch 0000026940D5BA30>, < cv2.DMatch 0000026940D5BA90>, < cv2.DMatch 0000026940D5BAD0>, < cv2.DMatch 0000026940D5BE90>, < cv2.DMatch 0000026940D5BA50>, < cv2.DMatch 0000026940D5BCF0>, < cv2.DMatch 0000026940D5BD10>, < cv2.DMatch 00000269412202F0>, < cv2.DMatch 0000026941220250>, < cv2.DMatch 0000026941220030>, < cv2.DMatch 0000026941220670>, < cv2.DMatch 0000026941220570>, < cv2.DMatch 00000269412204D0>, < cv2.DMatch 00000269412204F0>, < cv2.DMatch 0000026941220170>, < cv2.DMatch 00000269412201B0>, < cv2.DMatch 00000269412202D0>, < cv2.DMatch 0000026941220430>, < cv2.DMatch 00000269412205F0>, < cv2.DMatch 0000026941220630>, < cv2.DMatch 00000269412200B0>, < cv2.DMatch 00000269412201D0>, < cv2.DMatch 0000026941220330>, < cv2.DMatch 0000026941220310>, < cv2.DMatch 0000026941220690>, < cv2.DMatch 00000269412206B0>, < cv2.DMatch 00000269412206D0>), 'estimated_translation_inliers': [((1052.0, 894.0), (1082.4000244140625, 544.800048828125)), ((902.0, 1184.0), (911.0, 36.0)), ((1051.2000732421875, 894.0000610351562), (1081.4400634765625, 544.3200073242188)), ((902.4000244140625, 1183.2000732421875), (910.800048828125, 36.0))], 'estimated_translation_validity': {'overall': False, 'individual': [False, False, False, False]}}, ('a_myimages03.jpg', 'a_myimages04.jpg'): {'matches': (< cv2.DMatch 0000026940D5B850>, < cv2.DMatch 0000026940D5BF50>, < cv2.DMatch 0000026940D5BC50>, < cv2.DMatch 0000026941220B70>, < cv2.DMatch 0000026941220A50>, < cv2.DMatch 0000026941220AD0>, < cv2.DMatch 0000026941220890>, < cv2.DMatch 0000026941220AB0>, < cv2.DMatch 0000026941220CF0>, < cv2.DMatch 0000026941220C70>, < cv2.DMatch 0000026941220990>, < cv2.DMatch 0000026941220830>, < cv2.DMatch 0000026941220950>, < cv2.DMatch 00000269412209B0>, < cv2.DMatch 0000026941220C50>, < cv2.DMatch 0000026941220D70>, < cv2.DMatch 0000026941220BB0>, < cv2.DMatch 0000026941220BD0>, < cv2.DMatch 0000026941220910>, < cv2.DMatch 00000269412206F0>, < cv2.DMatch 0000026941220850>, < cv2.DMatch 0000026941220A90>, < cv2.DMatch 0000026941220BF0>, < cv2.DMatch 0000026941220A30>, < cv2.DMatch 0000026941220790>, < cv2.DMatch 0000026941220970>, < cv2.DMatch 0000026941220870>, < cv2.DMatch 0000026941220D10>, < cv2.DMatch 0000026941220B30>, < cv2.DMatch 0000026941220D50>, < cv2.DMatch 00000269412209F0>, < cv2.DMatch 0000026941220AF0>, < cv2.DMatch 0000026941220D30>, < cv2.DMatch 00000269412207F0>, < cv2.DMatch 0000026941220D90>, < cv2.DMatch 0000026941220C30>, < cv2.DMatch 0000026941220A10>, < cv2.DMatch 0000026941220CB0>, < cv2.DMatch 0000026941220E70>, < cv2.DMatch 00000269412207B0>, < cv2.DMatch 0000026941220CD0>, < cv2.DMatch 0000026941220B10>, < cv2.DMatch 00000269412208D0>, < cv2.DMatch 0000026941220B90>, < cv2.DMatch 0000026941220E10>, < cv2.DMatch 00000269412202B0>, < cv2.DMatch 0000026941220410>, < cv2.DMatch 0000026941220F10>, < cv2.DMatch 0000026941220F30>, < cv2.DMatch 0000026941220F50>, < cv2.DMatch 0000026941220F70>, < cv2.DMatch 0000026941220F90>, < cv2.DMatch 0000026941220FB0>, < cv2.DMatch 0000026941220FD0>, < cv2.DMatch 0000026941220FF0>, < cv2.DMatch 0000026941221010>, < cv2.DMatch 0000026941221030>, < cv2.DMatch 0000026941221050>), 'estimated_translation_inliers': [((506.0, 1159.0), (381.0, 98.0)), ((507.0, 1157.0), (381.6000061035156, 96.0)), ((509.0, 1155.0), (384.0, 94.0)), ((1229.0, 1066.0), (1105.0, 6.0)), ((1408.800048828125, 1104.0), (1287.0, 45.0)), ((1406.4000244140625, 1101.60009765625), (1283.0, 44.0)), ((506.8800048828125, 1153.4400634765625), (382.8000183105469, 92.4000015258789))], 'estimated_translation_validity': {'overall': True, 'individual': [True, True, True, True, True, True, True]}}, ('a_myimages04.jpg', 'a_myimages05.jpg'): {'matches': (< cv2.DMatch 0000026940D5BCD0>, < cv2.DMatch 0000026940D5BAB0>, < cv2.DMatch 0000026940D5B9F0>, < cv2.DMatch 0000026940D5B8D0>, < cv2.DMatch 0000026941221210>, < cv2.DMatch 00000269412212B0>, < cv2.DMatch 0000026941221350>, < cv2.DMatch 0000026941221330>, < cv2.DMatch 0000026941221130>, < cv2.DMatch 00000269412216D0>, < cv2.DMatch 00000269412216F0>, < cv2.DMatch 00000269412211B0>, < cv2.DMatch 00000269412214F0>, < cv2.DMatch 00000269412216B0>, < cv2.DMatch 0000026941221710>, < cv2.DMatch 0000026941221390>, < cv2.DMatch 0000026941221550>, < cv2.DMatch 0000026941221110>, < cv2.DMatch 0000026941221190>, < cv2.DMatch 00000269412210D0>, < cv2.DMatch 0000026941221290>, < cv2.DMatch 0000026941221690>, < cv2.DMatch 0000026941221730>, < cv2.DMatch 0000026941221230>, < cv2.DMatch 00000269412210F0>, < cv2.DMatch 00000269412214B0>, < cv2.DMatch 0000026941221750>, < cv2.DMatch 0000026941221530>, < cv2.DMatch 0000026941221090>, < cv2.DMatch 0000026941221410>, < cv2.DMatch 0000026941221150>, < cv2.DMatch 00000269412217B0>, < cv2.DMatch 00000269412212D0>, < cv2.DMatch 0000026941221250>, < cv2.DMatch 00000269412214D0>, < cv2.DMatch 0000026941221770>, < cv2.DMatch 0000026941221430>, < cv2.DMatch 00000269412212F0>, < cv2.DMatch 00000269412213B0>, < cv2.DMatch 00000269412210B0>, < cv2.DMatch 0000026941221490>, < cv2.DMatch 0000026941221270>, < cv2.DMatch 00000269412209D0>, < cv2.DMatch 0000026941221990>, < cv2.DMatch 00000269412204B0>, < cv2.DMatch 0000026941220370>, < cv2.DMatch 00000269412219D0>, < cv2.DMatch 0000026941220EF0>, < cv2.DMatch 00000269412219F0>, < cv2.DMatch 0000026941221A10>, < cv2.DMatch 0000026941221A30>, < cv2.DMatch 0000026941221A50>, < cv2.DMatch 0000026941221A70>, < cv2.DMatch 0000026941221A90>), 'estimated_translation_inliers': [((1196.4000244140625, 1084.800048828125), (1206.0, 144.0)), ((1197.60009765625, 1078.800048828125), (1207.2000732421875, 136.8000030517578)), ((1194.0, 1082.4000244140625), (1203.60009765625, 141.60000610351562)), ((1203.840087890625, 1084.320068359375), (1213.9200439453125, 142.5600128173828)), ((1196.6400146484375, 1077.1199951171875), (1206.7200927734375, 135.36000061035156))], 'estimated_translation_validity': {'overall': True, 'individual': [True, True, True, True, True]}}, ('a_myimages05.jpg', 'a_myimages06.jpg'): {'matches': (< cv2.DMatch 0000026940D5BB10>, < cv2.DMatch 0000026940D5BBD0>, < cv2.DMatch 0000026940D5BC70>, < cv2.DMatch 0000026940D5BE30>, < cv2.DMatch 0000026941221DF0>, < cv2.DMatch 0000026941221FD0>, < cv2.DMatch 0000026941221CF0>, < cv2.DMatch 0000026941221DB0>, < cv2.DMatch 0000026941221EB0>, < cv2.DMatch 0000026941222130>, < cv2.DMatch 0000026941222170>, < cv2.DMatch 0000026941221C30>, < cv2.DMatch 0000026941221C90>, < cv2.DMatch 0000026941221F90>, < cv2.DMatch 0000026941221FF0>, < cv2.DMatch 0000026941221AD0>, < cv2.DMatch 0000026941221AF0>, < cv2.DMatch 00000269412220D0>, < cv2.DMatch 00000269412220F0>, < cv2.DMatch 0000026941222050>, < cv2.DMatch 00000269412220B0>, < cv2.DMatch 0000026941222150>, < cv2.DMatch 0000026941221B70>, < cv2.DMatch 0000026941221E10>, < cv2.DMatch 0000026941221F10>, < cv2.DMatch 0000026941221B10>, < cv2.DMatch 0000026941221B30>, < cv2.DMatch 0000026941222070>, < cv2.DMatch 0000026941221BF0>, < cv2.DMatch 0000026941221E90>, < cv2.DMatch 0000026941221D70>, < cv2.DMatch 0000026941222110>, < cv2.DMatch 0000026941222090>, < cv2.DMatch 0000026941221DD0>, < cv2.DMatch 0000026941221F50>, < cv2.DMatch 0000026941220270>, < cv2.DMatch 0000026941220610>, < cv2.DMatch 0000026941220110>, < cv2.DMatch 00000269412221B0>, < cv2.DMatch 0000026941221E70>, < cv2.DMatch 0000026941221E50>, < cv2.DMatch 0000026941221AB0>, < cv2.DMatch 0000026941221FB0>, < cv2.DMatch 0000026941222230>, < cv2.DMatch 00000269412222B0>, < cv2.DMatch 00000269412222D0>, < cv2.DMatch 00000269412222F0>, < cv2.DMatch 0000026941222310>, < cv2.DMatch 0000026941222330>, < cv2.DMatch 0000026941222350>, < cv2.DMatch 0000026941222370>, < cv2.DMatch 0000026941222390>, < cv2.DMatch 00000269412223B0>, < cv2.DMatch 00000269412223D0>, < cv2.DMatch 00000269412223F0>, < cv2.DMatch 0000026941222410>, < cv2.DMatch 0000026941222430>, < cv2.DMatch 0000026941222450>, < cv2.DMatch 0000026941222470>, < cv2.DMatch 0000026941222490>), 'estimated_translation_inliers': [((886.0, 898.0), (893.0, 39.0)), ((1078.0, 1079.0), (1085.0, 222.0)), ((897.0, 895.0), (903.0, 37.0)), ((343.0, 895.0), (351.0, 38.0)), ((886.0, 894.0), (893.0, 36.0)), ((892.0, 891.0), (899.0, 32.0)), ((651.0, 1062.0), (658.0, 205.0)), ((645.0, 1005.0), (651.0, 148.0)), ((1228.0, 1192.0), (1236.0, 336.0)), ((383.0, 942.0), (391.0, 83.0)), ((504.0, 1102.0), (511.0, 245.0)), ((944.0, 919.0), (951.0, 61.0)), ((1228.0, 1194.0), (1236.0, 339.0)), ((530.0, 957.0), (537.0, 98.0)), ((1015.0, 1189.0), (1021.0, 333.0)), ((387.0, 939.0), (393.0, 81.0)), ((516.0, 1111.0), (523.0, 253.0)), ((514.0, 1095.0), (520.0, 237.0)), ((889.2000122070312, 890.4000244140625), (896.0, 32.0)), ((895.2000122070312, 894.0000610351562), (901.0, 36.0)), ((343.20001220703125, 895.2000122070312), (350.4000244140625, 37.20000076293945)), ((505.20001220703125, 1104.0), (511.20001220703125, 246.00001525878906)), ((687.6000366210938, 936.0000610351562), (692.6400146484375, 77.76000213623047)), ((295.20001220703125, 938.4000244140625), (301.0, 80.0)), ((378.0, 944.4000244140625), (385.9200134277344, 86.4000015258789)), ((1077.60009765625, 1078.800048828125), (1084.800048828125, 222.00001525878906)), ((944.4000244140625, 921.6000366210938), (951.6000366210938, 62.400001525878906)), ((516.0, 1111.2000732421875), (522.0, 253.20001220703125)), ((530.4000244140625, 957.6000366210938), (536.4000244140625, 98.4000015258789))], 'estimated_translation_validity': {'overall': True, 'individual': [True, True, True, True, True, True, True, True, True, True, True, True, True, True, True, True, True, True, True, True, True, True, True, True, True, True, True, True, True]}}, ('a_myimages06.jpg', 'a_myimages07.jpg'): {'matches': (< cv2.DMatch 0000026940D5B610>, < cv2.DMatch 0000026940D5BD70>, < cv2.DMatch 0000026940D5B8B0>, < cv2.DMatch 0000026940D5B330>, < cv2.DMatch 00000269412233D0>, < cv2.DMatch 00000269412233B0>, < cv2.DMatch 00000269412233F0>, < cv2.DMatch 0000026941223410>, < cv2.DMatch 0000026941223430>, < cv2.DMatch 0000026941223450>, < cv2.DMatch 0000026941223470>, < cv2.DMatch 0000026941223490>, < cv2.DMatch 00000269412234B0>, < cv2.DMatch 00000269412234D0>, < cv2.DMatch 00000269412234F0>, < cv2.DMatch 0000026941223510>, < cv2.DMatch 0000026941223530>, < cv2.DMatch 0000026941223550>, < cv2.DMatch 0000026941223570>, < cv2.DMatch 0000026941223590>, < cv2.DMatch 00000269412235B0>, < cv2.DMatch 00000269412235D0>, < cv2.DMatch 00000269412235F0>, < cv2.DMatch 0000026941223610>, < cv2.DMatch 0000026941223630>, < cv2.DMatch 0000026941223650>, < cv2.DMatch 0000026941223670>, < cv2.DMatch 0000026941223690>, < cv2.DMatch 00000269412236B0>, < cv2.DMatch 00000269412236D0>, < cv2.DMatch 00000269412236F0>, < cv2.DMatch 0000026941223710>, < cv2.DMatch 0000026941223730>, < cv2.DMatch 0000026941223750>, < cv2.DMatch 0000026941223770>, < cv2.DMatch 0000026941223790>, < cv2.DMatch 00000269412237B0>, < cv2.DMatch 00000269412237D0>, < cv2.DMatch 00000269412237F0>, < cv2.DMatch 0000026941223810>, < cv2.DMatch 0000026941223830>, < cv2.DMatch 0000026941223850>, < cv2.DMatch 0000026941223870>, < cv2.DMatch 0000026941223890>, < cv2.DMatch 00000269412238B0>, < cv2.DMatch 00000269412238D0>, < cv2.DMatch 00000269412238F0>, < cv2.DMatch 0000026941223910>, < cv2.DMatch 0000026941223930>, < cv2.DMatch 0000026941223950>, < cv2.DMatch 0000026941223970>, < cv2.DMatch 0000026941223990>, < cv2.DMatch 00000269412239B0>, < cv2.DMatch 00000269412239D0>, < cv2.DMatch 00000269412239F0>, < cv2.DMatch 0000026941223A10>, < cv2.DMatch 0000026941223A30>, < cv2.DMatch 0000026941223A50>, < cv2.DMatch 0000026941223A70>, < cv2.DMatch 0000026941223A90>, < cv2.DMatch 0000026941223AB0>, < cv2.DMatch 0000026941223AD0>, < cv2.DMatch 0000026941223AF0>), 'estimated_translation_inliers': [((524.0, 1116.0), (531.0, 126.0)), ((606.0, 1036.0), (614.0, 45.0)), ((607.0, 1028.0), (614.4000244140625, 37.20000076293945)), ((535.0, 1158.0), (542.0, 168.0)), ((535.0, 1161.0), (542.0, 170.0)), ((606.0, 1035.60009765625), (613.2000122070312, 44.400001525878906)), ((934.800048828125, 1004.4000244140625), (942.0000610351562, 13.200000762939453)), ((519.6000366210938, 1119.60009765625), (526.800048828125, 128.40000915527344)), ((523.2000122070312, 1116.0), (530.4000244140625, 126.00000762939453)), ((1436.4000244140625, 1162.800048828125), (1446.0, 173.0)), ((606.2400512695312, 1033.9200439453125), (613.4400634765625, 43.20000457763672)), ((609.1199951171875, 1032.47998046875), (616.800048828125, 42.0)), ((606.2400512695312, 1028.1600341796875), (614.8800048828125, 37.44000244140625))], 'estimated_translation_validity': {'overall': True, 'individual': [True, True, True, True, True, True, True, True, True, True, True, True, True]}}, ('a_myimages07.jpg', 'a_myimages08.jpg'): {'matches': (< cv2.DMatch 0000026940D5B550>, < cv2.DMatch 0000026940D5B570>, < cv2.DMatch 0000026940D5BE70>, < cv2.DMatch 000002691963A930>, < cv2.DMatch 00000269412282F0>, < cv2.DMatch 0000026941228190>, < cv2.DMatch 0000026941228090>, < cv2.DMatch 0000026941228210>, < cv2.DMatch 00000269412281D0>, < cv2.DMatch 0000026941228310>, < cv2.DMatch 0000026941228150>, < cv2.DMatch 00000269412281F0>, < cv2.DMatch 0000026941228110>, < cv2.DMatch 0000026941228290>, < cv2.DMatch 0000026941228070>, < cv2.DMatch 0000026941228230>, < cv2.DMatch 0000026941228590>, < cv2.DMatch 00000269412283D0>, < cv2.DMatch 00000269412285F0>, < cv2.DMatch 0000026941228370>, < cv2.DMatch 0000026941228470>, < cv2.DMatch 0000026941228610>, < cv2.DMatch 0000026941228690>, < cv2.DMatch 0000026941228410>, < cv2.DMatch 00000269412283B0>, < cv2.DMatch 00000269412284D0>, < cv2.DMatch 0000026941228510>, < cv2.DMatch 00000269412285B0>, < cv2.DMatch 00000269412285D0>, < cv2.DMatch 0000026941228350>, < cv2.DMatch 0000026941228450>, < cv2.DMatch 00000269412284F0>, < cv2.DMatch 0000026941228550>, < cv2.DMatch 00000269412284B0>, < cv2.DMatch 0000026941228670>, < cv2.DMatch 0000026941228530>, < cv2.DMatch 0000026941228570>, < cv2.DMatch 00000269412283F0>, < cv2.DMatch 0000026941228650>, < cv2.DMatch 00000269412286B0>, < cv2.DMatch 00000269412286D0>, < cv2.DMatch 00000269412286F0>, < cv2.DMatch 0000026941228710>, < cv2.DMatch 0000026941228730>, < cv2.DMatch 0000026941228750>, < cv2.DMatch 0000026941228770>, < cv2.DMatch 0000026941228790>, < cv2.DMatch 00000269412287B0>, < cv2.DMatch 00000269412287D0>, < cv2.DMatch 00000269412287F0>, < cv2.DMatch 0000026941228810>, < cv2.DMatch 0000026941228830>, < cv2.DMatch 0000026941228850>, < cv2.DMatch 0000026941228870>), 'estimated_translation_inliers': [((496.0, 1187.0), (502.8000183105469, 177.60000610351562)), ((1135.0, 1063.0), (1142.0, 55.0)), ((1148.4000244140625, 1060.800048828125), (1155.60009765625, 52.80000305175781)), ((495.6000061035156, 1186.800048828125), (502.5600280761719, 177.12001037597656)), ((1144.800048828125, 1052.6400146484375), (1150.84814453125, 46.656005859375))], 'estimated_translation_validity': {'overall': True, 'individual': [True, True, True, True, True]}}, ('a_myimages08.jpg', 'a_myimages09.jpg'): {'matches': (< cv2.DMatch 0000026941223BF0>, < cv2.DMatch 0000026941220130>, < cv2.DMatch 0000026941220650>, < cv2.DMatch 0000026941222B10>, < cv2.DMatch 0000026941228B90>, < cv2.DMatch 0000026941228B10>, < cv2.DMatch 0000026941228950>, < cv2.DMatch 0000026941228A30>, < cv2.DMatch 0000026941228C50>, < cv2.DMatch 0000026941228EF0>, < cv2.DMatch 0000026941228AB0>, < cv2.DMatch 0000026941228C30>, < cv2.DMatch 0000026941228E30>, < cv2.DMatch 0000026941228ED0>, < cv2.DMatch 0000026941228B50>, < cv2.DMatch 0000026941228EB0>, < cv2.DMatch 0000026941228C90>, < cv2.DMatch 0000026941228B70>, < cv2.DMatch 0000026941228E50>, < cv2.DMatch 0000026941228D70>, < cv2.DMatch 0000026941228F10>, < cv2.DMatch 0000026941228910>, < cv2.DMatch 0000026941228E90>, < cv2.DMatch 0000026941228E10>, < cv2.DMatch 0000026941228BB0>, < cv2.DMatch 0000026941228C10>, < cv2.DMatch 0000026941228D90>, < cv2.DMatch 0000026941228990>, < cv2.DMatch 0000026941228AF0>, < cv2.DMatch 0000026941228E70>, < cv2.DMatch 00000269412289B0>, < cv2.DMatch 0000026941228B30>, < cv2.DMatch 0000026941228DD0>, < cv2.DMatch 0000026941228D10>, < cv2.DMatch 0000026941228CD0>, < cv2.DMatch 0000026941228DF0>, < cv2.DMatch 0000026941228970>, < cv2.DMatch 0000026941228930>, < cv2.DMatch 0000026941228DB0>, < cv2.DMatch 0000026941228F50>, < cv2.DMatch 0000026941228D30>, < cv2.DMatch 0000026941228F30>, < cv2.DMatch 0000026941229050>, < cv2.DMatch 0000026941229070>, < cv2.DMatch 0000026941229090>, < cv2.DMatch 00000269412290B0>, < cv2.DMatch 00000269412290D0>, < cv2.DMatch 00000269412290F0>, < cv2.DMatch 0000026941229110>, < cv2.DMatch 0000026941229130>, < cv2.DMatch 0000026941229150>, < cv2.DMatch 0000026941229170>, < cv2.DMatch 0000026941229190>, < cv2.DMatch 00000269412291B0>, < cv2.DMatch 00000269412291D0>, < cv2.DMatch 00000269412291F0>, < cv2.DMatch 0000026941229210>, < cv2.DMatch 0000026941229230>, < cv2.DMatch 0000026941229250>, < cv2.DMatch 0000026941229270>, < cv2.DMatch 0000026941229290>, < cv2.DMatch 00000269412292B0>, < cv2.DMatch 00000269412292D0>), 'estimated_translation_inliers': [((561.0, 1062.0), (569.0, 123.0)), ((1130.0, 1010.0), (1138.0, 71.0)), ((832.0, 1033.0), (840.0, 93.0)), ((1513.0, 988.0), (1521.0, 52.0)), ((1553.0, 1155.0), (1559.52001953125, 220.32000732421875)), ((636.0, 1138.0), (643.0, 199.0)), ((641.0, 1136.0), (646.800048828125, 196.8000030517578)), ((757.0, 1122.0), (764.0, 182.0)), ((1024.800048828125, 1107.60009765625), (1033.0, 169.0)), ((1513.2000732421875, 987.6000366210938), (1520.4000244140625, 51.60000228881836)), ((1554.0001220703125, 1154.4000244140625), (1560.3841552734375, 219.45602416992188)), ((1452.9600830078125, 1170.7200927734375), (1461.60009765625, 236.16000366210938)), ((1100.1600341796875, 1164.9600830078125), (1108.800048828125, 226.8000030517578)), ((1512.0, 987.8400268554688), (1520.6400146484375, 51.840003967285156)), ((639.3600463867188, 1134.7200927734375), (646.5599975585938, 195.8400115966797)), ((635.0400390625, 1128.9600830078125), (642.2400512695312, 190.0800018310547))], 'estimated_translation_validity': {'overall': True, 'individual': [True, True, True, True, True, True, True, True, True, True, True, True, True, True, True, True]}}, ('a_myimages09.jpg', 'a_myimages10.jpg'): {'matches': (< cv2.DMatch 00000269412219B0>, < cv2.DMatch 0000026941220E30>, < cv2.DMatch 0000026919638BF0>, < cv2.DMatch 0000026919810530>, < cv2.DMatch 00000269412293F0>, < cv2.DMatch 00000269412295D0>, < cv2.DMatch 0000026941229490>, < cv2.DMatch 00000269412294D0>, < cv2.DMatch 0000026941229350>, < cv2.DMatch 0000026941229530>, < cv2.DMatch 0000026941229590>, < cv2.DMatch 00000269412297B0>, < cv2.DMatch 00000269412298D0>, < cv2.DMatch 00000269412297D0>, < cv2.DMatch 0000026941229470>, < cv2.DMatch 0000026941229370>, < cv2.DMatch 0000026941229790>, < cv2.DMatch 00000269412295B0>, < cv2.DMatch 0000026941229670>, < cv2.DMatch 0000026941229510>, < cv2.DMatch 00000269412296F0>, < cv2.DMatch 00000269412297F0>, < cv2.DMatch 0000026941229B50>, < cv2.DMatch 0000026941229AF0>, < cv2.DMatch 0000026941229B30>, < cv2.DMatch 0000026941229C30>, < cv2.DMatch 0000026941229B10>, < cv2.DMatch 0000026941229E50>, < cv2.DMatch 0000026941229E70>, < cv2.DMatch 0000026941229E90>, < cv2.DMatch 0000026941229EB0>, < cv2.DMatch 0000026941229ED0>, < cv2.DMatch 0000026941229EF0>, < cv2.DMatch 0000026941229F10>, < cv2.DMatch 0000026941229F30>, < cv2.DMatch 0000026941229F50>, < cv2.DMatch 0000026941229F70>, < cv2.DMatch 0000026941229F90>, < cv2.DMatch 0000026941229FB0>, < cv2.DMatch 0000026941229FD0>, < cv2.DMatch 0000026941229FF0>, < cv2.DMatch 000002694122A010>, < cv2.DMatch 000002694122A030>, < cv2.DMatch 000002694122A050>, < cv2.DMatch 000002694122A070>, < cv2.DMatch 000002694122A090>, < cv2.DMatch 000002694122A0B0>, < cv2.DMatch 000002694122A0D0>, < cv2.DMatch 000002694122A0F0>, < cv2.DMatch 000002694122A110>, < cv2.DMatch 000002694122A130>, < cv2.DMatch 000002694122A150>, < cv2.DMatch 000002694122A170>, < cv2.DMatch 000002694122A190>, < cv2.DMatch 000002694122A1B0>, < cv2.DMatch 000002694122A1D0>, < cv2.DMatch 000002694122A1F0>, < cv2.DMatch 000002694122A210>, < cv2.DMatch 000002694122A230>, < cv2.DMatch 000002694122A250>), 'estimated_translation_inliers': [((740.0, 957.0), (745.0, 241.0)), ((745.0, 957.0), (748.0, 241.0)), ((1157.0, 1076.0), (1162.0, 360.0)), ((741.0, 961.0), (745.0, 245.0)), ((458.0, 1120.0), (461.0, 405.0)), ((398.0, 1152.0), (402.0, 437.0)), ((1415.0, 850.0), (1420.0, 136.0)), ((1156.800048828125, 1076.4000244140625), (1161.60009765625, 360.0)), ((524.4000244140625, 951.6000366210938), (528.4800415039062, 234.7200164794922)), ((1412.4000244140625, 849.6000366210938), (1419.840087890625, 135.36000061035156)), ((332.4000244140625, 849.6000366210938), (336.0, 133.20001220703125)), ((1104.0, 846.0000610351562), (1107.3599853515625, 129.60000610351562)), ((745.2000122070312, 956.4000244140625), (748.800048828125, 240.00001525878906)), ((525.6000366210938, 945.6000366210938), (529.2000122070312, 229.20001220703125)), ((528.0, 955.2000122070312), (532.800048828125, 238.8000030517578)), ((528.0, 945.6000366210938), (531.6000366210938, 229.20001220703125)), ((524.4000244140625, 948.0000610351562), (528.0, 231.60000610351562)), ((534.2400512695312, 950.4000244140625), (540.0, 236.16000366210938))], 'estimated_translation_validity': {'overall': True, 'individual': [True, True, True, True, True, True, True, True, True, True, True, True, True, True, True, True, True, True]}}}}\n"
     ]
    }
   ],
   "source": [
    "ImageM=ImageManager(mis_project.get_image_paths())\n",
    "\n",
    "OrbM=ORBManager(ImageM,default_ORB_parameters={\"nfeatures\": 500,\"edgeThreshold\": 5 })\n",
    "\n",
    "AlignCVM=AlignCVManager(ImageM,OrbM)\n",
    "\n",
    "match_combinations=generate_match_combinations(strategy=\"order\",order=sorted(mis_project.get_image_names()))\n",
    "\n",
    "alignment_id=AlignCVM.run_alignment(match_combinations)\n",
    "alignment_result=AlignCVM.get_alignment(alignment_id)\n",
    "print(alignment_result)"
   ]
  },
  {
   "cell_type": "code",
   "execution_count": 4,
   "metadata": {},
   "outputs": [
    {
     "name": "stdout",
     "output_type": "stream",
     "text": [
      "Warning: Match ['a_myimages01.jpg', 'a_myimages02.jpg'] not valid. No relation saved.\n",
      "Warning: Match ['a_myimages02.jpg', 'a_myimages03.jpg'] not valid. No relation saved.\n",
      "Prior Alignments\n"
     ]
    },
    {
     "data": {
      "text/plain": [
       "[[('a_myimages01.jpg', 'a_myimages02.jpg'), (12, -1088)],\n",
       " [('a_myimages02.jpg', 'a_myimages03.jpg'), (8, -1141)],\n",
       " [('a_myimages03.jpg', 'a_myimages04.jpg'), (-129, -1058)],\n",
       " [('a_myimages04.jpg', 'a_myimages05.jpg'), (11, -943)],\n",
       " [('a_myimages05.jpg', 'a_myimages06.jpg'), (5, -860)],\n",
       " [('a_myimages06.jpg', 'a_myimages07.jpg'), (10, -990)],\n",
       " [('a_myimages07.jpg', 'a_myimages08.jpg'), (9, -1009)],\n",
       " [('a_myimages08.jpg', 'a_myimages09.jpg'), (9, -939)],\n",
       " [('a_myimages09.jpg', 'a_myimages10.jpg'), (3, -722)]]"
      ]
     },
     "metadata": {},
     "output_type": "display_data"
    },
    {
     "name": "stdout",
     "output_type": "stream",
     "text": [
      "Computer Vision Alignments\n"
     ]
    },
    {
     "data": {
      "text/plain": [
       "[[('a_myimages03.jpg', 'a_myimages04.jpg'), (-124, -1060)],\n",
       " [('a_myimages04.jpg', 'a_myimages05.jpg'), (9, -941)],\n",
       " [('a_myimages05.jpg', 'a_myimages06.jpg'), (6, -857)],\n",
       " [('a_myimages06.jpg', 'a_myimages07.jpg'), (7, -990)],\n",
       " [('a_myimages07.jpg', 'a_myimages08.jpg'), (6, -1008)],\n",
       " [('a_myimages08.jpg', 'a_myimages09.jpg'), (7, -937)],\n",
       " [('a_myimages09.jpg', 'a_myimages10.jpg'), (4, -715)]]"
      ]
     },
     "metadata": {},
     "output_type": "display_data"
    }
   ],
   "source": [
    "mis_project_copy=load_mis(mis_filepath)\n",
    "mis_project_copy._relations=[]\n",
    "\n",
    "AlignCVM.update_mis(mis_project_copy,alignment_id)\n",
    "#TODO add an update relation option?\n",
    "print(\"Prior Alignments\")\n",
    "display(mis_project.get_rels(\"r\"))\n",
    "print(\"Computer Vision Alignments\")\n",
    "display(mis_project_copy.get_rels(\"r\"))"
   ]
  },
  {
   "cell_type": "code",
   "execution_count": 5,
   "metadata": {},
   "outputs": [],
   "source": [
    "# save_mis(r\"..\\\\..\\example\\data\\set_a\\mymis_aligncv.mis\",mis_project_copy)"
   ]
  },
  {
   "cell_type": "code",
   "execution_count": 6,
   "metadata": {},
   "outputs": [
    {
     "name": "stdout",
     "output_type": "stream",
     "text": [
      "[['a_myimages01.jpg', 'a_myimages02.jpg'], ['a_myimages02.jpg', 'a_myimages03.jpg']]\n",
      "{'alignment_parameters': {'match_combinations': [['a_myimages01.jpg', 'a_myimages02.jpg'], ['a_myimages02.jpg', 'a_myimages03.jpg']], 'match_reduction_ratio': 0.5, 'ORB_parameters': {'nfeatures': 1000, 'edgeThreshold': 5}, 'source': 'run_alignment'}, 'alignment_data': {('a_myimages01.jpg', 'a_myimages02.jpg'): {'matches': (< cv2.DMatch 000002691963AA30>, < cv2.DMatch 0000026941229CF0>, < cv2.DMatch 0000026940D5B4B0>, < cv2.DMatch 0000026940D5B990>, < cv2.DMatch 0000026940D5BD50>, < cv2.DMatch 0000026940D5BBF0>, < cv2.DMatch 0000026940D5B150>, < cv2.DMatch 000002694123AA90>, < cv2.DMatch 000002694123A990>, < cv2.DMatch 000002694123A9D0>, < cv2.DMatch 000002694123AD30>, < cv2.DMatch 000002694123AB10>, < cv2.DMatch 000002694123A970>, < cv2.DMatch 000002694123AAD0>, < cv2.DMatch 000002694123ABD0>, < cv2.DMatch 000002694123A950>, < cv2.DMatch 000002694123AC50>, < cv2.DMatch 000002694123ABB0>, < cv2.DMatch 000002694123A8F0>, < cv2.DMatch 000002694123A890>, < cv2.DMatch 000002694123AAB0>, < cv2.DMatch 000002694123A930>, < cv2.DMatch 000002694123A870>, < cv2.DMatch 000002694123AAF0>, < cv2.DMatch 000002694123ABF0>, < cv2.DMatch 000002694123AB50>, < cv2.DMatch 000002694123AC10>, < cv2.DMatch 000002694123AC30>, < cv2.DMatch 000002694123AC70>, < cv2.DMatch 000002694123ACB0>, < cv2.DMatch 000002694123ACD0>, < cv2.DMatch 000002694123ACF0>, < cv2.DMatch 000002694123AD10>, < cv2.DMatch 000002694123AD50>, < cv2.DMatch 000002694123AD70>, < cv2.DMatch 000002694123AD90>, < cv2.DMatch 000002694123ADB0>, < cv2.DMatch 000002694123ADD0>, < cv2.DMatch 000002694123ADF0>, < cv2.DMatch 000002694123AE10>, < cv2.DMatch 000002694123AE30>, < cv2.DMatch 000002694123AE50>, < cv2.DMatch 000002694123AE70>, < cv2.DMatch 000002694123AE90>, < cv2.DMatch 000002694123AEB0>, < cv2.DMatch 000002694123AED0>, < cv2.DMatch 000002694123AEF0>, < cv2.DMatch 000002694123AF10>, < cv2.DMatch 000002694123AF30>, < cv2.DMatch 000002694123AF50>, < cv2.DMatch 000002694123AF70>, < cv2.DMatch 000002694123AF90>, < cv2.DMatch 000002694123AFB0>, < cv2.DMatch 000002694123AFD0>, < cv2.DMatch 000002694123AFF0>, < cv2.DMatch 000002694123B010>, < cv2.DMatch 000002694123B030>, < cv2.DMatch 000002694123B050>, < cv2.DMatch 000002694123B070>, < cv2.DMatch 000002694123B090>, < cv2.DMatch 000002694123B0B0>, < cv2.DMatch 000002694123B0D0>, < cv2.DMatch 000002694123B0F0>, < cv2.DMatch 000002694123B110>, < cv2.DMatch 000002694123B130>, < cv2.DMatch 000002694123B150>, < cv2.DMatch 000002694123B170>, < cv2.DMatch 000002694123B190>, < cv2.DMatch 000002694123B1B0>, < cv2.DMatch 000002694123B1D0>, < cv2.DMatch 000002694123B1F0>, < cv2.DMatch 000002694123B210>, < cv2.DMatch 000002694123B230>, < cv2.DMatch 000002694123B250>, < cv2.DMatch 000002694123B270>, < cv2.DMatch 000002694123B290>, < cv2.DMatch 000002694123B2B0>, < cv2.DMatch 000002694123B2D0>, < cv2.DMatch 000002694123B2F0>, < cv2.DMatch 000002694123B310>, < cv2.DMatch 000002694123B330>, < cv2.DMatch 000002694123B350>, < cv2.DMatch 000002694123B370>, < cv2.DMatch 000002694123B390>, < cv2.DMatch 000002694123B3B0>, < cv2.DMatch 000002694123B3D0>, < cv2.DMatch 000002694123B3F0>, < cv2.DMatch 000002694123B410>, < cv2.DMatch 000002694123B430>, < cv2.DMatch 000002694123B450>, < cv2.DMatch 000002694123B470>, < cv2.DMatch 000002694123B490>, < cv2.DMatch 000002694123B4B0>, < cv2.DMatch 000002694123B4D0>, < cv2.DMatch 000002694123B4F0>, < cv2.DMatch 000002694123B510>, < cv2.DMatch 000002694123B530>, < cv2.DMatch 000002694123B550>, < cv2.DMatch 000002694123B570>, < cv2.DMatch 000002694123B590>, < cv2.DMatch 000002694123B5B0>, < cv2.DMatch 000002694123B5D0>, < cv2.DMatch 000002694123B5F0>, < cv2.DMatch 000002694123B610>, < cv2.DMatch 000002694123B630>, < cv2.DMatch 000002694123B650>, < cv2.DMatch 000002694123B670>), 'estimated_translation_inliers': [((1225.0, 480.0), (1163.52001953125, 668.1600341796875)), ((1224.0, 480.0000305175781), (1162.944091796875, 667.008056640625)), ((1329.60009765625, 1147.2000732421875), (1339.0, 61.0)), ((1329.1199951171875, 1146.239990234375), (1339.2000732421875, 60.480003356933594))], 'estimated_translation_validity': {'overall': False, 'individual': [False, False, False, False]}}, ('a_myimages02.jpg', 'a_myimages03.jpg'): {'matches': (< cv2.DMatch 000002694123BDF0>, < cv2.DMatch 000002694123B930>, < cv2.DMatch 000002694123BA30>, < cv2.DMatch 000002694123BA70>, < cv2.DMatch 000002694123BCB0>, < cv2.DMatch 000002694123BED0>, < cv2.DMatch 000002694123B7B0>, < cv2.DMatch 000002694123BBB0>, < cv2.DMatch 000002694123B7D0>, < cv2.DMatch 000002694123B7F0>, < cv2.DMatch 000002694123B990>, < cv2.DMatch 000002694123B8F0>, < cv2.DMatch 000002694123BE70>, < cv2.DMatch 000002694123BD50>, < cv2.DMatch 000002694123B910>, < cv2.DMatch 000002694123BEB0>, < cv2.DMatch 000002694123BC90>, < cv2.DMatch 000002694123B770>, < cv2.DMatch 000002694123BAD0>, < cv2.DMatch 000002694123BAF0>, < cv2.DMatch 000002694123B850>, < cv2.DMatch 000002694123BDB0>, < cv2.DMatch 000002694123BEF0>, < cv2.DMatch 000002694123BF70>, < cv2.DMatch 000002694123B810>, < cv2.DMatch 000002694123B6D0>, < cv2.DMatch 000002694123BD70>, < cv2.DMatch 000002694123BF50>, < cv2.DMatch 000002694123B6F0>, < cv2.DMatch 000002694123BD10>, < cv2.DMatch 000002694123B750>, < cv2.DMatch 000002694123B8B0>, < cv2.DMatch 000002694123BCD0>, < cv2.DMatch 000002694123BB10>, < cv2.DMatch 000002694123B9D0>, < cv2.DMatch 000002694123B710>, < cv2.DMatch 000002694123BFB0>, < cv2.DMatch 000002694123BA10>, < cv2.DMatch 000002694123BF90>, < cv2.DMatch 000002694123B830>, < cv2.DMatch 000002694123B9B0>, < cv2.DMatch 000002694123BB90>, < cv2.DMatch 000002694123AB70>, < cv2.DMatch 00000269198107D0>, < cv2.DMatch 0000026941223DB0>, < cv2.DMatch 0000026941220ED0>, < cv2.DMatch 0000026941223E70>, < cv2.DMatch 00000269412205B0>, < cv2.DMatch 00000269412226D0>, < cv2.DMatch 00000269412213F0>, < cv2.DMatch 000002693FB332F0>, < cv2.DMatch 0000026940D5B410>, < cv2.DMatch 0000026940D5B9D0>, < cv2.DMatch 0000026940D5BCB0>, < cv2.DMatch 0000026940D593D0>, < cv2.DMatch 0000026940D5BFB0>, < cv2.DMatch 0000026940D5BAF0>, < cv2.DMatch 0000026940D5B9B0>, < cv2.DMatch 0000026940D5BA10>, < cv2.DMatch 0000026940D5BF90>, < cv2.DMatch 0000026940D5BB90>, < cv2.DMatch 0000026940D5BFD0>, < cv2.DMatch 0000026940D5BB30>, < cv2.DMatch 0000026940D5BC10>, < cv2.DMatch 0000026940D5B970>, < cv2.DMatch 0000026940D5B1D0>, < cv2.DMatch 0000026940D5BA70>, < cv2.DMatch 0000026940D5BBB0>, < cv2.DMatch 000002694122AB50>, < cv2.DMatch 0000026941229D50>, < cv2.DMatch 0000026941229D10>, < cv2.DMatch 0000026941229BD0>, < cv2.DMatch 000002694122A4D0>, < cv2.DMatch 0000026941228630>, < cv2.DMatch 000002694122AB10>, < cv2.DMatch 000002694122AA50>, < cv2.DMatch 0000026941228390>, < cv2.DMatch 0000026941229BB0>, < cv2.DMatch 000002694122A5D0>, < cv2.DMatch 0000026941229390>, < cv2.DMatch 0000026941229E10>, < cv2.DMatch 0000026941229C10>, < cv2.DMatch 0000026941229010>, < cv2.DMatch 000002694122A310>, < cv2.DMatch 000002694122AB30>, < cv2.DMatch 000002694122AAB0>, < cv2.DMatch 0000026941229030>, < cv2.DMatch 000002694122AAF0>, < cv2.DMatch 0000026941229C70>, < cv2.DMatch 0000026941229C50>, < cv2.DMatch 000002694122AC50>, < cv2.DMatch 000002694122ABF0>, < cv2.DMatch 000002694122A3D0>, < cv2.DMatch 0000026941229B90>, < cv2.DMatch 0000026941229CD0>, < cv2.DMatch 00000269412701B0>, < cv2.DMatch 00000269412703D0>, < cv2.DMatch 0000026941270250>, < cv2.DMatch 00000269412702B0>, < cv2.DMatch 00000269412700F0>, < cv2.DMatch 0000026941270110>, < cv2.DMatch 0000026941270350>, < cv2.DMatch 0000026941270310>, < cv2.DMatch 0000026941270170>, < cv2.DMatch 0000026941270030>, < cv2.DMatch 0000026941270230>, < cv2.DMatch 0000026941270370>, < cv2.DMatch 0000026941270390>, < cv2.DMatch 0000026941270050>, < cv2.DMatch 0000026941270070>, < cv2.DMatch 0000026941270150>, < cv2.DMatch 00000269412702F0>, < cv2.DMatch 0000026941270190>, < cv2.DMatch 00000269412702D0>, < cv2.DMatch 00000269412700B0>, < cv2.DMatch 0000026941270130>, < cv2.DMatch 0000026941270290>), 'estimated_translation_inliers': [((524.0, 960.0), (915.6000366210938, 36.0)), ((902.0, 1184.0), (911.0, 36.0)), ((524.4000244140625, 960.0000610351562), (914.112060546875, 36.288002014160156)), ((1423.2000732421875, 687.6000366210938), (905.4721069335938, 41.47200393676758)), ((902.4000244140625, 1183.2000732421875), (910.800048828125, 36.0))], 'estimated_translation_validity': {'overall': False, 'individual': [False, False, False, False, False]}}}}\n"
     ]
    }
   ],
   "source": [
    "parameter_progression_step=1\n",
    "alignment_id1=AlignCVM.run_alignment(AlignCVM.get_invalid_match_combinations(alignment_id),**AlignCVM.alignment_parameter_progression(step=parameter_progression_step))\n",
    "print(AlignCVM.get_invalid_match_combinations(alignment_id1))\n",
    "alignment_result1=AlignCVM.get_alignment(alignment_id1)\n",
    "print(alignment_result1)"
   ]
  },
  {
   "cell_type": "code",
   "execution_count": 7,
   "metadata": {},
   "outputs": [
    {
     "name": "stdout",
     "output_type": "stream",
     "text": [
      "[]\n",
      "{'alignment_parameters': {'match_combinations': [['a_myimages01.jpg', 'a_myimages02.jpg'], ['a_myimages02.jpg', 'a_myimages03.jpg']], 'match_reduction_ratio': 0.5, 'ORB_parameters': {'nfeatures': 2000, 'edgeThreshold': 5}, 'source': 'run_alignment'}, 'alignment_data': {('a_myimages01.jpg', 'a_myimages02.jpg'): {'matches': (< cv2.DMatch 000002691963B550>, < cv2.DMatch 000002694122AB70>, < cv2.DMatch 000002694122AB90>, < cv2.DMatch 0000026941229DD0>, < cv2.DMatch 0000026941228FD0>, < cv2.DMatch 000002694122ABB0>, < cv2.DMatch 0000026941229C90>, < cv2.DMatch 0000026941222570>, < cv2.DMatch 0000026941223B90>, < cv2.DMatch 00000269412221F0>, < cv2.DMatch 0000026941222C90>, < cv2.DMatch 0000026941223D90>, < cv2.DMatch 0000026941271150>, < cv2.DMatch 0000026941270BF0>, < cv2.DMatch 0000026941270210>, < cv2.DMatch 0000026941270E70>, < cv2.DMatch 0000026941270EF0>, < cv2.DMatch 0000026941270410>, < cv2.DMatch 0000026941270FF0>, < cv2.DMatch 0000026941270E30>, < cv2.DMatch 0000026941271650>, < cv2.DMatch 0000026941270F50>, < cv2.DMatch 0000026941270730>, < cv2.DMatch 0000026941270090>, < cv2.DMatch 0000026941270C10>, < cv2.DMatch 00000269412706D0>, < cv2.DMatch 0000026941270DF0>, < cv2.DMatch 0000026941271430>, < cv2.DMatch 0000026941271070>, < cv2.DMatch 00000269412710B0>, < cv2.DMatch 00000269412703B0>, < cv2.DMatch 0000026941270A90>, < cv2.DMatch 00000269412705D0>, < cv2.DMatch 0000026941270CB0>, < cv2.DMatch 0000026941271490>, < cv2.DMatch 00000269412712D0>, < cv2.DMatch 0000026941271130>, < cv2.DMatch 0000026941270AB0>, < cv2.DMatch 00000269412705F0>, < cv2.DMatch 0000026941270490>, < cv2.DMatch 0000026941271030>, < cv2.DMatch 00000269412715B0>, < cv2.DMatch 0000026941270A30>, < cv2.DMatch 0000026941270ED0>, < cv2.DMatch 0000026941271330>, < cv2.DMatch 0000026941271410>, < cv2.DMatch 00000269412714D0>, < cv2.DMatch 00000269412700D0>, < cv2.DMatch 0000026941270BD0>, < cv2.DMatch 0000026941270C70>, < cv2.DMatch 0000026941270D50>, < cv2.DMatch 0000026941271310>, < cv2.DMatch 00000269412701F0>, < cv2.DMatch 0000026941271050>, < cv2.DMatch 0000026941271170>, < cv2.DMatch 0000026941271370>, < cv2.DMatch 0000026941270450>, < cv2.DMatch 0000026941270890>, < cv2.DMatch 00000269412709F0>, < cv2.DMatch 0000026941270AF0>, < cv2.DMatch 0000026941270AD0>, < cv2.DMatch 00000269412713D0>, < cv2.DMatch 0000026941271450>, < cv2.DMatch 0000026941270430>, < cv2.DMatch 00000269412707F0>, < cv2.DMatch 0000026941271470>, < cv2.DMatch 0000026941271550>, < cv2.DMatch 00000269412715F0>, < cv2.DMatch 0000026941271610>, < cv2.DMatch 0000026941270F90>, < cv2.DMatch 0000026941271190>, < cv2.DMatch 0000026941271010>, < cv2.DMatch 0000026941270710>, < cv2.DMatch 0000026941270670>, < cv2.DMatch 00000269412710F0>, < cv2.DMatch 0000026941270B10>, < cv2.DMatch 00000269412711F0>, < cv2.DMatch 00000269412707B0>, < cv2.DMatch 0000026941270650>, < cv2.DMatch 0000026941271590>, < cv2.DMatch 0000026941271690>, < cv2.DMatch 00000269412711B0>, < cv2.DMatch 00000269412709D0>, < cv2.DMatch 0000026941270270>, < cv2.DMatch 0000026941270F10>, < cv2.DMatch 0000026941270DB0>, < cv2.DMatch 0000026941271350>, < cv2.DMatch 00000269412714B0>, < cv2.DMatch 0000026941271270>, < cv2.DMatch 0000026941270F30>, < cv2.DMatch 0000026941270C50>, < cv2.DMatch 00000269412713F0>, < cv2.DMatch 0000026941271090>, < cv2.DMatch 00000269412711D0>, < cv2.DMatch 00000269412715D0>, < cv2.DMatch 0000026941270D90>, < cv2.DMatch 0000026941271110>, < cv2.DMatch 0000026941271670>, < cv2.DMatch 0000026941270B90>, < cv2.DMatch 0000026941270A70>, < cv2.DMatch 0000026941270810>, < cv2.DMatch 00000269412706B0>, < cv2.DMatch 00000269412712F0>, < cv2.DMatch 0000026941270A10>, < cv2.DMatch 0000026941271510>, < cv2.DMatch 0000026941270E50>, < cv2.DMatch 00000269412709B0>, < cv2.DMatch 0000026941270F70>, < cv2.DMatch 00000269412706F0>, < cv2.DMatch 0000026941270330>, < cv2.DMatch 0000026941271250>, < cv2.DMatch 0000026941271230>, < cv2.DMatch 0000026941271530>, < cv2.DMatch 0000026941270750>, < cv2.DMatch 0000026941271570>, < cv2.DMatch 0000026941272630>, < cv2.DMatch 0000026941271F70>, < cv2.DMatch 00000269412725F0>, < cv2.DMatch 0000026941272030>, < cv2.DMatch 0000026941272010>, < cv2.DMatch 00000269412718D0>, < cv2.DMatch 0000026941270B30>, < cv2.DMatch 0000026941270850>, < cv2.DMatch 0000026941271DF0>, < cv2.DMatch 0000026941271DB0>, < cv2.DMatch 00000269412721F0>, < cv2.DMatch 0000026941271D70>, < cv2.DMatch 00000269412725D0>, < cv2.DMatch 0000026941271C70>, < cv2.DMatch 0000026941271AF0>, < cv2.DMatch 00000269412708F0>, < cv2.DMatch 00000269412723B0>, < cv2.DMatch 0000026941272350>, < cv2.DMatch 0000026941272210>, < cv2.DMatch 0000026941272090>, < cv2.DMatch 0000026941272730>, < cv2.DMatch 0000026941272290>, < cv2.DMatch 0000026941272190>, < cv2.DMatch 0000026941272690>, < cv2.DMatch 0000026941272370>, < cv2.DMatch 0000026941271C50>, < cv2.DMatch 0000026941270D10>, < cv2.DMatch 00000269412724B0>, < cv2.DMatch 0000026941272330>, < cv2.DMatch 0000026941271EB0>, < cv2.DMatch 0000026941271C10>, < cv2.DMatch 00000269412717D0>, < cv2.DMatch 0000026941270570>, < cv2.DMatch 0000026941272570>, < cv2.DMatch 0000026941272410>, < cv2.DMatch 00000269412722F0>, < cv2.DMatch 0000026941271ED0>, < cv2.DMatch 0000026941271970>, < cv2.DMatch 0000026941271710>, < cv2.DMatch 0000026941270690>, < cv2.DMatch 0000026941271FD0>, < cv2.DMatch 0000026941271E70>, < cv2.DMatch 0000026941271810>, < cv2.DMatch 0000026941272750>, < cv2.DMatch 0000026941272650>, < cv2.DMatch 0000026941271D10>, < cv2.DMatch 0000026941271CD0>, < cv2.DMatch 0000026941271C90>, < cv2.DMatch 0000026941271830>, < cv2.DMatch 0000026941270FB0>, < cv2.DMatch 0000026941270910>, < cv2.DMatch 0000026941270470>, < cv2.DMatch 00000269412721D0>, < cv2.DMatch 0000026941272050>, < cv2.DMatch 0000026941271FF0>, < cv2.DMatch 0000026941271F90>, < cv2.DMatch 0000026941271E90>, < cv2.DMatch 0000026941271E30>, < cv2.DMatch 0000026941271B50>, < cv2.DMatch 0000026941270E90>, < cv2.DMatch 0000026941270B70>, < cv2.DMatch 00000269412726D0>, < cv2.DMatch 00000269412726B0>, < cv2.DMatch 0000026941272610>, < cv2.DMatch 0000026941272530>, < cv2.DMatch 0000026941271BD0>, < cv2.DMatch 0000026941271990>, < cv2.DMatch 0000026941272510>, < cv2.DMatch 0000026941272490>, < cv2.DMatch 0000026941272250>, < cv2.DMatch 00000269412721B0>, < cv2.DMatch 00000269412720B0>, < cv2.DMatch 0000026941271C30>, < cv2.DMatch 0000026941271AD0>, < cv2.DMatch 00000269412704D0>, < cv2.DMatch 0000026941272430>, < cv2.DMatch 00000269412722B0>, < cv2.DMatch 0000026941271E50>, < cv2.DMatch 00000269412719D0>, < cv2.DMatch 00000269412717F0>, < cv2.DMatch 00000269412723D0>, < cv2.DMatch 0000026941272170>, < cv2.DMatch 0000026941271DD0>, < cv2.DMatch 0000026941271CB0>, < cv2.DMatch 0000026941271950>, < cv2.DMatch 00000269412716B0>, < cv2.DMatch 0000026941270B50>, < cv2.DMatch 0000026941272590>, < cv2.DMatch 00000269412724D0>, < cv2.DMatch 00000269412723F0>, < cv2.DMatch 0000026941272270>, < cv2.DMatch 00000269412720F0>, < cv2.DMatch 0000026941271D30>, < cv2.DMatch 0000026941271850>, < cv2.DMatch 0000026941270630>, < cv2.DMatch 00000269412708D0>, < cv2.DMatch 0000026941270990>, < cv2.DMatch 0000026941270C30>), 'estimated_translation_inliers': [((1327.0, 1148.0), (1337.0, 63.0)), ((1281.0, 1149.0), (1290.0, 63.0)), ((1028.4000244140625, 1140.0), (1036.800048828125, 52.80000305175781)), ((1329.60009765625, 1147.2000732421875), (1339.0, 61.0)), ((562.800048828125, 1150.800048828125), (571.2000122070312, 62.400001525878906)), ((1272.0, 1148.4000244140625), (1281.60009765625, 61.20000076293945)), ((564.4800415039062, 1166.4000244140625), (573.6000366210938, 78.0)), ((1280.1600341796875, 1147.6800537109375), (1290.0, 62.400001525878906))], 'estimated_translation_validity': {'overall': True, 'individual': [True, True, True, True, True, True, True, True]}}, ('a_myimages02.jpg', 'a_myimages03.jpg'): {'matches': (< cv2.DMatch 000002694123BE50>, < cv2.DMatch 000002694123BBD0>, < cv2.DMatch 000002694123BB30>, < cv2.DMatch 000002694123BE30>, < cv2.DMatch 0000026941271D90>, < cv2.DMatch 0000026941270D70>, < cv2.DMatch 0000026941272550>, < cv2.DMatch 0000026941271BF0>, < cv2.DMatch 0000026941270970>, < cv2.DMatch 00000269412705B0>, < cv2.DMatch 00000269412710D0>, < cv2.DMatch 0000026941271630>, < cv2.DMatch 00000269412718B0>, < cv2.DMatch 0000026941271F50>, < cv2.DMatch 00000269412719B0>, < cv2.DMatch 0000026941271A70>, < cv2.DMatch 0000026941271F10>, < cv2.DMatch 0000026941272150>, < cv2.DMatch 00000269412704F0>, < cv2.DMatch 00000269412703F0>, < cv2.DMatch 00000269412718F0>, < cv2.DMatch 0000026941270550>, < cv2.DMatch 0000026941271CF0>, < cv2.DMatch 0000026941272110>, < cv2.DMatch 00000269412726F0>, < cv2.DMatch 00000269412707D0>, < cv2.DMatch 0000026941271210>, < cv2.DMatch 00000269412719F0>, < cv2.DMatch 0000026941271FB0>, < cv2.DMatch 0000026941271BB0>, < cv2.DMatch 00000269412713B0>, < cv2.DMatch 0000026941271A50>, < cv2.DMatch 00000269412724F0>, < cv2.DMatch 0000026941272450>, < cv2.DMatch 0000026941271290>, < cv2.DMatch 00000269412701D0>, < cv2.DMatch 0000026941270DD0>, < cv2.DMatch 0000026941271B90>, < cv2.DMatch 00000269412717B0>, < cv2.DMatch 0000026941270590>, < cv2.DMatch 00000269412716D0>, < cv2.DMatch 0000026941270BB0>, < cv2.DMatch 00000269412708B0>, < cv2.DMatch 0000026941271A10>, < cv2.DMatch 00000269412704B0>, < cv2.DMatch 0000026941270FD0>, < cv2.DMatch 0000026941272310>, < cv2.DMatch 0000026941271D50>, < cv2.DMatch 0000026941270C90>, < cv2.DMatch 0000026941272130>, < cv2.DMatch 0000026941270510>, < cv2.DMatch 0000026941271930>, < cv2.DMatch 0000026941271750>, < cv2.DMatch 0000026941272070>, < cv2.DMatch 0000026941271890>, < cv2.DMatch 0000026941271EF0>, < cv2.DMatch 0000026941270830>, < cv2.DMatch 0000026941270770>, < cv2.DMatch 00000269412716F0>, < cv2.DMatch 0000026941270EB0>, < cv2.DMatch 0000026941273C70>, < cv2.DMatch 0000026941273F90>, < cv2.DMatch 0000026941273E70>, < cv2.DMatch 0000026941273410>, < cv2.DMatch 0000026941270CD0>, < cv2.DMatch 0000026941272AB0>, < cv2.DMatch 0000026941272E90>, < cv2.DMatch 0000026941273390>, < cv2.DMatch 0000026941273750>, < cv2.DMatch 0000026941273C90>, < cv2.DMatch 0000026941273370>, < cv2.DMatch 0000026941273650>, < cv2.DMatch 0000026941273730>, < cv2.DMatch 00000269412731B0>, < cv2.DMatch 00000269412733F0>, < cv2.DMatch 0000026941273EF0>, < cv2.DMatch 0000026941272CF0>, < cv2.DMatch 0000026941273070>, < cv2.DMatch 0000026941273CB0>, < cv2.DMatch 0000026941273F50>, < cv2.DMatch 00000269412729D0>, < cv2.DMatch 0000026941272D10>, < cv2.DMatch 0000026941272FD0>, < cv2.DMatch 0000026941273470>, < cv2.DMatch 0000026941273610>, < cv2.DMatch 0000026941273690>, < cv2.DMatch 0000026941273A50>, < cv2.DMatch 0000026941272950>, < cv2.DMatch 0000026941272990>, < cv2.DMatch 0000026941273770>, < cv2.DMatch 0000026941273DB0>, < cv2.DMatch 0000026941271790>, < cv2.DMatch 0000026941272910>, < cv2.DMatch 0000026941272A30>, < cv2.DMatch 0000026941273050>, < cv2.DMatch 0000026941273B70>, < cv2.DMatch 0000026941273C50>, < cv2.DMatch 0000026941271A90>, < cv2.DMatch 0000026941272C70>, < cv2.DMatch 00000269412732F0>, < cv2.DMatch 00000269412737D0>, < cv2.DMatch 0000026941273810>, < cv2.DMatch 0000026941273870>, < cv2.DMatch 0000026941273990>, < cv2.DMatch 00000269412727D0>, < cv2.DMatch 0000026941273110>, < cv2.DMatch 0000026941273230>, < cv2.DMatch 0000026941273310>, < cv2.DMatch 00000269412736B0>, < cv2.DMatch 0000026941273C30>, < cv2.DMatch 0000026941270CF0>, < cv2.DMatch 00000269412729B0>, < cv2.DMatch 0000026941272DD0>, < cv2.DMatch 00000269412730F0>, < cv2.DMatch 0000026941273250>, < cv2.DMatch 0000026941273BB0>, < cv2.DMatch 0000026941273E30>, < cv2.DMatch 0000026941272770>, < cv2.DMatch 0000026941272850>, < cv2.DMatch 0000026941272D50>, < cv2.DMatch 0000026941273170>, < cv2.DMatch 00000269412732B0>, < cv2.DMatch 00000269412733D0>, < cv2.DMatch 0000026941273710>, < cv2.DMatch 0000026941271A30>, < cv2.DMatch 0000026941272670>, < cv2.DMatch 0000026941272C30>, < cv2.DMatch 00000269412731D0>, < cv2.DMatch 0000026941273970>, < cv2.DMatch 0000026941273AD0>, < cv2.DMatch 0000026941273B10>, < cv2.DMatch 0000026941273FD0>, < cv2.DMatch 0000026941271910>, < cv2.DMatch 0000026941272870>, < cv2.DMatch 0000026941272B10>, < cv2.DMatch 0000026941272CB0>, < cv2.DMatch 00000269412734F0>, < cv2.DMatch 00000269412736F0>, < cv2.DMatch 0000026941273CD0>, < cv2.DMatch 0000026941273E50>, < cv2.DMatch 0000026941270A50>, < cv2.DMatch 0000026941272810>, < cv2.DMatch 0000026941272BD0>, < cv2.DMatch 0000026941272E50>, < cv2.DMatch 0000026941272E70>, < cv2.DMatch 0000026941273330>, < cv2.DMatch 00000269412734B0>, < cv2.DMatch 00000269412735D0>, < cv2.DMatch 0000026941273670>, < cv2.DMatch 0000026941273790>, < cv2.DMatch 0000026941273E90>, < cv2.DMatch 0000026941270D30>, < cv2.DMatch 00000269412729F0>, < cv2.DMatch 0000026941272CD0>, < cv2.DMatch 0000026941272FF0>, < cv2.DMatch 00000269412733B0>, < cv2.DMatch 0000026941273BD0>, < cv2.DMatch 0000026941273E10>, < cv2.DMatch 0000026941272890>, < cv2.DMatch 0000026941272F50>, < cv2.DMatch 0000026941273350>, < cv2.DMatch 0000026941273EB0>, < cv2.DMatch 0000026941272D70>, < cv2.DMatch 0000026941272DB0>, < cv2.DMatch 0000026941272ED0>, < cv2.DMatch 00000269412730B0>, < cv2.DMatch 00000269412737B0>, < cv2.DMatch 0000026941273AB0>, < cv2.DMatch 0000026941273D50>, < cv2.DMatch 00000269412728B0>, < cv2.DMatch 0000026941272DF0>, < cv2.DMatch 0000026941272F30>, < cv2.DMatch 00000269412731F0>, < cv2.DMatch 0000026941273D30>, < cv2.DMatch 0000026941272390>, < cv2.DMatch 0000026941271B30>, < cv2.DMatch 0000026941272D90>, < cv2.DMatch 0000026941272F10>, < cv2.DMatch 0000026941272F90>, < cv2.DMatch 0000026941273010>, < cv2.DMatch 0000026941273030>, < cv2.DMatch 00000269412735F0>, < cv2.DMatch 00000269412736D0>, < cv2.DMatch 00000269412739D0>, < cv2.DMatch 0000026941272A10>, < cv2.DMatch 0000026941272B50>, < cv2.DMatch 0000026941273130>, < cv2.DMatch 0000026941273290>, < cv2.DMatch 0000026941273830>, < cv2.DMatch 00000269412738B0>, < cv2.DMatch 0000026941273ED0>, < cv2.DMatch 0000026941271F30>, < cv2.DMatch 0000026941273150>, < cv2.DMatch 00000269412734D0>, < cv2.DMatch 00000269412737F0>, < cv2.DMatch 0000026941273A90>, < cv2.DMatch 0000026941273D90>, < cv2.DMatch 0000026941273DD0>, < cv2.DMatch 0000026941272AD0>, < cv2.DMatch 0000026941272C10>, < cv2.DMatch 0000026941272E30>, < cv2.DMatch 0000026941273530>, < cv2.DMatch 0000026941273B30>, < cv2.DMatch 0000026941273B50>, < cv2.DMatch 0000026941273D70>, < cv2.DMatch 00000269412727F0>, < cv2.DMatch 0000026941272970>, < cv2.DMatch 0000026941272A50>, < cv2.DMatch 0000026941273850>, < cv2.DMatch 00000269412738F0>, < cv2.DMatch 00000269412739F0>, < cv2.DMatch 0000026941270790>, < cv2.DMatch 00000269412735B0>), 'estimated_translation_inliers': [((899.0, 1185.0), (908.0, 38.0)), ((902.0, 1184.0), (911.0, 36.0)), ((1140.0, 1169.0), (1148.0, 23.0)), ((1133.0, 1165.0), (1141.0, 20.0)), ((666.0, 1161.60009765625), (676.0, 15.0)), ((902.4000244140625, 1183.2000732421875), (910.800048828125, 36.0)), ((897.6000366210938, 1184.4000244140625), (907.2000122070312, 37.20000076293945))], 'estimated_translation_validity': {'overall': True, 'individual': [True, True, True, True, True, True, True]}}}}\n"
     ]
    }
   ],
   "source": [
    "parameter_progression_step=2\n",
    "alignment_id2=AlignCVM.run_alignment(AlignCVM.get_invalid_match_combinations(alignment_id1),**AlignCVM.alignment_parameter_progression(step=parameter_progression_step))\n",
    "print(AlignCVM.get_invalid_match_combinations(alignment_id2))\n",
    "alignment_result2=AlignCVM.get_alignment(alignment_id2)\n",
    "print(alignment_result2)"
   ]
  },
  {
   "cell_type": "code",
   "execution_count": 8,
   "metadata": {},
   "outputs": [
    {
     "name": "stdout",
     "output_type": "stream",
     "text": [
      "[]\n"
     ]
    }
   ],
   "source": [
    "alignment_id_0_2=AlignCVM.merge_alignments([alignment_id,alignment_id2])\n",
    "print(AlignCVM.get_invalid_match_combinations(alignment_id_0_2))"
   ]
  },
  {
   "cell_type": "code",
   "execution_count": 11,
   "metadata": {},
   "outputs": [
    {
     "name": "stdout",
     "output_type": "stream",
     "text": [
      "Prior Alignments\n"
     ]
    },
    {
     "data": {
      "text/plain": [
       "[[('a_myimages01.jpg', 'a_myimages02.jpg'), (12, -1088)],\n",
       " [('a_myimages02.jpg', 'a_myimages03.jpg'), (8, -1141)],\n",
       " [('a_myimages03.jpg', 'a_myimages04.jpg'), (-129, -1058)],\n",
       " [('a_myimages04.jpg', 'a_myimages05.jpg'), (11, -943)],\n",
       " [('a_myimages05.jpg', 'a_myimages06.jpg'), (5, -860)],\n",
       " [('a_myimages06.jpg', 'a_myimages07.jpg'), (10, -990)],\n",
       " [('a_myimages07.jpg', 'a_myimages08.jpg'), (9, -1009)],\n",
       " [('a_myimages08.jpg', 'a_myimages09.jpg'), (9, -939)],\n",
       " [('a_myimages09.jpg', 'a_myimages10.jpg'), (3, -722)]]"
      ]
     },
     "metadata": {},
     "output_type": "display_data"
    },
    {
     "name": "stdout",
     "output_type": "stream",
     "text": [
      "Computer Vision Alignments\n"
     ]
    },
    {
     "data": {
      "text/plain": [
       "[[('a_myimages01.jpg', 'a_myimages02.jpg'), (9, -1086)],\n",
       " [('a_myimages02.jpg', 'a_myimages03.jpg'), (8, -1146)],\n",
       " [('a_myimages03.jpg', 'a_myimages04.jpg'), (-124, -1060)],\n",
       " [('a_myimages04.jpg', 'a_myimages05.jpg'), (9, -941)],\n",
       " [('a_myimages05.jpg', 'a_myimages06.jpg'), (6, -857)],\n",
       " [('a_myimages06.jpg', 'a_myimages07.jpg'), (7, -990)],\n",
       " [('a_myimages07.jpg', 'a_myimages08.jpg'), (6, -1008)],\n",
       " [('a_myimages08.jpg', 'a_myimages09.jpg'), (7, -937)],\n",
       " [('a_myimages09.jpg', 'a_myimages10.jpg'), (4, -715)]]"
      ]
     },
     "metadata": {},
     "output_type": "display_data"
    }
   ],
   "source": [
    "mis_project_copy=load_mis(mis_filepath)\n",
    "mis_project_copy._relations=[]\n",
    "\n",
    "AlignCVM.update_mis(mis_project_copy,alignment_id_0_2)\n",
    "#TODO add an update relation option?\n",
    "print(\"Prior Alignments\")\n",
    "display(mis_project.get_rels(\"r\"))\n",
    "print(\"Computer Vision Alignments\")\n",
    "display(sorted(mis_project_copy.get_rels(\"r\")))"
   ]
  }
 ],
 "metadata": {
  "kernelspec": {
   "display_name": ".venv",
   "language": "python",
   "name": "python3"
  },
  "language_info": {
   "codemirror_mode": {
    "name": "ipython",
    "version": 3
   },
   "file_extension": ".py",
   "mimetype": "text/x-python",
   "name": "python",
   "nbconvert_exporter": "python",
   "pygments_lexer": "ipython3",
   "version": "3.10.8"
  }
 },
 "nbformat": 4,
 "nbformat_minor": 2
}

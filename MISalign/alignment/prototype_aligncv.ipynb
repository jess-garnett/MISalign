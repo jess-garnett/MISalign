{
 "cells": [
  {
   "cell_type": "markdown",
   "metadata": {},
   "source": [
    "# Sample Data Ingest"
   ]
  },
  {
   "cell_type": "code",
   "execution_count": 1,
   "metadata": {},
   "outputs": [],
   "source": [
    "prototyping_datafolder=r\"C:\\Users\\drago\\Box\\p_MIS-MISalign\\data_AlignCV\""
   ]
  },
  {
   "cell_type": "code",
   "execution_count": 2,
   "metadata": {},
   "outputs": [],
   "source": [
    "from os import listdir,path\n",
    "import pandas as pd"
   ]
  },
  {
   "cell_type": "code",
   "execution_count": null,
   "metadata": {},
   "outputs": [],
   "source": [
    "data_set=dict()\n",
    "for datafolder in listdir(prototyping_datafolder):\n",
    "    for sample in listdir(path.join(prototyping_datafolder,datafolder)):\n",
    "        entry=dict()\n",
    "        entry[\"dataset\"]=datafolder\n",
    "        entry[\"path\"]=path.join(prototyping_datafolder,datafolder,sample)\n",
    "        data_set[sample]=entry\n",
    "df=pd.DataFrame(data_set).T\n",
    "df"
   ]
  },
  {
   "cell_type": "code",
   "execution_count": null,
   "metadata": {},
   "outputs": [],
   "source": [
    "print(df.iloc[0].path)\n",
    "display(df[df.dataset==\"data_nov\"])"
   ]
  },
  {
   "cell_type": "markdown",
   "metadata": {},
   "source": [
    "# Image opening"
   ]
  },
  {
   "cell_type": "code",
   "execution_count": 46,
   "metadata": {},
   "outputs": [],
   "source": [
    "from PIL import Image as PILImage"
   ]
  },
  {
   "cell_type": "code",
   "execution_count": 6,
   "metadata": {},
   "outputs": [],
   "source": [
    "PILImage.open(df.iloc[0].path).show()"
   ]
  },
  {
   "cell_type": "markdown",
   "metadata": {},
   "source": [
    "# Package Setups"
   ]
  },
  {
   "cell_type": "markdown",
   "metadata": {},
   "source": [
    "## OpenCV"
   ]
  },
  {
   "cell_type": "code",
   "execution_count": 7,
   "metadata": {},
   "outputs": [],
   "source": [
    "# https://docs.opencv.org/4.x/d5/de5/tutorial_py_setup_in_windows.html\n",
    "# https://pypi.org/project/opencv-python/#manual-builds\n",
    "# %pip install opencv-python\n",
    "import cv2 as cv"
   ]
  },
  {
   "cell_type": "code",
   "execution_count": null,
   "metadata": {},
   "outputs": [],
   "source": [
    "# https://docs.opencv.org/4.x/d6/d00/tutorial_py_root.html\n",
    "# https://docs.opencv.org/4.x/db/d27/tutorial_py_table_of_contents_feature2d.html"
   ]
  },
  {
   "cell_type": "markdown",
   "metadata": {},
   "source": [
    "### SIFT"
   ]
  },
  {
   "cell_type": "code",
   "execution_count": null,
   "metadata": {},
   "outputs": [],
   "source": [
    "# SIFT https://docs.opencv.org/4.x/da/df5/tutorial_py_sift_intro.html\n",
    "import numpy as np\n",
    "import cv2 as cv\n",
    " \n",
    "img = cv.imread(df.iloc[0].path)\n",
    "gray= cv.cvtColor(img,cv.COLOR_BGR2GRAY)\n",
    " \n",
    "sift = cv.SIFT_create()\n",
    "kp = sift.detect(gray,None)\n",
    " \n",
    "# img=cv.drawKeypoints(gray,kp,img)\n",
    "img=cv.drawKeypoints(gray,kp,img,flags=cv.DRAW_MATCHES_FLAGS_DRAW_RICH_KEYPOINTS)\n",
    " \n",
    "# cv.imshow('sift_keypoints',img)\n",
    "PILImage.fromarray(img).show()\n",
    "# display(PILImage.fromarray(img))"
   ]
  },
  {
   "cell_type": "code",
   "execution_count": null,
   "metadata": {},
   "outputs": [],
   "source": [
    "kp,des = sift.compute(gray,kp)\n",
    "display(des.shape)"
   ]
  },
  {
   "cell_type": "markdown",
   "metadata": {},
   "source": [
    "### ORB"
   ]
  },
  {
   "cell_type": "code",
   "execution_count": null,
   "metadata": {},
   "outputs": [],
   "source": [
    "# https://docs.opencv.org/4.x/d1/d89/tutorial_py_orb.html\n",
    "img = cv.imread(df.iloc[-2].path)\n",
    "gray= cv.cvtColor(img,cv.COLOR_BGR2GRAY)\n",
    "\n",
    "# Initiate ORB detector\n",
    "orb = cv.ORB_create(nfeatures=500,edgeThreshold=5)\n",
    " \n",
    "# find the keypoints with ORB\n",
    "kp = orb.detect(gray,None)\n",
    " \n",
    "# compute the descriptors with ORB\n",
    "kp, des = orb.compute(gray, kp)\n",
    " \n",
    "# draw only keypoints location,not size and orientation\n",
    "# img2 = cv.drawKeypoints(gray, kp, None, color=(0,255,0), flags=0)\n",
    "img2=cv.drawKeypoints(gray,kp,img,flags=cv.DRAW_MATCHES_FLAGS_DRAW_RICH_KEYPOINTS)\n",
    "PILImage.fromarray(img2).show()\n",
    "# PILImage.fromarray(img2).save(\"241210_ORB_sem3_nf500_et5.png\")"
   ]
  },
  {
   "cell_type": "code",
   "execution_count": null,
   "metadata": {},
   "outputs": [],
   "source": [
    "display(des.shape)"
   ]
  },
  {
   "cell_type": "markdown",
   "metadata": {},
   "source": [
    "### Matcher"
   ]
  },
  {
   "cell_type": "code",
   "execution_count": null,
   "metadata": {},
   "outputs": [],
   "source": [
    "# https://docs.opencv.org/4.x/dc/dc3/tutorial_py_matcher.html"
   ]
  },
  {
   "cell_type": "markdown",
   "metadata": {},
   "source": [
    "#### Brute-Force Matching w/ ORB"
   ]
  },
  {
   "cell_type": "code",
   "execution_count": 11,
   "metadata": {},
   "outputs": [],
   "source": [
    "import numpy as np\n",
    "import cv2 as cv\n",
    "import matplotlib.pyplot as plt\n",
    " \n",
    "img1 = cv.imread(df.iloc[0].path,cv.IMREAD_GRAYSCALE)          # queryImage\n",
    "img2 = cv.imread(df.iloc[1].path,cv.IMREAD_GRAYSCALE) # trainImage\n",
    " \n",
    "# Initiate ORB detector\n",
    "orb = cv.ORB_create()\n",
    " \n",
    "# find the keypoints and descriptors with ORB\n",
    "kp1, des1 = orb.detectAndCompute(img1,None)\n",
    "kp2, des2 = orb.detectAndCompute(img2,None)"
   ]
  },
  {
   "cell_type": "code",
   "execution_count": null,
   "metadata": {},
   "outputs": [],
   "source": [
    "# create BFMatcher object\n",
    "bf = cv.BFMatcher(cv.NORM_HAMMING, crossCheck=True)\n",
    " \n",
    "# Match descriptors.\n",
    "matches = bf.match(des1,des2)\n",
    " \n",
    "# Sort them in the order of their distance.\n",
    "matches = sorted(matches, key = lambda x:x.distance)\n",
    " \n",
    "# Draw first 10 matches.\n",
    "img3 = cv.drawMatches(img1,kp1,img2,kp2,matches[:10],None,flags=cv.DrawMatchesFlags_NOT_DRAW_SINGLE_POINTS)\n",
    " \n",
    "plt.imshow(img3)\n",
    "plt.show()"
   ]
  },
  {
   "cell_type": "code",
   "execution_count": null,
   "metadata": {},
   "outputs": [],
   "source": [
    "kp2[matches[0].trainIdx].pt\n",
    "kp1[matches[0].queryIdx].pt"
   ]
  },
  {
   "cell_type": "code",
   "execution_count": null,
   "metadata": {},
   "outputs": [],
   "source": [
    "for i,match in enumerate(matches[:]):\n",
    "    train_pt=kp2[match.trainIdx].pt\n",
    "    query_pt=kp1[match.queryIdx].pt\n",
    "    x_offset=train_pt[0]-query_pt[0]\n",
    "    y_offset=train_pt[1]-query_pt[1]\n",
    "    # print([x_offset],[y_offset])\n",
    "    # plt.plot([0,x_offset],[0,y_offset],alpha=0.1)\n",
    "    plt.plot([x_offset],[y_offset],\"o\",alpha=0.05,markersize=20)\n",
    "    if i<50:\n",
    "        plt.plot([0,x_offset],[0,y_offset],alpha=0.05)\n",
    "plt.xlim([-1200,1200])\n",
    "plt.ylim([-800,800])\n",
    "plt.title(\"Matches Visualized - all matches dots - top 50 matches lines - 0.05 alpha\")\n",
    "plt.show()"
   ]
  },
  {
   "cell_type": "markdown",
   "metadata": {},
   "source": [
    "## SimpleCV"
   ]
  },
  {
   "cell_type": "code",
   "execution_count": null,
   "metadata": {},
   "outputs": [],
   "source": [
    "# Paused to focus on moving forward with OpenCV"
   ]
  },
  {
   "cell_type": "markdown",
   "metadata": {},
   "source": [
    "## Scikit-Image"
   ]
  },
  {
   "cell_type": "code",
   "execution_count": null,
   "metadata": {},
   "outputs": [],
   "source": [
    "# Paused to focus on moving forward with OpenCV"
   ]
  },
  {
   "cell_type": "markdown",
   "metadata": {},
   "source": [
    "# Set Processing"
   ]
  },
  {
   "cell_type": "code",
   "execution_count": null,
   "metadata": {},
   "outputs": [],
   "source": [
    "# set_df=df[df.dataset==\"data_hdf\"].copy() # 2x2 high distinct feature set\n",
    "set_df=df[df.dataset==\"data_sem\"].copy() # 4x1 low overlap set\n",
    "set_df"
   ]
  },
  {
   "cell_type": "code",
   "execution_count": null,
   "metadata": {},
   "outputs": [],
   "source": [
    "orb_data=dict()\n",
    "for name,sample in set_df.iterrows():\n",
    "    # print(sample)\n",
    "    img = cv.imread(sample.path, cv.IMREAD_GRAYSCALE)\n",
    "    orb = cv.ORB_create(edgeThreshold=5)\n",
    "    kp, des = orb.detectAndCompute(img,None)\n",
    "    orb_data[name]={\"img\":img,\"kp\":kp,\"des\":des}\n",
    "orb_df=pd.DataFrame(orb_data).T\n",
    "orb_df"
   ]
  },
  {
   "cell_type": "code",
   "execution_count": 18,
   "metadata": {},
   "outputs": [],
   "source": [
    "from itertools import combinations"
   ]
  },
  {
   "cell_type": "code",
   "execution_count": null,
   "metadata": {},
   "outputs": [],
   "source": [
    "img_width=2560\n",
    "img_height=1672\n",
    "match_combs=combinations(set_df.index.to_list(),2)\n",
    "# print(list(match_combs))\n",
    "match_data=dict()\n",
    "for m1,m2 in match_combs:\n",
    "    print(m1,m2)\n",
    "    bf = cv.BFMatcher(cv.NORM_HAMMING, crossCheck=True)\n",
    "    matches = bf.match(orb_df[\"des\"][m1],orb_df[\"des\"][m2])\n",
    "    matches = sorted(matches, key = lambda x:x.distance)\n",
    "    img3 = cv.drawMatches(orb_df[\"img\"][m1],orb_df[\"kp\"][m1],orb_df[\"img\"][m2],orb_df[\"kp\"][m2],matches[:10],None,flags=cv.DrawMatchesFlags_NOT_DRAW_SINGLE_POINTS)\n",
    "    plt.imshow(img3)\n",
    "    plt.savefig(f\"241211_OCV_MOSet_{m1[7:11]}-{m2[10:11]}-matches.png\",bbox_inches=\"tight\",dpi=300)\n",
    "    plt.show()\n",
    "    for i,match in enumerate(matches[:]):\n",
    "        train_pt=orb_df[\"kp\"][m2][match.trainIdx].pt\n",
    "        query_pt=orb_df[\"kp\"][m1][match.queryIdx].pt\n",
    "        x_offset=train_pt[0]-query_pt[0]\n",
    "        y_offset=train_pt[1]-query_pt[1]\n",
    "        plt.plot([x_offset],[y_offset],\"o\",alpha=0.05,markersize=20)\n",
    "        if i<50:\n",
    "            plt.plot([0,x_offset],[0,y_offset],alpha=0.05)\n",
    "    plt.xlim([-img_width,img_width])\n",
    "    plt.ylim([-img_height,img_height])\n",
    "    plt.savefig(f\"241211_OCV_MOSet_{m1[7:11]}-{m2[10:11]}-offsets.png\",bbox_inches=\"tight\")\n",
    "    plt.show()"
   ]
  },
  {
   "cell_type": "markdown",
   "metadata": {},
   "source": [
    "# Offset Determination"
   ]
  },
  {
   "cell_type": "markdown",
   "metadata": {},
   "source": [
    "## Prototyping\n",
    "- lro2-3 for clean-defined\n",
    "- lro0-2 for fuzzy rotated\n",
    "- lro1-2 for similar feature but no match\n",
    "- hdf0-2 for corner barely match\n",
    "- hdf0-1 for clean-defined\n",
    "- hdf1-3 for clean-defined\n",
    "- lov2-3 for fuzzy match\n",
    "- lov1-2 for fuzzy match\n",
    "- ldf0-3 for clean match w/ noise\n",
    "- ldf2-3 for clean match w/ noise\n"
   ]
  },
  {
   "cell_type": "code",
   "execution_count": null,
   "metadata": {},
   "outputs": [],
   "source": [
    "samples_short=[\"sem0\",\"sem1\",\"sem2\",\"sem3\",\"sem4\",\"sem5\"]#[\"lro0\",\"lro1\",\"lro2\",\"lro3\",\"hdf0\",\"hdf1\",\"hdf2\",\"hdf3\",\"lov1\",\"lov2\",\"lov3\",\"ldf0\",\"ldf2\",\"ldf3\"]\n",
    "samples=pd.DataFrame([df[df.index.str.contains(x)].iloc[0] for x in samples_short])\n",
    "samples"
   ]
  },
  {
   "cell_type": "code",
   "execution_count": null,
   "metadata": {},
   "outputs": [],
   "source": [
    "orb_data=dict()\n",
    "for name,sample in samples.iterrows():\n",
    "    # print(sample)\n",
    "    img = cv.imread(sample.path, cv.IMREAD_GRAYSCALE)\n",
    "    orb = cv.ORB_create(nfeatures=500,edgeThreshold=5)\n",
    "    kp, des = orb.detectAndCompute(img,None)\n",
    "    orb_data[name]={\"img\":img,\"kp\":kp,\"des\":des}\n",
    "orb_df=pd.DataFrame(orb_data).T\n",
    "orb_df"
   ]
  },
  {
   "cell_type": "code",
   "execution_count": 24,
   "metadata": {},
   "outputs": [],
   "source": [
    "from scipy import ndimage"
   ]
  },
  {
   "cell_type": "code",
   "execution_count": null,
   "metadata": {},
   "outputs": [],
   "source": [
    "# match_combs=combinations(orb_df.index.to_list(),2)\n",
    "# match_combs=((\"lro2\",\"lro3\"),(\"lro0\",\"lro2\"),(\"lro1\",\"lro2\"),(\"hdf0\",\"hdf2\"),(\"hdf0\",\"hdf1\"),(\"hdf1\",\"hdf3\"),(\"lov2\",\"lov3\"),(\"lov1\",\"lov2\"),(\"ldf0\",\"ldf3\"),(\"ldf2\",\"ldf3\"))\n",
    "# match_combs=((\"sem0\",\"sem1\"),(\"sem2\",\"sem3\"),(\"sem3\",\"sem4\"),(\"sem4\",\"sem5\"),(\"sem3\",\"sem5\"))\n",
    "match_combs=((\"sem0\",\"sem1\"),(\"sem2\",\"sem3\"),(\"sem3\",\"sem4\"),(\"sem4\",\"sem5\"),(\"sem3\",\"sem5\"))\n",
    "match_combs=[(df.index[df.index.str.contains(x[0])][0],df.index[df.index.str.contains(x[1])][0]) for x in match_combs]\n",
    "\n",
    "match_combs"
   ]
  },
  {
   "cell_type": "code",
   "execution_count": null,
   "metadata": {},
   "outputs": [],
   "source": [
    "img_width=2560\n",
    "img_height=1672\n",
    "for m1,m2 in match_combs:\n",
    "    bf = cv.BFMatcher(cv.NORM_HAMMING, crossCheck=True)\n",
    "    matches = bf.match(orb_df[\"des\"][m1],orb_df[\"des\"][m2])\n",
    "    matches = sorted(matches, key = lambda x:x.distance)\n",
    "    print([m.distance for m in matches])\n",
    "    offset_grid=np.zeros((2*img_width,2*img_height),dtype=float) # change this to match 2x image distance.(3200,2400)\n",
    "    for i,match in enumerate(matches[:]):\n",
    "        train_pt=orb_df[\"kp\"][m2][match.trainIdx].pt\n",
    "        query_pt=orb_df[\"kp\"][m1][match.queryIdx].pt\n",
    "        x_offset_adj=int(train_pt[0]-query_pt[0]+img_width) #1600/1200 centers in numpy array/image.\n",
    "        y_offset_adj=int(train_pt[1]-query_pt[1]+img_height)\n",
    "        offset_grid[x_offset_adj,y_offset_adj]+=1000/(match.distance**2)\n",
    "    offset_grid=ndimage.gaussian_filter(offset_grid,10)\n",
    "    print(m1,m2,\"Offset:\",np.array(np.unravel_index(np.argmax(offset_grid),offset_grid.shape))-np.array([img_width,img_height]))\n",
    "    plt.title(\" \".join([m1,m2,str(tuple(np.array(np.unravel_index(np.argmax(offset_grid),offset_grid.shape))-np.array([img_width,img_height]))),f\"{offset_grid.max():.5f}\"]))\n",
    "    plt.imshow(offset_grid.T)\n",
    "    plt.colorbar()\n",
    "    plt.savefig(f\"241210_OffsetMap_{m1[7:11]}-{m2[10:11]}-offmap-1000imds-g10_nf500_et5.png\",bbox_inches=\"tight\",dpi=300)\n",
    "    plt.show()\n",
    "    # img3 = cv.drawMatches(orb_df[\"img\"][m1],orb_df[\"kp\"][m1],orb_df[\"img\"][m2],orb_df[\"kp\"][m2],matches[:10],None,flags=cv.DrawMatchesFlags_NOT_DRAW_SINGLE_POINTS)\n",
    "    # plt.imshow(img3)\n",
    "    # plt.savefig(f\"240815_OCV_MOSet_{m1[7:11]}-{m2[10:11]}-matches.png\",bbox_inches=\"tight\",dpi=300)\n",
    "    # plt.show()\n",
    "    # for i,match in enumerate(matches[:]):\n",
    "    #     train_pt=orb_df[\"kp\"][m2][match.trainIdx].pt\n",
    "    #     query_pt=orb_df[\"kp\"][m1][match.queryIdx].pt\n",
    "    #     x_offset=train_pt[0]-query_pt[0]\n",
    "    #     y_offset=train_pt[1]-query_pt[1]\n",
    "    #     plt.plot([x_offset],[y_offset],\"o\",alpha=0.05,markersize=20)\n",
    "    #     if i<50:\n",
    "    #         plt.plot([0,x_offset],[0,y_offset],alpha=0.05)\n",
    "    # plt.xlim([-1600,1600])\n",
    "    # plt.ylim([-1200,1200])\n",
    "    # plt.savefig(f\"240815_OCV_MOSet_{m1[7:11]}-{m2[10:11]}-offsets.png\",bbox_inches=\"tight\")\n",
    "    # plt.show()"
   ]
  },
  {
   "cell_type": "code",
   "execution_count": null,
   "metadata": {},
   "outputs": [],
   "source": [
    "# testing way to get/compare local maxima. Code from `https://stackoverflow.com/questions/9111711/get-coordinates-of-local-maxima-in-2d-array-above-certain-value`\n",
    "import numpy as np\n",
    "import scipy.ndimage as ndimage\n",
    "import matplotlib.pyplot as plt\n",
    "\n",
    "\n",
    "neighborhood_size = 50\n",
    "threshold = 0.0005\n",
    "\n",
    "data = offset_grid.T\n",
    "\n",
    "data_max = ndimage.maximum_filter(data, neighborhood_size)\n",
    "maxima = (data == data_max)\n",
    "data_min = ndimage.minimum_filter(data, neighborhood_size)\n",
    "diff = ((data_max - data_min) > threshold)\n",
    "maxima[diff == 0] = 0\n",
    "\n",
    "labeled, num_objects = ndimage.label(maxima)\n",
    "xy = np.array(ndimage.center_of_mass(data, labeled, range(1, num_objects+1)))\n",
    "\n",
    "plt.imshow(data)\n",
    "\n",
    "plt.autoscale(False)\n",
    "plt.plot(xy[:, 1], xy[:, 0], 'rx')\n"
   ]
  },
  {
   "cell_type": "markdown",
   "metadata": {},
   "source": [
    "# Non-array/blended match>offset"
   ]
  },
  {
   "cell_type": "code",
   "execution_count": null,
   "metadata": {},
   "outputs": [],
   "source": [
    "len(matches)"
   ]
  },
  {
   "cell_type": "code",
   "execution_count": 119,
   "metadata": {},
   "outputs": [],
   "source": [
    "# image_from=\"sample_sem0.tif\"\n",
    "# image_to=\"sample_sem1.tif\"\n",
    "# sem 0 to sem 1: [48 1101] from offset map\n",
    "# image_from=\"sample_sem3.tif\"\n",
    "# image_to=\"sample_sem5.tif\"\n",
    "# sem 3 to sem 5: No real relation\n",
    "image_from=\"sample_sem3.tif\"\n",
    "image_to=\"sample_sem4.tif\"\n",
    "# 3>4 has distinct relation in offset map\n",
    "\n",
    "matches = bf.match(orb_df[\"des\"][image_from],orb_df[\"des\"][image_to])\n",
    "matches = sorted(matches, key = lambda x:x.distance)\n",
    "\n",
    "pts_from=np.array([orb_df[\"kp\"][image_from][match.queryIdx].pt for match in matches])\n",
    "pts_to=np.array([orb_df[\"kp\"][image_to][match.trainIdx].pt for match in matches])"
   ]
  },
  {
   "cell_type": "code",
   "execution_count": 120,
   "metadata": {},
   "outputs": [],
   "source": [
    "eAP2D=cv.estimateAffinePartial2D(pts_from,pts_to)\n"
   ]
  },
  {
   "cell_type": "code",
   "execution_count": null,
   "metadata": {},
   "outputs": [],
   "source": [
    "print(\"X,Y:\",eAP2D[0][:,2])\n",
    "#cos^2 + sin^2 = 1 >> rotation/scale component of matrix =s^2\n",
    "print(\"Rotation & Scale Matrix:\",eAP2D[0][:,:2])\n",
    "eAP2D_scalex=(eAP2D[0][0,0]**2+eAP2D[0][0,1]**2)**0.5\n",
    "eAP2D_scaley=(eAP2D[0][1,1]**2+eAP2D[0][1,0]**2)**0.5\n",
    "print(\"Scale X,Y:\",[eAP2D_scalex,eAP2D_scaley])\n",
    "eAP2D_rotation=np.arctan(eAP2D[0][0,1]/eAP2D[0][1,1])\n",
    "print(\"Rotation(Rad/Deg):\",eAP2D_rotation,\"/\",eAP2D_rotation*180/np.pi)\n"
   ]
  },
  {
   "cell_type": "code",
   "execution_count": null,
   "metadata": {},
   "outputs": [],
   "source": [
    "print(\"Inliers:\",np.sum(eAP2D[1]))\n",
    "for pt_from,pt_to,in_out in zip(pts_from,pts_to,eAP2D[1]):\n",
    "    if in_out:\n",
    "        print(\"X,Y:\",pt_to[0]-pt_from[0],pt_to[1]-pt_from[1])"
   ]
  },
  {
   "cell_type": "markdown",
   "metadata": {},
   "source": [
    "# Set implementation\n",
    "Also grabbing all need coded/imports/etc."
   ]
  },
  {
   "cell_type": "code",
   "execution_count": 38,
   "metadata": {},
   "outputs": [],
   "source": [
    "import pandas as pd\n",
    "import cv2 as cv\n",
    "from math import dist\n",
    "import numpy as np\n",
    "from matplotlib import pyplot as plt"
   ]
  },
  {
   "cell_type": "markdown",
   "metadata": {},
   "source": [
    "Run data import from first section to setup `df`"
   ]
  },
  {
   "cell_type": "code",
   "execution_count": null,
   "metadata": {},
   "outputs": [],
   "source": [
    "samples_short=[\"sem0\",\"sem1\",\"sem2\",\"sem3\",\"sem4\",\"sem5\"]#\n",
    "# samples_short=[\"lro0\",\"lro1\",\"lro2\",\"lro3\",\"hdf0\",\"hdf1\",\"hdf2\",\"hdf3\",\"lov1\",\"lov2\",\"lov3\",\"ldf0\",\"ldf2\",\"ldf3\"]\n",
    "samples=pd.DataFrame([df[df.index.str.contains(x)].iloc[0] for x in samples_short])\n",
    "samples"
   ]
  },
  {
   "cell_type": "code",
   "execution_count": 40,
   "metadata": {},
   "outputs": [],
   "source": [
    "# match_combs=combinations(orb_df.index.to_list(),2)\n",
    "match_combs=((\"sem0\",\"sem1\"),(\"sem2\",\"sem3\"),(\"sem3\",\"sem4\"),(\"sem4\",\"sem5\"),(\"sem3\",\"sem5\"))\n",
    "# match_combs=((\"lro2\",\"lro3\"),(\"lro0\",\"lro2\"),(\"lro1\",\"lro2\"),(\"hdf0\",\"hdf2\"),(\"hdf0\",\"hdf1\"),(\"hdf1\",\"hdf3\"),(\"lov2\",\"lov3\"),(\"lov1\",\"lov2\"),(\"ldf0\",\"ldf3\"),(\"ldf2\",\"ldf3\"))\n",
    "# match_combs=((\"lov2\",\"lov3\"),(\"lov1\",\"lov2\"),(\"ldf0\",\"ldf3\"))\n",
    "match_combs=[(df.index[df.index.str.contains(x[0])][0],df.index[df.index.str.contains(x[1])][0]) for x in match_combs]\n"
   ]
  },
  {
   "cell_type": "code",
   "execution_count": null,
   "metadata": {},
   "outputs": [],
   "source": [
    "orb_data=dict()\n",
    "for name,sample in samples.iterrows():\n",
    "    # print(sample)\n",
    "    img = cv.imread(sample.path, cv.IMREAD_GRAYSCALE)\n",
    "    orb = cv.ORB_create(nfeatures=4000,edgeThreshold=5)\n",
    "    kp, des = orb.detectAndCompute(img,None)\n",
    "    orb_data[name]={\"img\":img,\"kp\":kp,\"des\":des}\n",
    "orb_df=pd.DataFrame(orb_data).T\n",
    "orb_df"
   ]
  },
  {
   "cell_type": "code",
   "execution_count": 42,
   "metadata": {},
   "outputs": [],
   "source": [
    "match_refs={#values for offset from offsetmap\n",
    "    (\"sem0\",\"sem1\"):[48, 1101],\n",
    "    (\"sem2\",\"sem3\"):[84, 1192],\n",
    "    (\"sem3\",\"sem4\"):[14, 682],\n",
    "    (\"sem4\",\"sem5\"):[1,1558],\n",
    "    (\"sem3\",\"sem5\"):[673,-538]\n",
    "}"
   ]
  },
  {
   "cell_type": "code",
   "execution_count": 43,
   "metadata": {},
   "outputs": [],
   "source": [
    "from scipy import ndimage"
   ]
  },
  {
   "cell_type": "code",
   "execution_count": null,
   "metadata": {},
   "outputs": [],
   "source": []
  },
  {
   "cell_type": "code",
   "execution_count": null,
   "metadata": {},
   "outputs": [],
   "source": [
    "for m1,m2 in match_combs:\n",
    "    print(m1,m2)\n",
    "    bf = cv.BFMatcher(cv.NORM_HAMMING, crossCheck=True)\n",
    "    \n",
    "    matches = bf.match(orb_df[\"des\"][m1],orb_df[\"des\"][m2])\n",
    "    matches = sorted(matches, key = lambda x:x.distance)\n",
    "    matches = matches[:int(len(matches)*(1/8))]\n",
    "    # matches = matches[:10]\n",
    "\n",
    "    pts_from=np.array([orb_df[\"kp\"][m1][match.queryIdx].pt for match in matches])\n",
    "    pts_to=np.array([orb_df[\"kp\"][m2][match.trainIdx].pt for match in matches])\n",
    "\n",
    "    eAP2D=cv.estimateAffinePartial2D(pts_from,pts_to)\n",
    "\n",
    "    eAP2D_translationx=eAP2D[0][0,2]\n",
    "    eAP2D_translationy=eAP2D[0][1,2]\n",
    "    print(f\"X,Y:{eAP2D_translationx:0.1f}, {eAP2D_translationy:0.1f}\")\n",
    "    print(\"Rotation & Scale Matrix: \\n\",eAP2D[0][:,:2])\n",
    "    eAP2D_scalex=(eAP2D[0][0,0]**2+eAP2D[0][0,1]**2)**0.5\n",
    "    eAP2D_scaley=(eAP2D[0][1,1]**2+eAP2D[0][1,0]**2)**0.5\n",
    "    print(f\"Scale X,Y: {eAP2D_scalex:0.3f}, {eAP2D_scaley:0.3f}\")\n",
    "    eAP2D_rotation=np.arctan(eAP2D[0][0,1]/eAP2D[0][1,1])\n",
    "    print(f\"Rotation(Rad/Deg): {eAP2D_rotation:0.3f} /{eAP2D_rotation*180/np.pi:0.1f}\")\n",
    "    print(\"Inliers:\",np.sum(eAP2D[1]))\n",
    "    for pt_from,pt_to,in_out in zip(pts_from,pts_to,eAP2D[1]):\n",
    "        if in_out:\n",
    "            print(f\"X,Y:{pt_from[0]-pt_to[0]:0.1f}, {pt_from[1]-pt_to[1]:0.1f}\")\n",
    "    \n",
    "    distances_inlier=np.array([(i,match.distance) for i,(match,in_out) in enumerate(zip(matches,eAP2D[1])) if in_out])\n",
    "    distances_outlier=np.array([(i,match.distance) for i,(match,in_out) in enumerate(zip(matches,eAP2D[1])) if not in_out])\n",
    "    plt.figure()\n",
    "    plt.plot(distances_inlier[:,0],distances_inlier[:,1],\"gx\")\n",
    "    try:\n",
    "        plt.plot(distances_outlier[:,0],distances_outlier[:,1],\"r.\")\n",
    "    except IndexError:\n",
    "        print(\"No Outliers\")\n",
    "    plt.xlabel(\"match index\")\n",
    "    plt.ylabel(\"match distance\")\n",
    "    plt.title(f\"{m1}-{m2} in/out distances\")\n",
    "    plt.show()\n",
    "\n",
    "    # ### Sanity check with offset map\n",
    "    # img_width=1600#2560\n",
    "    # img_height=1200#1672\n",
    "    # offset_grid=np.zeros((2*img_width,2*img_height),dtype=float) # change this to match 2x image distance.(3200,2400)\n",
    "    # for i,match in enumerate(matches[:]):\n",
    "    #     train_pt=orb_df[\"kp\"][m2][match.trainIdx].pt\n",
    "    #     query_pt=orb_df[\"kp\"][m1][match.queryIdx].pt\n",
    "    #     x_offset_adj=int(train_pt[0]-query_pt[0]+img_width) #1600/1200 centers in numpy array/image.\n",
    "    #     y_offset_adj=int(train_pt[1]-query_pt[1]+img_height)\n",
    "    #     offset_grid[x_offset_adj,y_offset_adj]+=1000/(match.distance**2)\n",
    "    # offset_grid=ndimage.gaussian_filter(offset_grid,10)\n",
    "    # print(m1,m2,\"Offset:\",np.array(np.unravel_index(np.argmax(offset_grid),offset_grid.shape))-np.array([img_width,img_height]))\n",
    "    # plt.title(\" \".join([m1,m2,str(tuple(np.array(np.unravel_index(np.argmax(offset_grid),offset_grid.shape))-np.array([img_width,img_height]))),f\"{offset_grid.max():.5f}\"]))\n",
    "    # plt.imshow(offset_grid.T)\n",
    "    # plt.colorbar()\n",
    "    # # plt.savefig(f\"241210_OffsetMap_{m1[7:11]}-{m2[10:11]}-offmap-1000imds-g10_nf500_et5.png\",bbox_inches=\"tight\",dpi=300)\n",
    "    # plt.show()\n",
    "    # match_refs[(m1[7:11],m2[7:11])]=list(np.array(np.unravel_index(np.argmax(offset_grid),offset_grid.shape))-np.array([img_width,img_height]))\n",
    "    # ###\n",
    "\n",
    "    top10_offsets=np.array([(pt_to[0]-pt_from[0],pt_to[1]-pt_from[1]) for pt_from,pt_to in zip(pts_from[:int(len(matches)*(1/10))],pts_to[:int(len(matches)*(1/10))])])\n",
    "    top50_offsets=np.array([(pt_to[0]-pt_from[0],pt_to[1]-pt_from[1]) for pt_from,pt_to in zip(pts_from[int(len(matches)*(1/10)):int(len(matches)*(1/2))],pts_to[int(len(matches)*(1/10)):int(len(matches)*(1/2))])])\n",
    "    remaining_offsets=np.array([(pt_to[0]-pt_from[0],pt_to[1]-pt_from[1]) for pt_from,pt_to in zip(pts_from[int(len(matches)*(1/2)):],pts_to[int(len(matches)*(1/2)):])])\n",
    "    plt.figure()\n",
    "    plt.plot(top10_offsets[:,0],top10_offsets[:,1],\"gx\",alpha=0.1)\n",
    "    plt.plot(top50_offsets[:,0],top50_offsets[:,1],\"yx\",alpha=0.1)\n",
    "    plt.plot(remaining_offsets[:,0],remaining_offsets[:,1],\"rx\",alpha=0.1)\n",
    "    plt.xlabel(\"x offset\")\n",
    "    plt.ylabel(\"y offset\")\n",
    "    plt.title(f\"{m1}-{m2} match offsets top 10%/top 50%/remaining\")\n",
    "    plt.show()\n",
    "\n",
    "\n",
    "    distances_metric_ref=np.array([(dist((pt_to[0]-pt_from[0],pt_to[1]-pt_from[1]),match_refs[(m1[7:11],m2[7:11])]),match.distance) for match,pt_from,pt_to in zip(matches,pts_from,pts_to)])\n",
    "    plt.figure()\n",
    "    plt.plot(distances_metric_ref[:,0],distances_metric_ref[:,1],\"x\")\n",
    "    plt.xlabel(\"ref distance\")\n",
    "    plt.ylabel(\"match distance\")\n",
    "    plt.xscale(\"log\")\n",
    "    plt.title(f\"{m1}-{m2} ref/match distances\")\n",
    "    plt.show()\n",
    "\n",
    "\n",
    "\n",
    "    # plt.title(\" \".join([m1,m2,str(tuple(np.array(np.unravel_index(np.argmax(offset_grid),offset_grid.shape))-np.array([img_width,img_height]))),f\"{offset_grid.max():.5f}\"]))\n",
    "    # plt.imshow(offset_grid.T)\n",
    "    # plt.colorbar()\n",
    "    # plt.savefig(f\"241210_OffsetMap_{m1[7:11]}-{m2[10:11]}-offmap-1000imds-g10_nf500_et5.png\",bbox_inches=\"tight\",dpi=300)\n",
    "    # plt.show()"
   ]
  },
  {
   "cell_type": "markdown",
   "metadata": {},
   "source": [
    "# Functionalizing process"
   ]
  },
  {
   "cell_type": "code",
   "execution_count": 1,
   "metadata": {},
   "outputs": [],
   "source": [
    "import pandas as pd\n",
    "import cv2 as cv\n",
    "import numpy as np\n",
    "from matplotlib import pyplot as plt"
   ]
  },
  {
   "cell_type": "code",
   "execution_count": 15,
   "metadata": {},
   "outputs": [],
   "source": [
    "from os.path import abspath\n",
    "from sys import path\n",
    "path.insert(0, abspath(\"../..\"))  # Repository directory relative to this file.\n",
    "from MISalign.model.mis_file import MisFile,load_mis\n",
    "from MISalign.model.relation import Relation"
   ]
  },
  {
   "cell_type": "code",
   "execution_count": 3,
   "metadata": {},
   "outputs": [],
   "source": [
    "mis_filepath=r\"..\\\\..\\example\\data\\set_a\\mymis_calibrated.mis\"\n",
    "mis_project=load_mis(mis_filepath)"
   ]
  },
  {
   "cell_type": "code",
   "execution_count": 4,
   "metadata": {},
   "outputs": [
    {
     "data": {
      "text/plain": [
       "{'a_myimages01.jpg': 'c:\\\\Users\\\\drago\\\\Documents\\\\git_gh\\\\MISalign\\\\example\\\\data\\\\set_a\\\\a_myimages01.jpg',\n",
       " 'a_myimages02.jpg': 'c:\\\\Users\\\\drago\\\\Documents\\\\git_gh\\\\MISalign\\\\example\\\\data\\\\set_a\\\\a_myimages02.jpg',\n",
       " 'a_myimages03.jpg': 'c:\\\\Users\\\\drago\\\\Documents\\\\git_gh\\\\MISalign\\\\example\\\\data\\\\set_a\\\\a_myimages03.jpg',\n",
       " 'a_myimages04.jpg': 'c:\\\\Users\\\\drago\\\\Documents\\\\git_gh\\\\MISalign\\\\example\\\\data\\\\set_a\\\\a_myimages04.jpg',\n",
       " 'a_myimages05.jpg': 'c:\\\\Users\\\\drago\\\\Documents\\\\git_gh\\\\MISalign\\\\example\\\\data\\\\set_a\\\\a_myimages05.jpg',\n",
       " 'a_myimages06.jpg': 'c:\\\\Users\\\\drago\\\\Documents\\\\git_gh\\\\MISalign\\\\example\\\\data\\\\set_a\\\\a_myimages06.jpg',\n",
       " 'a_myimages07.jpg': 'c:\\\\Users\\\\drago\\\\Documents\\\\git_gh\\\\MISalign\\\\example\\\\data\\\\set_a\\\\a_myimages07.jpg',\n",
       " 'a_myimages08.jpg': 'c:\\\\Users\\\\drago\\\\Documents\\\\git_gh\\\\MISalign\\\\example\\\\data\\\\set_a\\\\a_myimages08.jpg',\n",
       " 'a_myimages09.jpg': 'c:\\\\Users\\\\drago\\\\Documents\\\\git_gh\\\\MISalign\\\\example\\\\data\\\\set_a\\\\a_myimages09.jpg',\n",
       " 'a_myimages10.jpg': 'c:\\\\Users\\\\drago\\\\Documents\\\\git_gh\\\\MISalign\\\\example\\\\data\\\\set_a\\\\a_myimages10.jpg'}"
      ]
     },
     "execution_count": 4,
     "metadata": {},
     "output_type": "execute_result"
    }
   ],
   "source": [
    "mis_project.get_image_paths()"
   ]
  },
  {
   "cell_type": "code",
   "execution_count": 5,
   "metadata": {},
   "outputs": [
    {
     "data": {
      "text/plain": [
       "['a_myimages01.jpg',\n",
       " 'a_myimages02.jpg',\n",
       " 'a_myimages03.jpg',\n",
       " 'a_myimages04.jpg',\n",
       " 'a_myimages05.jpg',\n",
       " 'a_myimages06.jpg',\n",
       " 'a_myimages07.jpg',\n",
       " 'a_myimages08.jpg',\n",
       " 'a_myimages09.jpg',\n",
       " 'a_myimages10.jpg']"
      ]
     },
     "execution_count": 5,
     "metadata": {},
     "output_type": "execute_result"
    }
   ],
   "source": [
    "list(mis_project.get_image_paths().keys())"
   ]
  },
  {
   "cell_type": "code",
   "execution_count": 18,
   "metadata": {},
   "outputs": [],
   "source": [
    "class ImageManager():\n",
    "    def __init__(self,image_names_paths:dict):\n",
    "        self.image_dict={name:{\"path\":filepath} for name,filepath in image_names_paths.items()}\n",
    "    \n",
    "    def get_names(self)->list[str]:\n",
    "        return list(self.image_dict.keys())\n",
    "    def get_path(self,name:str)->str:\n",
    "        return self.image_dict[name][\"path\"]\n",
    "    def lookup_name(self,short_name:str)->str:\n",
    "        name_matches=[name for name in self.image_dict.keys() if short_name in name]\n",
    "        if len(name_matches)==1:\n",
    "            return name_matches\n",
    "        elif len(name_matches)==0:\n",
    "            raise ValueError(f\"short_name '{short_name}' matched no image names.\")\n",
    "        elif len(name_matches)>1:\n",
    "            raise ValueError(f\"short_name '{short_name}' matched {len(name_matches)} image names: {name_matches}\")\n",
    "\n",
    "class ORBManager():\n",
    "    def __init__(self,\n",
    "            ImageM:ImageManager,\n",
    "            precompute_default=True,\n",
    "            store_compute=True,\n",
    "            default_ORB_parameters={\"nfeatures\":500,\"edgeThreshold\":5}):\n",
    "        self.ImageM=ImageM\n",
    "        self.default_ORB_parameters=default_ORB_parameters\n",
    "        self.store_compute=store_compute\n",
    "        if store_compute:\n",
    "            self.computed=dict()\n",
    "            if precompute_default:\n",
    "                for image_name in ImageM.get_names():\n",
    "                    self.computed[image_name]=dict()\n",
    "                    self.computed[image_name][self.get_parameter_hashable(default_ORB_parameters)]=self.compute_orb(image_name,default_ORB_parameters)\n",
    "\n",
    "    def compute_orb(self,image_name,ORB_parameters):\n",
    "        img = cv.imread(self.ImageM.get_path(image_name), cv.IMREAD_GRAYSCALE)\n",
    "        orb = cv.ORB_create(**ORB_parameters)\n",
    "        kp, des = orb.detectAndCompute(img,None)\n",
    "        return {\"kp\":kp,\"des\":des}\n",
    "    def get_parameter_hashable(self,ORB_parameters:dict)->tuple:\n",
    "        return tuple((k,ORB_parameters[k]) for k in sorted(ORB_parameters))\n",
    "    def get_orb(self,image_name,ORB_parameters=None):\n",
    "        if ORB_parameters is None:\n",
    "            ORB_parameters=self.default_ORB_parameters\n",
    "        ORB_parameter_hashable=self.get_parameter_hashable(ORB_parameters)\n",
    "        if self.store_compute:\n",
    "            if image_name in self.computed.keys():\n",
    "                if ORB_parameter_hashable in self.computed[image_name].keys():\n",
    "                    return self.computed[image_name][ORB_parameter_hashable]\n",
    "            else:\n",
    "                self.computed[image_name]=dict()\n",
    "        computed_orb=self.compute_orb(image_name,ORB_parameters)\n",
    "        if self.store_compute:\n",
    "            self.computed[image_name][ORB_parameter_hashable]=computed_orb\n",
    "        return computed_orb\n",
    "\n",
    "def generate_match_combinations(strategy,**kwargs)-> list[list]: \n",
    "    if strategy==\"order\":\n",
    "        return generate_match_combinations_in_order(kwargs[\"order\"])\n",
    "    elif strategy==\"short_pairs\":\n",
    "        return generate_match_combinations_from_short_pairs(kwargs[\"short_pairs\"],kwargs[\"short_lookup\"])\n",
    "    elif strategy==\"all\":\n",
    "        return generate_match_combinations_all_combinations(kwargs[\"all\"])\n",
    "    elif strategy==\"search\":\n",
    "        return generate_match_combinations_all_combinations(kwargs[\"search\"],kwargs[\"all\"])\n",
    "    else:\n",
    "        raise ValueError(f\"'{strategy}' is not a valid strategy.\")\n",
    "def generate_match_combinations_in_order(order:list):\n",
    "    return [[a,b] for a,b in zip(order[:-1],order[1:])]\n",
    "def generate_match_combinations_from_short_pairs(short_pairs:list[list],short_lookup:ImageManager.lookup_name):\n",
    "    pass #TODO\n",
    "def generate_match_combinations_all_combinations(items:list):\n",
    "    pass #TODO\n",
    "def generate_match_combinations_search(search:str,items:list):\n",
    "    pass #TODO\n",
    "\n",
    "def generate_match_bf(\n",
    "        image1:str,\n",
    "        image2:str,\n",
    "        match_reduction_ratio:float,\n",
    "        OrbM:ORBManager,\n",
    "        ORB_parameters:dict=None)->list[cv.DMatch]:\n",
    "    brute_force_matcher = cv.BFMatcher(cv.NORM_HAMMING, crossCheck=True)\n",
    "    orb1=OrbM.get_orb(image1,ORB_parameters)\n",
    "    orb2=OrbM.get_orb(image2,ORB_parameters)\n",
    "    matches = brute_force_matcher.match(orb1[\"des\"],orb2[\"des\"])\n",
    "    sorted_matches = sorted(matches, key = lambda x:x.distance)\n",
    "    reduced_matches = matches[:int(len(sorted_matches)*(match_reduction_ratio))]\n",
    "    return reduced_matches,orb1,orb2\n",
    "\n",
    "def estimate_translation(\n",
    "        matches,\n",
    "        orb1,\n",
    "        orb2,\n",
    "        limit_affine_rotation=0.01, #maximum affine rotation without correction i.e. -0.01rad to +0.01rad rotations are acceptable.\n",
    "        limit_affine_scale=0.01, #maximum affine scale without correction i.e. 0.99 scale to 1.01 scale are acceptable.\n",
    "        limit_minimum_points=5, #minimum number of matched points for succesful translation estimate.\n",
    "        limit_inlier_consistency=0.5 #minimum fraction of matched points that must be consistent\n",
    "    )->list[list,bool]:\n",
    "    \n",
    "    pts_1=np.array([orb1[\"kp\"][match.queryIdx].pt for match in matches])\n",
    "    pts_2=np.array([orb2[\"kp\"][match.trainIdx].pt for match in matches])\n",
    "    eAP2D_matrix,eAP2D_in_out=cv.estimateAffinePartial2D(pts_1,pts_2)\n",
    "\n",
    "    eAP2D_translationx=eAP2D_matrix[0,2]\n",
    "    eAP2D_translationy=eAP2D_matrix[1,2]\n",
    "    # print(f\"X,Y:{eAP2D_translationx:0.1f}, {eAP2D_translationy:0.1f}\")\n",
    "    # print(\"Rotation & Scale Matrix: \\n\",eAP2D_matrix[:,:2])\n",
    "    eAP2D_scalex=(eAP2D_matrix[0,0]**2+eAP2D_matrix[0,1]**2)**0.5\n",
    "    eAP2D_scaley=(eAP2D_matrix[1,1]**2+eAP2D_matrix[1,0]**2)**0.5\n",
    "    # print(f\"Scale X,Y: {eAP2D_scalex:0.3f}, {eAP2D_scaley:0.3f}\")\n",
    "    eAP2D_rotation=np.arctan(eAP2D_matrix[0,1]/eAP2D_matrix[1,1])\n",
    "    # print(f\"Rotation(Rad/Deg): {eAP2D_rotation:0.3f} /{eAP2D_rotation*180/np.pi:0.1f}\")\n",
    "    # print(\"Inliers:\",np.sum(eAP2D[1]))\n",
    "    eAP2D_inliers=[(tuple(pt1),tuple(pt2)) for pt1,pt2,in_out in zip(pts_1,pts_2,eAP2D_in_out) if in_out]\n",
    "    eAP2D_inliers_count=len(eAP2D_inliers)\n",
    "    # for pt_from,pt_to,in_out in zip(pts_from,pts_to,eAP2D[1]):\n",
    "    #     if in_out:\n",
    "    #         print(f\"X,Y:{pt_from[0]-pt_to[0]:0.1f}, {pt_from[1]-pt_to[1]:0.1f}\")\n",
    "    #TODO verify based on limits\n",
    "    valid={\"overall\":True}\n",
    "    return eAP2D_inliers, valid\n",
    "\n",
    "\n",
    "class AlignCVManager():\n",
    "    def __init__(self,ImageM:ImageManager,OrbM:ORBManager):\n",
    "        self.ImageM=ImageM\n",
    "        self.OrbM=OrbM\n",
    "        self.alignments=[]\n",
    "    def run_alignment(self,match_combinations,match_reduction_ratio=1/2,ORB_parameters=None):\n",
    "        alignment_data={\"alignment_parameters\":{\"match_combinations\":match_combinations,\"match_reduction_ratio\":match_reduction_ratio,\"ORB_parameters\":ORB_parameters},\"alignment_data\":dict()}\n",
    "        for image1,image2 in match_combinations:\n",
    "            image_set=(image1,image2)\n",
    "            matches,orb1,orb2=generate_match_bf(\n",
    "                image1=image1,\n",
    "                image2=image2,\n",
    "                match_reduction_ratio=match_reduction_ratio,\n",
    "                OrbM=self.OrbM,\n",
    "                ORB_parameters=ORB_parameters\n",
    "                )\n",
    "            estimated_translation_inliers, estimated_translation_validity = estimate_translation(matches,orb1,orb2)\n",
    "            alignment_data[\"alignment_data\"][image_set]={\n",
    "                \"matches\":matches,\n",
    "                \"estimated_translation_inliers\":estimated_translation_inliers,\n",
    "                \"estimated_translation_validity\":estimated_translation_validity\n",
    "                }\n",
    "        self.alignments.append(alignment_data)\n",
    "        return len(self.alignments)-1\n",
    "\n",
    "    def get_alignment(self,alignment_id):\n",
    "        return self.alignments[alignment_id]\n",
    "    #TODO valid results to mis\n",
    "    #TODO merging valid results\n",
    "    def update_mis(self,\n",
    "        mis_project:MisFile,\n",
    "        alignment_id,\n",
    "        valid_only=True):\n",
    "        pass\n",
    "\n"
   ]
  },
  {
   "cell_type": "code",
   "execution_count": 19,
   "metadata": {},
   "outputs": [],
   "source": [
    "ImageM=ImageManager(mis_project.get_image_paths())\n",
    "\n",
    "OrbM=ORBManager(ImageM,default_ORB_parameters={\"nfeatures\": 2000,\"edgeThreshold\": 5 })\n",
    "\n",
    "AlignCVM=AlignCVManager(ImageM,OrbM)\n",
    "\n",
    "match_combinations=generate_match_combinations(strategy=\"order\",order=sorted(mis_project.get_image_names()))\n",
    "\n",
    "alignment_id=AlignCVM.run_alignment(match_combinations)\n",
    "alignment_result=AlignCVM.get_alignment(alignment_id)"
   ]
  },
  {
   "cell_type": "code",
   "execution_count": 20,
   "metadata": {},
   "outputs": [
    {
     "data": {
      "text/plain": [
       "[['a_myimages01.jpg', 'a_myimages02.jpg'],\n",
       " ['a_myimages02.jpg', 'a_myimages03.jpg'],\n",
       " ['a_myimages03.jpg', 'a_myimages04.jpg'],\n",
       " ['a_myimages04.jpg', 'a_myimages05.jpg'],\n",
       " ['a_myimages05.jpg', 'a_myimages06.jpg'],\n",
       " ['a_myimages06.jpg', 'a_myimages07.jpg'],\n",
       " ['a_myimages07.jpg', 'a_myimages08.jpg'],\n",
       " ['a_myimages08.jpg', 'a_myimages09.jpg'],\n",
       " ['a_myimages09.jpg', 'a_myimages10.jpg']]"
      ]
     },
     "execution_count": 20,
     "metadata": {},
     "output_type": "execute_result"
    }
   ],
   "source": [
    "match_combinations"
   ]
  },
  {
   "cell_type": "code",
   "execution_count": 21,
   "metadata": {},
   "outputs": [
    {
     "name": "stdout",
     "output_type": "stream",
     "text": [
      "[(-10, 1085), (-9, 1086), (-8, 1087), (-9, 1086), (-8, 1088), (-9, 1087), (-9, 1088), (-9, 1085)]\n",
      "[(-9, 1147), (-9, 1148), (-8, 1146), (-8, 1145), (-10, 1146), (-8, 1147), (-9, 1147)]\n",
      "[(125, 1061), (125, 1061), (124, 1063), (124, 1060), (124, 1060), (122, 1057), (122, 1058), (125, 1061), (125, 1061), (121, 1059), (123, 1057), (122, 1058), (124, 1061), (122, 1057), (124, 1060), (125, 1061), (122, 1058), (124, 1063), (126, 1062), (124, 1062)]\n",
      "[(-10, 942), (-11, 944), (-11, 945), (-9, 943), (-10, 944), (-9, 943), (-9, 941), (-10, 942), (-9, 943), (-10, 943), (-9, 943), (-9, 940), (-9, 940), (-9, 942), (-8, 942), (-8, 943), (-9, 943), (-9, 943), (-8, 942), (-9, 943), (-10, 944), (-10, 941), (-9, 942), (-10, 941), (-10, 941)]\n",
      "[(-7, 859), (-7, 859), (-7, 859), (-7, 858), (-6, 858), (-7, 859), (-6, 858), (-7, 858), (-7, 859), (-7, 859), (-6, 858), (-7, 859), (-6, 858), (-7, 859), (-6, 857), (-7, 857), (-7, 857), (-4, 855), (-6, 858), (-6, 858), (-7, 858), (-6, 856), (-7, 857), (-7, 858), (-6, 857), (-6, 857), (-6, 858), (-6, 858), (-8, 856), (-8, 855), (-6, 858), (-5, 858), (-7, 858), (-6, 858), (-7, 859), (-7, 859), (-5, 858), (-5, 858), (-6, 858), (-6, 859), (-6, 857), (-7, 856), (-7, 856), (-6, 856), (-6, 858), (-6, 858), (-6, 857), (-6, 858), (-4, 858), (-7, 858), (-6, 858), (-6, 856), (-5, 856), (-7, 856), (-8, 857), (-6, 857), (-7, 858), (-7, 858), (-5, 856), (-6, 858), (-7, 856), (-7, 856), (-6, 857), (-7, 858), (-5, 858), (-5, 858), (-6, 857), (-7, 858), (-7, 858), (-6, 856), (-7, 858)]\n",
      "[(-7, 990), (-8, 991), (-8, 988), (-7, 990), (-7, 990), (-8, 990), (-7, 989), (-7, 990), (-7, 990), (-7, 991), (-7, 991), (-7, 991), (-7, 991), (-7, 991), (-7, 988), (-7, 990), (-8, 991), (-8, 990), (-7, 989), (-7, 991), (-7, 990), (-8, 991), (-8, 989), (-8, 990), (-7, 990), (-7, 990), (-9, 989), (-7, 991), (-7, 990), (-7, 992)]\n",
      "[(-6, 1007), (-7, 1010), (-6, 1010), (-8, 1010), (-8, 1009), (-8, 1009), (-7, 1008), (-8, 1010), (-7, 1009), (-7, 1008), (-8, 1009), (-8, 1009), (-7, 1008), (-7, 1009), (-8, 1010), (-8, 1006)]\n",
      "[(-9, 938), (-7, 940), (-7, 939), (-6, 939), (-8, 936), (-8, 941), (-8, 939), (-5, 938), (-7, 938), (-8, 940), (-8, 939), (-8, 939), (-7, 939), (-7, 940), (-5, 939), (-7, 938), (-7, 939), (-8, 936), (-7, 938), (-5, 934), (-7, 938), (-7, 936), (-7, 940), (-7, 938), (-8, 939), (-6, 939), (-8, 938), (-7, 938), (-6, 938), (-6, 937), (-8, 936), (-8, 935), (-7, 938), (-8, 936), (-6, 939), (-8, 936), (-6, 939), (-6, 934), (-7, 938), (-8, 937), (-6, 937), (-9, 936), (-7, 938), (-7, 938)]\n",
      "[(-4, 716), (-4, 714), (-4, 716), (-4, 715), (-4, 716), (-6, 716), (-5, 714), (-4, 716), (-4, 717), (-3, 716), (-5, 715), (-5, 714), (-5, 716), (-4, 715), (-5, 714), (-5, 715), (-4, 716), (-3, 715), (-3, 715), (-4, 716), (-5, 713), (-5, 716), (-4, 717), (-4, 715), (-4, 716), (-5, 715), (-4, 716), (-4, 715), (-3, 716), (-5, 716), (-4, 716), (-4, 716), (-4, 716), (-4, 714), (-4, 716), (-4, 714), (-5, 714), (-4, 716), (-8, 714), (-5, 715), (-4, 714), (-5, 716), (-5, 715), (-3, 714), (-4, 716), (-5, 714), (-4, 716), (-3, 715), (-6, 712), (-4, 717), (-3, 715), (-4, 716), (-4, 716), (-6, 714), (-4, 716), (-4, 715), (-3, 716), (-5, 715), (-4, 716), (-4, 716), (-3, 716), (-4, 716), (-3, 716), (-4, 716), (-3, 716), (-3, 716), (-3, 716), (-2, 716), (-5, 715), (-4, 715), (-3, 715), (-5, 716), (-4, 716), (-3, 715), (-6, 712), (-3, 714), (-4, 716), (-3, 715), (-4, 716), (-3, 714), (-4, 714), (-3, 716), (-3, 716), (-3, 716), (-3, 714), (-5, 714), (-3, 716), (-3, 716), (-3, 714), (-3, 715), (-2, 714), (-4, 712), (-4, 715), (-4, 715), (-2, 717), (-4, 717), (-2, 715), (-4, 717), (-5, 714), (-4, 715), (-4, 715), (-4, 715), (-5, 713), (-4, 715), (-2, 714), (-4, 712), (-2, 715), (-2, 714), (-4, 714), (-2, 714), (-4, 714), (-4, 715), (-4, 715)]\n",
      "[([1327.0, 1148.0], [1337.0, 63.0]), ([1281.0, 1149.0], [1290.0, 63.0]), ([1028.4000244140625, 1140.0], [1036.800048828125, 52.80000305175781]), ([1329.60009765625, 1147.2000732421875], [1339.0, 61.0]), ([562.800048828125, 1150.800048828125], [571.2000122070312, 62.400001525878906]), ([1272.0, 1148.4000244140625], [1281.60009765625, 61.20000076293945]), ([564.4800415039062, 1166.4000244140625], [573.6000366210938, 78.0]), ([1280.1600341796875, 1147.6800537109375], [1290.0, 62.400001525878906])]\n",
      "[([899.0, 1185.0], [908.0, 38.0]), ([902.0, 1184.0], [911.0, 36.0]), ([1140.0, 1169.0], [1148.0, 23.0]), ([1133.0, 1165.0], [1141.0, 20.0]), ([666.0, 1161.60009765625], [676.0, 15.0]), ([902.4000244140625, 1183.2000732421875], [910.800048828125, 36.0]), ([897.6000366210938, 1184.4000244140625], [907.2000122070312, 37.20000076293945])]\n",
      "[([506.0, 1159.0], [381.0, 98.0]), ([509.0, 1155.0], [384.0, 94.0]), ([1027.0, 1115.0], [902.4000244140625, 51.60000228881836]), ([1229.0, 1066.0], [1105.0, 6.0]), ([1177.0, 1181.0], [1053.0, 121.0]), ([1488.0, 1120.0], [1365.60009765625, 62.400001525878906]), ([1494.0, 1113.0], [1371.60009765625, 54.000003814697266]), ([917.0, 1073.0], [792.0, 12.0]), ([817.0, 1117.0], [692.0, 56.0]), ([1408.800048828125, 1104.0], [1287.0, 45.0]), ([1406.4000244140625, 1101.60009765625], [1283.0, 44.0]), ([1495.2000732421875, 1093.2000732421875], [1372.800048828125, 34.80000305175781]), ([1114.800048828125, 1146.0], [990.7200317382812, 84.96000671386719]), ([1490.4000244140625, 1117.2000732421875], [1368.0, 60.000003814697266]), ([1027.2000732421875, 1114.800048828125], [902.4000244140625, 54.000003814697266]), ([1143.60009765625, 1174.800048828125], [1018.0800170898438, 113.76000213623047]), ([1488.0, 1138.800048828125], [1365.60009765625, 80.4000015258789]), ([1010.4000244140625, 1126.800048828125], [885.6000366210938, 63.36000061035156]), ([817.2000122070312, 1117.2000732421875], [691.2000122070312, 55.20000076293945]), ([800.4000244140625, 1117.2000732421875], [675.6000366210938, 55.20000076293945])]\n",
      "[([384.0, 973.0], [394.0, 31.0]), ([288.0, 992.0], [299.0, 48.0]), ([1044.0, 992.0], [1055.0, 47.0]), ([1232.0, 996.0], [1241.0, 53.0]), ([725.0, 1025.0], [735.0, 81.0]), ([442.0, 1047.0], [451.0, 104.0]), ([1196.0, 1082.0], [1205.0, 141.0]), ([1199.0, 1087.0], [1209.0, 145.0]), ([862.0, 1090.0], [871.2000122070312, 146.40000915527344]), ([843.0, 1124.0], [853.0, 181.0]), ([898.0, 1131.0], [907.0, 188.0]), ([1196.4000244140625, 1084.800048828125], [1206.0, 144.0]), ([1194.0, 1082.4000244140625], [1203.60009765625, 141.60000610351562]), ([1197.60009765625, 1078.800048828125], [1207.2000732421875, 136.8000030517578]), ([1237.2000732421875, 999.6000366210938], [1245.60009765625, 57.60000228881836]), ([897.6000366210938, 1130.4000244140625], [906.0000610351562, 187.20001220703125]), ([843.6000366210938, 1124.4000244140625], [853.2000122070312, 181.20001220703125]), ([1210.800048828125, 1053.60009765625], [1220.4000244140625, 110.4000015258789]), ([441.6000061035156, 1046.4000244140625], [450.0000305175781, 104.4000015258789]), ([289.20001220703125, 991.2000122070312], [298.8000183105469, 48.0]), ([384.0, 973.2000122070312], [394.0, 29.0]), ([1332.0, 1170.0], [1342.800048828125, 228.00001525878906]), ([432.0000305175781, 1172.4000244140625], [441.6000061035156, 230.40000915527344]), ([1203.840087890625, 1084.320068359375], [1213.9200439453125, 142.5600128173828]), ([1196.6400146484375, 1077.1199951171875], [1206.7200927734375, 135.36000061035156])]\n",
      "[([888.0, 871.0], [895.0, 12.0]), ([856.0, 887.0], [863.0, 28.0]), ([892.0, 891.0], [899.0, 32.0]), ([886.0, 894.0], [893.0, 36.0]), ([897.0, 895.0], [903.0, 37.0]), ([886.0, 898.0], [893.0, 39.0]), ([650.0, 911.0], [656.0, 53.0]), ([944.0, 919.0], [951.0, 61.0]), ([945.0, 922.0], [952.0, 63.0]), ([436.0, 927.0], [443.0, 68.0]), ([387.0, 939.0], [393.0, 81.0]), ([530.0, 957.0], [537.0, 98.0]), ([373.0, 970.0], [379.0, 112.0]), ([804.0, 987.0], [811.0, 128.0]), ([645.0, 1005.0], [651.0, 148.0]), ([651.0, 1062.0], [658.0, 205.0]), ([1078.0, 1079.0], [1085.0, 222.0]), ([533.0, 1084.0], [537.6000366210938, 228.00001525878906]), ([514.0, 1095.0], [520.0, 237.0]), ([514.0, 1097.0], [520.0, 239.0]), ([536.0, 1097.0], [543.0, 239.0]), ([405.0, 1099.0], [411.6000061035156, 242.40000915527344]), ([504.0, 1102.0], [511.0, 245.0]), ([516.0, 1111.0], [523.0, 253.0]), ([526.0, 1112.0], [532.0, 255.0]), ([562.0, 1114.0], [568.0, 257.0]), ([674.0, 1114.0], [680.0, 256.0]), ([427.0, 1173.0], [433.0, 315.0]), ([1228.0, 1192.0], [1236.0, 336.0]), ([1228.0, 1194.0], [1236.0, 339.0]), ([856.800048828125, 885.6000366210938], [862.800048828125, 27.600000381469727]), ([895.2000122070312, 894.0000610351562], [901.0, 36.0]), ([343.20001220703125, 895.2000122070312], [350.4000244140625, 37.20000076293945]), ([650.4000244140625, 910.800048828125], [656.4000244140625, 52.80000305175781]), ([934.800048828125, 919.2000122070312], [942.0000610351562, 60.000003814697266]), ([944.4000244140625, 921.6000366210938], [951.6000366210938, 62.400001525878906]), ([687.6000366210938, 936.0000610351562], [692.6400146484375, 77.76000213623047]), ([295.20001220703125, 938.4000244140625], [301.0, 80.0]), ([494.4000244140625, 940.800048828125], [500.4000244140625, 82.80000305175781]), ([530.4000244140625, 957.6000366210938], [536.4000244140625, 98.4000015258789]), ([907.2000122070312, 964.800048828125], [914.0, 107.0]), ([1077.60009765625, 1078.800048828125], [1084.800048828125, 222.00001525878906]), ([1347.60009765625, 1089.60009765625], [1355.0400390625, 233.28001403808594]), ([513.6000366210938, 1095.60009765625], [519.6000366210938, 238.8000030517578]), ([536.4000244140625, 1096.800048828125], [542.4000244140625, 238.8000030517578]), ([405.6000061035156, 1100.4000244140625], [411.84002685546875, 241.92001342773438]), ([505.20001220703125, 1104.0], [511.20001220703125, 246.00001525878906]), ([516.0, 1111.2000732421875], [522.0, 253.20001220703125]), ([526.800048828125, 1112.4000244140625], [531.6000366210938, 254.40000915527344]), ([672.0, 1112.4000244140625], [679.0, 254.0]), ([670.800048828125, 1114.800048828125], [676.800048828125, 256.8000183105469]), ([392.4000244140625, 1165.2000732421875], [398.4000244140625, 308.4000244140625]), ([430.8000183105469, 1168.800048828125], [436.0, 312.0]), ([776.4000244140625, 1171.2000732421875], [783.6000366210938, 314.4000244140625]), ([1023.6000366210938, 1179.60009765625], [1032.47998046875, 322.55999755859375]), ([453.6000061035156, 1183.2000732421875], [460.0, 326.0]), ([504.0000305175781, 1103.0400390625], [511.20001220703125, 244.8000030517578]), ([383.0400085449219, 940.3200073242188], [390.2400207519531, 82.08000183105469]), ([296.6400146484375, 937.4400634765625], [302.4000244140625, 80.63999938964844]), ([686.8800048828125, 936.0000610351562], [692.9280395507812, 77.760009765625]), ([1199.52001953125, 900.0000610351562], [1206.7200927734375, 43.20000076293945]), ([891.3600463867188, 900.0000610351562], [898.56005859375, 43.20000076293945]), ([885.6000366210938, 897.1200561523438], [891.6000366210938, 39.60000228881836]), ([649.4400024414062, 910.0800170898438], [656.6400146484375, 51.840003967285156]), ([856.800048828125, 885.6000366210938], [862.56005859375, 27.360000610351562]), ([864.0000610351562, 882.7200317382812], [869.760009765625, 24.48000144958496]), ([1285.9200439453125, 946.0800170898438], [1292.4000244140625, 88.80000305175781]), ([907.2000122070312, 964.800048828125], [914.4000244140625, 106.56000518798828]), ([371.52001953125, 973.4400634765625], [378.7200012207031, 115.20000457763672]), ([1264.320068359375, 974.8800659179688], [1270.800048828125, 118.80000305175781]), ([643.6800537109375, 1005.1200561523438], [650.8800048828125, 146.8800048828125])]\n",
      "[([607.0, 1028.0], [614.4000244140625, 37.20000076293945]), ([606.0, 1036.0], [614.0, 45.0]), ([1263.0, 1052.0], [1271.0, 64.0]), ([584.0, 1112.0], [591.0, 122.0]), ([524.0, 1116.0], [531.0, 126.0]), ([485.0, 1122.0], [493.0, 132.0]), ([543.0, 1154.0], [550.0, 165.0]), ([741.0, 1155.0], [748.0, 165.0]), ([535.0, 1158.0], [542.0, 168.0]), ([542.0, 1159.0], [549.0, 168.0]), ([535.0, 1161.0], [542.0, 170.0]), ([934.800048828125, 1004.4000244140625], [942.0000610351562, 13.200000762939453]), ([606.0, 1035.60009765625], [613.2000122070312, 44.400001525878906]), ([610.800048828125, 1038.0], [618.0, 46.80000305175781]), ([1262.4000244140625, 1051.2000732421875], [1269.60009765625, 62.400001525878906]), ([858.0000610351562, 1072.800048828125], [866.0, 82.0]), ([1257.60009765625, 1086.0], [1266.0, 94.80000305175781]), ([1260.0, 1086.0], [1268.4000244140625, 96.0]), ([523.2000122070312, 1116.0], [530.4000244140625, 126.00000762939453]), ([519.6000366210938, 1119.60009765625], [526.800048828125, 128.40000915527344]), ([484.8000183105469, 1120.800048828125], [492.0000305175781, 130.8000030517578]), ([524.4000244140625, 1135.2000732421875], [532.800048828125, 144.0]), ([1236.0, 1140.0], [1244.0, 151.0]), ([1221.60009765625, 1147.2000732421875], [1230.0, 157.20001220703125]), ([542.4000244140625, 1154.4000244140625], [549.6000366210938, 164.40000915527344]), ([740.4000244140625, 1154.4000244140625], [747.6000366210938, 164.40000915527344]), ([1436.4000244140625, 1162.800048828125], [1446.0, 173.0]), ([452.4000244140625, 1165.2000732421875], [459.6000061035156, 174.0]), ([376.8000183105469, 1172.4000244140625], [384.0, 182.40000915527344]), ([934.56005859375, 1005.1200561523438], [941.760009765625, 12.960000991821289])]\n",
      "[([645.0, 1023.0], [651.6000366210938, 15.600000381469727]), ([714.0, 1028.0], [721.0, 18.0]), ([490.0, 1032.0], [496.8000183105469, 21.600000381469727]), ([417.0, 1050.0], [425.0, 40.0]), ([863.0, 1050.0], [871.0, 41.0]), ([1138.0, 1062.0], [1146.0, 53.0]), ([1135.0, 1063.0], [1142.0, 55.0]), ([669.0, 1066.0], [677.0, 56.0]), ([705.0, 1088.0], [712.0, 79.0]), ([712.800048828125, 1028.4000244140625], [720.0, 20.400001525878906]), ([756.0, 1036.800048828125], [764.4000244140625, 27.600000381469727]), ([862.800048828125, 1050.0], [871.2000122070312, 40.80000305175781]), ([1148.4000244140625, 1060.800048828125], [1155.60009765625, 52.80000305175781]), ([523.2000122070312, 1062.0], [530.4000244140625, 52.80000305175781]), ([668.4000244140625, 1065.60009765625], [676.800048828125, 55.20000076293945]), ([1009.2000122070312, 1126.800048828125], [1017.6000366210938, 120.00000762939453])]\n",
      "[([1323.0, 952.0], [1332.0, 14.0]), ([826.0, 956.0], [833.0, 16.0]), ([360.0, 986.0], [367.20001220703125, 46.80000305175781]), ([363.0, 987.0], [369.6000061035156, 48.0]), ([1513.0, 988.0], [1521.0, 52.0]), ([621.0, 989.0], [629.0, 48.0]), ([1130.0, 1010.0], [1138.0, 71.0]), ([282.0, 1017.0], [287.0, 79.0]), ([1196.0, 1025.0], [1203.60009765625, 86.4000015258789]), ([832.0, 1033.0], [840.0, 93.0]), ([561.0, 1062.0], [569.0, 123.0]), ([794.0, 1065.0], [802.0, 126.0]), ([446.0, 1101.0], [453.0, 162.0]), ([757.0, 1122.0], [764.0, 182.0]), ([641.0, 1136.0], [646.800048828125, 196.8000030517578]), ([322.0, 1137.0], [329.0, 199.0]), ([636.0, 1138.0], [643.0, 199.0]), ([1120.0, 1141.0], [1128.0, 205.0]), ([875.0, 1148.0], [882.0, 210.0]), ([1553.0, 1155.0], [1558.800048828125, 220.8000030517578]), ([362.4000244140625, 986.4000244140625], [370.08001708984375, 47.52000045776367]), ([1513.2000732421875, 987.6000366210938], [1520.4000244140625, 51.60000228881836]), ([621.6000366210938, 988.800048828125], [628.800048828125, 48.0]), ([282.0, 1016.4000244140625], [289.20001220703125, 78.0]), ([1232.4000244140625, 1035.60009765625], [1241.280029296875, 96.4800033569336]), ([585.6000366210938, 1058.4000244140625], [592.0, 119.0]), ([1024.800048828125, 1107.60009765625], [1033.0, 169.0]), ([757.2000122070312, 1125.60009765625], [764.4000244140625, 187.20001220703125]), ([318.0, 1135.2000732421875], [324.0, 196.8000030517578]), ([322.8000183105469, 1136.4000244140625], [328.8000183105469, 199.20001220703125]), ([1530.0, 1150.800048828125], [1538.4000244140625, 214.8000030517578]), ([1554.0001220703125, 1154.4000244140625], [1562.4000244140625, 218.8800048828125]), ([1323.360107421875, 951.8400268554688], [1330.5601806640625, 13.82400131225586]), ([1513.4400634765625, 967.6800537109375], [1522.080078125, 31.68000030517578]), ([580.3200073242188, 984.9600219726562], [586.800048828125, 45.60000228881836]), ([1512.0, 987.8400268554688], [1520.6400146484375, 51.840003967285156]), ([596.1600341796875, 990.7200317382812], [602.4000244140625, 51.60000228881836]), ([1504.800048828125, 990.7200317382812], [1510.800048828125, 56.400001525878906]), ([282.2400207519531, 1016.6400146484375], [289.44000244140625, 77.76000213623047]), ([1229.760009765625, 1033.9200439453125], [1238.4000244140625, 96.4800033569336]), ([1270.080078125, 1041.1199951171875], [1276.9920654296875, 103.68000793457031]), ([1018.0800170898438, 1105.9200439453125], [1027.2000732421875, 169.20001220703125]), ([635.0400390625, 1128.9600830078125], [642.2400512695312, 190.0800018310547]), ([639.3600463867188, 1134.7200927734375], [646.5599975585938, 195.8400115966797])]\n",
      "[([811.0, 865.0], [815.0, 149.0]), ([1512.0, 858.0], [1516.0, 144.0]), ([789.0, 858.0], [793.0, 142.0]), ([331.0, 858.0], [335.0, 143.0]), ([436.0, 825.0], [440.0, 109.0]), ([1511.0, 852.0], [1517.0, 136.0]), ([1415.0, 850.0], [1420.0, 136.0]), ([332.0, 849.0], [336.0, 133.0]), ([431.0, 837.0], [435.0, 120.0]), ([807.0, 840.0], [810.0, 124.0]), ([971.0, 1188.0], [976.0, 473.0]), ([972.0, 1181.0], [977.0, 467.0]), ([976.0, 1180.0], [981.0, 464.0]), ([398.0, 1152.0], [402.0, 437.0]), ([904.0, 1142.0], [909.0, 428.0]), ([903.0, 1140.0], [908.0, 425.0]), ([571.0, 1133.0], [575.0, 417.0]), ([458.0, 1120.0], [461.0, 405.0]), ([431.0, 1115.0], [434.0, 400.0]), ([1071.0, 1103.0], [1075.0, 387.0]), ([1347.0, 1076.0], [1352.4000244140625, 362.4000244140625]), ([1157.0, 1076.0], [1162.0, 360.0]), ([1119.0, 1058.0], [1123.0, 341.0]), ([892.0, 1039.0], [896.0, 324.0]), ([1066.0, 1017.0], [1070.0, 301.0]), ([1272.0, 1015.0], [1277.0, 300.0]), ([741.0, 961.0], [745.0, 245.0]), ([340.0, 959.0], [344.0, 244.0]), ([745.0, 957.0], [748.0, 241.0]), ([740.0, 957.0], [745.0, 241.0]), ([531.0, 956.0], [535.0, 240.0]), ([533.0, 955.0], [537.0, 239.0]), ([531.0, 945.0], [535.0, 229.0]), ([1143.0, 743.0], [1147.0, 29.0]), ([926.0, 935.0], [930.0, 219.0]), ([1381.0, 921.0], [1385.0, 207.0]), ([1370.0, 921.0], [1375.2000732421875, 206.40000915527344]), ([953.0, 915.0], [957.0, 199.0]), ([1488.0, 771.0], [1496.0, 57.0]), ([955.0, 879.0], [960.0, 164.0]), ([1499.0, 777.0], [1503.0, 63.0]), ([342.0, 875.0], [347.0, 159.0]), ([1513.0, 785.0], [1518.0, 70.0]), ([1514.0, 791.0], [1517.0, 77.0]), ([693.0, 848.0], [697.0, 132.0]), ([1516.0, 849.0], [1521.0, 135.0]), ([1524.0, 721.0], [1528.0, 5.0]), ([907.2000122070312, 1140.0], [910.800048828125, 424.8000183105469]), ([1519.2000732421875, 1132.800048828125], [1526.0, 420.0]), ([1071.60009765625, 1125.60009765625], [1076.4000244140625, 408.0000305175781]), ([430.8000183105469, 1114.800048828125], [434.4000244140625, 399.6000061035156]), ([940.800048828125, 1090.800048828125], [945.6000366210938, 374.4000244140625]), ([1156.800048828125, 1076.4000244140625], [1161.60009765625, 360.0]), ([1344.0, 1074.0], [1350.0, 360.0]), ([1118.4000244140625, 1057.2000732421875], [1123.2000732421875, 340.8000183105469]), ([891.6000366210938, 1039.2000732421875], [896.4000244140625, 324.0]), ([1071.60009765625, 1014.0000610351562], [1075.2000732421875, 297.6000061035156]), ([726.0, 961.2000122070312], [731.0, 246.0]), ([724.800048828125, 958.800048828125], [729.6000366210938, 242.40000915527344]), ([342.0, 958.800048828125], [346.8000183105469, 242.40000915527344]), ([745.2000122070312, 956.4000244140625], [748.800048828125, 240.00001525878906]), ([528.0, 955.2000122070312], [532.800048828125, 238.8000030517578]), ([525.6000366210938, 954.0000610351562], [529.2000122070312, 237.60000610351562]), ([524.4000244140625, 951.6000366210938], [528.4800415039062, 234.7200164794922]), ([524.4000244140625, 948.0000610351562], [528.0, 231.60000610351562]), ([528.0, 945.6000366210938], [531.6000366210938, 229.20001220703125]), ([525.6000366210938, 945.6000366210938], [529.2000122070312, 229.20001220703125]), ([320.4000244140625, 930.0000610351562], [323.0, 214.0]), ([1380.0, 920.4000244140625], [1385.280029296875, 204.48001098632812]), ([950.4000244140625, 916.800048828125], [955.2000122070312, 201.60000610351562]), ([952.800048828125, 914.4000244140625], [956.4000244140625, 199.20001220703125]), ([873.6000366210938, 906.0000610351562], [879.0, 190.0]), ([952.800048828125, 877.2000122070312], [957.6000366210938, 160.8000030517578]), ([331.20001220703125, 872.4000244140625], [334.8000183105469, 157.20001220703125]), ([1506.0, 871.2000122070312], [1512.0, 158.40000915527344]), ([1512.0, 858.0000610351562], [1515.60009765625, 144.0]), ([788.4000244140625, 858.0000610351562], [793.2000122070312, 141.60000610351562]), ([331.20001220703125, 858.0000610351562], [334.8000183105469, 142.8000030517578]), ([787.2000122070312, 855.6000366210938], [792.0000610351562, 139.20001220703125]), ([1143.60009765625, 742.800048828125], [1147.2000732421875, 28.80000114440918]), ([1515.60009765625, 849.6000366210938], [1520.4000244140625, 135.60000610351562]), ([332.4000244140625, 849.6000366210938], [336.0, 133.20001220703125]), ([1104.0, 846.0000610351562], [1107.3599853515625, 129.60000610351562]), ([728.4000244140625, 846.0000610351562], [732.0, 129.60000610351562]), ([1514.4000244140625, 763.2000122070312], [1518.0, 49.20000076293945]), ([1500.0, 776.4000244140625], [1505.0, 62.0]), ([430.8000183105469, 836.4000244140625], [434.4000244140625, 120.00000762939453]), ([679.2000122070312, 790.800048828125], [683.0, 74.0]), ([1513.2000732421875, 790.800048828125], [1516.800048828125, 76.80000305175781]), ([436.8000183105469, 824.4000244140625], [440.4000244140625, 109.20000457763672]), ([399.6000061035156, 1150.800048828125], [402.0000305175781, 436.8000183105469]), ([975.6000366210938, 1177.2000732421875], [980.4000244140625, 464.4000244140625]), ([972.0000610351562, 1182.0], [976.800048828125, 466.8000183105469]), ([981.6000366210938, 1182.0], [986.4000244140625, 466.8000183105469]), ([345.6000061035156, 969.1200561523438], [348.4800109863281, 252.00001525878906]), ([741.6000366210938, 959.0400390625], [745.9200439453125, 241.92001342773438]), ([342.7200012207031, 959.0400390625], [345.6000061035156, 243.36001586914062]), ([528.4800415039062, 954.7200317382812], [532.800048828125, 237.60000610351562]), ([534.2400512695312, 950.4000244140625], [540.0, 236.16000366210938]), ([527.0400390625, 944.6400146484375], [531.3600463867188, 228.9600067138672]), ([318.2400207519531, 928.800048828125], [322.55999755859375, 213.12001037597656]), ([874.0800170898438, 905.760009765625], [878.4000244140625, 190.0800018310547]), ([1512.0, 875.52001953125], [1517.1842041015625, 162.43202209472656]), ([342.7200012207031, 874.0800170898438], [347.0400085449219, 158.40000915527344]), ([331.20001220703125, 871.2000122070312], [334.08001708984375, 156.9600067138672]), ([1513.4400634765625, 864.0000610351562], [1517.760009765625, 151.20001220703125]), ([1143.3599853515625, 743.0400390625], [1146.239990234375, 27.360000610351562]), ([1517.760009765625, 743.0400390625], [1520.6400146484375, 28.80000114440918]), ([1512.0, 858.2400512695312], [1516.320068359375, 144.0]), ([331.20001220703125, 856.800048828125], [334.08001708984375, 142.5600128173828]), ([1510.56005859375, 852.4800415039062], [1514.8800048828125, 138.24000549316406]), ([331.20001220703125, 848.1600341796875], [335.52001953125, 132.48001098632812]), ([341.2799987792969, 845.280029296875], [345.6000061035156, 129.60000610351562])]\n"
     ]
    }
   ],
   "source": [
    "for mc in match_combinations:\n",
    "    print([(int(pt1[0]-pt2[0]),int(pt1[1]-pt2[1])) for pt1,pt2 in alignment_result[\"alignment_data\"][tuple(mc)]['estimated_translation_inliers']])\n",
    "for mc in match_combinations:\n",
    "    print([(list(pt1),list(pt2)) for pt1,pt2 in alignment_result[\"alignment_data\"][tuple(mc)]['estimated_translation_inliers']])"
   ]
  },
  {
   "cell_type": "code",
   "execution_count": 22,
   "metadata": {},
   "outputs": [
    {
     "data": {
      "text/plain": [
       "[[('a_myimages01.jpg', 'a_myimages02.jpg'), (12, -1088)],\n",
       " [('a_myimages02.jpg', 'a_myimages03.jpg'), (8, -1141)],\n",
       " [('a_myimages03.jpg', 'a_myimages04.jpg'), (-129, -1058)],\n",
       " [('a_myimages04.jpg', 'a_myimages05.jpg'), (11, -943)],\n",
       " [('a_myimages05.jpg', 'a_myimages06.jpg'), (5, -860)],\n",
       " [('a_myimages06.jpg', 'a_myimages07.jpg'), (10, -990)],\n",
       " [('a_myimages07.jpg', 'a_myimages08.jpg'), (9, -1009)],\n",
       " [('a_myimages08.jpg', 'a_myimages09.jpg'), (9, -939)],\n",
       " [('a_myimages09.jpg', 'a_myimages10.jpg'), (3, -722)]]"
      ]
     },
     "execution_count": 22,
     "metadata": {},
     "output_type": "execute_result"
    }
   ],
   "source": [
    "mis_project.get_rels(\"r\")"
   ]
  },
  {
   "cell_type": "code",
   "execution_count": 25,
   "metadata": {},
   "outputs": [
    {
     "data": {
      "text/plain": [
       "[[('a_myimages01.jpg', 'a_myimages02.jpg'), (9, -1086)],\n",
       " [('a_myimages02.jpg', 'a_myimages03.jpg'), (8, -1146)],\n",
       " [('a_myimages03.jpg', 'a_myimages04.jpg'), (-124, -1060)],\n",
       " [('a_myimages04.jpg', 'a_myimages05.jpg'), (9, -942)],\n",
       " [('a_myimages05.jpg', 'a_myimages06.jpg'), (6, -857)],\n",
       " [('a_myimages06.jpg', 'a_myimages07.jpg'), (7, -990)],\n",
       " [('a_myimages07.jpg', 'a_myimages08.jpg'), (7, -1009)],\n",
       " [('a_myimages08.jpg', 'a_myimages09.jpg'), (7, -938)],\n",
       " [('a_myimages09.jpg', 'a_myimages10.jpg'), (4, -715)]]"
      ]
     },
     "execution_count": 25,
     "metadata": {},
     "output_type": "execute_result"
    }
   ],
   "source": [
    "mis_project_copy=load_mis(mis_filepath)\n",
    "mis_project_copy._relations=[]\n",
    "for mc in match_combinations:\n",
    "    mis_project_copy._relations.append(Relation(\n",
    "        mc[0],\n",
    "        mc[1],\n",
    "        'p',\n",
    "        [([int(x) for x in pt1],[int(x) for x in pt2]) for pt1,pt2 in alignment_result[\"alignment_data\"][tuple(mc)]['estimated_translation_inliers']]))\n",
    "#TODO add an update relation option?\n",
    "mis_project_copy.get_rels(\"r\")"
   ]
  }
 ],
 "metadata": {
  "kernelspec": {
   "display_name": ".venv",
   "language": "python",
   "name": "python3"
  },
  "language_info": {
   "codemirror_mode": {
    "name": "ipython",
    "version": 3
   },
   "file_extension": ".py",
   "mimetype": "text/x-python",
   "name": "python",
   "nbconvert_exporter": "python",
   "pygments_lexer": "ipython3",
   "version": "3.10.8"
  }
 },
 "nbformat": 4,
 "nbformat_minor": 2
}

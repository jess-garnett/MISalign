{
 "cells": [
  {
   "cell_type": "markdown",
   "metadata": {},
   "source": [
    "# Manual Relation/Alignment Prototype in Jupyter NB\n",
    "Purpose: Explore options for inputing relations"
   ]
  },
  {
   "cell_type": "code",
   "execution_count": null,
   "metadata": {},
   "outputs": [],
   "source": [
    "# %pip install ipympl\n",
    "# %pip install pyqt5"
   ]
  },
  {
   "cell_type": "code",
   "execution_count": 1,
   "metadata": {},
   "outputs": [],
   "source": [
    "import sys\n",
    "import os\n",
    "sys.path.insert(0, os.path.abspath(\"../..\"))  # Repository directory relative to this file.\n",
    "from MISalign.model.project import Project\n",
    "from MISalign.model.relation import Relation\n",
    "from MISalign.model.relation_service import relation_tree\n",
    "from MISalign.model.image import Image\n",
    "\n",
    "from PIL import Image as PILImage\n",
    "\n",
    "from matplotlib import pyplot as plt"
   ]
  },
  {
   "cell_type": "code",
   "execution_count": 3,
   "metadata": {},
   "outputs": [],
   "source": [
    "from os.path import abspath"
   ]
  },
  {
   "cell_type": "code",
   "execution_count": null,
   "metadata": {},
   "outputs": [],
   "source": [
    "%matplotlib qt5\n",
    "img=PILImage.open(abspath(r\"..\\..\\example\\data\\set_a\\a_myimages01.jpg\"))\n",
    "# display(img)\n",
    "plt.imshow(img)\n",
    "plt.ginput(5)\n",
    "# select up to 5 points using left mouse\n",
    "# stop collecting points with middle mouse\n",
    "# undo previous with right click"
   ]
  },
  {
   "cell_type": "code",
   "execution_count": 7,
   "metadata": {},
   "outputs": [],
   "source": [
    "%matplotlib qt5\n",
    "img0=PILImage.open(abspath(r\"..\\..\\example\\data\\set_a\\a_myimages01.jpg\"))\n",
    "img1=PILImage.open(abspath(r\"..\\..\\example\\data\\set_a\\a_myimages02.jpg\"))\n",
    "\n",
    "fig0, ax0 = plt.subplots()\n",
    "ax0.imshow(img0)\n",
    "plt.title(\"Figure 0\")\n",
    "\n",
    "fig1, ax1 = plt.subplots()\n",
    "ax1.imshow(img1)\n",
    "plt.title(\"Figure 1\")\n",
    "plt.show()"
   ]
  },
  {
   "cell_type": "code",
   "execution_count": 8,
   "metadata": {},
   "outputs": [
    {
     "name": "stdout",
     "output_type": "stream",
     "text": [
      "[(1260.5389610389611, 1098.2012987012988), (848.2012987012988, 1140.409090909091)] [(1268.672932330827, 19.185577580314202), (855.2758031442243, 51.994873547504994)]\n"
     ]
    }
   ],
   "source": [
    "fg0=fig0.ginput(3)\n",
    "fg1=fig1.ginput(3)\n",
    "print(fg0,fg1)"
   ]
  }
 ],
 "metadata": {
  "kernelspec": {
   "display_name": ".venv",
   "language": "python",
   "name": "python3"
  },
  "language_info": {
   "codemirror_mode": {
    "name": "ipython",
    "version": 3
   },
   "file_extension": ".py",
   "mimetype": "text/x-python",
   "name": "python",
   "nbconvert_exporter": "python",
   "pygments_lexer": "ipython3",
   "version": "3.10.8"
  }
 },
 "nbformat": 4,
 "nbformat_minor": 2
}

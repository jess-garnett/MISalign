{
 "cells": [
  {
   "cell_type": "markdown",
   "metadata": {},
   "source": [
    "# Manual Relation/Alignment Prototype in Jupyter NB\n",
    "Purpose: Explore options for inputing relations"
   ]
  },
  {
   "cell_type": "code",
   "execution_count": 1,
   "metadata": {},
   "outputs": [],
   "source": [
    "# %pip install ipympl\n",
    "# %pip install pyqt5"
   ]
  },
  {
   "cell_type": "code",
   "execution_count": 2,
   "metadata": {},
   "outputs": [],
   "source": [
    "import sys\n",
    "import os\n",
    "\n",
    "\n",
    "from PIL import Image as PILImage\n",
    "\n",
    "from matplotlib import pyplot as plt"
   ]
  },
  {
   "cell_type": "code",
   "execution_count": 3,
   "metadata": {},
   "outputs": [],
   "source": [
    "from os.path import abspath"
   ]
  },
  {
   "cell_type": "code",
   "execution_count": 4,
   "metadata": {},
   "outputs": [
    {
     "data": {
      "text/plain": [
       "[(903.396103896104, 383.91558441558436),\n",
       " (1033.2662337662339, 393.6558441558442),\n",
       " (1192.3571428571431, 335.2142857142858),\n",
       " (1185.8636363636365, 280.01948051948057),\n",
       " (916.383116883117, 773.525974025974)]"
      ]
     },
     "execution_count": 4,
     "metadata": {},
     "output_type": "execute_result"
    }
   ],
   "source": [
    "%matplotlib qt5\n",
    "img=PILImage.open(abspath(r\"..\\..\\example\\data\\set_a\\a_myimages01.jpg\"))\n",
    "# display(img)\n",
    "plt.imshow(img)\n",
    "plt.ginput(5)\n"
   ]
  },
  {
   "cell_type": "code",
   "execution_count": 5,
   "metadata": {},
   "outputs": [],
   "source": [
    "%matplotlib qt5\n",
    "img0=PILImage.open(abspath(r\"..\\..\\example\\data\\set_a\\a_myimages01.jpg\"))\n",
    "img1=PILImage.open(abspath(r\"..\\..\\example\\data\\set_a\\a_myimages02.jpg\"))\n",
    "\n",
    "fig0, ax0 = plt.subplots()\n",
    "ax0.imshow(img0)\n",
    "plt.title(\"Figure 0\")\n",
    "\n",
    "fig1, ax1 = plt.subplots()\n",
    "ax1.imshow(img1)\n",
    "plt.title(\"Figure 1\")\n",
    "plt.show()"
   ]
  },
  {
   "cell_type": "code",
   "execution_count": 6,
   "metadata": {},
   "outputs": [
    {
     "name": "stdout",
     "output_type": "stream",
     "text": [
      "[(925.0252840909093, 365.7889204545454), (1003.4670454545455, 543.1355113636364), (849.9940340909093, 624.9877840909091)] [(471.69128787878793, 410.0606060606059), (848.471590909091, 543.2329545454544), (806.2462121212122, 397.06818181818176)]\n"
     ]
    }
   ],
   "source": [
    "plt.autoscale(tight=True)\n",
    "# select up to 3 points using left mouse\n",
    "# stop collecting points with middle mouse\n",
    "# undo previous with right click\n",
    "border=ax0.plot([0,0,1600,1600,0],[0,1200,1200,0,0],\"r--\")\n",
    "# plt.show()\n",
    "fig0.draw(renderer=fig0.canvas.renderer)\n",
    "plt.pause(0.05)\n",
    "# plt.pause(5)\n",
    "# fig0.show()\n",
    "# fig0.canvas.flush_events()\n",
    "fg0=fig0.ginput(3)\n",
    "ax0.lines[0].remove()\n",
    "fig0.draw(renderer=fig0.canvas.renderer)\n",
    "plt.pause(0.05)\n",
    "\n",
    "border=ax1.plot([0,0,1600,1600,0],[0,1200,1200,0,0],\"r--\")\n",
    "# fig0.show()\n",
    "# fig1.show()\n",
    "# fig0.canvas.flush_events()\n",
    "# fig1.canvas.flush_events()\n",
    "# plt.show()\n",
    "# plt.pause(5)\n",
    "fig1.draw(renderer=fig0.canvas.renderer)\n",
    "plt.pause(0.05)\n",
    "fg1=fig1.ginput(3)\n",
    "ax1.lines[0].remove()\n",
    "fig1.draw(renderer=fig0.canvas.renderer)\n",
    "plt.pause(0.05)\n",
    "print(fg0,fg1)\n",
    "# fig1.show()\n",
    "plt.show()"
   ]
  },
  {
   "cell_type": "code",
   "execution_count": 12,
   "metadata": {},
   "outputs": [],
   "source": [
    "ax0.imshow(img1)\n",
    "ax0.set_axis_off()\n",
    "img2=PILImage.open(abspath(r\"..\\..\\example\\data\\set_a\\a_myimages03.jpg\"))\n",
    "ax1.imshow(img2)\n",
    "ax1.set_axis_off()\n",
    "plt.show()"
   ]
  },
  {
   "cell_type": "markdown",
   "metadata": {},
   "source": [
    "# Single figure/axes"
   ]
  },
  {
   "cell_type": "code",
   "execution_count": 22,
   "metadata": {},
   "outputs": [],
   "source": [
    "import numpy as np"
   ]
  },
  {
   "cell_type": "code",
   "execution_count": 10,
   "metadata": {},
   "outputs": [
    {
     "name": "stdout",
     "output_type": "stream",
     "text": [
      "(1600, 1200)\n",
      "(1600, 1200)\n"
     ]
    }
   ],
   "source": [
    "%matplotlib qt5\n",
    "img0=PILImage.open(abspath(r\"..\\..\\example\\data\\set_a\\a_myimages01.jpg\"))\n",
    "img1=PILImage.open(abspath(r\"..\\..\\example\\data\\set_a\\a_myimages02.jpg\"))\n",
    "print(img0.size)\n",
    "print(img1.size)"
   ]
  },
  {
   "cell_type": "code",
   "execution_count": 43,
   "metadata": {},
   "outputs": [],
   "source": [
    "plt.imshow(np.vstack([img0,img1]))\n",
    "while (gput := plt.gcf().ginput(7)) != []:\n",
    "    print(gput)\n",
    "    for x,y in gput:\n",
    "        format = \"1r\" if y<1200 else \"1b\"\n",
    "        plt.plot([x],[y],format)\n",
    "    plt.draw()\n",
    "# Middle click to exit. right click to undo"
   ]
  },
  {
   "cell_type": "markdown",
   "metadata": {},
   "source": [
    "# Integration with model"
   ]
  },
  {
   "cell_type": "code",
   "execution_count": 45,
   "metadata": {},
   "outputs": [],
   "source": [
    "sys.path.insert(0, os.path.abspath(\"../..\"))  # Repository directory relative to this file.\n",
    "from MISalign.model.project import Project\n",
    "from MISalign.model.relation import Relation\n",
    "from MISalign.model.relation_service import relation_tree\n",
    "from MISalign.model.image import Image"
   ]
  },
  {
   "cell_type": "code",
   "execution_count": 49,
   "metadata": {},
   "outputs": [],
   "source": [
    "imgs=[Image(abspath(r\"..\\..\\example\\data\\set_a\\a_myimages01.jpg\")),Image(abspath(r\"..\\..\\example\\data\\set_a\\a_myimages02.jpg\"))]\n",
    "# display(imgs[0].image)\n",
    "# display(imgs[1]._img)"
   ]
  },
  {
   "cell_type": "code",
   "execution_count": 53,
   "metadata": {},
   "outputs": [
    {
     "data": {
      "text/plain": [
       "(1200, 1600, 3)"
      ]
     },
     "execution_count": 53,
     "metadata": {},
     "output_type": "execute_result"
    }
   ],
   "source": [
    "imgs[0]._img.shape"
   ]
  },
  {
   "cell_type": "code",
   "execution_count": 89,
   "metadata": {},
   "outputs": [
    {
     "name": "stdout",
     "output_type": "stream",
     "text": [
      "[676.12337662 851.44805195]\n",
      "[(676.1233766233763, 302.0974025974026), (851.4480519480517, 678.7207792207794)]\n"
     ]
    }
   ],
   "source": [
    "print(rd[1,:,0]) \n",
    "print(rel_data[1])"
   ]
  },
  {
   "cell_type": "code",
   "execution_count": 93,
   "metadata": {},
   "outputs": [
    {
     "name": "stdout",
     "output_type": "stream",
     "text": [
      "[(708.5909090909088, 586.5129870129872), (1026.772727272727, 729.3701298701299), (741.0584415584412, 1456.6428571428573), (1052.746753246753, 1677.422077922078)]\n",
      "[[(708.5909090909088, 586.5129870129872), (1026.772727272727, 729.3701298701299)], [(741.0584415584412, 256.64285714285734), (1052.746753246753, 477.42207792207796)]]\n",
      "(314, 181)\n"
     ]
    }
   ],
   "source": [
    "plt.imshow(np.vstack([imgs[0]._img,imgs[1]._img]))\n",
    "height=imgs[0]._img.shape[0]\n",
    "rel_data=[[],[]]\n",
    "while (align_pts := plt.gcf().ginput(7)) != []:\n",
    "    print(align_pts)\n",
    "    for x,y in align_pts:\n",
    "        if y<height:\n",
    "            rel_data[0].append((x,y))\n",
    "        else:\n",
    "            rel_data[1].append((x,y-height))\n",
    "    try:\n",
    "        rd=np.array(rel_data) #[a/b,pt,x/y]\n",
    "        plt.plot(rd[0,:,0],rd[0,:,1],\"or\")\n",
    "        plt.plot(rd[1,:,0],rd[1,:,1]+height,\"og\")\n",
    "        plt.draw()\n",
    "    except ValueError:\n",
    "        print(\"Select a matching number of points in each image.\")\n",
    "\n",
    "rel=Relation(imgs[0].name,imgs[1].name,'p',rel_data)\n",
    "print(rel.get_rel('p'))\n",
    "print(rel.get_rel('r'))"
   ]
  },
  {
   "cell_type": "code",
   "execution_count": 102,
   "metadata": {},
   "outputs": [
    {
     "data": {
      "text/plain": [
       "(1600, 1200)"
      ]
     },
     "execution_count": 102,
     "metadata": {},
     "output_type": "execute_result"
    }
   ],
   "source": [
    "imgs[0].size"
   ]
  },
  {
   "cell_type": "code",
   "execution_count": 117,
   "metadata": {},
   "outputs": [
    {
     "name": "stdout",
     "output_type": "stream",
     "text": [
      "[((1330.1693306693305, 1143.9555444555442), (1342.9565434565434, 62.23726273726243)), ((1256.6428571428569, 1105.5939060939058), (1269.4300699300697, 14.28521478521452))]\n",
      "('a_myimages01.jpg', 'a_myimages02.jpg')\n",
      "(12, -1086)\n"
     ]
    }
   ],
   "source": [
    "class InteractiveManualRelation():\n",
    "    \"\"\"Allows user to manually specify relation between two images using interactive matplotlib interface.\"\"\"\n",
    "    def __init__(self):\n",
    "        self._fig=plt.figure()\n",
    "        self._ax=self._fig.subplots()\n",
    "        self.points=None\n",
    "        plt.show()\n",
    "    def plot_clear(self):\n",
    "        \"\"\"Clears current IMR figure\"\"\"\n",
    "        self.points=None\n",
    "    def plot_points(self):\n",
    "        \"\"\"Plots the points of the current relation\"\"\"\n",
    "        for pop in self.points:\n",
    "            plt.plot([pop[0][0],pop[1][0]],[pop[0][1],pop[1][1]+height],\"x:\")\n",
    "        \n",
    "        # for fmt,h,pts in zip([\"r\",\"b\"],[0,self._height],self.points):\n",
    "        #     for i,(x,y) in enumerate(pts):\n",
    "        #         plt.plot(x,y+h,str(i+1)+fmt) #TODO convert this to use color rather than marker to indicate matching pairs.\n",
    "    def change_images(self,imga:Image,imgb:Image):\n",
    "        \"\"\"Replaces image in IMR figure\"\"\"\n",
    "        self._imga=imga\n",
    "        self._imgb=imgb\n",
    "        self._height=imga.size[1]\n",
    "        self._ax=plt.imshow(np.vstack([imga._img,imgb._img]))\n",
    "        self.points=None\n",
    "    def manual(self):\n",
    "        \"\"\"Gets user input points from figure\"\"\"\n",
    "        input_points=self._fig.ginput(7)\n",
    "        rel_pts=[[],[]]\n",
    "        for x,y in input_points:\n",
    "            if y<self._height:\n",
    "                rel_pts[0].append((x,y))\n",
    "            else:\n",
    "                rel_pts[1].append((x,y-self._height))\n",
    "        if len(rel_pts[0]) == len(rel_pts[1]):\n",
    "            self.points=[(a,b) for a,b in zip(rel_pts[0],rel_pts[1])]#convert from list of x,y sorted by image to pairs of x,y pairs\n",
    "        else:\n",
    "            raise ValueError(\"Mismatched number of selected points.\")\n",
    "    def get_rel(self):\n",
    "        return Relation(self._imga.name,self._imgb.name,'p',self.points)\n",
    "imr=InteractiveManualRelation()\n",
    "imr.change_images(*imgs)\n",
    "imr.manual()\n",
    "print(imr.points)\n",
    "imr.plot_points()\n",
    "r=imr.get_rel()\n",
    "print(r.get_rel())\n",
    "print(r.get_rel('r'))\n"
   ]
  },
  {
   "cell_type": "markdown",
   "metadata": {},
   "source": [
    "# Testing separate module"
   ]
  },
  {
   "cell_type": "code",
   "execution_count": 1,
   "metadata": {},
   "outputs": [],
   "source": [
    "from os.path import abspath\n",
    "from sys import path\n",
    "path.insert(0, abspath(\"../..\"))  # Repository directory relative to this file.\n",
    "from MISalign.alignment.interactive_manual import InteractiveManualRelation\n",
    "from MISalign.model.image import Image\n",
    "imgs=[Image(abspath(r\"..\\..\\example\\data\\set_a\\a_myimages01.jpg\")),Image(abspath(r\"..\\..\\example\\data\\set_a\\a_myimages02.jpg\"))]"
   ]
  },
  {
   "cell_type": "code",
   "execution_count": 2,
   "metadata": {},
   "outputs": [
    {
     "name": "stdout",
     "output_type": "stream",
     "text": [
      "[((1247.5519480519479, 1086.512987012987), (1254.045454545454, 48.85064935064952)), ((1331.9675324675322, 1157.9415584415585), (1305.9935064935062, 100.79870129870142))]\n",
      "('a_myimages01.jpg', 'a_myimages02.jpg')\n",
      "(-9, -1047)\n"
     ]
    }
   ],
   "source": [
    "%matplotlib qt5\n",
    "imr=InteractiveManualRelation()\n",
    "imr.change_images(*imgs)\n",
    "imr.manual()\n",
    "print(imr.points)\n",
    "imr.plot_points()\n",
    "r=imr.get_rel()\n",
    "print(r.get_rel())\n",
    "print(r.get_rel('r'))"
   ]
  },
  {
   "cell_type": "code",
   "execution_count": 4,
   "metadata": {},
   "outputs": [],
   "source": [
    "imr2=InteractiveManualRelation()\n",
    "imr2.change_images(*imgs)\n",
    "imr2.points=r.get_rel('p')\n",
    "imr.plot_points()"
   ]
  },
  {
   "cell_type": "markdown",
   "metadata": {},
   "source": [
    "# swap between img pairs."
   ]
  },
  {
   "cell_type": "code",
   "execution_count": 1,
   "metadata": {},
   "outputs": [],
   "source": [
    "from os.path import abspath\n",
    "from sys import path\n",
    "path.insert(0, abspath(\"../..\"))  # Repository directory relative to this file.\n",
    "from MISalign.alignment.interactive_manual import InteractiveManualRelation\n",
    "from MISalign.model.image import Image"
   ]
  },
  {
   "cell_type": "code",
   "execution_count": 2,
   "metadata": {},
   "outputs": [],
   "source": [
    "imgs=[\n",
    "    Image(abspath(r\"..\\..\\example\\data\\set_a\\a_myimages01.jpg\")),\n",
    "    Image(abspath(r\"..\\..\\example\\data\\set_a\\a_myimages02.jpg\")),\n",
    "    Image(abspath(r\"..\\..\\example\\data\\set_a\\a_myimages03.jpg\")),\n",
    "    Image(abspath(r\"..\\..\\example\\data\\set_a\\a_myimages04.jpg\")),\n",
    "    ]"
   ]
  },
  {
   "cell_type": "code",
   "execution_count": 3,
   "metadata": {},
   "outputs": [
    {
     "name": "stdout",
     "output_type": "stream",
     "text": [
      "('a_myimages01.jpg', 'a_myimages02.jpg')\n",
      "(25, -70)\n"
     ]
    }
   ],
   "source": [
    "%matplotlib qt5\n",
    "imr=InteractiveManualRelation()\n",
    "imr.change_images(*imgs[0:2])\n",
    "imr.manual()\n",
    "imr.plot_points()\n",
    "r=imr.get_rel()\n",
    "print(r.get_rel())\n",
    "print(r.get_rel('r'))"
   ]
  },
  {
   "cell_type": "code",
   "execution_count": 4,
   "metadata": {},
   "outputs": [
    {
     "name": "stdout",
     "output_type": "stream",
     "text": [
      "None\n"
     ]
    }
   ],
   "source": [
    "imr.change_images(*imgs[1:3])\n",
    "print(imr.points)"
   ]
  },
  {
   "cell_type": "code",
   "execution_count": 6,
   "metadata": {},
   "outputs": [
    {
     "name": "stdout",
     "output_type": "stream",
     "text": [
      "('a_myimages02.jpg', 'a_myimages03.jpg')\n",
      "(-172, -27)\n"
     ]
    }
   ],
   "source": [
    "imr.manual()\n",
    "imr.plot_points()\n",
    "r=imr.get_rel()\n",
    "print(r.get_rel())\n",
    "print(r.get_rel('r'))"
   ]
  },
  {
   "cell_type": "markdown",
   "metadata": {},
   "source": [
    "# Widget and subfigs"
   ]
  },
  {
   "cell_type": "code",
   "execution_count": 1,
   "metadata": {},
   "outputs": [],
   "source": [
    "from os.path import abspath\n",
    "from sys import path\n",
    "path.insert(0, abspath(\"../..\"))  # Repository directory relative to this file.\n",
    "from MISalign.alignment.interactive_manual import InteractiveManualRelation\n",
    "from MISalign.model.image import Image\n",
    "\n",
    "from matplotlib import pyplot as plt\n",
    "imgs=[\n",
    "    Image(abspath(r\"..\\..\\example\\data\\set_a\\a_myimages01.jpg\")),\n",
    "    Image(abspath(r\"..\\..\\example\\data\\set_a\\a_myimages02.jpg\")),\n",
    "    Image(abspath(r\"..\\..\\example\\data\\set_a\\a_myimages03.jpg\")),\n",
    "    Image(abspath(r\"..\\..\\example\\data\\set_a\\a_myimages04.jpg\")),\n",
    "    ]\n",
    "%matplotlib qt5"
   ]
  },
  {
   "cell_type": "code",
   "execution_count": 2,
   "metadata": {},
   "outputs": [],
   "source": [
    "fig=plt.figure()\n",
    "subfigs = fig.subfigures(2,1,height_ratios=[0.9,0.1])\n",
    "\n",
    "subfigs[0].suptitle(\"sf0\")\n",
    "subfigs[0].set_facecolor('green')\n",
    "sfa1=subfigs[0].subplots(1,1)\n",
    "sfa1.axis('off')\n",
    "sfa1_im=sfa1.imshow(imgs[0]._img)\n",
    "\n",
    "# subfigs[1].suptitle(\"sf1\")\n",
    "subfigs[1].set_facecolor('mediumblue')\n",
    "sf1_ax=subfigs[1].subplots(1,5)\n",
    "for ax in sf1_ax:\n",
    "    ax.xaxis.set_visible(False)\n",
    "    ax.yaxis.set_visible(False)\n",
    "plt.show()"
   ]
  },
  {
   "cell_type": "code",
   "execution_count": 3,
   "metadata": {},
   "outputs": [],
   "source": [
    "from matplotlib.widgets import Button\n"
   ]
  },
  {
   "cell_type": "code",
   "execution_count": 4,
   "metadata": {},
   "outputs": [
    {
     "data": {
      "text/plain": [
       "0"
      ]
     },
     "execution_count": 4,
     "metadata": {},
     "output_type": "execute_result"
    }
   ],
   "source": [
    "next_button=Button(sf1_ax[0],\"Next Pair\",color=\"gray\",hovercolor=\"blue\")\n",
    "def next(a):\n",
    "    print(\"next\",a)\n",
    "next_button.on_clicked(next)"
   ]
  },
  {
   "cell_type": "code",
   "execution_count": 5,
   "metadata": {},
   "outputs": [
    {
     "data": {
      "text/plain": [
       "0"
      ]
     },
     "execution_count": 5,
     "metadata": {},
     "output_type": "execute_result"
    },
    {
     "name": "stdout",
     "output_type": "stream",
     "text": [
      "next button_release_event: xy=(190, 157) xydata=(283.3854450085552, 956.9149392723906) button=1 dblclick=False inaxes=Axes(0.178272,0.11;0.668456x0.77)\n",
      "next button_release_event: xy=(391, 246) xydata=(1035.117514235225, 624.0584509083428) button=1 dblclick=False inaxes=Axes(0.178272,0.11;0.668456x0.77)\n",
      "next button_release_event: xy=(124, 24) xydata=(0.514516129032258, 0.5303357549577851) button=1 dblclick=False inaxes=Axes(0.125,0.11;0.133621x0.77)\n",
      "next button_release_event: xy=(217, 215) xydata=(384.36437968079446, 739.9972277542471) button=1 dblclick=False inaxes=Axes(0.178272,0.11;0.668456x0.77)\n",
      "next button_release_event: xy=(366, 261) xydata=(941.6185006498181, 567.9590427570988) button=1 dblclick=False inaxes=Axes(0.178272,0.11;0.668456x0.77)\n",
      "next button_release_event: xy=(568, 416) xydata=(1154.8520819707867, 507.6192189105859) button=1 dblclick=False inaxes=Axes(0.125645,0.11;0.773711x0.77)\n"
     ]
    }
   ],
   "source": [
    "ib=Button(sfa1,\"\")\n",
    "def next(a):\n",
    "    print(\"next\",a)\n",
    "ib.on_clicked(next)"
   ]
  },
  {
   "cell_type": "markdown",
   "metadata": {},
   "source": [
    "# sub fig approach"
   ]
  },
  {
   "cell_type": "code",
   "execution_count": 5,
   "metadata": {},
   "outputs": [],
   "source": [
    "from os.path import abspath\n",
    "from sys import path\n",
    "path.insert(0, abspath(\"../..\"))  # Repository directory relative to this file.\n",
    "from MISalign.alignment.interactive_manual import InteractiveManualRelation\n",
    "from MISalign.model.image import Image\n",
    "\n",
    "import numpy as np\n",
    "from matplotlib import pyplot as plt\n",
    "imgs=[\n",
    "    Image(abspath(r\"..\\..\\example\\data\\set_a\\a_myimages01.jpg\")),\n",
    "    Image(abspath(r\"..\\..\\example\\data\\set_a\\a_myimages02.jpg\")),\n",
    "    Image(abspath(r\"..\\..\\example\\data\\set_a\\a_myimages03.jpg\")),\n",
    "    Image(abspath(r\"..\\..\\example\\data\\set_a\\a_myimages04.jpg\")),\n",
    "    ]\n",
    "%matplotlib qt5"
   ]
  },
  {
   "cell_type": "code",
   "execution_count": 10,
   "metadata": {},
   "outputs": [],
   "source": [
    "fig=plt.figure()\n",
    "\n",
    "subfigs = fig.subfigures(2,1,height_ratios=[19,1])\n",
    "\n",
    "\n",
    "subfigs[0].set_facecolor('green')\n",
    "sf0ax0=subfigs[0].subplots(1,1)\n",
    "sf0ax0_im=sf0ax0.imshow(np.vstack([imgs[0]._img,imgs[1]._img]))\n",
    "sf0ax0.axis('off')\n",
    "\n",
    "# subfigs[1].suptitle(\"sf1\")\n",
    "subfigs[1].set_facecolor('mediumblue')\n",
    "sf1_ax=subfigs[1].subplots(1,5)\n",
    "for ax in sf1_ax:\n",
    "    ax.xaxis.set_visible(False)\n",
    "    ax.yaxis.set_visible(False)\n",
    "\n",
    "fig.tight_layout()\n",
    "plt.show()"
   ]
  },
  {
   "cell_type": "markdown",
   "metadata": {},
   "source": [
    "# ipympl"
   ]
  },
  {
   "cell_type": "code",
   "execution_count": 1,
   "metadata": {},
   "outputs": [],
   "source": [
    "from os.path import abspath\n",
    "from sys import path\n",
    "path.insert(0, abspath(\"../..\"))  # Repository directory relative to this file.\n",
    "from MISalign.alignment.interactive_manual import InteractiveManualRelation\n",
    "from MISalign.model.image import Image\n",
    "\n",
    "import numpy as np\n",
    "from matplotlib import pyplot as plt\n",
    "imgs=[\n",
    "    Image(abspath(r\"..\\..\\example\\data\\set_a\\a_myimages01.jpg\")),\n",
    "    Image(abspath(r\"..\\..\\example\\data\\set_a\\a_myimages02.jpg\")),\n",
    "    Image(abspath(r\"..\\..\\example\\data\\set_a\\a_myimages03.jpg\")),\n",
    "    Image(abspath(r\"..\\..\\example\\data\\set_a\\a_myimages04.jpg\")),\n",
    "    ]\n",
    "%matplotlib widget"
   ]
  },
  {
   "cell_type": "code",
   "execution_count": 2,
   "metadata": {},
   "outputs": [
    {
     "data": {
      "application/vnd.jupyter.widget-view+json": {
       "model_id": "00af1fc1ff6741d4aa743d95778c0d2b",
       "version_major": 2,
       "version_minor": 0
      },
      "image/png": "[encoded data removed]",
      "text/html": [
       "\n",
       "            <div style=\"display: inline-block;\">\n",
       "                <div class=\"jupyter-widgets widget-label\" style=\"text-align: center;\">\n",
       "                    Figure\n",
       "                </div>\n",
       "                <img src='data:image/png;base64,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' width=640.0/>\n",
       "            </div>\n",
       "        "
      ],
      "text/plain": [
       "Canvas(footer_visible=False, header_visible=False, toolbar=Toolbar(toolitems=[('Home', 'Reset original view', …"
      ]
     },
     "metadata": {},
     "output_type": "display_data"
    }
   ],
   "source": [
    "imr=InteractiveManualRelation()\n",
    "imr.change(*imgs[0:2])\n",
    "imr.relate()\n",
    "# imr._fig.canvas.toolbar_visible = False\n",
    "# imr._fig.canvas.header_visible = False\n",
    "# imr._fig.canvas.footer_visible = False\n",
    "# imr._fig.tight_layout()"
   ]
  },
  {
   "cell_type": "code",
   "execution_count": 3,
   "metadata": {},
   "outputs": [
    {
     "data": {
      "text/plain": [
       "(74, -224)"
      ]
     },
     "execution_count": 3,
     "metadata": {},
     "output_type": "execute_result"
    }
   ],
   "source": [
    "imr.relate_resolve()\n",
    "imr.plot_points()\n",
    "imr.get_relation().get_rel(\"r\")"
   ]
  }
 ],
 "metadata": {
  "kernelspec": {
   "display_name": ".venv",
   "language": "python",
   "name": "python3"
  },
  "language_info": {
   "codemirror_mode": {
    "name": "ipython",
    "version": 3
   },
   "file_extension": ".py",
   "mimetype": "text/x-python",
   "name": "python",
   "nbconvert_exporter": "python",
   "pygments_lexer": "ipython3",
   "version": "3.10.8"
  }
 },
 "nbformat": 4,
 "nbformat_minor": 2
}

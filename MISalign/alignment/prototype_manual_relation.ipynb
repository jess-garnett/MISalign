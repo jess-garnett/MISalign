{
 "cells": [
  {
   "cell_type": "markdown",
   "metadata": {},
   "source": [
    "# Manual Relation/Alignment Prototype in Jupyter NB\n",
    "Purpose: Explore options for inputing relations"
   ]
  },
  {
   "cell_type": "code",
   "execution_count": 1,
   "metadata": {},
   "outputs": [],
   "source": [
    "# %pip install ipympl\n",
    "# %pip install pyqt5"
   ]
  },
  {
   "cell_type": "code",
   "execution_count": 2,
   "metadata": {},
   "outputs": [],
   "source": [
    "import sys\n",
    "import os\n",
    "\n",
    "\n",
    "from PIL import Image as PILImage\n",
    "\n",
    "from matplotlib import pyplot as plt"
   ]
  },
  {
   "cell_type": "code",
   "execution_count": 3,
   "metadata": {},
   "outputs": [],
   "source": [
    "from os.path import abspath"
   ]
  },
  {
   "cell_type": "code",
   "execution_count": 4,
   "metadata": {},
   "outputs": [
    {
     "data": {
      "text/plain": [
       "[(903.396103896104, 383.91558441558436),\n",
       " (1033.2662337662339, 393.6558441558442),\n",
       " (1192.3571428571431, 335.2142857142858),\n",
       " (1185.8636363636365, 280.01948051948057),\n",
       " (916.383116883117, 773.525974025974)]"
      ]
     },
     "execution_count": 4,
     "metadata": {},
     "output_type": "execute_result"
    }
   ],
   "source": [
    "%matplotlib qt5\n",
    "img=PILImage.open(abspath(r\"..\\..\\example\\data\\set_a\\a_myimages01.jpg\"))\n",
    "# display(img)\n",
    "plt.imshow(img)\n",
    "plt.ginput(5)\n"
   ]
  },
  {
   "cell_type": "code",
   "execution_count": 5,
   "metadata": {},
   "outputs": [],
   "source": [
    "%matplotlib qt5\n",
    "img0=PILImage.open(abspath(r\"..\\..\\example\\data\\set_a\\a_myimages01.jpg\"))\n",
    "img1=PILImage.open(abspath(r\"..\\..\\example\\data\\set_a\\a_myimages02.jpg\"))\n",
    "\n",
    "fig0, ax0 = plt.subplots()\n",
    "ax0.imshow(img0)\n",
    "plt.title(\"Figure 0\")\n",
    "\n",
    "fig1, ax1 = plt.subplots()\n",
    "ax1.imshow(img1)\n",
    "plt.title(\"Figure 1\")\n",
    "plt.show()"
   ]
  },
  {
   "cell_type": "code",
   "execution_count": 6,
   "metadata": {},
   "outputs": [
    {
     "name": "stdout",
     "output_type": "stream",
     "text": [
      "[(925.0252840909093, 365.7889204545454), (1003.4670454545455, 543.1355113636364), (849.9940340909093, 624.9877840909091)] [(471.69128787878793, 410.0606060606059), (848.471590909091, 543.2329545454544), (806.2462121212122, 397.06818181818176)]\n"
     ]
    }
   ],
   "source": [
    "plt.autoscale(tight=True)\n",
    "# select up to 3 points using left mouse\n",
    "# stop collecting points with middle mouse\n",
    "# undo previous with right click\n",
    "border=ax0.plot([0,0,1600,1600,0],[0,1200,1200,0,0],\"r--\")\n",
    "# plt.show()\n",
    "fig0.draw(renderer=fig0.canvas.renderer)\n",
    "plt.pause(0.05)\n",
    "# plt.pause(5)\n",
    "# fig0.show()\n",
    "# fig0.canvas.flush_events()\n",
    "fg0=fig0.ginput(3)\n",
    "ax0.lines[0].remove()\n",
    "fig0.draw(renderer=fig0.canvas.renderer)\n",
    "plt.pause(0.05)\n",
    "\n",
    "border=ax1.plot([0,0,1600,1600,0],[0,1200,1200,0,0],\"r--\")\n",
    "# fig0.show()\n",
    "# fig1.show()\n",
    "# fig0.canvas.flush_events()\n",
    "# fig1.canvas.flush_events()\n",
    "# plt.show()\n",
    "# plt.pause(5)\n",
    "fig1.draw(renderer=fig0.canvas.renderer)\n",
    "plt.pause(0.05)\n",
    "fg1=fig1.ginput(3)\n",
    "ax1.lines[0].remove()\n",
    "fig1.draw(renderer=fig0.canvas.renderer)\n",
    "plt.pause(0.05)\n",
    "print(fg0,fg1)\n",
    "# fig1.show()\n",
    "plt.show()"
   ]
  },
  {
   "cell_type": "code",
   "execution_count": 12,
   "metadata": {},
   "outputs": [],
   "source": [
    "ax0.imshow(img1)\n",
    "ax0.set_axis_off()\n",
    "img2=PILImage.open(abspath(r\"..\\..\\example\\data\\set_a\\a_myimages03.jpg\"))\n",
    "ax1.imshow(img2)\n",
    "ax1.set_axis_off()\n",
    "plt.show()"
   ]
  },
  {
   "cell_type": "markdown",
   "metadata": {},
   "source": [
    "# Single figure/axes"
   ]
  },
  {
   "cell_type": "code",
   "execution_count": 22,
   "metadata": {},
   "outputs": [],
   "source": [
    "import numpy as np"
   ]
  },
  {
   "cell_type": "code",
   "execution_count": 10,
   "metadata": {},
   "outputs": [
    {
     "name": "stdout",
     "output_type": "stream",
     "text": [
      "(1600, 1200)\n",
      "(1600, 1200)\n"
     ]
    }
   ],
   "source": [
    "%matplotlib qt5\n",
    "img0=PILImage.open(abspath(r\"..\\..\\example\\data\\set_a\\a_myimages01.jpg\"))\n",
    "img1=PILImage.open(abspath(r\"..\\..\\example\\data\\set_a\\a_myimages02.jpg\"))\n",
    "print(img0.size)\n",
    "print(img1.size)"
   ]
  },
  {
   "cell_type": "code",
   "execution_count": 43,
   "metadata": {},
   "outputs": [],
   "source": [
    "plt.imshow(np.vstack([img0,img1]))\n",
    "while (gput := plt.gcf().ginput(7)) != []:\n",
    "    print(gput)\n",
    "    for x,y in gput:\n",
    "        format = \"1r\" if y<1200 else \"1b\"\n",
    "        plt.plot([x],[y],format)\n",
    "    plt.draw()\n",
    "# Middle click to exit. right click to undo"
   ]
  },
  {
   "cell_type": "markdown",
   "metadata": {},
   "source": [
    "# Integration with model"
   ]
  },
  {
   "cell_type": "code",
   "execution_count": 45,
   "metadata": {},
   "outputs": [],
   "source": [
    "sys.path.insert(0, os.path.abspath(\"../..\"))  # Repository directory relative to this file.\n",
    "from MISalign.model.project import Project\n",
    "from MISalign.model.relation import Relation\n",
    "from MISalign.model.relation_service import relation_tree\n",
    "from MISalign.model.image import Image"
   ]
  },
  {
   "cell_type": "code",
   "execution_count": 49,
   "metadata": {},
   "outputs": [],
   "source": [
    "imgs=[Image(abspath(r\"..\\..\\example\\data\\set_a\\a_myimages01.jpg\")),Image(abspath(r\"..\\..\\example\\data\\set_a\\a_myimages02.jpg\"))]\n",
    "# display(imgs[0].image)\n",
    "# display(imgs[1]._img)"
   ]
  },
  {
   "cell_type": "code",
   "execution_count": 53,
   "metadata": {},
   "outputs": [
    {
     "data": {
      "text/plain": [
       "(1200, 1600, 3)"
      ]
     },
     "execution_count": 53,
     "metadata": {},
     "output_type": "execute_result"
    }
   ],
   "source": [
    "imgs[0]._img.shape"
   ]
  },
  {
   "cell_type": "code",
   "execution_count": 89,
   "metadata": {},
   "outputs": [
    {
     "name": "stdout",
     "output_type": "stream",
     "text": [
      "[676.12337662 851.44805195]\n",
      "[(676.1233766233763, 302.0974025974026), (851.4480519480517, 678.7207792207794)]\n"
     ]
    }
   ],
   "source": [
    "print(rd[1,:,0]) \n",
    "print(rel_data[1])"
   ]
  },
  {
   "cell_type": "code",
   "execution_count": 93,
   "metadata": {},
   "outputs": [
    {
     "name": "stdout",
     "output_type": "stream",
     "text": [
      "[(708.5909090909088, 586.5129870129872), (1026.772727272727, 729.3701298701299), (741.0584415584412, 1456.6428571428573), (1052.746753246753, 1677.422077922078)]\n",
      "[[(708.5909090909088, 586.5129870129872), (1026.772727272727, 729.3701298701299)], [(741.0584415584412, 256.64285714285734), (1052.746753246753, 477.42207792207796)]]\n",
      "(314, 181)\n"
     ]
    }
   ],
   "source": [
    "plt.imshow(np.vstack([imgs[0]._img,imgs[1]._img]))\n",
    "height=imgs[0]._img.shape[0]\n",
    "rel_data=[[],[]]\n",
    "while (align_pts := plt.gcf().ginput(7)) != []:\n",
    "    print(align_pts)\n",
    "    for x,y in align_pts:\n",
    "        if y<height:\n",
    "            rel_data[0].append((x,y))\n",
    "        else:\n",
    "            rel_data[1].append((x,y-height))\n",
    "    try:\n",
    "        rd=np.array(rel_data) #[a/b,pt,x/y]\n",
    "        plt.plot(rd[0,:,0],rd[0,:,1],\"or\")\n",
    "        plt.plot(rd[1,:,0],rd[1,:,1]+height,\"og\")\n",
    "        plt.draw()\n",
    "    except ValueError:\n",
    "        print(\"Select a matching number of points in each image.\")\n",
    "\n",
    "rel=Relation(imgs[0].name,imgs[1].name,'p',rel_data)\n",
    "print(rel.get_rel('p'))\n",
    "print(rel.get_rel('r'))"
   ]
  },
  {
   "cell_type": "code",
   "execution_count": 102,
   "metadata": {},
   "outputs": [
    {
     "data": {
      "text/plain": [
       "(1600, 1200)"
      ]
     },
     "execution_count": 102,
     "metadata": {},
     "output_type": "execute_result"
    }
   ],
   "source": [
    "imgs[0].size"
   ]
  },
  {
   "cell_type": "code",
   "execution_count": 117,
   "metadata": {},
   "outputs": [
    {
     "name": "stdout",
     "output_type": "stream",
     "text": [
      "[((1330.1693306693305, 1143.9555444555442), (1342.9565434565434, 62.23726273726243)), ((1256.6428571428569, 1105.5939060939058), (1269.4300699300697, 14.28521478521452))]\n",
      "('a_myimages01.jpg', 'a_myimages02.jpg')\n",
      "(12, -1086)\n"
     ]
    }
   ],
   "source": [
    "class InteractiveManualRelation():\n",
    "    \"\"\"Allows user to manually specify relation between two images using interactive matplotlib interface.\"\"\"\n",
    "    def __init__(self):\n",
    "        self._fig=plt.figure()\n",
    "        self._ax=self._fig.subplots()\n",
    "        self.points=None\n",
    "        plt.show()\n",
    "    def plot_clear(self):\n",
    "        \"\"\"Clears current IMR figure\"\"\"\n",
    "        self.points=None\n",
    "    def plot_points(self):\n",
    "        \"\"\"Plots the points of the current relation\"\"\"\n",
    "        for pop in self.points:\n",
    "            plt.plot([pop[0][0],pop[1][0]],[pop[0][1],pop[1][1]+height],\"x:\")\n",
    "        \n",
    "        # for fmt,h,pts in zip([\"r\",\"b\"],[0,self._height],self.points):\n",
    "        #     for i,(x,y) in enumerate(pts):\n",
    "        #         plt.plot(x,y+h,str(i+1)+fmt) #TODO convert this to use color rather than marker to indicate matching pairs.\n",
    "    def change_images(self,imga:Image,imgb:Image):\n",
    "        \"\"\"Replaces image in IMR figure\"\"\"\n",
    "        self._imga=imga\n",
    "        self._imgb=imgb\n",
    "        self._height=imga.size[1]\n",
    "        self._ax=plt.imshow(np.vstack([imga._img,imgb._img]))\n",
    "        self.points=None\n",
    "    def manual(self):\n",
    "        \"\"\"Gets user input points from figure\"\"\"\n",
    "        input_points=self._fig.ginput(7)\n",
    "        rel_pts=[[],[]]\n",
    "        for x,y in input_points:\n",
    "            if y<self._height:\n",
    "                rel_pts[0].append((x,y))\n",
    "            else:\n",
    "                rel_pts[1].append((x,y-self._height))\n",
    "        if len(rel_pts[0]) == len(rel_pts[1]):\n",
    "            self.points=[(a,b) for a,b in zip(rel_pts[0],rel_pts[1])]#convert from list of x,y sorted by image to pairs of x,y pairs\n",
    "        else:\n",
    "            raise ValueError(\"Mismatched number of selected points.\")\n",
    "    def get_rel(self):\n",
    "        return Relation(self._imga.name,self._imgb.name,'p',self.points)\n",
    "imr=InteractiveManualRelation()\n",
    "imr.change_images(*imgs)\n",
    "imr.manual()\n",
    "print(imr.points)\n",
    "imr.plot_points()\n",
    "r=imr.get_rel()\n",
    "print(r.get_rel())\n",
    "print(r.get_rel('r'))\n"
   ]
  },
  {
   "cell_type": "markdown",
   "metadata": {},
   "source": [
    "# Testing separate module"
   ]
  },
  {
   "cell_type": "code",
   "execution_count": 1,
   "metadata": {},
   "outputs": [],
   "source": [
    "from os.path import abspath\n",
    "from sys import path\n",
    "path.insert(0, abspath(\"../..\"))  # Repository directory relative to this file.\n",
    "from MISalign.alignment.interactive_manual import InteractiveManualRelation\n",
    "from MISalign.model.image import Image\n",
    "imgs=[Image(abspath(r\"..\\..\\example\\data\\set_a\\a_myimages01.jpg\")),Image(abspath(r\"..\\..\\example\\data\\set_a\\a_myimages02.jpg\"))]"
   ]
  },
  {
   "cell_type": "code",
   "execution_count": 2,
   "metadata": {},
   "outputs": [
    {
     "name": "stdout",
     "output_type": "stream",
     "text": [
      "[((1247.5519480519479, 1086.512987012987), (1254.045454545454, 48.85064935064952)), ((1331.9675324675322, 1157.9415584415585), (1305.9935064935062, 100.79870129870142))]\n",
      "('a_myimages01.jpg', 'a_myimages02.jpg')\n",
      "(-9, -1047)\n"
     ]
    }
   ],
   "source": [
    "%matplotlib qt5\n",
    "imr=InteractiveManualRelation()\n",
    "imr.change_images(*imgs)\n",
    "imr.manual()\n",
    "print(imr.points)\n",
    "imr.plot_points()\n",
    "r=imr.get_rel()\n",
    "print(r.get_rel())\n",
    "print(r.get_rel('r'))"
   ]
  },
  {
   "cell_type": "code",
   "execution_count": 4,
   "metadata": {},
   "outputs": [],
   "source": [
    "imr2=InteractiveManualRelation()\n",
    "imr2.change_images(*imgs)\n",
    "imr2.points=r.get_rel('p')\n",
    "imr.plot_points()"
   ]
  },
  {
   "cell_type": "markdown",
   "metadata": {},
   "source": [
    "# swap between img pairs."
   ]
  },
  {
   "cell_type": "code",
   "execution_count": 1,
   "metadata": {},
   "outputs": [],
   "source": [
    "from os.path import abspath\n",
    "from sys import path\n",
    "path.insert(0, abspath(\"../..\"))  # Repository directory relative to this file.\n",
    "from MISalign.alignment.interactive_manual import InteractiveManualRelation\n",
    "from MISalign.model.image import Image"
   ]
  },
  {
   "cell_type": "code",
   "execution_count": 2,
   "metadata": {},
   "outputs": [],
   "source": [
    "imgs=[\n",
    "    Image(abspath(r\"..\\..\\example\\data\\set_a\\a_myimages01.jpg\")),\n",
    "    Image(abspath(r\"..\\..\\example\\data\\set_a\\a_myimages02.jpg\")),\n",
    "    Image(abspath(r\"..\\..\\example\\data\\set_a\\a_myimages03.jpg\")),\n",
    "    Image(abspath(r\"..\\..\\example\\data\\set_a\\a_myimages04.jpg\")),\n",
    "    ]"
   ]
  },
  {
   "cell_type": "code",
   "execution_count": 3,
   "metadata": {},
   "outputs": [
    {
     "name": "stdout",
     "output_type": "stream",
     "text": [
      "('a_myimages01.jpg', 'a_myimages02.jpg')\n",
      "(25, -70)\n"
     ]
    }
   ],
   "source": [
    "%matplotlib qt5\n",
    "imr=InteractiveManualRelation()\n",
    "imr.change_images(*imgs[0:2])\n",
    "imr.manual()\n",
    "imr.plot_points()\n",
    "r=imr.get_rel()\n",
    "print(r.get_rel())\n",
    "print(r.get_rel('r'))"
   ]
  },
  {
   "cell_type": "code",
   "execution_count": 4,
   "metadata": {},
   "outputs": [
    {
     "name": "stdout",
     "output_type": "stream",
     "text": [
      "None\n"
     ]
    }
   ],
   "source": [
    "imr.change_images(*imgs[1:3])\n",
    "print(imr.points)"
   ]
  },
  {
   "cell_type": "code",
   "execution_count": 6,
   "metadata": {},
   "outputs": [
    {
     "name": "stdout",
     "output_type": "stream",
     "text": [
      "('a_myimages02.jpg', 'a_myimages03.jpg')\n",
      "(-172, -27)\n"
     ]
    }
   ],
   "source": [
    "imr.manual()\n",
    "imr.plot_points()\n",
    "r=imr.get_rel()\n",
    "print(r.get_rel())\n",
    "print(r.get_rel('r'))"
   ]
  },
  {
   "cell_type": "markdown",
   "metadata": {},
   "source": [
    "# Widget and subfigs"
   ]
  },
  {
   "cell_type": "code",
   "execution_count": 1,
   "metadata": {},
   "outputs": [],
   "source": [
    "from os.path import abspath\n",
    "from sys import path\n",
    "path.insert(0, abspath(\"../..\"))  # Repository directory relative to this file.\n",
    "from MISalign.alignment.interactive_manual import InteractiveManualRelation\n",
    "from MISalign.model.image import Image\n",
    "\n",
    "from matplotlib import pyplot as plt\n",
    "imgs=[\n",
    "    Image(abspath(r\"..\\..\\example\\data\\set_a\\a_myimages01.jpg\")),\n",
    "    Image(abspath(r\"..\\..\\example\\data\\set_a\\a_myimages02.jpg\")),\n",
    "    Image(abspath(r\"..\\..\\example\\data\\set_a\\a_myimages03.jpg\")),\n",
    "    Image(abspath(r\"..\\..\\example\\data\\set_a\\a_myimages04.jpg\")),\n",
    "    ]\n",
    "%matplotlib qt5"
   ]
  },
  {
   "cell_type": "code",
   "execution_count": 2,
   "metadata": {},
   "outputs": [],
   "source": [
    "fig=plt.figure()\n",
    "subfigs = fig.subfigures(2,1,height_ratios=[0.9,0.1])\n",
    "\n",
    "subfigs[0].suptitle(\"sf0\")\n",
    "subfigs[0].set_facecolor('green')\n",
    "sfa1=subfigs[0].subplots(1,1)\n",
    "sfa1.axis('off')\n",
    "sfa1_im=sfa1.imshow(imgs[0]._img)\n",
    "\n",
    "# subfigs[1].suptitle(\"sf1\")\n",
    "subfigs[1].set_facecolor('mediumblue')\n",
    "sf1_ax=subfigs[1].subplots(1,5)\n",
    "for ax in sf1_ax:\n",
    "    ax.xaxis.set_visible(False)\n",
    "    ax.yaxis.set_visible(False)\n",
    "plt.show()"
   ]
  },
  {
   "cell_type": "code",
   "execution_count": 3,
   "metadata": {},
   "outputs": [],
   "source": [
    "from matplotlib.widgets import Button\n"
   ]
  },
  {
   "cell_type": "code",
   "execution_count": 4,
   "metadata": {},
   "outputs": [
    {
     "data": {
      "text/plain": [
       "0"
      ]
     },
     "execution_count": 4,
     "metadata": {},
     "output_type": "execute_result"
    }
   ],
   "source": [
    "next_button=Button(sf1_ax[0],\"Next Pair\",color=\"gray\",hovercolor=\"blue\")\n",
    "def next(a):\n",
    "    print(\"next\",a)\n",
    "next_button.on_clicked(next)"
   ]
  },
  {
   "cell_type": "code",
   "execution_count": 5,
   "metadata": {},
   "outputs": [
    {
     "data": {
      "text/plain": [
       "0"
      ]
     },
     "execution_count": 5,
     "metadata": {},
     "output_type": "execute_result"
    },
    {
     "name": "stdout",
     "output_type": "stream",
     "text": [
      "next button_release_event: xy=(190, 157) xydata=(283.3854450085552, 956.9149392723906) button=1 dblclick=False inaxes=Axes(0.178272,0.11;0.668456x0.77)\n",
      "next button_release_event: xy=(391, 246) xydata=(1035.117514235225, 624.0584509083428) button=1 dblclick=False inaxes=Axes(0.178272,0.11;0.668456x0.77)\n",
      "next button_release_event: xy=(124, 24) xydata=(0.514516129032258, 0.5303357549577851) button=1 dblclick=False inaxes=Axes(0.125,0.11;0.133621x0.77)\n",
      "next button_release_event: xy=(217, 215) xydata=(384.36437968079446, 739.9972277542471) button=1 dblclick=False inaxes=Axes(0.178272,0.11;0.668456x0.77)\n",
      "next button_release_event: xy=(366, 261) xydata=(941.6185006498181, 567.9590427570988) button=1 dblclick=False inaxes=Axes(0.178272,0.11;0.668456x0.77)\n",
      "next button_release_event: xy=(568, 416) xydata=(1154.8520819707867, 507.6192189105859) button=1 dblclick=False inaxes=Axes(0.125645,0.11;0.773711x0.77)\n"
     ]
    }
   ],
   "source": [
    "ib=Button(sfa1,\"\")\n",
    "def next(a):\n",
    "    print(\"next\",a)\n",
    "ib.on_clicked(next)"
   ]
  },
  {
   "cell_type": "markdown",
   "metadata": {},
   "source": [
    "# sub fig approach"
   ]
  },
  {
   "cell_type": "code",
   "execution_count": 5,
   "metadata": {},
   "outputs": [],
   "source": [
    "from os.path import abspath\n",
    "from sys import path\n",
    "path.insert(0, abspath(\"../..\"))  # Repository directory relative to this file.\n",
    "from MISalign.alignment.interactive_manual import InteractiveManualRelation\n",
    "from MISalign.model.image import Image\n",
    "\n",
    "import numpy as np\n",
    "from matplotlib import pyplot as plt\n",
    "imgs=[\n",
    "    Image(abspath(r\"..\\..\\example\\data\\set_a\\a_myimages01.jpg\")),\n",
    "    Image(abspath(r\"..\\..\\example\\data\\set_a\\a_myimages02.jpg\")),\n",
    "    Image(abspath(r\"..\\..\\example\\data\\set_a\\a_myimages03.jpg\")),\n",
    "    Image(abspath(r\"..\\..\\example\\data\\set_a\\a_myimages04.jpg\")),\n",
    "    ]\n",
    "%matplotlib qt5"
   ]
  },
  {
   "cell_type": "code",
   "execution_count": 10,
   "metadata": {},
   "outputs": [],
   "source": [
    "fig=plt.figure()\n",
    "\n",
    "subfigs = fig.subfigures(2,1,height_ratios=[19,1])\n",
    "\n",
    "\n",
    "subfigs[0].set_facecolor('green')\n",
    "sf0ax0=subfigs[0].subplots(1,1)\n",
    "sf0ax0_im=sf0ax0.imshow(np.vstack([imgs[0]._img,imgs[1]._img]))\n",
    "sf0ax0.axis('off')\n",
    "\n",
    "# subfigs[1].suptitle(\"sf1\")\n",
    "subfigs[1].set_facecolor('mediumblue')\n",
    "sf1_ax=subfigs[1].subplots(1,5)\n",
    "for ax in sf1_ax:\n",
    "    ax.xaxis.set_visible(False)\n",
    "    ax.yaxis.set_visible(False)\n",
    "\n",
    "fig.tight_layout()\n",
    "plt.show()"
   ]
  },
  {
   "cell_type": "markdown",
   "metadata": {},
   "source": [
    "# ipympl"
   ]
  },
  {
   "cell_type": "code",
   "execution_count": 1,
   "metadata": {},
   "outputs": [],
   "source": [
    "from os.path import abspath\n",
    "from sys import path\n",
    "path.insert(0, abspath(\"../..\"))  # Repository directory relative to this file.\n",
    "from MISalign.alignment.interactive_manual import InteractiveManualRelation\n",
    "from MISalign.model.image import Image\n",
    "\n",
    "import numpy as np\n",
    "from matplotlib import pyplot as plt\n",
    "imgs=[\n",
    "    Image(abspath(r\"..\\..\\example\\data\\set_a\\a_myimages01.jpg\")),\n",
    "    Image(abspath(r\"..\\..\\example\\data\\set_a\\a_myimages02.jpg\")),\n",
    "    Image(abspath(r\"..\\..\\example\\data\\set_a\\a_myimages03.jpg\")),\n",
    "    Image(abspath(r\"..\\..\\example\\data\\set_a\\a_myimages04.jpg\")),\n",
    "    ]\n",
    "%matplotlib widget\n",
    "# %matplotlib qt5"
   ]
  },
  {
   "cell_type": "code",
   "execution_count": 2,
   "metadata": {},
   "outputs": [],
   "source": [
    "imr=InteractiveManualRelation()\n",
    "imr.change(*imgs[0:2])\n",
    "imr.relate()\n",
    "# imr._fig.canvas.toolbar_visible = False\n",
    "# imr._fig.canvas.header_visible = False\n",
    "# imr._fig.canvas.footer_visible = False\n",
    "# imr._fig.tight_layout()"
   ]
  },
  {
   "cell_type": "code",
   "execution_count": 3,
   "metadata": {},
   "outputs": [
    {
     "data": {
      "text/plain": [
       "(108, -304)"
      ]
     },
     "execution_count": 3,
     "metadata": {},
     "output_type": "execute_result"
    }
   ],
   "source": [
    "imr.relate_resolve()\n",
    "imr.plot_points()\n",
    "imr.get_relation().get_rel(\"r\")"
   ]
  }
 ],
 "metadata": {
  "kernelspec": {
   "display_name": ".venv",
   "language": "python",
   "name": "python3"
  },
  "language_info": {
   "codemirror_mode": {
    "name": "ipython",
    "version": 3
   },
   "file_extension": ".py",
   "mimetype": "text/x-python",
   "name": "python",
   "nbconvert_exporter": "python",
   "pygments_lexer": "ipython3",
   "version": "3.10.8"
  }
 },
 "nbformat": 4,
 "nbformat_minor": 2
}

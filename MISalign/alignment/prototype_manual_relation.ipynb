{
 "cells": [
  {
   "cell_type": "markdown",
   "metadata": {},
   "source": [
    "# Manual Relation/Alignment Prototype in Jupyter NB\n",
    "Purpose: Explore options for inputing relations"
   ]
  },
  {
   "cell_type": "code",
   "execution_count": 1,
   "metadata": {},
   "outputs": [],
   "source": [
    "# %pip install ipympl\n",
    "# %pip install pyqt5"
   ]
  },
  {
   "cell_type": "code",
   "execution_count": 2,
   "metadata": {},
   "outputs": [],
   "source": [
    "import sys\n",
    "import os\n",
    "\n",
    "\n",
    "from PIL import Image as PILImage\n",
    "\n",
    "from matplotlib import pyplot as plt"
   ]
  },
  {
   "cell_type": "code",
   "execution_count": 3,
   "metadata": {},
   "outputs": [],
   "source": [
    "from os.path import abspath"
   ]
  },
  {
   "cell_type": "code",
   "execution_count": 4,
   "metadata": {},
   "outputs": [
    {
     "data": {
      "text/plain": [
       "[(903.396103896104, 383.91558441558436),\n",
       " (1033.2662337662339, 393.6558441558442),\n",
       " (1192.3571428571431, 335.2142857142858),\n",
       " (1185.8636363636365, 280.01948051948057),\n",
       " (916.383116883117, 773.525974025974)]"
      ]
     },
     "execution_count": 4,
     "metadata": {},
     "output_type": "execute_result"
    }
   ],
   "source": [
    "%matplotlib qt5\n",
    "img=PILImage.open(abspath(r\"..\\..\\example\\data\\set_a\\a_myimages01.jpg\"))\n",
    "# display(img)\n",
    "plt.imshow(img)\n",
    "plt.ginput(5)\n"
   ]
  },
  {
   "cell_type": "code",
   "execution_count": 5,
   "metadata": {},
   "outputs": [],
   "source": [
    "%matplotlib qt5\n",
    "img0=PILImage.open(abspath(r\"..\\..\\example\\data\\set_a\\a_myimages01.jpg\"))\n",
    "img1=PILImage.open(abspath(r\"..\\..\\example\\data\\set_a\\a_myimages02.jpg\"))\n",
    "\n",
    "fig0, ax0 = plt.subplots()\n",
    "ax0.imshow(img0)\n",
    "plt.title(\"Figure 0\")\n",
    "\n",
    "fig1, ax1 = plt.subplots()\n",
    "ax1.imshow(img1)\n",
    "plt.title(\"Figure 1\")\n",
    "plt.show()"
   ]
  },
  {
   "cell_type": "code",
   "execution_count": 6,
   "metadata": {},
   "outputs": [
    {
     "name": "stdout",
     "output_type": "stream",
     "text": [
      "[(925.0252840909093, 365.7889204545454), (1003.4670454545455, 543.1355113636364), (849.9940340909093, 624.9877840909091)] [(471.69128787878793, 410.0606060606059), (848.471590909091, 543.2329545454544), (806.2462121212122, 397.06818181818176)]\n"
     ]
    }
   ],
   "source": [
    "plt.autoscale(tight=True)\n",
    "# select up to 3 points using left mouse\n",
    "# stop collecting points with middle mouse\n",
    "# undo previous with right click\n",
    "border=ax0.plot([0,0,1600,1600,0],[0,1200,1200,0,0],\"r--\")\n",
    "# plt.show()\n",
    "fig0.draw(renderer=fig0.canvas.renderer)\n",
    "plt.pause(0.05)\n",
    "# plt.pause(5)\n",
    "# fig0.show()\n",
    "# fig0.canvas.flush_events()\n",
    "fg0=fig0.ginput(3)\n",
    "ax0.lines[0].remove()\n",
    "fig0.draw(renderer=fig0.canvas.renderer)\n",
    "plt.pause(0.05)\n",
    "\n",
    "border=ax1.plot([0,0,1600,1600,0],[0,1200,1200,0,0],\"r--\")\n",
    "# fig0.show()\n",
    "# fig1.show()\n",
    "# fig0.canvas.flush_events()\n",
    "# fig1.canvas.flush_events()\n",
    "# plt.show()\n",
    "# plt.pause(5)\n",
    "fig1.draw(renderer=fig0.canvas.renderer)\n",
    "plt.pause(0.05)\n",
    "fg1=fig1.ginput(3)\n",
    "ax1.lines[0].remove()\n",
    "fig1.draw(renderer=fig0.canvas.renderer)\n",
    "plt.pause(0.05)\n",
    "print(fg0,fg1)\n",
    "# fig1.show()\n",
    "plt.show()"
   ]
  },
  {
   "cell_type": "code",
   "execution_count": 12,
   "metadata": {},
   "outputs": [],
   "source": [
    "ax0.imshow(img1)\n",
    "ax0.set_axis_off()\n",
    "img2=PILImage.open(abspath(r\"..\\..\\example\\data\\set_a\\a_myimages03.jpg\"))\n",
    "ax1.imshow(img2)\n",
    "ax1.set_axis_off()\n",
    "plt.show()"
   ]
  },
  {
   "cell_type": "markdown",
   "metadata": {},
   "source": [
    "# Single figure/axes"
   ]
  },
  {
   "cell_type": "code",
   "execution_count": 22,
   "metadata": {},
   "outputs": [],
   "source": [
    "import numpy as np"
   ]
  },
  {
   "cell_type": "code",
   "execution_count": 10,
   "metadata": {},
   "outputs": [
    {
     "name": "stdout",
     "output_type": "stream",
     "text": [
      "(1600, 1200)\n",
      "(1600, 1200)\n"
     ]
    }
   ],
   "source": [
    "%matplotlib qt5\n",
    "img0=PILImage.open(abspath(r\"..\\..\\example\\data\\set_a\\a_myimages01.jpg\"))\n",
    "img1=PILImage.open(abspath(r\"..\\..\\example\\data\\set_a\\a_myimages02.jpg\"))\n",
    "print(img0.size)\n",
    "print(img1.size)"
   ]
  },
  {
   "cell_type": "code",
   "execution_count": 43,
   "metadata": {},
   "outputs": [],
   "source": [
    "plt.imshow(np.vstack([img0,img1]))\n",
    "while (gput := plt.gcf().ginput(7)) != []:\n",
    "    print(gput)\n",
    "    for x,y in gput:\n",
    "        format = \"1r\" if y<1200 else \"1b\"\n",
    "        plt.plot([x],[y],format)\n",
    "    plt.draw()\n",
    "# Middle click to exit. right click to undo"
   ]
  },
  {
   "cell_type": "markdown",
   "metadata": {},
   "source": [
    "# Integration with model"
   ]
  },
  {
   "cell_type": "code",
   "execution_count": 45,
   "metadata": {},
   "outputs": [],
   "source": [
    "sys.path.insert(0, os.path.abspath(\"../..\"))  # Repository directory relative to this file.\n",
    "from MISalign.model.project import Project\n",
    "from MISalign.model.relation import Relation\n",
    "from MISalign.model.relation_service import relation_tree\n",
    "from MISalign.model.image import Image"
   ]
  },
  {
   "cell_type": "code",
   "execution_count": 49,
   "metadata": {},
   "outputs": [],
   "source": [
    "imgs=[Image(abspath(r\"..\\..\\example\\data\\set_a\\a_myimages01.jpg\")),Image(abspath(r\"..\\..\\example\\data\\set_a\\a_myimages02.jpg\"))]\n",
    "# display(imgs[0].image)\n",
    "# display(imgs[1]._img)"
   ]
  },
  {
   "cell_type": "code",
   "execution_count": 53,
   "metadata": {},
   "outputs": [
    {
     "data": {
      "text/plain": [
       "(1200, 1600, 3)"
      ]
     },
     "execution_count": 53,
     "metadata": {},
     "output_type": "execute_result"
    }
   ],
   "source": [
    "imgs[0]._img.shape"
   ]
  },
  {
   "cell_type": "code",
   "execution_count": 89,
   "metadata": {},
   "outputs": [
    {
     "name": "stdout",
     "output_type": "stream",
     "text": [
      "[676.12337662 851.44805195]\n",
      "[(676.1233766233763, 302.0974025974026), (851.4480519480517, 678.7207792207794)]\n"
     ]
    }
   ],
   "source": [
    "print(rd[1,:,0]) \n",
    "print(rel_data[1])"
   ]
  },
  {
   "cell_type": "code",
   "execution_count": 93,
   "metadata": {},
   "outputs": [
    {
     "name": "stdout",
     "output_type": "stream",
     "text": [
      "[(708.5909090909088, 586.5129870129872), (1026.772727272727, 729.3701298701299), (741.0584415584412, 1456.6428571428573), (1052.746753246753, 1677.422077922078)]\n",
      "[[(708.5909090909088, 586.5129870129872), (1026.772727272727, 729.3701298701299)], [(741.0584415584412, 256.64285714285734), (1052.746753246753, 477.42207792207796)]]\n",
      "(314, 181)\n"
     ]
    }
   ],
   "source": [
    "plt.imshow(np.vstack([imgs[0]._img,imgs[1]._img]))\n",
    "height=imgs[0]._img.shape[0]\n",
    "rel_data=[[],[]]\n",
    "while (align_pts := plt.gcf().ginput(7)) != []:\n",
    "    print(align_pts)\n",
    "    for x,y in align_pts:\n",
    "        if y<height:\n",
    "            rel_data[0].append((x,y))\n",
    "        else:\n",
    "            rel_data[1].append((x,y-height))\n",
    "    try:\n",
    "        rd=np.array(rel_data) #[a/b,pt,x/y]\n",
    "        plt.plot(rd[0,:,0],rd[0,:,1],\"or\")\n",
    "        plt.plot(rd[1,:,0],rd[1,:,1]+height,\"og\")\n",
    "        plt.draw()\n",
    "    except ValueError:\n",
    "        print(\"Select a matching number of points in each image.\")\n",
    "\n",
    "rel=Relation(imgs[0].name,imgs[1].name,'p',rel_data)\n",
    "print(rel.get_rel('p'))\n",
    "print(rel.get_rel('r'))"
   ]
  },
  {
   "cell_type": "code",
   "execution_count": 102,
   "metadata": {},
   "outputs": [
    {
     "data": {
      "text/plain": [
       "(1600, 1200)"
      ]
     },
     "execution_count": 102,
     "metadata": {},
     "output_type": "execute_result"
    }
   ],
   "source": [
    "imgs[0].size"
   ]
  },
  {
   "cell_type": "code",
   "execution_count": 117,
   "metadata": {},
   "outputs": [
    {
     "name": "stdout",
     "output_type": "stream",
     "text": [
      "[((1330.1693306693305, 1143.9555444555442), (1342.9565434565434, 62.23726273726243)), ((1256.6428571428569, 1105.5939060939058), (1269.4300699300697, 14.28521478521452))]\n",
      "('a_myimages01.jpg', 'a_myimages02.jpg')\n",
      "(12, -1086)\n"
     ]
    }
   ],
   "source": [
    "class InteractiveManualRelation():\n",
    "    \"\"\"Allows user to manually specify relation between two images using interactive matplotlib interface.\"\"\"\n",
    "    def __init__(self):\n",
    "        self._fig=plt.figure()\n",
    "        self._ax=self._fig.subplots()\n",
    "        self.points=None\n",
    "        plt.show()\n",
    "    def plot_clear(self):\n",
    "        \"\"\"Clears current IMR figure\"\"\"\n",
    "        self.points=None\n",
    "    def plot_points(self):\n",
    "        \"\"\"Plots the points of the current relation\"\"\"\n",
    "        for pop in self.points:\n",
    "            plt.plot([pop[0][0],pop[1][0]],[pop[0][1],pop[1][1]+height],\"x:\")\n",
    "        \n",
    "        # for fmt,h,pts in zip([\"r\",\"b\"],[0,self._height],self.points):\n",
    "        #     for i,(x,y) in enumerate(pts):\n",
    "        #         plt.plot(x,y+h,str(i+1)+fmt) #TODO convert this to use color rather than marker to indicate matching pairs.\n",
    "    def change_images(self,imga:Image,imgb:Image):\n",
    "        \"\"\"Replaces image in IMR figure\"\"\"\n",
    "        self._imga=imga\n",
    "        self._imgb=imgb\n",
    "        self._height=imga.size[1]\n",
    "        self._ax=plt.imshow(np.vstack([imga._img,imgb._img]))\n",
    "        self.points=None\n",
    "    def manual(self):\n",
    "        \"\"\"Gets user input points from figure\"\"\"\n",
    "        input_points=self._fig.ginput(7)\n",
    "        rel_pts=[[],[]]\n",
    "        for x,y in input_points:\n",
    "            if y<self._height:\n",
    "                rel_pts[0].append((x,y))\n",
    "            else:\n",
    "                rel_pts[1].append((x,y-self._height))\n",
    "        if len(rel_pts[0]) == len(rel_pts[1]):\n",
    "            self.points=[(a,b) for a,b in zip(rel_pts[0],rel_pts[1])]#convert from list of x,y sorted by image to pairs of x,y pairs\n",
    "        else:\n",
    "            raise ValueError(\"Mismatched number of selected points.\")\n",
    "    def get_rel(self):\n",
    "        return Relation(self._imga.name,self._imgb.name,'p',self.points)\n",
    "imr=InteractiveManualRelation()\n",
    "imr.change_images(*imgs)\n",
    "imr.manual()\n",
    "print(imr.points)\n",
    "imr.plot_points()\n",
    "r=imr.get_rel()\n",
    "print(r.get_rel())\n",
    "print(r.get_rel('r'))\n"
   ]
  },
  {
   "cell_type": "markdown",
   "metadata": {},
   "source": [
    "# Testing separate module"
   ]
  },
  {
   "cell_type": "code",
   "execution_count": 1,
   "metadata": {},
   "outputs": [],
   "source": [
    "from os.path import abspath\n",
    "from sys import path\n",
    "path.insert(0, abspath(\"../..\"))  # Repository directory relative to this file.\n",
    "from MISalign.alignment.interactive_manual import InteractiveManualRelation\n",
    "from MISalign.model.image import Image\n",
    "imgs=[Image(abspath(r\"..\\..\\example\\data\\set_a\\a_myimages01.jpg\")),Image(abspath(r\"..\\..\\example\\data\\set_a\\a_myimages02.jpg\"))]"
   ]
  },
  {
   "cell_type": "code",
   "execution_count": 2,
   "metadata": {},
   "outputs": [
    {
     "name": "stdout",
     "output_type": "stream",
     "text": [
      "[((1247.5519480519479, 1086.512987012987), (1254.045454545454, 48.85064935064952)), ((1331.9675324675322, 1157.9415584415585), (1305.9935064935062, 100.79870129870142))]\n",
      "('a_myimages01.jpg', 'a_myimages02.jpg')\n",
      "(-9, -1047)\n"
     ]
    }
   ],
   "source": [
    "%matplotlib qt5\n",
    "imr=InteractiveManualRelation()\n",
    "imr.change_images(*imgs)\n",
    "imr.manual()\n",
    "print(imr.points)\n",
    "imr.plot_points()\n",
    "r=imr.get_rel()\n",
    "print(r.get_rel())\n",
    "print(r.get_rel('r'))"
   ]
  },
  {
   "cell_type": "code",
   "execution_count": 4,
   "metadata": {},
   "outputs": [],
   "source": [
    "imr2=InteractiveManualRelation()\n",
    "imr2.change_images(*imgs)\n",
    "imr2.points=r.get_rel('p')\n",
    "imr.plot_points()"
   ]
  },
  {
   "cell_type": "markdown",
   "metadata": {},
   "source": [
    "# swap between img pairs."
   ]
  },
  {
   "cell_type": "code",
   "execution_count": 1,
   "metadata": {},
   "outputs": [],
   "source": [
    "from os.path import abspath\n",
    "from sys import path\n",
    "path.insert(0, abspath(\"../..\"))  # Repository directory relative to this file.\n",
    "from MISalign.alignment.interactive_manual import InteractiveManualRelation\n",
    "from MISalign.model.image import Image"
   ]
  },
  {
   "cell_type": "code",
   "execution_count": 2,
   "metadata": {},
   "outputs": [],
   "source": [
    "imgs=[\n",
    "    Image(abspath(r\"..\\..\\example\\data\\set_a\\a_myimages01.jpg\")),\n",
    "    Image(abspath(r\"..\\..\\example\\data\\set_a\\a_myimages02.jpg\")),\n",
    "    Image(abspath(r\"..\\..\\example\\data\\set_a\\a_myimages03.jpg\")),\n",
    "    Image(abspath(r\"..\\..\\example\\data\\set_a\\a_myimages04.jpg\")),\n",
    "    ]"
   ]
  },
  {
   "cell_type": "code",
   "execution_count": 3,
   "metadata": {},
   "outputs": [
    {
     "name": "stdout",
     "output_type": "stream",
     "text": [
      "('a_myimages01.jpg', 'a_myimages02.jpg')\n",
      "(25, -70)\n"
     ]
    }
   ],
   "source": [
    "%matplotlib qt5\n",
    "imr=InteractiveManualRelation()\n",
    "imr.change_images(*imgs[0:2])\n",
    "imr.manual()\n",
    "imr.plot_points()\n",
    "r=imr.get_rel()\n",
    "print(r.get_rel())\n",
    "print(r.get_rel('r'))"
   ]
  },
  {
   "cell_type": "code",
   "execution_count": 4,
   "metadata": {},
   "outputs": [
    {
     "name": "stdout",
     "output_type": "stream",
     "text": [
      "None\n"
     ]
    }
   ],
   "source": [
    "imr.change_images(*imgs[1:3])\n",
    "print(imr.points)"
   ]
  },
  {
   "cell_type": "code",
   "execution_count": 6,
   "metadata": {},
   "outputs": [
    {
     "name": "stdout",
     "output_type": "stream",
     "text": [
      "('a_myimages02.jpg', 'a_myimages03.jpg')\n",
      "(-172, -27)\n"
     ]
    }
   ],
   "source": [
    "imr.manual()\n",
    "imr.plot_points()\n",
    "r=imr.get_rel()\n",
    "print(r.get_rel())\n",
    "print(r.get_rel('r'))"
   ]
  },
  {
   "cell_type": "markdown",
   "metadata": {},
   "source": [
    "# Widget and subfigs"
   ]
  },
  {
   "cell_type": "code",
   "execution_count": 1,
   "metadata": {},
   "outputs": [],
   "source": [
    "from os.path import abspath\n",
    "from sys import path\n",
    "path.insert(0, abspath(\"../..\"))  # Repository directory relative to this file.\n",
    "from MISalign.alignment.interactive_manual import InteractiveManualRelation\n",
    "from MISalign.model.image import Image\n",
    "\n",
    "from matplotlib import pyplot as plt\n",
    "imgs=[\n",
    "    Image(abspath(r\"..\\..\\example\\data\\set_a\\a_myimages01.jpg\")),\n",
    "    Image(abspath(r\"..\\..\\example\\data\\set_a\\a_myimages02.jpg\")),\n",
    "    Image(abspath(r\"..\\..\\example\\data\\set_a\\a_myimages03.jpg\")),\n",
    "    Image(abspath(r\"..\\..\\example\\data\\set_a\\a_myimages04.jpg\")),\n",
    "    ]\n",
    "%matplotlib qt5"
   ]
  },
  {
   "cell_type": "code",
   "execution_count": 2,
   "metadata": {},
   "outputs": [],
   "source": [
    "fig=plt.figure()\n",
    "subfigs = fig.subfigures(2,1,height_ratios=[0.9,0.1])\n",
    "\n",
    "subfigs[0].suptitle(\"sf0\")\n",
    "subfigs[0].set_facecolor('green')\n",
    "sfa1=subfigs[0].subplots(1,1)\n",
    "sfa1.axis('off')\n",
    "sfa1_im=sfa1.imshow(imgs[0]._img)\n",
    "\n",
    "# subfigs[1].suptitle(\"sf1\")\n",
    "subfigs[1].set_facecolor('mediumblue')\n",
    "sf1_ax=subfigs[1].subplots(1,5)\n",
    "for ax in sf1_ax:\n",
    "    ax.xaxis.set_visible(False)\n",
    "    ax.yaxis.set_visible(False)\n",
    "plt.show()"
   ]
  },
  {
   "cell_type": "code",
   "execution_count": 3,
   "metadata": {},
   "outputs": [],
   "source": [
    "from matplotlib.widgets import Button\n"
   ]
  },
  {
   "cell_type": "code",
   "execution_count": 4,
   "metadata": {},
   "outputs": [
    {
     "data": {
      "text/plain": [
       "0"
      ]
     },
     "execution_count": 4,
     "metadata": {},
     "output_type": "execute_result"
    }
   ],
   "source": [
    "next_button=Button(sf1_ax[0],\"Next Pair\",color=\"gray\",hovercolor=\"blue\")\n",
    "def next(a):\n",
    "    print(\"next\",a)\n",
    "next_button.on_clicked(next)"
   ]
  },
  {
   "cell_type": "code",
   "execution_count": 5,
   "metadata": {},
   "outputs": [
    {
     "data": {
      "text/plain": [
       "0"
      ]
     },
     "execution_count": 5,
     "metadata": {},
     "output_type": "execute_result"
    },
    {
     "name": "stdout",
     "output_type": "stream",
     "text": [
      "next button_release_event: xy=(190, 157) xydata=(283.3854450085552, 956.9149392723906) button=1 dblclick=False inaxes=Axes(0.178272,0.11;0.668456x0.77)\n",
      "next button_release_event: xy=(391, 246) xydata=(1035.117514235225, 624.0584509083428) button=1 dblclick=False inaxes=Axes(0.178272,0.11;0.668456x0.77)\n",
      "next button_release_event: xy=(124, 24) xydata=(0.514516129032258, 0.5303357549577851) button=1 dblclick=False inaxes=Axes(0.125,0.11;0.133621x0.77)\n",
      "next button_release_event: xy=(217, 215) xydata=(384.36437968079446, 739.9972277542471) button=1 dblclick=False inaxes=Axes(0.178272,0.11;0.668456x0.77)\n",
      "next button_release_event: xy=(366, 261) xydata=(941.6185006498181, 567.9590427570988) button=1 dblclick=False inaxes=Axes(0.178272,0.11;0.668456x0.77)\n",
      "next button_release_event: xy=(568, 416) xydata=(1154.8520819707867, 507.6192189105859) button=1 dblclick=False inaxes=Axes(0.125645,0.11;0.773711x0.77)\n"
     ]
    }
   ],
   "source": [
    "ib=Button(sfa1,\"\")\n",
    "def next(a):\n",
    "    print(\"next\",a)\n",
    "ib.on_clicked(next)"
   ]
  },
  {
   "cell_type": "markdown",
   "metadata": {},
   "source": [
    "# sub fig approach"
   ]
  },
  {
   "cell_type": "code",
   "execution_count": 5,
   "metadata": {},
   "outputs": [],
   "source": [
    "from os.path import abspath\n",
    "from sys import path\n",
    "path.insert(0, abspath(\"../..\"))  # Repository directory relative to this file.\n",
    "from MISalign.alignment.interactive_manual import InteractiveManualRelation\n",
    "from MISalign.model.image import Image\n",
    "\n",
    "import numpy as np\n",
    "from matplotlib import pyplot as plt\n",
    "imgs=[\n",
    "    Image(abspath(r\"..\\..\\example\\data\\set_a\\a_myimages01.jpg\")),\n",
    "    Image(abspath(r\"..\\..\\example\\data\\set_a\\a_myimages02.jpg\")),\n",
    "    Image(abspath(r\"..\\..\\example\\data\\set_a\\a_myimages03.jpg\")),\n",
    "    Image(abspath(r\"..\\..\\example\\data\\set_a\\a_myimages04.jpg\")),\n",
    "    ]\n",
    "%matplotlib qt5"
   ]
  },
  {
   "cell_type": "code",
   "execution_count": 10,
   "metadata": {},
   "outputs": [],
   "source": [
    "fig=plt.figure()\n",
    "\n",
    "subfigs = fig.subfigures(2,1,height_ratios=[19,1])\n",
    "\n",
    "\n",
    "subfigs[0].set_facecolor('green')\n",
    "sf0ax0=subfigs[0].subplots(1,1)\n",
    "sf0ax0_im=sf0ax0.imshow(np.vstack([imgs[0]._img,imgs[1]._img]))\n",
    "sf0ax0.axis('off')\n",
    "\n",
    "# subfigs[1].suptitle(\"sf1\")\n",
    "subfigs[1].set_facecolor('mediumblue')\n",
    "sf1_ax=subfigs[1].subplots(1,5)\n",
    "for ax in sf1_ax:\n",
    "    ax.xaxis.set_visible(False)\n",
    "    ax.yaxis.set_visible(False)\n",
    "\n",
    "fig.tight_layout()\n",
    "plt.show()"
   ]
  },
  {
   "cell_type": "markdown",
   "metadata": {},
   "source": [
    "# ipympl"
   ]
  },
  {
   "cell_type": "code",
   "execution_count": 1,
   "metadata": {},
   "outputs": [],
   "source": [
    "from os.path import abspath\n",
    "from sys import path\n",
    "path.insert(0, abspath(\"../..\"))  # Repository directory relative to this file.\n",
    "from MISalign.alignment.interactive_manual import InteractiveManualRelation\n",
    "from MISalign.model.image import Image\n",
    "\n",
    "import numpy as np\n",
    "from matplotlib import pyplot as plt\n",
    "imgs=[\n",
    "    Image(abspath(r\"..\\..\\example\\data\\set_a\\a_myimages01.jpg\")),\n",
    "    Image(abspath(r\"..\\..\\example\\data\\set_a\\a_myimages02.jpg\")),\n",
    "    Image(abspath(r\"..\\..\\example\\data\\set_a\\a_myimages03.jpg\")),\n",
    "    Image(abspath(r\"..\\..\\example\\data\\set_a\\a_myimages04.jpg\")),\n",
    "    ]\n",
    "%matplotlib widget"
   ]
  },
  {
   "cell_type": "code",
   "execution_count": 2,
   "metadata": {},
   "outputs": [
    {
     "data": {
      "application/vnd.jupyter.widget-view+json": {
       "model_id": "02ed8e6ff9194315b2800e49fab23a44",
       "version_major": 2,
       "version_minor": 0
      },
      "image/png": "[encoded data removed]",
      "text/html": [
       "\n",
       "            <div style=\"display: inline-block;\">\n",
       "                <div class=\"jupyter-widgets widget-label\" style=\"text-align: center;\">\n",
       "                    Figure\n",
       "                </div>\n",
       "                <img src='data:image/png;base64,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' width=640.0/>\n",
       "            </div>\n",
       "        "
      ],
      "text/plain": [
       "Canvas(toolbar=Toolbar(toolitems=[('Home', 'Reset original view', 'home', 'home'), ('Back', 'Back to previous …"
      ]
     },
     "metadata": {},
     "output_type": "display_data"
    },
    {
     "name": "stdout",
     "output_type": "stream",
     "text": [
      "Interaction Button: button_release_event: xy=(294, 135) xydata=(578.7207792207789, 1865.7337662337663) button=1 dblclick=False inaxes=Axes(0.32,0.11;0.385x0.77)\n",
      "Interaction Button: button_release_event: xy=(329, 310) xydata=(805.9935064935062, 729.3701298701299) button=1 dblclick=False inaxes=Axes(0.32,0.11;0.385x0.77)\n",
      "Interaction Button: button_release_event: xy=(363, 280) xydata=(1026.772727272727, 924.1753246753246) button=1 dblclick=False inaxes=Axes(0.32,0.11;0.385x0.77)\n",
      "Interaction Button: button_release_event: xy=(358, 181) xydata=(994.3051948051943, 1567.0324675324675) button=1 dblclick=False inaxes=Axes(0.32,0.11;0.385x0.77)\n",
      "Interaction Button: button_release_event: xy=(308, 163) xydata=(669.6298701298699, 1683.9155844155846) button=1 dblclick=False inaxes=Axes(0.32,0.11;0.385x0.77)\n",
      "Interaction Button: button_release_event: xy=(349, 156) xydata=(935.863636363636, 1729.3701298701299) button=1 dblclick=False inaxes=Axes(0.32,0.11;0.385x0.77)\n",
      "Interaction Button: button_release_event: xy=(323, 284) xydata=(767.0324675324673, 898.2012987012988) button=1 dblclick=False inaxes=Axes(0.32,0.11;0.385x0.77)\n",
      "Interaction Button: button_release_event: xy=(402, 76) xydata=(1280.01948051948, 2248.8506493506493) button=1 dblclick=False inaxes=Axes(0.32,0.11;0.385x0.77)\n",
      "Interaction Button: button_release_event: xy=(369, 200) xydata=(1065.733766233766, 1443.6558441558443) button=1 dblclick=False inaxes=Axes(0.32,0.11;0.385x0.77)\n",
      "Interaction Button: button_release_event: xy=(357, 255) xydata=(987.8116883116882, 1086.512987012987) button=1 dblclick=False inaxes=Axes(0.32,0.11;0.385x0.77)\n",
      "Interaction Button: button_release_event: xy=(337, 168) xydata=(857.9415584415583, 1651.4480519480521) button=1 dblclick=False inaxes=Axes(0.32,0.11;0.385x0.77)\n",
      "Interaction Button: button_release_event: xy=(320, 149) xydata=(747.5519480519479, 1774.8246753246754) button=2 dblclick=False inaxes=Axes(0.32,0.11;0.385x0.77)\n",
      "Interaction Button: button_release_event: xy=(343, 152) xydata=(896.9025974025972, 1755.344155844156) button=3 dblclick=False inaxes=Axes(0.32,0.11;0.385x0.77)\n",
      "Interaction Button: button_release_event: xy=(370, 130) xydata=(1072.2272727272725, 1898.2012987012988) button=1 dblclick=False inaxes=Axes(0.32,0.11;0.385x0.77)\n",
      "Interaction Button: button_release_event: xy=(370, 130) xydata=(1072.2272727272725, 1898.2012987012988) button=1 dblclick=False inaxes=Axes(0.32,0.11;0.385x0.77)\n",
      "Interaction Button: button_release_event: xy=(294, 218) xydata=(578.7207792207789, 1326.7727272727273) button=1 dblclick=False inaxes=Axes(0.32,0.11;0.385x0.77)\n",
      "Interaction Button: button_release_event: xy=(293, 218) xydata=(572.2272727272725, 1326.7727272727273) button=1 dblclick=False inaxes=Axes(0.32,0.11;0.385x0.77)\n",
      "Interaction Button: button_release_event: xy=(350, 222) xydata=(942.3571428571427, 1300.7987012987014) button=3 dblclick=False inaxes=Axes(0.32,0.11;0.385x0.77)\n",
      "Interaction Button: button_release_event: xy=(352, 192) xydata=(955.3441558441555, 1495.6038961038962) button=3 dblclick=False inaxes=Axes(0.32,0.11;0.385x0.77)\n"
     ]
    }
   ],
   "source": [
    "imr=InteractiveManualRelation()\n",
    "imr.change_images(*imgs[0:2])\n",
    "# imr.manual()\n",
    "# imr.plot_points()\n",
    "# r=imr.get_rel()\n",
    "# print(r.get_rel())\n",
    "# print(r.get_rel('r'))"
   ]
  },
  {
   "cell_type": "code",
   "execution_count": 5,
   "metadata": {},
   "outputs": [
    {
     "data": {
      "text/plain": [
       "0"
      ]
     },
     "execution_count": 5,
     "metadata": {},
     "output_type": "execute_result"
    }
   ],
   "source": [
    "from matplotlib.widgets import Button\n",
    "ib=Button(imr._ax,\"\")\n",
    "def next(a):\n",
    "    print(\"Interaction Button:\",a)\n",
    "ib.on_clicked(next)\n",
    "# can capture position(xy data), button(1-left,2-middle,3-right)"
   ]
  }
 ],
 "metadata": {
  "kernelspec": {
   "display_name": ".venv",
   "language": "python",
   "name": "python3"
  },
  "language_info": {
   "codemirror_mode": {
    "name": "ipython",
    "version": 3
   },
   "file_extension": ".py",
   "mimetype": "text/x-python",
   "name": "python",
   "nbconvert_exporter": "python",
   "pygments_lexer": "ipython3",
   "version": "3.10.8"
  }
 },
 "nbformat": 4,
 "nbformat_minor": 2
}

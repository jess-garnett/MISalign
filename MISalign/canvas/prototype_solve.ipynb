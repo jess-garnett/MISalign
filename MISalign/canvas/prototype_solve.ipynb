{
 "cells": [
  {
   "cell_type": "markdown",
   "metadata": {},
   "source": [
    "Convert a list of image-image Relations to absolute relative image positions"
   ]
  },
  {
   "cell_type": "code",
   "execution_count": 27,
   "metadata": {},
   "outputs": [],
   "source": [
    "from os.path import abspath\n",
    "from sys import path\n",
    "path.insert(0, abspath(\"../..\"))  # Repository directory relative to this file.\n",
    "from MISalign.model.relation import Relation\n",
    "from MISalign.model.image import Image\n",
    "from MISalign.model.mis_file import MisFile,save_mis,load_mis\n",
    "\n",
    "import numpy as np\n",
    "from matplotlib import pyplot as plt"
   ]
  },
  {
   "cell_type": "code",
   "execution_count": 28,
   "metadata": {},
   "outputs": [
    {
     "name": "stdout",
     "output_type": "stream",
     "text": [
      "[('a_myimages01.jpg', 'a_myimages02.jpg'), ('a_myimages02.jpg', 'a_myimages03.jpg'), ('a_myimages03.jpg', 'a_myimages04.jpg'), ('a_myimages04.jpg', 'a_myimages05.jpg'), ('a_myimages05.jpg', 'a_myimages06.jpg'), ('a_myimages06.jpg', 'a_myimages07.jpg'), ('a_myimages07.jpg', 'a_myimages08.jpg'), ('a_myimages08.jpg', 'a_myimages09.jpg'), ('a_myimages09.jpg', 'a_myimages10.jpg')]\n"
     ]
    }
   ],
   "source": [
    "mf=load_mis(r\"..\\..\\example\\data\\set_a\\mymis.mis\")\n",
    "print(mf.get_rels())"
   ]
  },
  {
   "cell_type": "markdown",
   "metadata": {},
   "source": [
    "## Rectangular solve"
   ]
  },
  {
   "cell_type": "code",
   "execution_count": 29,
   "metadata": {},
   "outputs": [
    {
     "data": {
      "text/plain": [
       "[[('a_myimages01.jpg', 'a_myimages02.jpg'), (12, -1088)],\n",
       " [('a_myimages02.jpg', 'a_myimages03.jpg'), (8, -1141)],\n",
       " [('a_myimages03.jpg', 'a_myimages04.jpg'), (-129, -1058)],\n",
       " [('a_myimages04.jpg', 'a_myimages05.jpg'), (11, -943)],\n",
       " [('a_myimages05.jpg', 'a_myimages06.jpg'), (5, -860)],\n",
       " [('a_myimages06.jpg', 'a_myimages07.jpg'), (10, -990)],\n",
       " [('a_myimages07.jpg', 'a_myimages08.jpg'), (9, -1009)],\n",
       " [('a_myimages08.jpg', 'a_myimages09.jpg'), (9, -939)],\n",
       " [('a_myimages09.jpg', 'a_myimages10.jpg'), (3, -722)]]"
      ]
     },
     "metadata": {},
     "output_type": "display_data"
    }
   ],
   "source": [
    "relations=mf.get_rels('r')\n",
    "display(relations)\n",
    "#TODO set/update relations\n",
    "origin=\"a_myimages01.jpg\"\n"
   ]
  },
  {
   "cell_type": "code",
   "execution_count": 30,
   "metadata": {},
   "outputs": [
    {
     "data": {
      "text/plain": [
       "[True, False, False, False, False, False, False, False, False]"
      ]
     },
     "execution_count": 30,
     "metadata": {},
     "output_type": "execute_result"
    }
   ],
   "source": [
    "[origin in r[0] for r in relations]"
   ]
  },
  {
   "cell_type": "code",
   "execution_count": 31,
   "metadata": {},
   "outputs": [
    {
     "name": "stdout",
     "output_type": "stream",
     "text": [
      "['a_myimages08.jpg', 'a_myimages03.jpg', 'a_myimages06.jpg', 'a_myimages07.jpg', 'a_myimages04.jpg', 'a_myimages01.jpg', 'a_myimages05.jpg', 'a_myimages09.jpg', 'a_myimages10.jpg', 'a_myimages02.jpg']\n"
     ]
    }
   ],
   "source": [
    "image_names=list(set([name for r in relations for name in r[0]])) #TODO method for getting all the image names\n",
    "print(image_names)"
   ]
  },
  {
   "cell_type": "code",
   "execution_count": 32,
   "metadata": {},
   "outputs": [
    {
     "name": "stdout",
     "output_type": "stream",
     "text": [
      "a_myimages08.jpg\n",
      "    ('a_myimages09.jpg', [('a_myimages08.jpg', 'a_myimages09.jpg'), (9, -939)])\n",
      "a_myimages03.jpg\n",
      "    ('a_myimages04.jpg', [('a_myimages03.jpg', 'a_myimages04.jpg'), (-129, -1058)])\n",
      "a_myimages06.jpg\n",
      "    ('a_myimages07.jpg', [('a_myimages06.jpg', 'a_myimages07.jpg'), (10, -990)])\n",
      "a_myimages07.jpg\n",
      "    ('a_myimages08.jpg', [('a_myimages07.jpg', 'a_myimages08.jpg'), (9, -1009)])\n",
      "a_myimages04.jpg\n",
      "    ('a_myimages05.jpg', [('a_myimages04.jpg', 'a_myimages05.jpg'), (11, -943)])\n",
      "a_myimages01.jpg\n",
      "    ('a_myimages02.jpg', [('a_myimages01.jpg', 'a_myimages02.jpg'), (12, -1088)])\n",
      "a_myimages05.jpg\n",
      "    ('a_myimages06.jpg', [('a_myimages05.jpg', 'a_myimages06.jpg'), (5, -860)])\n",
      "a_myimages09.jpg\n",
      "    ('a_myimages10.jpg', [('a_myimages09.jpg', 'a_myimages10.jpg'), (3, -722)])\n",
      "a_myimages10.jpg\n",
      "a_myimages02.jpg\n",
      "    ('a_myimages03.jpg', [('a_myimages02.jpg', 'a_myimages03.jpg'), (8, -1141)])\n"
     ]
    }
   ],
   "source": [
    "# Develop relation map\n",
    "found=[image_names.index(origin)]\n",
    "matched=[]\n",
    "resolved=[]\n",
    "relation_map=dict({x:[] for x in image_names})\n",
    "\n",
    "while len(resolved)<len(relations):\n",
    "    for i in found:\n",
    "        for ii,x in enumerate(image_names):\n",
    "            if (ii not in found) & (ii not in resolved) & (ii not in matched):\n",
    "                i_match=[image_names[i] in r[0] for r in relations]\n",
    "                ii_match=[image_names[ii] in r[0] for r in relations]\n",
    "                full_match=[im&iim for im,iim in zip(i_match,ii_match)]\n",
    "                if any(full_match):\n",
    "                    relation_map[image_names[i]].append((image_names[ii],relations[full_match.index(True)]))\n",
    "                    matched.append(ii)\n",
    "        resolved.append(i)\n",
    "    found=matched\n",
    "    matched=[]\n",
    "    #break if stuck\n",
    "    if found==[]:\n",
    "        break\n",
    "\n",
    "for k,v in relation_map.items():\n",
    "    print(k)\n",
    "    for x in v:\n",
    "        print(\"   \",x)"
   ]
  },
  {
   "cell_type": "code",
   "execution_count": 33,
   "metadata": {},
   "outputs": [
    {
     "data": {
      "text/plain": [
       "{'a_myimages01.jpg': (0, 0),\n",
       " 'a_myimages02.jpg': (12, -1088),\n",
       " 'a_myimages03.jpg': (20, -2229),\n",
       " 'a_myimages04.jpg': (-109, -3287),\n",
       " 'a_myimages05.jpg': (-98, -4230),\n",
       " 'a_myimages06.jpg': (-93, -5090),\n",
       " 'a_myimages07.jpg': (-83, -6080),\n",
       " 'a_myimages08.jpg': (-74, -7089),\n",
       " 'a_myimages09.jpg': (-65, -8028),\n",
       " 'a_myimages10.jpg': (-62, -8750)}"
      ]
     },
     "metadata": {},
     "output_type": "display_data"
    }
   ],
   "source": [
    "absolute_position={origin:(0,0)}\n",
    "solving=[origin]\n",
    "cansolve=[]\n",
    "solved=[]\n",
    "while len(solving)>0:\n",
    "    for s in solving:\n",
    "        for image_name,rel in relation_map[s]:\n",
    "            cansolve.append(image_name)\n",
    "            if rel[0][0]==s:\n",
    "                direction=1\n",
    "            else:\n",
    "                direction=-1\n",
    "            absolute_position[image_name]=(absolute_position[s][0]+direction*rel[1][0],absolute_position[s][1]+direction*rel[1][1])\n",
    "    solved+=solving\n",
    "    solving=cansolve\n",
    "    cansolve=[]\n",
    "display(absolute_position)"
   ]
  },
  {
   "cell_type": "code",
   "execution_count": null,
   "metadata": {},
   "outputs": [],
   "source": [
    "#TODO maxima/minima adjustment for non-purely positive sets\n",
    "    #TODO Images sizes."
   ]
  }
 ],
 "metadata": {
  "kernelspec": {
   "display_name": ".venv",
   "language": "python",
   "name": "python3"
  },
  "language_info": {
   "codemirror_mode": {
    "name": "ipython",
    "version": 3
   },
   "file_extension": ".py",
   "mimetype": "text/x-python",
   "name": "python",
   "nbconvert_exporter": "python",
   "pygments_lexer": "ipython3",
   "version": "3.10.8"
  }
 },
 "nbformat": 4,
 "nbformat_minor": 2
}

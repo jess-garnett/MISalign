{
 "cells": [
  {
   "cell_type": "markdown",
   "metadata": {},
   "source": [
    "Convert a list of image-image Relations to absolute relative image positions"
   ]
  },
  {
   "cell_type": "code",
   "execution_count": 1,
   "metadata": {},
   "outputs": [],
   "source": [
    "from os.path import abspath\n",
    "from sys import path\n",
    "path.insert(0, abspath(\"../..\"))  # Repository directory relative to this file.\n",
    "from MISalign.model.relation import Relation\n",
    "from MISalign.model.image import Image\n",
    "from MISalign.model.mis_file import MisFile\n",
    "\n",
    "import numpy as np\n",
    "from matplotlib import pyplot as plt"
   ]
  },
  {
   "cell_type": "code",
   "execution_count": 14,
   "metadata": {},
   "outputs": [],
   "source": [
    "file_paths=[\n",
    "    abspath(r\"..\\..\\example\\data\\set_a\\a_myimages01.jpg\"),\n",
    "    abspath(r\"..\\..\\example\\data\\set_a\\a_myimages02.jpg\"),\n",
    "    abspath(r\"..\\..\\example\\data\\set_a\\a_myimages03.jpg\"),\n",
    "    abspath(r\"..\\..\\example\\data\\set_a\\a_myimages04.jpg\"),\n",
    "    abspath(r\"..\\..\\example\\data\\set_a\\a_myimages05.jpg\"),\n",
    "    abspath(r\"..\\..\\example\\data\\set_a\\a_myimages06.jpg\"),\n",
    "    abspath(r\"..\\..\\example\\data\\set_a\\a_myimages07.jpg\"),\n",
    "    abspath(r\"..\\..\\example\\data\\set_a\\a_myimages08.jpg\"),\n",
    "    abspath(r\"..\\..\\example\\data\\set_a\\a_myimages09.jpg\"),\n",
    "    abspath(r\"..\\..\\example\\data\\set_a\\a_myimages10.jpg\"),\n",
    "    ]\n",
    "mf=MisFile(image_fps=file_paths)"
   ]
  },
  {
   "cell_type": "code",
   "execution_count": 15,
   "metadata": {},
   "outputs": [],
   "source": [
    "from os.path import split"
   ]
  },
  {
   "cell_type": "markdown",
   "metadata": {},
   "source": [
    "## Rectangular solve"
   ]
  },
  {
   "cell_type": "code",
   "execution_count": 26,
   "metadata": {},
   "outputs": [
    {
     "data": {
      "text/plain": [
       "[[('a_myimages01.jpg', 'a_myimages02.jpg'), (25, 30)],\n",
       " [('a_myimages02.jpg', 'a_myimages03.jpg'), (50, 60)],\n",
       " [('a_myimages03.jpg', 'a_myimages04.jpg'), (75, 90)],\n",
       " [('a_myimages04.jpg', 'a_myimages05.jpg'), (100, 120)],\n",
       " [('a_myimages05.jpg', 'a_myimages06.jpg'), (125, 150)],\n",
       " [('a_myimages06.jpg', 'a_myimages07.jpg'), (150, 180)],\n",
       " [('a_myimages07.jpg', 'a_myimages08.jpg'), (175, 210)],\n",
       " [('a_myimages08.jpg', 'a_myimages09.jpg'), (200, 240)],\n",
       " [('a_myimages09.jpg', 'a_myimages10.jpg'), (225, 270)]]"
      ]
     },
     "metadata": {},
     "output_type": "display_data"
    }
   ],
   "source": [
    "#TODO image names in misfile - tail from path?\n",
    "image_names=[split(x)[1] for x in mf.image_fps]\n",
    "mf._relations=[Relation(a,b,'r',(25*(i+1),30*(i+1))) for i,(a,b) in enumerate(zip(image_names[0:-1],image_names[1:]))]\n",
    "relations=mf.get_rels('r')\n",
    "display(relations)\n",
    "#TODO set/update relations\n",
    "origin=image_names[0]"
   ]
  },
  {
   "cell_type": "code",
   "execution_count": 28,
   "metadata": {},
   "outputs": [
    {
     "data": {
      "text/plain": [
       "[True, False, False, False, False, False, False, False, False]"
      ]
     },
     "execution_count": 28,
     "metadata": {},
     "output_type": "execute_result"
    }
   ],
   "source": [
    "[origin in r[0] for r in relations]"
   ]
  },
  {
   "cell_type": "code",
   "execution_count": 43,
   "metadata": {},
   "outputs": [
    {
     "name": "stdout",
     "output_type": "stream",
     "text": [
      "a_myimages01.jpg\n",
      "    ('a_myimages02.jpg', [('a_myimages01.jpg', 'a_myimages02.jpg'), (25, 30)])\n",
      "a_myimages02.jpg\n",
      "    ('a_myimages03.jpg', [('a_myimages02.jpg', 'a_myimages03.jpg'), (50, 60)])\n",
      "a_myimages03.jpg\n",
      "    ('a_myimages04.jpg', [('a_myimages03.jpg', 'a_myimages04.jpg'), (75, 90)])\n",
      "a_myimages04.jpg\n",
      "    ('a_myimages05.jpg', [('a_myimages04.jpg', 'a_myimages05.jpg'), (100, 120)])\n",
      "a_myimages05.jpg\n",
      "    ('a_myimages06.jpg', [('a_myimages05.jpg', 'a_myimages06.jpg'), (125, 150)])\n",
      "a_myimages06.jpg\n",
      "    ('a_myimages07.jpg', [('a_myimages06.jpg', 'a_myimages07.jpg'), (150, 180)])\n",
      "a_myimages07.jpg\n",
      "    ('a_myimages08.jpg', [('a_myimages07.jpg', 'a_myimages08.jpg'), (175, 210)])\n",
      "a_myimages08.jpg\n",
      "    ('a_myimages09.jpg', [('a_myimages08.jpg', 'a_myimages09.jpg'), (200, 240)])\n",
      "a_myimages09.jpg\n",
      "    ('a_myimages10.jpg', [('a_myimages09.jpg', 'a_myimages10.jpg'), (225, 270)])\n",
      "a_myimages10.jpg\n"
     ]
    }
   ],
   "source": [
    "# Develop relation map\n",
    "found=[image_names.index(origin)]\n",
    "matched=[]\n",
    "resolved=[]\n",
    "relation_map=dict({x:[] for x in image_names})\n",
    "\n",
    "while len(resolved)<len(relations):\n",
    "    for i in found:\n",
    "        for ii,x in enumerate(image_names):\n",
    "            if (ii not in found) & (ii not in resolved) & (ii not in matched):\n",
    "                i_match=[image_names[i] in r[0] for r in relations]\n",
    "                ii_match=[image_names[ii] in r[0] for r in relations]\n",
    "                full_match=[im&iim for im,iim in zip(i_match,ii_match)]\n",
    "                if any(full_match):\n",
    "                    relation_map[image_names[i]].append((image_names[ii],relations[full_match.index(True)]))\n",
    "                    matched.append(ii)\n",
    "        resolved.append(i)\n",
    "    found=matched\n",
    "    matched=[]\n",
    "    #break if stuck\n",
    "    if found==[]:\n",
    "        break\n",
    "\n",
    "for k,v in relation_map.items():\n",
    "    print(k)\n",
    "    for x in v:\n",
    "        print(\"   \",x)"
   ]
  },
  {
   "cell_type": "code",
   "execution_count": 49,
   "metadata": {},
   "outputs": [
    {
     "data": {
      "text/plain": [
       "{'a_myimages01.jpg': (0, 0),\n",
       " 'a_myimages02.jpg': (25, 30),\n",
       " 'a_myimages03.jpg': (75, 90),\n",
       " 'a_myimages04.jpg': (150, 180),\n",
       " 'a_myimages05.jpg': (250, 300),\n",
       " 'a_myimages06.jpg': (375, 450),\n",
       " 'a_myimages07.jpg': (525, 630),\n",
       " 'a_myimages08.jpg': (700, 840),\n",
       " 'a_myimages09.jpg': (900, 1080),\n",
       " 'a_myimages10.jpg': (1125, 1350)}"
      ]
     },
     "metadata": {},
     "output_type": "display_data"
    }
   ],
   "source": [
    "absolute_position={origin:(0,0)}\n",
    "solving=[origin]\n",
    "cansolve=[]\n",
    "solved=[]\n",
    "while len(solving)>0:\n",
    "    for s in solving:\n",
    "        for image_name,rel in relation_map[s]:\n",
    "            cansolve.append(image_name)\n",
    "            if rel[0][0]==s:\n",
    "                direction=1\n",
    "            else:\n",
    "                direction=-1\n",
    "            absolute_position[image_name]=(absolute_position[s][0]+direction*rel[1][0],absolute_position[s][1]+direction*rel[1][1])\n",
    "    solved+=solving\n",
    "    solving=cansolve\n",
    "    cansolve=[]\n",
    "display(absolute_position)"
   ]
  },
  {
   "cell_type": "code",
   "execution_count": null,
   "metadata": {},
   "outputs": [],
   "source": [
    "#TODO maxima/minima adjustment for non-purely positive sets\n",
    "    #TODO Images sizes."
   ]
  }
 ],
 "metadata": {
  "kernelspec": {
   "display_name": ".venv",
   "language": "python",
   "name": "python3"
  },
  "language_info": {
   "codemirror_mode": {
    "name": "ipython",
    "version": 3
   },
   "file_extension": ".py",
   "mimetype": "text/x-python",
   "name": "python",
   "nbconvert_exporter": "python",
   "pygments_lexer": "ipython3",
   "version": "3.10.6"
  }
 },
 "nbformat": 4,
 "nbformat_minor": 2
}

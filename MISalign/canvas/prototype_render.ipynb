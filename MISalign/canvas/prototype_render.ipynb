{
 "cells": [
  {
   "cell_type": "markdown",
   "metadata": {},
   "source": [
    "# Prototyping Render"
   ]
  },
  {
   "cell_type": "markdown",
   "metadata": {},
   "source": [
    "Starting with output from rectangular solve."
   ]
  },
  {
   "cell_type": "code",
   "execution_count": 2,
   "metadata": {},
   "outputs": [
    {
     "data": {
      "text/plain": [
       "{'a_myimages01.jpg': (0, 0),\n",
       " 'a_myimages02.jpg': (12, -1088),\n",
       " 'a_myimages03.jpg': (20, -2229),\n",
       " 'a_myimages04.jpg': (-109, -3287),\n",
       " 'a_myimages05.jpg': (-98, -4230),\n",
       " 'a_myimages06.jpg': (-93, -5090),\n",
       " 'a_myimages07.jpg': (-83, -6080),\n",
       " 'a_myimages08.jpg': (-74, -7089),\n",
       " 'a_myimages09.jpg': (-65, -8028),\n",
       " 'a_myimages10.jpg': (-62, -8750)}"
      ]
     },
     "metadata": {},
     "output_type": "display_data"
    }
   ],
   "source": [
    "from os.path import abspath\n",
    "from sys import path\n",
    "path.insert(0, abspath(\"../..\"))  # Repository directory relative to this file.\n",
    "from MISalign.model.mis_file import load_mis\n",
    "from canvas_solve import rectangular_solve\n",
    "mf=load_mis(r\"..\\..\\example\\data\\set_a\\mymis.mis\")\n",
    "relations=mf.get_rels('r')\n",
    "image_names=mf.get_image_names()\n",
    "origin=\"a_myimages01.jpg\"\n",
    "rs=rectangular_solve(\n",
    "    relations=relations,\n",
    "    image_names=image_names,\n",
    "    origin=origin\n",
    ")\n",
    "display(rs)"
   ]
  },
  {
   "cell_type": "markdown",
   "metadata": {},
   "source": [
    "## Finding Extents"
   ]
  },
  {
   "cell_type": "markdown",
   "metadata": {},
   "source": [
    "### Finding image sizes"
   ]
  },
  {
   "cell_type": "code",
   "execution_count": 7,
   "metadata": {},
   "outputs": [],
   "source": [
    "from PIL import Image as PILImage"
   ]
  },
  {
   "cell_type": "code",
   "execution_count": 8,
   "metadata": {},
   "outputs": [
    {
     "name": "stdout",
     "output_type": "stream",
     "text": [
      "('a_myimages01.jpg', 'c:\\\\Users\\\\drago\\\\Documents\\\\MISaligned\\\\MISalign_public\\\\example\\\\data\\\\set_a\\\\a_myimages01.jpg')\n",
      "(1600, 1200)\n",
      "('a_myimages02.jpg', 'c:\\\\Users\\\\drago\\\\Documents\\\\MISaligned\\\\MISalign_public\\\\example\\\\data\\\\set_a\\\\a_myimages02.jpg')\n",
      "(1600, 1200)\n",
      "('a_myimages03.jpg', 'c:\\\\Users\\\\drago\\\\Documents\\\\MISaligned\\\\MISalign_public\\\\example\\\\data\\\\set_a\\\\a_myimages03.jpg')\n",
      "(1600, 1200)\n",
      "('a_myimages04.jpg', 'c:\\\\Users\\\\drago\\\\Documents\\\\MISaligned\\\\MISalign_public\\\\example\\\\data\\\\set_a\\\\a_myimages04.jpg')\n",
      "(1600, 1200)\n",
      "('a_myimages05.jpg', 'c:\\\\Users\\\\drago\\\\Documents\\\\MISaligned\\\\MISalign_public\\\\example\\\\data\\\\set_a\\\\a_myimages05.jpg')\n",
      "(1600, 1200)\n",
      "('a_myimages06.jpg', 'c:\\\\Users\\\\drago\\\\Documents\\\\MISaligned\\\\MISalign_public\\\\example\\\\data\\\\set_a\\\\a_myimages06.jpg')\n",
      "(1600, 1200)\n",
      "('a_myimages07.jpg', 'c:\\\\Users\\\\drago\\\\Documents\\\\MISaligned\\\\MISalign_public\\\\example\\\\data\\\\set_a\\\\a_myimages07.jpg')\n",
      "(1600, 1200)\n",
      "('a_myimages08.jpg', 'c:\\\\Users\\\\drago\\\\Documents\\\\MISaligned\\\\MISalign_public\\\\example\\\\data\\\\set_a\\\\a_myimages08.jpg')\n",
      "(1600, 1200)\n",
      "('a_myimages09.jpg', 'c:\\\\Users\\\\drago\\\\Documents\\\\MISaligned\\\\MISalign_public\\\\example\\\\data\\\\set_a\\\\a_myimages09.jpg')\n",
      "(1600, 1200)\n",
      "('a_myimages10.jpg', 'c:\\\\Users\\\\drago\\\\Documents\\\\MISaligned\\\\MISalign_public\\\\example\\\\data\\\\set_a\\\\a_myimages10.jpg')\n",
      "(1600, 1200)\n"
     ]
    }
   ],
   "source": [
    "# Need image size.\n",
    "for name_path in zip(mf.get_image_names(),mf.image_fps):\n",
    "    print(name_path)\n",
    "    img=PILImage.open(name_path[1])\n",
    "    print(img.size)"
   ]
  },
  {
   "cell_type": "code",
   "execution_count": 10,
   "metadata": {},
   "outputs": [
    {
     "data": {
      "text/plain": [
       "{'a_myimages01.jpg': (1600, 1200),\n",
       " 'a_myimages02.jpg': (1600, 1200),\n",
       " 'a_myimages03.jpg': (1600, 1200),\n",
       " 'a_myimages04.jpg': (1600, 1200),\n",
       " 'a_myimages05.jpg': (1600, 1200),\n",
       " 'a_myimages06.jpg': (1600, 1200),\n",
       " 'a_myimages07.jpg': (1600, 1200),\n",
       " 'a_myimages08.jpg': (1600, 1200),\n",
       " 'a_myimages09.jpg': (1600, 1200),\n",
       " 'a_myimages10.jpg': (1600, 1200)}"
      ]
     },
     "execution_count": 10,
     "metadata": {},
     "output_type": "execute_result"
    }
   ],
   "source": [
    "image_sizes={name:PILImage.open(name_path[1]).size for name,path in zip(mf.get_image_names(),mf.image_fps)}\n",
    "image_sizes"
   ]
  },
  {
   "cell_type": "markdown",
   "metadata": {},
   "source": [
    "### Putting all points together"
   ]
  },
  {
   "cell_type": "code",
   "execution_count": 22,
   "metadata": {},
   "outputs": [
    {
     "name": "stdout",
     "output_type": "stream",
     "text": [
      "(-109, 1620) (-9950, 0)\n"
     ]
    }
   ],
   "source": [
    "x=[]\n",
    "y=[]\n",
    "for img in image_names:\n",
    "    img_corner=rs[img] #top left corner\n",
    "    img_size=image_sizes[img]\n",
    "    x.append(img_corner[0])#left side\n",
    "    x.append(img_corner[0]+img_size[0])#right side\n",
    "    y.append(img_corner[1])#top side\n",
    "    y.append(img_corner[1]-img_size[1])#bottom side\n",
    "    # Top to bottom is in the negative direction which is why the -img_size[1] is needed.\n",
    "minx=min(x)\n",
    "maxx=max(x)\n",
    "miny=min(y)\n",
    "maxy=max(y)\n",
    "print((minx,maxx),(miny,maxy))"
   ]
  },
  {
   "cell_type": "markdown",
   "metadata": {},
   "source": [
    "### Offsets and canvas extents"
   ]
  },
  {
   "cell_type": "code",
   "execution_count": 23,
   "metadata": {},
   "outputs": [
    {
     "name": "stdout",
     "output_type": "stream",
     "text": [
      "Canvas Extents: (1729, 9950)\n",
      "Offsets: (109, 9950)\n"
     ]
    }
   ],
   "source": [
    "canvas_width=maxx-minx\n",
    "canvas_height=maxy-miny\n",
    "print(\"Canvas Extents:\",(canvas_width,canvas_height))\n",
    "offset_x=0-minx\n",
    "offset_y=0-miny\n",
    "print(\"Offsets:\",(offset_x,offset_y))"
   ]
  },
  {
   "cell_type": "markdown",
   "metadata": {},
   "source": [
    "## Canvas Placement"
   ]
  },
  {
   "cell_type": "code",
   "execution_count": 25,
   "metadata": {},
   "outputs": [
    {
     "data": {
      "text/plain": [
       "{'a_myimages01.jpg': (109, 9950),\n",
       " 'a_myimages02.jpg': (121, 8862),\n",
       " 'a_myimages03.jpg': (129, 7721),\n",
       " 'a_myimages04.jpg': (0, 6663),\n",
       " 'a_myimages05.jpg': (11, 5720),\n",
       " 'a_myimages06.jpg': (16, 4860),\n",
       " 'a_myimages07.jpg': (26, 3870),\n",
       " 'a_myimages08.jpg': (35, 2861),\n",
       " 'a_myimages09.jpg': (44, 1922),\n",
       " 'a_myimages10.jpg': (47, 1200)}"
      ]
     },
     "execution_count": 25,
     "metadata": {},
     "output_type": "execute_result"
    }
   ],
   "source": [
    "canvas_placement={name:(rs[name][0]+offset_x,rs[name][1]+offset_y) for name in image_names}\n",
    "canvas_placement"
   ]
  }
 ],
 "metadata": {
  "kernelspec": {
   "display_name": ".venv",
   "language": "python",
   "name": "python3"
  },
  "language_info": {
   "codemirror_mode": {
    "name": "ipython",
    "version": 3
   },
   "file_extension": ".py",
   "mimetype": "text/x-python",
   "name": "python",
   "nbconvert_exporter": "python",
   "pygments_lexer": "ipython3",
   "version": "3.10.8"
  }
 },
 "nbformat": 4,
 "nbformat_minor": 2
}

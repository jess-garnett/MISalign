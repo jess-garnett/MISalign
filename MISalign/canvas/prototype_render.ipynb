{
 "cells": [
  {
   "cell_type": "markdown",
   "metadata": {},
   "source": [
    "# Prototyping Render"
   ]
  },
  {
   "cell_type": "markdown",
   "metadata": {},
   "source": [
    "Starting with output from rectangular solve."
   ]
  },
  {
   "cell_type": "code",
   "execution_count": 2,
   "metadata": {},
   "outputs": [
    {
     "data": {
      "text/plain": [
       "{'a_myimages01.jpg': (0, 0),\n",
       " 'a_myimages02.jpg': (12, -1088),\n",
       " 'a_myimages03.jpg': (20, -2229),\n",
       " 'a_myimages04.jpg': (-109, -3287),\n",
       " 'a_myimages05.jpg': (-98, -4230),\n",
       " 'a_myimages06.jpg': (-93, -5090),\n",
       " 'a_myimages07.jpg': (-83, -6080),\n",
       " 'a_myimages08.jpg': (-74, -7089),\n",
       " 'a_myimages09.jpg': (-65, -8028),\n",
       " 'a_myimages10.jpg': (-62, -8750)}"
      ]
     },
     "metadata": {},
     "output_type": "display_data"
    }
   ],
   "source": [
    "from os.path import abspath\n",
    "from sys import path\n",
    "path.insert(0, abspath(\"../..\"))  # Repository directory relative to this file.\n",
    "from MISalign.model.mis_file import load_mis\n",
    "from canvas_solve import rectangular_solve\n",
    "mf=load_mis(r\"..\\..\\example\\data\\set_a\\mymis.mis\")\n",
    "relations=mf.get_rels('r')\n",
    "image_names=mf.get_image_names()\n",
    "origin=\"a_myimages01.jpg\"\n",
    "rs=rectangular_solve(\n",
    "    relations=relations,\n",
    "    image_names=image_names,\n",
    "    origin=origin\n",
    ")\n",
    "display(rs)"
   ]
  }
 ],
 "metadata": {
  "kernelspec": {
   "display_name": ".venv",
   "language": "python",
   "name": "python3"
  },
  "language_info": {
   "codemirror_mode": {
    "name": "ipython",
    "version": 3
   },
   "file_extension": ".py",
   "mimetype": "text/x-python",
   "name": "python",
   "nbconvert_exporter": "python",
   "pygments_lexer": "ipython3",
   "version": "3.10.8"
  }
 },
 "nbformat": 4,
 "nbformat_minor": 2
}

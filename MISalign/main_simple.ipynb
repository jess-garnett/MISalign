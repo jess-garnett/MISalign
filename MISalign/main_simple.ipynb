{
 "cells": [
  {
   "cell_type": "markdown",
   "metadata": {},
   "source": [
    "# Simple notebook for running image alignment & blending\n",
    "Recommended to run by block based on intended use."
   ]
  },
  {
   "cell_type": "code",
   "execution_count": 1,
   "metadata": {},
   "outputs": [],
   "source": [
    "from os.path import abspath\n",
    "from os import listdir, getcwd\n",
    "\n",
    "import model.project as proj\n",
    "import model.project_service as proj_service\n",
    "import alignment.manual as align_manual\n",
    "import canvas.canvas_service as canv_service"
   ]
  },
  {
   "cell_type": "code",
   "execution_count": 2,
   "metadata": {},
   "outputs": [],
   "source": [
    "start_dir=getcwd()"
   ]
  },
  {
   "cell_type": "markdown",
   "metadata": {},
   "source": [
    "# Specify Data"
   ]
  },
  {
   "cell_type": "code",
   "execution_count": 3,
   "metadata": {},
   "outputs": [],
   "source": [
    "global mis_fp\n",
    "# mis_fp=abspath(\"_example_data/a_myproject_empty.mis\")\n",
    "data_fp=abspath(start_dir+\"/example/data/set_a\")\n",
    "mis_fp=abspath(data_fp+\"/a_myproject_empty.mis\")"
   ]
  },
  {
   "cell_type": "markdown",
   "metadata": {},
   "source": [
    "### First time setup of files:"
   ]
  },
  {
   "cell_type": "code",
   "execution_count": 18,
   "metadata": {},
   "outputs": [],
   "source": [
    "all_file_names=listdir(data_fp)\n",
    "data_file_names=sorted([file for file in all_file_names if file.find(\".mis\")==-1])\n",
    "default_offset=[data_file_names[0],[0,0],0.0]\n",
    "image_offset=dict()\n",
    "for img in data_file_names:\n",
    "    image_offset[img]=default_offset"
   ]
  },
  {
   "cell_type": "markdown",
   "metadata": {},
   "source": [
    "# Setup, save, and load project"
   ]
  },
  {
   "cell_type": "code",
   "execution_count": 23,
   "metadata": {},
   "outputs": [],
   "source": [
    "global main_project\n",
    "main_project=proj.Project(\n",
    "    mis_filepath=mis_fp,\n",
    "    image_offset_pairs=image_offset,\n",
    "    cal_value=None\n",
    ")"
   ]
  },
  {
   "cell_type": "code",
   "execution_count": 8,
   "metadata": {},
   "outputs": [],
   "source": [
    "proj_service.save_to_mis(\n",
    "    mis_filepath=mis_fp,\n",
    "    project=main_project\n",
    ")"
   ]
  },
  {
   "cell_type": "markdown",
   "metadata": {},
   "source": [
    "### Load mis project"
   ]
  },
  {
   "cell_type": "code",
   "execution_count": 4,
   "metadata": {},
   "outputs": [],
   "source": [
    "global main_project\n",
    "main_project:proj.Project=proj_service.load_from_mis(mis_filepath=mis_fp)"
   ]
  },
  {
   "cell_type": "markdown",
   "metadata": {},
   "source": [
    "# Add more images"
   ]
  },
  {
   "cell_type": "code",
   "execution_count": 9,
   "metadata": {},
   "outputs": [],
   "source": [
    "new_img_names={\n",
    "        \"a_myimages05.jpg\": [\"a_myimages04.jpg\",[0,0],0.0],\n",
    "        \"a_myimages06.jpg\": [\"a_myimages05.jpg\",[0,0],0.0]\n",
    "    }\n",
    "main_project.images.update(new_img_names)\n",
    "main_project.reload_images_offsets()"
   ]
  },
  {
   "cell_type": "markdown",
   "metadata": {},
   "source": [
    "# Alignment"
   ]
  },
  {
   "cell_type": "code",
   "execution_count": 22,
   "metadata": {},
   "outputs": [],
   "source": [
    "import tkinter as tk\n",
    "def saveAlign(save_project:proj.Project):\n",
    "    #purpose: Callback function saving the  alignment results.\n",
    "    main_project=save_project #updates global project\n",
    "image_names=sorted(main_project.images.keys())\n",
    "root=tk.Tk()\n",
    "root.title(\"root\")\n",
    "manualalignment=align_manual.ManualAlignWindow(root,main_project,image_names[0],image_names[1],return_project=saveAlign)\n",
    "root.mainloop()"
   ]
  },
  {
   "cell_type": "code",
   "execution_count": 23,
   "metadata": {},
   "outputs": [
    {
     "data": {
      "text/plain": [
       "{'a_myimages06.jpg': ['a_myimages05.jpg', (-6, 853), 0.0],\n",
       " 'a_myimages04.jpg': ['a_myimages03.jpg', (122, 1061), 0.0],\n",
       " 'a_myimages02.jpg': ['a_myimages01.jpg', (-9, 1087), 0.0],\n",
       " 'a_myimages05.jpg': ['a_myimages04.jpg', (-7, 940), 0.0],\n",
       " 'a_myimages01.jpg': ['a_myimages01.jpg', (0, 0), 0.0],\n",
       " 'a_myimages03.jpg': ['a_myimages02.jpg', (-8, 1144), 0.0]}"
      ]
     },
     "execution_count": 23,
     "metadata": {},
     "output_type": "execute_result"
    }
   ],
   "source": [
    "main_project.get_image_offset_pairs()"
   ]
  },
  {
   "cell_type": "markdown",
   "metadata": {},
   "source": [
    "# Canvas Functions"
   ]
  },
  {
   "cell_type": "markdown",
   "metadata": {},
   "source": [
    "### Rough Canvas"
   ]
  },
  {
   "cell_type": "code",
   "execution_count": 24,
   "metadata": {},
   "outputs": [],
   "source": [
    "roughcanvas=canv_service.Canvas(project=main_project)\n",
    "rough_img=roughcanvas.canvas_image()"
   ]
  },
  {
   "cell_type": "code",
   "execution_count": 25,
   "metadata": {},
   "outputs": [],
   "source": [
    "rough_img.show()"
   ]
  },
  {
   "cell_type": "code",
   "execution_count": 17,
   "metadata": {},
   "outputs": [],
   "source": [
    "canvas_save_fp=abspath(start_dir+\"/example/expected_result/set_a/a_mycanvas_rough.jpg\")\n",
    "rough_img.save(fp=canvas_save_fp)"
   ]
  },
  {
   "cell_type": "markdown",
   "metadata": {},
   "source": [
    "### Blended Canvas"
   ]
  },
  {
   "cell_type": "code",
   "execution_count": 26,
   "metadata": {},
   "outputs": [],
   "source": [
    "blendcanvas=canv_service.Canvas(project=main_project)\n",
    "blend_img=blendcanvas.blended_image()"
   ]
  },
  {
   "cell_type": "code",
   "execution_count": 27,
   "metadata": {},
   "outputs": [],
   "source": [
    "blend_img.show()"
   ]
  },
  {
   "cell_type": "code",
   "execution_count": 19,
   "metadata": {},
   "outputs": [],
   "source": [
    "canvas_save_fp=abspath(start_dir+\"/example/expected_result/set_a/a_mycanvas_blend.jpg\")\n",
    "blend_img.save(fp=canvas_save_fp)"
   ]
  },
  {
   "cell_type": "markdown",
   "metadata": {},
   "source": [
    "### Labelled Canvas"
   ]
  },
  {
   "cell_type": "code",
   "execution_count": 14,
   "metadata": {},
   "outputs": [],
   "source": [
    "roughlabelcanvas=canv_service.Canvas(project=main_project)\n",
    "roughlabel_img=roughlabelcanvas.mark(list(main_project.images.keys()))"
   ]
  },
  {
   "cell_type": "code",
   "execution_count": 15,
   "metadata": {},
   "outputs": [],
   "source": [
    "roughlabel_img.show()"
   ]
  },
  {
   "cell_type": "code",
   "execution_count": 21,
   "metadata": {},
   "outputs": [],
   "source": [
    "canvas_save_fp=abspath(start_dir+\"/example/expected_result/set_a/a_mycanvas_mark.jpg\")\n",
    "roughlabel_img.save(fp=canvas_save_fp)"
   ]
  }
 ],
 "metadata": {
  "kernelspec": {
   "display_name": "Python 3",
   "language": "python",
   "name": "python3"
  },
  "language_info": {
   "codemirror_mode": {
    "name": "ipython",
    "version": 3
   },
   "file_extension": ".py",
   "mimetype": "text/x-python",
   "name": "python",
   "nbconvert_exporter": "python",
   "pygments_lexer": "ipython3",
   "version": "3.10.8"
  },
  "orig_nbformat": 4,
  "vscode": {
   "interpreter": {
    "hash": "783fc5d156c24d0c30db7b58ce9582c6dc3717381187d1a80d903d2c6c9a6579"
   }
  }
 },
 "nbformat": 4,
 "nbformat_minor": 2
}

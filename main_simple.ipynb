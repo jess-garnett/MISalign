{
 "cells": [
  {
   "cell_type": "markdown",
   "metadata": {},
   "source": [
    "# Simple notebook for running image alignment & blending\n",
    "Recommended to run by block based on intended use."
   ]
  },
  {
   "cell_type": "code",
   "execution_count": 1,
   "metadata": {},
   "outputs": [],
   "source": [
    "from sys import path\n",
    "from os.path import dirname, realpath, abspath\n",
    "from os import listdir\n",
    "\n",
    "import model.project as m_proj\n",
    "import service.project_file as s_proj_file\n",
    "import gui.alignment as g_align\n",
    "import service.canvas as s_canvas"
   ]
  },
  {
   "cell_type": "markdown",
   "metadata": {},
   "source": [
    "# Specify Data"
   ]
  },
  {
   "cell_type": "code",
   "execution_count": 2,
   "metadata": {},
   "outputs": [],
   "source": [
    "global mis_fp\n",
    "# mis_fp=r\"C:\\Users\\drago\\Documents\\MISaligned\\MISalign\\data\\a_myproject_empty.mis\"\n",
    "mis_fp=r\"C:\\Users\\drago\\Documents\\MISaligned\\MISalign\\data\\a_myproject_full.mis\""
   ]
  },
  {
   "cell_type": "markdown",
   "metadata": {},
   "source": [
    "### First time setup of files:"
   ]
  },
  {
   "cell_type": "code",
   "execution_count": 22,
   "metadata": {},
   "outputs": [],
   "source": [
    "data_fp=r\"C:\\Users\\drago\\Documents\\MISaligned\\MISalign\\data\"\n",
    "all_file_names=listdir(data_fp)\n",
    "data_file_names=sorted([file for file in all_file_names if file.find(\".mis\")==-1])\n",
    "default_offset=[data_file_names[0],[0,0],0.0]\n",
    "image_offset=dict()\n",
    "for img in data_file_names:\n",
    "    image_offset[img]=default_offset"
   ]
  },
  {
   "cell_type": "markdown",
   "metadata": {},
   "source": [
    "# Setup, save, and load project"
   ]
  },
  {
   "cell_type": "code",
   "execution_count": 23,
   "metadata": {},
   "outputs": [],
   "source": [
    "global main_project\n",
    "main_project=m_proj.Project(\n",
    "    mis_filepath=mis_fp,\n",
    "    image_offset_pairs=image_offset,\n",
    "    cal_value=None\n",
    ")"
   ]
  },
  {
   "cell_type": "code",
   "execution_count": 24,
   "metadata": {},
   "outputs": [],
   "source": [
    "s_proj_file.save_to_mis(\n",
    "    mis_filepath=mis_fp,\n",
    "    project=main_project\n",
    ")"
   ]
  },
  {
   "cell_type": "markdown",
   "metadata": {},
   "source": [
    "### Load mis project"
   ]
  },
  {
   "cell_type": "code",
   "execution_count": 3,
   "metadata": {},
   "outputs": [],
   "source": [
    "global main_project\n",
    "main_project:m_proj.Project=s_proj_file.load_from_mis(mis_filepath=mis_fp)"
   ]
  },
  {
   "cell_type": "markdown",
   "metadata": {},
   "source": [
    "# Add more images"
   ]
  },
  {
   "cell_type": "code",
   "execution_count": null,
   "metadata": {},
   "outputs": [],
   "source": []
  },
  {
   "cell_type": "markdown",
   "metadata": {},
   "source": [
    "# Alignment"
   ]
  },
  {
   "cell_type": "code",
   "execution_count": 10,
   "metadata": {},
   "outputs": [],
   "source": [
    "import tkinter as tk\n",
    "def saveAlign(save_project:m_proj.Project):\n",
    "    #purpose: Callback function saving the  alignment results.\n",
    "    main_project=save_project #updates global project\n",
    "image_names=sorted(main_project.images.keys())\n",
    "root=tk.Tk()\n",
    "root.title(\"root\")\n",
    "manualalignment=g_align.ManualAlignWindow(root,main_project,image_names[0],image_names[0],return_project=saveAlign)\n",
    "root.mainloop()"
   ]
  },
  {
   "cell_type": "code",
   "execution_count": 4,
   "metadata": {},
   "outputs": [
    {
     "data": {
      "text/plain": [
       "{'a_myimages01.jpg': ((17, 0), 0.0),\n",
       " 'a_myimages02.jpg': ((8, 1087), 0.0),\n",
       " 'a_myimages03.jpg': ((0, 2231), 0.0),\n",
       " 'a_myimages04.jpg': ((122, 3292), 0.0)}"
      ]
     },
     "execution_count": 4,
     "metadata": {},
     "output_type": "execute_result"
    }
   ],
   "source": [
    "main_project.get_canvas_offsets()"
   ]
  },
  {
   "cell_type": "markdown",
   "metadata": {},
   "source": [
    "# Canvas Functions"
   ]
  },
  {
   "cell_type": "code",
   "execution_count": 20,
   "metadata": {},
   "outputs": [],
   "source": [
    "canvas_save_fp=r\"C:\\Users\\drago\\Documents\\MISaligned\\MISalign\\a_mycanvas2.jpg\""
   ]
  },
  {
   "cell_type": "markdown",
   "metadata": {},
   "source": [
    "### Rough Canvas"
   ]
  },
  {
   "cell_type": "code",
   "execution_count": 7,
   "metadata": {},
   "outputs": [],
   "source": [
    "roughcanvas=s_canvas.Canvas(project=main_project)\n",
    "rough_img=roughcanvas.canvas_image()"
   ]
  },
  {
   "cell_type": "code",
   "execution_count": 8,
   "metadata": {},
   "outputs": [],
   "source": [
    "rough_img.show()"
   ]
  },
  {
   "cell_type": "code",
   "execution_count": 17,
   "metadata": {},
   "outputs": [],
   "source": [
    "rough_img.save(fp=canvas_save_fp)"
   ]
  },
  {
   "cell_type": "markdown",
   "metadata": {},
   "source": [
    "### Blended Canvas"
   ]
  },
  {
   "cell_type": "code",
   "execution_count": 11,
   "metadata": {},
   "outputs": [],
   "source": [
    "blendcanvas=s_canvas.Canvas(project=main_project)\n",
    "blend_img=blendcanvas.blended_image()"
   ]
  },
  {
   "cell_type": "code",
   "execution_count": 12,
   "metadata": {},
   "outputs": [],
   "source": [
    "blend_img.show()"
   ]
  },
  {
   "cell_type": "code",
   "execution_count": 19,
   "metadata": {},
   "outputs": [],
   "source": [
    "blend_img.save(fp=canvas_save_fp)"
   ]
  },
  {
   "cell_type": "markdown",
   "metadata": {},
   "source": [
    "### Labelled Canvas"
   ]
  },
  {
   "cell_type": "code",
   "execution_count": 14,
   "metadata": {},
   "outputs": [],
   "source": [
    "roughlabelcanvas=s_canvas.Canvas(project=main_project)\n",
    "roughlabel_img=roughlabelcanvas.mark(list(main_project.images.keys()))"
   ]
  },
  {
   "cell_type": "code",
   "execution_count": 15,
   "metadata": {},
   "outputs": [],
   "source": [
    "roughlabel_img.show()"
   ]
  },
  {
   "cell_type": "code",
   "execution_count": 21,
   "metadata": {},
   "outputs": [],
   "source": [
    "roughlabel_img.save(fp=canvas_save_fp)"
   ]
  }
 ],
 "metadata": {
  "kernelspec": {
   "display_name": "Python 3",
   "language": "python",
   "name": "python3"
  },
  "language_info": {
   "codemirror_mode": {
    "name": "ipython",
    "version": 3
   },
   "file_extension": ".py",
   "mimetype": "text/x-python",
   "name": "python",
   "nbconvert_exporter": "python",
   "pygments_lexer": "ipython3",
   "version": "3.10.8"
  },
  "orig_nbformat": 4,
  "vscode": {
   "interpreter": {
    "hash": "783fc5d156c24d0c30db7b58ce9582c6dc3717381187d1a80d903d2c6c9a6579"
   }
  }
 },
 "nbformat": 4,
 "nbformat_minor": 2
}

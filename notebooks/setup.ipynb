{
 "cells": [
  {
   "cell_type": "markdown",
   "metadata": {},
   "source": [
    "# Imports"
   ]
  },
  {
   "cell_type": "code",
   "execution_count": 1,
   "metadata": {},
   "outputs": [],
   "source": [
    "from sys import path as syspath\n",
    "syspath.append(\"..\")"
   ]
  },
  {
   "cell_type": "code",
   "execution_count": 2,
   "metadata": {},
   "outputs": [],
   "source": [
    "from os import listdir\n",
    "from os.path import join, abspath\n",
    "from MISalign.model.mis_file import MisFile,save_mis"
   ]
  },
  {
   "cell_type": "markdown",
   "metadata": {},
   "source": [
    "# Basic Setup"
   ]
  },
  {
   "cell_type": "code",
   "execution_count": 6,
   "metadata": {},
   "outputs": [],
   "source": [
    "###\n",
    "# Enter setup information\n",
    "###\n",
    "folder_path=r\"..\\example\\data\\set_a\" # folder with images\n",
    "misfile_name=\"mymis_calibrated.mis\" # name for save file\n",
    "#\n",
    "calibration_filepath=abspath(r\"..\\example\\data\\set_a\\a_5x.miscal\") # filepath to calibration file `.miscal`\n",
    "    # Important: If you do not have a calibration file then uncomment the next line\n",
    "# calibration_filepath=None\n",
    "#\n",
    "file_ending=\"jpg\" # file extension\n",
    "file_contains=\"\" # file names must contain - i.e. \"sample1-5x\", \"sample2\", \"10x\", etc.\n",
    "file_notcontains=\"\" # file names must not contain - i.e. \"calibration\"\n",
    "#TODO Change not contains to a list of strings to check against.\n",
    "###"
   ]
  },
  {
   "cell_type": "code",
   "execution_count": 7,
   "metadata": {},
   "outputs": [
    {
     "name": "stdout",
     "output_type": "stream",
     "text": [
      "Save file filepath: c:\\Users\\drago\\Documents\\git_gh\\MISalign\\example\\data\\set_a\\mymis_calibrated.mis\n",
      "Image files and filepaths:\n",
      "  a_myimages01.jpg: c:\\Users\\drago\\Documents\\git_gh\\MISalign\\example\\data\\set_a\\a_myimages01.jpg\n",
      "  a_myimages02.jpg: c:\\Users\\drago\\Documents\\git_gh\\MISalign\\example\\data\\set_a\\a_myimages02.jpg\n",
      "  a_myimages03.jpg: c:\\Users\\drago\\Documents\\git_gh\\MISalign\\example\\data\\set_a\\a_myimages03.jpg\n",
      "  a_myimages04.jpg: c:\\Users\\drago\\Documents\\git_gh\\MISalign\\example\\data\\set_a\\a_myimages04.jpg\n",
      "  a_myimages05.jpg: c:\\Users\\drago\\Documents\\git_gh\\MISalign\\example\\data\\set_a\\a_myimages05.jpg\n",
      "  a_myimages06.jpg: c:\\Users\\drago\\Documents\\git_gh\\MISalign\\example\\data\\set_a\\a_myimages06.jpg\n",
      "  a_myimages07.jpg: c:\\Users\\drago\\Documents\\git_gh\\MISalign\\example\\data\\set_a\\a_myimages07.jpg\n",
      "  a_myimages08.jpg: c:\\Users\\drago\\Documents\\git_gh\\MISalign\\example\\data\\set_a\\a_myimages08.jpg\n",
      "  a_myimages09.jpg: c:\\Users\\drago\\Documents\\git_gh\\MISalign\\example\\data\\set_a\\a_myimages09.jpg\n",
      "  a_myimages10.jpg: c:\\Users\\drago\\Documents\\git_gh\\MISalign\\example\\data\\set_a\\a_myimages10.jpg\n",
      "Calibration file filepath: c:\\Users\\drago\\Documents\\git_gh\\MISalign\\example\\data\\set_a\\a_5x.miscal\n"
     ]
    }
   ],
   "source": [
    "mis_filepath=abspath(join(folder_path,misfile_name))\n",
    "print(f\"Save file filepath: {mis_filepath}\")\n",
    "file_names=[x for x in listdir(folder_path) if x.split(\".\")[-1]==file_ending]\n",
    "if file_contains != \"\":\n",
    "    file_names=[x for x in file_names if file_contains in x]\n",
    "if file_notcontains != \"\":\n",
    "    file_names=[x for x in file_names if file_notcontains not in x]\n",
    "file_paths=[abspath(join(folder_path,x)) for x in file_names]\n",
    "print(\"\\n  \".join([\"Image files and filepaths:\"]+[f\"{fn}: {fp}\" for fn,fp in zip(file_names,file_paths)]))\n",
    "if calibration_filepath is not None:\n",
    "    print(f\"Calibration file filepath: {calibration_filepath}\")"
   ]
  },
  {
   "cell_type": "code",
   "execution_count": 10,
   "metadata": {},
   "outputs": [
    {
     "name": "stdout",
     "output_type": "stream",
     "text": [
      "A MISalign project with:[['c:\\\\Users\\\\drago\\\\Documents\\\\git_gh\\\\MISalign\\\\example\\\\data\\\\set_a\\\\a_myimages01.jpg', 'c:\\\\Users\\\\drago\\\\Documents\\\\git_gh\\\\MISalign\\\\example\\\\data\\\\set_a\\\\a_myimages02.jpg', 'c:\\\\Users\\\\drago\\\\Documents\\\\git_gh\\\\MISalign\\\\example\\\\data\\\\set_a\\\\a_myimages03.jpg', 'c:\\\\Users\\\\drago\\\\Documents\\\\git_gh\\\\MISalign\\\\example\\\\data\\\\set_a\\\\a_myimages04.jpg', 'c:\\\\Users\\\\drago\\\\Documents\\\\git_gh\\\\MISalign\\\\example\\\\data\\\\set_a\\\\a_myimages05.jpg', 'c:\\\\Users\\\\drago\\\\Documents\\\\git_gh\\\\MISalign\\\\example\\\\data\\\\set_a\\\\a_myimages06.jpg', 'c:\\\\Users\\\\drago\\\\Documents\\\\git_gh\\\\MISalign\\\\example\\\\data\\\\set_a\\\\a_myimages07.jpg', 'c:\\\\Users\\\\drago\\\\Documents\\\\git_gh\\\\MISalign\\\\example\\\\data\\\\set_a\\\\a_myimages08.jpg', 'c:\\\\Users\\\\drago\\\\Documents\\\\git_gh\\\\MISalign\\\\example\\\\data\\\\set_a\\\\a_myimages09.jpg', 'c:\\\\Users\\\\drago\\\\Documents\\\\git_gh\\\\MISalign\\\\example\\\\data\\\\set_a\\\\a_myimages10.jpg'], [], {'pixel': 599.006361608906, 'length': 1, 'length_unit': 'mm'}]\n"
     ]
    }
   ],
   "source": [
    "mis_project=MisFile(image_fps=file_paths,calibration_fp=calibration_filepath)\n",
    "print(mis_project)"
   ]
  },
  {
   "cell_type": "code",
   "execution_count": 11,
   "metadata": {},
   "outputs": [],
   "source": [
    "save_mis(mis_filepath,mis_project)"
   ]
  },
  {
   "cell_type": "markdown",
   "metadata": {},
   "source": [
    "# Advanced Setups"
   ]
  },
  {
   "cell_type": "markdown",
   "metadata": {},
   "source": [
    "## Image Sets"
   ]
  },
  {
   "cell_type": "code",
   "execution_count": 41,
   "metadata": {},
   "outputs": [],
   "source": [
    "###\n",
    "# Enter setup information\n",
    "###\n",
    "folder_path=r\"..\\example\\data\\set_a\" # folder with images\n",
    "misfile_names=[\"mymis1.mis\",\"mymis2.mis\"] # name for save file\n",
    "#\n",
    "file_ending=\"jpg\" # file extension\n",
    "file_contains=\"\" # file names must contain - i.e. \"sample1-5x\", \"sample2\", \"10x\", etc.\n",
    "file_notcontains=\"\" # file names must not contain - i.e. \"calibration\"\n",
    "###"
   ]
  },
  {
   "cell_type": "code",
   "execution_count": null,
   "metadata": {},
   "outputs": [],
   "source": [
    "mis_filepaths=[abspath(join(folder_path,x)) for x in misfile_names]\n",
    "mis_dict={mn:mp for mn,mp in zip(misfile_names,mis_filepaths)}\n",
    "print(\"\\n  \".join([\"Save files and filepaths: \"]+[f\"{mn}: {mp}\" for mn,mp in zip(misfile_names,mis_filepaths)]))\n",
    "file_names=[x for x in listdir(folder_path) if x.split(\".\")[-1]==file_ending]\n",
    "if file_contains != \"\":\n",
    "    file_names=[x for x in file_names if file_contains in x]\n",
    "if file_notcontains != \"\":\n",
    "    file_names=[x for x in file_names if file_notcontains not in x]\n",
    "file_paths=[abspath(join(folder_path,x)) for x in file_names]\n",
    "print(\"\\n  \".join([\"Image index, file names, and filepaths:\"]+[f\"{i} - {fn}: {fp}\" for i,(fn,fp) in enumerate(zip(file_names,file_paths))]))"
   ]
  },
  {
   "cell_type": "code",
   "execution_count": null,
   "metadata": {},
   "outputs": [],
   "source": [
    "# user selected image sets using start and end index\n",
    "image_sets={\n",
    "    \"mymis1.mis\":(0,4),\n",
    "    \"mymis2.mis\":(5,9),\n",
    "}\n",
    "for key,value in image_sets.items():\n",
    "    print(key,file_names[value[0]:value[1]+1])"
   ]
  },
  {
   "cell_type": "code",
   "execution_count": null,
   "metadata": {},
   "outputs": [],
   "source": [
    "for key,value in image_sets.items():\n",
    "    mis_fp=mis_dict[key]\n",
    "    print(mis_fp,\"\\n  \",file_names[value[0]:value[1]+1])\n",
    "    mis_project=MisFile(image_fps=file_paths[value[0]:value[1]+1])\n",
    "    save_mis(mis_fp,mis_project)"
   ]
  }
 ],
 "metadata": {
  "kernelspec": {
   "display_name": ".venv",
   "language": "python",
   "name": "python3"
  },
  "language_info": {
   "codemirror_mode": {
    "name": "ipython",
    "version": 3
   },
   "file_extension": ".py",
   "mimetype": "text/x-python",
   "name": "python",
   "nbconvert_exporter": "python",
   "pygments_lexer": "ipython3",
   "version": "3.10.8"
  }
 },
 "nbformat": 4,
 "nbformat_minor": 2
}

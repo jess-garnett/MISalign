{
 "cells": [
  {
   "cell_type": "markdown",
   "metadata": {},
   "source": [
    "# Imports"
   ]
  },
  {
   "cell_type": "code",
   "execution_count": 1,
   "metadata": {},
   "outputs": [],
   "source": [
    "from sys import path as syspath\n",
    "syspath.append(\"..\")"
   ]
  },
  {
   "cell_type": "code",
   "execution_count": 2,
   "metadata": {},
   "outputs": [],
   "source": [
    "from os import listdir\n",
    "from os.path import join, abspath\n",
    "from MISalign.model.mis_file import MisFile,save_mis"
   ]
  },
  {
   "cell_type": "markdown",
   "metadata": {},
   "source": [
    "# Basic Setup"
   ]
  },
  {
   "cell_type": "code",
   "execution_count": 3,
   "metadata": {},
   "outputs": [],
   "source": [
    "###\n",
    "# Enter setup information\n",
    "###\n",
    "folder_path=r\"..\\example\\data\\set_a\" # folder with images\n",
    "misfile_name=\"mymis_calibrated.mis\" # name for save file\n",
    "#\n",
    "calibration_filepath=abspath(r\"..\\example\\data\\set_a\\a_5x.miscal\") # filepath to calibration file `.miscal`\n",
    "    # Important: If you do not have a calibration file then uncomment the next line\n",
    "# calibration_filepath=None\n",
    "#\n",
    "file_ending=\"jpg\" # file extension\n",
    "file_contains=\"\" # file names must contain - i.e. \"sample1-5x\", \"sample2\", \"10x\", etc.\n",
    "file_notcontains=\"\" # file names must not contain - i.e. \"calibration\"\n",
    "#TODO Change not contains to a list of strings to check against.\n",
    "###"
   ]
  },
  {
   "cell_type": "code",
   "execution_count": null,
   "metadata": {},
   "outputs": [],
   "source": [
    "mis_filepath=abspath(join(folder_path,misfile_name))\n",
    "print(f\"Save file filepath: {mis_filepath}\")\n",
    "file_names=[x for x in listdir(folder_path) if x.split(\".\")[-1]==file_ending]\n",
    "if file_contains != \"\":\n",
    "    file_names=[x for x in file_names if file_contains in x]\n",
    "if file_notcontains != \"\":\n",
    "    file_names=[x for x in file_names if file_notcontains not in x]\n",
    "file_paths=[abspath(join(folder_path,x)) for x in file_names]\n",
    "print(\"\\n  \".join([\"Image files and filepaths:\"]+[f\"{fn}: {fp}\" for fn,fp in zip(file_names,file_paths)]))\n",
    "if calibration_filepath is not None:\n",
    "    print(f\"Calibration file filepath: {calibration_filepath}\")"
   ]
  },
  {
   "cell_type": "code",
   "execution_count": null,
   "metadata": {},
   "outputs": [],
   "source": [
    "mis_project=MisFile(image_fps=file_paths,calibration_fp=calibration_filepath)\n",
    "print(mis_project)"
   ]
  },
  {
   "cell_type": "code",
   "execution_count": 6,
   "metadata": {},
   "outputs": [],
   "source": [
    "save_mis(mis_filepath,mis_project)"
   ]
  },
  {
   "cell_type": "markdown",
   "metadata": {},
   "source": [
    "# Advanced Setups"
   ]
  },
  {
   "cell_type": "markdown",
   "metadata": {},
   "source": [
    "## Image Sets"
   ]
  },
  {
   "cell_type": "code",
   "execution_count": 41,
   "metadata": {},
   "outputs": [],
   "source": [
    "###\n",
    "# Enter setup information\n",
    "###\n",
    "folder_path=r\"..\\example\\data\\set_a\" # folder with images\n",
    "misfile_names=[\"mymis1.mis\",\"mymis2.mis\"] # name for save file\n",
    "#\n",
    "file_ending=\"jpg\" # file extension\n",
    "file_contains=\"\" # file names must contain - i.e. \"sample1-5x\", \"sample2\", \"10x\", etc.\n",
    "file_notcontains=\"\" # file names must not contain - i.e. \"calibration\"\n",
    "###"
   ]
  },
  {
   "cell_type": "code",
   "execution_count": null,
   "metadata": {},
   "outputs": [],
   "source": [
    "mis_filepaths=[abspath(join(folder_path,x)) for x in misfile_names]\n",
    "mis_dict={mn:mp for mn,mp in zip(misfile_names,mis_filepaths)}\n",
    "print(\"\\n  \".join([\"Save files and filepaths: \"]+[f\"{mn}: {mp}\" for mn,mp in zip(misfile_names,mis_filepaths)]))\n",
    "file_names=[x for x in listdir(folder_path) if x.split(\".\")[-1]==file_ending]\n",
    "if file_contains != \"\":\n",
    "    file_names=[x for x in file_names if file_contains in x]\n",
    "if file_notcontains != \"\":\n",
    "    file_names=[x for x in file_names if file_notcontains not in x]\n",
    "file_paths=[abspath(join(folder_path,x)) for x in file_names]\n",
    "print(\"\\n  \".join([\"Image index, file names, and filepaths:\"]+[f\"{i} - {fn}: {fp}\" for i,(fn,fp) in enumerate(zip(file_names,file_paths))]))"
   ]
  },
  {
   "cell_type": "code",
   "execution_count": null,
   "metadata": {},
   "outputs": [],
   "source": [
    "# user selected image sets using start and end index\n",
    "image_sets={\n",
    "    \"mymis1.mis\":(0,4),\n",
    "    \"mymis2.mis\":(5,9),\n",
    "}\n",
    "for key,value in image_sets.items():\n",
    "    print(key,file_names[value[0]:value[1]+1])"
   ]
  },
  {
   "cell_type": "code",
   "execution_count": null,
   "metadata": {},
   "outputs": [],
   "source": [
    "for key,value in image_sets.items():\n",
    "    mis_fp=mis_dict[key]\n",
    "    print(mis_fp,\"\\n  \",file_names[value[0]:value[1]+1])\n",
    "    mis_project=MisFile(image_fps=file_paths[value[0]:value[1]+1])\n",
    "    save_mis(mis_fp,mis_project)"
   ]
  },
  {
   "cell_type": "markdown",
   "metadata": {},
   "source": [
    "## SEM Trim & Convert\n",
    "For trimming footer of SEM images and converting into uint8/RGB which is presently needed for further processing"
   ]
  },
  {
   "cell_type": "code",
   "execution_count": null,
   "metadata": {},
   "outputs": [],
   "source": [
    "#TODO Remove need for RGB/uint8 conversion"
   ]
  },
  {
   "cell_type": "code",
   "execution_count": 1,
   "metadata": {},
   "outputs": [],
   "source": [
    "from sys import path as syspath\n",
    "syspath.append(\"..\")"
   ]
  },
  {
   "cell_type": "code",
   "execution_count": 2,
   "metadata": {},
   "outputs": [],
   "source": [
    "from MISalign.model.mis_file import load_mis\n",
    "from PIL import Image as PILImage\n",
    "import numpy as np\n",
    "from shutil import copy2\n",
    "from os.path import split, join\n",
    "from os import mkdir"
   ]
  },
  {
   "cell_type": "code",
   "execution_count": null,
   "metadata": {},
   "outputs": [],
   "source": [
    "mis_fp=r\".mis\"\n",
    "mis_project=load_mis(mis_fp)\n",
    "mis_image_paths=mis_project.get_image_paths()\n",
    "mis_image_paths"
   ]
  },
  {
   "cell_type": "code",
   "execution_count": null,
   "metadata": {},
   "outputs": [],
   "source": [
    "split_mis_fp=split(mis_fp)\n",
    "original_image_folder=join(split_mis_fp[0],\"original_images\")\n",
    "mkdir(original_image_folder)\n",
    "for img_name, img_fp in mis_image_paths.items():\n",
    "    split_img_fp=split(img_fp)\n",
    "    copy_img_fp=join(original_image_folder,split_img_fp[1])\n",
    "    print(img_fp,\" > \",copy_img_fp)\n",
    "    copy2(img_fp,copy_img_fp)"
   ]
  },
  {
   "cell_type": "code",
   "execution_count": 7,
   "metadata": {},
   "outputs": [],
   "source": [
    "pixels_to_trim=248\n",
    "for img_name, img_fp in mis_image_paths.items():\n",
    "    img_arr=np.asarray(PILImage.open(img_fp))\n",
    "    if img_arr.dtype==\"uint16\":\n",
    "        img_arr=(img_arr//256).astype(np.uint8)\n",
    "    img_arr_trimmed=img_arr[:-248]\n",
    "    img_corrected=PILImage.fromarray(img_arr_trimmed).convert('RGB')\n",
    "    img_corrected.save(img_fp)"
   ]
  }
 ],
 "metadata": {
  "kernelspec": {
   "display_name": ".venv",
   "language": "python",
   "name": "python3"
  },
  "language_info": {
   "codemirror_mode": {
    "name": "ipython",
    "version": 3
   },
   "file_extension": ".py",
   "mimetype": "text/x-python",
   "name": "python",
   "nbconvert_exporter": "python",
   "pygments_lexer": "ipython3",
   "version": "3.10.8"
  }
 },
 "nbformat": 4,
 "nbformat_minor": 2
}

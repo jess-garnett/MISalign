{
 "cells": [
  {
   "cell_type": "markdown",
   "metadata": {},
   "source": [
    "# Imports"
   ]
  },
  {
   "cell_type": "code",
   "execution_count": 7,
   "metadata": {},
   "outputs": [],
   "source": [
    "from sys import path as syspath\n",
    "syspath.append(\"..\")"
   ]
  },
  {
   "cell_type": "code",
   "execution_count": 15,
   "metadata": {},
   "outputs": [],
   "source": [
    "from os import listdir\n",
    "from os.path import join, abspath\n",
    "from MISalign.model.mis_file import MisFile,save_mis"
   ]
  },
  {
   "cell_type": "markdown",
   "metadata": {},
   "source": [
    "# Basic Setup"
   ]
  },
  {
   "cell_type": "code",
   "execution_count": 33,
   "metadata": {},
   "outputs": [],
   "source": [
    "###\n",
    "# Enter setup information\n",
    "###\n",
    "folder_path=r\"..\\example\\data\\set_a\" # folder with images\n",
    "misfile_name=\"mymis.mis\" # name for save file\n",
    "#\n",
    "file_ending=\"jpg\" # file extension\n",
    "file_contains=\"\" # file names must contain - i.e. \"sample1-5x\", \"sample2\", \"10x\", etc.\n",
    "file_notcontains=\"\" # file names must not contain - i.e. \"calibration\"\n",
    "###"
   ]
  },
  {
   "cell_type": "code",
   "execution_count": null,
   "metadata": {},
   "outputs": [],
   "source": [
    "mis_filepath=abspath(join(folder_path,misfile_name))\n",
    "print(f\"Save file filepath: {mis_filepath}\")\n",
    "file_names=[x for x in listdir(folder_path) if x.split(\".\")[-1]==file_ending]\n",
    "if file_contains != \"\":\n",
    "    file_names=[x for x in file_names if file_contains in x]\n",
    "if file_notcontains != \"\":\n",
    "    file_names=[x for x in file_names if file_notcontains not in x]\n",
    "file_paths=[abspath(join(folder_path,x)) for x in file_names]\n",
    "print(\"\\n  \".join([\"Image files and filepaths:\"]+[f\"{fn}: {fp}\" for fn,fp in zip(file_names,file_paths)]))"
   ]
  },
  {
   "cell_type": "code",
   "execution_count": null,
   "metadata": {},
   "outputs": [],
   "source": [
    "mis_project=MisFile(image_fps=file_paths)\n",
    "print(mis_project)\n",
    "save_mis(mis_filepath,mis_project)"
   ]
  },
  {
   "cell_type": "markdown",
   "metadata": {},
   "source": [
    "# Advanced Setups"
   ]
  },
  {
   "cell_type": "markdown",
   "metadata": {},
   "source": [
    "## Image Sets"
   ]
  },
  {
   "cell_type": "code",
   "execution_count": 41,
   "metadata": {},
   "outputs": [],
   "source": [
    "###\n",
    "# Enter setup information\n",
    "###\n",
    "folder_path=r\"..\\example\\data\\set_a\" # folder with images\n",
    "misfile_names=[\"mymis1.mis\",\"mymis2.mis\"] # name for save file\n",
    "#\n",
    "file_ending=\"jpg\" # file extension\n",
    "file_contains=\"\" # file names must contain - i.e. \"sample1-5x\", \"sample2\", \"10x\", etc.\n",
    "file_notcontains=\"\" # file names must not contain - i.e. \"calibration\"\n",
    "###"
   ]
  },
  {
   "cell_type": "code",
   "execution_count": null,
   "metadata": {},
   "outputs": [],
   "source": [
    "mis_filepaths=[abspath(join(folder_path,x)) for x in misfile_names]\n",
    "mis_dict={mn:mp for mn,mp in zip(misfile_names,mis_filepaths)}\n",
    "print(\"\\n  \".join([\"Save files and filepaths: \"]+[f\"{mn}: {mp}\" for mn,mp in zip(misfile_names,mis_filepaths)]))\n",
    "file_names=[x for x in listdir(folder_path) if x.split(\".\")[-1]==file_ending]\n",
    "if file_contains != \"\":\n",
    "    file_names=[x for x in file_names if file_contains in x]\n",
    "if file_notcontains != \"\":\n",
    "    file_names=[x for x in file_names if file_notcontains not in x]\n",
    "file_paths=[abspath(join(folder_path,x)) for x in file_names]\n",
    "print(\"\\n  \".join([\"Image index, file names, and filepaths:\"]+[f\"{i} - {fn}: {fp}\" for i,(fn,fp) in enumerate(zip(file_names,file_paths))]))"
   ]
  },
  {
   "cell_type": "code",
   "execution_count": null,
   "metadata": {},
   "outputs": [],
   "source": [
    "# user selected image sets using start and end index\n",
    "image_sets={\n",
    "    \"mymis1.mis\":(0,4),\n",
    "    \"mymis2.mis\":(5,9),\n",
    "}\n",
    "for key,value in image_sets.items():\n",
    "    print(key,file_names[value[0]:value[1]+1])"
   ]
  },
  {
   "cell_type": "code",
   "execution_count": null,
   "metadata": {},
   "outputs": [],
   "source": [
    "for key,value in image_sets.items():\n",
    "    mis_fp=mis_dict[key]\n",
    "    print(mis_fp,\"\\n  \",file_names[value[0]:value[1]+1])\n",
    "    mis_project=MisFile(image_fps=file_paths[value[0]:value[1]+1])\n",
    "    save_mis(mis_fp,mis_project)"
   ]
  }
 ],
 "metadata": {
  "kernelspec": {
   "display_name": ".venv",
   "language": "python",
   "name": "python3"
  },
  "language_info": {
   "codemirror_mode": {
    "name": "ipython",
    "version": 3
   },
   "file_extension": ".py",
   "mimetype": "text/x-python",
   "name": "python",
   "nbconvert_exporter": "python",
   "pygments_lexer": "ipython3",
   "version": "3.10.8"
  }
 },
 "nbformat": 4,
 "nbformat_minor": 2
}

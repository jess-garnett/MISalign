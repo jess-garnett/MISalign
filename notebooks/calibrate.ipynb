{
 "cells": [
  {
   "cell_type": "markdown",
   "metadata": {},
   "source": [
    "# Imports"
   ]
  },
  {
   "cell_type": "code",
   "execution_count": 1,
   "metadata": {},
   "outputs": [],
   "source": [
    "from sys import path as syspath\n",
    "syspath.append(\"..\")"
   ]
  },
  {
   "cell_type": "code",
   "execution_count": 2,
   "metadata": {},
   "outputs": [],
   "source": [
    "from MISalign.calibration.calibrate import CalibrationManual\n",
    "%matplotlib widget"
   ]
  },
  {
   "cell_type": "markdown",
   "metadata": {},
   "source": [
    "# Basic Calibration\n",
    "- Load image with reference dimension.\n",
    "- Specify known length measurement.\n",
    "- Select matching pairs of points.\n",
    "- Resolve distance between points.\n",
    "- Save calibration to `.miscal` file."
   ]
  },
  {
   "cell_type": "code",
   "execution_count": null,
   "metadata": {},
   "outputs": [],
   "source": [
    "cm=CalibrationManual(r\"..\\example\\data\\set_a\\a_5x_scale_1mm.bmp\")\n",
    "cm.calibrate_measurement(1,\"mm\")\n",
    "cm.calibrate_pixels()"
   ]
  },
  {
   "cell_type": "code",
   "execution_count": null,
   "metadata": {},
   "outputs": [],
   "source": [
    "cm.calibrate_pixels_resolve()"
   ]
  },
  {
   "cell_type": "code",
   "execution_count": null,
   "metadata": {},
   "outputs": [],
   "source": [
    "cm.print_pixels_per_length()\n",
    "cm.print_length_per_pixel()"
   ]
  },
  {
   "cell_type": "code",
   "execution_count": 7,
   "metadata": {},
   "outputs": [],
   "source": [
    "cm.save_calibration(r\"..\\example\\data\\set_a\\a_5x.miscal\")"
   ]
  },
  {
   "cell_type": "markdown",
   "metadata": {},
   "source": [
    "## Confirm Calibration\n",
    "- Optional\n",
    "- Load calibration from file to check saved values."
   ]
  },
  {
   "cell_type": "code",
   "execution_count": null,
   "metadata": {},
   "outputs": [],
   "source": [
    "cm2=CalibrationManual()\n",
    "cm2.load_calibration(r\"..\\example\\data\\set_a\\a_5x.miscal\")\n",
    "cm2.print_pixels_per_length()\n",
    "cm2.print_length_per_pixel()\n",
    "print(cm2.distances)"
   ]
  }
 ],
 "metadata": {
  "kernelspec": {
   "display_name": ".venv",
   "language": "python",
   "name": "python3"
  },
  "language_info": {
   "codemirror_mode": {
    "name": "ipython",
    "version": 3
   },
   "file_extension": ".py",
   "mimetype": "text/x-python",
   "name": "python",
   "nbconvert_exporter": "python",
   "pygments_lexer": "ipython3",
   "version": "3.10.8"
  }
 },
 "nbformat": 4,
 "nbformat_minor": 2
}

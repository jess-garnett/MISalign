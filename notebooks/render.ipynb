{
 "cells": [
  {
   "cell_type": "markdown",
   "metadata": {},
   "source": [
    "# Imports"
   ]
  },
  {
   "cell_type": "code",
   "execution_count": null,
   "metadata": {},
   "outputs": [],
   "source": [
    "from sys import path as syspath\n",
    "syspath.append(\"..\")"
   ]
  },
  {
   "cell_type": "code",
   "execution_count": null,
   "metadata": {},
   "outputs": [],
   "source": [
    "from MISalign.model.mis_file import MisFile,load_mis\n",
    "from MISalign.canvas.canvas_solve import rectangular_solve\n",
    "import MISalign.canvas.canvas_render as cr"
   ]
  },
  {
   "cell_type": "markdown",
   "metadata": {},
   "source": [
    "# Render Setup"
   ]
  },
  {
   "cell_type": "code",
   "execution_count": null,
   "metadata": {},
   "outputs": [],
   "source": [
    "###\n",
    "mis_filepath=r\"..\\example\\data\\set_a\\mymis.mis\"\n",
    "mis_project=load_mis(mis_filepath)\n",
    "auto_save_renders=False\n",
    "###\n"
   ]
  },
  {
   "cell_type": "code",
   "execution_count": null,
   "metadata": {},
   "outputs": [],
   "source": [
    "relations=mis_project.get_rels('r')\n",
    "image_names=mis_project.get_image_names()\n",
    "origin=image_names[0]\n",
    "origin_relative_offsets=rectangular_solve(\n",
    "    relations=relations,\n",
    "    image_names=image_names,\n",
    "    origin=origin\n",
    ")\n",
    "print(\"Origin-relative offsets\")\n",
    "display(origin_relative_offsets)\n",
    "image_filepaths=mis_project.get_image_paths()\n",
    "image_sizes=cr.find_image_sizes(image_filepaths)\n",
    "origin_relative_extents=cr.find_relative_extents(\n",
    "    image_names=image_names,\n",
    "    origin_relative_offsets=origin_relative_offsets,\n",
    "    image_sizes=image_sizes)\n",
    "canvas_extents, canvas_offsets=cr.resolve_extents(origin_relative_extents)\n",
    "canvas_relative_offsets=cr.place_in_canvas(\n",
    "    image_names,\n",
    "    origin_relative_offsets,\n",
    "    canvas_extents,\n",
    "    canvas_offsets)\n",
    "print(\"Canvas-relative offsets\")\n",
    "display(canvas_relative_offsets)\n"
   ]
  },
  {
   "cell_type": "markdown",
   "metadata": {},
   "source": [
    "## Render Unblended"
   ]
  },
  {
   "cell_type": "code",
   "execution_count": null,
   "metadata": {},
   "outputs": [],
   "source": [
    "unblended_canvas=cr.render_unblended(\n",
    "    image_names,\n",
    "    image_filepaths,\n",
    "    image_sizes,\n",
    "    canvas_relative_offsets,\n",
    "    canvas_extents)\n",
    "display(unblended_canvas)\n",
    "if auto_save_renders:\n",
    "    unblended_save_fp=mis_filepath.replace(\".mis\",\"-unblend.png\")\n",
    "    unblended_canvas.save(unblended_save_fp)"
   ]
  },
  {
   "cell_type": "markdown",
   "metadata": {},
   "source": [
    "## Render Blended"
   ]
  },
  {
   "cell_type": "code",
   "execution_count": null,
   "metadata": {},
   "outputs": [],
   "source": [
    "dfe_normalizer=cr.build_normalization(\n",
    "    image_names,\n",
    "    image_sizes,\n",
    "    canvas_relative_offsets,\n",
    "    canvas_extents,\n",
    "    cr.weight_dfe)\n",
    "blended_canvas_dfe=cr.render_blended(\n",
    "    image_names,\n",
    "    image_filepaths,\n",
    "    image_sizes,\n",
    "    canvas_relative_offsets,\n",
    "    canvas_extents,\n",
    "    cr.weight_dfe,\n",
    "    dfe_normalizer)\n",
    "display(blended_canvas_dfe)\n",
    "if auto_save_renders:\n",
    "    blended_save_fp=mis_filepath.replace(\".mis\",\"-blend.png\")\n",
    "    blended_canvas_dfe.save(blended_save_fp)"
   ]
  }
 ],
 "metadata": {
  "language_info": {
   "name": "python"
  }
 },
 "nbformat": 4,
 "nbformat_minor": 2
}

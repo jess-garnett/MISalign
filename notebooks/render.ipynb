{
 "cells": [
  {
   "cell_type": "markdown",
   "metadata": {},
   "source": [
    "# Imports"
   ]
  },
  {
   "cell_type": "code",
   "execution_count": 1,
   "metadata": {},
   "outputs": [],
   "source": [
    "from sys import path as syspath\n",
    "syspath.append(\"..\")"
   ]
  },
  {
   "cell_type": "code",
   "execution_count": 2,
   "metadata": {},
   "outputs": [],
   "source": [
    "from MISalign.model.mis_file import MisFile,load_mis\n",
    "from MISalign.canvas.canvas_solve import rectangular_solve\n",
    "import MISalign.canvas.canvas_render as cr"
   ]
  },
  {
   "cell_type": "markdown",
   "metadata": {},
   "source": [
    "# Render Setup"
   ]
  },
  {
   "cell_type": "code",
   "execution_count": 18,
   "metadata": {},
   "outputs": [],
   "source": [
    "###\n",
    "mis_filepath=r\"..\\example\\data\\set_a\\mymis_calibrated.mis\"\n",
    "mis_project=load_mis(mis_filepath)\n",
    "auto_save_renders=False\n",
    "###\n"
   ]
  },
  {
   "cell_type": "code",
   "execution_count": null,
   "metadata": {},
   "outputs": [],
   "source": [
    "relations=mis_project.get_rels('r')\n",
    "image_names=mis_project.get_image_names()\n",
    "origin=image_names[0]\n",
    "origin_relative_offsets=rectangular_solve(\n",
    "    relations=relations,\n",
    "    image_names=image_names,\n",
    "    origin=origin\n",
    ")\n",
    "print(\"Origin-relative offsets\")\n",
    "display(origin_relative_offsets)\n",
    "image_filepaths=mis_project.get_image_paths()\n",
    "image_sizes=cr.find_image_sizes(image_filepaths)\n",
    "origin_relative_extents=cr.find_relative_extents(\n",
    "    image_names=image_names,\n",
    "    origin_relative_offsets=origin_relative_offsets,\n",
    "    image_sizes=image_sizes)\n",
    "canvas_extents, canvas_offsets=cr.resolve_extents(origin_relative_extents)\n",
    "canvas_relative_offsets=cr.place_in_canvas(\n",
    "    image_names,\n",
    "    origin_relative_offsets,\n",
    "    canvas_extents,\n",
    "    canvas_offsets)\n",
    "print(\"Canvas-relative offsets\")\n",
    "display(canvas_relative_offsets)\n"
   ]
  },
  {
   "cell_type": "markdown",
   "metadata": {},
   "source": [
    "## Render Unblended"
   ]
  },
  {
   "cell_type": "code",
   "execution_count": null,
   "metadata": {},
   "outputs": [],
   "source": [
    "unblended_canvas=cr.render_unblended(\n",
    "    image_names,\n",
    "    image_filepaths,\n",
    "    image_sizes,\n",
    "    canvas_relative_offsets,\n",
    "    canvas_extents)\n",
    "display(unblended_canvas)\n",
    "if auto_save_renders:\n",
    "    unblended_save_fp=mis_filepath.replace(\".mis\",\"-unblend.png\")\n",
    "    unblended_canvas.save(unblended_save_fp)"
   ]
  },
  {
   "cell_type": "markdown",
   "metadata": {},
   "source": [
    "## Render Blended"
   ]
  },
  {
   "cell_type": "code",
   "execution_count": null,
   "metadata": {},
   "outputs": [],
   "source": [
    "dfe_normalizer=cr.build_normalization(\n",
    "    image_names,\n",
    "    image_sizes,\n",
    "    canvas_relative_offsets,\n",
    "    canvas_extents,\n",
    "    cr.weight_dfe)\n",
    "blended_canvas_dfe=cr.render_blended(\n",
    "    image_names,\n",
    "    image_filepaths,\n",
    "    image_sizes,\n",
    "    canvas_relative_offsets,\n",
    "    canvas_extents,\n",
    "    cr.weight_dfe,\n",
    "    dfe_normalizer)\n",
    "display(blended_canvas_dfe)\n",
    "if auto_save_renders:\n",
    "    blended_save_fp=mis_filepath.replace(\".mis\",\"-blend.png\")\n",
    "    blended_canvas_dfe.save(blended_save_fp)"
   ]
  },
  {
   "cell_type": "markdown",
   "metadata": {},
   "source": [
    "# Image Scale Bar\n",
    "Note: You must still run the 1st cell to enable importing from MISalign."
   ]
  },
  {
   "cell_type": "code",
   "execution_count": 2,
   "metadata": {},
   "outputs": [],
   "source": [
    "from MISalign.calibration.scale_bar import image_with_scale_bar,scale_bar_calibrate,save_calibrated_image\n",
    "from MISalign.calibration.calibrate import CalibrationManual\n",
    "from PIL.Image import ROTATE_90,ROTATE_180,ROTATE_270,FLIP_LEFT_RIGHT,FLIP_TOP_BOTTOM\n",
    "%matplotlib widget"
   ]
  },
  {
   "cell_type": "code",
   "execution_count": 4,
   "metadata": {},
   "outputs": [],
   "source": [
    "## Select image, it can be either a filepath to an image or a PIL Image object.\n",
    "###\n",
    "selected_image=r\"..\\example\\expected_result\\set_a\\a_mycanvas_blend.jpg\"\n",
    "# selected_image=blended_canvas_dfe\n",
    "# selected_image=unblended_canvas\n",
    "###\n",
    "\n",
    "## Tranpose selected PIL Image object if needed.\n",
    "# selected_image=selected_image.transpose(FLIP_LEFT_RIGHT)\n",
    "# selected_image=selected_image.transpose(FLIP_TOP_BOTTOM)\n",
    "# selected_image=selected_image.transpose(ROTATE_90)\n",
    "# selected_image=selected_image.transpose(ROTATE_180)\n",
    "# selected_image=selected_image.transpose(ROTATE_270)\n",
    "\n",
    "###\n",
    "# selected_calibration=mis_project.calibration\n",
    "#\n",
    "calibration_path=r\"..\\example\\data\\set_a\\a_5x.miscal\"\n",
    "cm=CalibrationManual()\n",
    "cm.load_calibration(calibration_path)\n",
    "selected_calibration=cm.distances\n",
    "###\n"
   ]
  },
  {
   "cell_type": "code",
   "execution_count": null,
   "metadata": {},
   "outputs": [],
   "source": [
    "image_with_scale_bar(\n",
    "    image=selected_image,\n",
    "    scale_measurement=\"1mm\",\n",
    "    calibration=selected_calibration,\n",
    "    loc=\"upper left\")"
   ]
  },
  {
   "cell_type": "code",
   "execution_count": 8,
   "metadata": {},
   "outputs": [],
   "source": [
    "scaled_dpi=1000\n",
    "# Increasing this DPI makes the above image smaller\n",
    "# As a result, increasing the DPI makes the scale bar text/box larger relative to the image.\n",
    "# Changing this DPI does not effect the resolution of the final image\n",
    "#\n",
    "scale_bar_calibrate(scale_dpi=scaled_dpi)"
   ]
  },
  {
   "cell_type": "code",
   "execution_count": 40,
   "metadata": {},
   "outputs": [],
   "source": [
    "if type(selected_image) is str:\n",
    "    split_fp=selected_image.split(\".\")\n",
    "    scalebar_save_fp=split_fp[0]+\"-scale.\"+split_fp[1]\n",
    "else:\n",
    "    scalebar_save_fp=mis_filepath.replace(\".mis\",\"-scale.png\")\n",
    "save_calibrated_image(scalebar_save_fp,scale_dpi=scaled_dpi)"
   ]
  }
 ],
 "metadata": {
  "kernelspec": {
   "display_name": ".venv",
   "language": "python",
   "name": "python3"
  },
  "language_info": {
   "codemirror_mode": {
    "name": "ipython",
    "version": 3
   },
   "file_extension": ".py",
   "mimetype": "text/x-python",
   "name": "python",
   "nbconvert_exporter": "python",
   "pygments_lexer": "ipython3",
   "version": "3.10.8"
  }
 },
 "nbformat": 4,
 "nbformat_minor": 2
}

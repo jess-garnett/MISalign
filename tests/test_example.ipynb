{
 "cells": [
  {
   "cell_type": "markdown",
   "metadata": {},
   "source": [
    "# Notebook for generating example results."
   ]
  },
  {
   "cell_type": "code",
   "execution_count": 1,
   "metadata": {},
   "outputs": [],
   "source": [
    "import sys\n",
    "import os\n",
    "sys.path.insert(0, os.path.abspath(\"..\"))  # Repository directory relative to this file."
   ]
  },
  {
   "cell_type": "markdown",
   "metadata": {},
   "source": [
    "## test_model_image.py"
   ]
  },
  {
   "cell_type": "code",
   "execution_count": 9,
   "metadata": {},
   "outputs": [],
   "source": [
    "from MISalign.model.image import Image\n",
    "import numpy as np\n",
    "test_img_a01=r\"..\\example\\data\\set_a\\a_myimages01.jpg\"\n",
    "test_image=Image(test_img_a01)"
   ]
  },
  {
   "cell_type": "code",
   "execution_count": null,
   "metadata": {},
   "outputs": [],
   "source": [
    "test_dfe_arr_fp=r\"..\\example\\expected_result\\set_a\\dfe_rectangular.npy\"\n",
    "np.save(test_dfe_arr_fp,test_image.dfe_arr())"
   ]
  },
  {
   "cell_type": "code",
   "execution_count": 11,
   "metadata": {},
   "outputs": [],
   "source": [
    "test_img_arr_fp=r\"..\\example\\expected_result\\set_a\\img_a01.npy\"\n",
    "np.save(test_img_arr_fp,test_image.img_arr())"
   ]
  },
  {
   "cell_type": "markdown",
   "metadata": {},
   "source": [
    "# test_model_mis_file.py"
   ]
  },
  {
   "cell_type": "code",
   "execution_count": 2,
   "metadata": {},
   "outputs": [],
   "source": [
    "from MISalign.model.mis_file import MisFile,save_mis,load_mis\n",
    "from MISalign.model.relation import Relation\n",
    "\n",
    "test_mis_none=MisFile()\n",
    "\n",
    "test_image_fps=[\"test_a.png\",\"test_b.png\",\"test_c.png\"]\n",
    "test_mis_img=MisFile(image_fps=test_image_fps)\n",
    "\n",
    "test_relations=[Relation(\"test_a.png\",\"test_b.png\"),Relation(\"test_b.png\",\"test_c.png\")]\n",
    "test_mis_rel=MisFile(relations=test_relations)\n",
    "\n",
    "test_image_fps=[\"test_a.png\",\"test_b.png\",\"test_c.png\"]\n",
    "test_relations=[Relation(\"test_a.png\",\"test_b.png\"),Relation(\"test_b.png\",\"test_c.png\")]\n",
    "test_mis_img_rel=MisFile(image_fps=test_image_fps,relations=test_relations)\n",
    "\n",
    "\n",
    "save_mis(r\"..\\example\\expected_result\\test\\none.mis\",test_mis_none)\n",
    "save_mis(r\"..\\example\\expected_result\\test\\img.mis\",test_mis_img)\n",
    "save_mis(r\"..\\example\\expected_result\\test\\rel.mis\",test_mis_rel)\n",
    "save_mis(r\"..\\example\\expected_result\\test\\img_rel.mis\",test_mis_img_rel)\n"
   ]
  },
  {
   "cell_type": "code",
   "execution_count": 4,
   "metadata": {},
   "outputs": [
    {
     "name": "stdout",
     "output_type": "stream",
     "text": [
      "An empty MISalign project.\n",
      "A MISalign project with:[['test_a.png', 'test_b.png', 'test_c.png'], None, None]\n",
      "A MISalign project with:[None, [('test_a.png', 'test_b.png'), ('test_b.png', 'test_c.png')], None]\n",
      "A MISalign project with:[['test_a.png', 'test_b.png', 'test_c.png'], [('test_a.png', 'test_b.png'), ('test_b.png', 'test_c.png')], None]\n"
     ]
    }
   ],
   "source": [
    "print(load_mis(r\"..\\example\\expected_result\\test\\none.mis\"))\n",
    "print(load_mis(r\"..\\example\\expected_result\\test\\img.mis\"))\n",
    "print(load_mis(r\"..\\example\\expected_result\\test\\rel.mis\"))\n",
    "print(load_mis(r\"..\\example\\expected_result\\test\\img_rel.mis\"))"
   ]
  },
  {
   "cell_type": "markdown",
   "metadata": {},
   "source": [
    "# project_service.py deprecation"
   ]
  },
  {
   "cell_type": "code",
   "execution_count": 2,
   "metadata": {},
   "outputs": [],
   "source": [
    "from os import getcwd\n",
    "from MISalign.model.project_service import load_from_mis\n",
    "ref_old_proj=\"../example/data/set_a/a_myproject_full.mis\"\n",
    "test_old_project=load_from_mis(ref_old_proj)"
   ]
  },
  {
   "cell_type": "code",
   "execution_count": 3,
   "metadata": {},
   "outputs": [
    {
     "data": {
      "text/plain": [
       "{'a_myimages04.jpg': <MISalign.model.offset.Offset at 0x15d7e5877f0>,\n",
       " 'a_myimages02.jpg': <MISalign.model.offset.Offset at 0x15d7eb2bcd0>,\n",
       " 'a_myimages01.jpg': <MISalign.model.offset.Offset at 0x15d7eb2bb50>,\n",
       " 'a_myimages03.jpg': <MISalign.model.offset.Offset at 0x15d7eb2bc70>}"
      ]
     },
     "metadata": {},
     "output_type": "display_data"
    },
    {
     "data": {
      "text/plain": [
       "'c:\\\\Users\\\\drago\\\\Documents\\\\MISaligned\\\\MISalign_public\\\\example\\\\data\\\\set_a'"
      ]
     },
     "metadata": {},
     "output_type": "display_data"
    }
   ],
   "source": [
    "display(test_old_project.offsets)\n",
    "display(getcwd())"
   ]
  },
  {
   "cell_type": "code",
   "execution_count": 4,
   "metadata": {},
   "outputs": [],
   "source": [
    "from MISalign.model.project_service import deprecate_project_offset_mis\n",
    "ref_old_proj=\"./a_myproject_full.mis\"\n",
    "new_misfile=deprecate_project_offset_mis(ref_old_proj)"
   ]
  },
  {
   "cell_type": "code",
   "execution_count": 5,
   "metadata": {},
   "outputs": [
    {
     "name": "stdout",
     "output_type": "stream",
     "text": [
      "A MISalign project with:[['a_myimages02.jpg', 'a_myimages03.jpg', 'a_myimages04.jpg', 'a_myimages01.jpg'], [[('a_myimages02.jpg', 'a_myimages01.jpg')], [('a_myimages03.jpg', 'a_myimages02.jpg')], [('a_myimages04.jpg', 'a_myimages03.jpg')], [('a_myimages01.jpg', 'a_myimages01.jpg')]], None]\n"
     ]
    }
   ],
   "source": [
    "print(new_misfile)"
   ]
  },
  {
   "cell_type": "code",
   "execution_count": 6,
   "metadata": {},
   "outputs": [
    {
     "name": "stdout",
     "output_type": "stream",
     "text": [
      "[[('a_myimages02.jpg', 'a_myimages01.jpg'), (-9, 1087)], [('a_myimages03.jpg', 'a_myimages02.jpg'), (-8, 1144)], [('a_myimages04.jpg', 'a_myimages03.jpg'), (122, 1061)], [('a_myimages01.jpg', 'a_myimages01.jpg'), (0, 0)]]\n"
     ]
    }
   ],
   "source": [
    "print(new_misfile.get_rels(relation='r'))"
   ]
  }
 ],
 "metadata": {
  "kernelspec": {
   "display_name": ".venv",
   "language": "python",
   "name": "python3"
  },
  "language_info": {
   "codemirror_mode": {
    "name": "ipython",
    "version": 3
   },
   "file_extension": ".py",
   "mimetype": "text/x-python",
   "name": "python",
   "nbconvert_exporter": "python",
   "pygments_lexer": "ipython3",
   "version": "3.10.8"
  },
  "orig_nbformat": 4
 },
 "nbformat": 4,
 "nbformat_minor": 2
}
